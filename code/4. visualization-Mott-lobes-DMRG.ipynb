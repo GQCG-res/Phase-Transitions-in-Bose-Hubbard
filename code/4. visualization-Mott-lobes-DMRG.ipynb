{
 "cells": [
  {
   "cell_type": "code",
   "execution_count": 1,
   "metadata": {},
   "outputs": [],
   "source": [
    "import prototypes.BoseHubbardModel as bh\n",
    "import numpy as np\n",
    "import pandas as pd\n",
    "import scipy.optimize as opt\n",
    "import plotly\n",
    "import plotly.graph_objects as go\n",
    "import time"
   ]
  },
  {
   "attachments": {},
   "cell_type": "markdown",
   "metadata": {},
   "source": [
    "## Data Mott-Lobe 1"
   ]
  },
  {
   "cell_type": "code",
   "execution_count": 2,
   "metadata": {},
   "outputs": [],
   "source": [
    "E_0 = [0.0, -0.634591901228168, -2.5333821334683364, -5.680759752717551, -10.048571929390501, -15.593088245469074, -22.251101777920873, -29.935629412748753, -38.532149240607225]\n",
    "E_p = [2.0, 1.1798180549771753, -0.9128327883258723, -4.248831295987401, -8.797522509010784, -14.516818893036397, -21.33921561201061, -29.176557851256234, -37.92976389476115]\n",
    "E_m = [0.0, -0.7229927473036248, -2.703191464536636, -5.9220758952231005, -10.350406080721447, -15.942337603582372, -22.63070415024605, -30.330416292426126, -38.91960134858682]\n",
    "\n",
    "E_0_2 = [-48.320645880888414, -58.391943959633224, -68.90902516136443, -79.74084133468047, -90.80593601910887, -102.05672367314561, -113.45890036917505, -124.9866224917049]\n",
    "E_p_2 = [-47.82931949925689, -58.018950809459234, -68.62878566223685, -79.54451321820997, -90.69271921490956, -102.02898340684511, -113.51714068414817, -125.13221836066019]\n",
    "E_m_2 = [-48.69106025175951, -58.720818421694105, -69.16999486864717, -79.92052838154046, -90.90355883007109, -102.06999388901491, -113.38631938483077, -124.82716039020944]\n"
   ]
  },
  {
   "cell_type": "code",
   "execution_count": 3,
   "metadata": {},
   "outputs": [],
   "source": [
    "for i in range(len(E_0_2)):\n",
    "    E_0.append(E_0_2[i])\n",
    "    E_p.append(E_p_2[i])\n",
    "    E_m.append(E_m_2[i])"
   ]
  },
  {
   "cell_type": "code",
   "execution_count": 4,
   "metadata": {},
   "outputs": [
    {
     "data": {
      "text/plain": [
       "[0.0,\n",
       " -0.634591901228168,\n",
       " -2.5333821334683364,\n",
       " -5.680759752717551,\n",
       " -10.048571929390501,\n",
       " -15.593088245469074,\n",
       " -22.251101777920873,\n",
       " -29.935629412748753,\n",
       " -38.532149240607225,\n",
       " -48.320645880888414,\n",
       " -58.391943959633224,\n",
       " -68.90902516136443,\n",
       " -79.74084133468047,\n",
       " -90.80593601910887,\n",
       " -102.05672367314561,\n",
       " -113.45890036917505,\n",
       " -124.9866224917049]"
      ]
     },
     "execution_count": 4,
     "metadata": {},
     "output_type": "execute_result"
    }
   ],
   "source": [
    "E_0"
   ]
  },
  {
   "cell_type": "code",
   "execution_count": 5,
   "metadata": {},
   "outputs": [],
   "source": [
    "t_values = np.arange(0, 0.81, 0.05)"
   ]
  },
  {
   "cell_type": "code",
   "execution_count": 6,
   "metadata": {},
   "outputs": [],
   "source": [
    "df_0 = pd.DataFrame({\"energy\": E_0})\n",
    "df_0[\"particles\"] = 128\n",
    "df_0[\"t_val\"] = t_values"
   ]
  },
  {
   "cell_type": "code",
   "execution_count": 7,
   "metadata": {},
   "outputs": [],
   "source": [
    "df_p1 = pd.DataFrame({\"energy\": E_p})\n",
    "df_p1[\"particles\"] = 129\n",
    "df_p1[\"t_val\"] = t_values"
   ]
  },
  {
   "cell_type": "code",
   "execution_count": 8,
   "metadata": {},
   "outputs": [],
   "source": [
    "df_m = pd.DataFrame({\"energy\": E_m})\n",
    "df_m[\"particles\"] = 127\n",
    "df_m[\"t_val\"] = t_values"
   ]
  },
  {
   "cell_type": "code",
   "execution_count": 9,
   "metadata": {},
   "outputs": [],
   "source": [
    "mott_lobe_1 = [df_0, df_p1, df_m]"
   ]
  },
  {
   "attachments": {},
   "cell_type": "markdown",
   "metadata": {},
   "source": [
    "## Data Mott-Lobe 2"
   ]
  },
  {
   "cell_type": "code",
   "execution_count": 10,
   "metadata": {},
   "outputs": [],
   "source": [
    "E0_2 = pd.read_json(r'./MPS_groundstate/data/mott-lobe-2-E0.json')\n",
    "Ep_2 = pd.read_json(r'./MPS_groundstate/data/mott-lobe-2-Ep1.json')\n",
    "Em_2 = pd.read_json(r'./MPS_groundstate/data/mott-lobe-2-Em1.json')"
   ]
  },
  {
   "cell_type": "code",
   "execution_count": 11,
   "metadata": {},
   "outputs": [],
   "source": [
    "mott_lobe_2 = [E0_2, Ep_2, Em_2]"
   ]
  },
  {
   "attachments": {},
   "cell_type": "markdown",
   "metadata": {},
   "source": [
    "## Data Mott Lobe 3"
   ]
  },
  {
   "cell_type": "code",
   "execution_count": 12,
   "metadata": {},
   "outputs": [],
   "source": [
    "E0_3 = pd.read_json(r'./MPS_groundstate/data/mott-lobe-3-E0.json')\n",
    "Ep_3 = pd.read_json(r'./MPS_groundstate/data/mott-lobe-3-Ep1.json')\n",
    "Em_3 = pd.read_json(r'./MPS_groundstate/data/mott-lobe-3-Em1.json')"
   ]
  },
  {
   "cell_type": "code",
   "execution_count": 13,
   "metadata": {},
   "outputs": [],
   "source": [
    "mott_lobe_3 = [E0_3, Ep_3, Em_3]"
   ]
  },
  {
   "attachments": {},
   "cell_type": "markdown",
   "metadata": {},
   "source": [
    "## Visualize"
   ]
  },
  {
   "cell_type": "code",
   "execution_count": 20,
   "metadata": {},
   "outputs": [],
   "source": [
    "def plot(mott_lobe_1_list, mott_lobe_2_list, mott_lobe_3_list, t_values):\n",
    "    # prepare data: mott lobe 1\n",
    "    mu_up_1 = []\n",
    "    mu_low_1 = []\n",
    "    for i in range(len(mott_lobe_1_list[0])):\n",
    "        mu_up_1.append((mott_lobe_1_list[1].loc[i, \"energy\"] - mott_lobe_1_list[0].loc[i, \"energy\"])/2)\n",
    "        mu_low_1.append((mott_lobe_1_list[0].loc[i, \"energy\"] - mott_lobe_1_list[2].loc[i, \"energy\"])/2)\n",
    "\n",
    "    # prepare data: mott lobe 2\n",
    "    mu_up_2 = []\n",
    "    mu_low_2 = []\n",
    "    for i in range(len(mott_lobe_2_list[0])):\n",
    "        mu_up_2.append((mott_lobe_2_list[1].loc[i, \"energy\"] - mott_lobe_2_list[0].loc[i, \"energy\"])/2)\n",
    "        mu_low_2.append((mott_lobe_2_list[0].loc[i, \"energy\"] - mott_lobe_2_list[2].loc[i, \"energy\"])/2)\n",
    "\n",
    "    # prepare data: mott lobe 3\n",
    "    # prepare data: mott lobe 2\n",
    "    mu_up_3 = []\n",
    "    mu_low_3 = []\n",
    "    for i in range(len(mott_lobe_3_list[0])):\n",
    "        mu_up_3.append((mott_lobe_3_list[1].loc[i, \"energy\"] - mott_lobe_3_list[0].loc[i, \"energy\"])/2)\n",
    "        mu_low_3.append((mott_lobe_3_list[0].loc[i, \"energy\"] - mott_lobe_3_list[2].loc[i, \"energy\"])/2)\n",
    "\n",
    "    ts = t_values/2\n",
    "\n",
    "    figure = go.Figure()\n",
    "    colors = plotly.colors.DEFAULT_PLOTLY_COLORS\n",
    "    \n",
    "    figure.add_trace(go.Scatter(\n",
    "        name= 'ρ<sub>site</sub>=1',\n",
    "        mode = 'markers+lines',\n",
    "        marker=dict(color=colors[0].replace(\")\", \"\").replace(\"rgb\", \"rgba\")+', 1)', size=5),\n",
    "        line=dict(color=colors[0].replace(\")\", \"\").replace(\"rgb\", \"rgba\")+', 0.3)', width=5),\n",
    "        x = ts,\n",
    "        y = mu_up_1[:14]))\n",
    "\n",
    "    figure.add_trace(go.Scatter(\n",
    "        mode = 'markers+lines',\n",
    "        marker=dict(color=colors[0].replace(\")\", \"\").replace(\"rgb\", \"rgba\")+', 1)', size=5),\n",
    "        line=dict(color=colors[0].replace(\")\", \"\").replace(\"rgb\", \"rgba\")+', 0.3)', width=5),\n",
    "        fill=\"tonexty\",\n",
    "        fillcolor=colors[0].replace(\")\", \"\").replace(\"rgb\", \"rgba\")+', 0.3)',\n",
    "        x = ts,\n",
    "        y = mu_low_1[:14],\n",
    "        showlegend=False))\n",
    "    \n",
    "    figure.add_trace(go.Scatter(\n",
    "        name= 'ρ<sub>site</sub>=2',\n",
    "        mode = 'markers+lines',\n",
    "        marker=dict(color=colors[1].replace(\")\", \"\").replace(\"rgb\", \"rgba\")+', 1)', size=5),\n",
    "        line=dict(color=colors[1].replace(\")\", \"\").replace(\"rgb\", \"rgba\")+', 0.3)', width=5),\n",
    "        x = ts,\n",
    "        y = mu_up_2[:10]))\n",
    "\n",
    "    figure.add_trace(go.Scatter(\n",
    "        mode = 'markers+lines',\n",
    "        marker=dict(color=colors[1].replace(\")\", \"\").replace(\"rgb\", \"rgba\")+', 1)', size=5),\n",
    "        line=dict(color=colors[1].replace(\")\", \"\").replace(\"rgb\", \"rgba\")+', 0.3)', width=5),\n",
    "        fill=\"tonexty\",\n",
    "        fillcolor=colors[1].replace(\")\", \"\").replace(\"rgb\", \"rgba\")+', 0.3)',\n",
    "        x = ts,\n",
    "        y = mu_low_2[:10],\n",
    "        showlegend=False))\n",
    "    \n",
    "    figure.add_trace(go.Scatter(\n",
    "        name= 'ρ<sub>site</sub>=3',\n",
    "        mode = 'markers+lines',\n",
    "        marker=dict(color=colors[2].replace(\")\", \"\").replace(\"rgb\", \"rgba\")+', 1)', size=5),\n",
    "        line=dict(color=colors[2].replace(\")\", \"\").replace(\"rgb\", \"rgba\")+', 0.3)', width=5),\n",
    "        x = ts,\n",
    "        y = mu_up_3[:5]))\n",
    "\n",
    "    figure.add_trace(go.Scatter(\n",
    "        mode = 'markers+lines',\n",
    "        marker=dict(color=colors[2].replace(\")\", \"\").replace(\"rgb\", \"rgba\")+', 1)', size=5),\n",
    "        line=dict(color=colors[2].replace(\")\", \"\").replace(\"rgb\", \"rgba\")+', 0.3)', width=5),\n",
    "        fill=\"tonexty\",\n",
    "        fillcolor=colors[2].replace(\")\", \"\").replace(\"rgb\", \"rgba\")+', 0.3)',\n",
    "        x = ts,\n",
    "        y = mu_low_3[:5],\n",
    "        showlegend=False))\n",
    "    \n",
    "\n",
    "    figure.update_xaxes(title_text='t/U (a.u.)',\n",
    "                        ticks=\"inside\",\n",
    "                        nticks = 5, showgrid=True, zeroline=True, linecolor=\"black\", gridcolor=\"gray\", zerolinecolor=\"black\", tickfont=dict(size=24), tickformat=\".1f\", range=[0, 0.4])\n",
    "    figure.update_yaxes(title_text='μ/U (a.u.)',\n",
    "                        ticks=\"inside\", showgrid=True, zeroline=True, linecolor=\"black\", gridcolor=\"gray\", zerolinecolor=\"black\", tickfont=dict(size=24), tickformat=\".2f\")\n",
    "    figure.update_layout(paper_bgcolor='rgba(0,0,0,0)', plot_bgcolor='rgba(0,0,0,0)')\n",
    "    figure.update_layout(font=dict(size=26))\n",
    "    figure.update_layout(height = 800, width = 1200)\n",
    "\n",
    "    figure.show()\n",
    "\n",
    "    figure.write_image(\"./figures/Mott-Lobes.pdf\")\n",
    "    time.sleep(5)\n",
    "    figure.write_image(\"./figures/Mott-Lobes.pdf\")"
   ]
  },
  {
   "cell_type": "code",
   "execution_count": 21,
   "metadata": {},
   "outputs": [
    {
     "data": {
      "application/vnd.plotly.v1+json": {
       "config": {
        "plotlyServerURL": "https://plot.ly"
       },
       "data": [
        {
         "line": {
          "color": "rgba(31, 119, 180, 0.3)",
          "width": 5
         },
         "marker": {
          "color": "rgba(31, 119, 180, 1)",
          "size": 5
         },
         "mode": "markers+lines",
         "name": "ρ<sub>site</sub>=1",
         "type": "scatter",
         "x": [
          0,
          0.025,
          0.05,
          0.07500000000000001,
          0.1,
          0.125,
          0.15000000000000002,
          0.17500000000000002,
          0.2,
          0.225,
          0.25,
          0.275,
          0.30000000000000004,
          0.325,
          0.35000000000000003,
          0.375,
          0.4
         ],
         "y": [
          1,
          0.9072049781026716,
          0.810274672571232,
          0.7159642283650749,
          0.6255247101898584,
          0.5381346762163384,
          0.4559430829551321,
          0.3795357807462594,
          0.30119267292303675,
          0.24566319081576182,
          0.1864965750869949,
          0.14011974956378737,
          0.09816405823524832,
          0.056608402099655564
         ]
        },
        {
         "fill": "tonexty",
         "fillcolor": "rgba(31, 119, 180, 0.3)",
         "line": {
          "color": "rgba(31, 119, 180, 0.3)",
          "width": 5
         },
         "marker": {
          "color": "rgba(31, 119, 180, 1)",
          "size": 5
         },
         "mode": "markers+lines",
         "showlegend": false,
         "type": "scatter",
         "x": [
          0,
          0.025,
          0.05,
          0.07500000000000001,
          0.1,
          0.125,
          0.15000000000000002,
          0.17500000000000002,
          0.2,
          0.225,
          0.25,
          0.275,
          0.30000000000000004,
          0.325,
          0.35000000000000003,
          0.375,
          0.4
         ],
         "y": [
          0,
          0.04420042303772842,
          0.08490466553414988,
          0.12065807125277495,
          0.15091707566547274,
          0.1746246790566488,
          0.18980118616258856,
          0.1973934398386863,
          0.19372605398979914,
          0.18520718543554793,
          0.1644372310304405,
          0.13048485364137008,
          0.08984352342999813,
          0.048811405481110626
         ]
        },
        {
         "line": {
          "color": "rgba(255, 127, 14, 0.3)",
          "width": 5
         },
         "marker": {
          "color": "rgba(255, 127, 14, 1)",
          "size": 5
         },
         "mode": "markers+lines",
         "name": "ρ<sub>site</sub>=2",
         "type": "scatter",
         "x": [
          0,
          0.025,
          0.05,
          0.07500000000000001,
          0.1,
          0.125,
          0.15000000000000002,
          0.17500000000000002,
          0.2,
          0.225,
          0.25,
          0.275,
          0.30000000000000004,
          0.325,
          0.35000000000000003,
          0.375,
          0.4
         ],
         "y": [
          2,
          1.8605196431000053,
          1.7245444529000054,
          1.5987009296500077,
          1.5033095007499924,
          1.409175015599999,
          1.351720422567297,
          1.2821791364000035,
          1.2414727731,
          1.1996580383000008
         ]
        },
        {
         "fill": "tonexty",
         "fillcolor": "rgba(255, 127, 14, 0.3)",
         "line": {
          "color": "rgba(255, 127, 14, 0.3)",
          "width": 5
         },
         "marker": {
          "color": "rgba(255, 127, 14, 1)",
          "size": 5
         },
         "mode": "markers+lines",
         "showlegend": false,
         "type": "scatter",
         "x": [
          0,
          0.025,
          0.05,
          0.07500000000000001,
          0.1,
          0.125,
          0.15000000000000002,
          0.17500000000000002,
          0.2,
          0.225,
          0.25,
          0.275,
          0.30000000000000004,
          0.325,
          0.35000000000000003,
          0.375,
          0.4
         ],
         "y": [
          1,
          1.0860786244499963,
          1.1659881870999982,
          1.2287078601000019,
          1.2671528479500012,
          1.2849264926500013,
          1.270499896699988,
          1.2640584431499917,
          1.22754701545,
          1.1929955161999999
         ]
        },
        {
         "line": {
          "color": "rgba(44, 160, 44, 0.3)",
          "width": 5
         },
         "marker": {
          "color": "rgba(44, 160, 44, 1)",
          "size": 5
         },
         "mode": "markers+lines",
         "name": "ρ<sub>site</sub>=3",
         "type": "scatter",
         "x": [
          0,
          0.025,
          0.05,
          0.07500000000000001,
          0.1,
          0.125,
          0.15000000000000002,
          0.17500000000000002,
          0.2,
          0.225,
          0.25,
          0.275,
          0.30000000000000004,
          0.325,
          0.35000000000000003,
          0.375,
          0.4
         ],
         "y": [
          3,
          2.8237237892000167,
          2.680109537550038,
          2.581118391700045,
          2.514726964899978
         ]
        },
        {
         "fill": "tonexty",
         "fillcolor": "rgba(44, 160, 44, 0.3)",
         "line": {
          "color": "rgba(44, 160, 44, 0.3)",
          "width": 5
         },
         "marker": {
          "color": "rgba(44, 160, 44, 1)",
          "size": 5
         },
         "mode": "markers+lines",
         "showlegend": false,
         "type": "scatter",
         "x": [
          0,
          0.025,
          0.05,
          0.07500000000000001,
          0.1,
          0.125,
          0.15000000000000002,
          0.17500000000000002,
          0.2,
          0.225,
          0.25,
          0.275,
          0.30000000000000004,
          0.325,
          0.35000000000000003,
          0.375,
          0.4
         ],
         "y": [
          2,
          2.131366096750014,
          2.2465048041499927,
          2.332858183749977,
          2.4915317673500113
         ]
        }
       ],
       "layout": {
        "font": {
         "size": 26
        },
        "height": 800,
        "paper_bgcolor": "rgba(0,0,0,0)",
        "plot_bgcolor": "rgba(0,0,0,0)",
        "template": {
         "data": {
          "bar": [
           {
            "error_x": {
             "color": "#2a3f5f"
            },
            "error_y": {
             "color": "#2a3f5f"
            },
            "marker": {
             "line": {
              "color": "#E5ECF6",
              "width": 0.5
             },
             "pattern": {
              "fillmode": "overlay",
              "size": 10,
              "solidity": 0.2
             }
            },
            "type": "bar"
           }
          ],
          "barpolar": [
           {
            "marker": {
             "line": {
              "color": "#E5ECF6",
              "width": 0.5
             },
             "pattern": {
              "fillmode": "overlay",
              "size": 10,
              "solidity": 0.2
             }
            },
            "type": "barpolar"
           }
          ],
          "carpet": [
           {
            "aaxis": {
             "endlinecolor": "#2a3f5f",
             "gridcolor": "white",
             "linecolor": "white",
             "minorgridcolor": "white",
             "startlinecolor": "#2a3f5f"
            },
            "baxis": {
             "endlinecolor": "#2a3f5f",
             "gridcolor": "white",
             "linecolor": "white",
             "minorgridcolor": "white",
             "startlinecolor": "#2a3f5f"
            },
            "type": "carpet"
           }
          ],
          "choropleth": [
           {
            "colorbar": {
             "outlinewidth": 0,
             "ticks": ""
            },
            "type": "choropleth"
           }
          ],
          "contour": [
           {
            "colorbar": {
             "outlinewidth": 0,
             "ticks": ""
            },
            "colorscale": [
             [
              0,
              "#0d0887"
             ],
             [
              0.1111111111111111,
              "#46039f"
             ],
             [
              0.2222222222222222,
              "#7201a8"
             ],
             [
              0.3333333333333333,
              "#9c179e"
             ],
             [
              0.4444444444444444,
              "#bd3786"
             ],
             [
              0.5555555555555556,
              "#d8576b"
             ],
             [
              0.6666666666666666,
              "#ed7953"
             ],
             [
              0.7777777777777778,
              "#fb9f3a"
             ],
             [
              0.8888888888888888,
              "#fdca26"
             ],
             [
              1,
              "#f0f921"
             ]
            ],
            "type": "contour"
           }
          ],
          "contourcarpet": [
           {
            "colorbar": {
             "outlinewidth": 0,
             "ticks": ""
            },
            "type": "contourcarpet"
           }
          ],
          "heatmap": [
           {
            "colorbar": {
             "outlinewidth": 0,
             "ticks": ""
            },
            "colorscale": [
             [
              0,
              "#0d0887"
             ],
             [
              0.1111111111111111,
              "#46039f"
             ],
             [
              0.2222222222222222,
              "#7201a8"
             ],
             [
              0.3333333333333333,
              "#9c179e"
             ],
             [
              0.4444444444444444,
              "#bd3786"
             ],
             [
              0.5555555555555556,
              "#d8576b"
             ],
             [
              0.6666666666666666,
              "#ed7953"
             ],
             [
              0.7777777777777778,
              "#fb9f3a"
             ],
             [
              0.8888888888888888,
              "#fdca26"
             ],
             [
              1,
              "#f0f921"
             ]
            ],
            "type": "heatmap"
           }
          ],
          "heatmapgl": [
           {
            "colorbar": {
             "outlinewidth": 0,
             "ticks": ""
            },
            "colorscale": [
             [
              0,
              "#0d0887"
             ],
             [
              0.1111111111111111,
              "#46039f"
             ],
             [
              0.2222222222222222,
              "#7201a8"
             ],
             [
              0.3333333333333333,
              "#9c179e"
             ],
             [
              0.4444444444444444,
              "#bd3786"
             ],
             [
              0.5555555555555556,
              "#d8576b"
             ],
             [
              0.6666666666666666,
              "#ed7953"
             ],
             [
              0.7777777777777778,
              "#fb9f3a"
             ],
             [
              0.8888888888888888,
              "#fdca26"
             ],
             [
              1,
              "#f0f921"
             ]
            ],
            "type": "heatmapgl"
           }
          ],
          "histogram": [
           {
            "marker": {
             "pattern": {
              "fillmode": "overlay",
              "size": 10,
              "solidity": 0.2
             }
            },
            "type": "histogram"
           }
          ],
          "histogram2d": [
           {
            "colorbar": {
             "outlinewidth": 0,
             "ticks": ""
            },
            "colorscale": [
             [
              0,
              "#0d0887"
             ],
             [
              0.1111111111111111,
              "#46039f"
             ],
             [
              0.2222222222222222,
              "#7201a8"
             ],
             [
              0.3333333333333333,
              "#9c179e"
             ],
             [
              0.4444444444444444,
              "#bd3786"
             ],
             [
              0.5555555555555556,
              "#d8576b"
             ],
             [
              0.6666666666666666,
              "#ed7953"
             ],
             [
              0.7777777777777778,
              "#fb9f3a"
             ],
             [
              0.8888888888888888,
              "#fdca26"
             ],
             [
              1,
              "#f0f921"
             ]
            ],
            "type": "histogram2d"
           }
          ],
          "histogram2dcontour": [
           {
            "colorbar": {
             "outlinewidth": 0,
             "ticks": ""
            },
            "colorscale": [
             [
              0,
              "#0d0887"
             ],
             [
              0.1111111111111111,
              "#46039f"
             ],
             [
              0.2222222222222222,
              "#7201a8"
             ],
             [
              0.3333333333333333,
              "#9c179e"
             ],
             [
              0.4444444444444444,
              "#bd3786"
             ],
             [
              0.5555555555555556,
              "#d8576b"
             ],
             [
              0.6666666666666666,
              "#ed7953"
             ],
             [
              0.7777777777777778,
              "#fb9f3a"
             ],
             [
              0.8888888888888888,
              "#fdca26"
             ],
             [
              1,
              "#f0f921"
             ]
            ],
            "type": "histogram2dcontour"
           }
          ],
          "mesh3d": [
           {
            "colorbar": {
             "outlinewidth": 0,
             "ticks": ""
            },
            "type": "mesh3d"
           }
          ],
          "parcoords": [
           {
            "line": {
             "colorbar": {
              "outlinewidth": 0,
              "ticks": ""
             }
            },
            "type": "parcoords"
           }
          ],
          "pie": [
           {
            "automargin": true,
            "type": "pie"
           }
          ],
          "scatter": [
           {
            "fillpattern": {
             "fillmode": "overlay",
             "size": 10,
             "solidity": 0.2
            },
            "type": "scatter"
           }
          ],
          "scatter3d": [
           {
            "line": {
             "colorbar": {
              "outlinewidth": 0,
              "ticks": ""
             }
            },
            "marker": {
             "colorbar": {
              "outlinewidth": 0,
              "ticks": ""
             }
            },
            "type": "scatter3d"
           }
          ],
          "scattercarpet": [
           {
            "marker": {
             "colorbar": {
              "outlinewidth": 0,
              "ticks": ""
             }
            },
            "type": "scattercarpet"
           }
          ],
          "scattergeo": [
           {
            "marker": {
             "colorbar": {
              "outlinewidth": 0,
              "ticks": ""
             }
            },
            "type": "scattergeo"
           }
          ],
          "scattergl": [
           {
            "marker": {
             "colorbar": {
              "outlinewidth": 0,
              "ticks": ""
             }
            },
            "type": "scattergl"
           }
          ],
          "scattermapbox": [
           {
            "marker": {
             "colorbar": {
              "outlinewidth": 0,
              "ticks": ""
             }
            },
            "type": "scattermapbox"
           }
          ],
          "scatterpolar": [
           {
            "marker": {
             "colorbar": {
              "outlinewidth": 0,
              "ticks": ""
             }
            },
            "type": "scatterpolar"
           }
          ],
          "scatterpolargl": [
           {
            "marker": {
             "colorbar": {
              "outlinewidth": 0,
              "ticks": ""
             }
            },
            "type": "scatterpolargl"
           }
          ],
          "scatterternary": [
           {
            "marker": {
             "colorbar": {
              "outlinewidth": 0,
              "ticks": ""
             }
            },
            "type": "scatterternary"
           }
          ],
          "surface": [
           {
            "colorbar": {
             "outlinewidth": 0,
             "ticks": ""
            },
            "colorscale": [
             [
              0,
              "#0d0887"
             ],
             [
              0.1111111111111111,
              "#46039f"
             ],
             [
              0.2222222222222222,
              "#7201a8"
             ],
             [
              0.3333333333333333,
              "#9c179e"
             ],
             [
              0.4444444444444444,
              "#bd3786"
             ],
             [
              0.5555555555555556,
              "#d8576b"
             ],
             [
              0.6666666666666666,
              "#ed7953"
             ],
             [
              0.7777777777777778,
              "#fb9f3a"
             ],
             [
              0.8888888888888888,
              "#fdca26"
             ],
             [
              1,
              "#f0f921"
             ]
            ],
            "type": "surface"
           }
          ],
          "table": [
           {
            "cells": {
             "fill": {
              "color": "#EBF0F8"
             },
             "line": {
              "color": "white"
             }
            },
            "header": {
             "fill": {
              "color": "#C8D4E3"
             },
             "line": {
              "color": "white"
             }
            },
            "type": "table"
           }
          ]
         },
         "layout": {
          "annotationdefaults": {
           "arrowcolor": "#2a3f5f",
           "arrowhead": 0,
           "arrowwidth": 1
          },
          "autotypenumbers": "strict",
          "coloraxis": {
           "colorbar": {
            "outlinewidth": 0,
            "ticks": ""
           }
          },
          "colorscale": {
           "diverging": [
            [
             0,
             "#8e0152"
            ],
            [
             0.1,
             "#c51b7d"
            ],
            [
             0.2,
             "#de77ae"
            ],
            [
             0.3,
             "#f1b6da"
            ],
            [
             0.4,
             "#fde0ef"
            ],
            [
             0.5,
             "#f7f7f7"
            ],
            [
             0.6,
             "#e6f5d0"
            ],
            [
             0.7,
             "#b8e186"
            ],
            [
             0.8,
             "#7fbc41"
            ],
            [
             0.9,
             "#4d9221"
            ],
            [
             1,
             "#276419"
            ]
           ],
           "sequential": [
            [
             0,
             "#0d0887"
            ],
            [
             0.1111111111111111,
             "#46039f"
            ],
            [
             0.2222222222222222,
             "#7201a8"
            ],
            [
             0.3333333333333333,
             "#9c179e"
            ],
            [
             0.4444444444444444,
             "#bd3786"
            ],
            [
             0.5555555555555556,
             "#d8576b"
            ],
            [
             0.6666666666666666,
             "#ed7953"
            ],
            [
             0.7777777777777778,
             "#fb9f3a"
            ],
            [
             0.8888888888888888,
             "#fdca26"
            ],
            [
             1,
             "#f0f921"
            ]
           ],
           "sequentialminus": [
            [
             0,
             "#0d0887"
            ],
            [
             0.1111111111111111,
             "#46039f"
            ],
            [
             0.2222222222222222,
             "#7201a8"
            ],
            [
             0.3333333333333333,
             "#9c179e"
            ],
            [
             0.4444444444444444,
             "#bd3786"
            ],
            [
             0.5555555555555556,
             "#d8576b"
            ],
            [
             0.6666666666666666,
             "#ed7953"
            ],
            [
             0.7777777777777778,
             "#fb9f3a"
            ],
            [
             0.8888888888888888,
             "#fdca26"
            ],
            [
             1,
             "#f0f921"
            ]
           ]
          },
          "colorway": [
           "#636efa",
           "#EF553B",
           "#00cc96",
           "#ab63fa",
           "#FFA15A",
           "#19d3f3",
           "#FF6692",
           "#B6E880",
           "#FF97FF",
           "#FECB52"
          ],
          "font": {
           "color": "#2a3f5f"
          },
          "geo": {
           "bgcolor": "white",
           "lakecolor": "white",
           "landcolor": "#E5ECF6",
           "showlakes": true,
           "showland": true,
           "subunitcolor": "white"
          },
          "hoverlabel": {
           "align": "left"
          },
          "hovermode": "closest",
          "mapbox": {
           "style": "light"
          },
          "paper_bgcolor": "white",
          "plot_bgcolor": "#E5ECF6",
          "polar": {
           "angularaxis": {
            "gridcolor": "white",
            "linecolor": "white",
            "ticks": ""
           },
           "bgcolor": "#E5ECF6",
           "radialaxis": {
            "gridcolor": "white",
            "linecolor": "white",
            "ticks": ""
           }
          },
          "scene": {
           "xaxis": {
            "backgroundcolor": "#E5ECF6",
            "gridcolor": "white",
            "gridwidth": 2,
            "linecolor": "white",
            "showbackground": true,
            "ticks": "",
            "zerolinecolor": "white"
           },
           "yaxis": {
            "backgroundcolor": "#E5ECF6",
            "gridcolor": "white",
            "gridwidth": 2,
            "linecolor": "white",
            "showbackground": true,
            "ticks": "",
            "zerolinecolor": "white"
           },
           "zaxis": {
            "backgroundcolor": "#E5ECF6",
            "gridcolor": "white",
            "gridwidth": 2,
            "linecolor": "white",
            "showbackground": true,
            "ticks": "",
            "zerolinecolor": "white"
           }
          },
          "shapedefaults": {
           "line": {
            "color": "#2a3f5f"
           }
          },
          "ternary": {
           "aaxis": {
            "gridcolor": "white",
            "linecolor": "white",
            "ticks": ""
           },
           "baxis": {
            "gridcolor": "white",
            "linecolor": "white",
            "ticks": ""
           },
           "bgcolor": "#E5ECF6",
           "caxis": {
            "gridcolor": "white",
            "linecolor": "white",
            "ticks": ""
           }
          },
          "title": {
           "x": 0.05
          },
          "xaxis": {
           "automargin": true,
           "gridcolor": "white",
           "linecolor": "white",
           "ticks": "",
           "title": {
            "standoff": 15
           },
           "zerolinecolor": "white",
           "zerolinewidth": 2
          },
          "yaxis": {
           "automargin": true,
           "gridcolor": "white",
           "linecolor": "white",
           "ticks": "",
           "title": {
            "standoff": 15
           },
           "zerolinecolor": "white",
           "zerolinewidth": 2
          }
         }
        },
        "width": 1200,
        "xaxis": {
         "gridcolor": "gray",
         "linecolor": "black",
         "nticks": 5,
         "range": [
          0,
          0.4
         ],
         "showgrid": true,
         "tickfont": {
          "size": 24
         },
         "tickformat": ".1f",
         "ticks": "inside",
         "title": {
          "text": "t/U (a.u.)"
         },
         "zeroline": true,
         "zerolinecolor": "black"
        },
        "yaxis": {
         "gridcolor": "gray",
         "linecolor": "black",
         "showgrid": true,
         "tickfont": {
          "size": 24
         },
         "tickformat": ".2f",
         "ticks": "inside",
         "title": {
          "text": "μ/U (a.u.)"
         },
         "zeroline": true,
         "zerolinecolor": "black"
        }
       }
      },
      "text/html": [
       "<div>                            <div id=\"5ac089b7-c84a-4cf5-a2f2-8840a85dbcfa\" class=\"plotly-graph-div\" style=\"height:800px; width:1200px;\"></div>            <script type=\"text/javascript\">                require([\"plotly\"], function(Plotly) {                    window.PLOTLYENV=window.PLOTLYENV || {};                                    if (document.getElementById(\"5ac089b7-c84a-4cf5-a2f2-8840a85dbcfa\")) {                    Plotly.newPlot(                        \"5ac089b7-c84a-4cf5-a2f2-8840a85dbcfa\",                        [{\"line\":{\"color\":\"rgba(31, 119, 180, 0.3)\",\"width\":5},\"marker\":{\"color\":\"rgba(31, 119, 180, 1)\",\"size\":5},\"mode\":\"markers+lines\",\"name\":\"\\u03c1<sub>site</sub>=1\",\"x\":[0.0,0.025,0.05,0.07500000000000001,0.1,0.125,0.15000000000000002,0.17500000000000002,0.2,0.225,0.25,0.275,0.30000000000000004,0.325,0.35000000000000003,0.375,0.4],\"y\":[1.0,0.9072049781026716,0.810274672571232,0.7159642283650749,0.6255247101898584,0.5381346762163384,0.4559430829551321,0.3795357807462594,0.30119267292303675,0.24566319081576182,0.1864965750869949,0.14011974956378737,0.09816405823524832,0.056608402099655564],\"type\":\"scatter\"},{\"fill\":\"tonexty\",\"fillcolor\":\"rgba(31, 119, 180, 0.3)\",\"line\":{\"color\":\"rgba(31, 119, 180, 0.3)\",\"width\":5},\"marker\":{\"color\":\"rgba(31, 119, 180, 1)\",\"size\":5},\"mode\":\"markers+lines\",\"showlegend\":false,\"x\":[0.0,0.025,0.05,0.07500000000000001,0.1,0.125,0.15000000000000002,0.17500000000000002,0.2,0.225,0.25,0.275,0.30000000000000004,0.325,0.35000000000000003,0.375,0.4],\"y\":[0.0,0.04420042303772842,0.08490466553414988,0.12065807125277495,0.15091707566547274,0.1746246790566488,0.18980118616258856,0.1973934398386863,0.19372605398979914,0.18520718543554793,0.1644372310304405,0.13048485364137008,0.08984352342999813,0.048811405481110626],\"type\":\"scatter\"},{\"line\":{\"color\":\"rgba(255, 127, 14, 0.3)\",\"width\":5},\"marker\":{\"color\":\"rgba(255, 127, 14, 1)\",\"size\":5},\"mode\":\"markers+lines\",\"name\":\"\\u03c1<sub>site</sub>=2\",\"x\":[0.0,0.025,0.05,0.07500000000000001,0.1,0.125,0.15000000000000002,0.17500000000000002,0.2,0.225,0.25,0.275,0.30000000000000004,0.325,0.35000000000000003,0.375,0.4],\"y\":[2.0,1.8605196431000053,1.7245444529000054,1.5987009296500077,1.5033095007499924,1.409175015599999,1.351720422567297,1.2821791364000035,1.2414727731,1.1996580383000008],\"type\":\"scatter\"},{\"fill\":\"tonexty\",\"fillcolor\":\"rgba(255, 127, 14, 0.3)\",\"line\":{\"color\":\"rgba(255, 127, 14, 0.3)\",\"width\":5},\"marker\":{\"color\":\"rgba(255, 127, 14, 1)\",\"size\":5},\"mode\":\"markers+lines\",\"showlegend\":false,\"x\":[0.0,0.025,0.05,0.07500000000000001,0.1,0.125,0.15000000000000002,0.17500000000000002,0.2,0.225,0.25,0.275,0.30000000000000004,0.325,0.35000000000000003,0.375,0.4],\"y\":[1.0,1.0860786244499963,1.1659881870999982,1.2287078601000019,1.2671528479500012,1.2849264926500013,1.270499896699988,1.2640584431499917,1.22754701545,1.1929955161999999],\"type\":\"scatter\"},{\"line\":{\"color\":\"rgba(44, 160, 44, 0.3)\",\"width\":5},\"marker\":{\"color\":\"rgba(44, 160, 44, 1)\",\"size\":5},\"mode\":\"markers+lines\",\"name\":\"\\u03c1<sub>site</sub>=3\",\"x\":[0.0,0.025,0.05,0.07500000000000001,0.1,0.125,0.15000000000000002,0.17500000000000002,0.2,0.225,0.25,0.275,0.30000000000000004,0.325,0.35000000000000003,0.375,0.4],\"y\":[3.0,2.8237237892000167,2.680109537550038,2.581118391700045,2.514726964899978],\"type\":\"scatter\"},{\"fill\":\"tonexty\",\"fillcolor\":\"rgba(44, 160, 44, 0.3)\",\"line\":{\"color\":\"rgba(44, 160, 44, 0.3)\",\"width\":5},\"marker\":{\"color\":\"rgba(44, 160, 44, 1)\",\"size\":5},\"mode\":\"markers+lines\",\"showlegend\":false,\"x\":[0.0,0.025,0.05,0.07500000000000001,0.1,0.125,0.15000000000000002,0.17500000000000002,0.2,0.225,0.25,0.275,0.30000000000000004,0.325,0.35000000000000003,0.375,0.4],\"y\":[2.0,2.131366096750014,2.2465048041499927,2.332858183749977,2.4915317673500113],\"type\":\"scatter\"}],                        {\"template\":{\"data\":{\"histogram2dcontour\":[{\"type\":\"histogram2dcontour\",\"colorbar\":{\"outlinewidth\":0,\"ticks\":\"\"},\"colorscale\":[[0.0,\"#0d0887\"],[0.1111111111111111,\"#46039f\"],[0.2222222222222222,\"#7201a8\"],[0.3333333333333333,\"#9c179e\"],[0.4444444444444444,\"#bd3786\"],[0.5555555555555556,\"#d8576b\"],[0.6666666666666666,\"#ed7953\"],[0.7777777777777778,\"#fb9f3a\"],[0.8888888888888888,\"#fdca26\"],[1.0,\"#f0f921\"]]}],\"choropleth\":[{\"type\":\"choropleth\",\"colorbar\":{\"outlinewidth\":0,\"ticks\":\"\"}}],\"histogram2d\":[{\"type\":\"histogram2d\",\"colorbar\":{\"outlinewidth\":0,\"ticks\":\"\"},\"colorscale\":[[0.0,\"#0d0887\"],[0.1111111111111111,\"#46039f\"],[0.2222222222222222,\"#7201a8\"],[0.3333333333333333,\"#9c179e\"],[0.4444444444444444,\"#bd3786\"],[0.5555555555555556,\"#d8576b\"],[0.6666666666666666,\"#ed7953\"],[0.7777777777777778,\"#fb9f3a\"],[0.8888888888888888,\"#fdca26\"],[1.0,\"#f0f921\"]]}],\"heatmap\":[{\"type\":\"heatmap\",\"colorbar\":{\"outlinewidth\":0,\"ticks\":\"\"},\"colorscale\":[[0.0,\"#0d0887\"],[0.1111111111111111,\"#46039f\"],[0.2222222222222222,\"#7201a8\"],[0.3333333333333333,\"#9c179e\"],[0.4444444444444444,\"#bd3786\"],[0.5555555555555556,\"#d8576b\"],[0.6666666666666666,\"#ed7953\"],[0.7777777777777778,\"#fb9f3a\"],[0.8888888888888888,\"#fdca26\"],[1.0,\"#f0f921\"]]}],\"heatmapgl\":[{\"type\":\"heatmapgl\",\"colorbar\":{\"outlinewidth\":0,\"ticks\":\"\"},\"colorscale\":[[0.0,\"#0d0887\"],[0.1111111111111111,\"#46039f\"],[0.2222222222222222,\"#7201a8\"],[0.3333333333333333,\"#9c179e\"],[0.4444444444444444,\"#bd3786\"],[0.5555555555555556,\"#d8576b\"],[0.6666666666666666,\"#ed7953\"],[0.7777777777777778,\"#fb9f3a\"],[0.8888888888888888,\"#fdca26\"],[1.0,\"#f0f921\"]]}],\"contourcarpet\":[{\"type\":\"contourcarpet\",\"colorbar\":{\"outlinewidth\":0,\"ticks\":\"\"}}],\"contour\":[{\"type\":\"contour\",\"colorbar\":{\"outlinewidth\":0,\"ticks\":\"\"},\"colorscale\":[[0.0,\"#0d0887\"],[0.1111111111111111,\"#46039f\"],[0.2222222222222222,\"#7201a8\"],[0.3333333333333333,\"#9c179e\"],[0.4444444444444444,\"#bd3786\"],[0.5555555555555556,\"#d8576b\"],[0.6666666666666666,\"#ed7953\"],[0.7777777777777778,\"#fb9f3a\"],[0.8888888888888888,\"#fdca26\"],[1.0,\"#f0f921\"]]}],\"surface\":[{\"type\":\"surface\",\"colorbar\":{\"outlinewidth\":0,\"ticks\":\"\"},\"colorscale\":[[0.0,\"#0d0887\"],[0.1111111111111111,\"#46039f\"],[0.2222222222222222,\"#7201a8\"],[0.3333333333333333,\"#9c179e\"],[0.4444444444444444,\"#bd3786\"],[0.5555555555555556,\"#d8576b\"],[0.6666666666666666,\"#ed7953\"],[0.7777777777777778,\"#fb9f3a\"],[0.8888888888888888,\"#fdca26\"],[1.0,\"#f0f921\"]]}],\"mesh3d\":[{\"type\":\"mesh3d\",\"colorbar\":{\"outlinewidth\":0,\"ticks\":\"\"}}],\"scatter\":[{\"fillpattern\":{\"fillmode\":\"overlay\",\"size\":10,\"solidity\":0.2},\"type\":\"scatter\"}],\"parcoords\":[{\"type\":\"parcoords\",\"line\":{\"colorbar\":{\"outlinewidth\":0,\"ticks\":\"\"}}}],\"scatterpolargl\":[{\"type\":\"scatterpolargl\",\"marker\":{\"colorbar\":{\"outlinewidth\":0,\"ticks\":\"\"}}}],\"bar\":[{\"error_x\":{\"color\":\"#2a3f5f\"},\"error_y\":{\"color\":\"#2a3f5f\"},\"marker\":{\"line\":{\"color\":\"#E5ECF6\",\"width\":0.5},\"pattern\":{\"fillmode\":\"overlay\",\"size\":10,\"solidity\":0.2}},\"type\":\"bar\"}],\"scattergeo\":[{\"type\":\"scattergeo\",\"marker\":{\"colorbar\":{\"outlinewidth\":0,\"ticks\":\"\"}}}],\"scatterpolar\":[{\"type\":\"scatterpolar\",\"marker\":{\"colorbar\":{\"outlinewidth\":0,\"ticks\":\"\"}}}],\"histogram\":[{\"marker\":{\"pattern\":{\"fillmode\":\"overlay\",\"size\":10,\"solidity\":0.2}},\"type\":\"histogram\"}],\"scattergl\":[{\"type\":\"scattergl\",\"marker\":{\"colorbar\":{\"outlinewidth\":0,\"ticks\":\"\"}}}],\"scatter3d\":[{\"type\":\"scatter3d\",\"line\":{\"colorbar\":{\"outlinewidth\":0,\"ticks\":\"\"}},\"marker\":{\"colorbar\":{\"outlinewidth\":0,\"ticks\":\"\"}}}],\"scattermapbox\":[{\"type\":\"scattermapbox\",\"marker\":{\"colorbar\":{\"outlinewidth\":0,\"ticks\":\"\"}}}],\"scatterternary\":[{\"type\":\"scatterternary\",\"marker\":{\"colorbar\":{\"outlinewidth\":0,\"ticks\":\"\"}}}],\"scattercarpet\":[{\"type\":\"scattercarpet\",\"marker\":{\"colorbar\":{\"outlinewidth\":0,\"ticks\":\"\"}}}],\"carpet\":[{\"aaxis\":{\"endlinecolor\":\"#2a3f5f\",\"gridcolor\":\"white\",\"linecolor\":\"white\",\"minorgridcolor\":\"white\",\"startlinecolor\":\"#2a3f5f\"},\"baxis\":{\"endlinecolor\":\"#2a3f5f\",\"gridcolor\":\"white\",\"linecolor\":\"white\",\"minorgridcolor\":\"white\",\"startlinecolor\":\"#2a3f5f\"},\"type\":\"carpet\"}],\"table\":[{\"cells\":{\"fill\":{\"color\":\"#EBF0F8\"},\"line\":{\"color\":\"white\"}},\"header\":{\"fill\":{\"color\":\"#C8D4E3\"},\"line\":{\"color\":\"white\"}},\"type\":\"table\"}],\"barpolar\":[{\"marker\":{\"line\":{\"color\":\"#E5ECF6\",\"width\":0.5},\"pattern\":{\"fillmode\":\"overlay\",\"size\":10,\"solidity\":0.2}},\"type\":\"barpolar\"}],\"pie\":[{\"automargin\":true,\"type\":\"pie\"}]},\"layout\":{\"autotypenumbers\":\"strict\",\"colorway\":[\"#636efa\",\"#EF553B\",\"#00cc96\",\"#ab63fa\",\"#FFA15A\",\"#19d3f3\",\"#FF6692\",\"#B6E880\",\"#FF97FF\",\"#FECB52\"],\"font\":{\"color\":\"#2a3f5f\"},\"hovermode\":\"closest\",\"hoverlabel\":{\"align\":\"left\"},\"paper_bgcolor\":\"white\",\"plot_bgcolor\":\"#E5ECF6\",\"polar\":{\"bgcolor\":\"#E5ECF6\",\"angularaxis\":{\"gridcolor\":\"white\",\"linecolor\":\"white\",\"ticks\":\"\"},\"radialaxis\":{\"gridcolor\":\"white\",\"linecolor\":\"white\",\"ticks\":\"\"}},\"ternary\":{\"bgcolor\":\"#E5ECF6\",\"aaxis\":{\"gridcolor\":\"white\",\"linecolor\":\"white\",\"ticks\":\"\"},\"baxis\":{\"gridcolor\":\"white\",\"linecolor\":\"white\",\"ticks\":\"\"},\"caxis\":{\"gridcolor\":\"white\",\"linecolor\":\"white\",\"ticks\":\"\"}},\"coloraxis\":{\"colorbar\":{\"outlinewidth\":0,\"ticks\":\"\"}},\"colorscale\":{\"sequential\":[[0.0,\"#0d0887\"],[0.1111111111111111,\"#46039f\"],[0.2222222222222222,\"#7201a8\"],[0.3333333333333333,\"#9c179e\"],[0.4444444444444444,\"#bd3786\"],[0.5555555555555556,\"#d8576b\"],[0.6666666666666666,\"#ed7953\"],[0.7777777777777778,\"#fb9f3a\"],[0.8888888888888888,\"#fdca26\"],[1.0,\"#f0f921\"]],\"sequentialminus\":[[0.0,\"#0d0887\"],[0.1111111111111111,\"#46039f\"],[0.2222222222222222,\"#7201a8\"],[0.3333333333333333,\"#9c179e\"],[0.4444444444444444,\"#bd3786\"],[0.5555555555555556,\"#d8576b\"],[0.6666666666666666,\"#ed7953\"],[0.7777777777777778,\"#fb9f3a\"],[0.8888888888888888,\"#fdca26\"],[1.0,\"#f0f921\"]],\"diverging\":[[0,\"#8e0152\"],[0.1,\"#c51b7d\"],[0.2,\"#de77ae\"],[0.3,\"#f1b6da\"],[0.4,\"#fde0ef\"],[0.5,\"#f7f7f7\"],[0.6,\"#e6f5d0\"],[0.7,\"#b8e186\"],[0.8,\"#7fbc41\"],[0.9,\"#4d9221\"],[1,\"#276419\"]]},\"xaxis\":{\"gridcolor\":\"white\",\"linecolor\":\"white\",\"ticks\":\"\",\"title\":{\"standoff\":15},\"zerolinecolor\":\"white\",\"automargin\":true,\"zerolinewidth\":2},\"yaxis\":{\"gridcolor\":\"white\",\"linecolor\":\"white\",\"ticks\":\"\",\"title\":{\"standoff\":15},\"zerolinecolor\":\"white\",\"automargin\":true,\"zerolinewidth\":2},\"scene\":{\"xaxis\":{\"backgroundcolor\":\"#E5ECF6\",\"gridcolor\":\"white\",\"linecolor\":\"white\",\"showbackground\":true,\"ticks\":\"\",\"zerolinecolor\":\"white\",\"gridwidth\":2},\"yaxis\":{\"backgroundcolor\":\"#E5ECF6\",\"gridcolor\":\"white\",\"linecolor\":\"white\",\"showbackground\":true,\"ticks\":\"\",\"zerolinecolor\":\"white\",\"gridwidth\":2},\"zaxis\":{\"backgroundcolor\":\"#E5ECF6\",\"gridcolor\":\"white\",\"linecolor\":\"white\",\"showbackground\":true,\"ticks\":\"\",\"zerolinecolor\":\"white\",\"gridwidth\":2}},\"shapedefaults\":{\"line\":{\"color\":\"#2a3f5f\"}},\"annotationdefaults\":{\"arrowcolor\":\"#2a3f5f\",\"arrowhead\":0,\"arrowwidth\":1},\"geo\":{\"bgcolor\":\"white\",\"landcolor\":\"#E5ECF6\",\"subunitcolor\":\"white\",\"showland\":true,\"showlakes\":true,\"lakecolor\":\"white\"},\"title\":{\"x\":0.05},\"mapbox\":{\"style\":\"light\"}}},\"xaxis\":{\"title\":{\"text\":\"t/U (a.u.)\"},\"tickfont\":{\"size\":24},\"ticks\":\"inside\",\"nticks\":5,\"showgrid\":true,\"zeroline\":true,\"linecolor\":\"black\",\"gridcolor\":\"gray\",\"zerolinecolor\":\"black\",\"tickformat\":\".1f\",\"range\":[0,0.4]},\"yaxis\":{\"title\":{\"text\":\"\\u03bc/U (a.u.)\"},\"tickfont\":{\"size\":24},\"ticks\":\"inside\",\"showgrid\":true,\"zeroline\":true,\"linecolor\":\"black\",\"gridcolor\":\"gray\",\"zerolinecolor\":\"black\",\"tickformat\":\".2f\"},\"paper_bgcolor\":\"rgba(0,0,0,0)\",\"plot_bgcolor\":\"rgba(0,0,0,0)\",\"font\":{\"size\":26},\"height\":800,\"width\":1200},                        {\"responsive\": true}                    ).then(function(){\n",
       "                            \n",
       "var gd = document.getElementById('5ac089b7-c84a-4cf5-a2f2-8840a85dbcfa');\n",
       "var x = new MutationObserver(function (mutations, observer) {{\n",
       "        var display = window.getComputedStyle(gd).display;\n",
       "        if (!display || display === 'none') {{\n",
       "            console.log([gd, 'removed!']);\n",
       "            Plotly.purge(gd);\n",
       "            observer.disconnect();\n",
       "        }}\n",
       "}});\n",
       "\n",
       "// Listen for the removal of the full notebook cells\n",
       "var notebookContainer = gd.closest('#notebook-container');\n",
       "if (notebookContainer) {{\n",
       "    x.observe(notebookContainer, {childList: true});\n",
       "}}\n",
       "\n",
       "// Listen for the clearing of the current output cell\n",
       "var outputEl = gd.closest('.output');\n",
       "if (outputEl) {{\n",
       "    x.observe(outputEl, {childList: true});\n",
       "}}\n",
       "\n",
       "                        })                };                });            </script>        </div>"
      ]
     },
     "metadata": {},
     "output_type": "display_data"
    }
   ],
   "source": [
    "plot(mott_lobe_1, mott_lobe_2, mott_lobe_3, t_values)"
   ]
  },
  {
   "cell_type": "code",
   "execution_count": null,
   "metadata": {},
   "outputs": [],
   "source": []
  }
 ],
 "metadata": {
  "kernelspec": {
   "display_name": "base",
   "language": "python",
   "name": "python3"
  },
  "language_info": {
   "codemirror_mode": {
    "name": "ipython",
    "version": 3
   },
   "file_extension": ".py",
   "mimetype": "text/x-python",
   "name": "python",
   "nbconvert_exporter": "python",
   "pygments_lexer": "ipython3",
   "version": "3.8.10"
  },
  "orig_nbformat": 4
 },
 "nbformat": 4,
 "nbformat_minor": 2
}
