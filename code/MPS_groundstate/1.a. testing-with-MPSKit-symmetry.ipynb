{
 "cells": [
  {
   "cell_type": "code",
   "execution_count": 1,
   "metadata": {},
   "outputs": [
    {
     "data": {
      "text/plain": [
       "optimize (generic function with 3 methods)"
      ]
     },
     "metadata": {},
     "output_type": "display_data"
    }
   ],
   "source": [
    "using MPSKit, MPSKitModels, TensorKit, TensorOperations\n",
    "include(\"5. SymmCons-MPSKit.jl\")"
   ]
  },
  {
   "cell_type": "code",
   "execution_count": 2,
   "metadata": {},
   "outputs": [
    {
     "data": {
      "text/plain": [
       "bosonicOperators (generic function with 2 methods)"
      ]
     },
     "metadata": {},
     "output_type": "display_data"
    }
   ],
   "source": [
    "function bosonicOperators(cutoff::Int, elt=Float64)\n",
    "    creadat = zeros(elt, cutoff + 1, cutoff + 1)\n",
    "\n",
    "    for i in 1:cutoff\n",
    "        creadat[i + 1, i] = sqrt(i)\n",
    "    end\n",
    "\n",
    "    a⁺ = TensorMap(creadat, ℝ^(cutoff + 1), ℝ^(cutoff + 1))\n",
    "    a⁻ = TensorMap(collect(creadat'), ℝ^(cutoff + 1), ℝ^(cutoff + 1))\n",
    "    return (a⁺, a⁻)\n",
    "end"
   ]
  },
  {
   "cell_type": "code",
   "execution_count": 3,
   "metadata": {},
   "outputs": [
    {
     "name": "stderr",
     "output_type": "stream",
     "text": [
      "┌ Warning: failed to deduce all domspaces\n",
      "└ @ MPSKit /root/.julia/packages/MPSKit/huZu9/src/operators/sparsempo/sparsempo.jl:144\n"
     ]
    },
    {
     "ename": "ArgumentError",
     "evalue": "ArgumentError: Unmatching chargetypes sectortype(S) and Int64",
     "output_type": "error",
     "traceback": [
      "ArgumentError: Unmatching chargetypes sectortype(S) and Int64\n",
      "\n",
      "Stacktrace:\n",
      " [1] add_physical_charge(O::SparseMPO{GradedSpace{U1Irrep, TensorKit.SortedVectorDict{U1Irrep, Int64}}, TensorMap{GradedSpace{U1Irrep, TensorKit.SortedVectorDict{U1Irrep, Int64}}, 2, 2, U1Irrep, TensorKit.SortedVectorDict{U1Irrep, Matrix{Float64}}, FusionTree{U1Irrep, 2, 0, 1, Nothing}, FusionTree{U1Irrep, 2, 0, 1, Nothing}}, Float64}, charges::Vector{Int64})\n",
      "   @ MPSKit ~/.julia/packages/MPSKit/huZu9/src/operators/sparsempo/sparsempo.jl:347\n",
      " [2] add_physical_charge(O::MPOHamiltonian{GradedSpace{U1Irrep, TensorKit.SortedVectorDict{U1Irrep, Int64}}, TensorMap{GradedSpace{U1Irrep, TensorKit.SortedVectorDict{U1Irrep, Int64}}, 2, 2, U1Irrep, TensorKit.SortedVectorDict{U1Irrep, Matrix{Float64}}, FusionTree{U1Irrep, 2, 0, 1, Nothing}, FusionTree{U1Irrep, 2, 0, 1, Nothing}}, Float64}, charges::Vector{Int64})\n",
      "   @ MPSKit ~/.julia/packages/MPSKit/huZu9/src/operators/mpohamiltonian.jl:160\n",
      " [3] BoseHubbardHamiltonian(eltype::Type, symmetry::Type; cutoff::Int64, t::Float64, U::Float64, mu::Float64, n::Int64, L::Int64)\n",
      "   @ Main /workspaces/Phase-Transitions-in-Bose-Hubbard/code/MPS_groundstate/5. SymmCons-MPSKit.jl:10\n",
      " [4] optimize(eltype::Type, symmetry::Type; cutoff::Int64, t::Float64, U::Float64, mu::Float64, n::Int64, L::Int64)\n",
      "   @ Main /workspaces/Phase-Transitions-in-Bose-Hubbard/code/MPS_groundstate/5. SymmCons-MPSKit.jl:18\n",
      " [5] top-level scope\n",
      "   @ /workspaces/Phase-Transitions-in-Bose-Hubbard/code/MPS_groundstate/1.a. testing-with-MPSKit-symmetry.ipynb:1"
     ]
    }
   ],
   "source": [
    "groundstate = optimize(cutoff=5, t=1.0, U=2.0, mu=0.0, n=0)"
   ]
  },
  {
   "cell_type": "code",
   "execution_count": 4,
   "metadata": {},
   "outputs": [
    {
     "data": {
      "text/plain": [
       "TensorMap(ProductSpace(ℝ^6) ← ProductSpace(ℝ^6)):\n",
       " 0.0  0.0  0.0                 0.0                 0.0  0.0\n",
       " 0.0  1.0  0.0                 0.0                 0.0  0.0\n",
       " 0.0  0.0  2.0000000000000004  0.0                 0.0  0.0\n",
       " 0.0  0.0  0.0                 2.9999999999999996  0.0  0.0\n",
       " 0.0  0.0  0.0                 0.0                 4.0  0.0\n",
       " 0.0  0.0  0.0                 0.0                 0.0  5.000000000000001\n"
      ]
     },
     "metadata": {},
     "output_type": "display_data"
    }
   ],
   "source": [
    "a⁺, a⁻ = bosonicOperators(5) # bosonic operators\n",
    "n_op = a⁺ * a⁻"
   ]
  },
  {
   "cell_type": "code",
   "execution_count": 5,
   "metadata": {},
   "outputs": [
    {
     "ename": "UndefVarError",
     "evalue": "UndefVarError: groundstate not defined",
     "output_type": "error",
     "traceback": [
      "UndefVarError: groundstate not defined\n",
      "\n",
      "Stacktrace:\n",
      " [1] top-level scope\n",
      "   @ /workspaces/Phase-Transitions-in-Bose-Hubbard/code/MPS_groundstate/1.a. testing-with-MPSKit-symmetry.ipynb:1"
     ]
    }
   ],
   "source": [
    "N_b = expectation_value(groundstate, n_op)"
   ]
  },
  {
   "cell_type": "code",
   "execution_count": 6,
   "metadata": {},
   "outputs": [
    {
     "ename": "UndefVarError",
     "evalue": "UndefVarError: N_b not defined",
     "output_type": "error",
     "traceback": [
      "UndefVarError: N_b not defined\n",
      "\n",
      "Stacktrace:\n",
      " [1] top-level scope\n",
      "   @ /workspaces/Phase-Transitions-in-Bose-Hubbard/code/MPS_groundstate/1.a. testing-with-MPSKit-symmetry.ipynb:1"
     ]
    }
   ],
   "source": [
    "sum(N_b)"
   ]
  },
  {
   "cell_type": "code",
   "execution_count": 7,
   "metadata": {},
   "outputs": [],
   "source": []
  }
 ],
 "metadata": {
  "kernelspec": {
   "display_name": "Julia 1.8.5",
   "language": "julia",
   "name": "julia-1.8"
  },
  "language_info": {
   "file_extension": ".jl",
   "mimetype": "application/julia",
   "name": "julia",
   "version": "1.8.5"
  },
  "orig_nbformat": 4
 },
 "nbformat": 4,
 "nbformat_minor": 2
}
