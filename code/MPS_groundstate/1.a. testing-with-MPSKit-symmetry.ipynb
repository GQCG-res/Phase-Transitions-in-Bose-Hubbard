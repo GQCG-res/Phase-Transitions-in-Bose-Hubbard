{
 "cells": [
  {
   "cell_type": "code",
   "execution_count": 1,
   "metadata": {},
   "outputs": [
    {
     "data": {
      "text/plain": [
       "optimize (generic function with 3 methods)"
      ]
     },
     "metadata": {},
     "output_type": "display_data"
    }
   ],
   "source": [
    "using MPSKit, MPSKitModels, TensorKit, TensorOperations\n",
    "include(\"5. SymmCons-MPSKit.jl\")"
   ]
  },
  {
   "cell_type": "code",
   "execution_count": 2,
   "metadata": {},
   "outputs": [
    {
     "data": {
      "text/plain": [
       "bosonicOperators (generic function with 2 methods)"
      ]
     },
     "metadata": {},
     "output_type": "display_data"
    }
   ],
   "source": [
    "function bosonicOperators(cutoff::Int, elt=Float64)\n",
    "    creadat = zeros(elt, cutoff + 1, cutoff + 1)\n",
    "\n",
    "    for i in 1:cutoff\n",
    "        creadat[i + 1, i] = sqrt(i)\n",
    "    end\n",
    "\n",
    "    a⁺ = TensorMap(creadat, ℝ^(cutoff + 1), ℝ^(cutoff + 1))\n",
    "    a⁻ = TensorMap(collect(creadat'), ℝ^(cutoff + 1), ℝ^(cutoff + 1))\n",
    "    return (a⁺, a⁻)\n",
    "end"
   ]
  },
  {
   "cell_type": "code",
   "execution_count": 3,
   "metadata": {},
   "outputs": [
    {
     "name": "stderr",
     "output_type": "stream",
     "text": [
      "┌ Warning: failed to deduce all domspaces\n",
      "└ @ MPSKit /root/.julia/packages/MPSKit/huZu9/src/operators/sparsempo/sparsempo.jl:144\n"
     ]
    },
    {
     "name": "stdout",
     "output_type": "stream",
     "text": [
      "test"
     ]
    },
    {
     "ename": "MethodError",
     "evalue": "MethodError: no method matching _similarstructure_from_indices(::Type{Float64}, ::Tuple{Int64, Int64}, ::Tuple{Int64}, ::Tuple{Int64, Int64}, ::Tuple{Int64}, ::TensorMap{CartesianSpace, 1, 1, Trivial, Matrix{Float64}, Nothing, Nothing}, ::Tensor{GradedSpace{U1Irrep, TensorKit.SortedVectorDict{U1Irrep, Int64}}, 1, U1Irrep, TensorKit.SortedVectorDict{U1Irrep, Matrix{Float64}}, FusionTree{U1Irrep, 1, 0, 0, Nothing}, FusionTree{U1Irrep, 0, 0, 0, Nothing}})\nClosest candidates are:\n  _similarstructure_from_indices(::Type{T}, ::Tuple{Vararg{Int64, N}} where N, ::Tuple{Vararg{Int64, N}} where N, ::Tuple{Vararg{Int64, N₁}}, ::Tuple{Vararg{Int64, N₂}}, ::AbstractTensorMap{S}, !Matched::AbstractTensorMap{S}) where {T, S<:ElementarySpace, N₁, N₂} at ~/.julia/packages/TensorKit/KbNYI/src/tensors/tensoroperations.jl:380\n  _similarstructure_from_indices(::Type{T}, ::Tuple{Vararg{Int64, N₁}}, ::Tuple{Vararg{Int64, N₂}}, !Matched::AbstractTensorMap{S}) where {T, S<:ElementarySpace, N₁, N₂} at ~/.julia/packages/TensorKit/KbNYI/src/tensors/tensoroperations.jl:373",
     "output_type": "error",
     "traceback": [
      "MethodError: no method matching _similarstructure_from_indices(::Type{Float64}, ::Tuple{Int64, Int64}, ::Tuple{Int64}, ::Tuple{Int64, Int64}, ::Tuple{Int64}, ::TensorMap{CartesianSpace, 1, 1, Trivial, Matrix{Float64}, Nothing, Nothing}, ::Tensor{GradedSpace{U1Irrep, TensorKit.SortedVectorDict{U1Irrep, Int64}}, 1, U1Irrep, TensorKit.SortedVectorDict{U1Irrep, Matrix{Float64}}, FusionTree{U1Irrep, 1, 0, 0, Nothing}, FusionTree{U1Irrep, 0, 0, 0, Nothing}})\n",
      "Closest candidates are:\n",
      "  _similarstructure_from_indices(::Type{T}, ::Tuple{Vararg{Int64, N}} where N, ::Tuple{Vararg{Int64, N}} where N, ::Tuple{Vararg{Int64, N₁}}, ::Tuple{Vararg{Int64, N₂}}, ::AbstractTensorMap{S}, !Matched::AbstractTensorMap{S}) where {T, S<:ElementarySpace, N₁, N₂} at ~/.julia/packages/TensorKit/KbNYI/src/tensors/tensoroperations.jl:380\n",
      "  _similarstructure_from_indices(::Type{T}, ::Tuple{Vararg{Int64, N₁}}, ::Tuple{Vararg{Int64, N₂}}, !Matched::AbstractTensorMap{S}) where {T, S<:ElementarySpace, N₁, N₂} at ~/.julia/packages/TensorKit/KbNYI/src/tensors/tensoroperations.jl:373\n",
      "\n",
      "Stacktrace:\n",
      " [1] similarstructure_from_indices(T::Type, poA::Tuple{Int64, Int64}, poB::Tuple{Int64}, p1::Tuple{Int64, Int64}, p2::Tuple{Int64}, A::TensorMap{CartesianSpace, 1, 1, Trivial, Matrix{Float64}, Nothing, Nothing}, B::Tensor{GradedSpace{U1Irrep, TensorKit.SortedVectorDict{U1Irrep, Int64}}, 1, U1Irrep, TensorKit.SortedVectorDict{U1Irrep, Matrix{Float64}}, FusionTree{U1Irrep, 1, 0, 0, Nothing}, FusionTree{U1Irrep, 0, 0, 0, Nothing}}, CA::Symbol, CB::Symbol)\n",
      "   @ TensorKit ~/.julia/packages/TensorKit/KbNYI/src/tensors/tensoroperations.jl:359\n",
      " [2] similar_from_indices(T::Type, poA::Tuple{Int64, Int64}, poB::Tuple{Int64}, p1::Tuple{Int64, Int64}, p2::Tuple{Int64}, A::TensorMap{CartesianSpace, 1, 1, Trivial, Matrix{Float64}, Nothing, Nothing}, B::Tensor{GradedSpace{U1Irrep, TensorKit.SortedVectorDict{U1Irrep, Int64}}, 1, U1Irrep, TensorKit.SortedVectorDict{U1Irrep, Matrix{Float64}}, FusionTree{U1Irrep, 1, 0, 0, Nothing}, FusionTree{U1Irrep, 0, 0, 0, Nothing}}, CA::Symbol, CB::Symbol)\n",
      "   @ TensorOperations ~/.julia/packages/TensorOperations/QcEK4/src/implementation/tensorcache.jl:24\n",
      " [3] macro expansion\n",
      "   @ ~/.julia/packages/TensorKit/KbNYI/src/planar/macros.jl:53 [inlined]\n",
      " [4] environments(below::FiniteMPS{TensorMap{CartesianSpace, 2, 1, Trivial, Matrix{Float64}, Nothing, Nothing}, TensorMap{CartesianSpace, 1, 1, Trivial, Matrix{Float64}, Nothing, Nothing}}, ham::MPOHamiltonian{GradedSpace{U1Irrep, TensorKit.SortedVectorDict{U1Irrep, Int64}}, TensorMap{GradedSpace{U1Irrep, TensorKit.SortedVectorDict{U1Irrep, Int64}}, 2, 2, U1Irrep, TensorKit.SortedVectorDict{U1Irrep, Matrix{Float64}}, FusionTree{U1Irrep, 2, 0, 1, Nothing}, FusionTree{U1Irrep, 2, 0, 1, Nothing}}, Float64}, above::Nothing)\n",
      "   @ MPSKit ~/.julia/packages/MPSKit/huZu9/src/environments/FinEnv.jl:44\n",
      " [5] environments\n",
      "   @ ~/.julia/packages/MPSKit/huZu9/src/environments/FinEnv.jl:37 [inlined]\n",
      " [6] find_groundstate!\n",
      "   @ ~/.julia/packages/MPSKit/huZu9/src/algorithms/groundstate/dmrg.jl:73 [inlined]\n",
      " [7] find_groundstate(::FiniteMPS{TensorMap{CartesianSpace, 2, 1, Trivial, Matrix{Float64}, Nothing, Nothing}, TensorMap{CartesianSpace, 1, 1, Trivial, Matrix{Float64}, Nothing, Nothing}}, ::MPOHamiltonian{GradedSpace{U1Irrep, TensorKit.SortedVectorDict{U1Irrep, Int64}}, TensorMap{GradedSpace{U1Irrep, TensorKit.SortedVectorDict{U1Irrep, Int64}}, 2, 2, U1Irrep, TensorKit.SortedVectorDict{U1Irrep, Matrix{Float64}}, FusionTree{U1Irrep, 2, 0, 1, Nothing}, FusionTree{U1Irrep, 2, 0, 1, Nothing}}, Float64}, ::DMRG2{KrylovKit.Arnoldi{KrylovKit.ModifiedGramSchmidt2, Float64}, typeof(MPSKit.Defaults._finalize)})\n",
      "   @ MPSKit ~/.julia/packages/MPSKit/huZu9/src/algorithms/groundstate/dmrg.jl:123\n",
      " [8] optimize(eltype::Type, symmetry::Type; cutoff::Int64, t::Float64, U::Float64, mu::Float64, n::Int64, L::Int64)\n",
      "   @ Main /workspaces/Phase-Transitions-in-Bose-Hubbard/code/MPS_groundstate/5. SymmCons-MPSKit.jl:22\n",
      " [9] top-level scope\n",
      "   @ /workspaces/Phase-Transitions-in-Bose-Hubbard/code/MPS_groundstate/1.a. testing-with-MPSKit-symmetry.ipynb:1"
     ]
    }
   ],
   "source": [
    "groundstate = optimize(cutoff=5, t=1.0, U=2.0, mu=0.0, n=0)"
   ]
  },
  {
   "cell_type": "code",
   "execution_count": 4,
   "metadata": {},
   "outputs": [
    {
     "data": {
      "text/plain": [
       "TensorMap(ProductSpace(ℝ^6) ← ProductSpace(ℝ^6)):\n",
       " 0.0  0.0  0.0                 0.0                 0.0  0.0\n",
       " 0.0  1.0  0.0                 0.0                 0.0  0.0\n",
       " 0.0  0.0  2.0000000000000004  0.0                 0.0  0.0\n",
       " 0.0  0.0  0.0                 2.9999999999999996  0.0  0.0\n",
       " 0.0  0.0  0.0                 0.0                 4.0  0.0\n",
       " 0.0  0.0  0.0                 0.0                 0.0  5.000000000000001\n"
      ]
     },
     "metadata": {},
     "output_type": "display_data"
    }
   ],
   "source": [
    "a⁺, a⁻ = bosonicOperators(5) # bosonic operators\n",
    "n_op = a⁺ * a⁻"
   ]
  },
  {
   "cell_type": "code",
   "execution_count": 5,
   "metadata": {},
   "outputs": [
    {
     "ename": "UndefVarError",
     "evalue": "UndefVarError: groundstate not defined",
     "output_type": "error",
     "traceback": [
      "UndefVarError: groundstate not defined\n",
      "\n",
      "Stacktrace:\n",
      " [1] top-level scope\n",
      "   @ /workspaces/Phase-Transitions-in-Bose-Hubbard/code/MPS_groundstate/1.a. testing-with-MPSKit-symmetry.ipynb:1"
     ]
    }
   ],
   "source": [
    "N_b = expectation_value(groundstate, n_op)"
   ]
  },
  {
   "cell_type": "code",
   "execution_count": 6,
   "metadata": {},
   "outputs": [
    {
     "ename": "UndefVarError",
     "evalue": "UndefVarError: N_b not defined",
     "output_type": "error",
     "traceback": [
      "UndefVarError: N_b not defined\n",
      "\n",
      "Stacktrace:\n",
      " [1] top-level scope\n",
      "   @ /workspaces/Phase-Transitions-in-Bose-Hubbard/code/MPS_groundstate/1.a. testing-with-MPSKit-symmetry.ipynb:1"
     ]
    }
   ],
   "source": [
    "sum(N_b)"
   ]
  },
  {
   "cell_type": "code",
   "execution_count": 7,
   "metadata": {},
   "outputs": [],
   "source": []
  }
 ],
 "metadata": {
  "kernelspec": {
   "display_name": "Julia 1.8.5",
   "language": "julia",
   "name": "julia-1.8"
  },
  "language_info": {
   "file_extension": ".jl",
   "mimetype": "application/julia",
   "name": "julia",
   "version": "1.8.5"
  },
  "orig_nbformat": 4
 },
 "nbformat": 4,
 "nbformat_minor": 2
}
