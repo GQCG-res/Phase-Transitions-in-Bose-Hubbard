{
 "cells": [
  {
   "cell_type": "code",
   "execution_count": 1,
   "metadata": {},
   "outputs": [
    {
     "data": {
      "text/plain": [
       "optimize (generic function with 4 methods)"
      ]
     },
     "metadata": {},
     "output_type": "display_data"
    }
   ],
   "source": [
    "using MPSKit, MPSKitModels, TensorKit, TensorOperations\n",
    "include(\"5. SymmCons-MPSKit.jl\")"
   ]
  },
  {
   "cell_type": "code",
   "execution_count": 3,
   "metadata": {},
   "outputs": [
    {
     "data": {
      "text/plain": [
       "bosonicOperators (generic function with 2 methods)"
      ]
     },
     "metadata": {},
     "output_type": "display_data"
    }
   ],
   "source": [
    "function bosonicOperators(cutoff::Int, elt=Float64)\n",
    "    creadat = zeros(elt, cutoff + 1, cutoff + 1)\n",
    "\n",
    "    for i in 1:cutoff\n",
    "        creadat[i + 1, i] = sqrt(i)\n",
    "    end\n",
    "\n",
    "    a⁺ = TensorMap(creadat, ℝ^(cutoff + 1), ℝ^(cutoff + 1))\n",
    "    a⁻ = TensorMap(collect(creadat'), ℝ^(cutoff + 1), ℝ^(cutoff + 1))\n",
    "    return (a⁺, a⁻)\n",
    "end"
   ]
  },
  {
   "cell_type": "code",
   "execution_count": 4,
   "metadata": {},
   "outputs": [
    {
     "name": "stderr",
     "output_type": "stream",
     "text": [
      "┌ Warning: failed to deduce all domspaces\n",
      "└ @ MPSKit /root/.julia/packages/MPSKit/huZu9/src/operators/sparsempo/sparsempo.jl:144\n"
     ]
    },
    {
     "ename": "UndefVarError",
     "evalue": "UndefVarError: L not defined",
     "output_type": "error",
     "traceback": [
      "UndefVarError: L not defined\n",
      "\n",
      "Stacktrace:\n",
      " [1] BoseHubbardHamiltonian(eltype::Type, symmetry::Type, lattice::FiniteChain; cutoff::Int64, t::Float64, U::Float64, mu::Float64, n::Int64)\n",
      "   @ Main /workspaces/Phase-Transitions-in-Bose-Hubbard/code/MPS_groundstate/5. SymmCons-MPSKit.jl:8\n",
      " [2] optimize(eltype::Type, symmetry::Type, lattice::FiniteChain; cutoff::Int64, t::Float64, U::Float64, mu::Float64, n::Int64)\n",
      "   @ Main /workspaces/Phase-Transitions-in-Bose-Hubbard/code/MPS_groundstate/5. SymmCons-MPSKit.jl:19\n",
      " [3] top-level scope\n",
      "   @ /workspaces/Phase-Transitions-in-Bose-Hubbard/code/MPS_groundstate/1.a. testing-with-MPSKit-symmetry.ipynb:1"
     ]
    }
   ],
   "source": [
    "groundstate = optimize(cutoff=5, t=1.0, U=2.0, mu=0.0, n=0)"
   ]
  },
  {
   "cell_type": "code",
   "execution_count": 12,
   "metadata": {},
   "outputs": [
    {
     "data": {
      "text/plain": [
       "TensorMap(ProductSpace(ℝ^6) ← ProductSpace(ℝ^6)):\n",
       " 0.0  0.0  0.0                 0.0                 0.0  0.0\n",
       " 0.0  1.0  0.0                 0.0                 0.0  0.0\n",
       " 0.0  0.0  2.0000000000000004  0.0                 0.0  0.0\n",
       " 0.0  0.0  0.0                 2.9999999999999996  0.0  0.0\n",
       " 0.0  0.0  0.0                 0.0                 4.0  0.0\n",
       " 0.0  0.0  0.0                 0.0                 0.0  5.000000000000001\n"
      ]
     },
     "metadata": {},
     "output_type": "display_data"
    }
   ],
   "source": [
    "a⁺, a⁻ = bosonicOperators(5) # bosonic operators\n",
    "n_op = a⁺ * a⁻"
   ]
  },
  {
   "cell_type": "code",
   "execution_count": 13,
   "metadata": {},
   "outputs": [
    {
     "data": {
      "text/plain": [
       "12-element Vector{Float64}:\n",
       " 0.4993125000929445\n",
       " 0.5287431067385662\n",
       " 0.5444728793981843\n",
       " 0.519560943340981\n",
       " 0.5482028102975521\n",
       " 0.5178605630208389\n",
       " 0.5487691090604397\n",
       " 0.5177185003002037\n",
       " 0.5487619661629333\n",
       " 0.5175138156811749\n",
       " 0.5713971031284198\n",
       " 4.137660533372673"
      ]
     },
     "metadata": {},
     "output_type": "display_data"
    }
   ],
   "source": [
    "N_b = expectation_value(groundstate, n_op)"
   ]
  },
  {
   "cell_type": "code",
   "execution_count": 14,
   "metadata": {},
   "outputs": [
    {
     "data": {
      "text/plain": [
       "9.99997383059491"
      ]
     },
     "metadata": {},
     "output_type": "display_data"
    }
   ],
   "source": [
    "sum(N_b)"
   ]
  },
  {
   "cell_type": "code",
   "execution_count": null,
   "metadata": {},
   "outputs": [],
   "source": []
  }
 ],
 "metadata": {
  "kernelspec": {
   "display_name": "Julia 1.8.5",
   "language": "julia",
   "name": "julia-1.8"
  },
  "language_info": {
   "file_extension": ".jl",
   "mimetype": "application/julia",
   "name": "julia",
   "version": "1.8.5"
  },
  "orig_nbformat": 4
 },
 "nbformat": 4,
 "nbformat_minor": 2
}
