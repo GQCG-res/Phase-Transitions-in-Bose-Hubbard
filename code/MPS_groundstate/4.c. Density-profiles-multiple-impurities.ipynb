{
 "cells": [
  {
   "cell_type": "code",
   "execution_count": 11,
   "metadata": {},
   "outputs": [],
   "source": [
    "include(\"4.a. Correlations.jl\")\n",
    "using Plots\n",
    "using JSON"
   ]
  },
  {
   "attachments": {},
   "cell_type": "markdown",
   "metadata": {},
   "source": [
    "First ~10 sites are boundary effects. The plateau is a power law, followed by a long exponential tail from the limited bond dimension."
   ]
  },
  {
   "cell_type": "code",
   "execution_count": 2,
   "metadata": {},
   "outputs": [
    {
     "name": "stdout",
     "output_type": "stream",
     "text": [
      "After sweep 1 energy=-5.062927719712517  maxlinkdim=18 maxerr=3.77E-43 time=30.525\n"
     ]
    },
    {
     "name": "stdout",
     "output_type": "stream",
     "text": [
      "After sweep 2 energy=-5.063856323541163  maxlinkdim=55 maxerr=9.96E-16 time=6.392\n"
     ]
    },
    {
     "name": "stdout",
     "output_type": "stream",
     "text": [
      "After sweep 3 energy=-5.06385635852157  maxlinkdim=50 maxerr=1.00E-15 time=6.078\n"
     ]
    },
    {
     "name": "stdout",
     "output_type": "stream",
     "text": [
      "After sweep 4 energy=-5.0638563592315196  maxlinkdim=51 maxerr=1.00E-15 time=6.004\n"
     ]
    },
    {
     "name": "stdout",
     "output_type": "stream",
     "text": [
      "After sweep 5 energy=-5.063856359262229  maxlinkdim=46 maxerr=9.99E-16 time=5.972\n"
     ]
    },
    {
     "name": "stdout",
     "output_type": "stream",
     "text": [
      "Energy difference less than 1.0e-10, stopping DMRG\n"
     ]
    },
    {
     "name": "stdout",
     "output_type": "stream",
     "text": [
      "After sweep 1 energy=-6.112034445913609  maxlinkdim=18 maxerr=5.42E-43 time=1.815\n"
     ]
    },
    {
     "name": "stdout",
     "output_type": "stream",
     "text": [
      "After sweep 2 energy=-6.113410856524737  maxlinkdim=71 maxerr=9.99E-16 time=5.974\n"
     ]
    },
    {
     "name": "stdout",
     "output_type": "stream",
     "text": [
      "After sweep 3 energy=-6.113419514507377  maxlinkdim=85 maxerr=9.99E-16 time=6.753\n"
     ]
    },
    {
     "name": "stdout",
     "output_type": "stream",
     "text": [
      "After sweep 4 energy=-6.113420477111886  maxlinkdim=84 maxerr=9.94E-16 time=6.627\n"
     ]
    },
    {
     "name": "stdout",
     "output_type": "stream",
     "text": [
      "After sweep 5 energy=-6.113420700849166  maxlinkdim=75 maxerr=9.98E-16 time=6.564\n"
     ]
    },
    {
     "name": "stdout",
     "output_type": "stream",
     "text": [
      "After sweep 6 energy=-6.113420736066233  maxlinkdim=71 maxerr=9.98E-16 time=6.698\n"
     ]
    },
    {
     "name": "stdout",
     "output_type": "stream",
     "text": [
      "After sweep 7 energy=-6.113420738402729  maxlinkdim=62 maxerr=9.97E-16 time=6.530\n"
     ]
    },
    {
     "name": "stdout",
     "output_type": "stream",
     "text": [
      "After sweep 8 energy=-6.113420738469782  maxlinkdim=57 maxerr=1.00E-15 time=6.721\n"
     ]
    },
    {
     "name": "stdout",
     "output_type": "stream",
     "text": [
      "Energy difference less than 1.0e-10, stopping DMRG\n"
     ]
    },
    {
     "name": "stdout",
     "output_type": "stream",
     "text": [
      "After sweep 1 energy=-7.464758334610185  maxlinkdim=18 maxerr=2.18E-42 time=1.938\n"
     ]
    },
    {
     "name": "stdout",
     "output_type": "stream",
     "text": [
      "After sweep 2 energy=-7.492533161768313  maxlinkdim=114 maxerr=9.98E-16 time=6.734\n"
     ]
    },
    {
     "name": "stdout",
     "output_type": "stream",
     "text": [
      "After sweep 3 energy=-7.497476427388173  maxlinkdim=128 maxerr=2.65E-13 time=8.932\n"
     ]
    },
    {
     "name": "stdout",
     "output_type": "stream",
     "text": [
      "After sweep 4 energy=-7.5007498599431335  maxlinkdim=128 maxerr=1.89E-12 time=8.984\n"
     ]
    },
    {
     "name": "stdout",
     "output_type": "stream",
     "text": [
      "After sweep 5 energy=-7.50355524361186  maxlinkdim=128 maxerr=7.04E-12 time=8.295\n"
     ]
    },
    {
     "name": "stdout",
     "output_type": "stream",
     "text": [
      "After sweep 6 energy=-7.505416814442501  maxlinkdim=128 maxerr=9.26E-12 time=8.206\n"
     ]
    },
    {
     "name": "stdout",
     "output_type": "stream",
     "text": [
      "After sweep 7 energy=-7.506685308506972  maxlinkdim=128 maxerr=3.08E-12 time=6.254\n"
     ]
    },
    {
     "name": "stdout",
     "output_type": "stream",
     "text": [
      "After sweep 8 energy=-7.507625948217054  maxlinkdim=128 maxerr=1.41E-12 time=6.405\n"
     ]
    },
    {
     "name": "stdout",
     "output_type": "stream",
     "text": [
      "After sweep 9 energy=-7.508324306670245  maxlinkdim=128 maxerr=7.50E-13 time=6.463\n"
     ]
    },
    {
     "name": "stdout",
     "output_type": "stream",
     "text": [
      "After sweep 10 energy=-7.50885241206889  maxlinkdim=128 maxerr=5.50E-13 time=6.639\n"
     ]
    },
    {
     "name": "stdout",
     "output_type": "stream",
     "text": [
      "After sweep 11 energy=-7.509182597698532  maxlinkdim=128 maxerr=5.81E-13 time=7.049\n"
     ]
    },
    {
     "name": "stdout",
     "output_type": "stream",
     "text": [
      "After sweep 12 energy=-7.509449292409828  maxlinkdim=128 maxerr=2.09E-13 time=7.461\n"
     ]
    },
    {
     "name": "stdout",
     "output_type": "stream",
     "text": [
      "After sweep 13 energy=-7.509660671734199  maxlinkdim=128 maxerr=7.77E-14 time=7.770\n"
     ]
    },
    {
     "name": "stdout",
     "output_type": "stream",
     "text": [
      "After sweep 14 energy=-7.50985999453655  maxlinkdim=128 maxerr=1.58E-13 time=8.095\n"
     ]
    },
    {
     "name": "stdout",
     "output_type": "stream",
     "text": [
      "After sweep 15 energy=-7.510013210582795  maxlinkdim=128 maxerr=2.73E-13 time=8.513\n"
     ]
    },
    {
     "name": "stdout",
     "output_type": "stream",
     "text": [
      "After sweep 16 energy=-7.510144437032901  maxlinkdim=128 maxerr=1.32E-13 time=8.509\n"
     ]
    },
    {
     "name": "stdout",
     "output_type": "stream",
     "text": [
      "After sweep 17 energy=-7.510252287472065  maxlinkdim=128 maxerr=4.49E-14 time=7.893\n"
     ]
    },
    {
     "name": "stdout",
     "output_type": "stream",
     "text": [
      "After sweep 18 energy=-7.51035110825835  maxlinkdim=128 maxerr=5.55E-14 time=7.049\n"
     ]
    },
    {
     "name": "stdout",
     "output_type": "stream",
     "text": [
      "After sweep 19 energy=-7.5104368997696875  maxlinkdim=128 maxerr=3.13E-14 time=7.064\n"
     ]
    },
    {
     "name": "stdout",
     "output_type": "stream",
     "text": [
      "After sweep 20 energy=-7.510518681405911  maxlinkdim=128 maxerr=3.07E-14 time=7.558\n"
     ]
    },
    {
     "name": "stdout",
     "output_type": "stream",
     "text": [
      "After sweep 21 energy=-7.51059082786941  maxlinkdim=128 maxerr=2.11E-14 time=7.684\n"
     ]
    },
    {
     "name": "stdout",
     "output_type": "stream",
     "text": [
      "After sweep 22 energy=-7.510653951274364  maxlinkdim=128 maxerr=1.16E-14 time=8.163\n"
     ]
    },
    {
     "name": "stdout",
     "output_type": "stream",
     "text": [
      "After sweep 23 energy=-7.510703686157534  maxlinkdim=128 maxerr=4.21E-15 time=8.242\n"
     ]
    },
    {
     "name": "stdout",
     "output_type": "stream",
     "text": [
      "After sweep 24 energy=-7.5107456463631435  maxlinkdim=128 maxerr=2.93E-14 time=8.635\n"
     ]
    },
    {
     "name": "stdout",
     "output_type": "stream",
     "text": [
      "After sweep 25 energy=-7.510788450009525  maxlinkdim=128 maxerr=2.16E-14 time=8.632\n"
     ]
    },
    {
     "name": "stdout",
     "output_type": "stream",
     "text": [
      "After sweep 26 energy=-7.510823893632927  maxlinkdim=128 maxerr=4.95E-14 time=8.831\n"
     ]
    },
    {
     "name": "stdout",
     "output_type": "stream",
     "text": [
      "After sweep 27 energy=-7.510866710496935  maxlinkdim=128 maxerr=6.88E-14 time=8.867\n"
     ]
    },
    {
     "name": "stdout",
     "output_type": "stream",
     "text": [
      "After sweep 28 energy=-7.510889678676239  maxlinkdim=128 maxerr=2.56E-14 time=9.498\n"
     ]
    },
    {
     "name": "stdout",
     "output_type": "stream",
     "text": [
      "After sweep 29 energy=-7.510909840584691  maxlinkdim=128 maxerr=4.40E-15 time=7.201\n"
     ]
    },
    {
     "name": "stdout",
     "output_type": "stream",
     "text": [
      "After sweep 30 energy=-7.510928219048651  maxlinkdim=128 maxerr=2.23E-15 time=7.937\n"
     ]
    },
    {
     "name": "stdout",
     "output_type": "stream",
     "text": [
      "After sweep 31 energy=-7.510947034106775  maxlinkdim=128 maxerr=1.73E-15 time=7.119\n"
     ]
    },
    {
     "name": "stdout",
     "output_type": "stream",
     "text": [
      "After sweep 32 energy=-7.5109672048593215  maxlinkdim=128 maxerr=1.55E-15 time=7.006\n"
     ]
    },
    {
     "name": "stdout",
     "output_type": "stream",
     "text": [
      "After sweep 33 energy=-7.510985927302764  maxlinkdim=128 maxerr=4.07E-15 time=7.438\n"
     ]
    },
    {
     "name": "stdout",
     "output_type": "stream",
     "text": [
      "After sweep 34 energy=-7.511000282981955  maxlinkdim=128 maxerr=1.80E-15 time=7.865\n"
     ]
    },
    {
     "name": "stdout",
     "output_type": "stream",
     "text": [
      "After sweep 35 energy=-7.51101165933959  maxlinkdim=126 maxerr=2.07E-15 time=7.840\n"
     ]
    },
    {
     "name": "stdout",
     "output_type": "stream",
     "text": [
      "After sweep 36 energy=-7.511022550117137  maxlinkdim=124 maxerr=1.06E-15 time=8.251\n"
     ]
    },
    {
     "name": "stdout",
     "output_type": "stream",
     "text": [
      "After sweep 37 energy=-7.51103289497804  maxlinkdim=123 maxerr=1.00E-15 time=8.252\n"
     ]
    },
    {
     "name": "stdout",
     "output_type": "stream",
     "text": [
      "After sweep 38 energy=-7.511042495952295  maxlinkdim=122 maxerr=9.98E-16 time=8.306\n"
     ]
    },
    {
     "name": "stdout",
     "output_type": "stream",
     "text": [
      "After sweep 39 energy=-7.511052348681229  maxlinkdim=118 maxerr=9.99E-16 time=8.950\n"
     ]
    },
    {
     "name": "stdout",
     "output_type": "stream",
     "text": [
      "After sweep 40 energy=-7.511059890376985  maxlinkdim=109 maxerr=9.98E-16 time=8.742\n"
     ]
    },
    {
     "name": "stdout",
     "output_type": "stream",
     "text": [
      "After sweep 41 energy=-7.511068145955908  maxlinkdim=120 maxerr=1.00E-15 time=9.128\n"
     ]
    },
    {
     "name": "stdout",
     "output_type": "stream",
     "text": [
      "After sweep 42 energy=-7.5110750688734065  maxlinkdim=107 maxerr=9.93E-16 time=9.677\n"
     ]
    },
    {
     "name": "stdout",
     "output_type": "stream",
     "text": [
      "After sweep 43 energy=-7.51108242685272  maxlinkdim=105 maxerr=9.99E-16 time=10.869\n"
     ]
    },
    {
     "name": "stdout",
     "output_type": "stream",
     "text": [
      "After sweep 44 energy=-7.511089369168801  maxlinkdim=115 maxerr=9.99E-16 time=10.080\n"
     ]
    },
    {
     "name": "stdout",
     "output_type": "stream",
     "text": [
      "After sweep 45 energy=-7.511094170980582  maxlinkdim=99 maxerr=9.99E-16 time=7.830\n"
     ]
    },
    {
     "name": "stdout",
     "output_type": "stream",
     "text": [
      "After sweep 46 energy=-7.511098044481222  maxlinkdim=95 maxerr=9.90E-16 time=6.841\n"
     ]
    },
    {
     "name": "stdout",
     "output_type": "stream",
     "text": [
      "After sweep 47 energy=-7.511102134229983  maxlinkdim=95 maxerr=9.93E-16 time=6.911\n"
     ]
    },
    {
     "name": "stdout",
     "output_type": "stream",
     "text": [
      "After sweep 48 energy=-7.511107644382129  maxlinkdim=107 maxerr=9.99E-16 time=6.959\n"
     ]
    },
    {
     "name": "stdout",
     "output_type": "stream",
     "text": [
      "After sweep 49 energy=-7.511111410874776  maxlinkdim=108 maxerr=9.95E-16 time=7.407\n"
     ]
    },
    {
     "name": "stdout",
     "output_type": "stream",
     "text": [
      "After sweep 50 energy=-7.51111549565163  maxlinkdim=127 maxerr=9.98E-16 time=7.801\n"
     ]
    },
    {
     "name": "stdout",
     "output_type": "stream",
     "text": [
      "After sweep 51 energy=-7.511118664981972  maxlinkdim=114 maxerr=9.98E-16 time=8.074\n"
     ]
    },
    {
     "name": "stdout",
     "output_type": "stream",
     "text": [
      "After sweep 52 energy=-7.511121721172424  maxlinkdim=128 maxerr=2.91E-15 time=8.438\n"
     ]
    },
    {
     "name": "stdout",
     "output_type": "stream",
     "text": [
      "After sweep 53 energy=-7.511124255051595  maxlinkdim=91 maxerr=1.00E-15 time=8.875\n"
     ]
    },
    {
     "name": "stdout",
     "output_type": "stream",
     "text": [
      "After sweep 54 energy=-7.51112659959319  maxlinkdim=90 maxerr=9.96E-16 time=9.283\n"
     ]
    },
    {
     "name": "stdout",
     "output_type": "stream",
     "text": [
      "After sweep 55 energy=-7.511129201145191  maxlinkdim=102 maxerr=9.97E-16 time=9.420\n"
     ]
    },
    {
     "name": "stdout",
     "output_type": "stream",
     "text": [
      "After sweep 56 energy=-7.5111309741741366  maxlinkdim=97 maxerr=9.97E-16 time=9.766\n"
     ]
    },
    {
     "name": "stdout",
     "output_type": "stream",
     "text": [
      "After sweep 57 energy=-7.511134505182648  maxlinkdim=128 maxerr=6.20E-15 time=9.989\n"
     ]
    },
    {
     "name": "stdout",
     "output_type": "stream",
     "text": [
      "After sweep 58 energy=-7.511136453170572  maxlinkdim=104 maxerr=1.00E-15 time=10.115\n"
     ]
    },
    {
     "name": "stdout",
     "output_type": "stream",
     "text": [
      "After sweep 59 energy=-7.511138098615013  maxlinkdim=128 maxerr=3.35E-15 time=10.060\n"
     ]
    },
    {
     "name": "stdout",
     "output_type": "stream",
     "text": [
      "After sweep 60 energy=-7.511139468380144  maxlinkdim=105 maxerr=9.98E-16 time=9.954\n"
     ]
    },
    {
     "name": "stdout",
     "output_type": "stream",
     "text": [
      "After sweep 61 energy=-7.511140635340363  maxlinkdim=93 maxerr=1.00E-15 time=10.133\n"
     ]
    },
    {
     "name": "stdout",
     "output_type": "stream",
     "text": [
      "After sweep 62 energy=-7.51114370292066  maxlinkdim=128 maxerr=3.05E-15 time=10.167\n"
     ]
    },
    {
     "name": "stdout",
     "output_type": "stream",
     "text": [
      "After sweep 63 energy=-7.511145098118623  maxlinkdim=103 maxerr=9.99E-16 time=10.703\n"
     ]
    },
    {
     "name": "stdout",
     "output_type": "stream",
     "text": [
      "After sweep 64 energy=-7.511145922002232  maxlinkdim=100 maxerr=2.34E-15 time=9.152\n"
     ]
    },
    {
     "name": "stdout",
     "output_type": "stream",
     "text": [
      "After sweep 65 energy=-7.511146494977962  maxlinkdim=93 maxerr=9.99E-16 time=7.625\n"
     ]
    },
    {
     "name": "stdout",
     "output_type": "stream",
     "text": [
      "After sweep 66 energy=-7.511147017471298  maxlinkdim=90 maxerr=9.99E-16 time=7.567\n"
     ]
    },
    {
     "name": "stdout",
     "output_type": "stream",
     "text": [
      "After sweep 67 energy=-7.511147472344984  maxlinkdim=87 maxerr=1.00E-15 time=7.603\n"
     ]
    },
    {
     "name": "stdout",
     "output_type": "stream",
     "text": [
      "After sweep 68 energy=-7.51114789775652  maxlinkdim=86 maxerr=1.00E-15 time=7.968\n"
     ]
    },
    {
     "name": "stdout",
     "output_type": "stream",
     "text": [
      "After sweep 69 energy=-7.511148309266365  maxlinkdim=86 maxerr=9.97E-16 time=8.755\n"
     ]
    },
    {
     "name": "stdout",
     "output_type": "stream",
     "text": [
      "After sweep 70 energy=-7.511148745087625  maxlinkdim=86 maxerr=9.99E-16 time=8.889\n"
     ]
    },
    {
     "name": "stdout",
     "output_type": "stream",
     "text": [
      "After sweep 71 energy=-7.511149248038596  maxlinkdim=93 maxerr=1.00E-15 time=9.332\n"
     ]
    },
    {
     "name": "stdout",
     "output_type": "stream",
     "text": [
      "After sweep 72 energy=-7.5111496677445055  maxlinkdim=98 maxerr=9.98E-16 time=9.872\n"
     ]
    },
    {
     "name": "stdout",
     "output_type": "stream",
     "text": [
      "After sweep 73 energy=-7.511150017782125  maxlinkdim=88 maxerr=9.99E-16 time=10.157\n"
     ]
    },
    {
     "name": "stdout",
     "output_type": "stream",
     "text": [
      "After sweep 74 energy=-7.511150343636774  maxlinkdim=91 maxerr=1.00E-15 time=10.394\n"
     ]
    },
    {
     "name": "stdout",
     "output_type": "stream",
     "text": [
      "After sweep 75 energy=-7.5111506588934915  maxlinkdim=98 maxerr=9.97E-16 time=10.823\n"
     ]
    },
    {
     "name": "stdout",
     "output_type": "stream",
     "text": [
      "After sweep 76 energy=-7.511151031327851  maxlinkdim=124 maxerr=1.00E-15 time=10.881\n"
     ]
    },
    {
     "name": "stdout",
     "output_type": "stream",
     "text": [
      "After sweep 77 energy=-7.51115132485319  maxlinkdim=98 maxerr=9.98E-16 time=11.424\n"
     ]
    },
    {
     "name": "stdout",
     "output_type": "stream",
     "text": [
      "After sweep 78 energy=-7.511151476625693  maxlinkdim=88 maxerr=9.96E-16 time=11.086\n"
     ]
    },
    {
     "name": "stdout",
     "output_type": "stream",
     "text": [
      "After sweep 79 energy=-7.5111516312819  maxlinkdim=86 maxerr=9.99E-16 time=10.775\n"
     ]
    },
    {
     "name": "stdout",
     "output_type": "stream",
     "text": [
      "After sweep 80 energy=-7.511151830102646  maxlinkdim=116 maxerr=1.00E-15 time=10.887\n"
     ]
    },
    {
     "name": "stdout",
     "output_type": "stream",
     "text": [
      "After sweep 81 energy=-7.511152036563676  maxlinkdim=120 maxerr=1.00E-15 time=11.193\n"
     ]
    },
    {
     "name": "stdout",
     "output_type": "stream",
     "text": [
      "After sweep 82 energy=-7.511152134968143  maxlinkdim=120 maxerr=9.97E-16 time=10.790\n"
     ]
    },
    {
     "name": "stdout",
     "output_type": "stream",
     "text": [
      "After sweep 83 energy=-7.511152228312149  maxlinkdim=105 maxerr=1.00E-15 time=10.221\n"
     ]
    },
    {
     "name": "stdout",
     "output_type": "stream",
     "text": [
      "After sweep 84 energy=-7.511152304311102  maxlinkdim=106 maxerr=9.99E-16 time=7.670\n"
     ]
    },
    {
     "name": "stdout",
     "output_type": "stream",
     "text": [
      "After sweep 85 energy=-7.511152368220416  maxlinkdim=92 maxerr=1.00E-15 time=7.719\n"
     ]
    },
    {
     "name": "stdout",
     "output_type": "stream",
     "text": [
      "After sweep 86 energy=-7.511152438497431  maxlinkdim=128 maxerr=3.67E-15 time=8.230\n"
     ]
    },
    {
     "name": "stdout",
     "output_type": "stream",
     "text": [
      "After sweep 87 energy=-7.511152509969773  maxlinkdim=106 maxerr=1.00E-15 time=8.796\n"
     ]
    },
    {
     "name": "stdout",
     "output_type": "stream",
     "text": [
      "After sweep 88 energy=-7.51115257048337  maxlinkdim=111 maxerr=9.99E-16 time=9.152\n"
     ]
    },
    {
     "name": "stdout",
     "output_type": "stream",
     "text": [
      "After sweep 89 energy=-7.511152609437336  maxlinkdim=101 maxerr=1.00E-15 time=9.618\n"
     ]
    },
    {
     "name": "stdout",
     "output_type": "stream",
     "text": [
      "After sweep 90 energy=-7.511152645132816  maxlinkdim=110 maxerr=9.98E-16 time=10.007\n"
     ]
    },
    {
     "name": "stdout",
     "output_type": "stream",
     "text": [
      "After sweep 91 energy=-7.511152676928604  maxlinkdim=113 maxerr=9.99E-16 time=10.639\n"
     ]
    },
    {
     "name": "stdout",
     "output_type": "stream",
     "text": [
      "After sweep 92 energy=-7.5111527184481215  maxlinkdim=123 maxerr=5.73E-15 time=10.974\n"
     ]
    },
    {
     "name": "stdout",
     "output_type": "stream",
     "text": [
      "After sweep 93 energy=-7.5111527425072415  maxlinkdim=118 maxerr=1.00E-15 time=11.065\n"
     ]
    },
    {
     "name": "stdout",
     "output_type": "stream",
     "text": [
      "After sweep 94 energy=-7.511152760847297  maxlinkdim=110 maxerr=1.38E-15 time=11.044\n"
     ]
    },
    {
     "name": "stdout",
     "output_type": "stream",
     "text": [
      "After sweep 95 energy=-7.511152773960382  maxlinkdim=112 maxerr=9.99E-16 time=11.082\n"
     ]
    },
    {
     "name": "stdout",
     "output_type": "stream",
     "text": [
      "After sweep 96 energy=-7.511152785663309  maxlinkdim=116 maxerr=9.99E-16 time=11.983\n"
     ]
    },
    {
     "name": "stdout",
     "output_type": "stream",
     "text": [
      "After sweep 97 energy=-7.511152798342221  maxlinkdim=117 maxerr=9.99E-16 time=11.232\n"
     ]
    },
    {
     "name": "stdout",
     "output_type": "stream",
     "text": [
      "After sweep 98 energy=-7.511152805143042  maxlinkdim=114 maxerr=1.00E-15 time=11.586\n"
     ]
    },
    {
     "name": "stdout",
     "output_type": "stream",
     "text": [
      "After sweep 99 energy=-7.511152809919274  maxlinkdim=122 maxerr=9.99E-16 time=11.968\n"
     ]
    },
    {
     "name": "stdout",
     "output_type": "stream",
     "text": [
      "After sweep 100 energy=-7.511152813656855  maxlinkdim=128 maxerr=1.00E-15 time=11.984\n"
     ]
    },
    {
     "name": "stdout",
     "output_type": "stream",
     "text": [
      "After sweep 1 energy=-9.38218433217858  maxlinkdim=18 maxerr=3.86E-42 time=2.190\n"
     ]
    },
    {
     "name": "stdout",
     "output_type": "stream",
     "text": [
      "After sweep 2 energy=-9.4681087689468  maxlinkdim=128 maxerr=1.12E-15 time=7.162\n"
     ]
    },
    {
     "name": "stdout",
     "output_type": "stream",
     "text": [
      "After sweep 3 energy=-9.48052372768827  maxlinkdim=128 maxerr=8.51E-13 time=6.888\n"
     ]
    },
    {
     "name": "stdout",
     "output_type": "stream",
     "text": [
      "After sweep 4 energy=-9.489809383743369  maxlinkdim=128 maxerr=1.78E-12 time=7.272\n"
     ]
    },
    {
     "name": "stdout",
     "output_type": "stream",
     "text": [
      "After sweep 5 energy=-9.497041796419598  maxlinkdim=128 maxerr=7.17E-12 time=7.328\n"
     ]
    },
    {
     "name": "stdout",
     "output_type": "stream",
     "text": [
      "After sweep 6 energy=-9.50423280648679  maxlinkdim=128 maxerr=2.49E-11 time=7.624\n"
     ]
    },
    {
     "name": "stdout",
     "output_type": "stream",
     "text": [
      "After sweep 7 energy=-9.50952794504407  maxlinkdim=128 maxerr=3.01E-11 time=7.733\n"
     ]
    },
    {
     "name": "stdout",
     "output_type": "stream",
     "text": [
      "After sweep 8 energy=-9.513457696986123  maxlinkdim=128 maxerr=1.75E-11 time=8.341\n"
     ]
    },
    {
     "name": "stdout",
     "output_type": "stream",
     "text": [
      "After sweep 9 energy=-9.515799991282357  maxlinkdim=128 maxerr=5.53E-12 time=8.401\n"
     ]
    },
    {
     "name": "stdout",
     "output_type": "stream",
     "text": [
      "After sweep 10 energy=-9.517855291500151  maxlinkdim=128 maxerr=2.04E-12 time=8.800\n"
     ]
    },
    {
     "name": "stdout",
     "output_type": "stream",
     "text": [
      "After sweep 11 energy=-9.519816549122488  maxlinkdim=128 maxerr=3.35E-12 time=9.284\n"
     ]
    },
    {
     "name": "stdout",
     "output_type": "stream",
     "text": [
      "After sweep 12 energy=-9.521600603973122  maxlinkdim=128 maxerr=4.64E-12 time=10.287\n"
     ]
    },
    {
     "name": "stdout",
     "output_type": "stream",
     "text": [
      "After sweep 13 energy=-9.523143146498061  maxlinkdim=128 maxerr=8.77E-12 time=10.727\n"
     ]
    },
    {
     "name": "stdout",
     "output_type": "stream",
     "text": [
      "After sweep 14 energy=-9.524256739399469  maxlinkdim=128 maxerr=7.55E-13 time=10.645\n"
     ]
    },
    {
     "name": "stdout",
     "output_type": "stream",
     "text": [
      "After sweep 15 energy=-9.525347327126703  maxlinkdim=128 maxerr=5.20E-13 time=9.403\n"
     ]
    },
    {
     "name": "stdout",
     "output_type": "stream",
     "text": [
      "After sweep 16 energy=-9.526432280084485  maxlinkdim=128 maxerr=1.63E-12 time=10.211\n"
     ]
    },
    {
     "name": "stdout",
     "output_type": "stream",
     "text": [
      "After sweep 17 energy=-9.527451658651966  maxlinkdim=128 maxerr=1.00E-12 time=10.226\n"
     ]
    },
    {
     "name": "stdout",
     "output_type": "stream",
     "text": [
      "After sweep 18 energy=-9.52837887553906  maxlinkdim=128 maxerr=1.91E-12 time=10.305\n"
     ]
    },
    {
     "name": "stdout",
     "output_type": "stream",
     "text": [
      "After sweep 19 energy=-9.529141901374198  maxlinkdim=128 maxerr=8.14E-13 time=10.860\n"
     ]
    },
    {
     "name": "stdout",
     "output_type": "stream",
     "text": [
      "After sweep 20 energy=-9.52983443404207  maxlinkdim=128 maxerr=4.51E-13 time=12.371\n"
     ]
    },
    {
     "name": "stdout",
     "output_type": "stream",
     "text": [
      "After sweep 21 energy=-9.53060695214776  maxlinkdim=128 maxerr=2.28E-13 time=14.228\n"
     ]
    },
    {
     "name": "stdout",
     "output_type": "stream",
     "text": [
      "After sweep 22 energy=-9.531138345724989  maxlinkdim=128 maxerr=3.43E-13 time=13.588\n"
     ]
    },
    {
     "name": "stdout",
     "output_type": "stream",
     "text": [
      "After sweep 23 energy=-9.531638757131052  maxlinkdim=128 maxerr=2.99E-13 time=14.749\n"
     ]
    },
    {
     "name": "stdout",
     "output_type": "stream",
     "text": [
      "After sweep 24 energy=-9.532115528460817  maxlinkdim=128 maxerr=4.58E-13 time=13.732\n"
     ]
    },
    {
     "name": "stdout",
     "output_type": "stream",
     "text": [
      "After sweep 25 energy=-9.532644375630726  maxlinkdim=128 maxerr=1.11E-12 time=11.700\n"
     ]
    },
    {
     "name": "stdout",
     "output_type": "stream",
     "text": [
      "After sweep 26 energy=-9.533069091053127  maxlinkdim=128 maxerr=4.17E-13 time=11.789\n"
     ]
    },
    {
     "name": "stdout",
     "output_type": "stream",
     "text": [
      "After sweep 27 energy=-9.533435845292214  maxlinkdim=128 maxerr=1.99E-13 time=11.953\n"
     ]
    },
    {
     "name": "stdout",
     "output_type": "stream",
     "text": [
      "After sweep 28 energy=-9.533830115560242  maxlinkdim=128 maxerr=1.93E-13 time=11.585\n"
     ]
    },
    {
     "name": "stdout",
     "output_type": "stream",
     "text": [
      "After sweep 29 energy=-9.534226625479125  maxlinkdim=128 maxerr=2.82E-13 time=11.574\n"
     ]
    },
    {
     "name": "stdout",
     "output_type": "stream",
     "text": [
      "After sweep 30 energy=-9.53459595298398  maxlinkdim=128 maxerr=1.07E-12 time=11.945\n"
     ]
    },
    {
     "name": "stdout",
     "output_type": "stream",
     "text": [
      "After sweep 31 energy=-9.535017642344757  maxlinkdim=128 maxerr=4.04E-12 time=12.086\n"
     ]
    },
    {
     "name": "stdout",
     "output_type": "stream",
     "text": [
      "After sweep 32 energy=-9.535361784809057  maxlinkdim=128 maxerr=2.21E-12 time=12.347\n"
     ]
    },
    {
     "name": "stdout",
     "output_type": "stream",
     "text": [
      "After sweep 33 energy=-9.535671665972673  maxlinkdim=128 maxerr=2.74E-13 time=13.072\n"
     ]
    },
    {
     "name": "stdout",
     "output_type": "stream",
     "text": [
      "After sweep 34 energy=-9.535968032999591  maxlinkdim=128 maxerr=6.45E-14 time=12.672\n"
     ]
    },
    {
     "name": "stdout",
     "output_type": "stream",
     "text": [
      "After sweep 35 energy=-9.53625924009754  maxlinkdim=128 maxerr=9.96E-14 time=10.826\n"
     ]
    },
    {
     "name": "stdout",
     "output_type": "stream",
     "text": [
      "After sweep 36 energy=-9.53658114544853  maxlinkdim=128 maxerr=2.46E-13 time=11.322\n"
     ]
    },
    {
     "name": "stdout",
     "output_type": "stream",
     "text": [
      "After sweep 37 energy=-9.536895490499475  maxlinkdim=128 maxerr=6.87E-13 time=12.163\n"
     ]
    },
    {
     "name": "stdout",
     "output_type": "stream",
     "text": [
      "After sweep 38 energy=-9.53712076822839  maxlinkdim=128 maxerr=1.72E-13 time=12.323\n"
     ]
    },
    {
     "name": "stdout",
     "output_type": "stream",
     "text": [
      "After sweep 39 energy=-9.53734366214273  maxlinkdim=128 maxerr=2.13E-14 time=12.762\n"
     ]
    },
    {
     "name": "stdout",
     "output_type": "stream",
     "text": [
      "After sweep 40 energy=-9.53757847831151  maxlinkdim=128 maxerr=2.71E-14 time=12.371\n"
     ]
    },
    {
     "name": "stdout",
     "output_type": "stream",
     "text": [
      "After sweep 41 energy=-9.537819158614466  maxlinkdim=128 maxerr=3.26E-14 time=13.033\n"
     ]
    },
    {
     "name": "stdout",
     "output_type": "stream",
     "text": [
      "After sweep 42 energy=-9.538060727122685  maxlinkdim=128 maxerr=6.54E-14 time=12.722\n"
     ]
    },
    {
     "name": "stdout",
     "output_type": "stream",
     "text": [
      "After sweep 43 energy=-9.538310605220744  maxlinkdim=128 maxerr=1.66E-13 time=13.341\n"
     ]
    },
    {
     "name": "stdout",
     "output_type": "stream",
     "text": [
      "After sweep 44 energy=-9.538570970823255  maxlinkdim=128 maxerr=6.99E-14 time=14.224\n"
     ]
    },
    {
     "name": "stdout",
     "output_type": "stream",
     "text": [
      "After sweep 45 energy=-9.538782279510013  maxlinkdim=128 maxerr=1.03E-13 time=11.369\n"
     ]
    },
    {
     "name": "stdout",
     "output_type": "stream",
     "text": [
      "After sweep 46 energy=-9.538976045735794  maxlinkdim=128 maxerr=3.06E-14 time=11.266\n"
     ]
    },
    {
     "name": "stdout",
     "output_type": "stream",
     "text": [
      "After sweep 47 energy=-9.539150642477473  maxlinkdim=128 maxerr=1.27E-14 time=11.392\n"
     ]
    },
    {
     "name": "stdout",
     "output_type": "stream",
     "text": [
      "After sweep 48 energy=-9.539325328190078  maxlinkdim=128 maxerr=1.15E-14 time=11.887\n"
     ]
    },
    {
     "name": "stdout",
     "output_type": "stream",
     "text": [
      "After sweep 49 energy=-9.539490322935789  maxlinkdim=128 maxerr=7.16E-15 time=11.882\n"
     ]
    },
    {
     "name": "stdout",
     "output_type": "stream",
     "text": [
      "After sweep 50 energy=-9.539662939578596  maxlinkdim=128 maxerr=3.72E-14 time=12.358\n"
     ]
    },
    {
     "name": "stdout",
     "output_type": "stream",
     "text": [
      "After sweep 51 energy=-9.539853583914692  maxlinkdim=128 maxerr=2.26E-14 time=12.348\n"
     ]
    },
    {
     "name": "stdout",
     "output_type": "stream",
     "text": [
      "After sweep 52 energy=-9.54006299585412  maxlinkdim=128 maxerr=2.40E-14 time=12.582\n"
     ]
    },
    {
     "name": "stdout",
     "output_type": "stream",
     "text": [
      "After sweep 53 energy=-9.540240788279071  maxlinkdim=128 maxerr=2.85E-13 time=12.673\n"
     ]
    },
    {
     "name": "stdout",
     "output_type": "stream",
     "text": [
      "After sweep 54 energy=-9.540399799154486  maxlinkdim=128 maxerr=6.78E-14 time=13.035\n"
     ]
    },
    {
     "name": "stdout",
     "output_type": "stream",
     "text": [
      "After sweep 55 energy=-9.540589841783826  maxlinkdim=128 maxerr=8.64E-14 time=13.341\n"
     ]
    },
    {
     "name": "stdout",
     "output_type": "stream",
     "text": [
      "After sweep 56 energy=-9.540716852581783  maxlinkdim=128 maxerr=2.11E-14 time=11.322\n"
     ]
    },
    {
     "name": "stdout",
     "output_type": "stream",
     "text": [
      "After sweep 57 energy=-9.54084832446036  maxlinkdim=128 maxerr=1.66E-14 time=11.414\n"
     ]
    },
    {
     "name": "stdout",
     "output_type": "stream",
     "text": [
      "After sweep 58 energy=-9.541010545596475  maxlinkdim=128 maxerr=1.99E-14 time=11.837\n"
     ]
    },
    {
     "name": "stdout",
     "output_type": "stream",
     "text": [
      "After sweep 59 energy=-9.541178212909857  maxlinkdim=128 maxerr=2.25E-14 time=12.614\n"
     ]
    },
    {
     "name": "stdout",
     "output_type": "stream",
     "text": [
      "After sweep 60 energy=-9.541317947049084  maxlinkdim=128 maxerr=1.54E-14 time=12.795\n"
     ]
    },
    {
     "name": "stdout",
     "output_type": "stream",
     "text": [
      "After sweep 61 energy=-9.541457175255431  maxlinkdim=128 maxerr=2.32E-14 time=13.069\n"
     ]
    },
    {
     "name": "stdout",
     "output_type": "stream",
     "text": [
      "After sweep 62 energy=-9.541589402216434  maxlinkdim=128 maxerr=2.44E-14 time=13.952\n"
     ]
    },
    {
     "name": "stdout",
     "output_type": "stream",
     "text": [
      "After sweep 63 energy=-9.541706729849972  maxlinkdim=128 maxerr=3.72E-14 time=15.038\n"
     ]
    },
    {
     "name": "stdout",
     "output_type": "stream",
     "text": [
      "After sweep 64 energy=-9.541822248024086  maxlinkdim=128 maxerr=8.24E-14 time=14.948\n"
     ]
    },
    {
     "name": "stdout",
     "output_type": "stream",
     "text": [
      "After sweep 65 energy=-9.542013749925488  maxlinkdim=128 maxerr=2.06E-13 time=16.636\n"
     ]
    },
    {
     "name": "stdout",
     "output_type": "stream",
     "text": [
      "After sweep 66 energy=-9.542149878328647  maxlinkdim=128 maxerr=2.73E-13 time=13.642\n"
     ]
    },
    {
     "name": "stdout",
     "output_type": "stream",
     "text": [
      "After sweep 67 energy=-9.542272063290396  maxlinkdim=128 maxerr=3.88E-14 time=13.905\n"
     ]
    },
    {
     "name": "stdout",
     "output_type": "stream",
     "text": [
      "After sweep 68 energy=-9.542368609125987  maxlinkdim=128 maxerr=8.41E-14 time=13.255\n"
     ]
    },
    {
     "name": "stdout",
     "output_type": "stream",
     "text": [
      "After sweep 69 energy=-9.542457859903152  maxlinkdim=128 maxerr=3.14E-14 time=13.384\n"
     ]
    },
    {
     "name": "stdout",
     "output_type": "stream",
     "text": [
      "After sweep 70 energy=-9.542545350464648  maxlinkdim=128 maxerr=1.94E-14 time=12.853\n"
     ]
    },
    {
     "name": "stdout",
     "output_type": "stream",
     "text": [
      "After sweep 71 energy=-9.542638196250635  maxlinkdim=128 maxerr=2.40E-13 time=13.993\n"
     ]
    },
    {
     "name": "stdout",
     "output_type": "stream",
     "text": [
      "After sweep 72 energy=-9.542739785462063  maxlinkdim=128 maxerr=8.64E-15 time=14.183\n"
     ]
    },
    {
     "name": "stdout",
     "output_type": "stream",
     "text": [
      "After sweep 73 energy=-9.542854348629957  maxlinkdim=128 maxerr=7.86E-15 time=14.800\n"
     ]
    },
    {
     "name": "stdout",
     "output_type": "stream",
     "text": [
      "After sweep 74 energy=-9.543007140795542  maxlinkdim=128 maxerr=1.63E-13 time=15.676\n"
     ]
    },
    {
     "name": "stdout",
     "output_type": "stream",
     "text": [
      "After sweep 75 energy=-9.543095342326868  maxlinkdim=128 maxerr=1.91E-14 time=17.410\n"
     ]
    },
    {
     "name": "stdout",
     "output_type": "stream",
     "text": [
      "After sweep 76 energy=-9.543178472449235  maxlinkdim=128 maxerr=1.06E-14 time=14.768\n"
     ]
    },
    {
     "name": "stdout",
     "output_type": "stream",
     "text": [
      "After sweep 77 energy=-9.54325529097405  maxlinkdim=128 maxerr=5.57E-15 time=13.099\n"
     ]
    },
    {
     "name": "stdout",
     "output_type": "stream",
     "text": [
      "After sweep 78 energy=-9.543334775612623  maxlinkdim=128 maxerr=8.64E-15 time=12.671\n"
     ]
    },
    {
     "name": "stdout",
     "output_type": "stream",
     "text": [
      "After sweep 79 energy=-9.5434217031992  maxlinkdim=128 maxerr=9.14E-14 time=12.894\n"
     ]
    },
    {
     "name": "stdout",
     "output_type": "stream",
     "text": [
      "After sweep 80 energy=-9.543494788872628  maxlinkdim=128 maxerr=2.59E-15 time=12.721\n"
     ]
    },
    {
     "name": "stdout",
     "output_type": "stream",
     "text": [
      "After sweep 81 energy=-9.543567803380675  maxlinkdim=128 maxerr=2.45E-15 time=12.934\n"
     ]
    },
    {
     "name": "stdout",
     "output_type": "stream",
     "text": [
      "After sweep 82 energy=-9.543633755444057  maxlinkdim=128 maxerr=2.12E-15 time=12.842\n"
     ]
    },
    {
     "name": "stdout",
     "output_type": "stream",
     "text": [
      "After sweep 83 energy=-9.543705517344364  maxlinkdim=128 maxerr=4.34E-15 time=12.663\n"
     ]
    },
    {
     "name": "stdout",
     "output_type": "stream",
     "text": [
      "After sweep 84 energy=-9.543773122537834  maxlinkdim=128 maxerr=4.02E-15 time=13.280\n"
     ]
    },
    {
     "name": "stdout",
     "output_type": "stream",
     "text": [
      "After sweep 85 energy=-9.54383792200723  maxlinkdim=128 maxerr=1.49E-15 time=13.405\n"
     ]
    },
    {
     "name": "stdout",
     "output_type": "stream",
     "text": [
      "After sweep 86 energy=-9.543923957612241  maxlinkdim=128 maxerr=2.70E-13 time=13.338\n"
     ]
    },
    {
     "name": "stdout",
     "output_type": "stream",
     "text": [
      "After sweep 87 energy=-9.543979879547782  maxlinkdim=128 maxerr=4.89E-14 time=14.173\n"
     ]
    },
    {
     "name": "stdout",
     "output_type": "stream",
     "text": [
      "After sweep 88 energy=-9.54403510457985  maxlinkdim=128 maxerr=7.81E-15 time=10.364\n"
     ]
    },
    {
     "name": "stdout",
     "output_type": "stream",
     "text": [
      "After sweep 89 energy=-9.544086906621247  maxlinkdim=127 maxerr=9.94E-16 time=10.556\n"
     ]
    },
    {
     "name": "stdout",
     "output_type": "stream",
     "text": [
      "After sweep 90 energy=-9.54414340330659  maxlinkdim=128 maxerr=1.12E-15 time=11.486\n"
     ]
    },
    {
     "name": "stdout",
     "output_type": "stream",
     "text": [
      "After sweep 91 energy=-9.54420203070965  maxlinkdim=128 maxerr=1.90E-15 time=12.288\n"
     ]
    },
    {
     "name": "stdout",
     "output_type": "stream",
     "text": [
      "After sweep 92 energy=-9.54431553694294  maxlinkdim=128 maxerr=3.80E-13 time=12.959\n"
     ]
    },
    {
     "name": "stdout",
     "output_type": "stream",
     "text": [
      "After sweep 93 energy=-9.544440869422289  maxlinkdim=128 maxerr=1.87E-13 time=12.683\n"
     ]
    },
    {
     "name": "stdout",
     "output_type": "stream",
     "text": [
      "After sweep 94 energy=-9.544504032541326  maxlinkdim=128 maxerr=4.02E-14 time=12.793\n"
     ]
    },
    {
     "name": "stdout",
     "output_type": "stream",
     "text": [
      "After sweep 95 energy=-9.544562483176009  maxlinkdim=128 maxerr=1.00E-15 time=12.976\n"
     ]
    },
    {
     "name": "stdout",
     "output_type": "stream",
     "text": [
      "After sweep 96 energy=-9.54462443784055  maxlinkdim=128 maxerr=1.50E-14 time=13.087\n"
     ]
    },
    {
     "name": "stdout",
     "output_type": "stream",
     "text": [
      "After sweep 97 energy=-9.54469078375348  maxlinkdim=128 maxerr=8.49E-14 time=15.274\n"
     ]
    },
    {
     "name": "stdout",
     "output_type": "stream",
     "text": [
      "After sweep 98 energy=-9.544753737539201  maxlinkdim=128 maxerr=1.52E-13 time=14.442\n"
     ]
    },
    {
     "name": "stdout",
     "output_type": "stream",
     "text": [
      "After sweep 99 energy=-9.544805879460194  maxlinkdim=128 maxerr=1.16E-14 time=14.428\n"
     ]
    },
    {
     "name": "stdout",
     "output_type": "stream",
     "text": [
      "After sweep 100 energy=-9.544846019215694  maxlinkdim=128 maxerr=2.85E-15 time=14.899\n"
     ]
    },
    {
     "data": {
      "text/plain": [
       "129-element Vector{Float64}:\n",
       " 0.9975774626448402\n",
       " 1.0013327189819652\n",
       " 0.9995577938355484\n",
       " 0.998908130147249\n",
       " 0.9983523805264265\n",
       " 0.9977601355055282\n",
       " 0.9970603316956005\n",
       " 0.9962810410103236\n",
       " 0.995398142318098\n",
       " 0.9944173743739536\n",
       " ⋮\n",
       " 0.9955703976605225\n",
       " 0.9963911816357465\n",
       " 0.9971352541355817\n",
       " 0.997791221279238\n",
       " 0.9983737187285798\n",
       " 0.9989165444110952\n",
       " 0.9995805027948232\n",
       " 1.001340442234424\n",
       " 0.9975809502051294"
      ]
     },
     "metadata": {},
     "output_type": "display_data"
    }
   ],
   "source": [
    "density_MI = density_function(0.1, 1., 0., 129, convergence=1e-10, impurity_values=[0.0, 0.0], impurity_sites=[43, 86], impurity=true)\n",
    "density_MI_2 = density_function(0.1, 1., 0., 129, convergence=1e-10, impurity_values=[0.5, 0.5], impurity_sites=[43, 86], impurity=true)\n",
    "density_MI_3 = density_function(0.1, 1., 0., 129, convergence=1e-10, impurity_values=[1.0, 1.0], impurity_sites=[43, 86], impurity=true)\n",
    "density_MI_4 = density_function(0.1, 1., 0., 129, convergence=1e-10, impurity_values=[1.5, 1.5], impurity_sites=[43, 86], impurity=true)"
   ]
  },
  {
   "cell_type": "code",
   "execution_count": 13,
   "metadata": {},
   "outputs": [
    {
     "data": {
      "text/plain": [
       "saveData (generic function with 1 method)"
      ]
     },
     "metadata": {},
     "output_type": "display_data"
    }
   ],
   "source": [
    "function saveData(array, L, index::String, imp_value::String, phase::String)\n",
    "    x_values = range(0,L,step=1)\n",
    "    keys = collect(x_values)\n",
    "\n",
    "    output = Dict(\"index\"=>keys, \"density\"=>array)\n",
    "    json_string = JSON.json(output)\n",
    "    open(\"./data/\"*phase*\"-density-profile-impurity-\"*index*\"-\"*imp_value*\".json\",\"w\") do f \n",
    "        write(f, json_string) \n",
    "    end\n",
    "end"
   ]
  },
  {
   "cell_type": "code",
   "execution_count": 14,
   "metadata": {},
   "outputs": [
    {
     "data": {
      "text/plain": [
       "2864"
      ]
     },
     "metadata": {},
     "output_type": "display_data"
    }
   ],
   "source": [
    "saveData(density_MI, 129, \"[43-86]\",\"[00-00]\", \"MI\")\n",
    "saveData(density_MI_2, 129, \"[43-86]\",\"[05-05]\", \"MI\")\n",
    "saveData(density_MI_3, 129, \"[43-86]\",\"[10-10]\", \"MI\")\n",
    "saveData(density_MI_4, 129, \"[43-86]\",\"[15-15]\", \"MI\")"
   ]
  },
  {
   "cell_type": "code",
   "execution_count": 15,
   "metadata": {},
   "outputs": [
    {
     "data": {
      "image/png": "[encoded data removed]",
      "image/svg+xml": [
       "<?xml version=\"1.0\" encoding=\"utf-8\"?>\n",
       "<svg xmlns=\"http://www.w3.org/2000/svg\" xmlns:xlink=\"http://www.w3.org/1999/xlink\" width=\"600\" height=\"400\" viewBox=\"0 0 2400 1600\">\n",
       "<defs>\n",
       "  <clipPath id=\"clip320\">\n",
       "    <rect x=\"0\" y=\"0\" width=\"2400\" height=\"1600\"/>\n",
       "  </clipPath>\n",
       "</defs>\n",
       "<path clip-path=\"url(#clip320)\" d=\"M0 1600 L2400 1600 L2400 0 L0 0  Z\" fill=\"#ffffff\" fill-rule=\"evenodd\" fill-opacity=\"1\"/>\n",
       "<defs>\n",
       "  <clipPath id=\"clip321\">\n",
       "    <rect x=\"480\" y=\"0\" width=\"1681\" height=\"1600\"/>\n",
       "  </clipPath>\n",
       "</defs>\n",
       "<path clip-path=\"url(#clip320)\" d=\"M185.927 1486.45 L2352.76 1486.45 L2352.76 47.2441 L185.927 47.2441  Z\" fill=\"#ffffff\" fill-rule=\"evenodd\" fill-opacity=\"1\"/>\n",
       "<defs>\n",
       "  <clipPath id=\"clip322\">\n",
       "    <rect x=\"185\" y=\"47\" width=\"2168\" height=\"1440\"/>\n",
       "  </clipPath>\n",
       "</defs>\n",
       "<polyline clip-path=\"url(#clip322)\" style=\"stroke:#000000; stroke-linecap:round; stroke-linejoin:round; stroke-width:2; stroke-opacity:0.1; fill:none\" points=\"231.282,1486.45 231.282,47.2441 \"/>\n",
       "<polyline clip-path=\"url(#clip322)\" style=\"stroke:#000000; stroke-linecap:round; stroke-linejoin:round; stroke-width:2; stroke-opacity:0.1; fill:none\" points=\"550.685,1486.45 550.685,47.2441 \"/>\n",
       "<polyline clip-path=\"url(#clip322)\" style=\"stroke:#000000; stroke-linecap:round; stroke-linejoin:round; stroke-width:2; stroke-opacity:0.1; fill:none\" points=\"870.088,1486.45 870.088,47.2441 \"/>\n",
       "<polyline clip-path=\"url(#clip322)\" style=\"stroke:#000000; stroke-linecap:round; stroke-linejoin:round; stroke-width:2; stroke-opacity:0.1; fill:none\" points=\"1189.49,1486.45 1189.49,47.2441 \"/>\n",
       "<polyline clip-path=\"url(#clip322)\" style=\"stroke:#000000; stroke-linecap:round; stroke-linejoin:round; stroke-width:2; stroke-opacity:0.1; fill:none\" points=\"1508.89,1486.45 1508.89,47.2441 \"/>\n",
       "<polyline clip-path=\"url(#clip322)\" style=\"stroke:#000000; stroke-linecap:round; stroke-linejoin:round; stroke-width:2; stroke-opacity:0.1; fill:none\" points=\"1828.3,1486.45 1828.3,47.2441 \"/>\n",
       "<polyline clip-path=\"url(#clip322)\" style=\"stroke:#000000; stroke-linecap:round; stroke-linejoin:round; stroke-width:2; stroke-opacity:0.1; fill:none\" points=\"2147.7,1486.45 2147.7,47.2441 \"/>\n",
       "<polyline clip-path=\"url(#clip320)\" style=\"stroke:#000000; stroke-linecap:round; stroke-linejoin:round; stroke-width:4; stroke-opacity:1; fill:none\" points=\"185.927,1486.45 2352.76,1486.45 \"/>\n",
       "<polyline clip-path=\"url(#clip320)\" style=\"stroke:#000000; stroke-linecap:round; stroke-linejoin:round; stroke-width:4; stroke-opacity:1; fill:none\" points=\"231.282,1486.45 231.282,1467.55 \"/>\n",
       "<polyline clip-path=\"url(#clip320)\" style=\"stroke:#000000; stroke-linecap:round; stroke-linejoin:round; stroke-width:4; stroke-opacity:1; fill:none\" points=\"550.685,1486.45 550.685,1467.55 \"/>\n",
       "<polyline clip-path=\"url(#clip320)\" style=\"stroke:#000000; stroke-linecap:round; stroke-linejoin:round; stroke-width:4; stroke-opacity:1; fill:none\" points=\"870.088,1486.45 870.088,1467.55 \"/>\n",
       "<polyline clip-path=\"url(#clip320)\" style=\"stroke:#000000; stroke-linecap:round; stroke-linejoin:round; stroke-width:4; stroke-opacity:1; fill:none\" points=\"1189.49,1486.45 1189.49,1467.55 \"/>\n",
       "<polyline clip-path=\"url(#clip320)\" style=\"stroke:#000000; stroke-linecap:round; stroke-linejoin:round; stroke-width:4; stroke-opacity:1; fill:none\" points=\"1508.89,1486.45 1508.89,1467.55 \"/>\n",
       "<polyline clip-path=\"url(#clip320)\" style=\"stroke:#000000; stroke-linecap:round; stroke-linejoin:round; stroke-width:4; stroke-opacity:1; fill:none\" points=\"1828.3,1486.45 1828.3,1467.55 \"/>\n",
       "<polyline clip-path=\"url(#clip320)\" style=\"stroke:#000000; stroke-linecap:round; stroke-linejoin:round; stroke-width:4; stroke-opacity:1; fill:none\" points=\"2147.7,1486.45 2147.7,1467.55 \"/>\n",
       "<path clip-path=\"url(#clip320)\" d=\"M231.282 1517.37 Q227.671 1517.37 225.842 1520.93 Q224.037 1524.47 224.037 1531.6 Q224.037 1538.71 225.842 1542.27 Q227.671 1545.82 231.282 1545.82 Q234.916 1545.82 236.722 1542.27 Q238.55 1538.71 238.55 1531.6 Q238.55 1524.47 236.722 1520.93 Q234.916 1517.37 231.282 1517.37 M231.282 1513.66 Q237.092 1513.66 240.148 1518.27 Q243.226 1522.85 243.226 1531.6 Q243.226 1540.33 240.148 1544.94 Q237.092 1549.52 231.282 1549.52 Q225.472 1549.52 222.393 1544.94 Q219.338 1540.33 219.338 1531.6 Q219.338 1522.85 222.393 1518.27 Q225.472 1513.66 231.282 1513.66 Z\" fill=\"#000000\" fill-rule=\"nonzero\" fill-opacity=\"1\" /><path clip-path=\"url(#clip320)\" d=\"M529.458 1544.91 L545.777 1544.91 L545.777 1548.85 L523.833 1548.85 L523.833 1544.91 Q526.495 1542.16 531.078 1537.53 Q535.685 1532.88 536.865 1531.53 Q539.111 1529.01 539.99 1527.27 Q540.893 1525.51 540.893 1523.82 Q540.893 1521.07 538.949 1519.33 Q537.028 1517.6 533.926 1517.6 Q531.727 1517.6 529.273 1518.36 Q526.842 1519.13 524.065 1520.68 L524.065 1515.95 Q526.889 1514.82 529.342 1514.24 Q531.796 1513.66 533.833 1513.66 Q539.203 1513.66 542.398 1516.35 Q545.592 1519.03 545.592 1523.52 Q545.592 1525.65 544.782 1527.57 Q543.995 1529.47 541.889 1532.07 Q541.31 1532.74 538.208 1535.95 Q535.106 1539.15 529.458 1544.91 Z\" fill=\"#000000\" fill-rule=\"nonzero\" fill-opacity=\"1\" /><path clip-path=\"url(#clip320)\" d=\"M565.592 1517.37 Q561.981 1517.37 560.152 1520.93 Q558.347 1524.47 558.347 1531.6 Q558.347 1538.71 560.152 1542.27 Q561.981 1545.82 565.592 1545.82 Q569.226 1545.82 571.032 1542.27 Q572.861 1538.71 572.861 1531.6 Q572.861 1524.47 571.032 1520.93 Q569.226 1517.37 565.592 1517.37 M565.592 1513.66 Q571.402 1513.66 574.458 1518.27 Q577.537 1522.85 577.537 1531.6 Q577.537 1540.33 574.458 1544.94 Q571.402 1549.52 565.592 1549.52 Q559.782 1549.52 556.703 1544.94 Q553.648 1540.33 553.648 1531.6 Q553.648 1522.85 556.703 1518.27 Q559.782 1513.66 565.592 1513.66 Z\" fill=\"#000000\" fill-rule=\"nonzero\" fill-opacity=\"1\" /><path clip-path=\"url(#clip320)\" d=\"M858.259 1518.36 L846.454 1536.81 L858.259 1536.81 L858.259 1518.36 M857.032 1514.29 L862.912 1514.29 L862.912 1536.81 L867.842 1536.81 L867.842 1540.7 L862.912 1540.7 L862.912 1548.85 L858.259 1548.85 L858.259 1540.7 L842.657 1540.7 L842.657 1536.19 L857.032 1514.29 Z\" fill=\"#000000\" fill-rule=\"nonzero\" fill-opacity=\"1\" /><path clip-path=\"url(#clip320)\" d=\"M885.574 1517.37 Q881.963 1517.37 880.134 1520.93 Q878.328 1524.47 878.328 1531.6 Q878.328 1538.71 880.134 1542.27 Q881.963 1545.82 885.574 1545.82 Q889.208 1545.82 891.014 1542.27 Q892.842 1538.71 892.842 1531.6 Q892.842 1524.47 891.014 1520.93 Q889.208 1517.37 885.574 1517.37 M885.574 1513.66 Q891.384 1513.66 894.439 1518.27 Q897.518 1522.85 897.518 1531.6 Q897.518 1540.33 894.439 1544.94 Q891.384 1549.52 885.574 1549.52 Q879.764 1549.52 876.685 1544.94 Q873.629 1540.33 873.629 1531.6 Q873.629 1522.85 876.685 1518.27 Q879.764 1513.66 885.574 1513.66 Z\" fill=\"#000000\" fill-rule=\"nonzero\" fill-opacity=\"1\" /><path clip-path=\"url(#clip320)\" d=\"M1174.9 1529.7 Q1171.75 1529.7 1169.9 1531.86 Q1168.07 1534.01 1168.07 1537.76 Q1168.07 1541.49 1169.9 1543.66 Q1171.75 1545.82 1174.9 1545.82 Q1178.04 1545.82 1179.87 1543.66 Q1181.72 1541.49 1181.72 1537.76 Q1181.72 1534.01 1179.87 1531.86 Q1178.04 1529.7 1174.9 1529.7 M1184.18 1515.05 L1184.18 1519.31 Q1182.42 1518.48 1180.61 1518.04 Q1178.83 1517.6 1177.07 1517.6 Q1172.44 1517.6 1169.99 1520.72 Q1167.56 1523.85 1167.21 1530.17 Q1168.58 1528.15 1170.64 1527.09 Q1172.7 1526 1175.17 1526 Q1180.38 1526 1183.39 1529.17 Q1186.42 1532.32 1186.42 1537.76 Q1186.42 1543.08 1183.28 1546.3 Q1180.13 1549.52 1174.9 1549.52 Q1168.9 1549.52 1165.73 1544.94 Q1162.56 1540.33 1162.56 1531.6 Q1162.56 1523.41 1166.45 1518.55 Q1170.34 1513.66 1176.89 1513.66 Q1178.65 1513.66 1180.43 1514.01 Q1182.23 1514.36 1184.18 1515.05 Z\" fill=\"#000000\" fill-rule=\"nonzero\" fill-opacity=\"1\" /><path clip-path=\"url(#clip320)\" d=\"M1204.48 1517.37 Q1200.87 1517.37 1199.04 1520.93 Q1197.23 1524.47 1197.23 1531.6 Q1197.23 1538.71 1199.04 1542.27 Q1200.87 1545.82 1204.48 1545.82 Q1208.11 1545.82 1209.92 1542.27 Q1211.75 1538.71 1211.75 1531.6 Q1211.75 1524.47 1209.92 1520.93 Q1208.11 1517.37 1204.48 1517.37 M1204.48 1513.66 Q1210.29 1513.66 1213.34 1518.27 Q1216.42 1522.85 1216.42 1531.6 Q1216.42 1540.33 1213.34 1544.94 Q1210.29 1549.52 1204.48 1549.52 Q1198.67 1549.52 1195.59 1544.94 Q1192.53 1540.33 1192.53 1531.6 Q1192.53 1522.85 1195.59 1518.27 Q1198.67 1513.66 1204.48 1513.66 Z\" fill=\"#000000\" fill-rule=\"nonzero\" fill-opacity=\"1\" /><path clip-path=\"url(#clip320)\" d=\"M1493.77 1532.44 Q1490.43 1532.44 1488.51 1534.22 Q1486.61 1536 1486.61 1539.13 Q1486.61 1542.25 1488.51 1544.03 Q1490.43 1545.82 1493.77 1545.82 Q1497.1 1545.82 1499.02 1544.03 Q1500.94 1542.23 1500.94 1539.13 Q1500.94 1536 1499.02 1534.22 Q1497.12 1532.44 1493.77 1532.44 M1489.09 1530.45 Q1486.08 1529.7 1484.39 1527.64 Q1482.72 1525.58 1482.72 1522.62 Q1482.72 1518.48 1485.66 1516.07 Q1488.63 1513.66 1493.77 1513.66 Q1498.93 1513.66 1501.87 1516.07 Q1504.81 1518.48 1504.81 1522.62 Q1504.81 1525.58 1503.12 1527.64 Q1501.45 1529.7 1498.47 1530.45 Q1501.84 1531.23 1503.72 1533.52 Q1505.62 1535.82 1505.62 1539.13 Q1505.62 1544.15 1502.54 1546.83 Q1499.48 1549.52 1493.77 1549.52 Q1488.05 1549.52 1484.97 1546.83 Q1481.91 1544.15 1481.91 1539.13 Q1481.91 1535.82 1483.81 1533.52 Q1485.71 1531.23 1489.09 1530.45 M1487.38 1523.06 Q1487.38 1525.75 1489.04 1527.25 Q1490.73 1528.76 1493.77 1528.76 Q1496.78 1528.76 1498.47 1527.25 Q1500.18 1525.75 1500.18 1523.06 Q1500.18 1520.38 1498.47 1518.87 Q1496.78 1517.37 1493.77 1517.37 Q1490.73 1517.37 1489.04 1518.87 Q1487.38 1520.38 1487.38 1523.06 Z\" fill=\"#000000\" fill-rule=\"nonzero\" fill-opacity=\"1\" /><path clip-path=\"url(#clip320)\" d=\"M1523.93 1517.37 Q1520.32 1517.37 1518.49 1520.93 Q1516.68 1524.47 1516.68 1531.6 Q1516.68 1538.71 1518.49 1542.27 Q1520.32 1545.82 1523.93 1545.82 Q1527.56 1545.82 1529.37 1542.27 Q1531.2 1538.71 1531.2 1531.6 Q1531.2 1524.47 1529.37 1520.93 Q1527.56 1517.37 1523.93 1517.37 M1523.93 1513.66 Q1529.74 1513.66 1532.79 1518.27 Q1535.87 1522.85 1535.87 1531.6 Q1535.87 1540.33 1532.79 1544.94 Q1529.74 1549.52 1523.93 1549.52 Q1518.12 1549.52 1515.04 1544.94 Q1511.98 1540.33 1511.98 1531.6 Q1511.98 1522.85 1515.04 1518.27 Q1518.12 1513.66 1523.93 1513.66 Z\" fill=\"#000000\" fill-rule=\"nonzero\" fill-opacity=\"1\" /><path clip-path=\"url(#clip320)\" d=\"M1787.9 1544.91 L1795.54 1544.91 L1795.54 1518.55 L1787.23 1520.21 L1787.23 1515.95 L1795.5 1514.29 L1800.17 1514.29 L1800.17 1544.91 L1807.81 1544.91 L1807.81 1548.85 L1787.9 1548.85 L1787.9 1544.91 Z\" fill=\"#000000\" fill-rule=\"nonzero\" fill-opacity=\"1\" /><path clip-path=\"url(#clip320)\" d=\"M1827.25 1517.37 Q1823.64 1517.37 1821.81 1520.93 Q1820.01 1524.47 1820.01 1531.6 Q1820.01 1538.71 1821.81 1542.27 Q1823.64 1545.82 1827.25 1545.82 Q1830.89 1545.82 1832.69 1542.27 Q1834.52 1538.71 1834.52 1531.6 Q1834.52 1524.47 1832.69 1520.93 Q1830.89 1517.37 1827.25 1517.37 M1827.25 1513.66 Q1833.06 1513.66 1836.12 1518.27 Q1839.2 1522.85 1839.2 1531.6 Q1839.2 1540.33 1836.12 1544.94 Q1833.06 1549.52 1827.25 1549.52 Q1821.44 1549.52 1818.37 1544.94 Q1815.31 1540.33 1815.31 1531.6 Q1815.31 1522.85 1818.37 1518.27 Q1821.44 1513.66 1827.25 1513.66 Z\" fill=\"#000000\" fill-rule=\"nonzero\" fill-opacity=\"1\" /><path clip-path=\"url(#clip320)\" d=\"M1857.42 1517.37 Q1853.81 1517.37 1851.98 1520.93 Q1850.17 1524.47 1850.17 1531.6 Q1850.17 1538.71 1851.98 1542.27 Q1853.81 1545.82 1857.42 1545.82 Q1861.05 1545.82 1862.86 1542.27 Q1864.69 1538.71 1864.69 1531.6 Q1864.69 1524.47 1862.86 1520.93 Q1861.05 1517.37 1857.42 1517.37 M1857.42 1513.66 Q1863.23 1513.66 1866.28 1518.27 Q1869.36 1522.85 1869.36 1531.6 Q1869.36 1540.33 1866.28 1544.94 Q1863.23 1549.52 1857.42 1549.52 Q1851.61 1549.52 1848.53 1544.94 Q1845.47 1540.33 1845.47 1531.6 Q1845.47 1522.85 1848.53 1518.27 Q1851.61 1513.66 1857.42 1513.66 Z\" fill=\"#000000\" fill-rule=\"nonzero\" fill-opacity=\"1\" /><path clip-path=\"url(#clip320)\" d=\"M2107.31 1544.91 L2114.94 1544.91 L2114.94 1518.55 L2106.63 1520.21 L2106.63 1515.95 L2114.9 1514.29 L2119.57 1514.29 L2119.57 1544.91 L2127.21 1544.91 L2127.21 1548.85 L2107.31 1548.85 L2107.31 1544.91 Z\" fill=\"#000000\" fill-rule=\"nonzero\" fill-opacity=\"1\" /><path clip-path=\"url(#clip320)\" d=\"M2140.69 1544.91 L2157 1544.91 L2157 1548.85 L2135.06 1548.85 L2135.06 1544.91 Q2137.72 1542.16 2142.31 1537.53 Q2146.91 1532.88 2148.09 1531.53 Q2150.34 1529.01 2151.22 1527.27 Q2152.12 1525.51 2152.12 1523.82 Q2152.12 1521.07 2150.18 1519.33 Q2148.25 1517.6 2145.15 1517.6 Q2142.95 1517.6 2140.5 1518.36 Q2138.07 1519.13 2135.29 1520.68 L2135.29 1515.95 Q2138.12 1514.82 2140.57 1514.24 Q2143.02 1513.66 2145.06 1513.66 Q2150.43 1513.66 2153.63 1516.35 Q2156.82 1519.03 2156.82 1523.52 Q2156.82 1525.65 2156.01 1527.57 Q2155.22 1529.47 2153.12 1532.07 Q2152.54 1532.74 2149.44 1535.95 Q2146.33 1539.15 2140.69 1544.91 Z\" fill=\"#000000\" fill-rule=\"nonzero\" fill-opacity=\"1\" /><path clip-path=\"url(#clip320)\" d=\"M2176.82 1517.37 Q2173.21 1517.37 2171.38 1520.93 Q2169.57 1524.47 2169.57 1531.6 Q2169.57 1538.71 2171.38 1542.27 Q2173.21 1545.82 2176.82 1545.82 Q2180.45 1545.82 2182.26 1542.27 Q2184.09 1538.71 2184.09 1531.6 Q2184.09 1524.47 2182.26 1520.93 Q2180.45 1517.37 2176.82 1517.37 M2176.82 1513.66 Q2182.63 1513.66 2185.69 1518.27 Q2188.76 1522.85 2188.76 1531.6 Q2188.76 1540.33 2185.69 1544.94 Q2182.63 1549.52 2176.82 1549.52 Q2171.01 1549.52 2167.93 1544.94 Q2164.88 1540.33 2164.88 1531.6 Q2164.88 1522.85 2167.93 1518.27 Q2171.01 1513.66 2176.82 1513.66 Z\" fill=\"#000000\" fill-rule=\"nonzero\" fill-opacity=\"1\" /><polyline clip-path=\"url(#clip322)\" style=\"stroke:#000000; stroke-linecap:round; stroke-linejoin:round; stroke-width:2; stroke-opacity:0.1; fill:none\" points=\"185.927,1323.66 2352.76,1323.66 \"/>\n",
       "<polyline clip-path=\"url(#clip322)\" style=\"stroke:#000000; stroke-linecap:round; stroke-linejoin:round; stroke-width:2; stroke-opacity:0.1; fill:none\" points=\"185.927,1054.84 2352.76,1054.84 \"/>\n",
       "<polyline clip-path=\"url(#clip322)\" style=\"stroke:#000000; stroke-linecap:round; stroke-linejoin:round; stroke-width:2; stroke-opacity:0.1; fill:none\" points=\"185.927,786.006 2352.76,786.006 \"/>\n",
       "<polyline clip-path=\"url(#clip322)\" style=\"stroke:#000000; stroke-linecap:round; stroke-linejoin:round; stroke-width:2; stroke-opacity:0.1; fill:none\" points=\"185.927,517.176 2352.76,517.176 \"/>\n",
       "<polyline clip-path=\"url(#clip322)\" style=\"stroke:#000000; stroke-linecap:round; stroke-linejoin:round; stroke-width:2; stroke-opacity:0.1; fill:none\" points=\"185.927,248.347 2352.76,248.347 \"/>\n",
       "<polyline clip-path=\"url(#clip320)\" style=\"stroke:#000000; stroke-linecap:round; stroke-linejoin:round; stroke-width:4; stroke-opacity:1; fill:none\" points=\"185.927,1486.45 185.927,47.2441 \"/>\n",
       "<polyline clip-path=\"url(#clip320)\" style=\"stroke:#000000; stroke-linecap:round; stroke-linejoin:round; stroke-width:4; stroke-opacity:1; fill:none\" points=\"185.927,1323.66 204.824,1323.66 \"/>\n",
       "<polyline clip-path=\"url(#clip320)\" style=\"stroke:#000000; stroke-linecap:round; stroke-linejoin:round; stroke-width:4; stroke-opacity:1; fill:none\" points=\"185.927,1054.84 204.824,1054.84 \"/>\n",
       "<polyline clip-path=\"url(#clip320)\" style=\"stroke:#000000; stroke-linecap:round; stroke-linejoin:round; stroke-width:4; stroke-opacity:1; fill:none\" points=\"185.927,786.006 204.824,786.006 \"/>\n",
       "<polyline clip-path=\"url(#clip320)\" style=\"stroke:#000000; stroke-linecap:round; stroke-linejoin:round; stroke-width:4; stroke-opacity:1; fill:none\" points=\"185.927,517.176 204.824,517.176 \"/>\n",
       "<polyline clip-path=\"url(#clip320)\" style=\"stroke:#000000; stroke-linecap:round; stroke-linejoin:round; stroke-width:4; stroke-opacity:1; fill:none\" points=\"185.927,248.347 204.824,248.347 \"/>\n",
       "<path clip-path=\"url(#clip320)\" d=\"M53.3995 1337.01 L61.0384 1337.01 L61.0384 1310.64 L52.7282 1312.31 L52.7282 1308.05 L60.9921 1306.38 L65.668 1306.38 L65.668 1337.01 L73.3068 1337.01 L73.3068 1340.94 L53.3995 1340.94 L53.3995 1337.01 Z\" fill=\"#000000\" fill-rule=\"nonzero\" fill-opacity=\"1\" /><path clip-path=\"url(#clip320)\" d=\"M82.7512 1335.06 L87.6354 1335.06 L87.6354 1340.94 L82.7512 1340.94 L82.7512 1335.06 Z\" fill=\"#000000\" fill-rule=\"nonzero\" fill-opacity=\"1\" /><path clip-path=\"url(#clip320)\" d=\"M107.821 1309.46 Q104.209 1309.46 102.381 1313.03 Q100.575 1316.57 100.575 1323.7 Q100.575 1330.81 102.381 1334.37 Q104.209 1337.91 107.821 1337.91 Q111.455 1337.91 113.26 1334.37 Q115.089 1330.81 115.089 1323.7 Q115.089 1316.57 113.26 1313.03 Q111.455 1309.46 107.821 1309.46 M107.821 1305.76 Q113.631 1305.76 116.686 1310.37 Q119.765 1314.95 119.765 1323.7 Q119.765 1332.43 116.686 1337.03 Q113.631 1341.62 107.821 1341.62 Q102.01 1341.62 98.9317 1337.03 Q95.8761 1332.43 95.8761 1323.7 Q95.8761 1314.95 98.9317 1310.37 Q102.01 1305.76 107.821 1305.76 Z\" fill=\"#000000\" fill-rule=\"nonzero\" fill-opacity=\"1\" /><path clip-path=\"url(#clip320)\" d=\"M137.982 1309.46 Q134.371 1309.46 132.543 1313.03 Q130.737 1316.57 130.737 1323.7 Q130.737 1330.81 132.543 1334.37 Q134.371 1337.91 137.982 1337.91 Q141.617 1337.91 143.422 1334.37 Q145.251 1330.81 145.251 1323.7 Q145.251 1316.57 143.422 1313.03 Q141.617 1309.46 137.982 1309.46 M137.982 1305.76 Q143.793 1305.76 146.848 1310.37 Q149.927 1314.95 149.927 1323.7 Q149.927 1332.43 146.848 1337.03 Q143.793 1341.62 137.982 1341.62 Q132.172 1341.62 129.094 1337.03 Q126.038 1332.43 126.038 1323.7 Q126.038 1314.95 129.094 1310.37 Q132.172 1305.76 137.982 1305.76 Z\" fill=\"#000000\" fill-rule=\"nonzero\" fill-opacity=\"1\" /><path clip-path=\"url(#clip320)\" d=\"M54.3949 1068.18 L62.0337 1068.18 L62.0337 1041.81 L53.7236 1043.48 L53.7236 1039.22 L61.9874 1037.56 L66.6633 1037.56 L66.6633 1068.18 L74.3022 1068.18 L74.3022 1072.12 L54.3949 1072.12 L54.3949 1068.18 Z\" fill=\"#000000\" fill-rule=\"nonzero\" fill-opacity=\"1\" /><path clip-path=\"url(#clip320)\" d=\"M83.7466 1066.24 L88.6308 1066.24 L88.6308 1072.12 L83.7466 1072.12 L83.7466 1066.24 Z\" fill=\"#000000\" fill-rule=\"nonzero\" fill-opacity=\"1\" /><path clip-path=\"url(#clip320)\" d=\"M102.844 1068.18 L119.163 1068.18 L119.163 1072.12 L97.2187 1072.12 L97.2187 1068.18 Q99.8808 1065.43 104.464 1060.8 Q109.071 1056.14 110.251 1054.8 Q112.496 1052.28 113.376 1050.54 Q114.279 1048.78 114.279 1047.09 Q114.279 1044.34 112.334 1042.6 Q110.413 1040.87 107.311 1040.87 Q105.112 1040.87 102.659 1041.63 Q100.228 1042.39 97.4502 1043.94 L97.4502 1039.22 Q100.274 1038.09 102.728 1037.51 Q105.182 1036.93 107.219 1036.93 Q112.589 1036.93 115.783 1039.62 Q118.978 1042.3 118.978 1046.79 Q118.978 1048.92 118.168 1050.84 Q117.381 1052.74 115.274 1055.33 Q114.695 1056 111.594 1059.22 Q108.492 1062.42 102.844 1068.18 Z\" fill=\"#000000\" fill-rule=\"nonzero\" fill-opacity=\"1\" /><path clip-path=\"url(#clip320)\" d=\"M129.024 1037.56 L147.38 1037.56 L147.38 1041.49 L133.306 1041.49 L133.306 1049.96 Q134.325 1049.62 135.344 1049.45 Q136.362 1049.27 137.381 1049.27 Q143.168 1049.27 146.547 1052.44 Q149.927 1055.61 149.927 1061.03 Q149.927 1066.61 146.455 1069.71 Q142.982 1072.79 136.663 1072.79 Q134.487 1072.79 132.219 1072.42 Q129.973 1072.05 127.566 1071.3 L127.566 1066.61 Q129.649 1067.74 131.871 1068.3 Q134.094 1068.85 136.57 1068.85 Q140.575 1068.85 142.913 1066.74 Q145.251 1064.64 145.251 1061.03 Q145.251 1057.42 142.913 1055.31 Q140.575 1053.2 136.57 1053.2 Q134.695 1053.2 132.82 1053.62 Q130.969 1054.04 129.024 1054.92 L129.024 1037.56 Z\" fill=\"#000000\" fill-rule=\"nonzero\" fill-opacity=\"1\" /><path clip-path=\"url(#clip320)\" d=\"M53.3995 799.35 L61.0384 799.35 L61.0384 772.985 L52.7282 774.651 L52.7282 770.392 L60.9921 768.726 L65.668 768.726 L65.668 799.35 L73.3068 799.35 L73.3068 803.286 L53.3995 803.286 L53.3995 799.35 Z\" fill=\"#000000\" fill-rule=\"nonzero\" fill-opacity=\"1\" /><path clip-path=\"url(#clip320)\" d=\"M82.7512 797.406 L87.6354 797.406 L87.6354 803.286 L82.7512 803.286 L82.7512 797.406 Z\" fill=\"#000000\" fill-rule=\"nonzero\" fill-opacity=\"1\" /><path clip-path=\"url(#clip320)\" d=\"M97.8669 768.726 L116.223 768.726 L116.223 772.661 L102.149 772.661 L102.149 781.133 Q103.168 780.786 104.186 780.624 Q105.205 780.438 106.223 780.438 Q112.01 780.438 115.39 783.61 Q118.77 786.781 118.77 792.198 Q118.77 797.776 115.297 800.878 Q111.825 803.957 105.506 803.957 Q103.33 803.957 101.061 803.587 Q98.8159 803.216 96.4085 802.475 L96.4085 797.776 Q98.4919 798.911 100.714 799.466 Q102.936 800.022 105.413 800.022 Q109.418 800.022 111.756 797.915 Q114.094 795.809 114.094 792.198 Q114.094 788.587 111.756 786.48 Q109.418 784.374 105.413 784.374 Q103.538 784.374 101.663 784.79 Q99.8113 785.207 97.8669 786.087 L97.8669 768.726 Z\" fill=\"#000000\" fill-rule=\"nonzero\" fill-opacity=\"1\" /><path clip-path=\"url(#clip320)\" d=\"M137.982 771.804 Q134.371 771.804 132.543 775.369 Q130.737 778.911 130.737 786.04 Q130.737 793.147 132.543 796.712 Q134.371 800.253 137.982 800.253 Q141.617 800.253 143.422 796.712 Q145.251 793.147 145.251 786.04 Q145.251 778.911 143.422 775.369 Q141.617 771.804 137.982 771.804 M137.982 768.101 Q143.793 768.101 146.848 772.707 Q149.927 777.29 149.927 786.04 Q149.927 794.767 146.848 799.374 Q143.793 803.957 137.982 803.957 Q132.172 803.957 129.094 799.374 Q126.038 794.767 126.038 786.04 Q126.038 777.29 129.094 772.707 Q132.172 768.101 137.982 768.101 Z\" fill=\"#000000\" fill-rule=\"nonzero\" fill-opacity=\"1\" /><path clip-path=\"url(#clip320)\" d=\"M54.3949 530.521 L62.0337 530.521 L62.0337 504.155 L53.7236 505.822 L53.7236 501.563 L61.9874 499.896 L66.6633 499.896 L66.6633 530.521 L74.3022 530.521 L74.3022 534.456 L54.3949 534.456 L54.3949 530.521 Z\" fill=\"#000000\" fill-rule=\"nonzero\" fill-opacity=\"1\" /><path clip-path=\"url(#clip320)\" d=\"M83.7466 528.577 L88.6308 528.577 L88.6308 534.456 L83.7466 534.456 L83.7466 528.577 Z\" fill=\"#000000\" fill-rule=\"nonzero\" fill-opacity=\"1\" /><path clip-path=\"url(#clip320)\" d=\"M97.6354 499.896 L119.857 499.896 L119.857 501.887 L107.311 534.456 L102.427 534.456 L114.233 503.831 L97.6354 503.831 L97.6354 499.896 Z\" fill=\"#000000\" fill-rule=\"nonzero\" fill-opacity=\"1\" /><path clip-path=\"url(#clip320)\" d=\"M129.024 499.896 L147.38 499.896 L147.38 503.831 L133.306 503.831 L133.306 512.303 Q134.325 511.956 135.344 511.794 Q136.362 511.609 137.381 511.609 Q143.168 511.609 146.547 514.78 Q149.927 517.952 149.927 523.368 Q149.927 528.947 146.455 532.049 Q142.982 535.127 136.663 535.127 Q134.487 535.127 132.219 534.757 Q129.973 534.387 127.566 533.646 L127.566 528.947 Q129.649 530.081 131.871 530.637 Q134.094 531.192 136.57 531.192 Q140.575 531.192 142.913 529.086 Q145.251 526.979 145.251 523.368 Q145.251 519.757 142.913 517.651 Q140.575 515.544 136.57 515.544 Q134.695 515.544 132.82 515.961 Q130.969 516.378 129.024 517.257 L129.024 499.896 Z\" fill=\"#000000\" fill-rule=\"nonzero\" fill-opacity=\"1\" /><path clip-path=\"url(#clip320)\" d=\"M56.6171 261.692 L72.9365 261.692 L72.9365 265.627 L50.9921 265.627 L50.9921 261.692 Q53.6541 258.937 58.2375 254.307 Q62.8439 249.655 64.0245 248.312 Q66.2698 245.789 67.1494 244.053 Q68.0522 242.294 68.0522 240.604 Q68.0522 237.849 66.1078 236.113 Q64.1865 234.377 61.0847 234.377 Q58.8856 234.377 56.4319 235.141 Q54.0014 235.905 51.2236 237.456 L51.2236 232.733 Q54.0477 231.599 56.5014 231.02 Q58.955 230.442 60.9921 230.442 Q66.3624 230.442 69.5568 233.127 Q72.7513 235.812 72.7513 240.303 Q72.7513 242.432 71.9411 244.354 Q71.1541 246.252 69.0476 248.844 Q68.4689 249.516 65.367 252.733 Q62.2652 255.928 56.6171 261.692 Z\" fill=\"#000000\" fill-rule=\"nonzero\" fill-opacity=\"1\" /><path clip-path=\"url(#clip320)\" d=\"M82.7512 259.747 L87.6354 259.747 L87.6354 265.627 L82.7512 265.627 L82.7512 259.747 Z\" fill=\"#000000\" fill-rule=\"nonzero\" fill-opacity=\"1\" /><path clip-path=\"url(#clip320)\" d=\"M107.821 234.145 Q104.209 234.145 102.381 237.71 Q100.575 241.252 100.575 248.381 Q100.575 255.488 102.381 259.053 Q104.209 262.594 107.821 262.594 Q111.455 262.594 113.26 259.053 Q115.089 255.488 115.089 248.381 Q115.089 241.252 113.26 237.71 Q111.455 234.145 107.821 234.145 M107.821 230.442 Q113.631 230.442 116.686 235.048 Q119.765 239.631 119.765 248.381 Q119.765 257.108 116.686 261.715 Q113.631 266.298 107.821 266.298 Q102.01 266.298 98.9317 261.715 Q95.8761 257.108 95.8761 248.381 Q95.8761 239.631 98.9317 235.048 Q102.01 230.442 107.821 230.442 Z\" fill=\"#000000\" fill-rule=\"nonzero\" fill-opacity=\"1\" /><path clip-path=\"url(#clip320)\" d=\"M137.982 234.145 Q134.371 234.145 132.543 237.71 Q130.737 241.252 130.737 248.381 Q130.737 255.488 132.543 259.053 Q134.371 262.594 137.982 262.594 Q141.617 262.594 143.422 259.053 Q145.251 255.488 145.251 248.381 Q145.251 241.252 143.422 237.71 Q141.617 234.145 137.982 234.145 M137.982 230.442 Q143.793 230.442 146.848 235.048 Q149.927 239.631 149.927 248.381 Q149.927 257.108 146.848 261.715 Q143.793 266.298 137.982 266.298 Q132.172 266.298 129.094 261.715 Q126.038 257.108 126.038 248.381 Q126.038 239.631 129.094 235.048 Q132.172 230.442 137.982 230.442 Z\" fill=\"#000000\" fill-rule=\"nonzero\" fill-opacity=\"1\" /><polyline clip-path=\"url(#clip322)\" style=\"stroke:#009af9; stroke-linecap:round; stroke-linejoin:round; stroke-width:4; stroke-opacity:1; fill:none\" points=\"247.252,1326.04 263.222,1321.75 279.192,1323.3 295.163,1323.59 311.133,1323.65 327.103,1323.66 343.073,1323.66 359.043,1323.66 375.013,1323.66 390.983,1323.66 406.954,1323.66 422.924,1323.66 438.894,1323.66 454.864,1323.66 470.834,1323.66 486.804,1323.66 502.774,1323.66 518.745,1323.66 534.715,1323.66 550.685,1323.66 566.655,1323.66 582.625,1323.66 598.595,1323.66 614.565,1323.66 630.536,1323.66 646.506,1323.66 662.476,1323.66 678.446,1323.66 694.416,1323.66 710.386,1323.66 726.356,1323.66 742.327,1323.66 758.297,1323.66 774.267,1323.66 790.237,1323.66 806.207,1323.66 822.177,1323.66 838.147,1323.66 854.118,1323.66 870.088,1323.66 886.058,1323.66 902.028,1323.66 917.998,1323.66 933.968,1323.66 949.938,1323.66 965.909,1323.66 981.879,1323.66 997.849,1323.66 1013.82,1323.66 1029.79,1323.66 1045.76,1323.66 1061.73,1323.66 1077.7,1323.66 1093.67,1323.66 1109.64,1323.66 1125.61,1323.66 1141.58,1323.66 1157.55,1323.66 1173.52,1323.66 1189.49,1323.66 1205.46,1323.66 1221.43,1323.66 1237.4,1323.66 1253.37,1323.66 1269.34,1323.66 1285.31,1323.66 1301.28,1323.66 1317.25,1323.66 1333.22,1323.66 1349.19,1323.66 1365.16,1323.66 1381.13,1323.66 1397.1,1323.66 1413.07,1323.66 1429.04,1323.66 1445.01,1323.66 1460.98,1323.66 1476.95,1323.66 1492.92,1323.66 1508.89,1323.66 1524.86,1323.66 1540.83,1323.66 1556.8,1323.66 1572.77,1323.66 1588.74,1323.66 1604.71,1323.66 1620.68,1323.66 1636.65,1323.66 1652.62,1323.66 1668.59,1323.66 1684.57,1323.66 1700.54,1323.66 1716.51,1323.66 1732.48,1323.66 1748.45,1323.66 1764.42,1323.66 1780.39,1323.66 1796.36,1323.66 1812.33,1323.66 1828.3,1323.66 1844.27,1323.66 1860.24,1323.66 1876.21,1323.66 1892.18,1323.66 1908.15,1323.66 1924.12,1323.66 1940.09,1323.66 1956.06,1323.66 1972.03,1323.66 1988,1323.66 2003.97,1323.66 2019.94,1323.66 2035.91,1323.66 2051.88,1323.66 2067.85,1323.66 2083.82,1323.66 2099.79,1323.66 2115.76,1323.66 2131.73,1323.66 2147.7,1323.66 2163.67,1323.66 2179.64,1323.66 2195.61,1323.66 2211.58,1323.66 2227.55,1323.65 2243.52,1323.59 2259.49,1323.3 2275.46,1321.75 2291.43,1326.04 \"/>\n",
       "<polyline clip-path=\"url(#clip322)\" style=\"stroke:#e26f46; stroke-linecap:round; stroke-linejoin:round; stroke-width:4; stroke-opacity:1; fill:none\" points=\"247.252,1326.04 263.222,1321.75 279.192,1323.3 295.163,1323.59 311.133,1323.65 327.103,1323.66 343.073,1323.66 359.043,1323.66 375.013,1323.66 390.983,1323.66 406.954,1323.66 422.924,1323.66 438.894,1323.66 454.864,1323.66 470.834,1323.66 486.804,1323.66 502.774,1323.66 518.745,1323.66 534.715,1323.66 550.685,1323.66 566.655,1323.66 582.625,1323.66 598.595,1323.66 614.565,1323.66 630.536,1323.66 646.506,1323.66 662.476,1323.66 678.446,1323.66 694.416,1323.66 710.386,1323.66 726.356,1323.66 742.327,1323.66 758.297,1323.66 774.267,1323.67 790.237,1323.67 806.207,1323.68 822.177,1323.71 838.147,1323.84 854.118,1324.35 870.088,1326.4 886.058,1335.33 902.028,1375.21 917.998,1189.93 933.968,1375.21 949.938,1335.33 965.909,1326.4 981.879,1324.35 997.849,1323.84 1013.82,1323.71 1029.79,1323.68 1045.76,1323.67 1061.73,1323.67 1077.7,1323.66 1093.67,1323.66 1109.64,1323.66 1125.61,1323.66 1141.58,1323.66 1157.55,1323.66 1173.52,1323.66 1189.49,1323.66 1205.46,1323.66 1221.43,1323.66 1237.4,1323.66 1253.37,1323.66 1269.34,1323.66 1285.31,1323.66 1301.28,1323.66 1317.25,1323.66 1333.22,1323.66 1349.19,1323.66 1365.16,1323.66 1381.13,1323.66 1397.1,1323.66 1413.07,1323.66 1429.04,1323.66 1445.01,1323.66 1460.98,1323.67 1476.95,1323.67 1492.92,1323.68 1508.89,1323.71 1524.86,1323.84 1540.83,1324.35 1556.8,1326.4 1572.77,1335.33 1588.74,1375.21 1604.71,1189.93 1620.68,1375.21 1636.65,1335.33 1652.62,1326.4 1668.59,1324.35 1684.57,1323.84 1700.54,1323.71 1716.51,1323.68 1732.48,1323.67 1748.45,1323.67 1764.42,1323.66 1780.39,1323.66 1796.36,1323.66 1812.33,1323.66 1828.3,1323.66 1844.27,1323.66 1860.24,1323.66 1876.21,1323.66 1892.18,1323.66 1908.15,1323.66 1924.12,1323.66 1940.09,1323.66 1956.06,1323.66 1972.03,1323.66 1988,1323.66 2003.97,1323.66 2019.94,1323.66 2035.91,1323.66 2051.88,1323.66 2067.85,1323.66 2083.82,1323.66 2099.79,1323.66 2115.76,1323.66 2131.73,1323.66 2147.7,1323.66 2163.67,1323.66 2179.64,1323.66 2195.61,1323.66 2211.58,1323.66 2227.55,1323.65 2243.52,1323.59 2259.49,1323.3 2275.46,1321.75 2291.43,1326.04 \"/>\n",
       "<polyline clip-path=\"url(#clip322)\" style=\"stroke:#3da44d; stroke-linecap:round; stroke-linejoin:round; stroke-width:4; stroke-opacity:1; fill:none\" points=\"247.252,1326.04 263.222,1321.75 279.192,1323.3 295.163,1323.59 311.133,1323.65 327.103,1323.66 343.073,1323.66 359.043,1323.67 375.013,1323.67 390.983,1323.67 406.954,1323.67 422.924,1323.67 438.894,1323.67 454.864,1323.67 470.834,1323.68 486.804,1323.68 502.774,1323.69 518.745,1323.7 534.715,1323.72 550.685,1323.74 566.655,1323.77 582.625,1323.81 598.595,1323.87 614.565,1323.95 630.536,1324.06 646.506,1324.23 662.476,1324.45 678.446,1324.78 694.416,1325.23 710.386,1325.87 726.356,1326.76 742.327,1328.02 758.297,1329.79 774.267,1332.29 790.237,1335.8 806.207,1340.74 822.177,1347.68 838.147,1357.46 854.118,1371.23 870.088,1390.69 886.058,1418.31 902.028,1445.72 917.998,427.692 933.968,1445.71 949.938,1418.31 965.909,1390.68 981.879,1371.22 997.849,1357.45 1013.82,1347.67 1029.79,1340.72 1045.76,1335.78 1061.73,1332.27 1077.7,1329.78 1093.67,1328.01 1109.64,1326.75 1125.61,1325.86 1141.58,1325.22 1157.55,1324.78 1173.52,1324.46 1189.49,1324.24 1205.46,1324.09 1221.43,1323.99 1237.4,1323.93 1253.37,1323.9 1269.34,1323.9 1285.31,1323.93 1301.28,1323.99 1317.25,1324.09 1333.22,1324.24 1349.19,1324.46 1365.16,1324.77 1381.13,1325.22 1397.1,1325.86 1413.07,1326.75 1429.04,1328.01 1445.01,1329.78 1460.98,1332.27 1476.95,1335.78 1492.92,1340.72 1508.89,1347.67 1524.86,1357.45 1540.83,1371.22 1556.8,1390.68 1572.77,1418.31 1588.74,1445.71 1604.71,427.693 1620.68,1445.72 1636.65,1418.31 1652.62,1390.69 1668.59,1371.23 1684.57,1357.46 1700.54,1347.68 1716.51,1340.73 1732.48,1335.8 1748.45,1332.29 1764.42,1329.79 1780.39,1328.02 1796.36,1326.76 1812.33,1325.87 1828.3,1325.23 1844.27,1324.78 1860.24,1324.45 1876.21,1324.23 1892.18,1324.06 1908.15,1323.95 1924.12,1323.87 1940.09,1323.81 1956.06,1323.77 1972.03,1323.74 1988,1323.72 2003.97,1323.7 2019.94,1323.69 2035.91,1323.68 2051.88,1323.68 2067.85,1323.67 2083.82,1323.67 2099.79,1323.67 2115.76,1323.67 2131.73,1323.67 2147.7,1323.67 2163.67,1323.67 2179.64,1323.66 2195.61,1323.66 2211.58,1323.66 2227.55,1323.65 2243.52,1323.59 2259.49,1323.3 2275.46,1321.75 2291.43,1326.04 \"/>\n",
       "<polyline clip-path=\"url(#clip322)\" style=\"stroke:#c271d2; stroke-linecap:round; stroke-linejoin:round; stroke-width:4; stroke-opacity:1; fill:none\" points=\"247.252,1326.27 263.222,1322.23 279.192,1324.14 295.163,1324.84 311.133,1325.44 327.103,1326.07 343.073,1326.83 359.043,1327.66 375.013,1328.61 390.983,1329.67 406.954,1330.87 422.924,1332.18 438.894,1333.64 454.864,1335.23 470.834,1336.98 486.804,1338.91 502.774,1340.98 518.745,1343.28 534.715,1345.58 550.685,1347.99 566.655,1350.54 582.625,1353.2 598.595,1355.88 614.565,1358.57 630.536,1361.19 646.506,1363.68 662.476,1365.8 678.446,1367.52 694.416,1368.76 710.386,1369.43 726.356,1369.41 742.327,1368.65 758.297,1367.16 774.267,1364.87 790.237,1361.74 806.207,1357.95 822.177,1353.58 838.147,1348.89 854.118,1344.47 870.088,1342.21 886.058,1349.46 902.028,1387.92 917.998,87.9763 933.968,1387.18 949.938,1346.32 965.909,1335.92 981.879,1334.53 997.849,1334.92 1013.82,1335.57 1029.79,1335.94 1045.76,1336.02 1061.73,1335.8 1077.7,1335.3 1093.67,1334.6 1109.64,1333.74 1125.61,1332.82 1141.58,1331.89 1157.55,1330.99 1173.52,1330.21 1189.49,1329.57 1205.46,1329.13 1221.43,1328.91 1237.4,1328.96 1253.37,1329.28 1269.34,1329.89 1285.31,1330.81 1301.28,1332.02 1317.25,1333.52 1333.22,1335.26 1349.19,1337.22 1365.16,1339.32 1381.13,1341.43 1397.1,1343.5 1413.07,1345.37 1429.04,1346.93 1445.01,1347.87 1460.98,1348.39 1476.95,1348.23 1492.92,1347.24 1508.89,1345.58 1524.86,1343.42 1540.83,1341.16 1556.8,1340.65 1572.77,1349.16 1588.74,1388.29 1604.71,88.1155 1620.68,1388.28 1636.65,1349.21 1652.62,1340.79 1668.59,1341.57 1684.57,1344.29 1700.54,1347.22 1716.51,1349.9 1732.48,1352.11 1748.45,1353.87 1764.42,1355.13 1780.39,1355.88 1796.36,1356.2 1812.33,1356.14 1828.3,1355.75 1844.27,1355.13 1860.24,1354.31 1876.21,1353.3 1892.18,1352.12 1908.15,1350.8 1924.12,1349.43 1940.09,1347.97 1956.06,1346.44 1972.03,1344.81 1988,1343.16 2003.97,1341.49 2019.94,1339.85 2035.91,1338.27 2051.88,1336.78 2067.85,1335.38 2083.82,1334.06 2099.79,1332.75 2115.76,1331.57 2131.73,1330.47 2147.7,1329.41 2163.67,1328.43 2179.64,1327.55 2195.61,1326.74 2211.58,1326.04 2227.55,1325.41 2243.52,1324.83 2259.49,1324.12 2275.46,1322.22 2291.43,1326.27 \"/>\n",
       "<path clip-path=\"url(#clip320)\" d=\"M2009.7 354.418 L2280.53 354.418 L2280.53 95.2176 L2009.7 95.2176  Z\" fill=\"#ffffff\" fill-rule=\"evenodd\" fill-opacity=\"1\"/>\n",
       "<polyline clip-path=\"url(#clip320)\" style=\"stroke:#000000; stroke-linecap:round; stroke-linejoin:round; stroke-width:4; stroke-opacity:1; fill:none\" points=\"2009.7,354.418 2280.53,354.418 2280.53,95.2176 2009.7,95.2176 2009.7,354.418 \"/>\n",
       "<polyline clip-path=\"url(#clip320)\" style=\"stroke:#009af9; stroke-linecap:round; stroke-linejoin:round; stroke-width:4; stroke-opacity:1; fill:none\" points=\"2033.78,147.058 2178.23,147.058 \"/>\n",
       "<path clip-path=\"url(#clip320)\" d=\"M2216.15 166.745 Q2214.35 171.375 2212.63 172.787 Q2210.92 174.199 2208.05 174.199 L2204.65 174.199 L2204.65 170.634 L2207.15 170.634 Q2208.91 170.634 2209.88 169.8 Q2210.85 168.967 2212.03 165.865 L2212.8 163.921 L2202.31 138.412 L2206.82 138.412 L2214.92 158.689 L2223.03 138.412 L2227.54 138.412 L2216.15 166.745 Z\" fill=\"#000000\" fill-rule=\"nonzero\" fill-opacity=\"1\" /><path clip-path=\"url(#clip320)\" d=\"M2234.83 160.402 L2242.47 160.402 L2242.47 134.037 L2234.16 135.703 L2234.16 131.444 L2242.42 129.778 L2247.1 129.778 L2247.1 160.402 L2254.74 160.402 L2254.74 164.338 L2234.83 164.338 L2234.83 160.402 Z\" fill=\"#000000\" fill-rule=\"nonzero\" fill-opacity=\"1\" /><polyline clip-path=\"url(#clip320)\" style=\"stroke:#e26f46; stroke-linecap:round; stroke-linejoin:round; stroke-width:4; stroke-opacity:1; fill:none\" points=\"2033.78,198.898 2178.23,198.898 \"/>\n",
       "<path clip-path=\"url(#clip320)\" d=\"M2216.15 218.585 Q2214.35 223.215 2212.63 224.627 Q2210.92 226.039 2208.05 226.039 L2204.65 226.039 L2204.65 222.474 L2207.15 222.474 Q2208.91 222.474 2209.88 221.64 Q2210.85 220.807 2212.03 217.705 L2212.8 215.761 L2202.31 190.252 L2206.82 190.252 L2214.92 210.529 L2223.03 190.252 L2227.54 190.252 L2216.15 218.585 Z\" fill=\"#000000\" fill-rule=\"nonzero\" fill-opacity=\"1\" /><path clip-path=\"url(#clip320)\" d=\"M2238.05 212.242 L2254.37 212.242 L2254.37 216.178 L2232.42 216.178 L2232.42 212.242 Q2235.09 209.488 2239.67 204.858 Q2244.28 200.205 2245.46 198.863 Q2247.7 196.34 2248.58 194.604 Q2249.48 192.844 2249.48 191.155 Q2249.48 188.4 2247.54 186.664 Q2245.62 184.928 2242.52 184.928 Q2240.32 184.928 2237.86 185.692 Q2235.43 186.455 2232.66 188.006 L2232.66 183.284 Q2235.48 182.15 2237.93 181.571 Q2240.39 180.993 2242.42 180.993 Q2247.8 180.993 2250.99 183.678 Q2254.18 186.363 2254.18 190.854 Q2254.18 192.983 2253.37 194.905 Q2252.59 196.803 2250.48 199.395 Q2249.9 200.067 2246.8 203.284 Q2243.7 206.479 2238.05 212.242 Z\" fill=\"#000000\" fill-rule=\"nonzero\" fill-opacity=\"1\" /><polyline clip-path=\"url(#clip320)\" style=\"stroke:#3da44d; stroke-linecap:round; stroke-linejoin:round; stroke-width:4; stroke-opacity:1; fill:none\" points=\"2033.78,250.738 2178.23,250.738 \"/>\n",
       "<path clip-path=\"url(#clip320)\" d=\"M2216.15 270.425 Q2214.35 275.055 2212.63 276.467 Q2210.92 277.879 2208.05 277.879 L2204.65 277.879 L2204.65 274.314 L2207.15 274.314 Q2208.91 274.314 2209.88 273.48 Q2210.85 272.647 2212.03 269.545 L2212.8 267.601 L2202.31 242.092 L2206.82 242.092 L2214.92 262.369 L2223.03 242.092 L2227.54 242.092 L2216.15 270.425 Z\" fill=\"#000000\" fill-rule=\"nonzero\" fill-opacity=\"1\" /><path clip-path=\"url(#clip320)\" d=\"M2248.19 249.383 Q2251.55 250.101 2253.42 252.369 Q2255.32 254.638 2255.32 257.971 Q2255.32 263.087 2251.8 265.888 Q2248.28 268.689 2241.8 268.689 Q2239.62 268.689 2237.31 268.249 Q2235.02 267.832 2232.56 266.976 L2232.56 262.462 Q2234.51 263.596 2236.82 264.175 Q2239.14 264.754 2241.66 264.754 Q2246.06 264.754 2248.35 263.018 Q2250.67 261.281 2250.67 257.971 Q2250.67 254.916 2248.51 253.203 Q2246.38 251.467 2242.56 251.467 L2238.54 251.467 L2238.54 247.624 L2242.75 247.624 Q2246.2 247.624 2248.03 246.258 Q2249.86 244.87 2249.86 242.277 Q2249.86 239.615 2247.96 238.203 Q2246.08 236.768 2242.56 236.768 Q2240.64 236.768 2238.44 237.184 Q2236.24 237.601 2233.61 238.481 L2233.61 234.314 Q2236.27 233.573 2238.58 233.203 Q2240.92 232.833 2242.98 232.833 Q2248.3 232.833 2251.41 235.263 Q2254.51 237.67 2254.51 241.791 Q2254.51 244.661 2252.86 246.652 Q2251.22 248.62 2248.19 249.383 Z\" fill=\"#000000\" fill-rule=\"nonzero\" fill-opacity=\"1\" /><polyline clip-path=\"url(#clip320)\" style=\"stroke:#c271d2; stroke-linecap:round; stroke-linejoin:round; stroke-width:4; stroke-opacity:1; fill:none\" points=\"2033.78,302.578 2178.23,302.578 \"/>\n",
       "<path clip-path=\"url(#clip320)\" d=\"M2216.15 322.265 Q2214.35 326.895 2212.63 328.307 Q2210.92 329.719 2208.05 329.719 L2204.65 329.719 L2204.65 326.154 L2207.15 326.154 Q2208.91 326.154 2209.88 325.32 Q2210.85 324.487 2212.03 321.385 L2212.8 319.441 L2202.31 293.932 L2206.82 293.932 L2214.92 314.209 L2223.03 293.932 L2227.54 293.932 L2216.15 322.265 Z\" fill=\"#000000\" fill-rule=\"nonzero\" fill-opacity=\"1\" /><path clip-path=\"url(#clip320)\" d=\"M2246.87 289.372 L2235.06 307.821 L2246.87 307.821 L2246.87 289.372 M2245.64 285.298 L2251.52 285.298 L2251.52 307.821 L2256.45 307.821 L2256.45 311.709 L2251.52 311.709 L2251.52 319.858 L2246.87 319.858 L2246.87 311.709 L2231.27 311.709 L2231.27 307.196 L2245.64 285.298 Z\" fill=\"#000000\" fill-rule=\"nonzero\" fill-opacity=\"1\" /></svg>\n"
      ],
      "text/html": [
       "<?xml version=\"1.0\" encoding=\"utf-8\"?>\n",
       "<svg xmlns=\"http://www.w3.org/2000/svg\" xmlns:xlink=\"http://www.w3.org/1999/xlink\" width=\"600\" height=\"400\" viewBox=\"0 0 2400 1600\">\n",
       "<defs>\n",
       "  <clipPath id=\"clip370\">\n",
       "    <rect x=\"0\" y=\"0\" width=\"2400\" height=\"1600\"/>\n",
       "  </clipPath>\n",
       "</defs>\n",
       "<path clip-path=\"url(#clip370)\" d=\"M0 1600 L2400 1600 L2400 0 L0 0  Z\" fill=\"#ffffff\" fill-rule=\"evenodd\" fill-opacity=\"1\"/>\n",
       "<defs>\n",
       "  <clipPath id=\"clip371\">\n",
       "    <rect x=\"480\" y=\"0\" width=\"1681\" height=\"1600\"/>\n",
       "  </clipPath>\n",
       "</defs>\n",
       "<path clip-path=\"url(#clip370)\" d=\"M185.927 1486.45 L2352.76 1486.45 L2352.76 47.2441 L185.927 47.2441  Z\" fill=\"#ffffff\" fill-rule=\"evenodd\" fill-opacity=\"1\"/>\n",
       "<defs>\n",
       "  <clipPath id=\"clip372\">\n",
       "    <rect x=\"185\" y=\"47\" width=\"2168\" height=\"1440\"/>\n",
       "  </clipPath>\n",
       "</defs>\n",
       "<polyline clip-path=\"url(#clip372)\" style=\"stroke:#000000; stroke-linecap:round; stroke-linejoin:round; stroke-width:2; stroke-opacity:0.1; fill:none\" points=\"231.282,1486.45 231.282,47.2441 \"/>\n",
       "<polyline clip-path=\"url(#clip372)\" style=\"stroke:#000000; stroke-linecap:round; stroke-linejoin:round; stroke-width:2; stroke-opacity:0.1; fill:none\" points=\"550.685,1486.45 550.685,47.2441 \"/>\n",
       "<polyline clip-path=\"url(#clip372)\" style=\"stroke:#000000; stroke-linecap:round; stroke-linejoin:round; stroke-width:2; stroke-opacity:0.1; fill:none\" points=\"870.088,1486.45 870.088,47.2441 \"/>\n",
       "<polyline clip-path=\"url(#clip372)\" style=\"stroke:#000000; stroke-linecap:round; stroke-linejoin:round; stroke-width:2; stroke-opacity:0.1; fill:none\" points=\"1189.49,1486.45 1189.49,47.2441 \"/>\n",
       "<polyline clip-path=\"url(#clip372)\" style=\"stroke:#000000; stroke-linecap:round; stroke-linejoin:round; stroke-width:2; stroke-opacity:0.1; fill:none\" points=\"1508.89,1486.45 1508.89,47.2441 \"/>\n",
       "<polyline clip-path=\"url(#clip372)\" style=\"stroke:#000000; stroke-linecap:round; stroke-linejoin:round; stroke-width:2; stroke-opacity:0.1; fill:none\" points=\"1828.3,1486.45 1828.3,47.2441 \"/>\n",
       "<polyline clip-path=\"url(#clip372)\" style=\"stroke:#000000; stroke-linecap:round; stroke-linejoin:round; stroke-width:2; stroke-opacity:0.1; fill:none\" points=\"2147.7,1486.45 2147.7,47.2441 \"/>\n",
       "<polyline clip-path=\"url(#clip370)\" style=\"stroke:#000000; stroke-linecap:round; stroke-linejoin:round; stroke-width:4; stroke-opacity:1; fill:none\" points=\"185.927,1486.45 2352.76,1486.45 \"/>\n",
       "<polyline clip-path=\"url(#clip370)\" style=\"stroke:#000000; stroke-linecap:round; stroke-linejoin:round; stroke-width:4; stroke-opacity:1; fill:none\" points=\"231.282,1486.45 231.282,1467.55 \"/>\n",
       "<polyline clip-path=\"url(#clip370)\" style=\"stroke:#000000; stroke-linecap:round; stroke-linejoin:round; stroke-width:4; stroke-opacity:1; fill:none\" points=\"550.685,1486.45 550.685,1467.55 \"/>\n",
       "<polyline clip-path=\"url(#clip370)\" style=\"stroke:#000000; stroke-linecap:round; stroke-linejoin:round; stroke-width:4; stroke-opacity:1; fill:none\" points=\"870.088,1486.45 870.088,1467.55 \"/>\n",
       "<polyline clip-path=\"url(#clip370)\" style=\"stroke:#000000; stroke-linecap:round; stroke-linejoin:round; stroke-width:4; stroke-opacity:1; fill:none\" points=\"1189.49,1486.45 1189.49,1467.55 \"/>\n",
       "<polyline clip-path=\"url(#clip370)\" style=\"stroke:#000000; stroke-linecap:round; stroke-linejoin:round; stroke-width:4; stroke-opacity:1; fill:none\" points=\"1508.89,1486.45 1508.89,1467.55 \"/>\n",
       "<polyline clip-path=\"url(#clip370)\" style=\"stroke:#000000; stroke-linecap:round; stroke-linejoin:round; stroke-width:4; stroke-opacity:1; fill:none\" points=\"1828.3,1486.45 1828.3,1467.55 \"/>\n",
       "<polyline clip-path=\"url(#clip370)\" style=\"stroke:#000000; stroke-linecap:round; stroke-linejoin:round; stroke-width:4; stroke-opacity:1; fill:none\" points=\"2147.7,1486.45 2147.7,1467.55 \"/>\n",
       "<path clip-path=\"url(#clip370)\" d=\"M231.282 1517.37 Q227.671 1517.37 225.842 1520.93 Q224.037 1524.47 224.037 1531.6 Q224.037 1538.71 225.842 1542.27 Q227.671 1545.82 231.282 1545.82 Q234.916 1545.82 236.722 1542.27 Q238.55 1538.71 238.55 1531.6 Q238.55 1524.47 236.722 1520.93 Q234.916 1517.37 231.282 1517.37 M231.282 1513.66 Q237.092 1513.66 240.148 1518.27 Q243.226 1522.85 243.226 1531.6 Q243.226 1540.33 240.148 1544.94 Q237.092 1549.52 231.282 1549.52 Q225.472 1549.52 222.393 1544.94 Q219.338 1540.33 219.338 1531.6 Q219.338 1522.85 222.393 1518.27 Q225.472 1513.66 231.282 1513.66 Z\" fill=\"#000000\" fill-rule=\"nonzero\" fill-opacity=\"1\" /><path clip-path=\"url(#clip370)\" d=\"M529.458 1544.91 L545.777 1544.91 L545.777 1548.85 L523.833 1548.85 L523.833 1544.91 Q526.495 1542.16 531.078 1537.53 Q535.685 1532.88 536.865 1531.53 Q539.111 1529.01 539.99 1527.27 Q540.893 1525.51 540.893 1523.82 Q540.893 1521.07 538.949 1519.33 Q537.028 1517.6 533.926 1517.6 Q531.727 1517.6 529.273 1518.36 Q526.842 1519.13 524.065 1520.68 L524.065 1515.95 Q526.889 1514.82 529.342 1514.24 Q531.796 1513.66 533.833 1513.66 Q539.203 1513.66 542.398 1516.35 Q545.592 1519.03 545.592 1523.52 Q545.592 1525.65 544.782 1527.57 Q543.995 1529.47 541.889 1532.07 Q541.31 1532.74 538.208 1535.95 Q535.106 1539.15 529.458 1544.91 Z\" fill=\"#000000\" fill-rule=\"nonzero\" fill-opacity=\"1\" /><path clip-path=\"url(#clip370)\" d=\"M565.592 1517.37 Q561.981 1517.37 560.152 1520.93 Q558.347 1524.47 558.347 1531.6 Q558.347 1538.71 560.152 1542.27 Q561.981 1545.82 565.592 1545.82 Q569.226 1545.82 571.032 1542.27 Q572.861 1538.71 572.861 1531.6 Q572.861 1524.47 571.032 1520.93 Q569.226 1517.37 565.592 1517.37 M565.592 1513.66 Q571.402 1513.66 574.458 1518.27 Q577.537 1522.85 577.537 1531.6 Q577.537 1540.33 574.458 1544.94 Q571.402 1549.52 565.592 1549.52 Q559.782 1549.52 556.703 1544.94 Q553.648 1540.33 553.648 1531.6 Q553.648 1522.85 556.703 1518.27 Q559.782 1513.66 565.592 1513.66 Z\" fill=\"#000000\" fill-rule=\"nonzero\" fill-opacity=\"1\" /><path clip-path=\"url(#clip370)\" d=\"M858.259 1518.36 L846.454 1536.81 L858.259 1536.81 L858.259 1518.36 M857.032 1514.29 L862.912 1514.29 L862.912 1536.81 L867.842 1536.81 L867.842 1540.7 L862.912 1540.7 L862.912 1548.85 L858.259 1548.85 L858.259 1540.7 L842.657 1540.7 L842.657 1536.19 L857.032 1514.29 Z\" fill=\"#000000\" fill-rule=\"nonzero\" fill-opacity=\"1\" /><path clip-path=\"url(#clip370)\" d=\"M885.574 1517.37 Q881.963 1517.37 880.134 1520.93 Q878.328 1524.47 878.328 1531.6 Q878.328 1538.71 880.134 1542.27 Q881.963 1545.82 885.574 1545.82 Q889.208 1545.82 891.014 1542.27 Q892.842 1538.71 892.842 1531.6 Q892.842 1524.47 891.014 1520.93 Q889.208 1517.37 885.574 1517.37 M885.574 1513.66 Q891.384 1513.66 894.439 1518.27 Q897.518 1522.85 897.518 1531.6 Q897.518 1540.33 894.439 1544.94 Q891.384 1549.52 885.574 1549.52 Q879.764 1549.52 876.685 1544.94 Q873.629 1540.33 873.629 1531.6 Q873.629 1522.85 876.685 1518.27 Q879.764 1513.66 885.574 1513.66 Z\" fill=\"#000000\" fill-rule=\"nonzero\" fill-opacity=\"1\" /><path clip-path=\"url(#clip370)\" d=\"M1174.9 1529.7 Q1171.75 1529.7 1169.9 1531.86 Q1168.07 1534.01 1168.07 1537.76 Q1168.07 1541.49 1169.9 1543.66 Q1171.75 1545.82 1174.9 1545.82 Q1178.04 1545.82 1179.87 1543.66 Q1181.72 1541.49 1181.72 1537.76 Q1181.72 1534.01 1179.87 1531.86 Q1178.04 1529.7 1174.9 1529.7 M1184.18 1515.05 L1184.18 1519.31 Q1182.42 1518.48 1180.61 1518.04 Q1178.83 1517.6 1177.07 1517.6 Q1172.44 1517.6 1169.99 1520.72 Q1167.56 1523.85 1167.21 1530.17 Q1168.58 1528.15 1170.64 1527.09 Q1172.7 1526 1175.17 1526 Q1180.38 1526 1183.39 1529.17 Q1186.42 1532.32 1186.42 1537.76 Q1186.42 1543.08 1183.28 1546.3 Q1180.13 1549.52 1174.9 1549.52 Q1168.9 1549.52 1165.73 1544.94 Q1162.56 1540.33 1162.56 1531.6 Q1162.56 1523.41 1166.45 1518.55 Q1170.34 1513.66 1176.89 1513.66 Q1178.65 1513.66 1180.43 1514.01 Q1182.23 1514.36 1184.18 1515.05 Z\" fill=\"#000000\" fill-rule=\"nonzero\" fill-opacity=\"1\" /><path clip-path=\"url(#clip370)\" d=\"M1204.48 1517.37 Q1200.87 1517.37 1199.04 1520.93 Q1197.23 1524.47 1197.23 1531.6 Q1197.23 1538.71 1199.04 1542.27 Q1200.87 1545.82 1204.48 1545.82 Q1208.11 1545.82 1209.92 1542.27 Q1211.75 1538.71 1211.75 1531.6 Q1211.75 1524.47 1209.92 1520.93 Q1208.11 1517.37 1204.48 1517.37 M1204.48 1513.66 Q1210.29 1513.66 1213.34 1518.27 Q1216.42 1522.85 1216.42 1531.6 Q1216.42 1540.33 1213.34 1544.94 Q1210.29 1549.52 1204.48 1549.52 Q1198.67 1549.52 1195.59 1544.94 Q1192.53 1540.33 1192.53 1531.6 Q1192.53 1522.85 1195.59 1518.27 Q1198.67 1513.66 1204.48 1513.66 Z\" fill=\"#000000\" fill-rule=\"nonzero\" fill-opacity=\"1\" /><path clip-path=\"url(#clip370)\" d=\"M1493.77 1532.44 Q1490.43 1532.44 1488.51 1534.22 Q1486.61 1536 1486.61 1539.13 Q1486.61 1542.25 1488.51 1544.03 Q1490.43 1545.82 1493.77 1545.82 Q1497.1 1545.82 1499.02 1544.03 Q1500.94 1542.23 1500.94 1539.13 Q1500.94 1536 1499.02 1534.22 Q1497.12 1532.44 1493.77 1532.44 M1489.09 1530.45 Q1486.08 1529.7 1484.39 1527.64 Q1482.72 1525.58 1482.72 1522.62 Q1482.72 1518.48 1485.66 1516.07 Q1488.63 1513.66 1493.77 1513.66 Q1498.93 1513.66 1501.87 1516.07 Q1504.81 1518.48 1504.81 1522.62 Q1504.81 1525.58 1503.12 1527.64 Q1501.45 1529.7 1498.47 1530.45 Q1501.84 1531.23 1503.72 1533.52 Q1505.62 1535.82 1505.62 1539.13 Q1505.62 1544.15 1502.54 1546.83 Q1499.48 1549.52 1493.77 1549.52 Q1488.05 1549.52 1484.97 1546.83 Q1481.91 1544.15 1481.91 1539.13 Q1481.91 1535.82 1483.81 1533.52 Q1485.71 1531.23 1489.09 1530.45 M1487.38 1523.06 Q1487.38 1525.75 1489.04 1527.25 Q1490.73 1528.76 1493.77 1528.76 Q1496.78 1528.76 1498.47 1527.25 Q1500.18 1525.75 1500.18 1523.06 Q1500.18 1520.38 1498.47 1518.87 Q1496.78 1517.37 1493.77 1517.37 Q1490.73 1517.37 1489.04 1518.87 Q1487.38 1520.38 1487.38 1523.06 Z\" fill=\"#000000\" fill-rule=\"nonzero\" fill-opacity=\"1\" /><path clip-path=\"url(#clip370)\" d=\"M1523.93 1517.37 Q1520.32 1517.37 1518.49 1520.93 Q1516.68 1524.47 1516.68 1531.6 Q1516.68 1538.71 1518.49 1542.27 Q1520.32 1545.82 1523.93 1545.82 Q1527.56 1545.82 1529.37 1542.27 Q1531.2 1538.71 1531.2 1531.6 Q1531.2 1524.47 1529.37 1520.93 Q1527.56 1517.37 1523.93 1517.37 M1523.93 1513.66 Q1529.74 1513.66 1532.79 1518.27 Q1535.87 1522.85 1535.87 1531.6 Q1535.87 1540.33 1532.79 1544.94 Q1529.74 1549.52 1523.93 1549.52 Q1518.12 1549.52 1515.04 1544.94 Q1511.98 1540.33 1511.98 1531.6 Q1511.98 1522.85 1515.04 1518.27 Q1518.12 1513.66 1523.93 1513.66 Z\" fill=\"#000000\" fill-rule=\"nonzero\" fill-opacity=\"1\" /><path clip-path=\"url(#clip370)\" d=\"M1787.9 1544.91 L1795.54 1544.91 L1795.54 1518.55 L1787.23 1520.21 L1787.23 1515.95 L1795.5 1514.29 L1800.17 1514.29 L1800.17 1544.91 L1807.81 1544.91 L1807.81 1548.85 L1787.9 1548.85 L1787.9 1544.91 Z\" fill=\"#000000\" fill-rule=\"nonzero\" fill-opacity=\"1\" /><path clip-path=\"url(#clip370)\" d=\"M1827.25 1517.37 Q1823.64 1517.37 1821.81 1520.93 Q1820.01 1524.47 1820.01 1531.6 Q1820.01 1538.71 1821.81 1542.27 Q1823.64 1545.82 1827.25 1545.82 Q1830.89 1545.82 1832.69 1542.27 Q1834.52 1538.71 1834.52 1531.6 Q1834.52 1524.47 1832.69 1520.93 Q1830.89 1517.37 1827.25 1517.37 M1827.25 1513.66 Q1833.06 1513.66 1836.12 1518.27 Q1839.2 1522.85 1839.2 1531.6 Q1839.2 1540.33 1836.12 1544.94 Q1833.06 1549.52 1827.25 1549.52 Q1821.44 1549.52 1818.37 1544.94 Q1815.31 1540.33 1815.31 1531.6 Q1815.31 1522.85 1818.37 1518.27 Q1821.44 1513.66 1827.25 1513.66 Z\" fill=\"#000000\" fill-rule=\"nonzero\" fill-opacity=\"1\" /><path clip-path=\"url(#clip370)\" d=\"M1857.42 1517.37 Q1853.81 1517.37 1851.98 1520.93 Q1850.17 1524.47 1850.17 1531.6 Q1850.17 1538.71 1851.98 1542.27 Q1853.81 1545.82 1857.42 1545.82 Q1861.05 1545.82 1862.86 1542.27 Q1864.69 1538.71 1864.69 1531.6 Q1864.69 1524.47 1862.86 1520.93 Q1861.05 1517.37 1857.42 1517.37 M1857.42 1513.66 Q1863.23 1513.66 1866.28 1518.27 Q1869.36 1522.85 1869.36 1531.6 Q1869.36 1540.33 1866.28 1544.94 Q1863.23 1549.52 1857.42 1549.52 Q1851.61 1549.52 1848.53 1544.94 Q1845.47 1540.33 1845.47 1531.6 Q1845.47 1522.85 1848.53 1518.27 Q1851.61 1513.66 1857.42 1513.66 Z\" fill=\"#000000\" fill-rule=\"nonzero\" fill-opacity=\"1\" /><path clip-path=\"url(#clip370)\" d=\"M2107.31 1544.91 L2114.94 1544.91 L2114.94 1518.55 L2106.63 1520.21 L2106.63 1515.95 L2114.9 1514.29 L2119.57 1514.29 L2119.57 1544.91 L2127.21 1544.91 L2127.21 1548.85 L2107.31 1548.85 L2107.31 1544.91 Z\" fill=\"#000000\" fill-rule=\"nonzero\" fill-opacity=\"1\" /><path clip-path=\"url(#clip370)\" d=\"M2140.69 1544.91 L2157 1544.91 L2157 1548.85 L2135.06 1548.85 L2135.06 1544.91 Q2137.72 1542.16 2142.31 1537.53 Q2146.91 1532.88 2148.09 1531.53 Q2150.34 1529.01 2151.22 1527.27 Q2152.12 1525.51 2152.12 1523.82 Q2152.12 1521.07 2150.18 1519.33 Q2148.25 1517.6 2145.15 1517.6 Q2142.95 1517.6 2140.5 1518.36 Q2138.07 1519.13 2135.29 1520.68 L2135.29 1515.95 Q2138.12 1514.82 2140.57 1514.24 Q2143.02 1513.66 2145.06 1513.66 Q2150.43 1513.66 2153.63 1516.35 Q2156.82 1519.03 2156.82 1523.52 Q2156.82 1525.65 2156.01 1527.57 Q2155.22 1529.47 2153.12 1532.07 Q2152.54 1532.74 2149.44 1535.95 Q2146.33 1539.15 2140.69 1544.91 Z\" fill=\"#000000\" fill-rule=\"nonzero\" fill-opacity=\"1\" /><path clip-path=\"url(#clip370)\" d=\"M2176.82 1517.37 Q2173.21 1517.37 2171.38 1520.93 Q2169.57 1524.47 2169.57 1531.6 Q2169.57 1538.71 2171.38 1542.27 Q2173.21 1545.82 2176.82 1545.82 Q2180.45 1545.82 2182.26 1542.27 Q2184.09 1538.71 2184.09 1531.6 Q2184.09 1524.47 2182.26 1520.93 Q2180.45 1517.37 2176.82 1517.37 M2176.82 1513.66 Q2182.63 1513.66 2185.69 1518.27 Q2188.76 1522.85 2188.76 1531.6 Q2188.76 1540.33 2185.69 1544.94 Q2182.63 1549.52 2176.82 1549.52 Q2171.01 1549.52 2167.93 1544.94 Q2164.88 1540.33 2164.88 1531.6 Q2164.88 1522.85 2167.93 1518.27 Q2171.01 1513.66 2176.82 1513.66 Z\" fill=\"#000000\" fill-rule=\"nonzero\" fill-opacity=\"1\" /><polyline clip-path=\"url(#clip372)\" style=\"stroke:#000000; stroke-linecap:round; stroke-linejoin:round; stroke-width:2; stroke-opacity:0.1; fill:none\" points=\"185.927,1323.66 2352.76,1323.66 \"/>\n",
       "<polyline clip-path=\"url(#clip372)\" style=\"stroke:#000000; stroke-linecap:round; stroke-linejoin:round; stroke-width:2; stroke-opacity:0.1; fill:none\" points=\"185.927,1054.84 2352.76,1054.84 \"/>\n",
       "<polyline clip-path=\"url(#clip372)\" style=\"stroke:#000000; stroke-linecap:round; stroke-linejoin:round; stroke-width:2; stroke-opacity:0.1; fill:none\" points=\"185.927,786.006 2352.76,786.006 \"/>\n",
       "<polyline clip-path=\"url(#clip372)\" style=\"stroke:#000000; stroke-linecap:round; stroke-linejoin:round; stroke-width:2; stroke-opacity:0.1; fill:none\" points=\"185.927,517.176 2352.76,517.176 \"/>\n",
       "<polyline clip-path=\"url(#clip372)\" style=\"stroke:#000000; stroke-linecap:round; stroke-linejoin:round; stroke-width:2; stroke-opacity:0.1; fill:none\" points=\"185.927,248.347 2352.76,248.347 \"/>\n",
       "<polyline clip-path=\"url(#clip370)\" style=\"stroke:#000000; stroke-linecap:round; stroke-linejoin:round; stroke-width:4; stroke-opacity:1; fill:none\" points=\"185.927,1486.45 185.927,47.2441 \"/>\n",
       "<polyline clip-path=\"url(#clip370)\" style=\"stroke:#000000; stroke-linecap:round; stroke-linejoin:round; stroke-width:4; stroke-opacity:1; fill:none\" points=\"185.927,1323.66 204.824,1323.66 \"/>\n",
       "<polyline clip-path=\"url(#clip370)\" style=\"stroke:#000000; stroke-linecap:round; stroke-linejoin:round; stroke-width:4; stroke-opacity:1; fill:none\" points=\"185.927,1054.84 204.824,1054.84 \"/>\n",
       "<polyline clip-path=\"url(#clip370)\" style=\"stroke:#000000; stroke-linecap:round; stroke-linejoin:round; stroke-width:4; stroke-opacity:1; fill:none\" points=\"185.927,786.006 204.824,786.006 \"/>\n",
       "<polyline clip-path=\"url(#clip370)\" style=\"stroke:#000000; stroke-linecap:round; stroke-linejoin:round; stroke-width:4; stroke-opacity:1; fill:none\" points=\"185.927,517.176 204.824,517.176 \"/>\n",
       "<polyline clip-path=\"url(#clip370)\" style=\"stroke:#000000; stroke-linecap:round; stroke-linejoin:round; stroke-width:4; stroke-opacity:1; fill:none\" points=\"185.927,248.347 204.824,248.347 \"/>\n",
       "<path clip-path=\"url(#clip370)\" d=\"M53.3995 1337.01 L61.0384 1337.01 L61.0384 1310.64 L52.7282 1312.31 L52.7282 1308.05 L60.9921 1306.38 L65.668 1306.38 L65.668 1337.01 L73.3068 1337.01 L73.3068 1340.94 L53.3995 1340.94 L53.3995 1337.01 Z\" fill=\"#000000\" fill-rule=\"nonzero\" fill-opacity=\"1\" /><path clip-path=\"url(#clip370)\" d=\"M82.7512 1335.06 L87.6354 1335.06 L87.6354 1340.94 L82.7512 1340.94 L82.7512 1335.06 Z\" fill=\"#000000\" fill-rule=\"nonzero\" fill-opacity=\"1\" /><path clip-path=\"url(#clip370)\" d=\"M107.821 1309.46 Q104.209 1309.46 102.381 1313.03 Q100.575 1316.57 100.575 1323.7 Q100.575 1330.81 102.381 1334.37 Q104.209 1337.91 107.821 1337.91 Q111.455 1337.91 113.26 1334.37 Q115.089 1330.81 115.089 1323.7 Q115.089 1316.57 113.26 1313.03 Q111.455 1309.46 107.821 1309.46 M107.821 1305.76 Q113.631 1305.76 116.686 1310.37 Q119.765 1314.95 119.765 1323.7 Q119.765 1332.43 116.686 1337.03 Q113.631 1341.62 107.821 1341.62 Q102.01 1341.62 98.9317 1337.03 Q95.8761 1332.43 95.8761 1323.7 Q95.8761 1314.95 98.9317 1310.37 Q102.01 1305.76 107.821 1305.76 Z\" fill=\"#000000\" fill-rule=\"nonzero\" fill-opacity=\"1\" /><path clip-path=\"url(#clip370)\" d=\"M137.982 1309.46 Q134.371 1309.46 132.543 1313.03 Q130.737 1316.57 130.737 1323.7 Q130.737 1330.81 132.543 1334.37 Q134.371 1337.91 137.982 1337.91 Q141.617 1337.91 143.422 1334.37 Q145.251 1330.81 145.251 1323.7 Q145.251 1316.57 143.422 1313.03 Q141.617 1309.46 137.982 1309.46 M137.982 1305.76 Q143.793 1305.76 146.848 1310.37 Q149.927 1314.95 149.927 1323.7 Q149.927 1332.43 146.848 1337.03 Q143.793 1341.62 137.982 1341.62 Q132.172 1341.62 129.094 1337.03 Q126.038 1332.43 126.038 1323.7 Q126.038 1314.95 129.094 1310.37 Q132.172 1305.76 137.982 1305.76 Z\" fill=\"#000000\" fill-rule=\"nonzero\" fill-opacity=\"1\" /><path clip-path=\"url(#clip370)\" d=\"M54.3949 1068.18 L62.0337 1068.18 L62.0337 1041.81 L53.7236 1043.48 L53.7236 1039.22 L61.9874 1037.56 L66.6633 1037.56 L66.6633 1068.18 L74.3022 1068.18 L74.3022 1072.12 L54.3949 1072.12 L54.3949 1068.18 Z\" fill=\"#000000\" fill-rule=\"nonzero\" fill-opacity=\"1\" /><path clip-path=\"url(#clip370)\" d=\"M83.7466 1066.24 L88.6308 1066.24 L88.6308 1072.12 L83.7466 1072.12 L83.7466 1066.24 Z\" fill=\"#000000\" fill-rule=\"nonzero\" fill-opacity=\"1\" /><path clip-path=\"url(#clip370)\" d=\"M102.844 1068.18 L119.163 1068.18 L119.163 1072.12 L97.2187 1072.12 L97.2187 1068.18 Q99.8808 1065.43 104.464 1060.8 Q109.071 1056.14 110.251 1054.8 Q112.496 1052.28 113.376 1050.54 Q114.279 1048.78 114.279 1047.09 Q114.279 1044.34 112.334 1042.6 Q110.413 1040.87 107.311 1040.87 Q105.112 1040.87 102.659 1041.63 Q100.228 1042.39 97.4502 1043.94 L97.4502 1039.22 Q100.274 1038.09 102.728 1037.51 Q105.182 1036.93 107.219 1036.93 Q112.589 1036.93 115.783 1039.62 Q118.978 1042.3 118.978 1046.79 Q118.978 1048.92 118.168 1050.84 Q117.381 1052.74 115.274 1055.33 Q114.695 1056 111.594 1059.22 Q108.492 1062.42 102.844 1068.18 Z\" fill=\"#000000\" fill-rule=\"nonzero\" fill-opacity=\"1\" /><path clip-path=\"url(#clip370)\" d=\"M129.024 1037.56 L147.38 1037.56 L147.38 1041.49 L133.306 1041.49 L133.306 1049.96 Q134.325 1049.62 135.344 1049.45 Q136.362 1049.27 137.381 1049.27 Q143.168 1049.27 146.547 1052.44 Q149.927 1055.61 149.927 1061.03 Q149.927 1066.61 146.455 1069.71 Q142.982 1072.79 136.663 1072.79 Q134.487 1072.79 132.219 1072.42 Q129.973 1072.05 127.566 1071.3 L127.566 1066.61 Q129.649 1067.74 131.871 1068.3 Q134.094 1068.85 136.57 1068.85 Q140.575 1068.85 142.913 1066.74 Q145.251 1064.64 145.251 1061.03 Q145.251 1057.42 142.913 1055.31 Q140.575 1053.2 136.57 1053.2 Q134.695 1053.2 132.82 1053.62 Q130.969 1054.04 129.024 1054.92 L129.024 1037.56 Z\" fill=\"#000000\" fill-rule=\"nonzero\" fill-opacity=\"1\" /><path clip-path=\"url(#clip370)\" d=\"M53.3995 799.35 L61.0384 799.35 L61.0384 772.985 L52.7282 774.651 L52.7282 770.392 L60.9921 768.726 L65.668 768.726 L65.668 799.35 L73.3068 799.35 L73.3068 803.286 L53.3995 803.286 L53.3995 799.35 Z\" fill=\"#000000\" fill-rule=\"nonzero\" fill-opacity=\"1\" /><path clip-path=\"url(#clip370)\" d=\"M82.7512 797.406 L87.6354 797.406 L87.6354 803.286 L82.7512 803.286 L82.7512 797.406 Z\" fill=\"#000000\" fill-rule=\"nonzero\" fill-opacity=\"1\" /><path clip-path=\"url(#clip370)\" d=\"M97.8669 768.726 L116.223 768.726 L116.223 772.661 L102.149 772.661 L102.149 781.133 Q103.168 780.786 104.186 780.624 Q105.205 780.438 106.223 780.438 Q112.01 780.438 115.39 783.61 Q118.77 786.781 118.77 792.198 Q118.77 797.776 115.297 800.878 Q111.825 803.957 105.506 803.957 Q103.33 803.957 101.061 803.587 Q98.8159 803.216 96.4085 802.475 L96.4085 797.776 Q98.4919 798.911 100.714 799.466 Q102.936 800.022 105.413 800.022 Q109.418 800.022 111.756 797.915 Q114.094 795.809 114.094 792.198 Q114.094 788.587 111.756 786.48 Q109.418 784.374 105.413 784.374 Q103.538 784.374 101.663 784.79 Q99.8113 785.207 97.8669 786.087 L97.8669 768.726 Z\" fill=\"#000000\" fill-rule=\"nonzero\" fill-opacity=\"1\" /><path clip-path=\"url(#clip370)\" d=\"M137.982 771.804 Q134.371 771.804 132.543 775.369 Q130.737 778.911 130.737 786.04 Q130.737 793.147 132.543 796.712 Q134.371 800.253 137.982 800.253 Q141.617 800.253 143.422 796.712 Q145.251 793.147 145.251 786.04 Q145.251 778.911 143.422 775.369 Q141.617 771.804 137.982 771.804 M137.982 768.101 Q143.793 768.101 146.848 772.707 Q149.927 777.29 149.927 786.04 Q149.927 794.767 146.848 799.374 Q143.793 803.957 137.982 803.957 Q132.172 803.957 129.094 799.374 Q126.038 794.767 126.038 786.04 Q126.038 777.29 129.094 772.707 Q132.172 768.101 137.982 768.101 Z\" fill=\"#000000\" fill-rule=\"nonzero\" fill-opacity=\"1\" /><path clip-path=\"url(#clip370)\" d=\"M54.3949 530.521 L62.0337 530.521 L62.0337 504.155 L53.7236 505.822 L53.7236 501.563 L61.9874 499.896 L66.6633 499.896 L66.6633 530.521 L74.3022 530.521 L74.3022 534.456 L54.3949 534.456 L54.3949 530.521 Z\" fill=\"#000000\" fill-rule=\"nonzero\" fill-opacity=\"1\" /><path clip-path=\"url(#clip370)\" d=\"M83.7466 528.577 L88.6308 528.577 L88.6308 534.456 L83.7466 534.456 L83.7466 528.577 Z\" fill=\"#000000\" fill-rule=\"nonzero\" fill-opacity=\"1\" /><path clip-path=\"url(#clip370)\" d=\"M97.6354 499.896 L119.857 499.896 L119.857 501.887 L107.311 534.456 L102.427 534.456 L114.233 503.831 L97.6354 503.831 L97.6354 499.896 Z\" fill=\"#000000\" fill-rule=\"nonzero\" fill-opacity=\"1\" /><path clip-path=\"url(#clip370)\" d=\"M129.024 499.896 L147.38 499.896 L147.38 503.831 L133.306 503.831 L133.306 512.303 Q134.325 511.956 135.344 511.794 Q136.362 511.609 137.381 511.609 Q143.168 511.609 146.547 514.78 Q149.927 517.952 149.927 523.368 Q149.927 528.947 146.455 532.049 Q142.982 535.127 136.663 535.127 Q134.487 535.127 132.219 534.757 Q129.973 534.387 127.566 533.646 L127.566 528.947 Q129.649 530.081 131.871 530.637 Q134.094 531.192 136.57 531.192 Q140.575 531.192 142.913 529.086 Q145.251 526.979 145.251 523.368 Q145.251 519.757 142.913 517.651 Q140.575 515.544 136.57 515.544 Q134.695 515.544 132.82 515.961 Q130.969 516.378 129.024 517.257 L129.024 499.896 Z\" fill=\"#000000\" fill-rule=\"nonzero\" fill-opacity=\"1\" /><path clip-path=\"url(#clip370)\" d=\"M56.6171 261.692 L72.9365 261.692 L72.9365 265.627 L50.9921 265.627 L50.9921 261.692 Q53.6541 258.937 58.2375 254.307 Q62.8439 249.655 64.0245 248.312 Q66.2698 245.789 67.1494 244.053 Q68.0522 242.294 68.0522 240.604 Q68.0522 237.849 66.1078 236.113 Q64.1865 234.377 61.0847 234.377 Q58.8856 234.377 56.4319 235.141 Q54.0014 235.905 51.2236 237.456 L51.2236 232.733 Q54.0477 231.599 56.5014 231.02 Q58.955 230.442 60.9921 230.442 Q66.3624 230.442 69.5568 233.127 Q72.7513 235.812 72.7513 240.303 Q72.7513 242.432 71.9411 244.354 Q71.1541 246.252 69.0476 248.844 Q68.4689 249.516 65.367 252.733 Q62.2652 255.928 56.6171 261.692 Z\" fill=\"#000000\" fill-rule=\"nonzero\" fill-opacity=\"1\" /><path clip-path=\"url(#clip370)\" d=\"M82.7512 259.747 L87.6354 259.747 L87.6354 265.627 L82.7512 265.627 L82.7512 259.747 Z\" fill=\"#000000\" fill-rule=\"nonzero\" fill-opacity=\"1\" /><path clip-path=\"url(#clip370)\" d=\"M107.821 234.145 Q104.209 234.145 102.381 237.71 Q100.575 241.252 100.575 248.381 Q100.575 255.488 102.381 259.053 Q104.209 262.594 107.821 262.594 Q111.455 262.594 113.26 259.053 Q115.089 255.488 115.089 248.381 Q115.089 241.252 113.26 237.71 Q111.455 234.145 107.821 234.145 M107.821 230.442 Q113.631 230.442 116.686 235.048 Q119.765 239.631 119.765 248.381 Q119.765 257.108 116.686 261.715 Q113.631 266.298 107.821 266.298 Q102.01 266.298 98.9317 261.715 Q95.8761 257.108 95.8761 248.381 Q95.8761 239.631 98.9317 235.048 Q102.01 230.442 107.821 230.442 Z\" fill=\"#000000\" fill-rule=\"nonzero\" fill-opacity=\"1\" /><path clip-path=\"url(#clip370)\" d=\"M137.982 234.145 Q134.371 234.145 132.543 237.71 Q130.737 241.252 130.737 248.381 Q130.737 255.488 132.543 259.053 Q134.371 262.594 137.982 262.594 Q141.617 262.594 143.422 259.053 Q145.251 255.488 145.251 248.381 Q145.251 241.252 143.422 237.71 Q141.617 234.145 137.982 234.145 M137.982 230.442 Q143.793 230.442 146.848 235.048 Q149.927 239.631 149.927 248.381 Q149.927 257.108 146.848 261.715 Q143.793 266.298 137.982 266.298 Q132.172 266.298 129.094 261.715 Q126.038 257.108 126.038 248.381 Q126.038 239.631 129.094 235.048 Q132.172 230.442 137.982 230.442 Z\" fill=\"#000000\" fill-rule=\"nonzero\" fill-opacity=\"1\" /><polyline clip-path=\"url(#clip372)\" style=\"stroke:#009af9; stroke-linecap:round; stroke-linejoin:round; stroke-width:4; stroke-opacity:1; fill:none\" points=\"247.252,1326.04 263.222,1321.75 279.192,1323.3 295.163,1323.59 311.133,1323.65 327.103,1323.66 343.073,1323.66 359.043,1323.66 375.013,1323.66 390.983,1323.66 406.954,1323.66 422.924,1323.66 438.894,1323.66 454.864,1323.66 470.834,1323.66 486.804,1323.66 502.774,1323.66 518.745,1323.66 534.715,1323.66 550.685,1323.66 566.655,1323.66 582.625,1323.66 598.595,1323.66 614.565,1323.66 630.536,1323.66 646.506,1323.66 662.476,1323.66 678.446,1323.66 694.416,1323.66 710.386,1323.66 726.356,1323.66 742.327,1323.66 758.297,1323.66 774.267,1323.66 790.237,1323.66 806.207,1323.66 822.177,1323.66 838.147,1323.66 854.118,1323.66 870.088,1323.66 886.058,1323.66 902.028,1323.66 917.998,1323.66 933.968,1323.66 949.938,1323.66 965.909,1323.66 981.879,1323.66 997.849,1323.66 1013.82,1323.66 1029.79,1323.66 1045.76,1323.66 1061.73,1323.66 1077.7,1323.66 1093.67,1323.66 1109.64,1323.66 1125.61,1323.66 1141.58,1323.66 1157.55,1323.66 1173.52,1323.66 1189.49,1323.66 1205.46,1323.66 1221.43,1323.66 1237.4,1323.66 1253.37,1323.66 1269.34,1323.66 1285.31,1323.66 1301.28,1323.66 1317.25,1323.66 1333.22,1323.66 1349.19,1323.66 1365.16,1323.66 1381.13,1323.66 1397.1,1323.66 1413.07,1323.66 1429.04,1323.66 1445.01,1323.66 1460.98,1323.66 1476.95,1323.66 1492.92,1323.66 1508.89,1323.66 1524.86,1323.66 1540.83,1323.66 1556.8,1323.66 1572.77,1323.66 1588.74,1323.66 1604.71,1323.66 1620.68,1323.66 1636.65,1323.66 1652.62,1323.66 1668.59,1323.66 1684.57,1323.66 1700.54,1323.66 1716.51,1323.66 1732.48,1323.66 1748.45,1323.66 1764.42,1323.66 1780.39,1323.66 1796.36,1323.66 1812.33,1323.66 1828.3,1323.66 1844.27,1323.66 1860.24,1323.66 1876.21,1323.66 1892.18,1323.66 1908.15,1323.66 1924.12,1323.66 1940.09,1323.66 1956.06,1323.66 1972.03,1323.66 1988,1323.66 2003.97,1323.66 2019.94,1323.66 2035.91,1323.66 2051.88,1323.66 2067.85,1323.66 2083.82,1323.66 2099.79,1323.66 2115.76,1323.66 2131.73,1323.66 2147.7,1323.66 2163.67,1323.66 2179.64,1323.66 2195.61,1323.66 2211.58,1323.66 2227.55,1323.65 2243.52,1323.59 2259.49,1323.3 2275.46,1321.75 2291.43,1326.04 \"/>\n",
       "<polyline clip-path=\"url(#clip372)\" style=\"stroke:#e26f46; stroke-linecap:round; stroke-linejoin:round; stroke-width:4; stroke-opacity:1; fill:none\" points=\"247.252,1326.04 263.222,1321.75 279.192,1323.3 295.163,1323.59 311.133,1323.65 327.103,1323.66 343.073,1323.66 359.043,1323.66 375.013,1323.66 390.983,1323.66 406.954,1323.66 422.924,1323.66 438.894,1323.66 454.864,1323.66 470.834,1323.66 486.804,1323.66 502.774,1323.66 518.745,1323.66 534.715,1323.66 550.685,1323.66 566.655,1323.66 582.625,1323.66 598.595,1323.66 614.565,1323.66 630.536,1323.66 646.506,1323.66 662.476,1323.66 678.446,1323.66 694.416,1323.66 710.386,1323.66 726.356,1323.66 742.327,1323.66 758.297,1323.66 774.267,1323.67 790.237,1323.67 806.207,1323.68 822.177,1323.71 838.147,1323.84 854.118,1324.35 870.088,1326.4 886.058,1335.33 902.028,1375.21 917.998,1189.93 933.968,1375.21 949.938,1335.33 965.909,1326.4 981.879,1324.35 997.849,1323.84 1013.82,1323.71 1029.79,1323.68 1045.76,1323.67 1061.73,1323.67 1077.7,1323.66 1093.67,1323.66 1109.64,1323.66 1125.61,1323.66 1141.58,1323.66 1157.55,1323.66 1173.52,1323.66 1189.49,1323.66 1205.46,1323.66 1221.43,1323.66 1237.4,1323.66 1253.37,1323.66 1269.34,1323.66 1285.31,1323.66 1301.28,1323.66 1317.25,1323.66 1333.22,1323.66 1349.19,1323.66 1365.16,1323.66 1381.13,1323.66 1397.1,1323.66 1413.07,1323.66 1429.04,1323.66 1445.01,1323.66 1460.98,1323.67 1476.95,1323.67 1492.92,1323.68 1508.89,1323.71 1524.86,1323.84 1540.83,1324.35 1556.8,1326.4 1572.77,1335.33 1588.74,1375.21 1604.71,1189.93 1620.68,1375.21 1636.65,1335.33 1652.62,1326.4 1668.59,1324.35 1684.57,1323.84 1700.54,1323.71 1716.51,1323.68 1732.48,1323.67 1748.45,1323.67 1764.42,1323.66 1780.39,1323.66 1796.36,1323.66 1812.33,1323.66 1828.3,1323.66 1844.27,1323.66 1860.24,1323.66 1876.21,1323.66 1892.18,1323.66 1908.15,1323.66 1924.12,1323.66 1940.09,1323.66 1956.06,1323.66 1972.03,1323.66 1988,1323.66 2003.97,1323.66 2019.94,1323.66 2035.91,1323.66 2051.88,1323.66 2067.85,1323.66 2083.82,1323.66 2099.79,1323.66 2115.76,1323.66 2131.73,1323.66 2147.7,1323.66 2163.67,1323.66 2179.64,1323.66 2195.61,1323.66 2211.58,1323.66 2227.55,1323.65 2243.52,1323.59 2259.49,1323.3 2275.46,1321.75 2291.43,1326.04 \"/>\n",
       "<polyline clip-path=\"url(#clip372)\" style=\"stroke:#3da44d; stroke-linecap:round; stroke-linejoin:round; stroke-width:4; stroke-opacity:1; fill:none\" points=\"247.252,1326.04 263.222,1321.75 279.192,1323.3 295.163,1323.59 311.133,1323.65 327.103,1323.66 343.073,1323.66 359.043,1323.67 375.013,1323.67 390.983,1323.67 406.954,1323.67 422.924,1323.67 438.894,1323.67 454.864,1323.67 470.834,1323.68 486.804,1323.68 502.774,1323.69 518.745,1323.7 534.715,1323.72 550.685,1323.74 566.655,1323.77 582.625,1323.81 598.595,1323.87 614.565,1323.95 630.536,1324.06 646.506,1324.23 662.476,1324.45 678.446,1324.78 694.416,1325.23 710.386,1325.87 726.356,1326.76 742.327,1328.02 758.297,1329.79 774.267,1332.29 790.237,1335.8 806.207,1340.74 822.177,1347.68 838.147,1357.46 854.118,1371.23 870.088,1390.69 886.058,1418.31 902.028,1445.72 917.998,427.692 933.968,1445.71 949.938,1418.31 965.909,1390.68 981.879,1371.22 997.849,1357.45 1013.82,1347.67 1029.79,1340.72 1045.76,1335.78 1061.73,1332.27 1077.7,1329.78 1093.67,1328.01 1109.64,1326.75 1125.61,1325.86 1141.58,1325.22 1157.55,1324.78 1173.52,1324.46 1189.49,1324.24 1205.46,1324.09 1221.43,1323.99 1237.4,1323.93 1253.37,1323.9 1269.34,1323.9 1285.31,1323.93 1301.28,1323.99 1317.25,1324.09 1333.22,1324.24 1349.19,1324.46 1365.16,1324.77 1381.13,1325.22 1397.1,1325.86 1413.07,1326.75 1429.04,1328.01 1445.01,1329.78 1460.98,1332.27 1476.95,1335.78 1492.92,1340.72 1508.89,1347.67 1524.86,1357.45 1540.83,1371.22 1556.8,1390.68 1572.77,1418.31 1588.74,1445.71 1604.71,427.693 1620.68,1445.72 1636.65,1418.31 1652.62,1390.69 1668.59,1371.23 1684.57,1357.46 1700.54,1347.68 1716.51,1340.73 1732.48,1335.8 1748.45,1332.29 1764.42,1329.79 1780.39,1328.02 1796.36,1326.76 1812.33,1325.87 1828.3,1325.23 1844.27,1324.78 1860.24,1324.45 1876.21,1324.23 1892.18,1324.06 1908.15,1323.95 1924.12,1323.87 1940.09,1323.81 1956.06,1323.77 1972.03,1323.74 1988,1323.72 2003.97,1323.7 2019.94,1323.69 2035.91,1323.68 2051.88,1323.68 2067.85,1323.67 2083.82,1323.67 2099.79,1323.67 2115.76,1323.67 2131.73,1323.67 2147.7,1323.67 2163.67,1323.67 2179.64,1323.66 2195.61,1323.66 2211.58,1323.66 2227.55,1323.65 2243.52,1323.59 2259.49,1323.3 2275.46,1321.75 2291.43,1326.04 \"/>\n",
       "<polyline clip-path=\"url(#clip372)\" style=\"stroke:#c271d2; stroke-linecap:round; stroke-linejoin:round; stroke-width:4; stroke-opacity:1; fill:none\" points=\"247.252,1326.27 263.222,1322.23 279.192,1324.14 295.163,1324.84 311.133,1325.44 327.103,1326.07 343.073,1326.83 359.043,1327.66 375.013,1328.61 390.983,1329.67 406.954,1330.87 422.924,1332.18 438.894,1333.64 454.864,1335.23 470.834,1336.98 486.804,1338.91 502.774,1340.98 518.745,1343.28 534.715,1345.58 550.685,1347.99 566.655,1350.54 582.625,1353.2 598.595,1355.88 614.565,1358.57 630.536,1361.19 646.506,1363.68 662.476,1365.8 678.446,1367.52 694.416,1368.76 710.386,1369.43 726.356,1369.41 742.327,1368.65 758.297,1367.16 774.267,1364.87 790.237,1361.74 806.207,1357.95 822.177,1353.58 838.147,1348.89 854.118,1344.47 870.088,1342.21 886.058,1349.46 902.028,1387.92 917.998,87.9763 933.968,1387.18 949.938,1346.32 965.909,1335.92 981.879,1334.53 997.849,1334.92 1013.82,1335.57 1029.79,1335.94 1045.76,1336.02 1061.73,1335.8 1077.7,1335.3 1093.67,1334.6 1109.64,1333.74 1125.61,1332.82 1141.58,1331.89 1157.55,1330.99 1173.52,1330.21 1189.49,1329.57 1205.46,1329.13 1221.43,1328.91 1237.4,1328.96 1253.37,1329.28 1269.34,1329.89 1285.31,1330.81 1301.28,1332.02 1317.25,1333.52 1333.22,1335.26 1349.19,1337.22 1365.16,1339.32 1381.13,1341.43 1397.1,1343.5 1413.07,1345.37 1429.04,1346.93 1445.01,1347.87 1460.98,1348.39 1476.95,1348.23 1492.92,1347.24 1508.89,1345.58 1524.86,1343.42 1540.83,1341.16 1556.8,1340.65 1572.77,1349.16 1588.74,1388.29 1604.71,88.1155 1620.68,1388.28 1636.65,1349.21 1652.62,1340.79 1668.59,1341.57 1684.57,1344.29 1700.54,1347.22 1716.51,1349.9 1732.48,1352.11 1748.45,1353.87 1764.42,1355.13 1780.39,1355.88 1796.36,1356.2 1812.33,1356.14 1828.3,1355.75 1844.27,1355.13 1860.24,1354.31 1876.21,1353.3 1892.18,1352.12 1908.15,1350.8 1924.12,1349.43 1940.09,1347.97 1956.06,1346.44 1972.03,1344.81 1988,1343.16 2003.97,1341.49 2019.94,1339.85 2035.91,1338.27 2051.88,1336.78 2067.85,1335.38 2083.82,1334.06 2099.79,1332.75 2115.76,1331.57 2131.73,1330.47 2147.7,1329.41 2163.67,1328.43 2179.64,1327.55 2195.61,1326.74 2211.58,1326.04 2227.55,1325.41 2243.52,1324.83 2259.49,1324.12 2275.46,1322.22 2291.43,1326.27 \"/>\n",
       "<path clip-path=\"url(#clip370)\" d=\"M2009.7 354.418 L2280.53 354.418 L2280.53 95.2176 L2009.7 95.2176  Z\" fill=\"#ffffff\" fill-rule=\"evenodd\" fill-opacity=\"1\"/>\n",
       "<polyline clip-path=\"url(#clip370)\" style=\"stroke:#000000; stroke-linecap:round; stroke-linejoin:round; stroke-width:4; stroke-opacity:1; fill:none\" points=\"2009.7,354.418 2280.53,354.418 2280.53,95.2176 2009.7,95.2176 2009.7,354.418 \"/>\n",
       "<polyline clip-path=\"url(#clip370)\" style=\"stroke:#009af9; stroke-linecap:round; stroke-linejoin:round; stroke-width:4; stroke-opacity:1; fill:none\" points=\"2033.78,147.058 2178.23,147.058 \"/>\n",
       "<path clip-path=\"url(#clip370)\" d=\"M2216.15 166.745 Q2214.35 171.375 2212.63 172.787 Q2210.92 174.199 2208.05 174.199 L2204.65 174.199 L2204.65 170.634 L2207.15 170.634 Q2208.91 170.634 2209.88 169.8 Q2210.85 168.967 2212.03 165.865 L2212.8 163.921 L2202.31 138.412 L2206.82 138.412 L2214.92 158.689 L2223.03 138.412 L2227.54 138.412 L2216.15 166.745 Z\" fill=\"#000000\" fill-rule=\"nonzero\" fill-opacity=\"1\" /><path clip-path=\"url(#clip370)\" d=\"M2234.83 160.402 L2242.47 160.402 L2242.47 134.037 L2234.16 135.703 L2234.16 131.444 L2242.42 129.778 L2247.1 129.778 L2247.1 160.402 L2254.74 160.402 L2254.74 164.338 L2234.83 164.338 L2234.83 160.402 Z\" fill=\"#000000\" fill-rule=\"nonzero\" fill-opacity=\"1\" /><polyline clip-path=\"url(#clip370)\" style=\"stroke:#e26f46; stroke-linecap:round; stroke-linejoin:round; stroke-width:4; stroke-opacity:1; fill:none\" points=\"2033.78,198.898 2178.23,198.898 \"/>\n",
       "<path clip-path=\"url(#clip370)\" d=\"M2216.15 218.585 Q2214.35 223.215 2212.63 224.627 Q2210.92 226.039 2208.05 226.039 L2204.65 226.039 L2204.65 222.474 L2207.15 222.474 Q2208.91 222.474 2209.88 221.64 Q2210.85 220.807 2212.03 217.705 L2212.8 215.761 L2202.31 190.252 L2206.82 190.252 L2214.92 210.529 L2223.03 190.252 L2227.54 190.252 L2216.15 218.585 Z\" fill=\"#000000\" fill-rule=\"nonzero\" fill-opacity=\"1\" /><path clip-path=\"url(#clip370)\" d=\"M2238.05 212.242 L2254.37 212.242 L2254.37 216.178 L2232.42 216.178 L2232.42 212.242 Q2235.09 209.488 2239.67 204.858 Q2244.28 200.205 2245.46 198.863 Q2247.7 196.34 2248.58 194.604 Q2249.48 192.844 2249.48 191.155 Q2249.48 188.4 2247.54 186.664 Q2245.62 184.928 2242.52 184.928 Q2240.32 184.928 2237.86 185.692 Q2235.43 186.455 2232.66 188.006 L2232.66 183.284 Q2235.48 182.15 2237.93 181.571 Q2240.39 180.993 2242.42 180.993 Q2247.8 180.993 2250.99 183.678 Q2254.18 186.363 2254.18 190.854 Q2254.18 192.983 2253.37 194.905 Q2252.59 196.803 2250.48 199.395 Q2249.9 200.067 2246.8 203.284 Q2243.7 206.479 2238.05 212.242 Z\" fill=\"#000000\" fill-rule=\"nonzero\" fill-opacity=\"1\" /><polyline clip-path=\"url(#clip370)\" style=\"stroke:#3da44d; stroke-linecap:round; stroke-linejoin:round; stroke-width:4; stroke-opacity:1; fill:none\" points=\"2033.78,250.738 2178.23,250.738 \"/>\n",
       "<path clip-path=\"url(#clip370)\" d=\"M2216.15 270.425 Q2214.35 275.055 2212.63 276.467 Q2210.92 277.879 2208.05 277.879 L2204.65 277.879 L2204.65 274.314 L2207.15 274.314 Q2208.91 274.314 2209.88 273.48 Q2210.85 272.647 2212.03 269.545 L2212.8 267.601 L2202.31 242.092 L2206.82 242.092 L2214.92 262.369 L2223.03 242.092 L2227.54 242.092 L2216.15 270.425 Z\" fill=\"#000000\" fill-rule=\"nonzero\" fill-opacity=\"1\" /><path clip-path=\"url(#clip370)\" d=\"M2248.19 249.383 Q2251.55 250.101 2253.42 252.369 Q2255.32 254.638 2255.32 257.971 Q2255.32 263.087 2251.8 265.888 Q2248.28 268.689 2241.8 268.689 Q2239.62 268.689 2237.31 268.249 Q2235.02 267.832 2232.56 266.976 L2232.56 262.462 Q2234.51 263.596 2236.82 264.175 Q2239.14 264.754 2241.66 264.754 Q2246.06 264.754 2248.35 263.018 Q2250.67 261.281 2250.67 257.971 Q2250.67 254.916 2248.51 253.203 Q2246.38 251.467 2242.56 251.467 L2238.54 251.467 L2238.54 247.624 L2242.75 247.624 Q2246.2 247.624 2248.03 246.258 Q2249.86 244.87 2249.86 242.277 Q2249.86 239.615 2247.96 238.203 Q2246.08 236.768 2242.56 236.768 Q2240.64 236.768 2238.44 237.184 Q2236.24 237.601 2233.61 238.481 L2233.61 234.314 Q2236.27 233.573 2238.58 233.203 Q2240.92 232.833 2242.98 232.833 Q2248.3 232.833 2251.41 235.263 Q2254.51 237.67 2254.51 241.791 Q2254.51 244.661 2252.86 246.652 Q2251.22 248.62 2248.19 249.383 Z\" fill=\"#000000\" fill-rule=\"nonzero\" fill-opacity=\"1\" /><polyline clip-path=\"url(#clip370)\" style=\"stroke:#c271d2; stroke-linecap:round; stroke-linejoin:round; stroke-width:4; stroke-opacity:1; fill:none\" points=\"2033.78,302.578 2178.23,302.578 \"/>\n",
       "<path clip-path=\"url(#clip370)\" d=\"M2216.15 322.265 Q2214.35 326.895 2212.63 328.307 Q2210.92 329.719 2208.05 329.719 L2204.65 329.719 L2204.65 326.154 L2207.15 326.154 Q2208.91 326.154 2209.88 325.32 Q2210.85 324.487 2212.03 321.385 L2212.8 319.441 L2202.31 293.932 L2206.82 293.932 L2214.92 314.209 L2223.03 293.932 L2227.54 293.932 L2216.15 322.265 Z\" fill=\"#000000\" fill-rule=\"nonzero\" fill-opacity=\"1\" /><path clip-path=\"url(#clip370)\" d=\"M2246.87 289.372 L2235.06 307.821 L2246.87 307.821 L2246.87 289.372 M2245.64 285.298 L2251.52 285.298 L2251.52 307.821 L2256.45 307.821 L2256.45 311.709 L2251.52 311.709 L2251.52 319.858 L2246.87 319.858 L2246.87 311.709 L2231.27 311.709 L2231.27 307.196 L2245.64 285.298 Z\" fill=\"#000000\" fill-rule=\"nonzero\" fill-opacity=\"1\" /></svg>\n"
      ]
     },
     "metadata": {},
     "output_type": "display_data"
    }
   ],
   "source": [
    "plot([density_MI, density_MI_2, density_MI_3, density_MI_4])"
   ]
  },
  {
   "attachments": {},
   "cell_type": "markdown",
   "metadata": {},
   "source": [
    "For the Mott insulator, the boundary effects are very small."
   ]
  },
  {
   "attachments": {},
   "cell_type": "markdown",
   "metadata": {},
   "source": [
    "For the superfluid phase it is a lot more noticable."
   ]
  },
  {
   "cell_type": "code",
   "execution_count": 16,
   "metadata": {},
   "outputs": [
    {
     "name": "stdout",
     "output_type": "stream",
     "text": [
      "After sweep 1 energy=-85.41328979790077  maxlinkdim=18 maxerr=2.56E-37 time=1.640\n"
     ]
    },
    {
     "name": "stdout",
     "output_type": "stream",
     "text": [
      "After sweep 2 energy=-85.86699824987703  maxlinkdim=128 maxerr=8.06E-12 time=7.512\n"
     ]
    },
    {
     "name": "stdout",
     "output_type": "stream",
     "text": [
      "After sweep 3 energy=-85.91964093314634  maxlinkdim=128 maxerr=4.17E-11 time=10.457\n"
     ]
    },
    {
     "name": "stdout",
     "output_type": "stream",
     "text": [
      "After sweep 4 energy=-85.94720086362638  maxlinkdim=128 maxerr=1.39E-11 time=11.771\n"
     ]
    },
    {
     "name": "stdout",
     "output_type": "stream",
     "text": [
      "After sweep 5 energy=-85.96532361358366  maxlinkdim=128 maxerr=2.42E-11 time=12.519\n"
     ]
    },
    {
     "name": "stdout",
     "output_type": "stream",
     "text": [
      "After sweep 6 energy=-85.97789286436358  maxlinkdim=128 maxerr=1.27E-11 time=15.639\n"
     ]
    },
    {
     "name": "stdout",
     "output_type": "stream",
     "text": [
      "After sweep 7 energy=-85.98715646698295  maxlinkdim=128 maxerr=1.30E-11 time=16.171\n"
     ]
    },
    {
     "name": "stdout",
     "output_type": "stream",
     "text": [
      "After sweep 8 energy=-85.99405562374506  maxlinkdim=128 maxerr=1.61E-11 time=16.475\n"
     ]
    },
    {
     "name": "stdout",
     "output_type": "stream",
     "text": [
      "After sweep 9 energy=-85.99940731768395  maxlinkdim=128 maxerr=1.27E-11 time=15.502\n"
     ]
    },
    {
     "name": "stdout",
     "output_type": "stream",
     "text": [
      "After sweep 10 energy=-86.00372050588811  maxlinkdim=128 maxerr=2.74E-11 time=12.862\n"
     ]
    },
    {
     "name": "stdout",
     "output_type": "stream",
     "text": [
      "After sweep 11 energy=-86.0071313860552  maxlinkdim=128 maxerr=3.81E-11 time=12.871\n"
     ]
    },
    {
     "name": "stdout",
     "output_type": "stream",
     "text": [
      "After sweep 12 energy=-86.0098203068208  maxlinkdim=128 maxerr=6.64E-10 time=14.187\n"
     ]
    },
    {
     "name": "stdout",
     "output_type": "stream",
     "text": [
      "After sweep 13 energy=-86.01190564682086  maxlinkdim=128 maxerr=2.85E-10 time=15.826\n"
     ]
    },
    {
     "name": "stdout",
     "output_type": "stream",
     "text": [
      "After sweep 14 energy=-86.0136276372491  maxlinkdim=128 maxerr=5.94E-11 time=17.495\n"
     ]
    },
    {
     "name": "stdout",
     "output_type": "stream",
     "text": [
      "After sweep 15 energy=-86.01505200195056  maxlinkdim=128 maxerr=9.35E-11 time=18.529\n"
     ]
    },
    {
     "name": "stdout",
     "output_type": "stream",
     "text": [
      "After sweep 16 energy=-86.01606836722729  maxlinkdim=128 maxerr=5.79E-11 time=19.077\n"
     ]
    },
    {
     "name": "stdout",
     "output_type": "stream",
     "text": [
      "After sweep 17 energy=-86.0170190152555  maxlinkdim=128 maxerr=1.03E-09 time=19.401\n"
     ]
    },
    {
     "name": "stdout",
     "output_type": "stream",
     "text": [
      "After sweep 18 energy=-86.01785155966684  maxlinkdim=128 maxerr=4.09E-10 time=17.593\n"
     ]
    },
    {
     "name": "stdout",
     "output_type": "stream",
     "text": [
      "After sweep 19 energy=-86.01862058807268  maxlinkdim=128 maxerr=1.21E-09 time=15.296\n"
     ]
    },
    {
     "name": "stdout",
     "output_type": "stream",
     "text": [
      "After sweep 20 energy=-86.01913528360312  maxlinkdim=128 maxerr=1.89E-09 time=16.137\n"
     ]
    },
    {
     "name": "stdout",
     "output_type": "stream",
     "text": [
      "After sweep 21 energy=-86.01972975734253  maxlinkdim=128 maxerr=7.33E-09 time=17.725\n"
     ]
    },
    {
     "name": "stdout",
     "output_type": "stream",
     "text": [
      "After sweep 22 energy=-86.02005417991194  maxlinkdim=128 maxerr=1.00E-08 time=19.586\n"
     ]
    },
    {
     "name": "stdout",
     "output_type": "stream",
     "text": [
      "After sweep 23 energy=-86.02019168173811  maxlinkdim=128 maxerr=1.30E-08 time=20.148\n"
     ]
    },
    {
     "name": "stdout",
     "output_type": "stream",
     "text": [
      "After sweep 24 energy=-86.02023551240839  maxlinkdim=128 maxerr=1.60E-08 time=20.085\n"
     ]
    },
    {
     "name": "stdout",
     "output_type": "stream",
     "text": [
      "After sweep 25 energy=-86.02024591349121  maxlinkdim=128 maxerr=1.22E-08 time=18.976\n"
     ]
    },
    {
     "name": "stdout",
     "output_type": "stream",
     "text": [
      "After sweep 26 energy=-86.02024673647925  maxlinkdim=128 maxerr=6.00E-09 time=18.853\n"
     ]
    },
    {
     "name": "stdout",
     "output_type": "stream",
     "text": [
      "After sweep 27 energy=-86.02024680277171  maxlinkdim=128 maxerr=5.40E-09 time=18.701\n"
     ]
    },
    {
     "name": "stdout",
     "output_type": "stream",
     "text": [
      "After sweep 28 energy=-86.02024680552357  maxlinkdim=128 maxerr=5.57E-09 time=15.898\n"
     ]
    },
    {
     "name": "stdout",
     "output_type": "stream",
     "text": [
      "After sweep 29 energy=-86.02024680698993  maxlinkdim=128 maxerr=5.67E-09 time=14.897\n"
     ]
    },
    {
     "name": "stdout",
     "output_type": "stream",
     "text": [
      "After sweep 30 energy=-86.02024680730378  maxlinkdim=128 maxerr=5.71E-09 time=16.231\n"
     ]
    },
    {
     "name": "stdout",
     "output_type": "stream",
     "text": [
      "After sweep 31 energy=-86.02024680767566  maxlinkdim=128 maxerr=5.74E-09 time=18.134\n"
     ]
    },
    {
     "name": "stdout",
     "output_type": "stream",
     "text": [
      "After sweep 32 energy=-86.02024680822848  maxlinkdim=128 maxerr=5.75E-09 time=19.700\n"
     ]
    },
    {
     "name": "stdout",
     "output_type": "stream",
     "text": [
      "After sweep 33 energy=-86.02024680877709  maxlinkdim=128 maxerr=5.76E-09 time=20.420\n"
     ]
    },
    {
     "name": "stdout",
     "output_type": "stream",
     "text": [
      "After sweep 34 energy=-86.02024680926291  maxlinkdim=128 maxerr=5.77E-09 time=20.109\n"
     ]
    },
    {
     "name": "stdout",
     "output_type": "stream",
     "text": [
      "After sweep 35 energy=-86.02024680967594  maxlinkdim=128 maxerr=5.78E-09 time=20.377\n"
     ]
    },
    {
     "name": "stdout",
     "output_type": "stream",
     "text": [
      "After sweep 36 energy=-86.0202468100207  maxlinkdim=128 maxerr=5.79E-09 time=20.774\n"
     ]
    },
    {
     "name": "stdout",
     "output_type": "stream",
     "text": [
      "After sweep 37 energy=-86.02024681030635  maxlinkdim=128 maxerr=5.80E-09 time=21.634\n"
     ]
    },
    {
     "name": "stdout",
     "output_type": "stream",
     "text": [
      "After sweep 38 energy=-86.020246810542  maxlinkdim=128 maxerr=5.80E-09 time=21.042\n"
     ]
    },
    {
     "name": "stdout",
     "output_type": "stream",
     "text": [
      "After sweep 39 energy=-86.02024681073397  maxlinkdim=128 maxerr=5.80E-09 time=21.075\n"
     ]
    },
    {
     "name": "stdout",
     "output_type": "stream",
     "text": [
      "After sweep 40 energy=-86.0202468108912  maxlinkdim=128 maxerr=5.81E-09 time=23.036\n"
     ]
    },
    {
     "name": "stdout",
     "output_type": "stream",
     "text": [
      "After sweep 41 energy=-86.02024681101926  maxlinkdim=128 maxerr=5.81E-09 time=23.377\n"
     ]
    },
    {
     "name": "stdout",
     "output_type": "stream",
     "text": [
      "After sweep 42 energy=-86.0202468111228  maxlinkdim=128 maxerr=5.81E-09 time=23.332\n"
     ]
    },
    {
     "name": "stdout",
     "output_type": "stream",
     "text": [
      "After sweep 43 energy=-86.02024681120659  maxlinkdim=128 maxerr=5.81E-09 time=22.835\n"
     ]
    },
    {
     "name": "stdout",
     "output_type": "stream",
     "text": [
      "Energy difference less than 1.0e-10, stopping DMRG\n"
     ]
    },
    {
     "name": "stdout",
     "output_type": "stream",
     "text": [
      "After sweep 1 energy=-86.59392551089708  maxlinkdim=18 maxerr=4.69E-37 time=2.078\n"
     ]
    },
    {
     "name": "stdout",
     "output_type": "stream",
     "text": [
      "After sweep 2 energy=-87.05375322269666  maxlinkdim=128 maxerr=5.86E-12 time=11.546\n"
     ]
    },
    {
     "name": "stdout",
     "output_type": "stream",
     "text": [
      "After sweep 3 energy=-87.11030006031913  maxlinkdim=128 maxerr=4.84E-11 time=16.949\n"
     ]
    },
    {
     "name": "stdout",
     "output_type": "stream",
     "text": [
      "After sweep 4 energy=-87.14100485277218  maxlinkdim=128 maxerr=1.47E-11 time=19.244\n"
     ]
    },
    {
     "name": "stdout",
     "output_type": "stream",
     "text": [
      "After sweep 5 energy=-87.16161960297123  maxlinkdim=128 maxerr=5.81E-11 time=19.411\n"
     ]
    },
    {
     "name": "stdout",
     "output_type": "stream",
     "text": [
      "After sweep 6 energy=-87.17632129044159  maxlinkdim=128 maxerr=2.82E-11 time=17.085\n"
     ]
    },
    {
     "name": "stdout",
     "output_type": "stream",
     "text": [
      "After sweep 7 energy=-87.18731362639011  maxlinkdim=128 maxerr=1.00E-11 time=18.340\n"
     ]
    },
    {
     "name": "stdout",
     "output_type": "stream",
     "text": [
      "After sweep 8 energy=-87.19610805218693  maxlinkdim=128 maxerr=8.52E-12 time=20.933\n"
     ]
    },
    {
     "name": "stdout",
     "output_type": "stream",
     "text": [
      "After sweep 9 energy=-87.2029622366969  maxlinkdim=128 maxerr=2.87E-11 time=22.655\n"
     ]
    },
    {
     "name": "stdout",
     "output_type": "stream",
     "text": [
      "After sweep 10 energy=-87.20821946035599  maxlinkdim=128 maxerr=1.36E-11 time=24.136\n"
     ]
    },
    {
     "name": "stdout",
     "output_type": "stream",
     "text": [
      "After sweep 11 energy=-87.21251663234105  maxlinkdim=128 maxerr=1.39E-11 time=22.839\n"
     ]
    },
    {
     "name": "stdout",
     "output_type": "stream",
     "text": [
      "After sweep 12 energy=-87.21599463999274  maxlinkdim=128 maxerr=3.12E-11 time=22.339\n"
     ]
    },
    {
     "name": "stdout",
     "output_type": "stream",
     "text": [
      "After sweep 13 energy=-87.21878311147212  maxlinkdim=128 maxerr=1.90E-11 time=21.743\n"
     ]
    },
    {
     "name": "stdout",
     "output_type": "stream",
     "text": [
      "After sweep 14 energy=-87.22101272566607  maxlinkdim=128 maxerr=1.65E-11 time=19.895\n"
     ]
    },
    {
     "name": "stdout",
     "output_type": "stream",
     "text": [
      "After sweep 15 energy=-87.22285201661276  maxlinkdim=128 maxerr=5.01E-11 time=17.217\n"
     ]
    },
    {
     "name": "stdout",
     "output_type": "stream",
     "text": [
      "After sweep 16 energy=-87.22432799884717  maxlinkdim=128 maxerr=4.28E-11 time=19.019\n"
     ]
    },
    {
     "name": "stdout",
     "output_type": "stream",
     "text": [
      "After sweep 17 energy=-87.2255975734293  maxlinkdim=128 maxerr=6.71E-10 time=21.387\n"
     ]
    },
    {
     "name": "stdout",
     "output_type": "stream",
     "text": [
      "After sweep 18 energy=-87.22674751517158  maxlinkdim=128 maxerr=3.30E-10 time=23.119\n"
     ]
    },
    {
     "name": "stdout",
     "output_type": "stream",
     "text": [
      "After sweep 19 energy=-87.22778075393315  maxlinkdim=128 maxerr=1.64E-09 time=23.275\n"
     ]
    },
    {
     "name": "stdout",
     "output_type": "stream",
     "text": [
      "After sweep 20 energy=-87.22868283718763  maxlinkdim=128 maxerr=5.22E-09 time=22.495\n"
     ]
    },
    {
     "name": "stdout",
     "output_type": "stream",
     "text": [
      "After sweep 21 energy=-87.22920148652445  maxlinkdim=128 maxerr=9.27E-09 time=22.438\n"
     ]
    },
    {
     "name": "stdout",
     "output_type": "stream",
     "text": [
      "After sweep 22 energy=-87.22955317929632  maxlinkdim=128 maxerr=1.01E-08 time=23.954\n"
     ]
    },
    {
     "name": "stdout",
     "output_type": "stream",
     "text": [
      "After sweep 23 energy=-87.22978297470077  maxlinkdim=128 maxerr=1.50E-08 time=24.013\n"
     ]
    },
    {
     "name": "stdout",
     "output_type": "stream",
     "text": [
      "After sweep 24 energy=-87.22995976446538  maxlinkdim=128 maxerr=2.42E-08 time=23.071\n"
     ]
    },
    {
     "name": "stdout",
     "output_type": "stream",
     "text": [
      "After sweep 25 energy=-87.23011196183785  maxlinkdim=128 maxerr=1.34E-08 time=22.932\n"
     ]
    },
    {
     "name": "stdout",
     "output_type": "stream",
     "text": [
      "After sweep 26 energy=-87.23024365837132  maxlinkdim=128 maxerr=2.30E-08 time=24.390\n"
     ]
    },
    {
     "name": "stdout",
     "output_type": "stream",
     "text": [
      "After sweep 27 energy=-87.23034456407194  maxlinkdim=128 maxerr=3.71E-08 time=24.835\n"
     ]
    },
    {
     "name": "stdout",
     "output_type": "stream",
     "text": [
      "After sweep 28 energy=-87.2304076584107  maxlinkdim=128 maxerr=3.73E-08 time=23.698\n"
     ]
    },
    {
     "name": "stdout",
     "output_type": "stream",
     "text": [
      "After sweep 29 energy=-87.23045386156375  maxlinkdim=128 maxerr=3.10E-08 time=24.309\n"
     ]
    },
    {
     "name": "stdout",
     "output_type": "stream",
     "text": [
      "After sweep 30 energy=-87.23048031969509  maxlinkdim=128 maxerr=1.03E-08 time=23.397\n"
     ]
    },
    {
     "name": "stdout",
     "output_type": "stream",
     "text": [
      "After sweep 31 energy=-87.23048536322705  maxlinkdim=128 maxerr=1.39E-08 time=23.309\n"
     ]
    },
    {
     "name": "stdout",
     "output_type": "stream",
     "text": [
      "After sweep 32 energy=-87.2304856700575  maxlinkdim=128 maxerr=8.63E-09 time=22.405\n"
     ]
    },
    {
     "name": "stdout",
     "output_type": "stream",
     "text": [
      "After sweep 33 energy=-87.23048569922172  maxlinkdim=128 maxerr=8.77E-09 time=22.249\n"
     ]
    },
    {
     "name": "stdout",
     "output_type": "stream",
     "text": [
      "After sweep 34 energy=-87.23048570028939  maxlinkdim=128 maxerr=8.88E-09 time=21.491\n"
     ]
    },
    {
     "name": "stdout",
     "output_type": "stream",
     "text": [
      "After sweep 35 energy=-87.23048569863634  maxlinkdim=128 maxerr=8.96E-09 time=19.937\n"
     ]
    },
    {
     "name": "stdout",
     "output_type": "stream",
     "text": [
      "After sweep 36 energy=-87.2304856977104  maxlinkdim=128 maxerr=9.06E-09 time=21.805\n"
     ]
    },
    {
     "name": "stdout",
     "output_type": "stream",
     "text": [
      "After sweep 37 energy=-87.23048569735214  maxlinkdim=128 maxerr=9.13E-09 time=23.822\n"
     ]
    },
    {
     "name": "stdout",
     "output_type": "stream",
     "text": [
      "After sweep 38 energy=-87.23048569726974  maxlinkdim=128 maxerr=9.16E-09 time=23.954\n"
     ]
    },
    {
     "name": "stdout",
     "output_type": "stream",
     "text": [
      "Energy difference less than 1.0e-10, stopping DMRG\n"
     ]
    },
    {
     "name": "stdout",
     "output_type": "stream",
     "text": [
      "After sweep 1 energy=-88.13810694774898  maxlinkdim=18 maxerr=4.56E-37 time=2.189\n"
     ]
    },
    {
     "name": "stdout",
     "output_type": "stream",
     "text": [
      "After sweep 2 energy=-88.64425044817985  maxlinkdim=128 maxerr=6.54E-12 time=12.374\n"
     ]
    },
    {
     "name": "stdout",
     "output_type": "stream",
     "text": [
      "After sweep 3 energy=-88.70771155877587  maxlinkdim=128 maxerr=2.95E-11 time=17.599\n"
     ]
    },
    {
     "name": "stdout",
     "output_type": "stream",
     "text": [
      "After sweep 4 energy=-88.74369754875242  maxlinkdim=128 maxerr=2.74E-11 time=19.446\n"
     ]
    },
    {
     "name": "stdout",
     "output_type": "stream",
     "text": [
      "After sweep 5 energy=-88.7687850092286  maxlinkdim=128 maxerr=2.95E-11 time=20.357\n"
     ]
    },
    {
     "name": "stdout",
     "output_type": "stream",
     "text": [
      "After sweep 6 energy=-88.78703126435238  maxlinkdim=128 maxerr=3.37E-11 time=20.960\n"
     ]
    },
    {
     "name": "stdout",
     "output_type": "stream",
     "text": [
      "After sweep 7 energy=-88.80096236953064  maxlinkdim=128 maxerr=8.78E-12 time=26.285\n"
     ]
    },
    {
     "name": "stdout",
     "output_type": "stream",
     "text": [
      "After sweep 8 energy=-88.81197175497809  maxlinkdim=128 maxerr=5.73E-12 time=18.708\n"
     ]
    },
    {
     "name": "stdout",
     "output_type": "stream",
     "text": [
      "After sweep 9 energy=-88.82159183827989  maxlinkdim=128 maxerr=6.83E-11 time=22.248\n"
     ]
    },
    {
     "name": "stdout",
     "output_type": "stream",
     "text": [
      "After sweep 10 energy=-88.82972277461029  maxlinkdim=128 maxerr=7.62E-10 time=23.360\n"
     ]
    },
    {
     "name": "stdout",
     "output_type": "stream",
     "text": [
      "After sweep 11 energy=-88.83559799534004  maxlinkdim=128 maxerr=1.52E-10 time=21.891\n"
     ]
    },
    {
     "name": "stdout",
     "output_type": "stream",
     "text": [
      "After sweep 12 energy=-88.84045048684206  maxlinkdim=128 maxerr=4.24E-11 time=22.790\n"
     ]
    },
    {
     "name": "stdout",
     "output_type": "stream",
     "text": [
      "After sweep 13 energy=-88.84462973257232  maxlinkdim=128 maxerr=8.40E-11 time=24.996\n"
     ]
    },
    {
     "name": "stdout",
     "output_type": "stream",
     "text": [
      "After sweep 14 energy=-88.84831672608416  maxlinkdim=128 maxerr=1.41E-10 time=26.857\n"
     ]
    },
    {
     "name": "stdout",
     "output_type": "stream",
     "text": [
      "After sweep 15 energy=-88.85148898378208  maxlinkdim=128 maxerr=2.57E-09 time=27.491\n"
     ]
    },
    {
     "name": "stdout",
     "output_type": "stream",
     "text": [
      "After sweep 16 energy=-88.85363896318658  maxlinkdim=128 maxerr=1.32E-09 time=27.248\n"
     ]
    },
    {
     "name": "stdout",
     "output_type": "stream",
     "text": [
      "After sweep 17 energy=-88.85528175379632  maxlinkdim=128 maxerr=4.84E-09 time=23.197\n"
     ]
    },
    {
     "name": "stdout",
     "output_type": "stream",
     "text": [
      "After sweep 18 energy=-88.85667125553762  maxlinkdim=128 maxerr=2.30E-09 time=23.831\n"
     ]
    },
    {
     "name": "stdout",
     "output_type": "stream",
     "text": [
      "After sweep 19 energy=-88.85761775178958  maxlinkdim=128 maxerr=9.87E-10 time=25.679\n"
     ]
    },
    {
     "name": "stdout",
     "output_type": "stream",
     "text": [
      "After sweep 20 energy=-88.8585188270455  maxlinkdim=128 maxerr=2.38E-09 time=25.167\n"
     ]
    },
    {
     "name": "stdout",
     "output_type": "stream",
     "text": [
      "After sweep 21 energy=-88.85918896127646  maxlinkdim=128 maxerr=6.12E-09 time=24.020\n"
     ]
    },
    {
     "name": "stdout",
     "output_type": "stream",
     "text": [
      "After sweep 22 energy=-88.85952669704729  maxlinkdim=128 maxerr=2.96E-09 time=24.540\n"
     ]
    },
    {
     "name": "stdout",
     "output_type": "stream",
     "text": [
      "After sweep 23 energy=-88.85976751046935  maxlinkdim=128 maxerr=1.91E-09 time=24.978\n"
     ]
    },
    {
     "name": "stdout",
     "output_type": "stream",
     "text": [
      "After sweep 24 energy=-88.85995913002154  maxlinkdim=128 maxerr=4.34E-09 time=25.411\n"
     ]
    },
    {
     "name": "stdout",
     "output_type": "stream",
     "text": [
      "After sweep 25 energy=-88.86018442916394  maxlinkdim=128 maxerr=1.54E-08 time=25.510\n"
     ]
    },
    {
     "name": "stdout",
     "output_type": "stream",
     "text": [
      "After sweep 26 energy=-88.86028775727596  maxlinkdim=128 maxerr=3.36E-08 time=25.212\n"
     ]
    },
    {
     "name": "stdout",
     "output_type": "stream",
     "text": [
      "After sweep 27 energy=-88.86031648952637  maxlinkdim=128 maxerr=5.74E-08 time=23.947\n"
     ]
    },
    {
     "name": "stdout",
     "output_type": "stream",
     "text": [
      "After sweep 28 energy=-88.86032374054462  maxlinkdim=128 maxerr=1.79E-08 time=27.075\n"
     ]
    },
    {
     "name": "stdout",
     "output_type": "stream",
     "text": [
      "After sweep 29 energy=-88.86032473688329  maxlinkdim=128 maxerr=1.70E-08 time=26.723\n"
     ]
    },
    {
     "name": "stdout",
     "output_type": "stream",
     "text": [
      "After sweep 30 energy=-88.86032480597282  maxlinkdim=128 maxerr=1.75E-08 time=26.254\n"
     ]
    },
    {
     "name": "stdout",
     "output_type": "stream",
     "text": [
      "After sweep 31 energy=-88.8603248095913  maxlinkdim=128 maxerr=1.80E-08 time=25.660\n"
     ]
    },
    {
     "name": "stdout",
     "output_type": "stream",
     "text": [
      "After sweep 32 energy=-88.86032480771267  maxlinkdim=128 maxerr=1.83E-08 time=25.263\n"
     ]
    },
    {
     "name": "stdout",
     "output_type": "stream",
     "text": [
      "After sweep 33 energy=-88.860324806613  maxlinkdim=128 maxerr=1.84E-08 time=25.375\n"
     ]
    },
    {
     "name": "stdout",
     "output_type": "stream",
     "text": [
      "After sweep 34 energy=-88.86032480668815  maxlinkdim=128 maxerr=1.85E-08 time=25.113\n"
     ]
    },
    {
     "name": "stdout",
     "output_type": "stream",
     "text": [
      "Energy difference less than 1.0e-10, stopping DMRG\n"
     ]
    },
    {
     "name": "stdout",
     "output_type": "stream",
     "text": [
      "After sweep 1 energy=-90.05392534384528  maxlinkdim=18 maxerr=2.57E-37 time=2.604\n"
     ]
    },
    {
     "name": "stdout",
     "output_type": "stream",
     "text": [
      "After sweep 2 energy=-90.62888215649014  maxlinkdim=128 maxerr=5.67E-12 time=13.940\n"
     ]
    },
    {
     "name": "stdout",
     "output_type": "stream",
     "text": [
      "After sweep 3 energy=-90.7073377693849  maxlinkdim=128 maxerr=7.33E-11 time=20.476\n"
     ]
    },
    {
     "name": "stdout",
     "output_type": "stream",
     "text": [
      "After sweep 4 energy=-90.75274999027435  maxlinkdim=128 maxerr=1.55E-11 time=21.687\n"
     ]
    },
    {
     "name": "stdout",
     "output_type": "stream",
     "text": [
      "After sweep 5 energy=-90.78420097795168  maxlinkdim=128 maxerr=2.03E-11 time=19.681\n"
     ]
    },
    {
     "name": "stdout",
     "output_type": "stream",
     "text": [
      "After sweep 6 energy=-90.80857031466961  maxlinkdim=128 maxerr=1.80E-11 time=20.948\n"
     ]
    },
    {
     "name": "stdout",
     "output_type": "stream",
     "text": [
      "After sweep 7 energy=-90.8273394250867  maxlinkdim=128 maxerr=2.95E-11 time=22.221\n"
     ]
    },
    {
     "name": "stdout",
     "output_type": "stream",
     "text": [
      "After sweep 8 energy=-90.84211840769251  maxlinkdim=128 maxerr=3.16E-11 time=23.028\n"
     ]
    },
    {
     "name": "stdout",
     "output_type": "stream",
     "text": [
      "After sweep 9 energy=-90.85428517086666  maxlinkdim=128 maxerr=1.49E-11 time=23.625\n"
     ]
    },
    {
     "name": "stdout",
     "output_type": "stream",
     "text": [
      "After sweep 10 energy=-90.86469521907551  maxlinkdim=128 maxerr=3.33E-11 time=23.764\n"
     ]
    },
    {
     "name": "stdout",
     "output_type": "stream",
     "text": [
      "After sweep 11 energy=-90.87411768822737  maxlinkdim=128 maxerr=4.13E-09 time=23.020\n"
     ]
    },
    {
     "name": "stdout",
     "output_type": "stream",
     "text": [
      "After sweep 12 energy=-90.88072546961298  maxlinkdim=128 maxerr=8.04E-11 time=22.684\n"
     ]
    },
    {
     "name": "stdout",
     "output_type": "stream",
     "text": [
      "After sweep 13 energy=-90.88600361241949  maxlinkdim=128 maxerr=6.54E-11 time=23.730\n"
     ]
    },
    {
     "name": "stdout",
     "output_type": "stream",
     "text": [
      "After sweep 14 energy=-90.89050731595043  maxlinkdim=128 maxerr=5.90E-11 time=20.436\n"
     ]
    },
    {
     "name": "stdout",
     "output_type": "stream",
     "text": [
      "After sweep 15 energy=-90.89396616028226  maxlinkdim=128 maxerr=7.41E-11 time=22.619\n"
     ]
    },
    {
     "name": "stdout",
     "output_type": "stream",
     "text": [
      "After sweep 16 energy=-90.89690517083638  maxlinkdim=128 maxerr=1.08E-09 time=24.551\n"
     ]
    },
    {
     "name": "stdout",
     "output_type": "stream",
     "text": [
      "After sweep 17 energy=-90.89905815772592  maxlinkdim=128 maxerr=7.89E-10 time=24.986\n"
     ]
    },
    {
     "name": "stdout",
     "output_type": "stream",
     "text": [
      "After sweep 18 energy=-90.90069220052807  maxlinkdim=128 maxerr=7.14E-10 time=24.408\n"
     ]
    },
    {
     "name": "stdout",
     "output_type": "stream",
     "text": [
      "After sweep 19 energy=-90.90192655674178  maxlinkdim=128 maxerr=2.22E-09 time=23.956\n"
     ]
    },
    {
     "name": "stdout",
     "output_type": "stream",
     "text": [
      "After sweep 20 energy=-90.90294108335426  maxlinkdim=128 maxerr=1.04E-09 time=23.509\n"
     ]
    },
    {
     "name": "stdout",
     "output_type": "stream",
     "text": [
      "After sweep 21 energy=-90.90388135950863  maxlinkdim=128 maxerr=1.65E-09 time=23.441\n"
     ]
    },
    {
     "name": "stdout",
     "output_type": "stream",
     "text": [
      "After sweep 22 energy=-90.90449222201941  maxlinkdim=128 maxerr=2.66E-09 time=23.402\n"
     ]
    },
    {
     "name": "stdout",
     "output_type": "stream",
     "text": [
      "After sweep 23 energy=-90.90498848476305  maxlinkdim=128 maxerr=5.40E-09 time=23.797\n"
     ]
    },
    {
     "name": "stdout",
     "output_type": "stream",
     "text": [
      "After sweep 24 energy=-90.90553434017986  maxlinkdim=128 maxerr=9.36E-09 time=23.382\n"
     ]
    },
    {
     "name": "stdout",
     "output_type": "stream",
     "text": [
      "After sweep 25 energy=-90.90596773064445  maxlinkdim=128 maxerr=2.39E-08 time=22.628\n"
     ]
    },
    {
     "name": "stdout",
     "output_type": "stream",
     "text": [
      "After sweep 26 energy=-90.90615021593412  maxlinkdim=128 maxerr=4.69E-08 time=24.932\n"
     ]
    },
    {
     "name": "stdout",
     "output_type": "stream",
     "text": [
      "After sweep 27 energy=-90.90627594283653  maxlinkdim=128 maxerr=3.50E-08 time=25.334\n"
     ]
    },
    {
     "name": "stdout",
     "output_type": "stream",
     "text": [
      "After sweep 28 energy=-90.90637219545587  maxlinkdim=128 maxerr=4.82E-08 time=24.777\n"
     ]
    },
    {
     "name": "stdout",
     "output_type": "stream",
     "text": [
      "After sweep 29 energy=-90.90641225684851  maxlinkdim=128 maxerr=3.80E-08 time=24.162\n"
     ]
    },
    {
     "name": "stdout",
     "output_type": "stream",
     "text": [
      "After sweep 30 energy=-90.90641638237688  maxlinkdim=128 maxerr=2.96E-08 time=23.916\n"
     ]
    },
    {
     "name": "stdout",
     "output_type": "stream",
     "text": [
      "After sweep 31 energy=-90.9064165981499  maxlinkdim=128 maxerr=2.90E-08 time=24.674\n"
     ]
    },
    {
     "name": "stdout",
     "output_type": "stream",
     "text": [
      "After sweep 32 energy=-90.90641661669132  maxlinkdim=128 maxerr=2.92E-08 time=24.585\n"
     ]
    },
    {
     "name": "stdout",
     "output_type": "stream",
     "text": [
      "After sweep 33 energy=-90.90641661673398  maxlinkdim=128 maxerr=3.00E-08 time=25.053\n"
     ]
    },
    {
     "name": "stdout",
     "output_type": "stream",
     "text": [
      "Energy difference less than 1.0e-10, stopping DMRG\n"
     ]
    },
    {
     "data": {
      "text/plain": [
       "129-element Vector{Float64}:\n",
       " 0.6240814497338169\n",
       " 0.9274553316764524\n",
       " 0.9734877656178089\n",
       " 0.9802340504285294\n",
       " 0.9814514787683815\n",
       " 0.9818005213952254\n",
       " 0.9819625565451525\n",
       " 0.9820602926970736\n",
       " 0.9821262811029996\n",
       " 0.9821735421253369\n",
       " ⋮\n",
       " 0.9821277378634086\n",
       " 0.9820617674991579\n",
       " 0.9819640594244095\n",
       " 0.9818020120506908\n",
       " 0.9814530021594592\n",
       " 0.9802355775251453\n",
       " 0.973489291459037\n",
       " 0.9274569532499339\n",
       " 0.6240831441163257"
      ]
     },
     "metadata": {},
     "output_type": "display_data"
    }
   ],
   "source": [
    "density_SF = density_function(0.5, 1., 0., 129, convergence=1e-10, impurity_values=[0.0, 0.0], impurity_sites=[43, 86], impurity=true)\n",
    "density_SF_2 = density_function(0.5, 1., 0., 129, convergence=1e-10, impurity_values=[0.5, 0.5], impurity_sites=[43, 86], impurity=true)\n",
    "density_SF_3 = density_function(0.5, 1., 0., 129, convergence=1e-10, impurity_values=[1.0, 1.0], impurity_sites=[43, 86], impurity=true)\n",
    "density_SF_4 = density_function(0.5, 1., 0., 129, convergence=1e-10, impurity_values=[1.5, 1.5], impurity_sites=[43, 86], impurity=true)"
   ]
  },
  {
   "cell_type": "code",
   "execution_count": 17,
   "metadata": {},
   "outputs": [
    {
     "data": {
      "text/plain": [
       "2873"
      ]
     },
     "metadata": {},
     "output_type": "display_data"
    }
   ],
   "source": [
    "saveData(density_SF, 129, \"[43-86]\",\"[00-00]\", \"SF\")\n",
    "saveData(density_SF_2, 129, \"[43-86]\",\"[05-05]\", \"SF\")\n",
    "saveData(density_SF_3, 129, \"[43-86]\",\"[10-10]\", \"SF\")\n",
    "saveData(density_SF_4, 129, \"[43-86]\",\"[15-15]\", \"SF\")"
   ]
  },
  {
   "cell_type": "code",
   "execution_count": 18,
   "metadata": {},
   "outputs": [
    {
     "data": {
      "image/png": "[encoded data removed]",
      "image/svg+xml": [
       "<?xml version=\"1.0\" encoding=\"utf-8\"?>\n",
       "<svg xmlns=\"http://www.w3.org/2000/svg\" xmlns:xlink=\"http://www.w3.org/1999/xlink\" width=\"600\" height=\"400\" viewBox=\"0 0 2400 1600\">\n",
       "<defs>\n",
       "  <clipPath id=\"clip410\">\n",
       "    <rect x=\"0\" y=\"0\" width=\"2400\" height=\"1600\"/>\n",
       "  </clipPath>\n",
       "</defs>\n",
       "<path clip-path=\"url(#clip410)\" d=\"M0 1600 L2400 1600 L2400 0 L0 0  Z\" fill=\"#ffffff\" fill-rule=\"evenodd\" fill-opacity=\"1\"/>\n",
       "<defs>\n",
       "  <clipPath id=\"clip411\">\n",
       "    <rect x=\"480\" y=\"0\" width=\"1681\" height=\"1600\"/>\n",
       "  </clipPath>\n",
       "</defs>\n",
       "<path clip-path=\"url(#clip410)\" d=\"M185.927 1486.45 L2352.76 1486.45 L2352.76 47.2441 L185.927 47.2441  Z\" fill=\"#ffffff\" fill-rule=\"evenodd\" fill-opacity=\"1\"/>\n",
       "<defs>\n",
       "  <clipPath id=\"clip412\">\n",
       "    <rect x=\"185\" y=\"47\" width=\"2168\" height=\"1440\"/>\n",
       "  </clipPath>\n",
       "</defs>\n",
       "<polyline clip-path=\"url(#clip412)\" style=\"stroke:#000000; stroke-linecap:round; stroke-linejoin:round; stroke-width:2; stroke-opacity:0.1; fill:none\" points=\"231.282,1486.45 231.282,47.2441 \"/>\n",
       "<polyline clip-path=\"url(#clip412)\" style=\"stroke:#000000; stroke-linecap:round; stroke-linejoin:round; stroke-width:2; stroke-opacity:0.1; fill:none\" points=\"550.685,1486.45 550.685,47.2441 \"/>\n",
       "<polyline clip-path=\"url(#clip412)\" style=\"stroke:#000000; stroke-linecap:round; stroke-linejoin:round; stroke-width:2; stroke-opacity:0.1; fill:none\" points=\"870.088,1486.45 870.088,47.2441 \"/>\n",
       "<polyline clip-path=\"url(#clip412)\" style=\"stroke:#000000; stroke-linecap:round; stroke-linejoin:round; stroke-width:2; stroke-opacity:0.1; fill:none\" points=\"1189.49,1486.45 1189.49,47.2441 \"/>\n",
       "<polyline clip-path=\"url(#clip412)\" style=\"stroke:#000000; stroke-linecap:round; stroke-linejoin:round; stroke-width:2; stroke-opacity:0.1; fill:none\" points=\"1508.89,1486.45 1508.89,47.2441 \"/>\n",
       "<polyline clip-path=\"url(#clip412)\" style=\"stroke:#000000; stroke-linecap:round; stroke-linejoin:round; stroke-width:2; stroke-opacity:0.1; fill:none\" points=\"1828.3,1486.45 1828.3,47.2441 \"/>\n",
       "<polyline clip-path=\"url(#clip412)\" style=\"stroke:#000000; stroke-linecap:round; stroke-linejoin:round; stroke-width:2; stroke-opacity:0.1; fill:none\" points=\"2147.7,1486.45 2147.7,47.2441 \"/>\n",
       "<polyline clip-path=\"url(#clip410)\" style=\"stroke:#000000; stroke-linecap:round; stroke-linejoin:round; stroke-width:4; stroke-opacity:1; fill:none\" points=\"185.927,1486.45 2352.76,1486.45 \"/>\n",
       "<polyline clip-path=\"url(#clip410)\" style=\"stroke:#000000; stroke-linecap:round; stroke-linejoin:round; stroke-width:4; stroke-opacity:1; fill:none\" points=\"231.282,1486.45 231.282,1467.55 \"/>\n",
       "<polyline clip-path=\"url(#clip410)\" style=\"stroke:#000000; stroke-linecap:round; stroke-linejoin:round; stroke-width:4; stroke-opacity:1; fill:none\" points=\"550.685,1486.45 550.685,1467.55 \"/>\n",
       "<polyline clip-path=\"url(#clip410)\" style=\"stroke:#000000; stroke-linecap:round; stroke-linejoin:round; stroke-width:4; stroke-opacity:1; fill:none\" points=\"870.088,1486.45 870.088,1467.55 \"/>\n",
       "<polyline clip-path=\"url(#clip410)\" style=\"stroke:#000000; stroke-linecap:round; stroke-linejoin:round; stroke-width:4; stroke-opacity:1; fill:none\" points=\"1189.49,1486.45 1189.49,1467.55 \"/>\n",
       "<polyline clip-path=\"url(#clip410)\" style=\"stroke:#000000; stroke-linecap:round; stroke-linejoin:round; stroke-width:4; stroke-opacity:1; fill:none\" points=\"1508.89,1486.45 1508.89,1467.55 \"/>\n",
       "<polyline clip-path=\"url(#clip410)\" style=\"stroke:#000000; stroke-linecap:round; stroke-linejoin:round; stroke-width:4; stroke-opacity:1; fill:none\" points=\"1828.3,1486.45 1828.3,1467.55 \"/>\n",
       "<polyline clip-path=\"url(#clip410)\" style=\"stroke:#000000; stroke-linecap:round; stroke-linejoin:round; stroke-width:4; stroke-opacity:1; fill:none\" points=\"2147.7,1486.45 2147.7,1467.55 \"/>\n",
       "<path clip-path=\"url(#clip410)\" d=\"M231.282 1517.37 Q227.671 1517.37 225.842 1520.93 Q224.037 1524.47 224.037 1531.6 Q224.037 1538.71 225.842 1542.27 Q227.671 1545.82 231.282 1545.82 Q234.916 1545.82 236.722 1542.27 Q238.55 1538.71 238.55 1531.6 Q238.55 1524.47 236.722 1520.93 Q234.916 1517.37 231.282 1517.37 M231.282 1513.66 Q237.092 1513.66 240.148 1518.27 Q243.226 1522.85 243.226 1531.6 Q243.226 1540.33 240.148 1544.94 Q237.092 1549.52 231.282 1549.52 Q225.472 1549.52 222.393 1544.94 Q219.338 1540.33 219.338 1531.6 Q219.338 1522.85 222.393 1518.27 Q225.472 1513.66 231.282 1513.66 Z\" fill=\"#000000\" fill-rule=\"nonzero\" fill-opacity=\"1\" /><path clip-path=\"url(#clip410)\" d=\"M529.458 1544.91 L545.777 1544.91 L545.777 1548.85 L523.833 1548.85 L523.833 1544.91 Q526.495 1542.16 531.078 1537.53 Q535.685 1532.88 536.865 1531.53 Q539.111 1529.01 539.99 1527.27 Q540.893 1525.51 540.893 1523.82 Q540.893 1521.07 538.949 1519.33 Q537.028 1517.6 533.926 1517.6 Q531.727 1517.6 529.273 1518.36 Q526.842 1519.13 524.065 1520.68 L524.065 1515.95 Q526.889 1514.82 529.342 1514.24 Q531.796 1513.66 533.833 1513.66 Q539.203 1513.66 542.398 1516.35 Q545.592 1519.03 545.592 1523.52 Q545.592 1525.65 544.782 1527.57 Q543.995 1529.47 541.889 1532.07 Q541.31 1532.74 538.208 1535.95 Q535.106 1539.15 529.458 1544.91 Z\" fill=\"#000000\" fill-rule=\"nonzero\" fill-opacity=\"1\" /><path clip-path=\"url(#clip410)\" d=\"M565.592 1517.37 Q561.981 1517.37 560.152 1520.93 Q558.347 1524.47 558.347 1531.6 Q558.347 1538.71 560.152 1542.27 Q561.981 1545.82 565.592 1545.82 Q569.226 1545.82 571.032 1542.27 Q572.861 1538.71 572.861 1531.6 Q572.861 1524.47 571.032 1520.93 Q569.226 1517.37 565.592 1517.37 M565.592 1513.66 Q571.402 1513.66 574.458 1518.27 Q577.537 1522.85 577.537 1531.6 Q577.537 1540.33 574.458 1544.94 Q571.402 1549.52 565.592 1549.52 Q559.782 1549.52 556.703 1544.94 Q553.648 1540.33 553.648 1531.6 Q553.648 1522.85 556.703 1518.27 Q559.782 1513.66 565.592 1513.66 Z\" fill=\"#000000\" fill-rule=\"nonzero\" fill-opacity=\"1\" /><path clip-path=\"url(#clip410)\" d=\"M858.259 1518.36 L846.454 1536.81 L858.259 1536.81 L858.259 1518.36 M857.032 1514.29 L862.912 1514.29 L862.912 1536.81 L867.842 1536.81 L867.842 1540.7 L862.912 1540.7 L862.912 1548.85 L858.259 1548.85 L858.259 1540.7 L842.657 1540.7 L842.657 1536.19 L857.032 1514.29 Z\" fill=\"#000000\" fill-rule=\"nonzero\" fill-opacity=\"1\" /><path clip-path=\"url(#clip410)\" d=\"M885.574 1517.37 Q881.963 1517.37 880.134 1520.93 Q878.328 1524.47 878.328 1531.6 Q878.328 1538.71 880.134 1542.27 Q881.963 1545.82 885.574 1545.82 Q889.208 1545.82 891.014 1542.27 Q892.842 1538.71 892.842 1531.6 Q892.842 1524.47 891.014 1520.93 Q889.208 1517.37 885.574 1517.37 M885.574 1513.66 Q891.384 1513.66 894.439 1518.27 Q897.518 1522.85 897.518 1531.6 Q897.518 1540.33 894.439 1544.94 Q891.384 1549.52 885.574 1549.52 Q879.764 1549.52 876.685 1544.94 Q873.629 1540.33 873.629 1531.6 Q873.629 1522.85 876.685 1518.27 Q879.764 1513.66 885.574 1513.66 Z\" fill=\"#000000\" fill-rule=\"nonzero\" fill-opacity=\"1\" /><path clip-path=\"url(#clip410)\" d=\"M1174.9 1529.7 Q1171.75 1529.7 1169.9 1531.86 Q1168.07 1534.01 1168.07 1537.76 Q1168.07 1541.49 1169.9 1543.66 Q1171.75 1545.82 1174.9 1545.82 Q1178.04 1545.82 1179.87 1543.66 Q1181.72 1541.49 1181.72 1537.76 Q1181.72 1534.01 1179.87 1531.86 Q1178.04 1529.7 1174.9 1529.7 M1184.18 1515.05 L1184.18 1519.31 Q1182.42 1518.48 1180.61 1518.04 Q1178.83 1517.6 1177.07 1517.6 Q1172.44 1517.6 1169.99 1520.72 Q1167.56 1523.85 1167.21 1530.17 Q1168.58 1528.15 1170.64 1527.09 Q1172.7 1526 1175.17 1526 Q1180.38 1526 1183.39 1529.17 Q1186.42 1532.32 1186.42 1537.76 Q1186.42 1543.08 1183.28 1546.3 Q1180.13 1549.52 1174.9 1549.52 Q1168.9 1549.52 1165.73 1544.94 Q1162.56 1540.33 1162.56 1531.6 Q1162.56 1523.41 1166.45 1518.55 Q1170.34 1513.66 1176.89 1513.66 Q1178.65 1513.66 1180.43 1514.01 Q1182.23 1514.36 1184.18 1515.05 Z\" fill=\"#000000\" fill-rule=\"nonzero\" fill-opacity=\"1\" /><path clip-path=\"url(#clip410)\" d=\"M1204.48 1517.37 Q1200.87 1517.37 1199.04 1520.93 Q1197.23 1524.47 1197.23 1531.6 Q1197.23 1538.71 1199.04 1542.27 Q1200.87 1545.82 1204.48 1545.82 Q1208.11 1545.82 1209.92 1542.27 Q1211.75 1538.71 1211.75 1531.6 Q1211.75 1524.47 1209.92 1520.93 Q1208.11 1517.37 1204.48 1517.37 M1204.48 1513.66 Q1210.29 1513.66 1213.34 1518.27 Q1216.42 1522.85 1216.42 1531.6 Q1216.42 1540.33 1213.34 1544.94 Q1210.29 1549.52 1204.48 1549.52 Q1198.67 1549.52 1195.59 1544.94 Q1192.53 1540.33 1192.53 1531.6 Q1192.53 1522.85 1195.59 1518.27 Q1198.67 1513.66 1204.48 1513.66 Z\" fill=\"#000000\" fill-rule=\"nonzero\" fill-opacity=\"1\" /><path clip-path=\"url(#clip410)\" d=\"M1493.77 1532.44 Q1490.43 1532.44 1488.51 1534.22 Q1486.61 1536 1486.61 1539.13 Q1486.61 1542.25 1488.51 1544.03 Q1490.43 1545.82 1493.77 1545.82 Q1497.1 1545.82 1499.02 1544.03 Q1500.94 1542.23 1500.94 1539.13 Q1500.94 1536 1499.02 1534.22 Q1497.12 1532.44 1493.77 1532.44 M1489.09 1530.45 Q1486.08 1529.7 1484.39 1527.64 Q1482.72 1525.58 1482.72 1522.62 Q1482.72 1518.48 1485.66 1516.07 Q1488.63 1513.66 1493.77 1513.66 Q1498.93 1513.66 1501.87 1516.07 Q1504.81 1518.48 1504.81 1522.62 Q1504.81 1525.58 1503.12 1527.64 Q1501.45 1529.7 1498.47 1530.45 Q1501.84 1531.23 1503.72 1533.52 Q1505.62 1535.82 1505.62 1539.13 Q1505.62 1544.15 1502.54 1546.83 Q1499.48 1549.52 1493.77 1549.52 Q1488.05 1549.52 1484.97 1546.83 Q1481.91 1544.15 1481.91 1539.13 Q1481.91 1535.82 1483.81 1533.52 Q1485.71 1531.23 1489.09 1530.45 M1487.38 1523.06 Q1487.38 1525.75 1489.04 1527.25 Q1490.73 1528.76 1493.77 1528.76 Q1496.78 1528.76 1498.47 1527.25 Q1500.18 1525.75 1500.18 1523.06 Q1500.18 1520.38 1498.47 1518.87 Q1496.78 1517.37 1493.77 1517.37 Q1490.73 1517.37 1489.04 1518.87 Q1487.38 1520.38 1487.38 1523.06 Z\" fill=\"#000000\" fill-rule=\"nonzero\" fill-opacity=\"1\" /><path clip-path=\"url(#clip410)\" d=\"M1523.93 1517.37 Q1520.32 1517.37 1518.49 1520.93 Q1516.68 1524.47 1516.68 1531.6 Q1516.68 1538.71 1518.49 1542.27 Q1520.32 1545.82 1523.93 1545.82 Q1527.56 1545.82 1529.37 1542.27 Q1531.2 1538.71 1531.2 1531.6 Q1531.2 1524.47 1529.37 1520.93 Q1527.56 1517.37 1523.93 1517.37 M1523.93 1513.66 Q1529.74 1513.66 1532.79 1518.27 Q1535.87 1522.85 1535.87 1531.6 Q1535.87 1540.33 1532.79 1544.94 Q1529.74 1549.52 1523.93 1549.52 Q1518.12 1549.52 1515.04 1544.94 Q1511.98 1540.33 1511.98 1531.6 Q1511.98 1522.85 1515.04 1518.27 Q1518.12 1513.66 1523.93 1513.66 Z\" fill=\"#000000\" fill-rule=\"nonzero\" fill-opacity=\"1\" /><path clip-path=\"url(#clip410)\" d=\"M1787.9 1544.91 L1795.54 1544.91 L1795.54 1518.55 L1787.23 1520.21 L1787.23 1515.95 L1795.5 1514.29 L1800.17 1514.29 L1800.17 1544.91 L1807.81 1544.91 L1807.81 1548.85 L1787.9 1548.85 L1787.9 1544.91 Z\" fill=\"#000000\" fill-rule=\"nonzero\" fill-opacity=\"1\" /><path clip-path=\"url(#clip410)\" d=\"M1827.25 1517.37 Q1823.64 1517.37 1821.81 1520.93 Q1820.01 1524.47 1820.01 1531.6 Q1820.01 1538.71 1821.81 1542.27 Q1823.64 1545.82 1827.25 1545.82 Q1830.89 1545.82 1832.69 1542.27 Q1834.52 1538.71 1834.52 1531.6 Q1834.52 1524.47 1832.69 1520.93 Q1830.89 1517.37 1827.25 1517.37 M1827.25 1513.66 Q1833.06 1513.66 1836.12 1518.27 Q1839.2 1522.85 1839.2 1531.6 Q1839.2 1540.33 1836.12 1544.94 Q1833.06 1549.52 1827.25 1549.52 Q1821.44 1549.52 1818.37 1544.94 Q1815.31 1540.33 1815.31 1531.6 Q1815.31 1522.85 1818.37 1518.27 Q1821.44 1513.66 1827.25 1513.66 Z\" fill=\"#000000\" fill-rule=\"nonzero\" fill-opacity=\"1\" /><path clip-path=\"url(#clip410)\" d=\"M1857.42 1517.37 Q1853.81 1517.37 1851.98 1520.93 Q1850.17 1524.47 1850.17 1531.6 Q1850.17 1538.71 1851.98 1542.27 Q1853.81 1545.82 1857.42 1545.82 Q1861.05 1545.82 1862.86 1542.27 Q1864.69 1538.71 1864.69 1531.6 Q1864.69 1524.47 1862.86 1520.93 Q1861.05 1517.37 1857.42 1517.37 M1857.42 1513.66 Q1863.23 1513.66 1866.28 1518.27 Q1869.36 1522.85 1869.36 1531.6 Q1869.36 1540.33 1866.28 1544.94 Q1863.23 1549.52 1857.42 1549.52 Q1851.61 1549.52 1848.53 1544.94 Q1845.47 1540.33 1845.47 1531.6 Q1845.47 1522.85 1848.53 1518.27 Q1851.61 1513.66 1857.42 1513.66 Z\" fill=\"#000000\" fill-rule=\"nonzero\" fill-opacity=\"1\" /><path clip-path=\"url(#clip410)\" d=\"M2107.31 1544.91 L2114.94 1544.91 L2114.94 1518.55 L2106.63 1520.21 L2106.63 1515.95 L2114.9 1514.29 L2119.57 1514.29 L2119.57 1544.91 L2127.21 1544.91 L2127.21 1548.85 L2107.31 1548.85 L2107.31 1544.91 Z\" fill=\"#000000\" fill-rule=\"nonzero\" fill-opacity=\"1\" /><path clip-path=\"url(#clip410)\" d=\"M2140.69 1544.91 L2157 1544.91 L2157 1548.85 L2135.06 1548.85 L2135.06 1544.91 Q2137.72 1542.16 2142.31 1537.53 Q2146.91 1532.88 2148.09 1531.53 Q2150.34 1529.01 2151.22 1527.27 Q2152.12 1525.51 2152.12 1523.82 Q2152.12 1521.07 2150.18 1519.33 Q2148.25 1517.6 2145.15 1517.6 Q2142.95 1517.6 2140.5 1518.36 Q2138.07 1519.13 2135.29 1520.68 L2135.29 1515.95 Q2138.12 1514.82 2140.57 1514.24 Q2143.02 1513.66 2145.06 1513.66 Q2150.43 1513.66 2153.63 1516.35 Q2156.82 1519.03 2156.82 1523.52 Q2156.82 1525.65 2156.01 1527.57 Q2155.22 1529.47 2153.12 1532.07 Q2152.54 1532.74 2149.44 1535.95 Q2146.33 1539.15 2140.69 1544.91 Z\" fill=\"#000000\" fill-rule=\"nonzero\" fill-opacity=\"1\" /><path clip-path=\"url(#clip410)\" d=\"M2176.82 1517.37 Q2173.21 1517.37 2171.38 1520.93 Q2169.57 1524.47 2169.57 1531.6 Q2169.57 1538.71 2171.38 1542.27 Q2173.21 1545.82 2176.82 1545.82 Q2180.45 1545.82 2182.26 1542.27 Q2184.09 1538.71 2184.09 1531.6 Q2184.09 1524.47 2182.26 1520.93 Q2180.45 1517.37 2176.82 1517.37 M2176.82 1513.66 Q2182.63 1513.66 2185.69 1518.27 Q2188.76 1522.85 2188.76 1531.6 Q2188.76 1540.33 2185.69 1544.94 Q2182.63 1549.52 2176.82 1549.52 Q2171.01 1549.52 2167.93 1544.94 Q2164.88 1540.33 2164.88 1531.6 Q2164.88 1522.85 2167.93 1518.27 Q2171.01 1513.66 2176.82 1513.66 Z\" fill=\"#000000\" fill-rule=\"nonzero\" fill-opacity=\"1\" /><polyline clip-path=\"url(#clip412)\" style=\"stroke:#000000; stroke-linecap:round; stroke-linejoin:round; stroke-width:2; stroke-opacity:0.1; fill:none\" points=\"185.927,1340.19 2352.76,1340.19 \"/>\n",
       "<polyline clip-path=\"url(#clip412)\" style=\"stroke:#000000; stroke-linecap:round; stroke-linejoin:round; stroke-width:2; stroke-opacity:0.1; fill:none\" points=\"185.927,1130.67 2352.76,1130.67 \"/>\n",
       "<polyline clip-path=\"url(#clip412)\" style=\"stroke:#000000; stroke-linecap:round; stroke-linejoin:round; stroke-width:2; stroke-opacity:0.1; fill:none\" points=\"185.927,921.152 2352.76,921.152 \"/>\n",
       "<polyline clip-path=\"url(#clip412)\" style=\"stroke:#000000; stroke-linecap:round; stroke-linejoin:round; stroke-width:2; stroke-opacity:0.1; fill:none\" points=\"185.927,711.634 2352.76,711.634 \"/>\n",
       "<polyline clip-path=\"url(#clip412)\" style=\"stroke:#000000; stroke-linecap:round; stroke-linejoin:round; stroke-width:2; stroke-opacity:0.1; fill:none\" points=\"185.927,502.117 2352.76,502.117 \"/>\n",
       "<polyline clip-path=\"url(#clip412)\" style=\"stroke:#000000; stroke-linecap:round; stroke-linejoin:round; stroke-width:2; stroke-opacity:0.1; fill:none\" points=\"185.927,292.599 2352.76,292.599 \"/>\n",
       "<polyline clip-path=\"url(#clip412)\" style=\"stroke:#000000; stroke-linecap:round; stroke-linejoin:round; stroke-width:2; stroke-opacity:0.1; fill:none\" points=\"185.927,83.0816 2352.76,83.0816 \"/>\n",
       "<polyline clip-path=\"url(#clip410)\" style=\"stroke:#000000; stroke-linecap:round; stroke-linejoin:round; stroke-width:4; stroke-opacity:1; fill:none\" points=\"185.927,1486.45 185.927,47.2441 \"/>\n",
       "<polyline clip-path=\"url(#clip410)\" style=\"stroke:#000000; stroke-linecap:round; stroke-linejoin:round; stroke-width:4; stroke-opacity:1; fill:none\" points=\"185.927,1340.19 204.824,1340.19 \"/>\n",
       "<polyline clip-path=\"url(#clip410)\" style=\"stroke:#000000; stroke-linecap:round; stroke-linejoin:round; stroke-width:4; stroke-opacity:1; fill:none\" points=\"185.927,1130.67 204.824,1130.67 \"/>\n",
       "<polyline clip-path=\"url(#clip410)\" style=\"stroke:#000000; stroke-linecap:round; stroke-linejoin:round; stroke-width:4; stroke-opacity:1; fill:none\" points=\"185.927,921.152 204.824,921.152 \"/>\n",
       "<polyline clip-path=\"url(#clip410)\" style=\"stroke:#000000; stroke-linecap:round; stroke-linejoin:round; stroke-width:4; stroke-opacity:1; fill:none\" points=\"185.927,711.634 204.824,711.634 \"/>\n",
       "<polyline clip-path=\"url(#clip410)\" style=\"stroke:#000000; stroke-linecap:round; stroke-linejoin:round; stroke-width:4; stroke-opacity:1; fill:none\" points=\"185.927,502.117 204.824,502.117 \"/>\n",
       "<polyline clip-path=\"url(#clip410)\" style=\"stroke:#000000; stroke-linecap:round; stroke-linejoin:round; stroke-width:4; stroke-opacity:1; fill:none\" points=\"185.927,292.599 204.824,292.599 \"/>\n",
       "<polyline clip-path=\"url(#clip410)\" style=\"stroke:#000000; stroke-linecap:round; stroke-linejoin:round; stroke-width:4; stroke-opacity:1; fill:none\" points=\"185.927,83.0816 204.824,83.0816 \"/>\n",
       "<path clip-path=\"url(#clip410)\" d=\"M63.5847 1325.99 Q59.9736 1325.99 58.1449 1329.55 Q56.3393 1333.09 56.3393 1340.22 Q56.3393 1347.33 58.1449 1350.89 Q59.9736 1354.43 63.5847 1354.43 Q67.2189 1354.43 69.0244 1350.89 Q70.8531 1347.33 70.8531 1340.22 Q70.8531 1333.09 69.0244 1329.55 Q67.2189 1325.99 63.5847 1325.99 M63.5847 1322.28 Q69.3948 1322.28 72.4503 1326.89 Q75.529 1331.47 75.529 1340.22 Q75.529 1348.95 72.4503 1353.56 Q69.3948 1358.14 63.5847 1358.14 Q57.7745 1358.14 54.6958 1353.56 Q51.6403 1348.95 51.6403 1340.22 Q51.6403 1331.47 54.6958 1326.89 Q57.7745 1322.28 63.5847 1322.28 Z\" fill=\"#000000\" fill-rule=\"nonzero\" fill-opacity=\"1\" /><path clip-path=\"url(#clip410)\" d=\"M83.7466 1351.59 L88.6308 1351.59 L88.6308 1357.47 L83.7466 1357.47 L83.7466 1351.59 Z\" fill=\"#000000\" fill-rule=\"nonzero\" fill-opacity=\"1\" /><path clip-path=\"url(#clip410)\" d=\"M97.6354 1322.91 L119.857 1322.91 L119.857 1324.9 L107.311 1357.47 L102.427 1357.47 L114.233 1326.84 L97.6354 1326.84 L97.6354 1322.91 Z\" fill=\"#000000\" fill-rule=\"nonzero\" fill-opacity=\"1\" /><path clip-path=\"url(#clip410)\" d=\"M129.024 1322.91 L147.38 1322.91 L147.38 1326.84 L133.306 1326.84 L133.306 1335.31 Q134.325 1334.97 135.344 1334.81 Q136.362 1334.62 137.381 1334.62 Q143.168 1334.62 146.547 1337.79 Q149.927 1340.96 149.927 1346.38 Q149.927 1351.96 146.455 1355.06 Q142.982 1358.14 136.663 1358.14 Q134.487 1358.14 132.219 1357.77 Q129.973 1357.4 127.566 1356.66 L127.566 1351.96 Q129.649 1353.09 131.871 1353.65 Q134.094 1354.2 136.57 1354.2 Q140.575 1354.2 142.913 1352.1 Q145.251 1349.99 145.251 1346.38 Q145.251 1342.77 142.913 1340.66 Q140.575 1338.56 136.57 1338.56 Q134.695 1338.56 132.82 1338.97 Q130.969 1339.39 129.024 1340.27 L129.024 1322.91 Z\" fill=\"#000000\" fill-rule=\"nonzero\" fill-opacity=\"1\" /><path clip-path=\"url(#clip410)\" d=\"M53.3995 1144.01 L61.0384 1144.01 L61.0384 1117.65 L52.7282 1119.32 L52.7282 1115.06 L60.9921 1113.39 L65.668 1113.39 L65.668 1144.01 L73.3068 1144.01 L73.3068 1147.95 L53.3995 1147.95 L53.3995 1144.01 Z\" fill=\"#000000\" fill-rule=\"nonzero\" fill-opacity=\"1\" /><path clip-path=\"url(#clip410)\" d=\"M82.7512 1142.07 L87.6354 1142.07 L87.6354 1147.95 L82.7512 1147.95 L82.7512 1142.07 Z\" fill=\"#000000\" fill-rule=\"nonzero\" fill-opacity=\"1\" /><path clip-path=\"url(#clip410)\" d=\"M107.821 1116.47 Q104.209 1116.47 102.381 1120.03 Q100.575 1123.57 100.575 1130.7 Q100.575 1137.81 102.381 1141.38 Q104.209 1144.92 107.821 1144.92 Q111.455 1144.92 113.26 1141.38 Q115.089 1137.81 115.089 1130.7 Q115.089 1123.57 113.26 1120.03 Q111.455 1116.47 107.821 1116.47 M107.821 1112.76 Q113.631 1112.76 116.686 1117.37 Q119.765 1121.95 119.765 1130.7 Q119.765 1139.43 116.686 1144.04 Q113.631 1148.62 107.821 1148.62 Q102.01 1148.62 98.9317 1144.04 Q95.8761 1139.43 95.8761 1130.7 Q95.8761 1121.95 98.9317 1117.37 Q102.01 1112.76 107.821 1112.76 Z\" fill=\"#000000\" fill-rule=\"nonzero\" fill-opacity=\"1\" /><path clip-path=\"url(#clip410)\" d=\"M137.982 1116.47 Q134.371 1116.47 132.543 1120.03 Q130.737 1123.57 130.737 1130.7 Q130.737 1137.81 132.543 1141.38 Q134.371 1144.92 137.982 1144.92 Q141.617 1144.92 143.422 1141.38 Q145.251 1137.81 145.251 1130.7 Q145.251 1123.57 143.422 1120.03 Q141.617 1116.47 137.982 1116.47 M137.982 1112.76 Q143.793 1112.76 146.848 1117.37 Q149.927 1121.95 149.927 1130.7 Q149.927 1139.43 146.848 1144.04 Q143.793 1148.62 137.982 1148.62 Q132.172 1148.62 129.094 1144.04 Q126.038 1139.43 126.038 1130.7 Q126.038 1121.95 129.094 1117.37 Q132.172 1112.76 137.982 1112.76 Z\" fill=\"#000000\" fill-rule=\"nonzero\" fill-opacity=\"1\" /><path clip-path=\"url(#clip410)\" d=\"M54.3949 934.497 L62.0337 934.497 L62.0337 908.131 L53.7236 909.798 L53.7236 905.539 L61.9874 903.872 L66.6633 903.872 L66.6633 934.497 L74.3022 934.497 L74.3022 938.432 L54.3949 938.432 L54.3949 934.497 Z\" fill=\"#000000\" fill-rule=\"nonzero\" fill-opacity=\"1\" /><path clip-path=\"url(#clip410)\" d=\"M83.7466 932.552 L88.6308 932.552 L88.6308 938.432 L83.7466 938.432 L83.7466 932.552 Z\" fill=\"#000000\" fill-rule=\"nonzero\" fill-opacity=\"1\" /><path clip-path=\"url(#clip410)\" d=\"M102.844 934.497 L119.163 934.497 L119.163 938.432 L97.2187 938.432 L97.2187 934.497 Q99.8808 931.742 104.464 927.113 Q109.071 922.46 110.251 921.117 Q112.496 918.594 113.376 916.858 Q114.279 915.099 114.279 913.409 Q114.279 910.654 112.334 908.918 Q110.413 907.182 107.311 907.182 Q105.112 907.182 102.659 907.946 Q100.228 908.71 97.4502 910.261 L97.4502 905.539 Q100.274 904.404 102.728 903.826 Q105.182 903.247 107.219 903.247 Q112.589 903.247 115.783 905.932 Q118.978 908.617 118.978 913.108 Q118.978 915.238 118.168 917.159 Q117.381 919.057 115.274 921.65 Q114.695 922.321 111.594 925.538 Q108.492 928.733 102.844 934.497 Z\" fill=\"#000000\" fill-rule=\"nonzero\" fill-opacity=\"1\" /><path clip-path=\"url(#clip410)\" d=\"M129.024 903.872 L147.38 903.872 L147.38 907.807 L133.306 907.807 L133.306 916.279 Q134.325 915.932 135.344 915.77 Q136.362 915.585 137.381 915.585 Q143.168 915.585 146.547 918.756 Q149.927 921.927 149.927 927.344 Q149.927 932.923 146.455 936.025 Q142.982 939.103 136.663 939.103 Q134.487 939.103 132.219 938.733 Q129.973 938.362 127.566 937.622 L127.566 932.923 Q129.649 934.057 131.871 934.612 Q134.094 935.168 136.57 935.168 Q140.575 935.168 142.913 933.062 Q145.251 930.955 145.251 927.344 Q145.251 923.733 142.913 921.626 Q140.575 919.52 136.57 919.52 Q134.695 919.52 132.82 919.937 Q130.969 920.353 129.024 921.233 L129.024 903.872 Z\" fill=\"#000000\" fill-rule=\"nonzero\" fill-opacity=\"1\" /><path clip-path=\"url(#clip410)\" d=\"M53.3995 724.979 L61.0384 724.979 L61.0384 698.614 L52.7282 700.28 L52.7282 696.021 L60.9921 694.354 L65.668 694.354 L65.668 724.979 L73.3068 724.979 L73.3068 728.914 L53.3995 728.914 L53.3995 724.979 Z\" fill=\"#000000\" fill-rule=\"nonzero\" fill-opacity=\"1\" /><path clip-path=\"url(#clip410)\" d=\"M82.7512 723.035 L87.6354 723.035 L87.6354 728.914 L82.7512 728.914 L82.7512 723.035 Z\" fill=\"#000000\" fill-rule=\"nonzero\" fill-opacity=\"1\" /><path clip-path=\"url(#clip410)\" d=\"M97.8669 694.354 L116.223 694.354 L116.223 698.289 L102.149 698.289 L102.149 706.762 Q103.168 706.414 104.186 706.252 Q105.205 706.067 106.223 706.067 Q112.01 706.067 115.39 709.239 Q118.77 712.41 118.77 717.826 Q118.77 723.405 115.297 726.507 Q111.825 729.586 105.506 729.586 Q103.33 729.586 101.061 729.215 Q98.8159 728.845 96.4085 728.104 L96.4085 723.405 Q98.4919 724.539 100.714 725.095 Q102.936 725.65 105.413 725.65 Q109.418 725.65 111.756 723.544 Q114.094 721.438 114.094 717.826 Q114.094 714.215 111.756 712.109 Q109.418 710.002 105.413 710.002 Q103.538 710.002 101.663 710.419 Q99.8113 710.836 97.8669 711.715 L97.8669 694.354 Z\" fill=\"#000000\" fill-rule=\"nonzero\" fill-opacity=\"1\" /><path clip-path=\"url(#clip410)\" d=\"M137.982 697.433 Q134.371 697.433 132.543 700.998 Q130.737 704.539 130.737 711.669 Q130.737 718.775 132.543 722.34 Q134.371 725.882 137.982 725.882 Q141.617 725.882 143.422 722.34 Q145.251 718.775 145.251 711.669 Q145.251 704.539 143.422 700.998 Q141.617 697.433 137.982 697.433 M137.982 693.729 Q143.793 693.729 146.848 698.336 Q149.927 702.919 149.927 711.669 Q149.927 720.396 146.848 725.002 Q143.793 729.586 137.982 729.586 Q132.172 729.586 129.094 725.002 Q126.038 720.396 126.038 711.669 Q126.038 702.919 129.094 698.336 Q132.172 693.729 137.982 693.729 Z\" fill=\"#000000\" fill-rule=\"nonzero\" fill-opacity=\"1\" /><path clip-path=\"url(#clip410)\" d=\"M54.3949 515.462 L62.0337 515.462 L62.0337 489.096 L53.7236 490.763 L53.7236 486.503 L61.9874 484.837 L66.6633 484.837 L66.6633 515.462 L74.3022 515.462 L74.3022 519.397 L54.3949 519.397 L54.3949 515.462 Z\" fill=\"#000000\" fill-rule=\"nonzero\" fill-opacity=\"1\" /><path clip-path=\"url(#clip410)\" d=\"M83.7466 513.517 L88.6308 513.517 L88.6308 519.397 L83.7466 519.397 L83.7466 513.517 Z\" fill=\"#000000\" fill-rule=\"nonzero\" fill-opacity=\"1\" /><path clip-path=\"url(#clip410)\" d=\"M97.6354 484.837 L119.857 484.837 L119.857 486.827 L107.311 519.397 L102.427 519.397 L114.233 488.772 L97.6354 488.772 L97.6354 484.837 Z\" fill=\"#000000\" fill-rule=\"nonzero\" fill-opacity=\"1\" /><path clip-path=\"url(#clip410)\" d=\"M129.024 484.837 L147.38 484.837 L147.38 488.772 L133.306 488.772 L133.306 497.244 Q134.325 496.897 135.344 496.735 Q136.362 496.55 137.381 496.55 Q143.168 496.55 146.547 499.721 Q149.927 502.892 149.927 508.309 Q149.927 513.888 146.455 516.989 Q142.982 520.068 136.663 520.068 Q134.487 520.068 132.219 519.698 Q129.973 519.327 127.566 518.587 L127.566 513.888 Q129.649 515.022 131.871 515.577 Q134.094 516.133 136.57 516.133 Q140.575 516.133 142.913 514.026 Q145.251 511.92 145.251 508.309 Q145.251 504.698 142.913 502.591 Q140.575 500.485 136.57 500.485 Q134.695 500.485 132.82 500.901 Q130.969 501.318 129.024 502.198 L129.024 484.837 Z\" fill=\"#000000\" fill-rule=\"nonzero\" fill-opacity=\"1\" /><path clip-path=\"url(#clip410)\" d=\"M56.6171 305.944 L72.9365 305.944 L72.9365 309.879 L50.9921 309.879 L50.9921 305.944 Q53.6541 303.189 58.2375 298.56 Q62.8439 293.907 64.0245 292.564 Q66.2698 290.041 67.1494 288.305 Q68.0522 286.546 68.0522 284.856 Q68.0522 282.102 66.1078 280.365 Q64.1865 278.629 61.0847 278.629 Q58.8856 278.629 56.4319 279.393 Q54.0014 280.157 51.2236 281.708 L51.2236 276.986 Q54.0477 275.852 56.5014 275.273 Q58.955 274.694 60.9921 274.694 Q66.3624 274.694 69.5568 277.379 Q72.7513 280.064 72.7513 284.555 Q72.7513 286.685 71.9411 288.606 Q71.1541 290.504 69.0476 293.097 Q68.4689 293.768 65.367 296.986 Q62.2652 300.18 56.6171 305.944 Z\" fill=\"#000000\" fill-rule=\"nonzero\" fill-opacity=\"1\" /><path clip-path=\"url(#clip410)\" d=\"M82.7512 304 L87.6354 304 L87.6354 309.879 L82.7512 309.879 L82.7512 304 Z\" fill=\"#000000\" fill-rule=\"nonzero\" fill-opacity=\"1\" /><path clip-path=\"url(#clip410)\" d=\"M107.821 278.398 Q104.209 278.398 102.381 281.963 Q100.575 285.504 100.575 292.634 Q100.575 299.74 102.381 303.305 Q104.209 306.847 107.821 306.847 Q111.455 306.847 113.26 303.305 Q115.089 299.74 115.089 292.634 Q115.089 285.504 113.26 281.963 Q111.455 278.398 107.821 278.398 M107.821 274.694 Q113.631 274.694 116.686 279.301 Q119.765 283.884 119.765 292.634 Q119.765 301.361 116.686 305.967 Q113.631 310.55 107.821 310.55 Q102.01 310.55 98.9317 305.967 Q95.8761 301.361 95.8761 292.634 Q95.8761 283.884 98.9317 279.301 Q102.01 274.694 107.821 274.694 Z\" fill=\"#000000\" fill-rule=\"nonzero\" fill-opacity=\"1\" /><path clip-path=\"url(#clip410)\" d=\"M137.982 278.398 Q134.371 278.398 132.543 281.963 Q130.737 285.504 130.737 292.634 Q130.737 299.74 132.543 303.305 Q134.371 306.847 137.982 306.847 Q141.617 306.847 143.422 303.305 Q145.251 299.74 145.251 292.634 Q145.251 285.504 143.422 281.963 Q141.617 278.398 137.982 278.398 M137.982 274.694 Q143.793 274.694 146.848 279.301 Q149.927 283.884 149.927 292.634 Q149.927 301.361 146.848 305.967 Q143.793 310.55 137.982 310.55 Q132.172 310.55 129.094 305.967 Q126.038 301.361 126.038 292.634 Q126.038 283.884 129.094 279.301 Q132.172 274.694 137.982 274.694 Z\" fill=\"#000000\" fill-rule=\"nonzero\" fill-opacity=\"1\" /><path clip-path=\"url(#clip410)\" d=\"M57.6125 96.4264 L73.9318 96.4264 L73.9318 100.362 L51.9875 100.362 L51.9875 96.4264 Q54.6495 93.6718 59.2328 89.0422 Q63.8393 84.3894 65.0198 83.0468 Q67.2652 80.5237 68.1448 78.7876 Q69.0476 77.0284 69.0476 75.3385 Q69.0476 72.5839 67.1032 70.8478 Q65.1819 69.1117 62.08 69.1117 Q59.881 69.1117 57.4273 69.8756 Q54.9967 70.6395 52.219 72.1904 L52.219 67.4682 Q55.043 66.334 57.4967 65.7553 Q59.9504 65.1766 61.9874 65.1766 Q67.3578 65.1766 70.5522 67.8617 Q73.7466 70.5469 73.7466 75.0376 Q73.7466 77.1672 72.9365 79.0885 Q72.1494 80.9867 70.0429 83.5792 Q69.4642 84.2505 66.3624 87.4681 Q63.2606 90.6625 57.6125 96.4264 Z\" fill=\"#000000\" fill-rule=\"nonzero\" fill-opacity=\"1\" /><path clip-path=\"url(#clip410)\" d=\"M83.7466 94.482 L88.6308 94.482 L88.6308 100.362 L83.7466 100.362 L83.7466 94.482 Z\" fill=\"#000000\" fill-rule=\"nonzero\" fill-opacity=\"1\" /><path clip-path=\"url(#clip410)\" d=\"M102.844 96.4264 L119.163 96.4264 L119.163 100.362 L97.2187 100.362 L97.2187 96.4264 Q99.8808 93.6718 104.464 89.0422 Q109.071 84.3894 110.251 83.0468 Q112.496 80.5237 113.376 78.7876 Q114.279 77.0284 114.279 75.3385 Q114.279 72.5839 112.334 70.8478 Q110.413 69.1117 107.311 69.1117 Q105.112 69.1117 102.659 69.8756 Q100.228 70.6395 97.4502 72.1904 L97.4502 67.4682 Q100.274 66.334 102.728 65.7553 Q105.182 65.1766 107.219 65.1766 Q112.589 65.1766 115.783 67.8617 Q118.978 70.5469 118.978 75.0376 Q118.978 77.1672 118.168 79.0885 Q117.381 80.9867 115.274 83.5792 Q114.695 84.2505 111.594 87.4681 Q108.492 90.6625 102.844 96.4264 Z\" fill=\"#000000\" fill-rule=\"nonzero\" fill-opacity=\"1\" /><path clip-path=\"url(#clip410)\" d=\"M129.024 65.8016 L147.38 65.8016 L147.38 69.7367 L133.306 69.7367 L133.306 78.2089 Q134.325 77.8617 135.344 77.6996 Q136.362 77.5145 137.381 77.5145 Q143.168 77.5145 146.547 80.6857 Q149.927 83.857 149.927 89.2737 Q149.927 94.8523 146.455 97.9542 Q142.982 101.033 136.663 101.033 Q134.487 101.033 132.219 100.662 Q129.973 100.292 127.566 99.5514 L127.566 94.8523 Q129.649 95.9866 131.871 96.5421 Q134.094 97.0977 136.57 97.0977 Q140.575 97.0977 142.913 94.9912 Q145.251 92.8848 145.251 89.2737 Q145.251 85.6626 142.913 83.5561 Q140.575 81.4496 136.57 81.4496 Q134.695 81.4496 132.82 81.8663 Q130.969 82.283 129.024 83.1626 L129.024 65.8016 Z\" fill=\"#000000\" fill-rule=\"nonzero\" fill-opacity=\"1\" /><polyline clip-path=\"url(#clip412)\" style=\"stroke:#009af9; stroke-linecap:round; stroke-linejoin:round; stroke-width:4; stroke-opacity:1; fill:none\" points=\"247.252,1423.06 263.222,1169.7 279.192,1132.06 295.163,1126.69 311.133,1125.77 327.103,1125.53 343.073,1125.42 359.043,1125.36 375.013,1125.33 390.983,1125.3 406.954,1125.28 422.924,1125.26 438.894,1125.25 454.864,1125.25 470.834,1125.24 486.804,1125.23 502.774,1125.23 518.745,1125.22 534.715,1125.22 550.685,1125.22 566.655,1125.22 582.625,1125.21 598.595,1125.21 614.565,1125.21 630.536,1125.21 646.506,1125.21 662.476,1125.21 678.446,1125.21 694.416,1125.21 710.386,1125.21 726.356,1125.21 742.327,1125.2 758.297,1125.2 774.267,1125.2 790.237,1125.2 806.207,1125.2 822.177,1125.2 838.147,1125.2 854.118,1125.2 870.088,1125.2 886.058,1125.2 902.028,1125.2 917.998,1125.2 933.968,1125.2 949.938,1125.2 965.909,1125.2 981.879,1125.2 997.849,1125.2 1013.82,1125.2 1029.79,1125.2 1045.76,1125.2 1061.73,1125.2 1077.7,1125.2 1093.67,1125.2 1109.64,1125.2 1125.61,1125.2 1141.58,1125.2 1157.55,1125.2 1173.52,1125.2 1189.49,1125.2 1205.46,1125.2 1221.43,1125.2 1237.4,1125.2 1253.37,1125.2 1269.34,1125.2 1285.31,1125.2 1301.28,1125.2 1317.25,1125.2 1333.22,1125.2 1349.19,1125.2 1365.16,1125.2 1381.13,1125.2 1397.1,1125.2 1413.07,1125.2 1429.04,1125.2 1445.01,1125.2 1460.98,1125.2 1476.95,1125.2 1492.92,1125.2 1508.89,1125.2 1524.86,1125.2 1540.83,1125.2 1556.8,1125.2 1572.77,1125.2 1588.74,1125.2 1604.71,1125.2 1620.68,1125.2 1636.65,1125.2 1652.62,1125.2 1668.59,1125.2 1684.57,1125.2 1700.54,1125.2 1716.51,1125.2 1732.48,1125.2 1748.45,1125.2 1764.42,1125.2 1780.39,1125.2 1796.36,1125.2 1812.33,1125.21 1828.3,1125.21 1844.27,1125.21 1860.24,1125.21 1876.21,1125.21 1892.18,1125.21 1908.15,1125.21 1924.12,1125.21 1940.09,1125.21 1956.06,1125.21 1972.03,1125.22 1988,1125.22 2003.97,1125.22 2019.94,1125.22 2035.91,1125.23 2051.88,1125.23 2067.85,1125.24 2083.82,1125.25 2099.79,1125.25 2115.76,1125.26 2131.73,1125.28 2147.7,1125.3 2163.67,1125.33 2179.64,1125.36 2195.61,1125.42 2211.58,1125.53 2227.55,1125.77 2243.52,1126.69 2259.49,1132.06 2275.46,1169.7 2291.43,1423.06 \"/>\n",
       "<polyline clip-path=\"url(#clip412)\" style=\"stroke:#e26f46; stroke-linecap:round; stroke-linejoin:round; stroke-width:4; stroke-opacity:1; fill:none\" points=\"247.252,1430.93 263.222,1177.26 279.192,1139.31 295.163,1133.85 311.133,1132.89 327.103,1132.63 343.073,1132.52 359.043,1132.45 375.013,1132.41 390.983,1132.38 406.954,1132.36 422.924,1132.34 438.894,1132.33 454.864,1132.32 470.834,1132.31 486.804,1132.3 502.774,1132.29 518.745,1132.29 534.715,1132.29 550.685,1132.28 566.655,1132.28 582.625,1132.28 598.595,1132.27 614.565,1132.27 630.536,1132.27 646.506,1132.27 662.476,1132.27 678.446,1132.27 694.416,1132.27 710.386,1132.26 726.356,1132.26 742.327,1132.26 758.297,1132.26 774.267,1132.26 790.237,1132.26 806.207,1132.25 822.177,1132.25 838.147,1132.23 854.118,1132.12 870.088,1131.42 886.058,1126.23 902.028,1086.63 917.998,780.531 933.968,1086.63 949.938,1126.23 965.909,1131.42 981.879,1132.12 997.849,1132.22 1013.82,1132.24 1029.79,1132.25 1045.76,1132.25 1061.73,1132.25 1077.7,1132.25 1093.67,1132.25 1109.64,1132.25 1125.61,1132.25 1141.58,1132.25 1157.55,1132.25 1173.52,1132.26 1189.49,1132.26 1205.46,1132.26 1221.43,1132.26 1237.4,1132.26 1253.37,1132.26 1269.34,1132.26 1285.31,1132.26 1301.28,1132.26 1317.25,1132.26 1333.22,1132.25 1349.19,1132.25 1365.16,1132.25 1381.13,1132.25 1397.1,1132.25 1413.07,1132.25 1429.04,1132.25 1445.01,1132.25 1460.98,1132.25 1476.95,1132.25 1492.92,1132.25 1508.89,1132.24 1524.86,1132.22 1540.83,1132.12 1556.8,1131.42 1572.77,1126.23 1588.74,1086.63 1604.71,780.531 1620.68,1086.63 1636.65,1126.23 1652.62,1131.42 1668.59,1132.12 1684.57,1132.23 1700.54,1132.25 1716.51,1132.25 1732.48,1132.26 1748.45,1132.26 1764.42,1132.26 1780.39,1132.26 1796.36,1132.26 1812.33,1132.26 1828.3,1132.26 1844.27,1132.27 1860.24,1132.27 1876.21,1132.27 1892.18,1132.27 1908.15,1132.27 1924.12,1132.27 1940.09,1132.27 1956.06,1132.28 1972.03,1132.28 1988,1132.28 2003.97,1132.29 2019.94,1132.29 2035.91,1132.29 2051.88,1132.3 2067.85,1132.31 2083.82,1132.32 2099.79,1132.33 2115.76,1132.34 2131.73,1132.36 2147.7,1132.38 2163.67,1132.41 2179.64,1132.45 2195.61,1132.52 2211.58,1132.63 2227.55,1132.89 2243.52,1133.85 2259.49,1139.31 2275.46,1177.26 2291.43,1430.93 \"/>\n",
       "<polyline clip-path=\"url(#clip412)\" style=\"stroke:#3da44d; stroke-linecap:round; stroke-linejoin:round; stroke-width:4; stroke-opacity:1; fill:none\" points=\"247.252,1438.71 263.222,1184.74 279.192,1146.46 295.163,1140.9 311.133,1139.91 327.103,1139.64 343.073,1139.51 359.043,1139.44 375.013,1139.39 390.983,1139.35 406.954,1139.32 422.924,1139.3 438.894,1139.29 454.864,1139.28 470.834,1139.27 486.804,1139.26 502.774,1139.25 518.745,1139.24 534.715,1139.24 550.685,1139.23 566.655,1139.23 582.625,1139.23 598.595,1139.22 614.565,1139.22 630.536,1139.22 646.506,1139.22 662.476,1139.21 678.446,1139.21 694.416,1139.21 710.386,1139.21 726.356,1139.21 742.327,1139.21 758.297,1139.2 774.267,1139.2 790.237,1139.2 806.207,1139.19 822.177,1139.18 838.147,1139.15 854.118,1138.97 870.088,1137.73 886.058,1128.35 902.028,1055.19 917.998,425.417 933.968,1055.19 949.938,1128.35 965.909,1137.72 981.879,1138.97 997.849,1139.15 1013.82,1139.18 1029.79,1139.19 1045.76,1139.19 1061.73,1139.19 1077.7,1139.2 1093.67,1139.2 1109.64,1139.2 1125.61,1139.2 1141.58,1139.2 1157.55,1139.2 1173.52,1139.2 1189.49,1139.2 1205.46,1139.2 1221.43,1139.2 1237.4,1139.2 1253.37,1139.2 1269.34,1139.2 1285.31,1139.2 1301.28,1139.2 1317.25,1139.2 1333.22,1139.2 1349.19,1139.2 1365.16,1139.2 1381.13,1139.2 1397.1,1139.2 1413.07,1139.2 1429.04,1139.2 1445.01,1139.19 1460.98,1139.19 1476.95,1139.19 1492.92,1139.19 1508.89,1139.18 1524.86,1139.15 1540.83,1138.97 1556.8,1137.72 1572.77,1128.35 1588.74,1055.19 1604.71,425.417 1620.68,1055.19 1636.65,1128.35 1652.62,1137.73 1668.59,1138.97 1684.57,1139.15 1700.54,1139.18 1716.51,1139.19 1732.48,1139.2 1748.45,1139.2 1764.42,1139.2 1780.39,1139.21 1796.36,1139.21 1812.33,1139.21 1828.3,1139.21 1844.27,1139.21 1860.24,1139.21 1876.21,1139.21 1892.18,1139.22 1908.15,1139.22 1924.12,1139.22 1940.09,1139.22 1956.06,1139.23 1972.03,1139.23 1988,1139.23 2003.97,1139.24 2019.94,1139.24 2035.91,1139.25 2051.88,1139.26 2067.85,1139.27 2083.82,1139.28 2099.79,1139.29 2115.76,1139.3 2131.73,1139.32 2147.7,1139.35 2163.67,1139.39 2179.64,1139.44 2195.61,1139.51 2211.58,1139.64 2227.55,1139.91 2243.52,1140.9 2259.49,1146.46 2275.46,1184.74 2291.43,1438.71 \"/>\n",
       "<polyline clip-path=\"url(#clip412)\" style=\"stroke:#c271d2; stroke-linecap:round; stroke-linejoin:round; stroke-width:4; stroke-opacity:1; fill:none\" points=\"247.252,1445.72 263.222,1191.47 279.192,1152.89 295.163,1147.23 311.133,1146.21 327.103,1145.92 343.073,1145.79 359.043,1145.7 375.013,1145.65 390.983,1145.61 406.954,1145.58 422.924,1145.56 438.894,1145.54 454.864,1145.53 470.834,1145.51 486.804,1145.5 502.774,1145.5 518.745,1145.49 534.715,1145.48 550.685,1145.48 566.655,1145.48 582.625,1145.47 598.595,1145.47 614.565,1145.47 630.536,1145.46 646.506,1145.46 662.476,1145.46 678.446,1145.46 694.416,1145.46 710.386,1145.46 726.356,1145.45 742.327,1145.45 758.297,1145.45 774.267,1145.45 790.237,1145.45 806.207,1145.44 822.177,1145.43 838.147,1145.4 854.118,1145.18 870.088,1143.62 886.058,1131.58 902.028,1034.36 917.998,87.9765 933.968,1034.36 949.938,1131.58 965.909,1143.62 981.879,1145.18 997.849,1145.4 1013.82,1145.43 1029.79,1145.44 1045.76,1145.44 1061.73,1145.44 1077.7,1145.44 1093.67,1145.44 1109.64,1145.44 1125.61,1145.44 1141.58,1145.44 1157.55,1145.44 1173.52,1145.44 1189.49,1145.44 1205.46,1145.44 1221.43,1145.44 1237.4,1145.44 1253.37,1145.44 1269.34,1145.44 1285.31,1145.44 1301.28,1145.44 1317.25,1145.44 1333.22,1145.44 1349.19,1145.44 1365.16,1145.44 1381.13,1145.44 1397.1,1145.44 1413.07,1145.44 1429.04,1145.44 1445.01,1145.44 1460.98,1145.44 1476.95,1145.44 1492.92,1145.44 1508.89,1145.43 1524.86,1145.4 1540.83,1145.18 1556.8,1143.62 1572.77,1131.58 1588.74,1034.36 1604.71,87.9763 1620.68,1034.36 1636.65,1131.58 1652.62,1143.62 1668.59,1145.18 1684.57,1145.4 1700.54,1145.43 1716.51,1145.44 1732.48,1145.45 1748.45,1145.45 1764.42,1145.45 1780.39,1145.45 1796.36,1145.45 1812.33,1145.45 1828.3,1145.45 1844.27,1145.46 1860.24,1145.46 1876.21,1145.46 1892.18,1145.46 1908.15,1145.46 1924.12,1145.46 1940.09,1145.47 1956.06,1145.47 1972.03,1145.47 1988,1145.48 2003.97,1145.48 2019.94,1145.49 2035.91,1145.5 2051.88,1145.5 2067.85,1145.51 2083.82,1145.52 2099.79,1145.54 2115.76,1145.56 2131.73,1145.58 2147.7,1145.61 2163.67,1145.65 2179.64,1145.7 2195.61,1145.78 2211.58,1145.92 2227.55,1146.21 2243.52,1147.23 2259.49,1152.89 2275.46,1191.47 2291.43,1445.71 \"/>\n",
       "<path clip-path=\"url(#clip410)\" d=\"M2009.7 354.418 L2280.53 354.418 L2280.53 95.2176 L2009.7 95.2176  Z\" fill=\"#ffffff\" fill-rule=\"evenodd\" fill-opacity=\"1\"/>\n",
       "<polyline clip-path=\"url(#clip410)\" style=\"stroke:#000000; stroke-linecap:round; stroke-linejoin:round; stroke-width:4; stroke-opacity:1; fill:none\" points=\"2009.7,354.418 2280.53,354.418 2280.53,95.2176 2009.7,95.2176 2009.7,354.418 \"/>\n",
       "<polyline clip-path=\"url(#clip410)\" style=\"stroke:#009af9; stroke-linecap:round; stroke-linejoin:round; stroke-width:4; stroke-opacity:1; fill:none\" points=\"2033.78,147.058 2178.23,147.058 \"/>\n",
       "<path clip-path=\"url(#clip410)\" d=\"M2216.15 166.745 Q2214.35 171.375 2212.63 172.787 Q2210.92 174.199 2208.05 174.199 L2204.65 174.199 L2204.65 170.634 L2207.15 170.634 Q2208.91 170.634 2209.88 169.8 Q2210.85 168.967 2212.03 165.865 L2212.8 163.921 L2202.31 138.412 L2206.82 138.412 L2214.92 158.689 L2223.03 138.412 L2227.54 138.412 L2216.15 166.745 Z\" fill=\"#000000\" fill-rule=\"nonzero\" fill-opacity=\"1\" /><path clip-path=\"url(#clip410)\" d=\"M2234.83 160.402 L2242.47 160.402 L2242.47 134.037 L2234.16 135.703 L2234.16 131.444 L2242.42 129.778 L2247.1 129.778 L2247.1 160.402 L2254.74 160.402 L2254.74 164.338 L2234.83 164.338 L2234.83 160.402 Z\" fill=\"#000000\" fill-rule=\"nonzero\" fill-opacity=\"1\" /><polyline clip-path=\"url(#clip410)\" style=\"stroke:#e26f46; stroke-linecap:round; stroke-linejoin:round; stroke-width:4; stroke-opacity:1; fill:none\" points=\"2033.78,198.898 2178.23,198.898 \"/>\n",
       "<path clip-path=\"url(#clip410)\" d=\"M2216.15 218.585 Q2214.35 223.215 2212.63 224.627 Q2210.92 226.039 2208.05 226.039 L2204.65 226.039 L2204.65 222.474 L2207.15 222.474 Q2208.91 222.474 2209.88 221.64 Q2210.85 220.807 2212.03 217.705 L2212.8 215.761 L2202.31 190.252 L2206.82 190.252 L2214.92 210.529 L2223.03 190.252 L2227.54 190.252 L2216.15 218.585 Z\" fill=\"#000000\" fill-rule=\"nonzero\" fill-opacity=\"1\" /><path clip-path=\"url(#clip410)\" d=\"M2238.05 212.242 L2254.37 212.242 L2254.37 216.178 L2232.42 216.178 L2232.42 212.242 Q2235.09 209.488 2239.67 204.858 Q2244.28 200.205 2245.46 198.863 Q2247.7 196.34 2248.58 194.604 Q2249.48 192.844 2249.48 191.155 Q2249.48 188.4 2247.54 186.664 Q2245.62 184.928 2242.52 184.928 Q2240.32 184.928 2237.86 185.692 Q2235.43 186.455 2232.66 188.006 L2232.66 183.284 Q2235.48 182.15 2237.93 181.571 Q2240.39 180.993 2242.42 180.993 Q2247.8 180.993 2250.99 183.678 Q2254.18 186.363 2254.18 190.854 Q2254.18 192.983 2253.37 194.905 Q2252.59 196.803 2250.48 199.395 Q2249.9 200.067 2246.8 203.284 Q2243.7 206.479 2238.05 212.242 Z\" fill=\"#000000\" fill-rule=\"nonzero\" fill-opacity=\"1\" /><polyline clip-path=\"url(#clip410)\" style=\"stroke:#3da44d; stroke-linecap:round; stroke-linejoin:round; stroke-width:4; stroke-opacity:1; fill:none\" points=\"2033.78,250.738 2178.23,250.738 \"/>\n",
       "<path clip-path=\"url(#clip410)\" d=\"M2216.15 270.425 Q2214.35 275.055 2212.63 276.467 Q2210.92 277.879 2208.05 277.879 L2204.65 277.879 L2204.65 274.314 L2207.15 274.314 Q2208.91 274.314 2209.88 273.48 Q2210.85 272.647 2212.03 269.545 L2212.8 267.601 L2202.31 242.092 L2206.82 242.092 L2214.92 262.369 L2223.03 242.092 L2227.54 242.092 L2216.15 270.425 Z\" fill=\"#000000\" fill-rule=\"nonzero\" fill-opacity=\"1\" /><path clip-path=\"url(#clip410)\" d=\"M2248.19 249.383 Q2251.55 250.101 2253.42 252.369 Q2255.32 254.638 2255.32 257.971 Q2255.32 263.087 2251.8 265.888 Q2248.28 268.689 2241.8 268.689 Q2239.62 268.689 2237.31 268.249 Q2235.02 267.832 2232.56 266.976 L2232.56 262.462 Q2234.51 263.596 2236.82 264.175 Q2239.14 264.754 2241.66 264.754 Q2246.06 264.754 2248.35 263.018 Q2250.67 261.281 2250.67 257.971 Q2250.67 254.916 2248.51 253.203 Q2246.38 251.467 2242.56 251.467 L2238.54 251.467 L2238.54 247.624 L2242.75 247.624 Q2246.2 247.624 2248.03 246.258 Q2249.86 244.87 2249.86 242.277 Q2249.86 239.615 2247.96 238.203 Q2246.08 236.768 2242.56 236.768 Q2240.64 236.768 2238.44 237.184 Q2236.24 237.601 2233.61 238.481 L2233.61 234.314 Q2236.27 233.573 2238.58 233.203 Q2240.92 232.833 2242.98 232.833 Q2248.3 232.833 2251.41 235.263 Q2254.51 237.67 2254.51 241.791 Q2254.51 244.661 2252.86 246.652 Q2251.22 248.62 2248.19 249.383 Z\" fill=\"#000000\" fill-rule=\"nonzero\" fill-opacity=\"1\" /><polyline clip-path=\"url(#clip410)\" style=\"stroke:#c271d2; stroke-linecap:round; stroke-linejoin:round; stroke-width:4; stroke-opacity:1; fill:none\" points=\"2033.78,302.578 2178.23,302.578 \"/>\n",
       "<path clip-path=\"url(#clip410)\" d=\"M2216.15 322.265 Q2214.35 326.895 2212.63 328.307 Q2210.92 329.719 2208.05 329.719 L2204.65 329.719 L2204.65 326.154 L2207.15 326.154 Q2208.91 326.154 2209.88 325.32 Q2210.85 324.487 2212.03 321.385 L2212.8 319.441 L2202.31 293.932 L2206.82 293.932 L2214.92 314.209 L2223.03 293.932 L2227.54 293.932 L2216.15 322.265 Z\" fill=\"#000000\" fill-rule=\"nonzero\" fill-opacity=\"1\" /><path clip-path=\"url(#clip410)\" d=\"M2246.87 289.372 L2235.06 307.821 L2246.87 307.821 L2246.87 289.372 M2245.64 285.298 L2251.52 285.298 L2251.52 307.821 L2256.45 307.821 L2256.45 311.709 L2251.52 311.709 L2251.52 319.858 L2246.87 319.858 L2246.87 311.709 L2231.27 311.709 L2231.27 307.196 L2245.64 285.298 Z\" fill=\"#000000\" fill-rule=\"nonzero\" fill-opacity=\"1\" /></svg>\n"
      ],
      "text/html": [
       "<?xml version=\"1.0\" encoding=\"utf-8\"?>\n",
       "<svg xmlns=\"http://www.w3.org/2000/svg\" xmlns:xlink=\"http://www.w3.org/1999/xlink\" width=\"600\" height=\"400\" viewBox=\"0 0 2400 1600\">\n",
       "<defs>\n",
       "  <clipPath id=\"clip460\">\n",
       "    <rect x=\"0\" y=\"0\" width=\"2400\" height=\"1600\"/>\n",
       "  </clipPath>\n",
       "</defs>\n",
       "<path clip-path=\"url(#clip460)\" d=\"M0 1600 L2400 1600 L2400 0 L0 0  Z\" fill=\"#ffffff\" fill-rule=\"evenodd\" fill-opacity=\"1\"/>\n",
       "<defs>\n",
       "  <clipPath id=\"clip461\">\n",
       "    <rect x=\"480\" y=\"0\" width=\"1681\" height=\"1600\"/>\n",
       "  </clipPath>\n",
       "</defs>\n",
       "<path clip-path=\"url(#clip460)\" d=\"M185.927 1486.45 L2352.76 1486.45 L2352.76 47.2441 L185.927 47.2441  Z\" fill=\"#ffffff\" fill-rule=\"evenodd\" fill-opacity=\"1\"/>\n",
       "<defs>\n",
       "  <clipPath id=\"clip462\">\n",
       "    <rect x=\"185\" y=\"47\" width=\"2168\" height=\"1440\"/>\n",
       "  </clipPath>\n",
       "</defs>\n",
       "<polyline clip-path=\"url(#clip462)\" style=\"stroke:#000000; stroke-linecap:round; stroke-linejoin:round; stroke-width:2; stroke-opacity:0.1; fill:none\" points=\"231.282,1486.45 231.282,47.2441 \"/>\n",
       "<polyline clip-path=\"url(#clip462)\" style=\"stroke:#000000; stroke-linecap:round; stroke-linejoin:round; stroke-width:2; stroke-opacity:0.1; fill:none\" points=\"550.685,1486.45 550.685,47.2441 \"/>\n",
       "<polyline clip-path=\"url(#clip462)\" style=\"stroke:#000000; stroke-linecap:round; stroke-linejoin:round; stroke-width:2; stroke-opacity:0.1; fill:none\" points=\"870.088,1486.45 870.088,47.2441 \"/>\n",
       "<polyline clip-path=\"url(#clip462)\" style=\"stroke:#000000; stroke-linecap:round; stroke-linejoin:round; stroke-width:2; stroke-opacity:0.1; fill:none\" points=\"1189.49,1486.45 1189.49,47.2441 \"/>\n",
       "<polyline clip-path=\"url(#clip462)\" style=\"stroke:#000000; stroke-linecap:round; stroke-linejoin:round; stroke-width:2; stroke-opacity:0.1; fill:none\" points=\"1508.89,1486.45 1508.89,47.2441 \"/>\n",
       "<polyline clip-path=\"url(#clip462)\" style=\"stroke:#000000; stroke-linecap:round; stroke-linejoin:round; stroke-width:2; stroke-opacity:0.1; fill:none\" points=\"1828.3,1486.45 1828.3,47.2441 \"/>\n",
       "<polyline clip-path=\"url(#clip462)\" style=\"stroke:#000000; stroke-linecap:round; stroke-linejoin:round; stroke-width:2; stroke-opacity:0.1; fill:none\" points=\"2147.7,1486.45 2147.7,47.2441 \"/>\n",
       "<polyline clip-path=\"url(#clip460)\" style=\"stroke:#000000; stroke-linecap:round; stroke-linejoin:round; stroke-width:4; stroke-opacity:1; fill:none\" points=\"185.927,1486.45 2352.76,1486.45 \"/>\n",
       "<polyline clip-path=\"url(#clip460)\" style=\"stroke:#000000; stroke-linecap:round; stroke-linejoin:round; stroke-width:4; stroke-opacity:1; fill:none\" points=\"231.282,1486.45 231.282,1467.55 \"/>\n",
       "<polyline clip-path=\"url(#clip460)\" style=\"stroke:#000000; stroke-linecap:round; stroke-linejoin:round; stroke-width:4; stroke-opacity:1; fill:none\" points=\"550.685,1486.45 550.685,1467.55 \"/>\n",
       "<polyline clip-path=\"url(#clip460)\" style=\"stroke:#000000; stroke-linecap:round; stroke-linejoin:round; stroke-width:4; stroke-opacity:1; fill:none\" points=\"870.088,1486.45 870.088,1467.55 \"/>\n",
       "<polyline clip-path=\"url(#clip460)\" style=\"stroke:#000000; stroke-linecap:round; stroke-linejoin:round; stroke-width:4; stroke-opacity:1; fill:none\" points=\"1189.49,1486.45 1189.49,1467.55 \"/>\n",
       "<polyline clip-path=\"url(#clip460)\" style=\"stroke:#000000; stroke-linecap:round; stroke-linejoin:round; stroke-width:4; stroke-opacity:1; fill:none\" points=\"1508.89,1486.45 1508.89,1467.55 \"/>\n",
       "<polyline clip-path=\"url(#clip460)\" style=\"stroke:#000000; stroke-linecap:round; stroke-linejoin:round; stroke-width:4; stroke-opacity:1; fill:none\" points=\"1828.3,1486.45 1828.3,1467.55 \"/>\n",
       "<polyline clip-path=\"url(#clip460)\" style=\"stroke:#000000; stroke-linecap:round; stroke-linejoin:round; stroke-width:4; stroke-opacity:1; fill:none\" points=\"2147.7,1486.45 2147.7,1467.55 \"/>\n",
       "<path clip-path=\"url(#clip460)\" d=\"M231.282 1517.37 Q227.671 1517.37 225.842 1520.93 Q224.037 1524.47 224.037 1531.6 Q224.037 1538.71 225.842 1542.27 Q227.671 1545.82 231.282 1545.82 Q234.916 1545.82 236.722 1542.27 Q238.55 1538.71 238.55 1531.6 Q238.55 1524.47 236.722 1520.93 Q234.916 1517.37 231.282 1517.37 M231.282 1513.66 Q237.092 1513.66 240.148 1518.27 Q243.226 1522.85 243.226 1531.6 Q243.226 1540.33 240.148 1544.94 Q237.092 1549.52 231.282 1549.52 Q225.472 1549.52 222.393 1544.94 Q219.338 1540.33 219.338 1531.6 Q219.338 1522.85 222.393 1518.27 Q225.472 1513.66 231.282 1513.66 Z\" fill=\"#000000\" fill-rule=\"nonzero\" fill-opacity=\"1\" /><path clip-path=\"url(#clip460)\" d=\"M529.458 1544.91 L545.777 1544.91 L545.777 1548.85 L523.833 1548.85 L523.833 1544.91 Q526.495 1542.16 531.078 1537.53 Q535.685 1532.88 536.865 1531.53 Q539.111 1529.01 539.99 1527.27 Q540.893 1525.51 540.893 1523.82 Q540.893 1521.07 538.949 1519.33 Q537.028 1517.6 533.926 1517.6 Q531.727 1517.6 529.273 1518.36 Q526.842 1519.13 524.065 1520.68 L524.065 1515.95 Q526.889 1514.82 529.342 1514.24 Q531.796 1513.66 533.833 1513.66 Q539.203 1513.66 542.398 1516.35 Q545.592 1519.03 545.592 1523.52 Q545.592 1525.65 544.782 1527.57 Q543.995 1529.47 541.889 1532.07 Q541.31 1532.74 538.208 1535.95 Q535.106 1539.15 529.458 1544.91 Z\" fill=\"#000000\" fill-rule=\"nonzero\" fill-opacity=\"1\" /><path clip-path=\"url(#clip460)\" d=\"M565.592 1517.37 Q561.981 1517.37 560.152 1520.93 Q558.347 1524.47 558.347 1531.6 Q558.347 1538.71 560.152 1542.27 Q561.981 1545.82 565.592 1545.82 Q569.226 1545.82 571.032 1542.27 Q572.861 1538.71 572.861 1531.6 Q572.861 1524.47 571.032 1520.93 Q569.226 1517.37 565.592 1517.37 M565.592 1513.66 Q571.402 1513.66 574.458 1518.27 Q577.537 1522.85 577.537 1531.6 Q577.537 1540.33 574.458 1544.94 Q571.402 1549.52 565.592 1549.52 Q559.782 1549.52 556.703 1544.94 Q553.648 1540.33 553.648 1531.6 Q553.648 1522.85 556.703 1518.27 Q559.782 1513.66 565.592 1513.66 Z\" fill=\"#000000\" fill-rule=\"nonzero\" fill-opacity=\"1\" /><path clip-path=\"url(#clip460)\" d=\"M858.259 1518.36 L846.454 1536.81 L858.259 1536.81 L858.259 1518.36 M857.032 1514.29 L862.912 1514.29 L862.912 1536.81 L867.842 1536.81 L867.842 1540.7 L862.912 1540.7 L862.912 1548.85 L858.259 1548.85 L858.259 1540.7 L842.657 1540.7 L842.657 1536.19 L857.032 1514.29 Z\" fill=\"#000000\" fill-rule=\"nonzero\" fill-opacity=\"1\" /><path clip-path=\"url(#clip460)\" d=\"M885.574 1517.37 Q881.963 1517.37 880.134 1520.93 Q878.328 1524.47 878.328 1531.6 Q878.328 1538.71 880.134 1542.27 Q881.963 1545.82 885.574 1545.82 Q889.208 1545.82 891.014 1542.27 Q892.842 1538.71 892.842 1531.6 Q892.842 1524.47 891.014 1520.93 Q889.208 1517.37 885.574 1517.37 M885.574 1513.66 Q891.384 1513.66 894.439 1518.27 Q897.518 1522.85 897.518 1531.6 Q897.518 1540.33 894.439 1544.94 Q891.384 1549.52 885.574 1549.52 Q879.764 1549.52 876.685 1544.94 Q873.629 1540.33 873.629 1531.6 Q873.629 1522.85 876.685 1518.27 Q879.764 1513.66 885.574 1513.66 Z\" fill=\"#000000\" fill-rule=\"nonzero\" fill-opacity=\"1\" /><path clip-path=\"url(#clip460)\" d=\"M1174.9 1529.7 Q1171.75 1529.7 1169.9 1531.86 Q1168.07 1534.01 1168.07 1537.76 Q1168.07 1541.49 1169.9 1543.66 Q1171.75 1545.82 1174.9 1545.82 Q1178.04 1545.82 1179.87 1543.66 Q1181.72 1541.49 1181.72 1537.76 Q1181.72 1534.01 1179.87 1531.86 Q1178.04 1529.7 1174.9 1529.7 M1184.18 1515.05 L1184.18 1519.31 Q1182.42 1518.48 1180.61 1518.04 Q1178.83 1517.6 1177.07 1517.6 Q1172.44 1517.6 1169.99 1520.72 Q1167.56 1523.85 1167.21 1530.17 Q1168.58 1528.15 1170.64 1527.09 Q1172.7 1526 1175.17 1526 Q1180.38 1526 1183.39 1529.17 Q1186.42 1532.32 1186.42 1537.76 Q1186.42 1543.08 1183.28 1546.3 Q1180.13 1549.52 1174.9 1549.52 Q1168.9 1549.52 1165.73 1544.94 Q1162.56 1540.33 1162.56 1531.6 Q1162.56 1523.41 1166.45 1518.55 Q1170.34 1513.66 1176.89 1513.66 Q1178.65 1513.66 1180.43 1514.01 Q1182.23 1514.36 1184.18 1515.05 Z\" fill=\"#000000\" fill-rule=\"nonzero\" fill-opacity=\"1\" /><path clip-path=\"url(#clip460)\" d=\"M1204.48 1517.37 Q1200.87 1517.37 1199.04 1520.93 Q1197.23 1524.47 1197.23 1531.6 Q1197.23 1538.71 1199.04 1542.27 Q1200.87 1545.82 1204.48 1545.82 Q1208.11 1545.82 1209.92 1542.27 Q1211.75 1538.71 1211.75 1531.6 Q1211.75 1524.47 1209.92 1520.93 Q1208.11 1517.37 1204.48 1517.37 M1204.48 1513.66 Q1210.29 1513.66 1213.34 1518.27 Q1216.42 1522.85 1216.42 1531.6 Q1216.42 1540.33 1213.34 1544.94 Q1210.29 1549.52 1204.48 1549.52 Q1198.67 1549.52 1195.59 1544.94 Q1192.53 1540.33 1192.53 1531.6 Q1192.53 1522.85 1195.59 1518.27 Q1198.67 1513.66 1204.48 1513.66 Z\" fill=\"#000000\" fill-rule=\"nonzero\" fill-opacity=\"1\" /><path clip-path=\"url(#clip460)\" d=\"M1493.77 1532.44 Q1490.43 1532.44 1488.51 1534.22 Q1486.61 1536 1486.61 1539.13 Q1486.61 1542.25 1488.51 1544.03 Q1490.43 1545.82 1493.77 1545.82 Q1497.1 1545.82 1499.02 1544.03 Q1500.94 1542.23 1500.94 1539.13 Q1500.94 1536 1499.02 1534.22 Q1497.12 1532.44 1493.77 1532.44 M1489.09 1530.45 Q1486.08 1529.7 1484.39 1527.64 Q1482.72 1525.58 1482.72 1522.62 Q1482.72 1518.48 1485.66 1516.07 Q1488.63 1513.66 1493.77 1513.66 Q1498.93 1513.66 1501.87 1516.07 Q1504.81 1518.48 1504.81 1522.62 Q1504.81 1525.58 1503.12 1527.64 Q1501.45 1529.7 1498.47 1530.45 Q1501.84 1531.23 1503.72 1533.52 Q1505.62 1535.82 1505.62 1539.13 Q1505.62 1544.15 1502.54 1546.83 Q1499.48 1549.52 1493.77 1549.52 Q1488.05 1549.52 1484.97 1546.83 Q1481.91 1544.15 1481.91 1539.13 Q1481.91 1535.82 1483.81 1533.52 Q1485.71 1531.23 1489.09 1530.45 M1487.38 1523.06 Q1487.38 1525.75 1489.04 1527.25 Q1490.73 1528.76 1493.77 1528.76 Q1496.78 1528.76 1498.47 1527.25 Q1500.18 1525.75 1500.18 1523.06 Q1500.18 1520.38 1498.47 1518.87 Q1496.78 1517.37 1493.77 1517.37 Q1490.73 1517.37 1489.04 1518.87 Q1487.38 1520.38 1487.38 1523.06 Z\" fill=\"#000000\" fill-rule=\"nonzero\" fill-opacity=\"1\" /><path clip-path=\"url(#clip460)\" d=\"M1523.93 1517.37 Q1520.32 1517.37 1518.49 1520.93 Q1516.68 1524.47 1516.68 1531.6 Q1516.68 1538.71 1518.49 1542.27 Q1520.32 1545.82 1523.93 1545.82 Q1527.56 1545.82 1529.37 1542.27 Q1531.2 1538.71 1531.2 1531.6 Q1531.2 1524.47 1529.37 1520.93 Q1527.56 1517.37 1523.93 1517.37 M1523.93 1513.66 Q1529.74 1513.66 1532.79 1518.27 Q1535.87 1522.85 1535.87 1531.6 Q1535.87 1540.33 1532.79 1544.94 Q1529.74 1549.52 1523.93 1549.52 Q1518.12 1549.52 1515.04 1544.94 Q1511.98 1540.33 1511.98 1531.6 Q1511.98 1522.85 1515.04 1518.27 Q1518.12 1513.66 1523.93 1513.66 Z\" fill=\"#000000\" fill-rule=\"nonzero\" fill-opacity=\"1\" /><path clip-path=\"url(#clip460)\" d=\"M1787.9 1544.91 L1795.54 1544.91 L1795.54 1518.55 L1787.23 1520.21 L1787.23 1515.95 L1795.5 1514.29 L1800.17 1514.29 L1800.17 1544.91 L1807.81 1544.91 L1807.81 1548.85 L1787.9 1548.85 L1787.9 1544.91 Z\" fill=\"#000000\" fill-rule=\"nonzero\" fill-opacity=\"1\" /><path clip-path=\"url(#clip460)\" d=\"M1827.25 1517.37 Q1823.64 1517.37 1821.81 1520.93 Q1820.01 1524.47 1820.01 1531.6 Q1820.01 1538.71 1821.81 1542.27 Q1823.64 1545.82 1827.25 1545.82 Q1830.89 1545.82 1832.69 1542.27 Q1834.52 1538.71 1834.52 1531.6 Q1834.52 1524.47 1832.69 1520.93 Q1830.89 1517.37 1827.25 1517.37 M1827.25 1513.66 Q1833.06 1513.66 1836.12 1518.27 Q1839.2 1522.85 1839.2 1531.6 Q1839.2 1540.33 1836.12 1544.94 Q1833.06 1549.52 1827.25 1549.52 Q1821.44 1549.52 1818.37 1544.94 Q1815.31 1540.33 1815.31 1531.6 Q1815.31 1522.85 1818.37 1518.27 Q1821.44 1513.66 1827.25 1513.66 Z\" fill=\"#000000\" fill-rule=\"nonzero\" fill-opacity=\"1\" /><path clip-path=\"url(#clip460)\" d=\"M1857.42 1517.37 Q1853.81 1517.37 1851.98 1520.93 Q1850.17 1524.47 1850.17 1531.6 Q1850.17 1538.71 1851.98 1542.27 Q1853.81 1545.82 1857.42 1545.82 Q1861.05 1545.82 1862.86 1542.27 Q1864.69 1538.71 1864.69 1531.6 Q1864.69 1524.47 1862.86 1520.93 Q1861.05 1517.37 1857.42 1517.37 M1857.42 1513.66 Q1863.23 1513.66 1866.28 1518.27 Q1869.36 1522.85 1869.36 1531.6 Q1869.36 1540.33 1866.28 1544.94 Q1863.23 1549.52 1857.42 1549.52 Q1851.61 1549.52 1848.53 1544.94 Q1845.47 1540.33 1845.47 1531.6 Q1845.47 1522.85 1848.53 1518.27 Q1851.61 1513.66 1857.42 1513.66 Z\" fill=\"#000000\" fill-rule=\"nonzero\" fill-opacity=\"1\" /><path clip-path=\"url(#clip460)\" d=\"M2107.31 1544.91 L2114.94 1544.91 L2114.94 1518.55 L2106.63 1520.21 L2106.63 1515.95 L2114.9 1514.29 L2119.57 1514.29 L2119.57 1544.91 L2127.21 1544.91 L2127.21 1548.85 L2107.31 1548.85 L2107.31 1544.91 Z\" fill=\"#000000\" fill-rule=\"nonzero\" fill-opacity=\"1\" /><path clip-path=\"url(#clip460)\" d=\"M2140.69 1544.91 L2157 1544.91 L2157 1548.85 L2135.06 1548.85 L2135.06 1544.91 Q2137.72 1542.16 2142.31 1537.53 Q2146.91 1532.88 2148.09 1531.53 Q2150.34 1529.01 2151.22 1527.27 Q2152.12 1525.51 2152.12 1523.82 Q2152.12 1521.07 2150.18 1519.33 Q2148.25 1517.6 2145.15 1517.6 Q2142.95 1517.6 2140.5 1518.36 Q2138.07 1519.13 2135.29 1520.68 L2135.29 1515.95 Q2138.12 1514.82 2140.57 1514.24 Q2143.02 1513.66 2145.06 1513.66 Q2150.43 1513.66 2153.63 1516.35 Q2156.82 1519.03 2156.82 1523.52 Q2156.82 1525.65 2156.01 1527.57 Q2155.22 1529.47 2153.12 1532.07 Q2152.54 1532.74 2149.44 1535.95 Q2146.33 1539.15 2140.69 1544.91 Z\" fill=\"#000000\" fill-rule=\"nonzero\" fill-opacity=\"1\" /><path clip-path=\"url(#clip460)\" d=\"M2176.82 1517.37 Q2173.21 1517.37 2171.38 1520.93 Q2169.57 1524.47 2169.57 1531.6 Q2169.57 1538.71 2171.38 1542.27 Q2173.21 1545.82 2176.82 1545.82 Q2180.45 1545.82 2182.26 1542.27 Q2184.09 1538.71 2184.09 1531.6 Q2184.09 1524.47 2182.26 1520.93 Q2180.45 1517.37 2176.82 1517.37 M2176.82 1513.66 Q2182.63 1513.66 2185.69 1518.27 Q2188.76 1522.85 2188.76 1531.6 Q2188.76 1540.33 2185.69 1544.94 Q2182.63 1549.52 2176.82 1549.52 Q2171.01 1549.52 2167.93 1544.94 Q2164.88 1540.33 2164.88 1531.6 Q2164.88 1522.85 2167.93 1518.27 Q2171.01 1513.66 2176.82 1513.66 Z\" fill=\"#000000\" fill-rule=\"nonzero\" fill-opacity=\"1\" /><polyline clip-path=\"url(#clip462)\" style=\"stroke:#000000; stroke-linecap:round; stroke-linejoin:round; stroke-width:2; stroke-opacity:0.1; fill:none\" points=\"185.927,1340.19 2352.76,1340.19 \"/>\n",
       "<polyline clip-path=\"url(#clip462)\" style=\"stroke:#000000; stroke-linecap:round; stroke-linejoin:round; stroke-width:2; stroke-opacity:0.1; fill:none\" points=\"185.927,1130.67 2352.76,1130.67 \"/>\n",
       "<polyline clip-path=\"url(#clip462)\" style=\"stroke:#000000; stroke-linecap:round; stroke-linejoin:round; stroke-width:2; stroke-opacity:0.1; fill:none\" points=\"185.927,921.152 2352.76,921.152 \"/>\n",
       "<polyline clip-path=\"url(#clip462)\" style=\"stroke:#000000; stroke-linecap:round; stroke-linejoin:round; stroke-width:2; stroke-opacity:0.1; fill:none\" points=\"185.927,711.634 2352.76,711.634 \"/>\n",
       "<polyline clip-path=\"url(#clip462)\" style=\"stroke:#000000; stroke-linecap:round; stroke-linejoin:round; stroke-width:2; stroke-opacity:0.1; fill:none\" points=\"185.927,502.117 2352.76,502.117 \"/>\n",
       "<polyline clip-path=\"url(#clip462)\" style=\"stroke:#000000; stroke-linecap:round; stroke-linejoin:round; stroke-width:2; stroke-opacity:0.1; fill:none\" points=\"185.927,292.599 2352.76,292.599 \"/>\n",
       "<polyline clip-path=\"url(#clip462)\" style=\"stroke:#000000; stroke-linecap:round; stroke-linejoin:round; stroke-width:2; stroke-opacity:0.1; fill:none\" points=\"185.927,83.0816 2352.76,83.0816 \"/>\n",
       "<polyline clip-path=\"url(#clip460)\" style=\"stroke:#000000; stroke-linecap:round; stroke-linejoin:round; stroke-width:4; stroke-opacity:1; fill:none\" points=\"185.927,1486.45 185.927,47.2441 \"/>\n",
       "<polyline clip-path=\"url(#clip460)\" style=\"stroke:#000000; stroke-linecap:round; stroke-linejoin:round; stroke-width:4; stroke-opacity:1; fill:none\" points=\"185.927,1340.19 204.824,1340.19 \"/>\n",
       "<polyline clip-path=\"url(#clip460)\" style=\"stroke:#000000; stroke-linecap:round; stroke-linejoin:round; stroke-width:4; stroke-opacity:1; fill:none\" points=\"185.927,1130.67 204.824,1130.67 \"/>\n",
       "<polyline clip-path=\"url(#clip460)\" style=\"stroke:#000000; stroke-linecap:round; stroke-linejoin:round; stroke-width:4; stroke-opacity:1; fill:none\" points=\"185.927,921.152 204.824,921.152 \"/>\n",
       "<polyline clip-path=\"url(#clip460)\" style=\"stroke:#000000; stroke-linecap:round; stroke-linejoin:round; stroke-width:4; stroke-opacity:1; fill:none\" points=\"185.927,711.634 204.824,711.634 \"/>\n",
       "<polyline clip-path=\"url(#clip460)\" style=\"stroke:#000000; stroke-linecap:round; stroke-linejoin:round; stroke-width:4; stroke-opacity:1; fill:none\" points=\"185.927,502.117 204.824,502.117 \"/>\n",
       "<polyline clip-path=\"url(#clip460)\" style=\"stroke:#000000; stroke-linecap:round; stroke-linejoin:round; stroke-width:4; stroke-opacity:1; fill:none\" points=\"185.927,292.599 204.824,292.599 \"/>\n",
       "<polyline clip-path=\"url(#clip460)\" style=\"stroke:#000000; stroke-linecap:round; stroke-linejoin:round; stroke-width:4; stroke-opacity:1; fill:none\" points=\"185.927,83.0816 204.824,83.0816 \"/>\n",
       "<path clip-path=\"url(#clip460)\" d=\"M63.5847 1325.99 Q59.9736 1325.99 58.1449 1329.55 Q56.3393 1333.09 56.3393 1340.22 Q56.3393 1347.33 58.1449 1350.89 Q59.9736 1354.43 63.5847 1354.43 Q67.2189 1354.43 69.0244 1350.89 Q70.8531 1347.33 70.8531 1340.22 Q70.8531 1333.09 69.0244 1329.55 Q67.2189 1325.99 63.5847 1325.99 M63.5847 1322.28 Q69.3948 1322.28 72.4503 1326.89 Q75.529 1331.47 75.529 1340.22 Q75.529 1348.95 72.4503 1353.56 Q69.3948 1358.14 63.5847 1358.14 Q57.7745 1358.14 54.6958 1353.56 Q51.6403 1348.95 51.6403 1340.22 Q51.6403 1331.47 54.6958 1326.89 Q57.7745 1322.28 63.5847 1322.28 Z\" fill=\"#000000\" fill-rule=\"nonzero\" fill-opacity=\"1\" /><path clip-path=\"url(#clip460)\" d=\"M83.7466 1351.59 L88.6308 1351.59 L88.6308 1357.47 L83.7466 1357.47 L83.7466 1351.59 Z\" fill=\"#000000\" fill-rule=\"nonzero\" fill-opacity=\"1\" /><path clip-path=\"url(#clip460)\" d=\"M97.6354 1322.91 L119.857 1322.91 L119.857 1324.9 L107.311 1357.47 L102.427 1357.47 L114.233 1326.84 L97.6354 1326.84 L97.6354 1322.91 Z\" fill=\"#000000\" fill-rule=\"nonzero\" fill-opacity=\"1\" /><path clip-path=\"url(#clip460)\" d=\"M129.024 1322.91 L147.38 1322.91 L147.38 1326.84 L133.306 1326.84 L133.306 1335.31 Q134.325 1334.97 135.344 1334.81 Q136.362 1334.62 137.381 1334.62 Q143.168 1334.62 146.547 1337.79 Q149.927 1340.96 149.927 1346.38 Q149.927 1351.96 146.455 1355.06 Q142.982 1358.14 136.663 1358.14 Q134.487 1358.14 132.219 1357.77 Q129.973 1357.4 127.566 1356.66 L127.566 1351.96 Q129.649 1353.09 131.871 1353.65 Q134.094 1354.2 136.57 1354.2 Q140.575 1354.2 142.913 1352.1 Q145.251 1349.99 145.251 1346.38 Q145.251 1342.77 142.913 1340.66 Q140.575 1338.56 136.57 1338.56 Q134.695 1338.56 132.82 1338.97 Q130.969 1339.39 129.024 1340.27 L129.024 1322.91 Z\" fill=\"#000000\" fill-rule=\"nonzero\" fill-opacity=\"1\" /><path clip-path=\"url(#clip460)\" d=\"M53.3995 1144.01 L61.0384 1144.01 L61.0384 1117.65 L52.7282 1119.32 L52.7282 1115.06 L60.9921 1113.39 L65.668 1113.39 L65.668 1144.01 L73.3068 1144.01 L73.3068 1147.95 L53.3995 1147.95 L53.3995 1144.01 Z\" fill=\"#000000\" fill-rule=\"nonzero\" fill-opacity=\"1\" /><path clip-path=\"url(#clip460)\" d=\"M82.7512 1142.07 L87.6354 1142.07 L87.6354 1147.95 L82.7512 1147.95 L82.7512 1142.07 Z\" fill=\"#000000\" fill-rule=\"nonzero\" fill-opacity=\"1\" /><path clip-path=\"url(#clip460)\" d=\"M107.821 1116.47 Q104.209 1116.47 102.381 1120.03 Q100.575 1123.57 100.575 1130.7 Q100.575 1137.81 102.381 1141.38 Q104.209 1144.92 107.821 1144.92 Q111.455 1144.92 113.26 1141.38 Q115.089 1137.81 115.089 1130.7 Q115.089 1123.57 113.26 1120.03 Q111.455 1116.47 107.821 1116.47 M107.821 1112.76 Q113.631 1112.76 116.686 1117.37 Q119.765 1121.95 119.765 1130.7 Q119.765 1139.43 116.686 1144.04 Q113.631 1148.62 107.821 1148.62 Q102.01 1148.62 98.9317 1144.04 Q95.8761 1139.43 95.8761 1130.7 Q95.8761 1121.95 98.9317 1117.37 Q102.01 1112.76 107.821 1112.76 Z\" fill=\"#000000\" fill-rule=\"nonzero\" fill-opacity=\"1\" /><path clip-path=\"url(#clip460)\" d=\"M137.982 1116.47 Q134.371 1116.47 132.543 1120.03 Q130.737 1123.57 130.737 1130.7 Q130.737 1137.81 132.543 1141.38 Q134.371 1144.92 137.982 1144.92 Q141.617 1144.92 143.422 1141.38 Q145.251 1137.81 145.251 1130.7 Q145.251 1123.57 143.422 1120.03 Q141.617 1116.47 137.982 1116.47 M137.982 1112.76 Q143.793 1112.76 146.848 1117.37 Q149.927 1121.95 149.927 1130.7 Q149.927 1139.43 146.848 1144.04 Q143.793 1148.62 137.982 1148.62 Q132.172 1148.62 129.094 1144.04 Q126.038 1139.43 126.038 1130.7 Q126.038 1121.95 129.094 1117.37 Q132.172 1112.76 137.982 1112.76 Z\" fill=\"#000000\" fill-rule=\"nonzero\" fill-opacity=\"1\" /><path clip-path=\"url(#clip460)\" d=\"M54.3949 934.497 L62.0337 934.497 L62.0337 908.131 L53.7236 909.798 L53.7236 905.539 L61.9874 903.872 L66.6633 903.872 L66.6633 934.497 L74.3022 934.497 L74.3022 938.432 L54.3949 938.432 L54.3949 934.497 Z\" fill=\"#000000\" fill-rule=\"nonzero\" fill-opacity=\"1\" /><path clip-path=\"url(#clip460)\" d=\"M83.7466 932.552 L88.6308 932.552 L88.6308 938.432 L83.7466 938.432 L83.7466 932.552 Z\" fill=\"#000000\" fill-rule=\"nonzero\" fill-opacity=\"1\" /><path clip-path=\"url(#clip460)\" d=\"M102.844 934.497 L119.163 934.497 L119.163 938.432 L97.2187 938.432 L97.2187 934.497 Q99.8808 931.742 104.464 927.113 Q109.071 922.46 110.251 921.117 Q112.496 918.594 113.376 916.858 Q114.279 915.099 114.279 913.409 Q114.279 910.654 112.334 908.918 Q110.413 907.182 107.311 907.182 Q105.112 907.182 102.659 907.946 Q100.228 908.71 97.4502 910.261 L97.4502 905.539 Q100.274 904.404 102.728 903.826 Q105.182 903.247 107.219 903.247 Q112.589 903.247 115.783 905.932 Q118.978 908.617 118.978 913.108 Q118.978 915.238 118.168 917.159 Q117.381 919.057 115.274 921.65 Q114.695 922.321 111.594 925.538 Q108.492 928.733 102.844 934.497 Z\" fill=\"#000000\" fill-rule=\"nonzero\" fill-opacity=\"1\" /><path clip-path=\"url(#clip460)\" d=\"M129.024 903.872 L147.38 903.872 L147.38 907.807 L133.306 907.807 L133.306 916.279 Q134.325 915.932 135.344 915.77 Q136.362 915.585 137.381 915.585 Q143.168 915.585 146.547 918.756 Q149.927 921.927 149.927 927.344 Q149.927 932.923 146.455 936.025 Q142.982 939.103 136.663 939.103 Q134.487 939.103 132.219 938.733 Q129.973 938.362 127.566 937.622 L127.566 932.923 Q129.649 934.057 131.871 934.612 Q134.094 935.168 136.57 935.168 Q140.575 935.168 142.913 933.062 Q145.251 930.955 145.251 927.344 Q145.251 923.733 142.913 921.626 Q140.575 919.52 136.57 919.52 Q134.695 919.52 132.82 919.937 Q130.969 920.353 129.024 921.233 L129.024 903.872 Z\" fill=\"#000000\" fill-rule=\"nonzero\" fill-opacity=\"1\" /><path clip-path=\"url(#clip460)\" d=\"M53.3995 724.979 L61.0384 724.979 L61.0384 698.614 L52.7282 700.28 L52.7282 696.021 L60.9921 694.354 L65.668 694.354 L65.668 724.979 L73.3068 724.979 L73.3068 728.914 L53.3995 728.914 L53.3995 724.979 Z\" fill=\"#000000\" fill-rule=\"nonzero\" fill-opacity=\"1\" /><path clip-path=\"url(#clip460)\" d=\"M82.7512 723.035 L87.6354 723.035 L87.6354 728.914 L82.7512 728.914 L82.7512 723.035 Z\" fill=\"#000000\" fill-rule=\"nonzero\" fill-opacity=\"1\" /><path clip-path=\"url(#clip460)\" d=\"M97.8669 694.354 L116.223 694.354 L116.223 698.289 L102.149 698.289 L102.149 706.762 Q103.168 706.414 104.186 706.252 Q105.205 706.067 106.223 706.067 Q112.01 706.067 115.39 709.239 Q118.77 712.41 118.77 717.826 Q118.77 723.405 115.297 726.507 Q111.825 729.586 105.506 729.586 Q103.33 729.586 101.061 729.215 Q98.8159 728.845 96.4085 728.104 L96.4085 723.405 Q98.4919 724.539 100.714 725.095 Q102.936 725.65 105.413 725.65 Q109.418 725.65 111.756 723.544 Q114.094 721.438 114.094 717.826 Q114.094 714.215 111.756 712.109 Q109.418 710.002 105.413 710.002 Q103.538 710.002 101.663 710.419 Q99.8113 710.836 97.8669 711.715 L97.8669 694.354 Z\" fill=\"#000000\" fill-rule=\"nonzero\" fill-opacity=\"1\" /><path clip-path=\"url(#clip460)\" d=\"M137.982 697.433 Q134.371 697.433 132.543 700.998 Q130.737 704.539 130.737 711.669 Q130.737 718.775 132.543 722.34 Q134.371 725.882 137.982 725.882 Q141.617 725.882 143.422 722.34 Q145.251 718.775 145.251 711.669 Q145.251 704.539 143.422 700.998 Q141.617 697.433 137.982 697.433 M137.982 693.729 Q143.793 693.729 146.848 698.336 Q149.927 702.919 149.927 711.669 Q149.927 720.396 146.848 725.002 Q143.793 729.586 137.982 729.586 Q132.172 729.586 129.094 725.002 Q126.038 720.396 126.038 711.669 Q126.038 702.919 129.094 698.336 Q132.172 693.729 137.982 693.729 Z\" fill=\"#000000\" fill-rule=\"nonzero\" fill-opacity=\"1\" /><path clip-path=\"url(#clip460)\" d=\"M54.3949 515.462 L62.0337 515.462 L62.0337 489.096 L53.7236 490.763 L53.7236 486.503 L61.9874 484.837 L66.6633 484.837 L66.6633 515.462 L74.3022 515.462 L74.3022 519.397 L54.3949 519.397 L54.3949 515.462 Z\" fill=\"#000000\" fill-rule=\"nonzero\" fill-opacity=\"1\" /><path clip-path=\"url(#clip460)\" d=\"M83.7466 513.517 L88.6308 513.517 L88.6308 519.397 L83.7466 519.397 L83.7466 513.517 Z\" fill=\"#000000\" fill-rule=\"nonzero\" fill-opacity=\"1\" /><path clip-path=\"url(#clip460)\" d=\"M97.6354 484.837 L119.857 484.837 L119.857 486.827 L107.311 519.397 L102.427 519.397 L114.233 488.772 L97.6354 488.772 L97.6354 484.837 Z\" fill=\"#000000\" fill-rule=\"nonzero\" fill-opacity=\"1\" /><path clip-path=\"url(#clip460)\" d=\"M129.024 484.837 L147.38 484.837 L147.38 488.772 L133.306 488.772 L133.306 497.244 Q134.325 496.897 135.344 496.735 Q136.362 496.55 137.381 496.55 Q143.168 496.55 146.547 499.721 Q149.927 502.892 149.927 508.309 Q149.927 513.888 146.455 516.989 Q142.982 520.068 136.663 520.068 Q134.487 520.068 132.219 519.698 Q129.973 519.327 127.566 518.587 L127.566 513.888 Q129.649 515.022 131.871 515.577 Q134.094 516.133 136.57 516.133 Q140.575 516.133 142.913 514.026 Q145.251 511.92 145.251 508.309 Q145.251 504.698 142.913 502.591 Q140.575 500.485 136.57 500.485 Q134.695 500.485 132.82 500.901 Q130.969 501.318 129.024 502.198 L129.024 484.837 Z\" fill=\"#000000\" fill-rule=\"nonzero\" fill-opacity=\"1\" /><path clip-path=\"url(#clip460)\" d=\"M56.6171 305.944 L72.9365 305.944 L72.9365 309.879 L50.9921 309.879 L50.9921 305.944 Q53.6541 303.189 58.2375 298.56 Q62.8439 293.907 64.0245 292.564 Q66.2698 290.041 67.1494 288.305 Q68.0522 286.546 68.0522 284.856 Q68.0522 282.102 66.1078 280.365 Q64.1865 278.629 61.0847 278.629 Q58.8856 278.629 56.4319 279.393 Q54.0014 280.157 51.2236 281.708 L51.2236 276.986 Q54.0477 275.852 56.5014 275.273 Q58.955 274.694 60.9921 274.694 Q66.3624 274.694 69.5568 277.379 Q72.7513 280.064 72.7513 284.555 Q72.7513 286.685 71.9411 288.606 Q71.1541 290.504 69.0476 293.097 Q68.4689 293.768 65.367 296.986 Q62.2652 300.18 56.6171 305.944 Z\" fill=\"#000000\" fill-rule=\"nonzero\" fill-opacity=\"1\" /><path clip-path=\"url(#clip460)\" d=\"M82.7512 304 L87.6354 304 L87.6354 309.879 L82.7512 309.879 L82.7512 304 Z\" fill=\"#000000\" fill-rule=\"nonzero\" fill-opacity=\"1\" /><path clip-path=\"url(#clip460)\" d=\"M107.821 278.398 Q104.209 278.398 102.381 281.963 Q100.575 285.504 100.575 292.634 Q100.575 299.74 102.381 303.305 Q104.209 306.847 107.821 306.847 Q111.455 306.847 113.26 303.305 Q115.089 299.74 115.089 292.634 Q115.089 285.504 113.26 281.963 Q111.455 278.398 107.821 278.398 M107.821 274.694 Q113.631 274.694 116.686 279.301 Q119.765 283.884 119.765 292.634 Q119.765 301.361 116.686 305.967 Q113.631 310.55 107.821 310.55 Q102.01 310.55 98.9317 305.967 Q95.8761 301.361 95.8761 292.634 Q95.8761 283.884 98.9317 279.301 Q102.01 274.694 107.821 274.694 Z\" fill=\"#000000\" fill-rule=\"nonzero\" fill-opacity=\"1\" /><path clip-path=\"url(#clip460)\" d=\"M137.982 278.398 Q134.371 278.398 132.543 281.963 Q130.737 285.504 130.737 292.634 Q130.737 299.74 132.543 303.305 Q134.371 306.847 137.982 306.847 Q141.617 306.847 143.422 303.305 Q145.251 299.74 145.251 292.634 Q145.251 285.504 143.422 281.963 Q141.617 278.398 137.982 278.398 M137.982 274.694 Q143.793 274.694 146.848 279.301 Q149.927 283.884 149.927 292.634 Q149.927 301.361 146.848 305.967 Q143.793 310.55 137.982 310.55 Q132.172 310.55 129.094 305.967 Q126.038 301.361 126.038 292.634 Q126.038 283.884 129.094 279.301 Q132.172 274.694 137.982 274.694 Z\" fill=\"#000000\" fill-rule=\"nonzero\" fill-opacity=\"1\" /><path clip-path=\"url(#clip460)\" d=\"M57.6125 96.4264 L73.9318 96.4264 L73.9318 100.362 L51.9875 100.362 L51.9875 96.4264 Q54.6495 93.6718 59.2328 89.0422 Q63.8393 84.3894 65.0198 83.0468 Q67.2652 80.5237 68.1448 78.7876 Q69.0476 77.0284 69.0476 75.3385 Q69.0476 72.5839 67.1032 70.8478 Q65.1819 69.1117 62.08 69.1117 Q59.881 69.1117 57.4273 69.8756 Q54.9967 70.6395 52.219 72.1904 L52.219 67.4682 Q55.043 66.334 57.4967 65.7553 Q59.9504 65.1766 61.9874 65.1766 Q67.3578 65.1766 70.5522 67.8617 Q73.7466 70.5469 73.7466 75.0376 Q73.7466 77.1672 72.9365 79.0885 Q72.1494 80.9867 70.0429 83.5792 Q69.4642 84.2505 66.3624 87.4681 Q63.2606 90.6625 57.6125 96.4264 Z\" fill=\"#000000\" fill-rule=\"nonzero\" fill-opacity=\"1\" /><path clip-path=\"url(#clip460)\" d=\"M83.7466 94.482 L88.6308 94.482 L88.6308 100.362 L83.7466 100.362 L83.7466 94.482 Z\" fill=\"#000000\" fill-rule=\"nonzero\" fill-opacity=\"1\" /><path clip-path=\"url(#clip460)\" d=\"M102.844 96.4264 L119.163 96.4264 L119.163 100.362 L97.2187 100.362 L97.2187 96.4264 Q99.8808 93.6718 104.464 89.0422 Q109.071 84.3894 110.251 83.0468 Q112.496 80.5237 113.376 78.7876 Q114.279 77.0284 114.279 75.3385 Q114.279 72.5839 112.334 70.8478 Q110.413 69.1117 107.311 69.1117 Q105.112 69.1117 102.659 69.8756 Q100.228 70.6395 97.4502 72.1904 L97.4502 67.4682 Q100.274 66.334 102.728 65.7553 Q105.182 65.1766 107.219 65.1766 Q112.589 65.1766 115.783 67.8617 Q118.978 70.5469 118.978 75.0376 Q118.978 77.1672 118.168 79.0885 Q117.381 80.9867 115.274 83.5792 Q114.695 84.2505 111.594 87.4681 Q108.492 90.6625 102.844 96.4264 Z\" fill=\"#000000\" fill-rule=\"nonzero\" fill-opacity=\"1\" /><path clip-path=\"url(#clip460)\" d=\"M129.024 65.8016 L147.38 65.8016 L147.38 69.7367 L133.306 69.7367 L133.306 78.2089 Q134.325 77.8617 135.344 77.6996 Q136.362 77.5145 137.381 77.5145 Q143.168 77.5145 146.547 80.6857 Q149.927 83.857 149.927 89.2737 Q149.927 94.8523 146.455 97.9542 Q142.982 101.033 136.663 101.033 Q134.487 101.033 132.219 100.662 Q129.973 100.292 127.566 99.5514 L127.566 94.8523 Q129.649 95.9866 131.871 96.5421 Q134.094 97.0977 136.57 97.0977 Q140.575 97.0977 142.913 94.9912 Q145.251 92.8848 145.251 89.2737 Q145.251 85.6626 142.913 83.5561 Q140.575 81.4496 136.57 81.4496 Q134.695 81.4496 132.82 81.8663 Q130.969 82.283 129.024 83.1626 L129.024 65.8016 Z\" fill=\"#000000\" fill-rule=\"nonzero\" fill-opacity=\"1\" /><polyline clip-path=\"url(#clip462)\" style=\"stroke:#009af9; stroke-linecap:round; stroke-linejoin:round; stroke-width:4; stroke-opacity:1; fill:none\" points=\"247.252,1423.06 263.222,1169.7 279.192,1132.06 295.163,1126.69 311.133,1125.77 327.103,1125.53 343.073,1125.42 359.043,1125.36 375.013,1125.33 390.983,1125.3 406.954,1125.28 422.924,1125.26 438.894,1125.25 454.864,1125.25 470.834,1125.24 486.804,1125.23 502.774,1125.23 518.745,1125.22 534.715,1125.22 550.685,1125.22 566.655,1125.22 582.625,1125.21 598.595,1125.21 614.565,1125.21 630.536,1125.21 646.506,1125.21 662.476,1125.21 678.446,1125.21 694.416,1125.21 710.386,1125.21 726.356,1125.21 742.327,1125.2 758.297,1125.2 774.267,1125.2 790.237,1125.2 806.207,1125.2 822.177,1125.2 838.147,1125.2 854.118,1125.2 870.088,1125.2 886.058,1125.2 902.028,1125.2 917.998,1125.2 933.968,1125.2 949.938,1125.2 965.909,1125.2 981.879,1125.2 997.849,1125.2 1013.82,1125.2 1029.79,1125.2 1045.76,1125.2 1061.73,1125.2 1077.7,1125.2 1093.67,1125.2 1109.64,1125.2 1125.61,1125.2 1141.58,1125.2 1157.55,1125.2 1173.52,1125.2 1189.49,1125.2 1205.46,1125.2 1221.43,1125.2 1237.4,1125.2 1253.37,1125.2 1269.34,1125.2 1285.31,1125.2 1301.28,1125.2 1317.25,1125.2 1333.22,1125.2 1349.19,1125.2 1365.16,1125.2 1381.13,1125.2 1397.1,1125.2 1413.07,1125.2 1429.04,1125.2 1445.01,1125.2 1460.98,1125.2 1476.95,1125.2 1492.92,1125.2 1508.89,1125.2 1524.86,1125.2 1540.83,1125.2 1556.8,1125.2 1572.77,1125.2 1588.74,1125.2 1604.71,1125.2 1620.68,1125.2 1636.65,1125.2 1652.62,1125.2 1668.59,1125.2 1684.57,1125.2 1700.54,1125.2 1716.51,1125.2 1732.48,1125.2 1748.45,1125.2 1764.42,1125.2 1780.39,1125.2 1796.36,1125.2 1812.33,1125.21 1828.3,1125.21 1844.27,1125.21 1860.24,1125.21 1876.21,1125.21 1892.18,1125.21 1908.15,1125.21 1924.12,1125.21 1940.09,1125.21 1956.06,1125.21 1972.03,1125.22 1988,1125.22 2003.97,1125.22 2019.94,1125.22 2035.91,1125.23 2051.88,1125.23 2067.85,1125.24 2083.82,1125.25 2099.79,1125.25 2115.76,1125.26 2131.73,1125.28 2147.7,1125.3 2163.67,1125.33 2179.64,1125.36 2195.61,1125.42 2211.58,1125.53 2227.55,1125.77 2243.52,1126.69 2259.49,1132.06 2275.46,1169.7 2291.43,1423.06 \"/>\n",
       "<polyline clip-path=\"url(#clip462)\" style=\"stroke:#e26f46; stroke-linecap:round; stroke-linejoin:round; stroke-width:4; stroke-opacity:1; fill:none\" points=\"247.252,1430.93 263.222,1177.26 279.192,1139.31 295.163,1133.85 311.133,1132.89 327.103,1132.63 343.073,1132.52 359.043,1132.45 375.013,1132.41 390.983,1132.38 406.954,1132.36 422.924,1132.34 438.894,1132.33 454.864,1132.32 470.834,1132.31 486.804,1132.3 502.774,1132.29 518.745,1132.29 534.715,1132.29 550.685,1132.28 566.655,1132.28 582.625,1132.28 598.595,1132.27 614.565,1132.27 630.536,1132.27 646.506,1132.27 662.476,1132.27 678.446,1132.27 694.416,1132.27 710.386,1132.26 726.356,1132.26 742.327,1132.26 758.297,1132.26 774.267,1132.26 790.237,1132.26 806.207,1132.25 822.177,1132.25 838.147,1132.23 854.118,1132.12 870.088,1131.42 886.058,1126.23 902.028,1086.63 917.998,780.531 933.968,1086.63 949.938,1126.23 965.909,1131.42 981.879,1132.12 997.849,1132.22 1013.82,1132.24 1029.79,1132.25 1045.76,1132.25 1061.73,1132.25 1077.7,1132.25 1093.67,1132.25 1109.64,1132.25 1125.61,1132.25 1141.58,1132.25 1157.55,1132.25 1173.52,1132.26 1189.49,1132.26 1205.46,1132.26 1221.43,1132.26 1237.4,1132.26 1253.37,1132.26 1269.34,1132.26 1285.31,1132.26 1301.28,1132.26 1317.25,1132.26 1333.22,1132.25 1349.19,1132.25 1365.16,1132.25 1381.13,1132.25 1397.1,1132.25 1413.07,1132.25 1429.04,1132.25 1445.01,1132.25 1460.98,1132.25 1476.95,1132.25 1492.92,1132.25 1508.89,1132.24 1524.86,1132.22 1540.83,1132.12 1556.8,1131.42 1572.77,1126.23 1588.74,1086.63 1604.71,780.531 1620.68,1086.63 1636.65,1126.23 1652.62,1131.42 1668.59,1132.12 1684.57,1132.23 1700.54,1132.25 1716.51,1132.25 1732.48,1132.26 1748.45,1132.26 1764.42,1132.26 1780.39,1132.26 1796.36,1132.26 1812.33,1132.26 1828.3,1132.26 1844.27,1132.27 1860.24,1132.27 1876.21,1132.27 1892.18,1132.27 1908.15,1132.27 1924.12,1132.27 1940.09,1132.27 1956.06,1132.28 1972.03,1132.28 1988,1132.28 2003.97,1132.29 2019.94,1132.29 2035.91,1132.29 2051.88,1132.3 2067.85,1132.31 2083.82,1132.32 2099.79,1132.33 2115.76,1132.34 2131.73,1132.36 2147.7,1132.38 2163.67,1132.41 2179.64,1132.45 2195.61,1132.52 2211.58,1132.63 2227.55,1132.89 2243.52,1133.85 2259.49,1139.31 2275.46,1177.26 2291.43,1430.93 \"/>\n",
       "<polyline clip-path=\"url(#clip462)\" style=\"stroke:#3da44d; stroke-linecap:round; stroke-linejoin:round; stroke-width:4; stroke-opacity:1; fill:none\" points=\"247.252,1438.71 263.222,1184.74 279.192,1146.46 295.163,1140.9 311.133,1139.91 327.103,1139.64 343.073,1139.51 359.043,1139.44 375.013,1139.39 390.983,1139.35 406.954,1139.32 422.924,1139.3 438.894,1139.29 454.864,1139.28 470.834,1139.27 486.804,1139.26 502.774,1139.25 518.745,1139.24 534.715,1139.24 550.685,1139.23 566.655,1139.23 582.625,1139.23 598.595,1139.22 614.565,1139.22 630.536,1139.22 646.506,1139.22 662.476,1139.21 678.446,1139.21 694.416,1139.21 710.386,1139.21 726.356,1139.21 742.327,1139.21 758.297,1139.2 774.267,1139.2 790.237,1139.2 806.207,1139.19 822.177,1139.18 838.147,1139.15 854.118,1138.97 870.088,1137.73 886.058,1128.35 902.028,1055.19 917.998,425.417 933.968,1055.19 949.938,1128.35 965.909,1137.72 981.879,1138.97 997.849,1139.15 1013.82,1139.18 1029.79,1139.19 1045.76,1139.19 1061.73,1139.19 1077.7,1139.2 1093.67,1139.2 1109.64,1139.2 1125.61,1139.2 1141.58,1139.2 1157.55,1139.2 1173.52,1139.2 1189.49,1139.2 1205.46,1139.2 1221.43,1139.2 1237.4,1139.2 1253.37,1139.2 1269.34,1139.2 1285.31,1139.2 1301.28,1139.2 1317.25,1139.2 1333.22,1139.2 1349.19,1139.2 1365.16,1139.2 1381.13,1139.2 1397.1,1139.2 1413.07,1139.2 1429.04,1139.2 1445.01,1139.19 1460.98,1139.19 1476.95,1139.19 1492.92,1139.19 1508.89,1139.18 1524.86,1139.15 1540.83,1138.97 1556.8,1137.72 1572.77,1128.35 1588.74,1055.19 1604.71,425.417 1620.68,1055.19 1636.65,1128.35 1652.62,1137.73 1668.59,1138.97 1684.57,1139.15 1700.54,1139.18 1716.51,1139.19 1732.48,1139.2 1748.45,1139.2 1764.42,1139.2 1780.39,1139.21 1796.36,1139.21 1812.33,1139.21 1828.3,1139.21 1844.27,1139.21 1860.24,1139.21 1876.21,1139.21 1892.18,1139.22 1908.15,1139.22 1924.12,1139.22 1940.09,1139.22 1956.06,1139.23 1972.03,1139.23 1988,1139.23 2003.97,1139.24 2019.94,1139.24 2035.91,1139.25 2051.88,1139.26 2067.85,1139.27 2083.82,1139.28 2099.79,1139.29 2115.76,1139.3 2131.73,1139.32 2147.7,1139.35 2163.67,1139.39 2179.64,1139.44 2195.61,1139.51 2211.58,1139.64 2227.55,1139.91 2243.52,1140.9 2259.49,1146.46 2275.46,1184.74 2291.43,1438.71 \"/>\n",
       "<polyline clip-path=\"url(#clip462)\" style=\"stroke:#c271d2; stroke-linecap:round; stroke-linejoin:round; stroke-width:4; stroke-opacity:1; fill:none\" points=\"247.252,1445.72 263.222,1191.47 279.192,1152.89 295.163,1147.23 311.133,1146.21 327.103,1145.92 343.073,1145.79 359.043,1145.7 375.013,1145.65 390.983,1145.61 406.954,1145.58 422.924,1145.56 438.894,1145.54 454.864,1145.53 470.834,1145.51 486.804,1145.5 502.774,1145.5 518.745,1145.49 534.715,1145.48 550.685,1145.48 566.655,1145.48 582.625,1145.47 598.595,1145.47 614.565,1145.47 630.536,1145.46 646.506,1145.46 662.476,1145.46 678.446,1145.46 694.416,1145.46 710.386,1145.46 726.356,1145.45 742.327,1145.45 758.297,1145.45 774.267,1145.45 790.237,1145.45 806.207,1145.44 822.177,1145.43 838.147,1145.4 854.118,1145.18 870.088,1143.62 886.058,1131.58 902.028,1034.36 917.998,87.9765 933.968,1034.36 949.938,1131.58 965.909,1143.62 981.879,1145.18 997.849,1145.4 1013.82,1145.43 1029.79,1145.44 1045.76,1145.44 1061.73,1145.44 1077.7,1145.44 1093.67,1145.44 1109.64,1145.44 1125.61,1145.44 1141.58,1145.44 1157.55,1145.44 1173.52,1145.44 1189.49,1145.44 1205.46,1145.44 1221.43,1145.44 1237.4,1145.44 1253.37,1145.44 1269.34,1145.44 1285.31,1145.44 1301.28,1145.44 1317.25,1145.44 1333.22,1145.44 1349.19,1145.44 1365.16,1145.44 1381.13,1145.44 1397.1,1145.44 1413.07,1145.44 1429.04,1145.44 1445.01,1145.44 1460.98,1145.44 1476.95,1145.44 1492.92,1145.44 1508.89,1145.43 1524.86,1145.4 1540.83,1145.18 1556.8,1143.62 1572.77,1131.58 1588.74,1034.36 1604.71,87.9763 1620.68,1034.36 1636.65,1131.58 1652.62,1143.62 1668.59,1145.18 1684.57,1145.4 1700.54,1145.43 1716.51,1145.44 1732.48,1145.45 1748.45,1145.45 1764.42,1145.45 1780.39,1145.45 1796.36,1145.45 1812.33,1145.45 1828.3,1145.45 1844.27,1145.46 1860.24,1145.46 1876.21,1145.46 1892.18,1145.46 1908.15,1145.46 1924.12,1145.46 1940.09,1145.47 1956.06,1145.47 1972.03,1145.47 1988,1145.48 2003.97,1145.48 2019.94,1145.49 2035.91,1145.5 2051.88,1145.5 2067.85,1145.51 2083.82,1145.52 2099.79,1145.54 2115.76,1145.56 2131.73,1145.58 2147.7,1145.61 2163.67,1145.65 2179.64,1145.7 2195.61,1145.78 2211.58,1145.92 2227.55,1146.21 2243.52,1147.23 2259.49,1152.89 2275.46,1191.47 2291.43,1445.71 \"/>\n",
       "<path clip-path=\"url(#clip460)\" d=\"M2009.7 354.418 L2280.53 354.418 L2280.53 95.2176 L2009.7 95.2176  Z\" fill=\"#ffffff\" fill-rule=\"evenodd\" fill-opacity=\"1\"/>\n",
       "<polyline clip-path=\"url(#clip460)\" style=\"stroke:#000000; stroke-linecap:round; stroke-linejoin:round; stroke-width:4; stroke-opacity:1; fill:none\" points=\"2009.7,354.418 2280.53,354.418 2280.53,95.2176 2009.7,95.2176 2009.7,354.418 \"/>\n",
       "<polyline clip-path=\"url(#clip460)\" style=\"stroke:#009af9; stroke-linecap:round; stroke-linejoin:round; stroke-width:4; stroke-opacity:1; fill:none\" points=\"2033.78,147.058 2178.23,147.058 \"/>\n",
       "<path clip-path=\"url(#clip460)\" d=\"M2216.15 166.745 Q2214.35 171.375 2212.63 172.787 Q2210.92 174.199 2208.05 174.199 L2204.65 174.199 L2204.65 170.634 L2207.15 170.634 Q2208.91 170.634 2209.88 169.8 Q2210.85 168.967 2212.03 165.865 L2212.8 163.921 L2202.31 138.412 L2206.82 138.412 L2214.92 158.689 L2223.03 138.412 L2227.54 138.412 L2216.15 166.745 Z\" fill=\"#000000\" fill-rule=\"nonzero\" fill-opacity=\"1\" /><path clip-path=\"url(#clip460)\" d=\"M2234.83 160.402 L2242.47 160.402 L2242.47 134.037 L2234.16 135.703 L2234.16 131.444 L2242.42 129.778 L2247.1 129.778 L2247.1 160.402 L2254.74 160.402 L2254.74 164.338 L2234.83 164.338 L2234.83 160.402 Z\" fill=\"#000000\" fill-rule=\"nonzero\" fill-opacity=\"1\" /><polyline clip-path=\"url(#clip460)\" style=\"stroke:#e26f46; stroke-linecap:round; stroke-linejoin:round; stroke-width:4; stroke-opacity:1; fill:none\" points=\"2033.78,198.898 2178.23,198.898 \"/>\n",
       "<path clip-path=\"url(#clip460)\" d=\"M2216.15 218.585 Q2214.35 223.215 2212.63 224.627 Q2210.92 226.039 2208.05 226.039 L2204.65 226.039 L2204.65 222.474 L2207.15 222.474 Q2208.91 222.474 2209.88 221.64 Q2210.85 220.807 2212.03 217.705 L2212.8 215.761 L2202.31 190.252 L2206.82 190.252 L2214.92 210.529 L2223.03 190.252 L2227.54 190.252 L2216.15 218.585 Z\" fill=\"#000000\" fill-rule=\"nonzero\" fill-opacity=\"1\" /><path clip-path=\"url(#clip460)\" d=\"M2238.05 212.242 L2254.37 212.242 L2254.37 216.178 L2232.42 216.178 L2232.42 212.242 Q2235.09 209.488 2239.67 204.858 Q2244.28 200.205 2245.46 198.863 Q2247.7 196.34 2248.58 194.604 Q2249.48 192.844 2249.48 191.155 Q2249.48 188.4 2247.54 186.664 Q2245.62 184.928 2242.52 184.928 Q2240.32 184.928 2237.86 185.692 Q2235.43 186.455 2232.66 188.006 L2232.66 183.284 Q2235.48 182.15 2237.93 181.571 Q2240.39 180.993 2242.42 180.993 Q2247.8 180.993 2250.99 183.678 Q2254.18 186.363 2254.18 190.854 Q2254.18 192.983 2253.37 194.905 Q2252.59 196.803 2250.48 199.395 Q2249.9 200.067 2246.8 203.284 Q2243.7 206.479 2238.05 212.242 Z\" fill=\"#000000\" fill-rule=\"nonzero\" fill-opacity=\"1\" /><polyline clip-path=\"url(#clip460)\" style=\"stroke:#3da44d; stroke-linecap:round; stroke-linejoin:round; stroke-width:4; stroke-opacity:1; fill:none\" points=\"2033.78,250.738 2178.23,250.738 \"/>\n",
       "<path clip-path=\"url(#clip460)\" d=\"M2216.15 270.425 Q2214.35 275.055 2212.63 276.467 Q2210.92 277.879 2208.05 277.879 L2204.65 277.879 L2204.65 274.314 L2207.15 274.314 Q2208.91 274.314 2209.88 273.48 Q2210.85 272.647 2212.03 269.545 L2212.8 267.601 L2202.31 242.092 L2206.82 242.092 L2214.92 262.369 L2223.03 242.092 L2227.54 242.092 L2216.15 270.425 Z\" fill=\"#000000\" fill-rule=\"nonzero\" fill-opacity=\"1\" /><path clip-path=\"url(#clip460)\" d=\"M2248.19 249.383 Q2251.55 250.101 2253.42 252.369 Q2255.32 254.638 2255.32 257.971 Q2255.32 263.087 2251.8 265.888 Q2248.28 268.689 2241.8 268.689 Q2239.62 268.689 2237.31 268.249 Q2235.02 267.832 2232.56 266.976 L2232.56 262.462 Q2234.51 263.596 2236.82 264.175 Q2239.14 264.754 2241.66 264.754 Q2246.06 264.754 2248.35 263.018 Q2250.67 261.281 2250.67 257.971 Q2250.67 254.916 2248.51 253.203 Q2246.38 251.467 2242.56 251.467 L2238.54 251.467 L2238.54 247.624 L2242.75 247.624 Q2246.2 247.624 2248.03 246.258 Q2249.86 244.87 2249.86 242.277 Q2249.86 239.615 2247.96 238.203 Q2246.08 236.768 2242.56 236.768 Q2240.64 236.768 2238.44 237.184 Q2236.24 237.601 2233.61 238.481 L2233.61 234.314 Q2236.27 233.573 2238.58 233.203 Q2240.92 232.833 2242.98 232.833 Q2248.3 232.833 2251.41 235.263 Q2254.51 237.67 2254.51 241.791 Q2254.51 244.661 2252.86 246.652 Q2251.22 248.62 2248.19 249.383 Z\" fill=\"#000000\" fill-rule=\"nonzero\" fill-opacity=\"1\" /><polyline clip-path=\"url(#clip460)\" style=\"stroke:#c271d2; stroke-linecap:round; stroke-linejoin:round; stroke-width:4; stroke-opacity:1; fill:none\" points=\"2033.78,302.578 2178.23,302.578 \"/>\n",
       "<path clip-path=\"url(#clip460)\" d=\"M2216.15 322.265 Q2214.35 326.895 2212.63 328.307 Q2210.92 329.719 2208.05 329.719 L2204.65 329.719 L2204.65 326.154 L2207.15 326.154 Q2208.91 326.154 2209.88 325.32 Q2210.85 324.487 2212.03 321.385 L2212.8 319.441 L2202.31 293.932 L2206.82 293.932 L2214.92 314.209 L2223.03 293.932 L2227.54 293.932 L2216.15 322.265 Z\" fill=\"#000000\" fill-rule=\"nonzero\" fill-opacity=\"1\" /><path clip-path=\"url(#clip460)\" d=\"M2246.87 289.372 L2235.06 307.821 L2246.87 307.821 L2246.87 289.372 M2245.64 285.298 L2251.52 285.298 L2251.52 307.821 L2256.45 307.821 L2256.45 311.709 L2251.52 311.709 L2251.52 319.858 L2246.87 319.858 L2246.87 311.709 L2231.27 311.709 L2231.27 307.196 L2245.64 285.298 Z\" fill=\"#000000\" fill-rule=\"nonzero\" fill-opacity=\"1\" /></svg>\n"
      ]
     },
     "metadata": {},
     "output_type": "display_data"
    }
   ],
   "source": [
    "plot([density_SF, density_SF_2, density_SF_3, density_SF_4])"
   ]
  },
  {
   "cell_type": "code",
   "execution_count": null,
   "metadata": {},
   "outputs": [],
   "source": []
  }
 ],
 "metadata": {
  "kernelspec": {
   "display_name": "Julia 1.8.5",
   "language": "julia",
   "name": "julia-1.8"
  },
  "language_info": {
   "file_extension": ".jl",
   "mimetype": "application/julia",
   "name": "julia",
   "version": "1.8.5"
  },
  "orig_nbformat": 4
 },
 "nbformat": 4,
 "nbformat_minor": 2
}
