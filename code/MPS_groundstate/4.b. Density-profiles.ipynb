{
 "cells": [
  {
   "cell_type": "code",
   "execution_count": 1,
   "metadata": {},
   "outputs": [],
   "source": [
    "include(\"4.a. Correlations.jl\")\n",
    "using Plots"
   ]
  },
  {
   "cell_type": "code",
   "execution_count": 2,
   "metadata": {},
   "outputs": [
    {
     "name": "stdout",
     "output_type": "stream",
     "text": [
      "After sweep 1 energy=-5.06292771971249  maxlinkdim=18 maxerr=7.38E-43 time=41.568\n"
     ]
    },
    {
     "name": "stdout",
     "output_type": "stream",
     "text": [
      "After sweep 2 energy=-5.063856323541182  maxlinkdim=55 maxerr=9.96E-16 time=8.280\n"
     ]
    },
    {
     "name": "stdout",
     "output_type": "stream",
     "text": [
      "After sweep 3 energy=-5.063856358521581  maxlinkdim=50 maxerr=1.00E-15 time=7.738\n"
     ]
    },
    {
     "name": "stdout",
     "output_type": "stream",
     "text": [
      "After sweep 4 energy=-5.063856359231512  maxlinkdim=51 maxerr=1.00E-15 time=7.501\n"
     ]
    },
    {
     "name": "stdout",
     "output_type": "stream",
     "text": [
      "After sweep 5 energy=-5.063856359262236  maxlinkdim=46 maxerr=9.99E-16 time=7.361\n"
     ]
    },
    {
     "name": "stdout",
     "output_type": "stream",
     "text": [
      "Energy difference less than 1.0e-10, stopping DMRG\n"
     ]
    },
    {
     "name": "stdout",
     "output_type": "stream",
     "text": [
      "After sweep 1 energy=-5.587481082684986  maxlinkdim=18 maxerr=5.42E-43 time=2.284\n"
     ]
    },
    {
     "name": "stdout",
     "output_type": "stream",
     "text": [
      "After sweep 2 energy=-5.588634570860954  maxlinkdim=73 maxerr=9.98E-16 time=7.521\n"
     ]
    },
    {
     "name": "stdout",
     "output_type": "stream",
     "text": [
      "After sweep 3 energy=-5.588637976867083  maxlinkdim=77 maxerr=1.00E-15 time=7.799\n"
     ]
    },
    {
     "name": "stdout",
     "output_type": "stream",
     "text": [
      "After sweep 4 energy=-5.588638426751723  maxlinkdim=79 maxerr=9.95E-16 time=7.810\n"
     ]
    },
    {
     "name": "stdout",
     "output_type": "stream",
     "text": [
      "After sweep 5 energy=-5.588638531796709  maxlinkdim=73 maxerr=9.99E-16 time=7.557\n"
     ]
    },
    {
     "name": "stdout",
     "output_type": "stream",
     "text": [
      "After sweep 6 energy=-5.5886385474779745  maxlinkdim=67 maxerr=9.99E-16 time=8.354\n"
     ]
    },
    {
     "name": "stdout",
     "output_type": "stream",
     "text": [
      "After sweep 7 energy=-5.588638548832338  maxlinkdim=61 maxerr=9.94E-16 time=7.654\n"
     ]
    },
    {
     "name": "stdout",
     "output_type": "stream",
     "text": [
      "After sweep 8 energy=-5.588638548866232  maxlinkdim=56 maxerr=9.96E-16 time=7.605\n"
     ]
    },
    {
     "name": "stdout",
     "output_type": "stream",
     "text": [
      "Energy difference less than 1.0e-10, stopping DMRG\n"
     ]
    },
    {
     "name": "stdout",
     "output_type": "stream",
     "text": [
      "After sweep 1 energy=-6.263843058300927  maxlinkdim=18 maxerr=3.19E-42 time=2.277\n"
     ]
    },
    {
     "name": "stdout",
     "output_type": "stream",
     "text": [
      "After sweep 2 energy=-6.2778678256133  maxlinkdim=110 maxerr=9.97E-16 time=7.778\n"
     ]
    },
    {
     "name": "stdout",
     "output_type": "stream",
     "text": [
      "After sweep 3 energy=-6.2801939492792895  maxlinkdim=128 maxerr=2.06E-13 time=8.903\n"
     ]
    },
    {
     "name": "stdout",
     "output_type": "stream",
     "text": [
      "After sweep 4 energy=-6.281968817072104  maxlinkdim=128 maxerr=3.58E-12 time=9.018\n"
     ]
    },
    {
     "name": "stdout",
     "output_type": "stream",
     "text": [
      "After sweep 5 energy=-6.283448281414952  maxlinkdim=128 maxerr=2.00E-11 time=9.113\n"
     ]
    },
    {
     "name": "stdout",
     "output_type": "stream",
     "text": [
      "After sweep 6 energy=-6.28446810217298  maxlinkdim=128 maxerr=9.62E-12 time=9.034\n"
     ]
    },
    {
     "name": "stdout",
     "output_type": "stream",
     "text": [
      "After sweep 7 energy=-6.285139586226711  maxlinkdim=128 maxerr=2.94E-12 time=9.071\n"
     ]
    },
    {
     "name": "stdout",
     "output_type": "stream",
     "text": [
      "After sweep 8 energy=-6.285634566497411  maxlinkdim=128 maxerr=1.93E-12 time=8.170\n"
     ]
    },
    {
     "name": "stdout",
     "output_type": "stream",
     "text": [
      "After sweep 9 energy=-6.286017603516671  maxlinkdim=128 maxerr=1.02E-12 time=8.064\n"
     ]
    },
    {
     "name": "stdout",
     "output_type": "stream",
     "text": [
      "After sweep 10 energy=-6.286303966182974  maxlinkdim=128 maxerr=5.94E-13 time=8.475\n"
     ]
    },
    {
     "name": "stdout",
     "output_type": "stream",
     "text": [
      "After sweep 11 energy=-6.286528054730367  maxlinkdim=128 maxerr=4.69E-13 time=7.958\n"
     ]
    },
    {
     "name": "stdout",
     "output_type": "stream",
     "text": [
      "After sweep 12 energy=-6.286710737208748  maxlinkdim=128 maxerr=3.39E-13 time=8.253\n"
     ]
    },
    {
     "name": "stdout",
     "output_type": "stream",
     "text": [
      "After sweep 13 energy=-6.286853021154153  maxlinkdim=128 maxerr=2.92E-13 time=8.398\n"
     ]
    },
    {
     "name": "stdout",
     "output_type": "stream",
     "text": [
      "After sweep 14 energy=-6.286968787763248  maxlinkdim=128 maxerr=2.46E-13 time=8.217\n"
     ]
    },
    {
     "name": "stdout",
     "output_type": "stream",
     "text": [
      "After sweep 15 energy=-6.287059743658288  maxlinkdim=128 maxerr=1.35E-13 time=8.490\n"
     ]
    },
    {
     "name": "stdout",
     "output_type": "stream",
     "text": [
      "After sweep 16 energy=-6.2871329608145645  maxlinkdim=128 maxerr=8.26E-14 time=8.358\n"
     ]
    },
    {
     "name": "stdout",
     "output_type": "stream",
     "text": [
      "After sweep 17 energy=-6.287188725626244  maxlinkdim=128 maxerr=9.50E-14 time=9.175\n"
     ]
    },
    {
     "name": "stdout",
     "output_type": "stream",
     "text": [
      "After sweep 18 energy=-6.287230184368578  maxlinkdim=128 maxerr=1.22E-13 time=9.706\n"
     ]
    },
    {
     "name": "stdout",
     "output_type": "stream",
     "text": [
      "After sweep 19 energy=-6.2872656092771315  maxlinkdim=128 maxerr=7.10E-14 time=10.349\n"
     ]
    },
    {
     "name": "stdout",
     "output_type": "stream",
     "text": [
      "After sweep 20 energy=-6.287296260694589  maxlinkdim=128 maxerr=4.21E-14 time=9.324\n"
     ]
    },
    {
     "name": "stdout",
     "output_type": "stream",
     "text": [
      "After sweep 21 energy=-6.28732041184054  maxlinkdim=128 maxerr=4.01E-14 time=8.638\n"
     ]
    },
    {
     "name": "stdout",
     "output_type": "stream",
     "text": [
      "After sweep 22 energy=-6.287343393121995  maxlinkdim=128 maxerr=4.52E-14 time=8.970\n"
     ]
    },
    {
     "name": "stdout",
     "output_type": "stream",
     "text": [
      "After sweep 23 energy=-6.2873633088585095  maxlinkdim=128 maxerr=1.16E-13 time=9.376\n"
     ]
    },
    {
     "name": "stdout",
     "output_type": "stream",
     "text": [
      "After sweep 24 energy=-6.287380841802319  maxlinkdim=128 maxerr=1.46E-14 time=8.273\n"
     ]
    },
    {
     "name": "stdout",
     "output_type": "stream",
     "text": [
      "After sweep 25 energy=-6.287396152389341  maxlinkdim=128 maxerr=8.93E-15 time=8.039\n"
     ]
    },
    {
     "name": "stdout",
     "output_type": "stream",
     "text": [
      "After sweep 26 energy=-6.287409858628982  maxlinkdim=128 maxerr=1.92E-14 time=7.630\n"
     ]
    },
    {
     "name": "stdout",
     "output_type": "stream",
     "text": [
      "After sweep 27 energy=-6.287423199321967  maxlinkdim=128 maxerr=1.90E-14 time=7.668\n"
     ]
    },
    {
     "name": "stdout",
     "output_type": "stream",
     "text": [
      "After sweep 28 energy=-6.28743357787705  maxlinkdim=128 maxerr=1.17E-14 time=7.966\n"
     ]
    },
    {
     "name": "stdout",
     "output_type": "stream",
     "text": [
      "After sweep 29 energy=-6.287441576958777  maxlinkdim=128 maxerr=4.24E-15 time=7.857\n"
     ]
    },
    {
     "name": "stdout",
     "output_type": "stream",
     "text": [
      "After sweep 30 energy=-6.287449630288559  maxlinkdim=128 maxerr=2.96E-15 time=7.444\n"
     ]
    },
    {
     "name": "stdout",
     "output_type": "stream",
     "text": [
      "After sweep 31 energy=-6.287458547854532  maxlinkdim=128 maxerr=3.75E-15 time=8.179\n"
     ]
    },
    {
     "name": "stdout",
     "output_type": "stream",
     "text": [
      "After sweep 32 energy=-6.287464014735699  maxlinkdim=128 maxerr=1.81E-15 time=8.031\n"
     ]
    },
    {
     "name": "stdout",
     "output_type": "stream",
     "text": [
      "After sweep 33 energy=-6.287468400336058  maxlinkdim=127 maxerr=9.99E-16 time=8.008\n"
     ]
    },
    {
     "name": "stdout",
     "output_type": "stream",
     "text": [
      "After sweep 34 energy=-6.2874724029796125  maxlinkdim=125 maxerr=9.99E-16 time=7.577\n"
     ]
    },
    {
     "name": "stdout",
     "output_type": "stream",
     "text": [
      "After sweep 35 energy=-6.287476228439706  maxlinkdim=128 maxerr=1.00E-15 time=8.218\n"
     ]
    },
    {
     "name": "stdout",
     "output_type": "stream",
     "text": [
      "After sweep 36 energy=-6.287479834725791  maxlinkdim=128 maxerr=1.63E-15 time=7.721\n"
     ]
    },
    {
     "name": "stdout",
     "output_type": "stream",
     "text": [
      "After sweep 37 energy=-6.287482672781658  maxlinkdim=128 maxerr=9.99E-16 time=7.568\n"
     ]
    },
    {
     "name": "stdout",
     "output_type": "stream",
     "text": [
      "After sweep 38 energy=-6.287485123396873  maxlinkdim=121 maxerr=1.00E-15 time=7.195\n"
     ]
    },
    {
     "name": "stdout",
     "output_type": "stream",
     "text": [
      "After sweep 39 energy=-6.287488314817617  maxlinkdim=124 maxerr=1.00E-15 time=7.113\n"
     ]
    },
    {
     "name": "stdout",
     "output_type": "stream",
     "text": [
      "After sweep 40 energy=-6.287490617418498  maxlinkdim=113 maxerr=9.99E-16 time=7.281\n"
     ]
    },
    {
     "name": "stdout",
     "output_type": "stream",
     "text": [
      "After sweep 41 energy=-6.287492279403615  maxlinkdim=111 maxerr=9.99E-16 time=8.119\n"
     ]
    },
    {
     "name": "stdout",
     "output_type": "stream",
     "text": [
      "After sweep 42 energy=-6.2874937894895675  maxlinkdim=104 maxerr=9.99E-16 time=6.739\n"
     ]
    },
    {
     "name": "stdout",
     "output_type": "stream",
     "text": [
      "After sweep 43 energy=-6.287495197234106  maxlinkdim=107 maxerr=9.99E-16 time=6.723\n"
     ]
    },
    {
     "name": "stdout",
     "output_type": "stream",
     "text": [
      "After sweep 44 energy=-6.2874962425137895  maxlinkdim=104 maxerr=9.98E-16 time=6.241\n"
     ]
    },
    {
     "name": "stdout",
     "output_type": "stream",
     "text": [
      "After sweep 45 energy=-6.287497300505499  maxlinkdim=99 maxerr=9.97E-16 time=7.160\n"
     ]
    },
    {
     "name": "stdout",
     "output_type": "stream",
     "text": [
      "After sweep 46 energy=-6.287498137082316  maxlinkdim=97 maxerr=9.99E-16 time=6.652\n"
     ]
    },
    {
     "name": "stdout",
     "output_type": "stream",
     "text": [
      "After sweep 47 energy=-6.2874989100531495  maxlinkdim=94 maxerr=1.00E-15 time=6.585\n"
     ]
    },
    {
     "name": "stdout",
     "output_type": "stream",
     "text": [
      "After sweep 48 energy=-6.287499609889307  maxlinkdim=91 maxerr=1.00E-15 time=6.571\n"
     ]
    },
    {
     "name": "stdout",
     "output_type": "stream",
     "text": [
      "After sweep 49 energy=-6.287500155059846  maxlinkdim=91 maxerr=9.99E-16 time=6.543\n"
     ]
    },
    {
     "name": "stdout",
     "output_type": "stream",
     "text": [
      "After sweep 50 energy=-6.287500643044329  maxlinkdim=90 maxerr=9.99E-16 time=6.538\n"
     ]
    },
    {
     "name": "stdout",
     "output_type": "stream",
     "text": [
      "After sweep 51 energy=-6.287501115537892  maxlinkdim=100 maxerr=9.99E-16 time=6.547\n"
     ]
    },
    {
     "name": "stdout",
     "output_type": "stream",
     "text": [
      "After sweep 52 energy=-6.287501557508557  maxlinkdim=88 maxerr=9.99E-16 time=6.600\n"
     ]
    },
    {
     "name": "stdout",
     "output_type": "stream",
     "text": [
      "After sweep 53 energy=-6.287502005608806  maxlinkdim=89 maxerr=9.97E-16 time=6.893\n"
     ]
    },
    {
     "name": "stdout",
     "output_type": "stream",
     "text": [
      "After sweep 54 energy=-6.2875023552055325  maxlinkdim=87 maxerr=1.00E-15 time=6.802\n"
     ]
    },
    {
     "name": "stdout",
     "output_type": "stream",
     "text": [
      "After sweep 55 energy=-6.2875032327907805  maxlinkdim=122 maxerr=1.00E-15 time=6.892\n"
     ]
    },
    {
     "name": "stdout",
     "output_type": "stream",
     "text": [
      "After sweep 56 energy=-6.287503490797606  maxlinkdim=93 maxerr=9.96E-16 time=7.079\n"
     ]
    },
    {
     "name": "stdout",
     "output_type": "stream",
     "text": [
      "After sweep 57 energy=-6.287503741905306  maxlinkdim=106 maxerr=1.00E-15 time=6.919\n"
     ]
    },
    {
     "name": "stdout",
     "output_type": "stream",
     "text": [
      "After sweep 58 energy=-6.287503930052727  maxlinkdim=103 maxerr=9.99E-16 time=7.316\n"
     ]
    },
    {
     "name": "stdout",
     "output_type": "stream",
     "text": [
      "After sweep 59 energy=-6.2875040332428815  maxlinkdim=87 maxerr=1.00E-15 time=6.971\n"
     ]
    },
    {
     "name": "stdout",
     "output_type": "stream",
     "text": [
      "After sweep 60 energy=-6.28750410800567  maxlinkdim=87 maxerr=1.00E-15 time=7.036\n"
     ]
    },
    {
     "name": "stdout",
     "output_type": "stream",
     "text": [
      "After sweep 61 energy=-6.28750417647402  maxlinkdim=86 maxerr=1.00E-15 time=7.037\n"
     ]
    },
    {
     "name": "stdout",
     "output_type": "stream",
     "text": [
      "After sweep 62 energy=-6.287504247160485  maxlinkdim=99 maxerr=9.99E-16 time=7.003\n"
     ]
    },
    {
     "name": "stdout",
     "output_type": "stream",
     "text": [
      "After sweep 63 energy=-6.287504373429066  maxlinkdim=124 maxerr=9.99E-16 time=7.300\n"
     ]
    },
    {
     "name": "stdout",
     "output_type": "stream",
     "text": [
      "After sweep 64 energy=-6.287504446783283  maxlinkdim=94 maxerr=9.99E-16 time=7.714\n"
     ]
    },
    {
     "name": "stdout",
     "output_type": "stream",
     "text": [
      "After sweep 65 energy=-6.287504481979284  maxlinkdim=91 maxerr=1.00E-15 time=6.636\n"
     ]
    },
    {
     "name": "stdout",
     "output_type": "stream",
     "text": [
      "After sweep 66 energy=-6.287504505421592  maxlinkdim=89 maxerr=1.00E-15 time=6.678\n"
     ]
    },
    {
     "name": "stdout",
     "output_type": "stream",
     "text": [
      "After sweep 67 energy=-6.287504526936604  maxlinkdim=88 maxerr=9.96E-16 time=6.428\n"
     ]
    },
    {
     "name": "stdout",
     "output_type": "stream",
     "text": [
      "After sweep 68 energy=-6.287504553570721  maxlinkdim=105 maxerr=9.98E-16 time=6.462\n"
     ]
    },
    {
     "name": "stdout",
     "output_type": "stream",
     "text": [
      "After sweep 69 energy=-6.287504569675697  maxlinkdim=93 maxerr=9.98E-16 time=6.636\n"
     ]
    },
    {
     "name": "stdout",
     "output_type": "stream",
     "text": [
      "After sweep 70 energy=-6.287504580004259  maxlinkdim=90 maxerr=9.99E-16 time=6.869\n"
     ]
    },
    {
     "name": "stdout",
     "output_type": "stream",
     "text": [
      "After sweep 71 energy=-6.287504593530441  maxlinkdim=103 maxerr=1.00E-15 time=6.972\n"
     ]
    },
    {
     "name": "stdout",
     "output_type": "stream",
     "text": [
      "After sweep 72 energy=-6.287504602433499  maxlinkdim=98 maxerr=9.98E-16 time=6.826\n"
     ]
    },
    {
     "name": "stdout",
     "output_type": "stream",
     "text": [
      "After sweep 73 energy=-6.287504610067387  maxlinkdim=104 maxerr=1.00E-15 time=6.798\n"
     ]
    },
    {
     "name": "stdout",
     "output_type": "stream",
     "text": [
      "After sweep 74 energy=-6.287504616401078  maxlinkdim=95 maxerr=9.99E-16 time=6.604\n"
     ]
    },
    {
     "name": "stdout",
     "output_type": "stream",
     "text": [
      "After sweep 75 energy=-6.287504624506178  maxlinkdim=102 maxerr=9.98E-16 time=6.823\n"
     ]
    },
    {
     "name": "stdout",
     "output_type": "stream",
     "text": [
      "After sweep 76 energy=-6.287504627941054  maxlinkdim=100 maxerr=9.99E-16 time=7.057\n"
     ]
    },
    {
     "name": "stdout",
     "output_type": "stream",
     "text": [
      "After sweep 77 energy=-6.287504629991626  maxlinkdim=95 maxerr=9.99E-16 time=7.241\n"
     ]
    },
    {
     "name": "stdout",
     "output_type": "stream",
     "text": [
      "After sweep 78 energy=-6.287504631776128  maxlinkdim=97 maxerr=9.98E-16 time=7.180\n"
     ]
    },
    {
     "name": "stdout",
     "output_type": "stream",
     "text": [
      "After sweep 79 energy=-6.287504632907807  maxlinkdim=93 maxerr=9.99E-16 time=7.098\n"
     ]
    },
    {
     "name": "stdout",
     "output_type": "stream",
     "text": [
      "After sweep 80 energy=-6.287504633636434  maxlinkdim=92 maxerr=1.00E-15 time=7.349\n"
     ]
    },
    {
     "name": "stdout",
     "output_type": "stream",
     "text": [
      "After sweep 81 energy=-6.287504634260153  maxlinkdim=111 maxerr=9.99E-16 time=7.275\n"
     ]
    },
    {
     "name": "stdout",
     "output_type": "stream",
     "text": [
      "After sweep 82 energy=-6.287504634793977  maxlinkdim=105 maxerr=9.99E-16 time=7.546\n"
     ]
    },
    {
     "name": "stdout",
     "output_type": "stream",
     "text": [
      "After sweep 83 energy=-6.2875046351471715  maxlinkdim=98 maxerr=1.00E-15 time=7.536\n"
     ]
    },
    {
     "name": "stdout",
     "output_type": "stream",
     "text": [
      "After sweep 84 energy=-6.287504635323979  maxlinkdim=93 maxerr=1.00E-15 time=7.601\n"
     ]
    },
    {
     "name": "stdout",
     "output_type": "stream",
     "text": [
      "After sweep 85 energy=-6.287504635465656  maxlinkdim=92 maxerr=9.99E-16 time=7.697\n"
     ]
    },
    {
     "name": "stdout",
     "output_type": "stream",
     "text": [
      "After sweep 86 energy=-6.287504635558499  maxlinkdim=99 maxerr=1.00E-15 time=7.774\n"
     ]
    },
    {
     "name": "stdout",
     "output_type": "stream",
     "text": [
      "Energy difference less than 1.0e-10, stopping DMRG"
     ]
    },
    {
     "name": "stdout",
     "output_type": "stream",
     "text": [
      "\n",
      "After sweep 1 energy=-7.222556026053622  maxlinkdim=18 maxerr=5.42E-43 time=1.900\n"
     ]
    },
    {
     "name": "stdout",
     "output_type": "stream",
     "text": [
      "After sweep 2 energy=-7.265986954686145  maxlinkdim=127 maxerr=9.98E-16 time=6.158\n"
     ]
    },
    {
     "name": "stdout",
     "output_type": "stream",
     "text": [
      "After sweep 3 energy=-7.272061468156148  maxlinkdim=128 maxerr=5.69E-13 time=7.162\n"
     ]
    },
    {
     "name": "stdout",
     "output_type": "stream",
     "text": [
      "After sweep 4 energy=-7.276676698843266  maxlinkdim=128 maxerr=2.97E-12 time=7.560\n"
     ]
    },
    {
     "name": "stdout",
     "output_type": "stream",
     "text": [
      "After sweep 5 energy=-7.280675274514508  maxlinkdim=128 maxerr=9.79E-12 time=7.881\n"
     ]
    },
    {
     "name": "stdout",
     "output_type": "stream",
     "text": [
      "After sweep 6 energy=-7.2841721693967205  maxlinkdim=128 maxerr=2.40E-11 time=7.955\n"
     ]
    },
    {
     "name": "stdout",
     "output_type": "stream",
     "text": [
      "After sweep 7 energy=-7.286716145451295  maxlinkdim=128 maxerr=1.99E-11 time=8.064\n"
     ]
    },
    {
     "name": "stdout",
     "output_type": "stream",
     "text": [
      "After sweep 8 energy=-7.28875596789265  maxlinkdim=128 maxerr=1.10E-11 time=8.141\n"
     ]
    },
    {
     "name": "stdout",
     "output_type": "stream",
     "text": [
      "After sweep 9 energy=-7.290432859232451  maxlinkdim=128 maxerr=5.55E-12 time=8.442\n"
     ]
    },
    {
     "name": "stdout",
     "output_type": "stream",
     "text": [
      "After sweep 10 energy=-7.291763753940068  maxlinkdim=128 maxerr=4.21E-12 time=8.533\n"
     ]
    },
    {
     "name": "stdout",
     "output_type": "stream",
     "text": [
      "After sweep 11 energy=-7.292894528985182  maxlinkdim=128 maxerr=2.93E-12 time=8.455\n"
     ]
    },
    {
     "name": "stdout",
     "output_type": "stream",
     "text": [
      "After sweep 12 energy=-7.29386855570349  maxlinkdim=128 maxerr=1.64E-12 time=8.658\n"
     ]
    },
    {
     "name": "stdout",
     "output_type": "stream",
     "text": [
      "After sweep 13 energy=-7.294711474203897  maxlinkdim=128 maxerr=1.12E-12 time=8.659\n"
     ]
    },
    {
     "name": "stdout",
     "output_type": "stream",
     "text": [
      "After sweep 14 energy=-7.295440840680817  maxlinkdim=128 maxerr=8.16E-13 time=8.559\n"
     ]
    },
    {
     "name": "stdout",
     "output_type": "stream",
     "text": [
      "After sweep 15 energy=-7.296138693459683  maxlinkdim=128 maxerr=9.73E-13 time=8.747\n"
     ]
    },
    {
     "name": "stdout",
     "output_type": "stream",
     "text": [
      "After sweep 16 energy=-7.2967470918503095  maxlinkdim=128 maxerr=9.46E-13 time=8.951\n"
     ]
    },
    {
     "name": "stdout",
     "output_type": "stream",
     "text": [
      "After sweep 17 energy=-7.297293720961845  maxlinkdim=128 maxerr=1.13E-12 time=10.005\n"
     ]
    },
    {
     "name": "stdout",
     "output_type": "stream",
     "text": [
      "After sweep 18 energy=-7.29773215159247  maxlinkdim=128 maxerr=9.19E-13 time=8.440\n"
     ]
    },
    {
     "name": "stdout",
     "output_type": "stream",
     "text": [
      "After sweep 19 energy=-7.298119246927815  maxlinkdim=128 maxerr=8.48E-13 time=8.528\n"
     ]
    },
    {
     "name": "stdout",
     "output_type": "stream",
     "text": [
      "After sweep 20 energy=-7.298509211443864  maxlinkdim=128 maxerr=7.51E-13 time=9.334\n"
     ]
    },
    {
     "name": "stdout",
     "output_type": "stream",
     "text": [
      "After sweep 21 energy=-7.298845725388276  maxlinkdim=128 maxerr=4.12E-13 time=10.521\n"
     ]
    },
    {
     "name": "stdout",
     "output_type": "stream",
     "text": [
      "After sweep 22 energy=-7.299085090657077  maxlinkdim=128 maxerr=3.70E-13 time=10.591\n"
     ]
    },
    {
     "name": "stdout",
     "output_type": "stream",
     "text": [
      "After sweep 23 energy=-7.299316487781627  maxlinkdim=128 maxerr=2.01E-13 time=10.114\n"
     ]
    },
    {
     "name": "stdout",
     "output_type": "stream",
     "text": [
      "After sweep 24 energy=-7.299524080268915  maxlinkdim=128 maxerr=1.59E-13 time=10.690\n"
     ]
    },
    {
     "name": "stdout",
     "output_type": "stream",
     "text": [
      "After sweep 25 energy=-7.299739181979269  maxlinkdim=128 maxerr=1.72E-13 time=10.361\n"
     ]
    },
    {
     "name": "stdout",
     "output_type": "stream",
     "text": [
      "After sweep 26 energy=-7.2999352293903605  maxlinkdim=128 maxerr=1.10E-13 time=11.036\n"
     ]
    },
    {
     "name": "stdout",
     "output_type": "stream",
     "text": [
      "After sweep 27 energy=-7.300102442666885  maxlinkdim=128 maxerr=1.08E-13 time=10.240\n"
     ]
    },
    {
     "name": "stdout",
     "output_type": "stream",
     "text": [
      "After sweep 28 energy=-7.300243409304222  maxlinkdim=128 maxerr=1.54E-13 time=10.396\n"
     ]
    },
    {
     "name": "stdout",
     "output_type": "stream",
     "text": [
      "After sweep 29 energy=-7.3003762180264085  maxlinkdim=128 maxerr=1.12E-13 time=10.513\n"
     ]
    },
    {
     "name": "stdout",
     "output_type": "stream",
     "text": [
      "After sweep 30 energy=-7.30050698413226  maxlinkdim=128 maxerr=8.14E-14 time=10.550\n"
     ]
    },
    {
     "name": "stdout",
     "output_type": "stream",
     "text": [
      "After sweep 31 energy=-7.30063679240434  maxlinkdim=128 maxerr=6.65E-14 time=9.826\n"
     ]
    },
    {
     "name": "stdout",
     "output_type": "stream",
     "text": [
      "After sweep 32 energy=-7.300760680151476  maxlinkdim=128 maxerr=5.53E-14 time=9.055\n"
     ]
    },
    {
     "name": "stdout",
     "output_type": "stream",
     "text": [
      "After sweep 33 energy=-7.300880440635169  maxlinkdim=128 maxerr=5.43E-14 time=8.860\n"
     ]
    },
    {
     "name": "stdout",
     "output_type": "stream",
     "text": [
      "After sweep 34 energy=-7.300999965456668  maxlinkdim=128 maxerr=3.07E-14 time=9.146\n"
     ]
    },
    {
     "name": "stdout",
     "output_type": "stream",
     "text": [
      "After sweep 35 energy=-7.301109728942046  maxlinkdim=128 maxerr=3.37E-14 time=9.342\n"
     ]
    },
    {
     "name": "stdout",
     "output_type": "stream",
     "text": [
      "After sweep 36 energy=-7.301222983148747  maxlinkdim=128 maxerr=4.85E-14 time=9.135\n"
     ]
    },
    {
     "name": "stdout",
     "output_type": "stream",
     "text": [
      "After sweep 37 energy=-7.30133669949653  maxlinkdim=128 maxerr=3.20E-14 time=9.722\n"
     ]
    },
    {
     "name": "stdout",
     "output_type": "stream",
     "text": [
      "After sweep 38 energy=-7.301461021639636  maxlinkdim=128 maxerr=7.26E-14 time=9.578\n"
     ]
    },
    {
     "name": "stdout",
     "output_type": "stream",
     "text": [
      "After sweep 39 energy=-7.301547560222925  maxlinkdim=128 maxerr=1.22E-14 time=9.649\n"
     ]
    },
    {
     "name": "stdout",
     "output_type": "stream",
     "text": [
      "After sweep 40 energy=-7.301652951296638  maxlinkdim=128 maxerr=1.98E-14 time=9.701\n"
     ]
    },
    {
     "name": "stdout",
     "output_type": "stream",
     "text": [
      "After sweep 41 energy=-7.301765330541376  maxlinkdim=128 maxerr=6.24E-14 time=9.890\n"
     ]
    },
    {
     "name": "stdout",
     "output_type": "stream",
     "text": [
      "After sweep 42 energy=-7.301847372931725  maxlinkdim=128 maxerr=1.79E-14 time=9.784\n"
     ]
    },
    {
     "name": "stdout",
     "output_type": "stream",
     "text": [
      "After sweep 43 energy=-7.3019248507392  maxlinkdim=128 maxerr=8.03E-15 time=9.884\n"
     ]
    },
    {
     "name": "stdout",
     "output_type": "stream",
     "text": [
      "After sweep 44 energy=-7.302002405679578  maxlinkdim=128 maxerr=6.28E-15 time=9.668\n"
     ]
    },
    {
     "name": "stdout",
     "output_type": "stream",
     "text": [
      "After sweep 45 energy=-7.302084905696592  maxlinkdim=128 maxerr=1.22E-14 time=10.297\n"
     ]
    },
    {
     "name": "stdout",
     "output_type": "stream",
     "text": [
      "After sweep 46 energy=-7.302172958991978  maxlinkdim=128 maxerr=8.44E-15 time=9.193\n"
     ]
    },
    {
     "name": "stdout",
     "output_type": "stream",
     "text": [
      "After sweep 47 energy=-7.30224548156223  maxlinkdim=128 maxerr=1.23E-14 time=9.320\n"
     ]
    },
    {
     "name": "stdout",
     "output_type": "stream",
     "text": [
      "After sweep 48 energy=-7.302311833924136  maxlinkdim=128 maxerr=5.65E-15 time=9.479\n"
     ]
    },
    {
     "name": "stdout",
     "output_type": "stream",
     "text": [
      "After sweep 49 energy=-7.302380827364238  maxlinkdim=128 maxerr=8.46E-15 time=9.898\n"
     ]
    },
    {
     "name": "stdout",
     "output_type": "stream",
     "text": [
      "After sweep 50 energy=-7.302453044627327  maxlinkdim=128 maxerr=2.01E-14 time=9.434\n"
     ]
    },
    {
     "name": "stdout",
     "output_type": "stream",
     "text": [
      "After sweep 51 energy=-7.302526483654394  maxlinkdim=128 maxerr=5.60E-14 time=10.244\n"
     ]
    },
    {
     "name": "stdout",
     "output_type": "stream",
     "text": [
      "After sweep 52 energy=-7.302584745123808  maxlinkdim=128 maxerr=9.09E-15 time=9.987\n"
     ]
    },
    {
     "name": "stdout",
     "output_type": "stream",
     "text": [
      "After sweep 53 energy=-7.302654661990215  maxlinkdim=128 maxerr=2.08E-14 time=9.703\n"
     ]
    },
    {
     "name": "stdout",
     "output_type": "stream",
     "text": [
      "After sweep 54 energy=-7.302735538225665  maxlinkdim=128 maxerr=3.38E-14 time=9.959\n"
     ]
    },
    {
     "name": "stdout",
     "output_type": "stream",
     "text": [
      "After sweep 55 energy=-7.302792855994945  maxlinkdim=128 maxerr=1.08E-14 time=10.119\n"
     ]
    },
    {
     "name": "stdout",
     "output_type": "stream",
     "text": [
      "After sweep 56 energy=-7.302851962838769  maxlinkdim=128 maxerr=2.80E-14 time=10.181\n"
     ]
    },
    {
     "name": "stdout",
     "output_type": "stream",
     "text": [
      "After sweep 57 energy=-7.302902987415214  maxlinkdim=128 maxerr=6.64E-15 time=9.692\n"
     ]
    },
    {
     "name": "stdout",
     "output_type": "stream",
     "text": [
      "After sweep 58 energy=-7.3029516070767135  maxlinkdim=128 maxerr=9.31E-15 time=10.053\n"
     ]
    },
    {
     "name": "stdout",
     "output_type": "stream",
     "text": [
      "After sweep 59 energy=-7.303000690858186  maxlinkdim=128 maxerr=7.49E-15 time=10.630\n"
     ]
    },
    {
     "name": "stdout",
     "output_type": "stream",
     "text": [
      "After sweep 60 energy=-7.30305631772639  maxlinkdim=128 maxerr=3.87E-14 time=9.057\n"
     ]
    },
    {
     "name": "stdout",
     "output_type": "stream",
     "text": [
      "After sweep 61 energy=-7.303106177446223  maxlinkdim=128 maxerr=9.02E-15 time=9.585\n"
     ]
    },
    {
     "name": "stdout",
     "output_type": "stream",
     "text": [
      "After sweep 62 energy=-7.3031515353451955  maxlinkdim=128 maxerr=7.69E-15 time=9.276\n"
     ]
    },
    {
     "name": "stdout",
     "output_type": "stream",
     "text": [
      "After sweep 63 energy=-7.303193906735312  maxlinkdim=128 maxerr=3.91E-15 time=9.498\n"
     ]
    },
    {
     "name": "stdout",
     "output_type": "stream",
     "text": [
      "After sweep 64 energy=-7.303242957530665  maxlinkdim=128 maxerr=5.79E-15 time=9.178\n"
     ]
    },
    {
     "name": "stdout",
     "output_type": "stream",
     "text": [
      "After sweep 65 energy=-7.3032932202670295  maxlinkdim=128 maxerr=5.32E-15 time=9.342\n"
     ]
    },
    {
     "name": "stdout",
     "output_type": "stream",
     "text": [
      "After sweep 66 energy=-7.303340335630249  maxlinkdim=128 maxerr=3.80E-15 time=9.464\n"
     ]
    },
    {
     "name": "stdout",
     "output_type": "stream",
     "text": [
      "After sweep 67 energy=-7.303384558177383  maxlinkdim=128 maxerr=2.05E-15 time=9.803\n"
     ]
    },
    {
     "name": "stdout",
     "output_type": "stream",
     "text": [
      "After sweep 68 energy=-7.303426542234093  maxlinkdim=128 maxerr=2.11E-15 time=9.503\n"
     ]
    },
    {
     "name": "stdout",
     "output_type": "stream",
     "text": [
      "After sweep 69 energy=-7.303472944757019  maxlinkdim=128 maxerr=2.46E-15 time=9.577\n"
     ]
    },
    {
     "name": "stdout",
     "output_type": "stream",
     "text": [
      "After sweep 70 energy=-7.303527841354621  maxlinkdim=128 maxerr=5.88E-15 time=9.634\n"
     ]
    },
    {
     "name": "stdout",
     "output_type": "stream",
     "text": [
      "After sweep 71 energy=-7.303576339499826  maxlinkdim=128 maxerr=4.93E-15 time=9.894\n"
     ]
    },
    {
     "name": "stdout",
     "output_type": "stream",
     "text": [
      "After sweep 72 energy=-7.3036176726973006  maxlinkdim=125 maxerr=1.32E-15 time=9.881\n"
     ]
    },
    {
     "name": "stdout",
     "output_type": "stream",
     "text": [
      "After sweep 73 energy=-7.303659272980728  maxlinkdim=126 maxerr=9.99E-16 time=9.810\n"
     ]
    },
    {
     "name": "stdout",
     "output_type": "stream",
     "text": [
      "After sweep 74 energy=-7.3036987913620885  maxlinkdim=128 maxerr=1.12E-15 time=10.746\n"
     ]
    },
    {
     "name": "stdout",
     "output_type": "stream",
     "text": [
      "After sweep 75 energy=-7.303739208978098  maxlinkdim=128 maxerr=1.48E-15 time=9.352\n"
     ]
    },
    {
     "name": "stdout",
     "output_type": "stream",
     "text": [
      "After sweep 76 energy=-7.3037941395787875  maxlinkdim=128 maxerr=3.15E-15 time=9.372\n"
     ]
    },
    {
     "name": "stdout",
     "output_type": "stream",
     "text": [
      "After sweep 77 energy=-7.303831657326184  maxlinkdim=128 maxerr=1.15E-15 time=9.610\n"
     ]
    },
    {
     "name": "stdout",
     "output_type": "stream",
     "text": [
      "After sweep 78 energy=-7.303872838645103  maxlinkdim=128 maxerr=2.85E-15 time=9.371\n"
     ]
    },
    {
     "name": "stdout",
     "output_type": "stream",
     "text": [
      "After sweep 79 energy=-7.303905360102658  maxlinkdim=128 maxerr=1.82E-15 time=9.202\n"
     ]
    },
    {
     "name": "stdout",
     "output_type": "stream",
     "text": [
      "After sweep 80 energy=-7.303935986124454  maxlinkdim=128 maxerr=2.87E-15 time=9.246\n"
     ]
    },
    {
     "name": "stdout",
     "output_type": "stream",
     "text": [
      "After sweep 81 energy=-7.3039702712725845  maxlinkdim=128 maxerr=2.78E-15 time=9.093\n"
     ]
    },
    {
     "name": "stdout",
     "output_type": "stream",
     "text": [
      "After sweep 82 energy=-7.304007097402826  maxlinkdim=128 maxerr=7.15E-15 time=9.440\n"
     ]
    },
    {
     "name": "stdout",
     "output_type": "stream",
     "text": [
      "After sweep 83 energy=-7.304037590718401  maxlinkdim=128 maxerr=1.33E-14 time=9.676\n"
     ]
    },
    {
     "name": "stdout",
     "output_type": "stream",
     "text": [
      "After sweep 84 energy=-7.3040662320184095  maxlinkdim=128 maxerr=1.48E-15 time=9.633\n"
     ]
    },
    {
     "name": "stdout",
     "output_type": "stream",
     "text": [
      "After sweep 85 energy=-7.304100092038069  maxlinkdim=128 maxerr=3.84E-15 time=10.387\n"
     ]
    },
    {
     "name": "stdout",
     "output_type": "stream",
     "text": [
      "After sweep 86 energy=-7.304159124245225  maxlinkdim=128 maxerr=7.44E-15 time=10.031\n"
     ]
    },
    {
     "name": "stdout",
     "output_type": "stream",
     "text": [
      "After sweep 87 energy=-7.3041929165847055  maxlinkdim=128 maxerr=2.26E-14 time=10.316\n"
     ]
    },
    {
     "name": "stdout",
     "output_type": "stream",
     "text": [
      "After sweep 88 energy=-7.304221296385272  maxlinkdim=128 maxerr=2.74E-15 time=10.063\n"
     ]
    },
    {
     "name": "stdout",
     "output_type": "stream",
     "text": [
      "After sweep 89 energy=-7.304247247428841  maxlinkdim=128 maxerr=4.37E-15 time=9.974\n"
     ]
    },
    {
     "name": "stdout",
     "output_type": "stream",
     "text": [
      "After sweep 90 energy=-7.304271772584284  maxlinkdim=128 maxerr=5.87E-15 time=10.750\n"
     ]
    },
    {
     "name": "stdout",
     "output_type": "stream",
     "text": [
      "After sweep 91 energy=-7.304298322595907  maxlinkdim=128 maxerr=3.23E-15 time=9.305\n"
     ]
    },
    {
     "name": "stdout",
     "output_type": "stream",
     "text": [
      "After sweep 92 energy=-7.304337197649712  maxlinkdim=128 maxerr=2.63E-14 time=8.704\n"
     ]
    },
    {
     "name": "stdout",
     "output_type": "stream",
     "text": [
      "After sweep 93 energy=-7.304367330244999  maxlinkdim=128 maxerr=1.86E-14 time=9.289\n"
     ]
    },
    {
     "name": "stdout",
     "output_type": "stream",
     "text": [
      "After sweep 94 energy=-7.304393960265727  maxlinkdim=128 maxerr=2.28E-13 time=9.687\n"
     ]
    },
    {
     "name": "stdout",
     "output_type": "stream",
     "text": [
      "After sweep 95 energy=-7.304421695139615  maxlinkdim=128 maxerr=2.14E-13 time=10.325\n"
     ]
    },
    {
     "name": "stdout",
     "output_type": "stream",
     "text": [
      "After sweep 96 energy=-7.304445876805099  maxlinkdim=124 maxerr=1.34E-14 time=9.742\n"
     ]
    },
    {
     "name": "stdout",
     "output_type": "stream",
     "text": [
      "After sweep 97 energy=-7.304476175627447  maxlinkdim=128 maxerr=1.36E-14 time=10.538\n"
     ]
    },
    {
     "name": "stdout",
     "output_type": "stream",
     "text": [
      "After sweep 98 energy=-7.304498866647085  maxlinkdim=128 maxerr=2.30E-15 time=10.367\n"
     ]
    },
    {
     "name": "stdout",
     "output_type": "stream",
     "text": [
      "After sweep 99 energy=-7.304524727959815  maxlinkdim=128 maxerr=3.24E-14 time=9.786\n"
     ]
    },
    {
     "name": "stdout",
     "output_type": "stream",
     "text": [
      "After sweep 100 energy=-7.304546289926631  maxlinkdim=125 maxerr=1.36E-15 time=9.778\n"
     ]
    },
    {
     "data": {
      "text/plain": [
       "129-element Vector{Float64}:\n",
       " 0.9977666092671009\n",
       " 1.0017263260484215\n",
       " 1.0002534995389993\n",
       " 0.9999378256618223\n",
       " 0.9998280676246388\n",
       " 0.9997545697665491\n",
       " 0.9996826849569395\n",
       " 0.999607407180728\n",
       " 0.9995276645274871\n",
       " 0.9994429366226294\n",
       " ⋮\n",
       " 0.9997736033575635\n",
       " 0.9998112860386402\n",
       " 0.999847049953759\n",
       " 0.9998830731185943\n",
       " 0.999924063072387\n",
       " 1.0000045533340782\n",
       " 1.0002997758414245\n",
       " 1.001752408944072\n",
       " 0.9977791550560291"
      ]
     },
     "metadata": {},
     "output_type": "display_data"
    }
   ],
   "source": [
    "density_MI = density_function(0.1, 1., 0., 129, convergence=1e-10, impurity_values=[0.0], impurity_sites=[65], impurity=true)\n",
    "density_MI_2 = density_function(0.1, 1., 0., 129, convergence=1e-10, impurity_values=[0.5], impurity_sites=[65], impurity=true)\n",
    "density_MI_3 = density_function(0.1, 1., 0., 129, convergence=1e-10, impurity_values=[1.0], impurity_sites=[65], impurity=true)\n",
    "density_MI_4 = density_function(0.1, 1., 0., 129, convergence=1e-10, impurity_values=[1.5], impurity_sites=[65], impurity=true)"
   ]
  },
  {
   "cell_type": "code",
   "execution_count": 3,
   "metadata": {},
   "outputs": [
    {
     "data": {
      "image/png": "[encoded data removed]",
      "image/svg+xml": [
       "<?xml version=\"1.0\" encoding=\"utf-8\"?>\n",
       "<svg xmlns=\"http://www.w3.org/2000/svg\" xmlns:xlink=\"http://www.w3.org/1999/xlink\" width=\"600\" height=\"400\" viewBox=\"0 0 2400 1600\">\n",
       "<defs>\n",
       "  <clipPath id=\"clip780\">\n",
       "    <rect x=\"0\" y=\"0\" width=\"2400\" height=\"1600\"/>\n",
       "  </clipPath>\n",
       "</defs>\n",
       "<path clip-path=\"url(#clip780)\" d=\"M0 1600 L2400 1600 L2400 0 L0 0  Z\" fill=\"#ffffff\" fill-rule=\"evenodd\" fill-opacity=\"1\"/>\n",
       "<defs>\n",
       "  <clipPath id=\"clip781\">\n",
       "    <rect x=\"480\" y=\"0\" width=\"1681\" height=\"1600\"/>\n",
       "  </clipPath>\n",
       "</defs>\n",
       "<path clip-path=\"url(#clip780)\" d=\"M185.927 1486.45 L2352.76 1486.45 L2352.76 47.2441 L185.927 47.2441  Z\" fill=\"#ffffff\" fill-rule=\"evenodd\" fill-opacity=\"1\"/>\n",
       "<defs>\n",
       "  <clipPath id=\"clip782\">\n",
       "    <rect x=\"185\" y=\"47\" width=\"2168\" height=\"1440\"/>\n",
       "  </clipPath>\n",
       "</defs>\n",
       "<polyline clip-path=\"url(#clip782)\" style=\"stroke:#000000; stroke-linecap:round; stroke-linejoin:round; stroke-width:2; stroke-opacity:0.1; fill:none\" points=\"231.282,1486.45 231.282,47.2441 \"/>\n",
       "<polyline clip-path=\"url(#clip782)\" style=\"stroke:#000000; stroke-linecap:round; stroke-linejoin:round; stroke-width:2; stroke-opacity:0.1; fill:none\" points=\"550.685,1486.45 550.685,47.2441 \"/>\n",
       "<polyline clip-path=\"url(#clip782)\" style=\"stroke:#000000; stroke-linecap:round; stroke-linejoin:round; stroke-width:2; stroke-opacity:0.1; fill:none\" points=\"870.088,1486.45 870.088,47.2441 \"/>\n",
       "<polyline clip-path=\"url(#clip782)\" style=\"stroke:#000000; stroke-linecap:round; stroke-linejoin:round; stroke-width:2; stroke-opacity:0.1; fill:none\" points=\"1189.49,1486.45 1189.49,47.2441 \"/>\n",
       "<polyline clip-path=\"url(#clip782)\" style=\"stroke:#000000; stroke-linecap:round; stroke-linejoin:round; stroke-width:2; stroke-opacity:0.1; fill:none\" points=\"1508.89,1486.45 1508.89,47.2441 \"/>\n",
       "<polyline clip-path=\"url(#clip782)\" style=\"stroke:#000000; stroke-linecap:round; stroke-linejoin:round; stroke-width:2; stroke-opacity:0.1; fill:none\" points=\"1828.3,1486.45 1828.3,47.2441 \"/>\n",
       "<polyline clip-path=\"url(#clip782)\" style=\"stroke:#000000; stroke-linecap:round; stroke-linejoin:round; stroke-width:2; stroke-opacity:0.1; fill:none\" points=\"2147.7,1486.45 2147.7,47.2441 \"/>\n",
       "<polyline clip-path=\"url(#clip780)\" style=\"stroke:#000000; stroke-linecap:round; stroke-linejoin:round; stroke-width:4; stroke-opacity:1; fill:none\" points=\"185.927,1486.45 2352.76,1486.45 \"/>\n",
       "<polyline clip-path=\"url(#clip780)\" style=\"stroke:#000000; stroke-linecap:round; stroke-linejoin:round; stroke-width:4; stroke-opacity:1; fill:none\" points=\"231.282,1486.45 231.282,1467.55 \"/>\n",
       "<polyline clip-path=\"url(#clip780)\" style=\"stroke:#000000; stroke-linecap:round; stroke-linejoin:round; stroke-width:4; stroke-opacity:1; fill:none\" points=\"550.685,1486.45 550.685,1467.55 \"/>\n",
       "<polyline clip-path=\"url(#clip780)\" style=\"stroke:#000000; stroke-linecap:round; stroke-linejoin:round; stroke-width:4; stroke-opacity:1; fill:none\" points=\"870.088,1486.45 870.088,1467.55 \"/>\n",
       "<polyline clip-path=\"url(#clip780)\" style=\"stroke:#000000; stroke-linecap:round; stroke-linejoin:round; stroke-width:4; stroke-opacity:1; fill:none\" points=\"1189.49,1486.45 1189.49,1467.55 \"/>\n",
       "<polyline clip-path=\"url(#clip780)\" style=\"stroke:#000000; stroke-linecap:round; stroke-linejoin:round; stroke-width:4; stroke-opacity:1; fill:none\" points=\"1508.89,1486.45 1508.89,1467.55 \"/>\n",
       "<polyline clip-path=\"url(#clip780)\" style=\"stroke:#000000; stroke-linecap:round; stroke-linejoin:round; stroke-width:4; stroke-opacity:1; fill:none\" points=\"1828.3,1486.45 1828.3,1467.55 \"/>\n",
       "<polyline clip-path=\"url(#clip780)\" style=\"stroke:#000000; stroke-linecap:round; stroke-linejoin:round; stroke-width:4; stroke-opacity:1; fill:none\" points=\"2147.7,1486.45 2147.7,1467.55 \"/>\n",
       "<path clip-path=\"url(#clip780)\" d=\"M231.282 1517.37 Q227.671 1517.37 225.842 1520.93 Q224.037 1524.47 224.037 1531.6 Q224.037 1538.71 225.842 1542.27 Q227.671 1545.82 231.282 1545.82 Q234.916 1545.82 236.722 1542.27 Q238.55 1538.71 238.55 1531.6 Q238.55 1524.47 236.722 1520.93 Q234.916 1517.37 231.282 1517.37 M231.282 1513.66 Q237.092 1513.66 240.148 1518.27 Q243.226 1522.85 243.226 1531.6 Q243.226 1540.33 240.148 1544.94 Q237.092 1549.52 231.282 1549.52 Q225.472 1549.52 222.393 1544.94 Q219.338 1540.33 219.338 1531.6 Q219.338 1522.85 222.393 1518.27 Q225.472 1513.66 231.282 1513.66 Z\" fill=\"#000000\" fill-rule=\"nonzero\" fill-opacity=\"1\" /><path clip-path=\"url(#clip780)\" d=\"M529.458 1544.91 L545.777 1544.91 L545.777 1548.85 L523.833 1548.85 L523.833 1544.91 Q526.495 1542.16 531.078 1537.53 Q535.685 1532.88 536.865 1531.53 Q539.111 1529.01 539.99 1527.27 Q540.893 1525.51 540.893 1523.82 Q540.893 1521.07 538.949 1519.33 Q537.028 1517.6 533.926 1517.6 Q531.727 1517.6 529.273 1518.36 Q526.842 1519.13 524.065 1520.68 L524.065 1515.95 Q526.889 1514.82 529.342 1514.24 Q531.796 1513.66 533.833 1513.66 Q539.203 1513.66 542.398 1516.35 Q545.592 1519.03 545.592 1523.52 Q545.592 1525.65 544.782 1527.57 Q543.995 1529.47 541.889 1532.07 Q541.31 1532.74 538.208 1535.95 Q535.106 1539.15 529.458 1544.91 Z\" fill=\"#000000\" fill-rule=\"nonzero\" fill-opacity=\"1\" /><path clip-path=\"url(#clip780)\" d=\"M565.592 1517.37 Q561.981 1517.37 560.152 1520.93 Q558.347 1524.47 558.347 1531.6 Q558.347 1538.71 560.152 1542.27 Q561.981 1545.82 565.592 1545.82 Q569.226 1545.82 571.032 1542.27 Q572.861 1538.71 572.861 1531.6 Q572.861 1524.47 571.032 1520.93 Q569.226 1517.37 565.592 1517.37 M565.592 1513.66 Q571.402 1513.66 574.458 1518.27 Q577.537 1522.85 577.537 1531.6 Q577.537 1540.33 574.458 1544.94 Q571.402 1549.52 565.592 1549.52 Q559.782 1549.52 556.703 1544.94 Q553.648 1540.33 553.648 1531.6 Q553.648 1522.85 556.703 1518.27 Q559.782 1513.66 565.592 1513.66 Z\" fill=\"#000000\" fill-rule=\"nonzero\" fill-opacity=\"1\" /><path clip-path=\"url(#clip780)\" d=\"M858.259 1518.36 L846.454 1536.81 L858.259 1536.81 L858.259 1518.36 M857.032 1514.29 L862.912 1514.29 L862.912 1536.81 L867.842 1536.81 L867.842 1540.7 L862.912 1540.7 L862.912 1548.85 L858.259 1548.85 L858.259 1540.7 L842.657 1540.7 L842.657 1536.19 L857.032 1514.29 Z\" fill=\"#000000\" fill-rule=\"nonzero\" fill-opacity=\"1\" /><path clip-path=\"url(#clip780)\" d=\"M885.574 1517.37 Q881.963 1517.37 880.134 1520.93 Q878.328 1524.47 878.328 1531.6 Q878.328 1538.71 880.134 1542.27 Q881.963 1545.82 885.574 1545.82 Q889.208 1545.82 891.014 1542.27 Q892.842 1538.71 892.842 1531.6 Q892.842 1524.47 891.014 1520.93 Q889.208 1517.37 885.574 1517.37 M885.574 1513.66 Q891.384 1513.66 894.439 1518.27 Q897.518 1522.85 897.518 1531.6 Q897.518 1540.33 894.439 1544.94 Q891.384 1549.52 885.574 1549.52 Q879.764 1549.52 876.685 1544.94 Q873.629 1540.33 873.629 1531.6 Q873.629 1522.85 876.685 1518.27 Q879.764 1513.66 885.574 1513.66 Z\" fill=\"#000000\" fill-rule=\"nonzero\" fill-opacity=\"1\" /><path clip-path=\"url(#clip780)\" d=\"M1174.9 1529.7 Q1171.75 1529.7 1169.9 1531.86 Q1168.07 1534.01 1168.07 1537.76 Q1168.07 1541.49 1169.9 1543.66 Q1171.75 1545.82 1174.9 1545.82 Q1178.04 1545.82 1179.87 1543.66 Q1181.72 1541.49 1181.72 1537.76 Q1181.72 1534.01 1179.87 1531.86 Q1178.04 1529.7 1174.9 1529.7 M1184.18 1515.05 L1184.18 1519.31 Q1182.42 1518.48 1180.61 1518.04 Q1178.83 1517.6 1177.07 1517.6 Q1172.44 1517.6 1169.99 1520.72 Q1167.56 1523.85 1167.21 1530.17 Q1168.58 1528.15 1170.64 1527.09 Q1172.7 1526 1175.17 1526 Q1180.38 1526 1183.39 1529.17 Q1186.42 1532.32 1186.42 1537.76 Q1186.42 1543.08 1183.28 1546.3 Q1180.13 1549.52 1174.9 1549.52 Q1168.9 1549.52 1165.73 1544.94 Q1162.56 1540.33 1162.56 1531.6 Q1162.56 1523.41 1166.45 1518.55 Q1170.34 1513.66 1176.89 1513.66 Q1178.65 1513.66 1180.43 1514.01 Q1182.23 1514.36 1184.18 1515.05 Z\" fill=\"#000000\" fill-rule=\"nonzero\" fill-opacity=\"1\" /><path clip-path=\"url(#clip780)\" d=\"M1204.48 1517.37 Q1200.87 1517.37 1199.04 1520.93 Q1197.23 1524.47 1197.23 1531.6 Q1197.23 1538.71 1199.04 1542.27 Q1200.87 1545.82 1204.48 1545.82 Q1208.11 1545.82 1209.92 1542.27 Q1211.75 1538.71 1211.75 1531.6 Q1211.75 1524.47 1209.92 1520.93 Q1208.11 1517.37 1204.48 1517.37 M1204.48 1513.66 Q1210.29 1513.66 1213.34 1518.27 Q1216.42 1522.85 1216.42 1531.6 Q1216.42 1540.33 1213.34 1544.94 Q1210.29 1549.52 1204.48 1549.52 Q1198.67 1549.52 1195.59 1544.94 Q1192.53 1540.33 1192.53 1531.6 Q1192.53 1522.85 1195.59 1518.27 Q1198.67 1513.66 1204.48 1513.66 Z\" fill=\"#000000\" fill-rule=\"nonzero\" fill-opacity=\"1\" /><path clip-path=\"url(#clip780)\" d=\"M1493.77 1532.44 Q1490.43 1532.44 1488.51 1534.22 Q1486.61 1536 1486.61 1539.13 Q1486.61 1542.25 1488.51 1544.03 Q1490.43 1545.82 1493.77 1545.82 Q1497.1 1545.82 1499.02 1544.03 Q1500.94 1542.23 1500.94 1539.13 Q1500.94 1536 1499.02 1534.22 Q1497.12 1532.44 1493.77 1532.44 M1489.09 1530.45 Q1486.08 1529.7 1484.39 1527.64 Q1482.72 1525.58 1482.72 1522.62 Q1482.72 1518.48 1485.66 1516.07 Q1488.63 1513.66 1493.77 1513.66 Q1498.93 1513.66 1501.87 1516.07 Q1504.81 1518.48 1504.81 1522.62 Q1504.81 1525.58 1503.12 1527.64 Q1501.45 1529.7 1498.47 1530.45 Q1501.84 1531.23 1503.72 1533.52 Q1505.62 1535.82 1505.62 1539.13 Q1505.62 1544.15 1502.54 1546.83 Q1499.48 1549.52 1493.77 1549.52 Q1488.05 1549.52 1484.97 1546.83 Q1481.91 1544.15 1481.91 1539.13 Q1481.91 1535.82 1483.81 1533.52 Q1485.71 1531.23 1489.09 1530.45 M1487.38 1523.06 Q1487.38 1525.75 1489.04 1527.25 Q1490.73 1528.76 1493.77 1528.76 Q1496.78 1528.76 1498.47 1527.25 Q1500.18 1525.75 1500.18 1523.06 Q1500.18 1520.38 1498.47 1518.87 Q1496.78 1517.37 1493.77 1517.37 Q1490.73 1517.37 1489.04 1518.87 Q1487.38 1520.38 1487.38 1523.06 Z\" fill=\"#000000\" fill-rule=\"nonzero\" fill-opacity=\"1\" /><path clip-path=\"url(#clip780)\" d=\"M1523.93 1517.37 Q1520.32 1517.37 1518.49 1520.93 Q1516.68 1524.47 1516.68 1531.6 Q1516.68 1538.71 1518.49 1542.27 Q1520.32 1545.82 1523.93 1545.82 Q1527.56 1545.82 1529.37 1542.27 Q1531.2 1538.71 1531.2 1531.6 Q1531.2 1524.47 1529.37 1520.93 Q1527.56 1517.37 1523.93 1517.37 M1523.93 1513.66 Q1529.74 1513.66 1532.79 1518.27 Q1535.87 1522.85 1535.87 1531.6 Q1535.87 1540.33 1532.79 1544.94 Q1529.74 1549.52 1523.93 1549.52 Q1518.12 1549.52 1515.04 1544.94 Q1511.98 1540.33 1511.98 1531.6 Q1511.98 1522.85 1515.04 1518.27 Q1518.12 1513.66 1523.93 1513.66 Z\" fill=\"#000000\" fill-rule=\"nonzero\" fill-opacity=\"1\" /><path clip-path=\"url(#clip780)\" d=\"M1787.9 1544.91 L1795.54 1544.91 L1795.54 1518.55 L1787.23 1520.21 L1787.23 1515.95 L1795.5 1514.29 L1800.17 1514.29 L1800.17 1544.91 L1807.81 1544.91 L1807.81 1548.85 L1787.9 1548.85 L1787.9 1544.91 Z\" fill=\"#000000\" fill-rule=\"nonzero\" fill-opacity=\"1\" /><path clip-path=\"url(#clip780)\" d=\"M1827.25 1517.37 Q1823.64 1517.37 1821.81 1520.93 Q1820.01 1524.47 1820.01 1531.6 Q1820.01 1538.71 1821.81 1542.27 Q1823.64 1545.82 1827.25 1545.82 Q1830.89 1545.82 1832.69 1542.27 Q1834.52 1538.71 1834.52 1531.6 Q1834.52 1524.47 1832.69 1520.93 Q1830.89 1517.37 1827.25 1517.37 M1827.25 1513.66 Q1833.06 1513.66 1836.12 1518.27 Q1839.2 1522.85 1839.2 1531.6 Q1839.2 1540.33 1836.12 1544.94 Q1833.06 1549.52 1827.25 1549.52 Q1821.44 1549.52 1818.37 1544.94 Q1815.31 1540.33 1815.31 1531.6 Q1815.31 1522.85 1818.37 1518.27 Q1821.44 1513.66 1827.25 1513.66 Z\" fill=\"#000000\" fill-rule=\"nonzero\" fill-opacity=\"1\" /><path clip-path=\"url(#clip780)\" d=\"M1857.42 1517.37 Q1853.81 1517.37 1851.98 1520.93 Q1850.17 1524.47 1850.17 1531.6 Q1850.17 1538.71 1851.98 1542.27 Q1853.81 1545.82 1857.42 1545.82 Q1861.05 1545.82 1862.86 1542.27 Q1864.69 1538.71 1864.69 1531.6 Q1864.69 1524.47 1862.86 1520.93 Q1861.05 1517.37 1857.42 1517.37 M1857.42 1513.66 Q1863.23 1513.66 1866.28 1518.27 Q1869.36 1522.85 1869.36 1531.6 Q1869.36 1540.33 1866.28 1544.94 Q1863.23 1549.52 1857.42 1549.52 Q1851.61 1549.52 1848.53 1544.94 Q1845.47 1540.33 1845.47 1531.6 Q1845.47 1522.85 1848.53 1518.27 Q1851.61 1513.66 1857.42 1513.66 Z\" fill=\"#000000\" fill-rule=\"nonzero\" fill-opacity=\"1\" /><path clip-path=\"url(#clip780)\" d=\"M2107.31 1544.91 L2114.94 1544.91 L2114.94 1518.55 L2106.63 1520.21 L2106.63 1515.95 L2114.9 1514.29 L2119.57 1514.29 L2119.57 1544.91 L2127.21 1544.91 L2127.21 1548.85 L2107.31 1548.85 L2107.31 1544.91 Z\" fill=\"#000000\" fill-rule=\"nonzero\" fill-opacity=\"1\" /><path clip-path=\"url(#clip780)\" d=\"M2140.69 1544.91 L2157 1544.91 L2157 1548.85 L2135.06 1548.85 L2135.06 1544.91 Q2137.72 1542.16 2142.31 1537.53 Q2146.91 1532.88 2148.09 1531.53 Q2150.34 1529.01 2151.22 1527.27 Q2152.12 1525.51 2152.12 1523.82 Q2152.12 1521.07 2150.18 1519.33 Q2148.25 1517.6 2145.15 1517.6 Q2142.95 1517.6 2140.5 1518.36 Q2138.07 1519.13 2135.29 1520.68 L2135.29 1515.95 Q2138.12 1514.82 2140.57 1514.24 Q2143.02 1513.66 2145.06 1513.66 Q2150.43 1513.66 2153.63 1516.35 Q2156.82 1519.03 2156.82 1523.52 Q2156.82 1525.65 2156.01 1527.57 Q2155.22 1529.47 2153.12 1532.07 Q2152.54 1532.74 2149.44 1535.95 Q2146.33 1539.15 2140.69 1544.91 Z\" fill=\"#000000\" fill-rule=\"nonzero\" fill-opacity=\"1\" /><path clip-path=\"url(#clip780)\" d=\"M2176.82 1517.37 Q2173.21 1517.37 2171.38 1520.93 Q2169.57 1524.47 2169.57 1531.6 Q2169.57 1538.71 2171.38 1542.27 Q2173.21 1545.82 2176.82 1545.82 Q2180.45 1545.82 2182.26 1542.27 Q2184.09 1538.71 2184.09 1531.6 Q2184.09 1524.47 2182.26 1520.93 Q2180.45 1517.37 2176.82 1517.37 M2176.82 1513.66 Q2182.63 1513.66 2185.69 1518.27 Q2188.76 1522.85 2188.76 1531.6 Q2188.76 1540.33 2185.69 1544.94 Q2182.63 1549.52 2176.82 1549.52 Q2171.01 1549.52 2167.93 1544.94 Q2164.88 1540.33 2164.88 1531.6 Q2164.88 1522.85 2167.93 1518.27 Q2171.01 1513.66 2176.82 1513.66 Z\" fill=\"#000000\" fill-rule=\"nonzero\" fill-opacity=\"1\" /><polyline clip-path=\"url(#clip782)\" style=\"stroke:#000000; stroke-linecap:round; stroke-linejoin:round; stroke-width:2; stroke-opacity:0.1; fill:none\" points=\"185.927,1323.68 2352.76,1323.68 \"/>\n",
       "<polyline clip-path=\"url(#clip782)\" style=\"stroke:#000000; stroke-linecap:round; stroke-linejoin:round; stroke-width:2; stroke-opacity:0.1; fill:none\" points=\"185.927,1054.83 2352.76,1054.83 \"/>\n",
       "<polyline clip-path=\"url(#clip782)\" style=\"stroke:#000000; stroke-linecap:round; stroke-linejoin:round; stroke-width:2; stroke-opacity:0.1; fill:none\" points=\"185.927,785.976 2352.76,785.976 \"/>\n",
       "<polyline clip-path=\"url(#clip782)\" style=\"stroke:#000000; stroke-linecap:round; stroke-linejoin:round; stroke-width:2; stroke-opacity:0.1; fill:none\" points=\"185.927,517.125 2352.76,517.125 \"/>\n",
       "<polyline clip-path=\"url(#clip782)\" style=\"stroke:#000000; stroke-linecap:round; stroke-linejoin:round; stroke-width:2; stroke-opacity:0.1; fill:none\" points=\"185.927,248.274 2352.76,248.274 \"/>\n",
       "<polyline clip-path=\"url(#clip780)\" style=\"stroke:#000000; stroke-linecap:round; stroke-linejoin:round; stroke-width:4; stroke-opacity:1; fill:none\" points=\"185.927,1486.45 185.927,47.2441 \"/>\n",
       "<polyline clip-path=\"url(#clip780)\" style=\"stroke:#000000; stroke-linecap:round; stroke-linejoin:round; stroke-width:4; stroke-opacity:1; fill:none\" points=\"185.927,1323.68 204.824,1323.68 \"/>\n",
       "<polyline clip-path=\"url(#clip780)\" style=\"stroke:#000000; stroke-linecap:round; stroke-linejoin:round; stroke-width:4; stroke-opacity:1; fill:none\" points=\"185.927,1054.83 204.824,1054.83 \"/>\n",
       "<polyline clip-path=\"url(#clip780)\" style=\"stroke:#000000; stroke-linecap:round; stroke-linejoin:round; stroke-width:4; stroke-opacity:1; fill:none\" points=\"185.927,785.976 204.824,785.976 \"/>\n",
       "<polyline clip-path=\"url(#clip780)\" style=\"stroke:#000000; stroke-linecap:round; stroke-linejoin:round; stroke-width:4; stroke-opacity:1; fill:none\" points=\"185.927,517.125 204.824,517.125 \"/>\n",
       "<polyline clip-path=\"url(#clip780)\" style=\"stroke:#000000; stroke-linecap:round; stroke-linejoin:round; stroke-width:4; stroke-opacity:1; fill:none\" points=\"185.927,248.274 204.824,248.274 \"/>\n",
       "<path clip-path=\"url(#clip780)\" d=\"M53.3995 1337.02 L61.0384 1337.02 L61.0384 1310.66 L52.7282 1312.32 L52.7282 1308.06 L60.9921 1306.4 L65.668 1306.4 L65.668 1337.02 L73.3068 1337.02 L73.3068 1340.96 L53.3995 1340.96 L53.3995 1337.02 Z\" fill=\"#000000\" fill-rule=\"nonzero\" fill-opacity=\"1\" /><path clip-path=\"url(#clip780)\" d=\"M82.7512 1335.08 L87.6354 1335.08 L87.6354 1340.96 L82.7512 1340.96 L82.7512 1335.08 Z\" fill=\"#000000\" fill-rule=\"nonzero\" fill-opacity=\"1\" /><path clip-path=\"url(#clip780)\" d=\"M107.821 1309.48 Q104.209 1309.48 102.381 1313.04 Q100.575 1316.58 100.575 1323.71 Q100.575 1330.82 102.381 1334.38 Q104.209 1337.93 107.821 1337.93 Q111.455 1337.93 113.26 1334.38 Q115.089 1330.82 115.089 1323.71 Q115.089 1316.58 113.26 1313.04 Q111.455 1309.48 107.821 1309.48 M107.821 1305.77 Q113.631 1305.77 116.686 1310.38 Q119.765 1314.96 119.765 1323.71 Q119.765 1332.44 116.686 1337.05 Q113.631 1341.63 107.821 1341.63 Q102.01 1341.63 98.9317 1337.05 Q95.8761 1332.44 95.8761 1323.71 Q95.8761 1314.96 98.9317 1310.38 Q102.01 1305.77 107.821 1305.77 Z\" fill=\"#000000\" fill-rule=\"nonzero\" fill-opacity=\"1\" /><path clip-path=\"url(#clip780)\" d=\"M137.982 1309.48 Q134.371 1309.48 132.543 1313.04 Q130.737 1316.58 130.737 1323.71 Q130.737 1330.82 132.543 1334.38 Q134.371 1337.93 137.982 1337.93 Q141.617 1337.93 143.422 1334.38 Q145.251 1330.82 145.251 1323.71 Q145.251 1316.58 143.422 1313.04 Q141.617 1309.48 137.982 1309.48 M137.982 1305.77 Q143.793 1305.77 146.848 1310.38 Q149.927 1314.96 149.927 1323.71 Q149.927 1332.44 146.848 1337.05 Q143.793 1341.63 137.982 1341.63 Q132.172 1341.63 129.094 1337.05 Q126.038 1332.44 126.038 1323.71 Q126.038 1314.96 129.094 1310.38 Q132.172 1305.77 137.982 1305.77 Z\" fill=\"#000000\" fill-rule=\"nonzero\" fill-opacity=\"1\" /><path clip-path=\"url(#clip780)\" d=\"M54.3949 1068.17 L62.0337 1068.17 L62.0337 1041.81 L53.7236 1043.47 L53.7236 1039.21 L61.9874 1037.55 L66.6633 1037.55 L66.6633 1068.17 L74.3022 1068.17 L74.3022 1072.11 L54.3949 1072.11 L54.3949 1068.17 Z\" fill=\"#000000\" fill-rule=\"nonzero\" fill-opacity=\"1\" /><path clip-path=\"url(#clip780)\" d=\"M83.7466 1066.23 L88.6308 1066.23 L88.6308 1072.11 L83.7466 1072.11 L83.7466 1066.23 Z\" fill=\"#000000\" fill-rule=\"nonzero\" fill-opacity=\"1\" /><path clip-path=\"url(#clip780)\" d=\"M102.844 1068.17 L119.163 1068.17 L119.163 1072.11 L97.2187 1072.11 L97.2187 1068.17 Q99.8808 1065.42 104.464 1060.79 Q109.071 1056.13 110.251 1054.79 Q112.496 1052.27 113.376 1050.53 Q114.279 1048.77 114.279 1047.08 Q114.279 1044.33 112.334 1042.59 Q110.413 1040.86 107.311 1040.86 Q105.112 1040.86 102.659 1041.62 Q100.228 1042.39 97.4502 1043.94 L97.4502 1039.21 Q100.274 1038.08 102.728 1037.5 Q105.182 1036.92 107.219 1036.92 Q112.589 1036.92 115.783 1039.61 Q118.978 1042.29 118.978 1046.78 Q118.978 1048.91 118.168 1050.83 Q117.381 1052.73 115.274 1055.32 Q114.695 1056 111.594 1059.21 Q108.492 1062.41 102.844 1068.17 Z\" fill=\"#000000\" fill-rule=\"nonzero\" fill-opacity=\"1\" /><path clip-path=\"url(#clip780)\" d=\"M129.024 1037.55 L147.38 1037.55 L147.38 1041.48 L133.306 1041.48 L133.306 1049.95 Q134.325 1049.61 135.344 1049.45 Q136.362 1049.26 137.381 1049.26 Q143.168 1049.26 146.547 1052.43 Q149.927 1055.6 149.927 1061.02 Q149.927 1066.6 146.455 1069.7 Q142.982 1072.78 136.663 1072.78 Q134.487 1072.78 132.219 1072.41 Q129.973 1072.04 127.566 1071.3 L127.566 1066.6 Q129.649 1067.73 131.871 1068.29 Q134.094 1068.84 136.57 1068.84 Q140.575 1068.84 142.913 1066.74 Q145.251 1064.63 145.251 1061.02 Q145.251 1057.41 142.913 1055.3 Q140.575 1053.2 136.57 1053.2 Q134.695 1053.2 132.82 1053.61 Q130.969 1054.03 129.024 1054.91 L129.024 1037.55 Z\" fill=\"#000000\" fill-rule=\"nonzero\" fill-opacity=\"1\" /><path clip-path=\"url(#clip780)\" d=\"M53.3995 799.321 L61.0384 799.321 L61.0384 772.955 L52.7282 774.622 L52.7282 770.363 L60.9921 768.696 L65.668 768.696 L65.668 799.321 L73.3068 799.321 L73.3068 803.256 L53.3995 803.256 L53.3995 799.321 Z\" fill=\"#000000\" fill-rule=\"nonzero\" fill-opacity=\"1\" /><path clip-path=\"url(#clip780)\" d=\"M82.7512 797.376 L87.6354 797.376 L87.6354 803.256 L82.7512 803.256 L82.7512 797.376 Z\" fill=\"#000000\" fill-rule=\"nonzero\" fill-opacity=\"1\" /><path clip-path=\"url(#clip780)\" d=\"M97.8669 768.696 L116.223 768.696 L116.223 772.631 L102.149 772.631 L102.149 781.103 Q103.168 780.756 104.186 780.594 Q105.205 780.409 106.223 780.409 Q112.01 780.409 115.39 783.58 Q118.77 786.751 118.77 792.168 Q118.77 797.747 115.297 800.849 Q111.825 803.927 105.506 803.927 Q103.33 803.927 101.061 803.557 Q98.8159 803.186 96.4085 802.446 L96.4085 797.747 Q98.4919 798.881 100.714 799.436 Q102.936 799.992 105.413 799.992 Q109.418 799.992 111.756 797.886 Q114.094 795.779 114.094 792.168 Q114.094 788.557 111.756 786.45 Q109.418 784.344 105.413 784.344 Q103.538 784.344 101.663 784.761 Q99.8113 785.177 97.8669 786.057 L97.8669 768.696 Z\" fill=\"#000000\" fill-rule=\"nonzero\" fill-opacity=\"1\" /><path clip-path=\"url(#clip780)\" d=\"M137.982 771.775 Q134.371 771.775 132.543 775.339 Q130.737 778.881 130.737 786.011 Q130.737 793.117 132.543 796.682 Q134.371 800.224 137.982 800.224 Q141.617 800.224 143.422 796.682 Q145.251 793.117 145.251 786.011 Q145.251 778.881 143.422 775.339 Q141.617 771.775 137.982 771.775 M137.982 768.071 Q143.793 768.071 146.848 772.677 Q149.927 777.261 149.927 786.011 Q149.927 794.737 146.848 799.344 Q143.793 803.927 137.982 803.927 Q132.172 803.927 129.094 799.344 Q126.038 794.737 126.038 786.011 Q126.038 777.261 129.094 772.677 Q132.172 768.071 137.982 768.071 Z\" fill=\"#000000\" fill-rule=\"nonzero\" fill-opacity=\"1\" /><path clip-path=\"url(#clip780)\" d=\"M54.3949 530.47 L62.0337 530.47 L62.0337 504.104 L53.7236 505.771 L53.7236 501.511 L61.9874 499.845 L66.6633 499.845 L66.6633 530.47 L74.3022 530.47 L74.3022 534.405 L54.3949 534.405 L54.3949 530.47 Z\" fill=\"#000000\" fill-rule=\"nonzero\" fill-opacity=\"1\" /><path clip-path=\"url(#clip780)\" d=\"M83.7466 528.525 L88.6308 528.525 L88.6308 534.405 L83.7466 534.405 L83.7466 528.525 Z\" fill=\"#000000\" fill-rule=\"nonzero\" fill-opacity=\"1\" /><path clip-path=\"url(#clip780)\" d=\"M97.6354 499.845 L119.857 499.845 L119.857 501.835 L107.311 534.405 L102.427 534.405 L114.233 503.78 L97.6354 503.78 L97.6354 499.845 Z\" fill=\"#000000\" fill-rule=\"nonzero\" fill-opacity=\"1\" /><path clip-path=\"url(#clip780)\" d=\"M129.024 499.845 L147.38 499.845 L147.38 503.78 L133.306 503.78 L133.306 512.252 Q134.325 511.905 135.344 511.743 Q136.362 511.558 137.381 511.558 Q143.168 511.558 146.547 514.729 Q149.927 517.9 149.927 523.317 Q149.927 528.896 146.455 531.997 Q142.982 535.076 136.663 535.076 Q134.487 535.076 132.219 534.706 Q129.973 534.335 127.566 533.595 L127.566 528.896 Q129.649 530.03 131.871 530.585 Q134.094 531.141 136.57 531.141 Q140.575 531.141 142.913 529.034 Q145.251 526.928 145.251 523.317 Q145.251 519.706 142.913 517.599 Q140.575 515.493 136.57 515.493 Q134.695 515.493 132.82 515.909 Q130.969 516.326 129.024 517.206 L129.024 499.845 Z\" fill=\"#000000\" fill-rule=\"nonzero\" fill-opacity=\"1\" /><path clip-path=\"url(#clip780)\" d=\"M56.6171 261.618 L72.9365 261.618 L72.9365 265.554 L50.9921 265.554 L50.9921 261.618 Q53.6541 258.864 58.2375 254.234 Q62.8439 249.581 64.0245 248.239 Q66.2698 245.716 67.1494 243.98 Q68.0522 242.22 68.0522 240.531 Q68.0522 237.776 66.1078 236.04 Q64.1865 234.304 61.0847 234.304 Q58.8856 234.304 56.4319 235.068 Q54.0014 235.832 51.2236 237.382 L51.2236 232.66 Q54.0477 231.526 56.5014 230.947 Q58.955 230.369 60.9921 230.369 Q66.3624 230.369 69.5568 233.054 Q72.7513 235.739 72.7513 240.23 Q72.7513 242.359 71.9411 244.281 Q71.1541 246.179 69.0476 248.771 Q68.4689 249.443 65.367 252.66 Q62.2652 255.855 56.6171 261.618 Z\" fill=\"#000000\" fill-rule=\"nonzero\" fill-opacity=\"1\" /><path clip-path=\"url(#clip780)\" d=\"M82.7512 259.674 L87.6354 259.674 L87.6354 265.554 L82.7512 265.554 L82.7512 259.674 Z\" fill=\"#000000\" fill-rule=\"nonzero\" fill-opacity=\"1\" /><path clip-path=\"url(#clip780)\" d=\"M107.821 234.072 Q104.209 234.072 102.381 237.637 Q100.575 241.179 100.575 248.308 Q100.575 255.415 102.381 258.98 Q104.209 262.521 107.821 262.521 Q111.455 262.521 113.26 258.98 Q115.089 255.415 115.089 248.308 Q115.089 241.179 113.26 237.637 Q111.455 234.072 107.821 234.072 M107.821 230.369 Q113.631 230.369 116.686 234.975 Q119.765 239.558 119.765 248.308 Q119.765 257.035 116.686 261.642 Q113.631 266.225 107.821 266.225 Q102.01 266.225 98.9317 261.642 Q95.8761 257.035 95.8761 248.308 Q95.8761 239.558 98.9317 234.975 Q102.01 230.369 107.821 230.369 Z\" fill=\"#000000\" fill-rule=\"nonzero\" fill-opacity=\"1\" /><path clip-path=\"url(#clip780)\" d=\"M137.982 234.072 Q134.371 234.072 132.543 237.637 Q130.737 241.179 130.737 248.308 Q130.737 255.415 132.543 258.98 Q134.371 262.521 137.982 262.521 Q141.617 262.521 143.422 258.98 Q145.251 255.415 145.251 248.308 Q145.251 241.179 143.422 237.637 Q141.617 234.072 137.982 234.072 M137.982 230.369 Q143.793 230.369 146.848 234.975 Q149.927 239.558 149.927 248.308 Q149.927 257.035 146.848 261.642 Q143.793 266.225 137.982 266.225 Q132.172 266.225 129.094 261.642 Q126.038 257.035 126.038 248.308 Q126.038 239.558 129.094 234.975 Q132.172 230.369 137.982 230.369 Z\" fill=\"#000000\" fill-rule=\"nonzero\" fill-opacity=\"1\" /><polyline clip-path=\"url(#clip782)\" style=\"stroke:#009af9; stroke-linecap:round; stroke-linejoin:round; stroke-width:4; stroke-opacity:1; fill:none\" points=\"247.252,1326.05 263.222,1321.77 279.192,1323.31 295.163,1323.6 311.133,1323.66 327.103,1323.67 343.073,1323.68 359.043,1323.68 375.013,1323.68 390.983,1323.68 406.954,1323.68 422.924,1323.68 438.894,1323.68 454.864,1323.68 470.834,1323.68 486.804,1323.68 502.774,1323.68 518.745,1323.68 534.715,1323.68 550.685,1323.68 566.655,1323.68 582.625,1323.68 598.595,1323.68 614.565,1323.68 630.536,1323.68 646.506,1323.68 662.476,1323.68 678.446,1323.68 694.416,1323.68 710.386,1323.68 726.356,1323.68 742.327,1323.68 758.297,1323.68 774.267,1323.68 790.237,1323.68 806.207,1323.68 822.177,1323.68 838.147,1323.68 854.118,1323.68 870.088,1323.68 886.058,1323.68 902.028,1323.68 917.998,1323.68 933.968,1323.68 949.938,1323.68 965.909,1323.68 981.879,1323.68 997.849,1323.68 1013.82,1323.68 1029.79,1323.68 1045.76,1323.68 1061.73,1323.68 1077.7,1323.68 1093.67,1323.68 1109.64,1323.68 1125.61,1323.68 1141.58,1323.68 1157.55,1323.68 1173.52,1323.68 1189.49,1323.68 1205.46,1323.68 1221.43,1323.68 1237.4,1323.68 1253.37,1323.68 1269.34,1323.68 1285.31,1323.68 1301.28,1323.68 1317.25,1323.68 1333.22,1323.68 1349.19,1323.68 1365.16,1323.68 1381.13,1323.68 1397.1,1323.68 1413.07,1323.68 1429.04,1323.68 1445.01,1323.68 1460.98,1323.68 1476.95,1323.68 1492.92,1323.68 1508.89,1323.68 1524.86,1323.68 1540.83,1323.68 1556.8,1323.68 1572.77,1323.68 1588.74,1323.68 1604.71,1323.68 1620.68,1323.68 1636.65,1323.68 1652.62,1323.68 1668.59,1323.68 1684.57,1323.68 1700.54,1323.68 1716.51,1323.68 1732.48,1323.68 1748.45,1323.68 1764.42,1323.68 1780.39,1323.68 1796.36,1323.68 1812.33,1323.68 1828.3,1323.68 1844.27,1323.68 1860.24,1323.68 1876.21,1323.68 1892.18,1323.68 1908.15,1323.68 1924.12,1323.68 1940.09,1323.68 1956.06,1323.68 1972.03,1323.68 1988,1323.68 2003.97,1323.68 2019.94,1323.68 2035.91,1323.68 2051.88,1323.68 2067.85,1323.68 2083.82,1323.68 2099.79,1323.68 2115.76,1323.68 2131.73,1323.68 2147.7,1323.68 2163.67,1323.68 2179.64,1323.68 2195.61,1323.68 2211.58,1323.67 2227.55,1323.66 2243.52,1323.6 2259.49,1323.31 2275.46,1321.77 2291.43,1326.05 \"/>\n",
       "<polyline clip-path=\"url(#clip782)\" style=\"stroke:#e26f46; stroke-linecap:round; stroke-linejoin:round; stroke-width:4; stroke-opacity:1; fill:none\" points=\"247.252,1326.05 263.222,1321.77 279.192,1323.31 295.163,1323.6 311.133,1323.66 327.103,1323.67 343.073,1323.68 359.043,1323.68 375.013,1323.68 390.983,1323.68 406.954,1323.68 422.924,1323.68 438.894,1323.68 454.864,1323.68 470.834,1323.68 486.804,1323.68 502.774,1323.68 518.745,1323.68 534.715,1323.68 550.685,1323.68 566.655,1323.68 582.625,1323.68 598.595,1323.68 614.565,1323.68 630.536,1323.68 646.506,1323.68 662.476,1323.68 678.446,1323.68 694.416,1323.68 710.386,1323.68 726.356,1323.68 742.327,1323.68 758.297,1323.68 774.267,1323.68 790.237,1323.68 806.207,1323.68 822.177,1323.68 838.147,1323.68 854.118,1323.68 870.088,1323.68 886.058,1323.68 902.028,1323.68 917.998,1323.68 933.968,1323.68 949.938,1323.68 965.909,1323.68 981.879,1323.68 997.849,1323.68 1013.82,1323.68 1029.79,1323.68 1045.76,1323.68 1061.73,1323.68 1077.7,1323.68 1093.67,1323.68 1109.64,1323.68 1125.61,1323.68 1141.58,1323.68 1157.55,1323.69 1173.52,1323.73 1189.49,1323.85 1205.46,1324.36 1221.43,1326.42 1237.4,1335.34 1253.37,1375.23 1269.34,1189.93 1285.31,1375.23 1301.28,1335.34 1317.25,1326.42 1333.22,1324.36 1349.19,1323.85 1365.16,1323.73 1381.13,1323.69 1397.1,1323.68 1413.07,1323.68 1429.04,1323.68 1445.01,1323.68 1460.98,1323.68 1476.95,1323.68 1492.92,1323.68 1508.89,1323.68 1524.86,1323.68 1540.83,1323.68 1556.8,1323.68 1572.77,1323.68 1588.74,1323.68 1604.71,1323.68 1620.68,1323.68 1636.65,1323.68 1652.62,1323.68 1668.59,1323.68 1684.57,1323.68 1700.54,1323.68 1716.51,1323.68 1732.48,1323.68 1748.45,1323.68 1764.42,1323.68 1780.39,1323.68 1796.36,1323.68 1812.33,1323.68 1828.3,1323.68 1844.27,1323.68 1860.24,1323.68 1876.21,1323.68 1892.18,1323.68 1908.15,1323.68 1924.12,1323.68 1940.09,1323.68 1956.06,1323.68 1972.03,1323.68 1988,1323.68 2003.97,1323.68 2019.94,1323.68 2035.91,1323.68 2051.88,1323.68 2067.85,1323.68 2083.82,1323.68 2099.79,1323.68 2115.76,1323.68 2131.73,1323.68 2147.7,1323.68 2163.67,1323.68 2179.64,1323.68 2195.61,1323.68 2211.58,1323.67 2227.55,1323.66 2243.52,1323.6 2259.49,1323.31 2275.46,1321.77 2291.43,1326.05 \"/>\n",
       "<polyline clip-path=\"url(#clip782)\" style=\"stroke:#3da44d; stroke-linecap:round; stroke-linejoin:round; stroke-width:4; stroke-opacity:1; fill:none\" points=\"247.252,1326.05 263.222,1321.77 279.192,1323.31 295.163,1323.6 311.133,1323.66 327.103,1323.67 343.073,1323.68 359.043,1323.68 375.013,1323.68 390.983,1323.68 406.954,1323.68 422.924,1323.68 438.894,1323.68 454.864,1323.68 470.834,1323.68 486.804,1323.68 502.774,1323.68 518.745,1323.68 534.715,1323.68 550.685,1323.68 566.655,1323.68 582.625,1323.68 598.595,1323.68 614.565,1323.68 630.536,1323.68 646.506,1323.68 662.476,1323.68 678.446,1323.68 694.416,1323.68 710.386,1323.68 726.356,1323.68 742.327,1323.68 758.297,1323.68 774.267,1323.68 790.237,1323.68 806.207,1323.69 822.177,1323.69 838.147,1323.7 854.118,1323.7 870.088,1323.71 886.058,1323.73 902.028,1323.75 917.998,1323.78 933.968,1323.82 949.938,1323.88 965.909,1323.96 981.879,1324.08 997.849,1324.24 1013.82,1324.47 1029.79,1324.79 1045.76,1325.24 1061.73,1325.88 1077.7,1326.77 1093.67,1328.03 1109.64,1329.81 1125.61,1332.3 1141.58,1335.81 1157.55,1340.75 1173.52,1347.69 1189.49,1357.47 1205.46,1371.24 1221.43,1390.69 1237.4,1418.32 1253.37,1445.72 1269.34,427.607 1285.31,1445.72 1301.28,1418.32 1317.25,1390.69 1333.22,1371.24 1349.19,1357.47 1365.16,1347.69 1381.13,1340.74 1397.1,1335.81 1413.07,1332.3 1429.04,1329.8 1445.01,1328.03 1460.98,1326.77 1476.95,1325.88 1492.92,1325.24 1508.89,1324.79 1524.86,1324.47 1540.83,1324.24 1556.8,1324.08 1572.77,1323.96 1588.74,1323.88 1604.71,1323.82 1620.68,1323.78 1636.65,1323.75 1652.62,1323.73 1668.59,1323.71 1684.57,1323.7 1700.54,1323.7 1716.51,1323.69 1732.48,1323.69 1748.45,1323.68 1764.42,1323.68 1780.39,1323.68 1796.36,1323.68 1812.33,1323.68 1828.3,1323.68 1844.27,1323.68 1860.24,1323.68 1876.21,1323.68 1892.18,1323.68 1908.15,1323.68 1924.12,1323.68 1940.09,1323.68 1956.06,1323.68 1972.03,1323.68 1988,1323.68 2003.97,1323.68 2019.94,1323.68 2035.91,1323.68 2051.88,1323.68 2067.85,1323.68 2083.82,1323.68 2099.79,1323.68 2115.76,1323.68 2131.73,1323.68 2147.7,1323.68 2163.67,1323.68 2179.64,1323.68 2195.61,1323.68 2211.58,1323.67 2227.55,1323.66 2243.52,1323.6 2259.49,1323.31 2275.46,1321.77 2291.43,1326.05 \"/>\n",
       "<polyline clip-path=\"url(#clip782)\" style=\"stroke:#c271d2; stroke-linecap:round; stroke-linejoin:round; stroke-width:4; stroke-opacity:1; fill:none\" points=\"247.252,1326.08 263.222,1321.82 279.192,1323.41 295.163,1323.75 311.133,1323.86 327.103,1323.94 343.073,1324.02 359.043,1324.1 375.013,1324.19 390.983,1324.28 406.954,1324.37 422.924,1324.47 438.894,1324.57 454.864,1324.68 470.834,1324.79 486.804,1324.91 502.774,1325.02 518.745,1325.16 534.715,1325.29 550.685,1325.43 566.655,1325.57 582.625,1325.74 598.595,1325.92 614.565,1326.12 630.536,1326.34 646.506,1326.59 662.476,1326.87 678.446,1327.18 694.416,1327.51 710.386,1327.88 726.356,1328.26 742.327,1328.66 758.297,1329.11 774.267,1329.62 790.237,1330.26 806.207,1330.93 822.177,1331.73 838.147,1332.66 854.118,1333.75 870.088,1335 886.058,1336.49 902.028,1338.11 917.998,1339.92 933.968,1341.89 949.938,1344.05 965.909,1346.33 981.879,1348.7 997.849,1351.08 1013.82,1353.41 1029.79,1355.56 1045.76,1357.46 1061.73,1358.95 1077.7,1359.9 1093.67,1360.31 1109.64,1359.93 1125.61,1358.77 1141.58,1356.98 1157.55,1354.36 1173.52,1350.99 1189.49,1347.3 1205.46,1343.67 1221.43,1342.04 1237.4,1349.68 1253.37,1388.27 1269.34,87.9763 1285.31,1387.8 1301.28,1347.77 1317.25,1338.19 1333.22,1337.68 1349.19,1338.97 1365.16,1340.49 1381.13,1341.71 1397.1,1342.57 1413.07,1343.01 1429.04,1343.05 1445.01,1342.77 1460.98,1342.14 1476.95,1341.3 1492.92,1340.24 1508.89,1339.07 1524.86,1337.81 1540.83,1336.54 1556.8,1335.28 1572.77,1334.07 1588.74,1332.94 1604.71,1331.89 1620.68,1330.94 1636.65,1330.06 1652.62,1329.27 1668.59,1328.57 1684.57,1327.96 1700.54,1327.42 1716.51,1326.96 1732.48,1326.55 1748.45,1326.21 1764.42,1325.91 1780.39,1325.66 1796.36,1325.45 1812.33,1325.27 1828.3,1325.13 1844.27,1324.99 1860.24,1324.88 1876.21,1324.79 1892.18,1324.71 1908.15,1324.64 1924.12,1324.57 1940.09,1324.51 1956.06,1324.46 1972.03,1324.42 1988,1324.38 2003.97,1324.34 2019.94,1324.3 2035.91,1324.25 2051.88,1324.21 2067.85,1324.17 2083.82,1324.13 2099.79,1324.09 2115.76,1324.04 2131.73,1324 2147.7,1323.96 2163.67,1323.92 2179.64,1323.88 2195.61,1323.84 2211.58,1323.8 2227.55,1323.76 2243.52,1323.67 2259.49,1323.36 2275.46,1321.79 2291.43,1326.07 \"/>\n",
       "<path clip-path=\"url(#clip780)\" d=\"M2009.7 354.418 L2280.53 354.418 L2280.53 95.2176 L2009.7 95.2176  Z\" fill=\"#ffffff\" fill-rule=\"evenodd\" fill-opacity=\"1\"/>\n",
       "<polyline clip-path=\"url(#clip780)\" style=\"stroke:#000000; stroke-linecap:round; stroke-linejoin:round; stroke-width:4; stroke-opacity:1; fill:none\" points=\"2009.7,354.418 2280.53,354.418 2280.53,95.2176 2009.7,95.2176 2009.7,354.418 \"/>\n",
       "<polyline clip-path=\"url(#clip780)\" style=\"stroke:#009af9; stroke-linecap:round; stroke-linejoin:round; stroke-width:4; stroke-opacity:1; fill:none\" points=\"2033.78,147.058 2178.23,147.058 \"/>\n",
       "<path clip-path=\"url(#clip780)\" d=\"M2216.15 166.745 Q2214.35 171.375 2212.63 172.787 Q2210.92 174.199 2208.05 174.199 L2204.65 174.199 L2204.65 170.634 L2207.15 170.634 Q2208.91 170.634 2209.88 169.8 Q2210.85 168.967 2212.03 165.865 L2212.8 163.921 L2202.31 138.412 L2206.82 138.412 L2214.92 158.689 L2223.03 138.412 L2227.54 138.412 L2216.15 166.745 Z\" fill=\"#000000\" fill-rule=\"nonzero\" fill-opacity=\"1\" /><path clip-path=\"url(#clip780)\" d=\"M2234.83 160.402 L2242.47 160.402 L2242.47 134.037 L2234.16 135.703 L2234.16 131.444 L2242.42 129.778 L2247.1 129.778 L2247.1 160.402 L2254.74 160.402 L2254.74 164.338 L2234.83 164.338 L2234.83 160.402 Z\" fill=\"#000000\" fill-rule=\"nonzero\" fill-opacity=\"1\" /><polyline clip-path=\"url(#clip780)\" style=\"stroke:#e26f46; stroke-linecap:round; stroke-linejoin:round; stroke-width:4; stroke-opacity:1; fill:none\" points=\"2033.78,198.898 2178.23,198.898 \"/>\n",
       "<path clip-path=\"url(#clip780)\" d=\"M2216.15 218.585 Q2214.35 223.215 2212.63 224.627 Q2210.92 226.039 2208.05 226.039 L2204.65 226.039 L2204.65 222.474 L2207.15 222.474 Q2208.91 222.474 2209.88 221.64 Q2210.85 220.807 2212.03 217.705 L2212.8 215.761 L2202.31 190.252 L2206.82 190.252 L2214.92 210.529 L2223.03 190.252 L2227.54 190.252 L2216.15 218.585 Z\" fill=\"#000000\" fill-rule=\"nonzero\" fill-opacity=\"1\" /><path clip-path=\"url(#clip780)\" d=\"M2238.05 212.242 L2254.37 212.242 L2254.37 216.178 L2232.42 216.178 L2232.42 212.242 Q2235.09 209.488 2239.67 204.858 Q2244.28 200.205 2245.46 198.863 Q2247.7 196.34 2248.58 194.604 Q2249.48 192.844 2249.48 191.155 Q2249.48 188.4 2247.54 186.664 Q2245.62 184.928 2242.52 184.928 Q2240.32 184.928 2237.86 185.692 Q2235.43 186.455 2232.66 188.006 L2232.66 183.284 Q2235.48 182.15 2237.93 181.571 Q2240.39 180.993 2242.42 180.993 Q2247.8 180.993 2250.99 183.678 Q2254.18 186.363 2254.18 190.854 Q2254.18 192.983 2253.37 194.905 Q2252.59 196.803 2250.48 199.395 Q2249.9 200.067 2246.8 203.284 Q2243.7 206.479 2238.05 212.242 Z\" fill=\"#000000\" fill-rule=\"nonzero\" fill-opacity=\"1\" /><polyline clip-path=\"url(#clip780)\" style=\"stroke:#3da44d; stroke-linecap:round; stroke-linejoin:round; stroke-width:4; stroke-opacity:1; fill:none\" points=\"2033.78,250.738 2178.23,250.738 \"/>\n",
       "<path clip-path=\"url(#clip780)\" d=\"M2216.15 270.425 Q2214.35 275.055 2212.63 276.467 Q2210.92 277.879 2208.05 277.879 L2204.65 277.879 L2204.65 274.314 L2207.15 274.314 Q2208.91 274.314 2209.88 273.48 Q2210.85 272.647 2212.03 269.545 L2212.8 267.601 L2202.31 242.092 L2206.82 242.092 L2214.92 262.369 L2223.03 242.092 L2227.54 242.092 L2216.15 270.425 Z\" fill=\"#000000\" fill-rule=\"nonzero\" fill-opacity=\"1\" /><path clip-path=\"url(#clip780)\" d=\"M2248.19 249.383 Q2251.55 250.101 2253.42 252.369 Q2255.32 254.638 2255.32 257.971 Q2255.32 263.087 2251.8 265.888 Q2248.28 268.689 2241.8 268.689 Q2239.62 268.689 2237.31 268.249 Q2235.02 267.832 2232.56 266.976 L2232.56 262.462 Q2234.51 263.596 2236.82 264.175 Q2239.14 264.754 2241.66 264.754 Q2246.06 264.754 2248.35 263.018 Q2250.67 261.281 2250.67 257.971 Q2250.67 254.916 2248.51 253.203 Q2246.38 251.467 2242.56 251.467 L2238.54 251.467 L2238.54 247.624 L2242.75 247.624 Q2246.2 247.624 2248.03 246.258 Q2249.86 244.87 2249.86 242.277 Q2249.86 239.615 2247.96 238.203 Q2246.08 236.768 2242.56 236.768 Q2240.64 236.768 2238.44 237.184 Q2236.24 237.601 2233.61 238.481 L2233.61 234.314 Q2236.27 233.573 2238.58 233.203 Q2240.92 232.833 2242.98 232.833 Q2248.3 232.833 2251.41 235.263 Q2254.51 237.67 2254.51 241.791 Q2254.51 244.661 2252.86 246.652 Q2251.22 248.62 2248.19 249.383 Z\" fill=\"#000000\" fill-rule=\"nonzero\" fill-opacity=\"1\" /><polyline clip-path=\"url(#clip780)\" style=\"stroke:#c271d2; stroke-linecap:round; stroke-linejoin:round; stroke-width:4; stroke-opacity:1; fill:none\" points=\"2033.78,302.578 2178.23,302.578 \"/>\n",
       "<path clip-path=\"url(#clip780)\" d=\"M2216.15 322.265 Q2214.35 326.895 2212.63 328.307 Q2210.92 329.719 2208.05 329.719 L2204.65 329.719 L2204.65 326.154 L2207.15 326.154 Q2208.91 326.154 2209.88 325.32 Q2210.85 324.487 2212.03 321.385 L2212.8 319.441 L2202.31 293.932 L2206.82 293.932 L2214.92 314.209 L2223.03 293.932 L2227.54 293.932 L2216.15 322.265 Z\" fill=\"#000000\" fill-rule=\"nonzero\" fill-opacity=\"1\" /><path clip-path=\"url(#clip780)\" d=\"M2246.87 289.372 L2235.06 307.821 L2246.87 307.821 L2246.87 289.372 M2245.64 285.298 L2251.52 285.298 L2251.52 307.821 L2256.45 307.821 L2256.45 311.709 L2251.52 311.709 L2251.52 319.858 L2246.87 319.858 L2246.87 311.709 L2231.27 311.709 L2231.27 307.196 L2245.64 285.298 Z\" fill=\"#000000\" fill-rule=\"nonzero\" fill-opacity=\"1\" /></svg>\n"
      ],
      "text/html": [
       "<?xml version=\"1.0\" encoding=\"utf-8\"?>\n",
       "<svg xmlns=\"http://www.w3.org/2000/svg\" xmlns:xlink=\"http://www.w3.org/1999/xlink\" width=\"600\" height=\"400\" viewBox=\"0 0 2400 1600\">\n",
       "<defs>\n",
       "  <clipPath id=\"clip830\">\n",
       "    <rect x=\"0\" y=\"0\" width=\"2400\" height=\"1600\"/>\n",
       "  </clipPath>\n",
       "</defs>\n",
       "<path clip-path=\"url(#clip830)\" d=\"M0 1600 L2400 1600 L2400 0 L0 0  Z\" fill=\"#ffffff\" fill-rule=\"evenodd\" fill-opacity=\"1\"/>\n",
       "<defs>\n",
       "  <clipPath id=\"clip831\">\n",
       "    <rect x=\"480\" y=\"0\" width=\"1681\" height=\"1600\"/>\n",
       "  </clipPath>\n",
       "</defs>\n",
       "<path clip-path=\"url(#clip830)\" d=\"M185.927 1486.45 L2352.76 1486.45 L2352.76 47.2441 L185.927 47.2441  Z\" fill=\"#ffffff\" fill-rule=\"evenodd\" fill-opacity=\"1\"/>\n",
       "<defs>\n",
       "  <clipPath id=\"clip832\">\n",
       "    <rect x=\"185\" y=\"47\" width=\"2168\" height=\"1440\"/>\n",
       "  </clipPath>\n",
       "</defs>\n",
       "<polyline clip-path=\"url(#clip832)\" style=\"stroke:#000000; stroke-linecap:round; stroke-linejoin:round; stroke-width:2; stroke-opacity:0.1; fill:none\" points=\"231.282,1486.45 231.282,47.2441 \"/>\n",
       "<polyline clip-path=\"url(#clip832)\" style=\"stroke:#000000; stroke-linecap:round; stroke-linejoin:round; stroke-width:2; stroke-opacity:0.1; fill:none\" points=\"550.685,1486.45 550.685,47.2441 \"/>\n",
       "<polyline clip-path=\"url(#clip832)\" style=\"stroke:#000000; stroke-linecap:round; stroke-linejoin:round; stroke-width:2; stroke-opacity:0.1; fill:none\" points=\"870.088,1486.45 870.088,47.2441 \"/>\n",
       "<polyline clip-path=\"url(#clip832)\" style=\"stroke:#000000; stroke-linecap:round; stroke-linejoin:round; stroke-width:2; stroke-opacity:0.1; fill:none\" points=\"1189.49,1486.45 1189.49,47.2441 \"/>\n",
       "<polyline clip-path=\"url(#clip832)\" style=\"stroke:#000000; stroke-linecap:round; stroke-linejoin:round; stroke-width:2; stroke-opacity:0.1; fill:none\" points=\"1508.89,1486.45 1508.89,47.2441 \"/>\n",
       "<polyline clip-path=\"url(#clip832)\" style=\"stroke:#000000; stroke-linecap:round; stroke-linejoin:round; stroke-width:2; stroke-opacity:0.1; fill:none\" points=\"1828.3,1486.45 1828.3,47.2441 \"/>\n",
       "<polyline clip-path=\"url(#clip832)\" style=\"stroke:#000000; stroke-linecap:round; stroke-linejoin:round; stroke-width:2; stroke-opacity:0.1; fill:none\" points=\"2147.7,1486.45 2147.7,47.2441 \"/>\n",
       "<polyline clip-path=\"url(#clip830)\" style=\"stroke:#000000; stroke-linecap:round; stroke-linejoin:round; stroke-width:4; stroke-opacity:1; fill:none\" points=\"185.927,1486.45 2352.76,1486.45 \"/>\n",
       "<polyline clip-path=\"url(#clip830)\" style=\"stroke:#000000; stroke-linecap:round; stroke-linejoin:round; stroke-width:4; stroke-opacity:1; fill:none\" points=\"231.282,1486.45 231.282,1467.55 \"/>\n",
       "<polyline clip-path=\"url(#clip830)\" style=\"stroke:#000000; stroke-linecap:round; stroke-linejoin:round; stroke-width:4; stroke-opacity:1; fill:none\" points=\"550.685,1486.45 550.685,1467.55 \"/>\n",
       "<polyline clip-path=\"url(#clip830)\" style=\"stroke:#000000; stroke-linecap:round; stroke-linejoin:round; stroke-width:4; stroke-opacity:1; fill:none\" points=\"870.088,1486.45 870.088,1467.55 \"/>\n",
       "<polyline clip-path=\"url(#clip830)\" style=\"stroke:#000000; stroke-linecap:round; stroke-linejoin:round; stroke-width:4; stroke-opacity:1; fill:none\" points=\"1189.49,1486.45 1189.49,1467.55 \"/>\n",
       "<polyline clip-path=\"url(#clip830)\" style=\"stroke:#000000; stroke-linecap:round; stroke-linejoin:round; stroke-width:4; stroke-opacity:1; fill:none\" points=\"1508.89,1486.45 1508.89,1467.55 \"/>\n",
       "<polyline clip-path=\"url(#clip830)\" style=\"stroke:#000000; stroke-linecap:round; stroke-linejoin:round; stroke-width:4; stroke-opacity:1; fill:none\" points=\"1828.3,1486.45 1828.3,1467.55 \"/>\n",
       "<polyline clip-path=\"url(#clip830)\" style=\"stroke:#000000; stroke-linecap:round; stroke-linejoin:round; stroke-width:4; stroke-opacity:1; fill:none\" points=\"2147.7,1486.45 2147.7,1467.55 \"/>\n",
       "<path clip-path=\"url(#clip830)\" d=\"M231.282 1517.37 Q227.671 1517.37 225.842 1520.93 Q224.037 1524.47 224.037 1531.6 Q224.037 1538.71 225.842 1542.27 Q227.671 1545.82 231.282 1545.82 Q234.916 1545.82 236.722 1542.27 Q238.55 1538.71 238.55 1531.6 Q238.55 1524.47 236.722 1520.93 Q234.916 1517.37 231.282 1517.37 M231.282 1513.66 Q237.092 1513.66 240.148 1518.27 Q243.226 1522.85 243.226 1531.6 Q243.226 1540.33 240.148 1544.94 Q237.092 1549.52 231.282 1549.52 Q225.472 1549.52 222.393 1544.94 Q219.338 1540.33 219.338 1531.6 Q219.338 1522.85 222.393 1518.27 Q225.472 1513.66 231.282 1513.66 Z\" fill=\"#000000\" fill-rule=\"nonzero\" fill-opacity=\"1\" /><path clip-path=\"url(#clip830)\" d=\"M529.458 1544.91 L545.777 1544.91 L545.777 1548.85 L523.833 1548.85 L523.833 1544.91 Q526.495 1542.16 531.078 1537.53 Q535.685 1532.88 536.865 1531.53 Q539.111 1529.01 539.99 1527.27 Q540.893 1525.51 540.893 1523.82 Q540.893 1521.07 538.949 1519.33 Q537.028 1517.6 533.926 1517.6 Q531.727 1517.6 529.273 1518.36 Q526.842 1519.13 524.065 1520.68 L524.065 1515.95 Q526.889 1514.82 529.342 1514.24 Q531.796 1513.66 533.833 1513.66 Q539.203 1513.66 542.398 1516.35 Q545.592 1519.03 545.592 1523.52 Q545.592 1525.65 544.782 1527.57 Q543.995 1529.47 541.889 1532.07 Q541.31 1532.74 538.208 1535.95 Q535.106 1539.15 529.458 1544.91 Z\" fill=\"#000000\" fill-rule=\"nonzero\" fill-opacity=\"1\" /><path clip-path=\"url(#clip830)\" d=\"M565.592 1517.37 Q561.981 1517.37 560.152 1520.93 Q558.347 1524.47 558.347 1531.6 Q558.347 1538.71 560.152 1542.27 Q561.981 1545.82 565.592 1545.82 Q569.226 1545.82 571.032 1542.27 Q572.861 1538.71 572.861 1531.6 Q572.861 1524.47 571.032 1520.93 Q569.226 1517.37 565.592 1517.37 M565.592 1513.66 Q571.402 1513.66 574.458 1518.27 Q577.537 1522.85 577.537 1531.6 Q577.537 1540.33 574.458 1544.94 Q571.402 1549.52 565.592 1549.52 Q559.782 1549.52 556.703 1544.94 Q553.648 1540.33 553.648 1531.6 Q553.648 1522.85 556.703 1518.27 Q559.782 1513.66 565.592 1513.66 Z\" fill=\"#000000\" fill-rule=\"nonzero\" fill-opacity=\"1\" /><path clip-path=\"url(#clip830)\" d=\"M858.259 1518.36 L846.454 1536.81 L858.259 1536.81 L858.259 1518.36 M857.032 1514.29 L862.912 1514.29 L862.912 1536.81 L867.842 1536.81 L867.842 1540.7 L862.912 1540.7 L862.912 1548.85 L858.259 1548.85 L858.259 1540.7 L842.657 1540.7 L842.657 1536.19 L857.032 1514.29 Z\" fill=\"#000000\" fill-rule=\"nonzero\" fill-opacity=\"1\" /><path clip-path=\"url(#clip830)\" d=\"M885.574 1517.37 Q881.963 1517.37 880.134 1520.93 Q878.328 1524.47 878.328 1531.6 Q878.328 1538.71 880.134 1542.27 Q881.963 1545.82 885.574 1545.82 Q889.208 1545.82 891.014 1542.27 Q892.842 1538.71 892.842 1531.6 Q892.842 1524.47 891.014 1520.93 Q889.208 1517.37 885.574 1517.37 M885.574 1513.66 Q891.384 1513.66 894.439 1518.27 Q897.518 1522.85 897.518 1531.6 Q897.518 1540.33 894.439 1544.94 Q891.384 1549.52 885.574 1549.52 Q879.764 1549.52 876.685 1544.94 Q873.629 1540.33 873.629 1531.6 Q873.629 1522.85 876.685 1518.27 Q879.764 1513.66 885.574 1513.66 Z\" fill=\"#000000\" fill-rule=\"nonzero\" fill-opacity=\"1\" /><path clip-path=\"url(#clip830)\" d=\"M1174.9 1529.7 Q1171.75 1529.7 1169.9 1531.86 Q1168.07 1534.01 1168.07 1537.76 Q1168.07 1541.49 1169.9 1543.66 Q1171.75 1545.82 1174.9 1545.82 Q1178.04 1545.82 1179.87 1543.66 Q1181.72 1541.49 1181.72 1537.76 Q1181.72 1534.01 1179.87 1531.86 Q1178.04 1529.7 1174.9 1529.7 M1184.18 1515.05 L1184.18 1519.31 Q1182.42 1518.48 1180.61 1518.04 Q1178.83 1517.6 1177.07 1517.6 Q1172.44 1517.6 1169.99 1520.72 Q1167.56 1523.85 1167.21 1530.17 Q1168.58 1528.15 1170.64 1527.09 Q1172.7 1526 1175.17 1526 Q1180.38 1526 1183.39 1529.17 Q1186.42 1532.32 1186.42 1537.76 Q1186.42 1543.08 1183.28 1546.3 Q1180.13 1549.52 1174.9 1549.52 Q1168.9 1549.52 1165.73 1544.94 Q1162.56 1540.33 1162.56 1531.6 Q1162.56 1523.41 1166.45 1518.55 Q1170.34 1513.66 1176.89 1513.66 Q1178.65 1513.66 1180.43 1514.01 Q1182.23 1514.36 1184.18 1515.05 Z\" fill=\"#000000\" fill-rule=\"nonzero\" fill-opacity=\"1\" /><path clip-path=\"url(#clip830)\" d=\"M1204.48 1517.37 Q1200.87 1517.37 1199.04 1520.93 Q1197.23 1524.47 1197.23 1531.6 Q1197.23 1538.71 1199.04 1542.27 Q1200.87 1545.82 1204.48 1545.82 Q1208.11 1545.82 1209.92 1542.27 Q1211.75 1538.71 1211.75 1531.6 Q1211.75 1524.47 1209.92 1520.93 Q1208.11 1517.37 1204.48 1517.37 M1204.48 1513.66 Q1210.29 1513.66 1213.34 1518.27 Q1216.42 1522.85 1216.42 1531.6 Q1216.42 1540.33 1213.34 1544.94 Q1210.29 1549.52 1204.48 1549.52 Q1198.67 1549.52 1195.59 1544.94 Q1192.53 1540.33 1192.53 1531.6 Q1192.53 1522.85 1195.59 1518.27 Q1198.67 1513.66 1204.48 1513.66 Z\" fill=\"#000000\" fill-rule=\"nonzero\" fill-opacity=\"1\" /><path clip-path=\"url(#clip830)\" d=\"M1493.77 1532.44 Q1490.43 1532.44 1488.51 1534.22 Q1486.61 1536 1486.61 1539.13 Q1486.61 1542.25 1488.51 1544.03 Q1490.43 1545.82 1493.77 1545.82 Q1497.1 1545.82 1499.02 1544.03 Q1500.94 1542.23 1500.94 1539.13 Q1500.94 1536 1499.02 1534.22 Q1497.12 1532.44 1493.77 1532.44 M1489.09 1530.45 Q1486.08 1529.7 1484.39 1527.64 Q1482.72 1525.58 1482.72 1522.62 Q1482.72 1518.48 1485.66 1516.07 Q1488.63 1513.66 1493.77 1513.66 Q1498.93 1513.66 1501.87 1516.07 Q1504.81 1518.48 1504.81 1522.62 Q1504.81 1525.58 1503.12 1527.64 Q1501.45 1529.7 1498.47 1530.45 Q1501.84 1531.23 1503.72 1533.52 Q1505.62 1535.82 1505.62 1539.13 Q1505.62 1544.15 1502.54 1546.83 Q1499.48 1549.52 1493.77 1549.52 Q1488.05 1549.52 1484.97 1546.83 Q1481.91 1544.15 1481.91 1539.13 Q1481.91 1535.82 1483.81 1533.52 Q1485.71 1531.23 1489.09 1530.45 M1487.38 1523.06 Q1487.38 1525.75 1489.04 1527.25 Q1490.73 1528.76 1493.77 1528.76 Q1496.78 1528.76 1498.47 1527.25 Q1500.18 1525.75 1500.18 1523.06 Q1500.18 1520.38 1498.47 1518.87 Q1496.78 1517.37 1493.77 1517.37 Q1490.73 1517.37 1489.04 1518.87 Q1487.38 1520.38 1487.38 1523.06 Z\" fill=\"#000000\" fill-rule=\"nonzero\" fill-opacity=\"1\" /><path clip-path=\"url(#clip830)\" d=\"M1523.93 1517.37 Q1520.32 1517.37 1518.49 1520.93 Q1516.68 1524.47 1516.68 1531.6 Q1516.68 1538.71 1518.49 1542.27 Q1520.32 1545.82 1523.93 1545.82 Q1527.56 1545.82 1529.37 1542.27 Q1531.2 1538.71 1531.2 1531.6 Q1531.2 1524.47 1529.37 1520.93 Q1527.56 1517.37 1523.93 1517.37 M1523.93 1513.66 Q1529.74 1513.66 1532.79 1518.27 Q1535.87 1522.85 1535.87 1531.6 Q1535.87 1540.33 1532.79 1544.94 Q1529.74 1549.52 1523.93 1549.52 Q1518.12 1549.52 1515.04 1544.94 Q1511.98 1540.33 1511.98 1531.6 Q1511.98 1522.85 1515.04 1518.27 Q1518.12 1513.66 1523.93 1513.66 Z\" fill=\"#000000\" fill-rule=\"nonzero\" fill-opacity=\"1\" /><path clip-path=\"url(#clip830)\" d=\"M1787.9 1544.91 L1795.54 1544.91 L1795.54 1518.55 L1787.23 1520.21 L1787.23 1515.95 L1795.5 1514.29 L1800.17 1514.29 L1800.17 1544.91 L1807.81 1544.91 L1807.81 1548.85 L1787.9 1548.85 L1787.9 1544.91 Z\" fill=\"#000000\" fill-rule=\"nonzero\" fill-opacity=\"1\" /><path clip-path=\"url(#clip830)\" d=\"M1827.25 1517.37 Q1823.64 1517.37 1821.81 1520.93 Q1820.01 1524.47 1820.01 1531.6 Q1820.01 1538.71 1821.81 1542.27 Q1823.64 1545.82 1827.25 1545.82 Q1830.89 1545.82 1832.69 1542.27 Q1834.52 1538.71 1834.52 1531.6 Q1834.52 1524.47 1832.69 1520.93 Q1830.89 1517.37 1827.25 1517.37 M1827.25 1513.66 Q1833.06 1513.66 1836.12 1518.27 Q1839.2 1522.85 1839.2 1531.6 Q1839.2 1540.33 1836.12 1544.94 Q1833.06 1549.52 1827.25 1549.52 Q1821.44 1549.52 1818.37 1544.94 Q1815.31 1540.33 1815.31 1531.6 Q1815.31 1522.85 1818.37 1518.27 Q1821.44 1513.66 1827.25 1513.66 Z\" fill=\"#000000\" fill-rule=\"nonzero\" fill-opacity=\"1\" /><path clip-path=\"url(#clip830)\" d=\"M1857.42 1517.37 Q1853.81 1517.37 1851.98 1520.93 Q1850.17 1524.47 1850.17 1531.6 Q1850.17 1538.71 1851.98 1542.27 Q1853.81 1545.82 1857.42 1545.82 Q1861.05 1545.82 1862.86 1542.27 Q1864.69 1538.71 1864.69 1531.6 Q1864.69 1524.47 1862.86 1520.93 Q1861.05 1517.37 1857.42 1517.37 M1857.42 1513.66 Q1863.23 1513.66 1866.28 1518.27 Q1869.36 1522.85 1869.36 1531.6 Q1869.36 1540.33 1866.28 1544.94 Q1863.23 1549.52 1857.42 1549.52 Q1851.61 1549.52 1848.53 1544.94 Q1845.47 1540.33 1845.47 1531.6 Q1845.47 1522.85 1848.53 1518.27 Q1851.61 1513.66 1857.42 1513.66 Z\" fill=\"#000000\" fill-rule=\"nonzero\" fill-opacity=\"1\" /><path clip-path=\"url(#clip830)\" d=\"M2107.31 1544.91 L2114.94 1544.91 L2114.94 1518.55 L2106.63 1520.21 L2106.63 1515.95 L2114.9 1514.29 L2119.57 1514.29 L2119.57 1544.91 L2127.21 1544.91 L2127.21 1548.85 L2107.31 1548.85 L2107.31 1544.91 Z\" fill=\"#000000\" fill-rule=\"nonzero\" fill-opacity=\"1\" /><path clip-path=\"url(#clip830)\" d=\"M2140.69 1544.91 L2157 1544.91 L2157 1548.85 L2135.06 1548.85 L2135.06 1544.91 Q2137.72 1542.16 2142.31 1537.53 Q2146.91 1532.88 2148.09 1531.53 Q2150.34 1529.01 2151.22 1527.27 Q2152.12 1525.51 2152.12 1523.82 Q2152.12 1521.07 2150.18 1519.33 Q2148.25 1517.6 2145.15 1517.6 Q2142.95 1517.6 2140.5 1518.36 Q2138.07 1519.13 2135.29 1520.68 L2135.29 1515.95 Q2138.12 1514.82 2140.57 1514.24 Q2143.02 1513.66 2145.06 1513.66 Q2150.43 1513.66 2153.63 1516.35 Q2156.82 1519.03 2156.82 1523.52 Q2156.82 1525.65 2156.01 1527.57 Q2155.22 1529.47 2153.12 1532.07 Q2152.54 1532.74 2149.44 1535.95 Q2146.33 1539.15 2140.69 1544.91 Z\" fill=\"#000000\" fill-rule=\"nonzero\" fill-opacity=\"1\" /><path clip-path=\"url(#clip830)\" d=\"M2176.82 1517.37 Q2173.21 1517.37 2171.38 1520.93 Q2169.57 1524.47 2169.57 1531.6 Q2169.57 1538.71 2171.38 1542.27 Q2173.21 1545.82 2176.82 1545.82 Q2180.45 1545.82 2182.26 1542.27 Q2184.09 1538.71 2184.09 1531.6 Q2184.09 1524.47 2182.26 1520.93 Q2180.45 1517.37 2176.82 1517.37 M2176.82 1513.66 Q2182.63 1513.66 2185.69 1518.27 Q2188.76 1522.85 2188.76 1531.6 Q2188.76 1540.33 2185.69 1544.94 Q2182.63 1549.52 2176.82 1549.52 Q2171.01 1549.52 2167.93 1544.94 Q2164.88 1540.33 2164.88 1531.6 Q2164.88 1522.85 2167.93 1518.27 Q2171.01 1513.66 2176.82 1513.66 Z\" fill=\"#000000\" fill-rule=\"nonzero\" fill-opacity=\"1\" /><polyline clip-path=\"url(#clip832)\" style=\"stroke:#000000; stroke-linecap:round; stroke-linejoin:round; stroke-width:2; stroke-opacity:0.1; fill:none\" points=\"185.927,1323.68 2352.76,1323.68 \"/>\n",
       "<polyline clip-path=\"url(#clip832)\" style=\"stroke:#000000; stroke-linecap:round; stroke-linejoin:round; stroke-width:2; stroke-opacity:0.1; fill:none\" points=\"185.927,1054.83 2352.76,1054.83 \"/>\n",
       "<polyline clip-path=\"url(#clip832)\" style=\"stroke:#000000; stroke-linecap:round; stroke-linejoin:round; stroke-width:2; stroke-opacity:0.1; fill:none\" points=\"185.927,785.976 2352.76,785.976 \"/>\n",
       "<polyline clip-path=\"url(#clip832)\" style=\"stroke:#000000; stroke-linecap:round; stroke-linejoin:round; stroke-width:2; stroke-opacity:0.1; fill:none\" points=\"185.927,517.125 2352.76,517.125 \"/>\n",
       "<polyline clip-path=\"url(#clip832)\" style=\"stroke:#000000; stroke-linecap:round; stroke-linejoin:round; stroke-width:2; stroke-opacity:0.1; fill:none\" points=\"185.927,248.274 2352.76,248.274 \"/>\n",
       "<polyline clip-path=\"url(#clip830)\" style=\"stroke:#000000; stroke-linecap:round; stroke-linejoin:round; stroke-width:4; stroke-opacity:1; fill:none\" points=\"185.927,1486.45 185.927,47.2441 \"/>\n",
       "<polyline clip-path=\"url(#clip830)\" style=\"stroke:#000000; stroke-linecap:round; stroke-linejoin:round; stroke-width:4; stroke-opacity:1; fill:none\" points=\"185.927,1323.68 204.824,1323.68 \"/>\n",
       "<polyline clip-path=\"url(#clip830)\" style=\"stroke:#000000; stroke-linecap:round; stroke-linejoin:round; stroke-width:4; stroke-opacity:1; fill:none\" points=\"185.927,1054.83 204.824,1054.83 \"/>\n",
       "<polyline clip-path=\"url(#clip830)\" style=\"stroke:#000000; stroke-linecap:round; stroke-linejoin:round; stroke-width:4; stroke-opacity:1; fill:none\" points=\"185.927,785.976 204.824,785.976 \"/>\n",
       "<polyline clip-path=\"url(#clip830)\" style=\"stroke:#000000; stroke-linecap:round; stroke-linejoin:round; stroke-width:4; stroke-opacity:1; fill:none\" points=\"185.927,517.125 204.824,517.125 \"/>\n",
       "<polyline clip-path=\"url(#clip830)\" style=\"stroke:#000000; stroke-linecap:round; stroke-linejoin:round; stroke-width:4; stroke-opacity:1; fill:none\" points=\"185.927,248.274 204.824,248.274 \"/>\n",
       "<path clip-path=\"url(#clip830)\" d=\"M53.3995 1337.02 L61.0384 1337.02 L61.0384 1310.66 L52.7282 1312.32 L52.7282 1308.06 L60.9921 1306.4 L65.668 1306.4 L65.668 1337.02 L73.3068 1337.02 L73.3068 1340.96 L53.3995 1340.96 L53.3995 1337.02 Z\" fill=\"#000000\" fill-rule=\"nonzero\" fill-opacity=\"1\" /><path clip-path=\"url(#clip830)\" d=\"M82.7512 1335.08 L87.6354 1335.08 L87.6354 1340.96 L82.7512 1340.96 L82.7512 1335.08 Z\" fill=\"#000000\" fill-rule=\"nonzero\" fill-opacity=\"1\" /><path clip-path=\"url(#clip830)\" d=\"M107.821 1309.48 Q104.209 1309.48 102.381 1313.04 Q100.575 1316.58 100.575 1323.71 Q100.575 1330.82 102.381 1334.38 Q104.209 1337.93 107.821 1337.93 Q111.455 1337.93 113.26 1334.38 Q115.089 1330.82 115.089 1323.71 Q115.089 1316.58 113.26 1313.04 Q111.455 1309.48 107.821 1309.48 M107.821 1305.77 Q113.631 1305.77 116.686 1310.38 Q119.765 1314.96 119.765 1323.71 Q119.765 1332.44 116.686 1337.05 Q113.631 1341.63 107.821 1341.63 Q102.01 1341.63 98.9317 1337.05 Q95.8761 1332.44 95.8761 1323.71 Q95.8761 1314.96 98.9317 1310.38 Q102.01 1305.77 107.821 1305.77 Z\" fill=\"#000000\" fill-rule=\"nonzero\" fill-opacity=\"1\" /><path clip-path=\"url(#clip830)\" d=\"M137.982 1309.48 Q134.371 1309.48 132.543 1313.04 Q130.737 1316.58 130.737 1323.71 Q130.737 1330.82 132.543 1334.38 Q134.371 1337.93 137.982 1337.93 Q141.617 1337.93 143.422 1334.38 Q145.251 1330.82 145.251 1323.71 Q145.251 1316.58 143.422 1313.04 Q141.617 1309.48 137.982 1309.48 M137.982 1305.77 Q143.793 1305.77 146.848 1310.38 Q149.927 1314.96 149.927 1323.71 Q149.927 1332.44 146.848 1337.05 Q143.793 1341.63 137.982 1341.63 Q132.172 1341.63 129.094 1337.05 Q126.038 1332.44 126.038 1323.71 Q126.038 1314.96 129.094 1310.38 Q132.172 1305.77 137.982 1305.77 Z\" fill=\"#000000\" fill-rule=\"nonzero\" fill-opacity=\"1\" /><path clip-path=\"url(#clip830)\" d=\"M54.3949 1068.17 L62.0337 1068.17 L62.0337 1041.81 L53.7236 1043.47 L53.7236 1039.21 L61.9874 1037.55 L66.6633 1037.55 L66.6633 1068.17 L74.3022 1068.17 L74.3022 1072.11 L54.3949 1072.11 L54.3949 1068.17 Z\" fill=\"#000000\" fill-rule=\"nonzero\" fill-opacity=\"1\" /><path clip-path=\"url(#clip830)\" d=\"M83.7466 1066.23 L88.6308 1066.23 L88.6308 1072.11 L83.7466 1072.11 L83.7466 1066.23 Z\" fill=\"#000000\" fill-rule=\"nonzero\" fill-opacity=\"1\" /><path clip-path=\"url(#clip830)\" d=\"M102.844 1068.17 L119.163 1068.17 L119.163 1072.11 L97.2187 1072.11 L97.2187 1068.17 Q99.8808 1065.42 104.464 1060.79 Q109.071 1056.13 110.251 1054.79 Q112.496 1052.27 113.376 1050.53 Q114.279 1048.77 114.279 1047.08 Q114.279 1044.33 112.334 1042.59 Q110.413 1040.86 107.311 1040.86 Q105.112 1040.86 102.659 1041.62 Q100.228 1042.39 97.4502 1043.94 L97.4502 1039.21 Q100.274 1038.08 102.728 1037.5 Q105.182 1036.92 107.219 1036.92 Q112.589 1036.92 115.783 1039.61 Q118.978 1042.29 118.978 1046.78 Q118.978 1048.91 118.168 1050.83 Q117.381 1052.73 115.274 1055.32 Q114.695 1056 111.594 1059.21 Q108.492 1062.41 102.844 1068.17 Z\" fill=\"#000000\" fill-rule=\"nonzero\" fill-opacity=\"1\" /><path clip-path=\"url(#clip830)\" d=\"M129.024 1037.55 L147.38 1037.55 L147.38 1041.48 L133.306 1041.48 L133.306 1049.95 Q134.325 1049.61 135.344 1049.45 Q136.362 1049.26 137.381 1049.26 Q143.168 1049.26 146.547 1052.43 Q149.927 1055.6 149.927 1061.02 Q149.927 1066.6 146.455 1069.7 Q142.982 1072.78 136.663 1072.78 Q134.487 1072.78 132.219 1072.41 Q129.973 1072.04 127.566 1071.3 L127.566 1066.6 Q129.649 1067.73 131.871 1068.29 Q134.094 1068.84 136.57 1068.84 Q140.575 1068.84 142.913 1066.74 Q145.251 1064.63 145.251 1061.02 Q145.251 1057.41 142.913 1055.3 Q140.575 1053.2 136.57 1053.2 Q134.695 1053.2 132.82 1053.61 Q130.969 1054.03 129.024 1054.91 L129.024 1037.55 Z\" fill=\"#000000\" fill-rule=\"nonzero\" fill-opacity=\"1\" /><path clip-path=\"url(#clip830)\" d=\"M53.3995 799.321 L61.0384 799.321 L61.0384 772.955 L52.7282 774.622 L52.7282 770.363 L60.9921 768.696 L65.668 768.696 L65.668 799.321 L73.3068 799.321 L73.3068 803.256 L53.3995 803.256 L53.3995 799.321 Z\" fill=\"#000000\" fill-rule=\"nonzero\" fill-opacity=\"1\" /><path clip-path=\"url(#clip830)\" d=\"M82.7512 797.376 L87.6354 797.376 L87.6354 803.256 L82.7512 803.256 L82.7512 797.376 Z\" fill=\"#000000\" fill-rule=\"nonzero\" fill-opacity=\"1\" /><path clip-path=\"url(#clip830)\" d=\"M97.8669 768.696 L116.223 768.696 L116.223 772.631 L102.149 772.631 L102.149 781.103 Q103.168 780.756 104.186 780.594 Q105.205 780.409 106.223 780.409 Q112.01 780.409 115.39 783.58 Q118.77 786.751 118.77 792.168 Q118.77 797.747 115.297 800.849 Q111.825 803.927 105.506 803.927 Q103.33 803.927 101.061 803.557 Q98.8159 803.186 96.4085 802.446 L96.4085 797.747 Q98.4919 798.881 100.714 799.436 Q102.936 799.992 105.413 799.992 Q109.418 799.992 111.756 797.886 Q114.094 795.779 114.094 792.168 Q114.094 788.557 111.756 786.45 Q109.418 784.344 105.413 784.344 Q103.538 784.344 101.663 784.761 Q99.8113 785.177 97.8669 786.057 L97.8669 768.696 Z\" fill=\"#000000\" fill-rule=\"nonzero\" fill-opacity=\"1\" /><path clip-path=\"url(#clip830)\" d=\"M137.982 771.775 Q134.371 771.775 132.543 775.339 Q130.737 778.881 130.737 786.011 Q130.737 793.117 132.543 796.682 Q134.371 800.224 137.982 800.224 Q141.617 800.224 143.422 796.682 Q145.251 793.117 145.251 786.011 Q145.251 778.881 143.422 775.339 Q141.617 771.775 137.982 771.775 M137.982 768.071 Q143.793 768.071 146.848 772.677 Q149.927 777.261 149.927 786.011 Q149.927 794.737 146.848 799.344 Q143.793 803.927 137.982 803.927 Q132.172 803.927 129.094 799.344 Q126.038 794.737 126.038 786.011 Q126.038 777.261 129.094 772.677 Q132.172 768.071 137.982 768.071 Z\" fill=\"#000000\" fill-rule=\"nonzero\" fill-opacity=\"1\" /><path clip-path=\"url(#clip830)\" d=\"M54.3949 530.47 L62.0337 530.47 L62.0337 504.104 L53.7236 505.771 L53.7236 501.511 L61.9874 499.845 L66.6633 499.845 L66.6633 530.47 L74.3022 530.47 L74.3022 534.405 L54.3949 534.405 L54.3949 530.47 Z\" fill=\"#000000\" fill-rule=\"nonzero\" fill-opacity=\"1\" /><path clip-path=\"url(#clip830)\" d=\"M83.7466 528.525 L88.6308 528.525 L88.6308 534.405 L83.7466 534.405 L83.7466 528.525 Z\" fill=\"#000000\" fill-rule=\"nonzero\" fill-opacity=\"1\" /><path clip-path=\"url(#clip830)\" d=\"M97.6354 499.845 L119.857 499.845 L119.857 501.835 L107.311 534.405 L102.427 534.405 L114.233 503.78 L97.6354 503.78 L97.6354 499.845 Z\" fill=\"#000000\" fill-rule=\"nonzero\" fill-opacity=\"1\" /><path clip-path=\"url(#clip830)\" d=\"M129.024 499.845 L147.38 499.845 L147.38 503.78 L133.306 503.78 L133.306 512.252 Q134.325 511.905 135.344 511.743 Q136.362 511.558 137.381 511.558 Q143.168 511.558 146.547 514.729 Q149.927 517.9 149.927 523.317 Q149.927 528.896 146.455 531.997 Q142.982 535.076 136.663 535.076 Q134.487 535.076 132.219 534.706 Q129.973 534.335 127.566 533.595 L127.566 528.896 Q129.649 530.03 131.871 530.585 Q134.094 531.141 136.57 531.141 Q140.575 531.141 142.913 529.034 Q145.251 526.928 145.251 523.317 Q145.251 519.706 142.913 517.599 Q140.575 515.493 136.57 515.493 Q134.695 515.493 132.82 515.909 Q130.969 516.326 129.024 517.206 L129.024 499.845 Z\" fill=\"#000000\" fill-rule=\"nonzero\" fill-opacity=\"1\" /><path clip-path=\"url(#clip830)\" d=\"M56.6171 261.618 L72.9365 261.618 L72.9365 265.554 L50.9921 265.554 L50.9921 261.618 Q53.6541 258.864 58.2375 254.234 Q62.8439 249.581 64.0245 248.239 Q66.2698 245.716 67.1494 243.98 Q68.0522 242.22 68.0522 240.531 Q68.0522 237.776 66.1078 236.04 Q64.1865 234.304 61.0847 234.304 Q58.8856 234.304 56.4319 235.068 Q54.0014 235.832 51.2236 237.382 L51.2236 232.66 Q54.0477 231.526 56.5014 230.947 Q58.955 230.369 60.9921 230.369 Q66.3624 230.369 69.5568 233.054 Q72.7513 235.739 72.7513 240.23 Q72.7513 242.359 71.9411 244.281 Q71.1541 246.179 69.0476 248.771 Q68.4689 249.443 65.367 252.66 Q62.2652 255.855 56.6171 261.618 Z\" fill=\"#000000\" fill-rule=\"nonzero\" fill-opacity=\"1\" /><path clip-path=\"url(#clip830)\" d=\"M82.7512 259.674 L87.6354 259.674 L87.6354 265.554 L82.7512 265.554 L82.7512 259.674 Z\" fill=\"#000000\" fill-rule=\"nonzero\" fill-opacity=\"1\" /><path clip-path=\"url(#clip830)\" d=\"M107.821 234.072 Q104.209 234.072 102.381 237.637 Q100.575 241.179 100.575 248.308 Q100.575 255.415 102.381 258.98 Q104.209 262.521 107.821 262.521 Q111.455 262.521 113.26 258.98 Q115.089 255.415 115.089 248.308 Q115.089 241.179 113.26 237.637 Q111.455 234.072 107.821 234.072 M107.821 230.369 Q113.631 230.369 116.686 234.975 Q119.765 239.558 119.765 248.308 Q119.765 257.035 116.686 261.642 Q113.631 266.225 107.821 266.225 Q102.01 266.225 98.9317 261.642 Q95.8761 257.035 95.8761 248.308 Q95.8761 239.558 98.9317 234.975 Q102.01 230.369 107.821 230.369 Z\" fill=\"#000000\" fill-rule=\"nonzero\" fill-opacity=\"1\" /><path clip-path=\"url(#clip830)\" d=\"M137.982 234.072 Q134.371 234.072 132.543 237.637 Q130.737 241.179 130.737 248.308 Q130.737 255.415 132.543 258.98 Q134.371 262.521 137.982 262.521 Q141.617 262.521 143.422 258.98 Q145.251 255.415 145.251 248.308 Q145.251 241.179 143.422 237.637 Q141.617 234.072 137.982 234.072 M137.982 230.369 Q143.793 230.369 146.848 234.975 Q149.927 239.558 149.927 248.308 Q149.927 257.035 146.848 261.642 Q143.793 266.225 137.982 266.225 Q132.172 266.225 129.094 261.642 Q126.038 257.035 126.038 248.308 Q126.038 239.558 129.094 234.975 Q132.172 230.369 137.982 230.369 Z\" fill=\"#000000\" fill-rule=\"nonzero\" fill-opacity=\"1\" /><polyline clip-path=\"url(#clip832)\" style=\"stroke:#009af9; stroke-linecap:round; stroke-linejoin:round; stroke-width:4; stroke-opacity:1; fill:none\" points=\"247.252,1326.05 263.222,1321.77 279.192,1323.31 295.163,1323.6 311.133,1323.66 327.103,1323.67 343.073,1323.68 359.043,1323.68 375.013,1323.68 390.983,1323.68 406.954,1323.68 422.924,1323.68 438.894,1323.68 454.864,1323.68 470.834,1323.68 486.804,1323.68 502.774,1323.68 518.745,1323.68 534.715,1323.68 550.685,1323.68 566.655,1323.68 582.625,1323.68 598.595,1323.68 614.565,1323.68 630.536,1323.68 646.506,1323.68 662.476,1323.68 678.446,1323.68 694.416,1323.68 710.386,1323.68 726.356,1323.68 742.327,1323.68 758.297,1323.68 774.267,1323.68 790.237,1323.68 806.207,1323.68 822.177,1323.68 838.147,1323.68 854.118,1323.68 870.088,1323.68 886.058,1323.68 902.028,1323.68 917.998,1323.68 933.968,1323.68 949.938,1323.68 965.909,1323.68 981.879,1323.68 997.849,1323.68 1013.82,1323.68 1029.79,1323.68 1045.76,1323.68 1061.73,1323.68 1077.7,1323.68 1093.67,1323.68 1109.64,1323.68 1125.61,1323.68 1141.58,1323.68 1157.55,1323.68 1173.52,1323.68 1189.49,1323.68 1205.46,1323.68 1221.43,1323.68 1237.4,1323.68 1253.37,1323.68 1269.34,1323.68 1285.31,1323.68 1301.28,1323.68 1317.25,1323.68 1333.22,1323.68 1349.19,1323.68 1365.16,1323.68 1381.13,1323.68 1397.1,1323.68 1413.07,1323.68 1429.04,1323.68 1445.01,1323.68 1460.98,1323.68 1476.95,1323.68 1492.92,1323.68 1508.89,1323.68 1524.86,1323.68 1540.83,1323.68 1556.8,1323.68 1572.77,1323.68 1588.74,1323.68 1604.71,1323.68 1620.68,1323.68 1636.65,1323.68 1652.62,1323.68 1668.59,1323.68 1684.57,1323.68 1700.54,1323.68 1716.51,1323.68 1732.48,1323.68 1748.45,1323.68 1764.42,1323.68 1780.39,1323.68 1796.36,1323.68 1812.33,1323.68 1828.3,1323.68 1844.27,1323.68 1860.24,1323.68 1876.21,1323.68 1892.18,1323.68 1908.15,1323.68 1924.12,1323.68 1940.09,1323.68 1956.06,1323.68 1972.03,1323.68 1988,1323.68 2003.97,1323.68 2019.94,1323.68 2035.91,1323.68 2051.88,1323.68 2067.85,1323.68 2083.82,1323.68 2099.79,1323.68 2115.76,1323.68 2131.73,1323.68 2147.7,1323.68 2163.67,1323.68 2179.64,1323.68 2195.61,1323.68 2211.58,1323.67 2227.55,1323.66 2243.52,1323.6 2259.49,1323.31 2275.46,1321.77 2291.43,1326.05 \"/>\n",
       "<polyline clip-path=\"url(#clip832)\" style=\"stroke:#e26f46; stroke-linecap:round; stroke-linejoin:round; stroke-width:4; stroke-opacity:1; fill:none\" points=\"247.252,1326.05 263.222,1321.77 279.192,1323.31 295.163,1323.6 311.133,1323.66 327.103,1323.67 343.073,1323.68 359.043,1323.68 375.013,1323.68 390.983,1323.68 406.954,1323.68 422.924,1323.68 438.894,1323.68 454.864,1323.68 470.834,1323.68 486.804,1323.68 502.774,1323.68 518.745,1323.68 534.715,1323.68 550.685,1323.68 566.655,1323.68 582.625,1323.68 598.595,1323.68 614.565,1323.68 630.536,1323.68 646.506,1323.68 662.476,1323.68 678.446,1323.68 694.416,1323.68 710.386,1323.68 726.356,1323.68 742.327,1323.68 758.297,1323.68 774.267,1323.68 790.237,1323.68 806.207,1323.68 822.177,1323.68 838.147,1323.68 854.118,1323.68 870.088,1323.68 886.058,1323.68 902.028,1323.68 917.998,1323.68 933.968,1323.68 949.938,1323.68 965.909,1323.68 981.879,1323.68 997.849,1323.68 1013.82,1323.68 1029.79,1323.68 1045.76,1323.68 1061.73,1323.68 1077.7,1323.68 1093.67,1323.68 1109.64,1323.68 1125.61,1323.68 1141.58,1323.68 1157.55,1323.69 1173.52,1323.73 1189.49,1323.85 1205.46,1324.36 1221.43,1326.42 1237.4,1335.34 1253.37,1375.23 1269.34,1189.93 1285.31,1375.23 1301.28,1335.34 1317.25,1326.42 1333.22,1324.36 1349.19,1323.85 1365.16,1323.73 1381.13,1323.69 1397.1,1323.68 1413.07,1323.68 1429.04,1323.68 1445.01,1323.68 1460.98,1323.68 1476.95,1323.68 1492.92,1323.68 1508.89,1323.68 1524.86,1323.68 1540.83,1323.68 1556.8,1323.68 1572.77,1323.68 1588.74,1323.68 1604.71,1323.68 1620.68,1323.68 1636.65,1323.68 1652.62,1323.68 1668.59,1323.68 1684.57,1323.68 1700.54,1323.68 1716.51,1323.68 1732.48,1323.68 1748.45,1323.68 1764.42,1323.68 1780.39,1323.68 1796.36,1323.68 1812.33,1323.68 1828.3,1323.68 1844.27,1323.68 1860.24,1323.68 1876.21,1323.68 1892.18,1323.68 1908.15,1323.68 1924.12,1323.68 1940.09,1323.68 1956.06,1323.68 1972.03,1323.68 1988,1323.68 2003.97,1323.68 2019.94,1323.68 2035.91,1323.68 2051.88,1323.68 2067.85,1323.68 2083.82,1323.68 2099.79,1323.68 2115.76,1323.68 2131.73,1323.68 2147.7,1323.68 2163.67,1323.68 2179.64,1323.68 2195.61,1323.68 2211.58,1323.67 2227.55,1323.66 2243.52,1323.6 2259.49,1323.31 2275.46,1321.77 2291.43,1326.05 \"/>\n",
       "<polyline clip-path=\"url(#clip832)\" style=\"stroke:#3da44d; stroke-linecap:round; stroke-linejoin:round; stroke-width:4; stroke-opacity:1; fill:none\" points=\"247.252,1326.05 263.222,1321.77 279.192,1323.31 295.163,1323.6 311.133,1323.66 327.103,1323.67 343.073,1323.68 359.043,1323.68 375.013,1323.68 390.983,1323.68 406.954,1323.68 422.924,1323.68 438.894,1323.68 454.864,1323.68 470.834,1323.68 486.804,1323.68 502.774,1323.68 518.745,1323.68 534.715,1323.68 550.685,1323.68 566.655,1323.68 582.625,1323.68 598.595,1323.68 614.565,1323.68 630.536,1323.68 646.506,1323.68 662.476,1323.68 678.446,1323.68 694.416,1323.68 710.386,1323.68 726.356,1323.68 742.327,1323.68 758.297,1323.68 774.267,1323.68 790.237,1323.68 806.207,1323.69 822.177,1323.69 838.147,1323.7 854.118,1323.7 870.088,1323.71 886.058,1323.73 902.028,1323.75 917.998,1323.78 933.968,1323.82 949.938,1323.88 965.909,1323.96 981.879,1324.08 997.849,1324.24 1013.82,1324.47 1029.79,1324.79 1045.76,1325.24 1061.73,1325.88 1077.7,1326.77 1093.67,1328.03 1109.64,1329.81 1125.61,1332.3 1141.58,1335.81 1157.55,1340.75 1173.52,1347.69 1189.49,1357.47 1205.46,1371.24 1221.43,1390.69 1237.4,1418.32 1253.37,1445.72 1269.34,427.607 1285.31,1445.72 1301.28,1418.32 1317.25,1390.69 1333.22,1371.24 1349.19,1357.47 1365.16,1347.69 1381.13,1340.74 1397.1,1335.81 1413.07,1332.3 1429.04,1329.8 1445.01,1328.03 1460.98,1326.77 1476.95,1325.88 1492.92,1325.24 1508.89,1324.79 1524.86,1324.47 1540.83,1324.24 1556.8,1324.08 1572.77,1323.96 1588.74,1323.88 1604.71,1323.82 1620.68,1323.78 1636.65,1323.75 1652.62,1323.73 1668.59,1323.71 1684.57,1323.7 1700.54,1323.7 1716.51,1323.69 1732.48,1323.69 1748.45,1323.68 1764.42,1323.68 1780.39,1323.68 1796.36,1323.68 1812.33,1323.68 1828.3,1323.68 1844.27,1323.68 1860.24,1323.68 1876.21,1323.68 1892.18,1323.68 1908.15,1323.68 1924.12,1323.68 1940.09,1323.68 1956.06,1323.68 1972.03,1323.68 1988,1323.68 2003.97,1323.68 2019.94,1323.68 2035.91,1323.68 2051.88,1323.68 2067.85,1323.68 2083.82,1323.68 2099.79,1323.68 2115.76,1323.68 2131.73,1323.68 2147.7,1323.68 2163.67,1323.68 2179.64,1323.68 2195.61,1323.68 2211.58,1323.67 2227.55,1323.66 2243.52,1323.6 2259.49,1323.31 2275.46,1321.77 2291.43,1326.05 \"/>\n",
       "<polyline clip-path=\"url(#clip832)\" style=\"stroke:#c271d2; stroke-linecap:round; stroke-linejoin:round; stroke-width:4; stroke-opacity:1; fill:none\" points=\"247.252,1326.08 263.222,1321.82 279.192,1323.41 295.163,1323.75 311.133,1323.86 327.103,1323.94 343.073,1324.02 359.043,1324.1 375.013,1324.19 390.983,1324.28 406.954,1324.37 422.924,1324.47 438.894,1324.57 454.864,1324.68 470.834,1324.79 486.804,1324.91 502.774,1325.02 518.745,1325.16 534.715,1325.29 550.685,1325.43 566.655,1325.57 582.625,1325.74 598.595,1325.92 614.565,1326.12 630.536,1326.34 646.506,1326.59 662.476,1326.87 678.446,1327.18 694.416,1327.51 710.386,1327.88 726.356,1328.26 742.327,1328.66 758.297,1329.11 774.267,1329.62 790.237,1330.26 806.207,1330.93 822.177,1331.73 838.147,1332.66 854.118,1333.75 870.088,1335 886.058,1336.49 902.028,1338.11 917.998,1339.92 933.968,1341.89 949.938,1344.05 965.909,1346.33 981.879,1348.7 997.849,1351.08 1013.82,1353.41 1029.79,1355.56 1045.76,1357.46 1061.73,1358.95 1077.7,1359.9 1093.67,1360.31 1109.64,1359.93 1125.61,1358.77 1141.58,1356.98 1157.55,1354.36 1173.52,1350.99 1189.49,1347.3 1205.46,1343.67 1221.43,1342.04 1237.4,1349.68 1253.37,1388.27 1269.34,87.9763 1285.31,1387.8 1301.28,1347.77 1317.25,1338.19 1333.22,1337.68 1349.19,1338.97 1365.16,1340.49 1381.13,1341.71 1397.1,1342.57 1413.07,1343.01 1429.04,1343.05 1445.01,1342.77 1460.98,1342.14 1476.95,1341.3 1492.92,1340.24 1508.89,1339.07 1524.86,1337.81 1540.83,1336.54 1556.8,1335.28 1572.77,1334.07 1588.74,1332.94 1604.71,1331.89 1620.68,1330.94 1636.65,1330.06 1652.62,1329.27 1668.59,1328.57 1684.57,1327.96 1700.54,1327.42 1716.51,1326.96 1732.48,1326.55 1748.45,1326.21 1764.42,1325.91 1780.39,1325.66 1796.36,1325.45 1812.33,1325.27 1828.3,1325.13 1844.27,1324.99 1860.24,1324.88 1876.21,1324.79 1892.18,1324.71 1908.15,1324.64 1924.12,1324.57 1940.09,1324.51 1956.06,1324.46 1972.03,1324.42 1988,1324.38 2003.97,1324.34 2019.94,1324.3 2035.91,1324.25 2051.88,1324.21 2067.85,1324.17 2083.82,1324.13 2099.79,1324.09 2115.76,1324.04 2131.73,1324 2147.7,1323.96 2163.67,1323.92 2179.64,1323.88 2195.61,1323.84 2211.58,1323.8 2227.55,1323.76 2243.52,1323.67 2259.49,1323.36 2275.46,1321.79 2291.43,1326.07 \"/>\n",
       "<path clip-path=\"url(#clip830)\" d=\"M2009.7 354.418 L2280.53 354.418 L2280.53 95.2176 L2009.7 95.2176  Z\" fill=\"#ffffff\" fill-rule=\"evenodd\" fill-opacity=\"1\"/>\n",
       "<polyline clip-path=\"url(#clip830)\" style=\"stroke:#000000; stroke-linecap:round; stroke-linejoin:round; stroke-width:4; stroke-opacity:1; fill:none\" points=\"2009.7,354.418 2280.53,354.418 2280.53,95.2176 2009.7,95.2176 2009.7,354.418 \"/>\n",
       "<polyline clip-path=\"url(#clip830)\" style=\"stroke:#009af9; stroke-linecap:round; stroke-linejoin:round; stroke-width:4; stroke-opacity:1; fill:none\" points=\"2033.78,147.058 2178.23,147.058 \"/>\n",
       "<path clip-path=\"url(#clip830)\" d=\"M2216.15 166.745 Q2214.35 171.375 2212.63 172.787 Q2210.92 174.199 2208.05 174.199 L2204.65 174.199 L2204.65 170.634 L2207.15 170.634 Q2208.91 170.634 2209.88 169.8 Q2210.85 168.967 2212.03 165.865 L2212.8 163.921 L2202.31 138.412 L2206.82 138.412 L2214.92 158.689 L2223.03 138.412 L2227.54 138.412 L2216.15 166.745 Z\" fill=\"#000000\" fill-rule=\"nonzero\" fill-opacity=\"1\" /><path clip-path=\"url(#clip830)\" d=\"M2234.83 160.402 L2242.47 160.402 L2242.47 134.037 L2234.16 135.703 L2234.16 131.444 L2242.42 129.778 L2247.1 129.778 L2247.1 160.402 L2254.74 160.402 L2254.74 164.338 L2234.83 164.338 L2234.83 160.402 Z\" fill=\"#000000\" fill-rule=\"nonzero\" fill-opacity=\"1\" /><polyline clip-path=\"url(#clip830)\" style=\"stroke:#e26f46; stroke-linecap:round; stroke-linejoin:round; stroke-width:4; stroke-opacity:1; fill:none\" points=\"2033.78,198.898 2178.23,198.898 \"/>\n",
       "<path clip-path=\"url(#clip830)\" d=\"M2216.15 218.585 Q2214.35 223.215 2212.63 224.627 Q2210.92 226.039 2208.05 226.039 L2204.65 226.039 L2204.65 222.474 L2207.15 222.474 Q2208.91 222.474 2209.88 221.64 Q2210.85 220.807 2212.03 217.705 L2212.8 215.761 L2202.31 190.252 L2206.82 190.252 L2214.92 210.529 L2223.03 190.252 L2227.54 190.252 L2216.15 218.585 Z\" fill=\"#000000\" fill-rule=\"nonzero\" fill-opacity=\"1\" /><path clip-path=\"url(#clip830)\" d=\"M2238.05 212.242 L2254.37 212.242 L2254.37 216.178 L2232.42 216.178 L2232.42 212.242 Q2235.09 209.488 2239.67 204.858 Q2244.28 200.205 2245.46 198.863 Q2247.7 196.34 2248.58 194.604 Q2249.48 192.844 2249.48 191.155 Q2249.48 188.4 2247.54 186.664 Q2245.62 184.928 2242.52 184.928 Q2240.32 184.928 2237.86 185.692 Q2235.43 186.455 2232.66 188.006 L2232.66 183.284 Q2235.48 182.15 2237.93 181.571 Q2240.39 180.993 2242.42 180.993 Q2247.8 180.993 2250.99 183.678 Q2254.18 186.363 2254.18 190.854 Q2254.18 192.983 2253.37 194.905 Q2252.59 196.803 2250.48 199.395 Q2249.9 200.067 2246.8 203.284 Q2243.7 206.479 2238.05 212.242 Z\" fill=\"#000000\" fill-rule=\"nonzero\" fill-opacity=\"1\" /><polyline clip-path=\"url(#clip830)\" style=\"stroke:#3da44d; stroke-linecap:round; stroke-linejoin:round; stroke-width:4; stroke-opacity:1; fill:none\" points=\"2033.78,250.738 2178.23,250.738 \"/>\n",
       "<path clip-path=\"url(#clip830)\" d=\"M2216.15 270.425 Q2214.35 275.055 2212.63 276.467 Q2210.92 277.879 2208.05 277.879 L2204.65 277.879 L2204.65 274.314 L2207.15 274.314 Q2208.91 274.314 2209.88 273.48 Q2210.85 272.647 2212.03 269.545 L2212.8 267.601 L2202.31 242.092 L2206.82 242.092 L2214.92 262.369 L2223.03 242.092 L2227.54 242.092 L2216.15 270.425 Z\" fill=\"#000000\" fill-rule=\"nonzero\" fill-opacity=\"1\" /><path clip-path=\"url(#clip830)\" d=\"M2248.19 249.383 Q2251.55 250.101 2253.42 252.369 Q2255.32 254.638 2255.32 257.971 Q2255.32 263.087 2251.8 265.888 Q2248.28 268.689 2241.8 268.689 Q2239.62 268.689 2237.31 268.249 Q2235.02 267.832 2232.56 266.976 L2232.56 262.462 Q2234.51 263.596 2236.82 264.175 Q2239.14 264.754 2241.66 264.754 Q2246.06 264.754 2248.35 263.018 Q2250.67 261.281 2250.67 257.971 Q2250.67 254.916 2248.51 253.203 Q2246.38 251.467 2242.56 251.467 L2238.54 251.467 L2238.54 247.624 L2242.75 247.624 Q2246.2 247.624 2248.03 246.258 Q2249.86 244.87 2249.86 242.277 Q2249.86 239.615 2247.96 238.203 Q2246.08 236.768 2242.56 236.768 Q2240.64 236.768 2238.44 237.184 Q2236.24 237.601 2233.61 238.481 L2233.61 234.314 Q2236.27 233.573 2238.58 233.203 Q2240.92 232.833 2242.98 232.833 Q2248.3 232.833 2251.41 235.263 Q2254.51 237.67 2254.51 241.791 Q2254.51 244.661 2252.86 246.652 Q2251.22 248.62 2248.19 249.383 Z\" fill=\"#000000\" fill-rule=\"nonzero\" fill-opacity=\"1\" /><polyline clip-path=\"url(#clip830)\" style=\"stroke:#c271d2; stroke-linecap:round; stroke-linejoin:round; stroke-width:4; stroke-opacity:1; fill:none\" points=\"2033.78,302.578 2178.23,302.578 \"/>\n",
       "<path clip-path=\"url(#clip830)\" d=\"M2216.15 322.265 Q2214.35 326.895 2212.63 328.307 Q2210.92 329.719 2208.05 329.719 L2204.65 329.719 L2204.65 326.154 L2207.15 326.154 Q2208.91 326.154 2209.88 325.32 Q2210.85 324.487 2212.03 321.385 L2212.8 319.441 L2202.31 293.932 L2206.82 293.932 L2214.92 314.209 L2223.03 293.932 L2227.54 293.932 L2216.15 322.265 Z\" fill=\"#000000\" fill-rule=\"nonzero\" fill-opacity=\"1\" /><path clip-path=\"url(#clip830)\" d=\"M2246.87 289.372 L2235.06 307.821 L2246.87 307.821 L2246.87 289.372 M2245.64 285.298 L2251.52 285.298 L2251.52 307.821 L2256.45 307.821 L2256.45 311.709 L2251.52 311.709 L2251.52 319.858 L2246.87 319.858 L2246.87 311.709 L2231.27 311.709 L2231.27 307.196 L2245.64 285.298 Z\" fill=\"#000000\" fill-rule=\"nonzero\" fill-opacity=\"1\" /></svg>\n"
      ]
     },
     "metadata": {},
     "output_type": "display_data"
    }
   ],
   "source": [
    "plot([density_MI, density_MI_2, density_MI_3, density_MI_4])"
   ]
  },
  {
   "cell_type": "code",
   "execution_count": 4,
   "metadata": {},
   "outputs": [
    {
     "name": "stdout",
     "output_type": "stream",
     "text": [
      "After sweep 1 energy=-85.41328979790065  maxlinkdim=18 maxerr=7.12E-37 time=2.029\n"
     ]
    },
    {
     "name": "stdout",
     "output_type": "stream",
     "text": [
      "After sweep 2 energy=-85.866998249793  maxlinkdim=128 maxerr=8.06E-12 time=10.601\n"
     ]
    },
    {
     "name": "stdout",
     "output_type": "stream",
     "text": [
      "After sweep 3 energy=-85.91964093307033  maxlinkdim=128 maxerr=4.17E-11 time=18.608\n"
     ]
    },
    {
     "name": "stdout",
     "output_type": "stream",
     "text": [
      "After sweep 4 energy=-85.94720086375345  maxlinkdim=128 maxerr=1.39E-11 time=17.790\n"
     ]
    },
    {
     "name": "stdout",
     "output_type": "stream",
     "text": [
      "After sweep 5 energy=-85.96532361305688  maxlinkdim=128 maxerr=2.42E-11 time=17.192\n"
     ]
    },
    {
     "name": "stdout",
     "output_type": "stream",
     "text": [
      "After sweep 6 energy=-85.97789286497553  maxlinkdim=128 maxerr=1.27E-11 time=17.061\n"
     ]
    },
    {
     "name": "stdout",
     "output_type": "stream",
     "text": [
      "After sweep 7 energy=-85.98715645226918  maxlinkdim=128 maxerr=1.30E-11 time=17.945\n"
     ]
    },
    {
     "name": "stdout",
     "output_type": "stream",
     "text": [
      "After sweep 8 energy=-85.99405557960169  maxlinkdim=128 maxerr=1.61E-11 time=18.347\n"
     ]
    },
    {
     "name": "stdout",
     "output_type": "stream",
     "text": [
      "After sweep 9 energy=-85.99940727042025  maxlinkdim=128 maxerr=1.28E-11 time=17.658\n"
     ]
    },
    {
     "name": "stdout",
     "output_type": "stream",
     "text": [
      "After sweep 10 energy=-86.00368483819366  maxlinkdim=128 maxerr=9.93E-12 time=18.228\n"
     ]
    },
    {
     "name": "stdout",
     "output_type": "stream",
     "text": [
      "After sweep 11 energy=-86.00708375452385  maxlinkdim=128 maxerr=2.98E-11 time=18.355\n"
     ]
    },
    {
     "name": "stdout",
     "output_type": "stream",
     "text": [
      "After sweep 12 energy=-86.01003176017217  maxlinkdim=128 maxerr=4.27E-09 time=16.847\n"
     ]
    },
    {
     "name": "stdout",
     "output_type": "stream",
     "text": [
      "After sweep 13 energy=-86.01224048259718  maxlinkdim=128 maxerr=1.48E-10 time=16.432\n"
     ]
    },
    {
     "name": "stdout",
     "output_type": "stream",
     "text": [
      "After sweep 14 energy=-86.01387311372557  maxlinkdim=128 maxerr=5.43E-10 time=17.243\n"
     ]
    },
    {
     "name": "stdout",
     "output_type": "stream",
     "text": [
      "After sweep 15 energy=-86.01525291161494  maxlinkdim=128 maxerr=4.64E-10 time=16.852\n"
     ]
    },
    {
     "name": "stdout",
     "output_type": "stream",
     "text": [
      "After sweep 16 energy=-86.01659225656276  maxlinkdim=128 maxerr=7.31E-10 time=17.118\n"
     ]
    },
    {
     "name": "stdout",
     "output_type": "stream",
     "text": [
      "After sweep 17 energy=-86.01764137813439  maxlinkdim=128 maxerr=1.02E-09 time=17.802\n"
     ]
    },
    {
     "name": "stdout",
     "output_type": "stream",
     "text": [
      "After sweep 18 energy=-86.01830702260177  maxlinkdim=128 maxerr=3.11E-09 time=18.895\n"
     ]
    },
    {
     "name": "stdout",
     "output_type": "stream",
     "text": [
      "After sweep 19 energy=-86.01880821469808  maxlinkdim=128 maxerr=1.51E-08 time=19.196\n"
     ]
    },
    {
     "name": "stdout",
     "output_type": "stream",
     "text": [
      "After sweep 20 energy=-86.01921362264055  maxlinkdim=128 maxerr=9.67E-09 time=19.525\n"
     ]
    },
    {
     "name": "stdout",
     "output_type": "stream",
     "text": [
      "After sweep 21 energy=-86.01953621249464  maxlinkdim=128 maxerr=9.40E-09 time=18.071\n"
     ]
    },
    {
     "name": "stdout",
     "output_type": "stream",
     "text": [
      "After sweep 22 energy=-86.01986608419745  maxlinkdim=128 maxerr=1.33E-08 time=17.392\n"
     ]
    },
    {
     "name": "stdout",
     "output_type": "stream",
     "text": [
      "After sweep 23 energy=-86.02013516571321  maxlinkdim=128 maxerr=2.68E-08 time=17.235\n"
     ]
    },
    {
     "name": "stdout",
     "output_type": "stream",
     "text": [
      "After sweep 24 energy=-86.0202199316902  maxlinkdim=128 maxerr=3.18E-08 time=17.813\n"
     ]
    },
    {
     "name": "stdout",
     "output_type": "stream",
     "text": [
      "After sweep 25 energy=-86.02024247013895  maxlinkdim=128 maxerr=1.36E-08 time=17.697\n"
     ]
    },
    {
     "name": "stdout",
     "output_type": "stream",
     "text": [
      "After sweep 26 energy=-86.02024652325636  maxlinkdim=128 maxerr=8.68E-09 time=18.712\n"
     ]
    },
    {
     "name": "stdout",
     "output_type": "stream",
     "text": [
      "After sweep 27 energy=-86.02024678477417  maxlinkdim=128 maxerr=5.36E-09 time=18.783\n"
     ]
    },
    {
     "name": "stdout",
     "output_type": "stream",
     "text": [
      "After sweep 28 energy=-86.02024680698001  maxlinkdim=128 maxerr=5.51E-09 time=18.675\n"
     ]
    },
    {
     "name": "stdout",
     "output_type": "stream",
     "text": [
      "After sweep 29 energy=-86.02024680706755  maxlinkdim=128 maxerr=5.66E-09 time=19.057\n"
     ]
    },
    {
     "name": "stdout",
     "output_type": "stream",
     "text": [
      "Energy difference less than 1.0e-10, stopping DMRG"
     ]
    },
    {
     "name": "stdout",
     "output_type": "stream",
     "text": [
      "\n",
      "After sweep 1 energy=-86.00360762641152  maxlinkdim=18 maxerr=4.55E-37 time=1.922\n"
     ]
    },
    {
     "name": "stdout",
     "output_type": "stream",
     "text": [
      "After sweep 2 energy=-86.46297694148964  maxlinkdim=128 maxerr=6.57E-12 time=10.615\n"
     ]
    },
    {
     "name": "stdout",
     "output_type": "stream",
     "text": [
      "After sweep 3 energy=-86.51700714405256  maxlinkdim=128 maxerr=5.90E-11 time=17.219\n"
     ]
    },
    {
     "name": "stdout",
     "output_type": "stream",
     "text": [
      "After sweep 4 energy=-86.54567615548754  maxlinkdim=128 maxerr=2.68E-11 time=18.260\n"
     ]
    },
    {
     "name": "stdout",
     "output_type": "stream",
     "text": [
      "After sweep 5 energy=-86.56449722754735  maxlinkdim=128 maxerr=2.93E-11 time=18.386\n"
     ]
    },
    {
     "name": "stdout",
     "output_type": "stream",
     "text": [
      "After sweep 6 energy=-86.57807216639472  maxlinkdim=128 maxerr=3.20E-11 time=18.463\n"
     ]
    },
    {
     "name": "stdout",
     "output_type": "stream",
     "text": [
      "After sweep 7 energy=-86.58834072810613  maxlinkdim=128 maxerr=3.66E-11 time=18.548\n"
     ]
    },
    {
     "name": "stdout",
     "output_type": "stream",
     "text": [
      "After sweep 8 energy=-86.59566624781874  maxlinkdim=128 maxerr=3.09E-11 time=18.891\n"
     ]
    },
    {
     "name": "stdout",
     "output_type": "stream",
     "text": [
      "After sweep 9 energy=-86.60132684092945  maxlinkdim=128 maxerr=4.11E-11 time=19.248\n"
     ]
    },
    {
     "name": "stdout",
     "output_type": "stream",
     "text": [
      "After sweep 10 energy=-86.60593290256102  maxlinkdim=128 maxerr=3.56E-11 time=17.927\n"
     ]
    },
    {
     "name": "stdout",
     "output_type": "stream",
     "text": [
      "After sweep 11 energy=-86.60957501246783  maxlinkdim=128 maxerr=9.92E-12 time=16.719\n"
     ]
    },
    {
     "name": "stdout",
     "output_type": "stream",
     "text": [
      "After sweep 12 energy=-86.61264316315324  maxlinkdim=128 maxerr=1.93E-10 time=17.257\n"
     ]
    },
    {
     "name": "stdout",
     "output_type": "stream",
     "text": [
      "After sweep 13 energy=-86.61534482649948  maxlinkdim=128 maxerr=1.70E-09 time=17.643\n"
     ]
    },
    {
     "name": "stdout",
     "output_type": "stream",
     "text": [
      "After sweep 14 energy=-86.61748643974495  maxlinkdim=128 maxerr=1.01E-10 time=19.728\n"
     ]
    },
    {
     "name": "stdout",
     "output_type": "stream",
     "text": [
      "After sweep 15 energy=-86.6193408814226  maxlinkdim=128 maxerr=3.32E-10 time=20.372\n"
     ]
    },
    {
     "name": "stdout",
     "output_type": "stream",
     "text": [
      "After sweep 16 energy=-86.62085686966321  maxlinkdim=128 maxerr=3.27E-10 time=19.865\n"
     ]
    },
    {
     "name": "stdout",
     "output_type": "stream",
     "text": [
      "After sweep 17 energy=-86.6220027402592  maxlinkdim=128 maxerr=7.69E-11 time=20.933\n"
     ]
    },
    {
     "name": "stdout",
     "output_type": "stream",
     "text": [
      "After sweep 18 energy=-86.62298047257158  maxlinkdim=128 maxerr=6.26E-10 time=20.654\n"
     ]
    },
    {
     "name": "stdout",
     "output_type": "stream",
     "text": [
      "After sweep 19 energy=-86.62387707496136  maxlinkdim=128 maxerr=5.12E-10 time=19.779\n"
     ]
    },
    {
     "name": "stdout",
     "output_type": "stream",
     "text": [
      "After sweep 20 energy=-86.6247831876956  maxlinkdim=128 maxerr=1.27E-08 time=17.327\n"
     ]
    },
    {
     "name": "stdout",
     "output_type": "stream",
     "text": [
      "After sweep 21 energy=-86.62531946868307  maxlinkdim=128 maxerr=9.33E-09 time=19.049\n"
     ]
    },
    {
     "name": "stdout",
     "output_type": "stream",
     "text": [
      "After sweep 22 energy=-86.6256928842185  maxlinkdim=128 maxerr=5.38E-09 time=18.787\n"
     ]
    },
    {
     "name": "stdout",
     "output_type": "stream",
     "text": [
      "After sweep 23 energy=-86.62601357091884  maxlinkdim=128 maxerr=7.33E-09 time=18.309\n"
     ]
    },
    {
     "name": "stdout",
     "output_type": "stream",
     "text": [
      "After sweep 24 energy=-86.62617368458014  maxlinkdim=128 maxerr=2.15E-08 time=18.886\n"
     ]
    },
    {
     "name": "stdout",
     "output_type": "stream",
     "text": [
      "After sweep 25 energy=-86.62628035293554  maxlinkdim=128 maxerr=2.75E-08 time=19.498\n"
     ]
    },
    {
     "name": "stdout",
     "output_type": "stream",
     "text": [
      "After sweep 26 energy=-86.62637598001736  maxlinkdim=128 maxerr=3.31E-08 time=18.999\n"
     ]
    },
    {
     "name": "stdout",
     "output_type": "stream",
     "text": [
      "After sweep 27 energy=-86.62641257546152  maxlinkdim=128 maxerr=1.72E-08 time=19.726\n"
     ]
    },
    {
     "name": "stdout",
     "output_type": "stream",
     "text": [
      "After sweep 28 energy=-86.62642385293803  maxlinkdim=128 maxerr=2.19E-08 time=20.651\n"
     ]
    },
    {
     "name": "stdout",
     "output_type": "stream",
     "text": [
      "After sweep 29 energy=-86.62642508910216  maxlinkdim=128 maxerr=1.22E-08 time=18.035\n"
     ]
    },
    {
     "name": "stdout",
     "output_type": "stream",
     "text": [
      "After sweep 30 energy=-86.62642518323118  maxlinkdim=128 maxerr=1.21E-08 time=19.351\n"
     ]
    },
    {
     "name": "stdout",
     "output_type": "stream",
     "text": [
      "After sweep 31 energy=-86.6264251919028  maxlinkdim=128 maxerr=1.26E-08 time=18.507\n"
     ]
    },
    {
     "name": "stdout",
     "output_type": "stream",
     "text": [
      "After sweep 32 energy=-86.62642519526136  maxlinkdim=128 maxerr=1.29E-08 time=17.778\n"
     ]
    },
    {
     "name": "stdout",
     "output_type": "stream",
     "text": [
      "After sweep 33 energy=-86.62642519659418  maxlinkdim=128 maxerr=1.30E-08 time=18.305\n"
     ]
    },
    {
     "name": "stdout",
     "output_type": "stream",
     "text": [
      "After sweep 34 energy=-86.6264251985949  maxlinkdim=128 maxerr=1.31E-08 time=19.609\n"
     ]
    },
    {
     "name": "stdout",
     "output_type": "stream",
     "text": [
      "After sweep 35 energy=-86.62642520182597  maxlinkdim=128 maxerr=1.31E-08 time=20.397\n"
     ]
    },
    {
     "name": "stdout",
     "output_type": "stream",
     "text": [
      "After sweep 36 energy=-86.62642520253878  maxlinkdim=128 maxerr=1.32E-08 time=19.402\n"
     ]
    },
    {
     "name": "stdout",
     "output_type": "stream",
     "text": [
      "After sweep 37 energy=-86.62642520321602  maxlinkdim=128 maxerr=1.32E-08 time=20.655\n"
     ]
    },
    {
     "name": "stdout",
     "output_type": "stream",
     "text": [
      "After sweep 38 energy=-86.62642520394704  maxlinkdim=128 maxerr=1.32E-08 time=19.323\n"
     ]
    },
    {
     "name": "stdout",
     "output_type": "stream",
     "text": [
      "After sweep 39 energy=-86.6264252046987  maxlinkdim=128 maxerr=1.32E-08 time=17.452\n"
     ]
    },
    {
     "name": "stdout",
     "output_type": "stream",
     "text": [
      "After sweep 40 energy=-86.62642520545131  maxlinkdim=128 maxerr=1.32E-08 time=17.765\n"
     ]
    },
    {
     "name": "stdout",
     "output_type": "stream",
     "text": [
      "After sweep 41 energy=-86.62642520619622  maxlinkdim=128 maxerr=1.32E-08 time=18.146\n"
     ]
    },
    {
     "name": "stdout",
     "output_type": "stream",
     "text": [
      "After sweep 42 energy=-86.6264252069283  maxlinkdim=128 maxerr=1.32E-08 time=18.108\n"
     ]
    },
    {
     "name": "stdout",
     "output_type": "stream",
     "text": [
      "After sweep 43 energy=-86.62642520764376  maxlinkdim=128 maxerr=1.32E-08 time=18.521\n"
     ]
    },
    {
     "name": "stdout",
     "output_type": "stream",
     "text": [
      "After sweep 44 energy=-86.62642520892923  maxlinkdim=128 maxerr=1.32E-08 time=18.780\n"
     ]
    },
    {
     "name": "stdout",
     "output_type": "stream",
     "text": [
      "After sweep 45 energy=-86.62642520902794  maxlinkdim=128 maxerr=1.32E-08 time=19.440\n"
     ]
    },
    {
     "name": "stdout",
     "output_type": "stream",
     "text": [
      "Energy difference less than 1.0e-10, stopping DMRG\n"
     ]
    },
    {
     "name": "stdout",
     "output_type": "stream",
     "text": [
      "After sweep 1 energy=-86.7756983441708  maxlinkdim=18 maxerr=4.57E-37 time=1.997\n"
     ]
    },
    {
     "name": "stdout",
     "output_type": "stream",
     "text": [
      "After sweep 2 energy=-87.26069237183154  maxlinkdim=128 maxerr=6.40E-12 time=11.439\n"
     ]
    },
    {
     "name": "stdout",
     "output_type": "stream",
     "text": [
      "After sweep 3 energy=-87.31685428482953  maxlinkdim=128 maxerr=3.38E-11 time=18.115\n"
     ]
    },
    {
     "name": "stdout",
     "output_type": "stream",
     "text": [
      "After sweep 4 energy=-87.34726454053508  maxlinkdim=128 maxerr=2.85E-11 time=17.931\n"
     ]
    },
    {
     "name": "stdout",
     "output_type": "stream",
     "text": [
      "After sweep 5 energy=-87.36757670847223  maxlinkdim=128 maxerr=2.67E-11 time=16.668\n"
     ]
    },
    {
     "name": "stdout",
     "output_type": "stream",
     "text": [
      "After sweep 6 energy=-87.38211859459123  maxlinkdim=128 maxerr=1.72E-11 time=17.005\n"
     ]
    },
    {
     "name": "stdout",
     "output_type": "stream",
     "text": [
      "After sweep 7 energy=-87.39311557283905  maxlinkdim=128 maxerr=1.32E-11 time=17.687\n"
     ]
    },
    {
     "name": "stdout",
     "output_type": "stream",
     "text": [
      "After sweep 8 energy=-87.40238158331591  maxlinkdim=128 maxerr=6.18E-10 time=18.567\n"
     ]
    },
    {
     "name": "stdout",
     "output_type": "stream",
     "text": [
      "After sweep 9 energy=-87.40974414357355  maxlinkdim=128 maxerr=3.34E-11 time=17.475\n"
     ]
    },
    {
     "name": "stdout",
     "output_type": "stream",
     "text": [
      "After sweep 10 energy=-87.41547198125916  maxlinkdim=128 maxerr=1.62E-11 time=17.113\n"
     ]
    },
    {
     "name": "stdout",
     "output_type": "stream",
     "text": [
      "After sweep 11 energy=-87.42053669730508  maxlinkdim=128 maxerr=2.38E-10 time=19.791\n"
     ]
    },
    {
     "name": "stdout",
     "output_type": "stream",
     "text": [
      "After sweep 12 energy=-87.42484825700794  maxlinkdim=128 maxerr=5.02E-09 time=21.571\n"
     ]
    },
    {
     "name": "stdout",
     "output_type": "stream",
     "text": [
      "After sweep 13 energy=-87.42851410016274  maxlinkdim=128 maxerr=9.18E-10 time=17.005\n"
     ]
    },
    {
     "name": "stdout",
     "output_type": "stream",
     "text": [
      "After sweep 14 energy=-87.4313683623797  maxlinkdim=128 maxerr=2.63E-11 time=17.326\n"
     ]
    },
    {
     "name": "stdout",
     "output_type": "stream",
     "text": [
      "After sweep 15 energy=-87.43388122120818  maxlinkdim=128 maxerr=9.27E-11 time=17.325\n"
     ]
    },
    {
     "name": "stdout",
     "output_type": "stream",
     "text": [
      "After sweep 16 energy=-87.435967188682  maxlinkdim=128 maxerr=4.29E-11 time=17.773\n"
     ]
    },
    {
     "name": "stdout",
     "output_type": "stream",
     "text": [
      "After sweep 17 energy=-87.43795646038708  maxlinkdim=128 maxerr=3.00E-09 time=17.988\n"
     ]
    },
    {
     "name": "stdout",
     "output_type": "stream",
     "text": [
      "After sweep 18 energy=-87.43965780090456  maxlinkdim=128 maxerr=1.97E-09 time=18.347\n"
     ]
    },
    {
     "name": "stdout",
     "output_type": "stream",
     "text": [
      "After sweep 19 energy=-87.44098169226456  maxlinkdim=128 maxerr=2.82E-09 time=18.719\n"
     ]
    },
    {
     "name": "stdout",
     "output_type": "stream",
     "text": [
      "After sweep 20 energy=-87.44189186819652  maxlinkdim=128 maxerr=2.95E-09 time=21.873\n"
     ]
    },
    {
     "name": "stdout",
     "output_type": "stream",
     "text": [
      "After sweep 21 energy=-87.44258068474359  maxlinkdim=128 maxerr=8.62E-09 time=20.107\n"
     ]
    },
    {
     "name": "stdout",
     "output_type": "stream",
     "text": [
      "After sweep 22 energy=-87.44304625890534  maxlinkdim=128 maxerr=1.85E-09 time=22.035\n"
     ]
    },
    {
     "name": "stdout",
     "output_type": "stream",
     "text": [
      "After sweep 23 energy=-87.44338638081345  maxlinkdim=128 maxerr=1.97E-09 time=18.342\n"
     ]
    },
    {
     "name": "stdout",
     "output_type": "stream",
     "text": [
      "After sweep 24 energy=-87.44367324731493  maxlinkdim=128 maxerr=1.55E-08 time=18.288\n"
     ]
    },
    {
     "name": "stdout",
     "output_type": "stream",
     "text": [
      "After sweep 25 energy=-87.44395606943031  maxlinkdim=128 maxerr=1.51E-08 time=18.902\n"
     ]
    },
    {
     "name": "stdout",
     "output_type": "stream",
     "text": [
      "After sweep 26 energy=-87.44418025454675  maxlinkdim=128 maxerr=1.17E-08 time=19.259\n"
     ]
    },
    {
     "name": "stdout",
     "output_type": "stream",
     "text": [
      "After sweep 27 energy=-87.4443838752727  maxlinkdim=128 maxerr=2.44E-08 time=20.171\n"
     ]
    },
    {
     "name": "stdout",
     "output_type": "stream",
     "text": [
      "After sweep 28 energy=-87.44443253897386  maxlinkdim=128 maxerr=3.06E-08 time=20.873\n"
     ]
    },
    {
     "name": "stdout",
     "output_type": "stream",
     "text": [
      "After sweep 29 energy=-87.44444326522577  maxlinkdim=128 maxerr=2.37E-08 time=20.321\n"
     ]
    },
    {
     "name": "stdout",
     "output_type": "stream",
     "text": [
      "After sweep 30 energy=-87.44444432998037  maxlinkdim=128 maxerr=2.37E-08 time=20.938\n"
     ]
    },
    {
     "name": "stdout",
     "output_type": "stream",
     "text": [
      "After sweep 31 energy=-87.44444441798849  maxlinkdim=128 maxerr=2.54E-08 time=22.301\n"
     ]
    },
    {
     "name": "stdout",
     "output_type": "stream",
     "text": [
      "After sweep 32 energy=-87.4444444298152  maxlinkdim=128 maxerr=2.58E-08 time=20.976\n"
     ]
    },
    {
     "name": "stdout",
     "output_type": "stream",
     "text": [
      "After sweep 33 energy=-87.44444443135781  maxlinkdim=128 maxerr=2.62E-08 time=19.179\n"
     ]
    },
    {
     "name": "stdout",
     "output_type": "stream",
     "text": [
      "After sweep 34 energy=-87.44444443246105  maxlinkdim=128 maxerr=2.64E-08 time=19.764\n"
     ]
    },
    {
     "name": "stdout",
     "output_type": "stream",
     "text": [
      "After sweep 35 energy=-87.44444443232189  maxlinkdim=128 maxerr=2.65E-08 time=20.548\n"
     ]
    },
    {
     "name": "stdout",
     "output_type": "stream",
     "text": [
      "After sweep 36 energy=-87.4444444320843  maxlinkdim=128 maxerr=2.65E-08 time=20.113\n"
     ]
    },
    {
     "name": "stdout",
     "output_type": "stream",
     "text": [
      "After sweep 37 energy=-87.44444443241717  maxlinkdim=128 maxerr=2.66E-08 time=19.491\n"
     ]
    },
    {
     "name": "stdout",
     "output_type": "stream",
     "text": [
      "After sweep 38 energy=-87.44444443221883  maxlinkdim=128 maxerr=2.66E-08 time=19.589\n"
     ]
    },
    {
     "name": "stdout",
     "output_type": "stream",
     "text": [
      "After sweep 39 energy=-87.44444443210817  maxlinkdim=128 maxerr=2.66E-08 time=19.734\n"
     ]
    },
    {
     "name": "stdout",
     "output_type": "stream",
     "text": [
      "After sweep 40 energy=-87.44444443205097  maxlinkdim=128 maxerr=2.66E-08 time=19.985\n"
     ]
    },
    {
     "name": "stdout",
     "output_type": "stream",
     "text": [
      "Energy difference less than 1.0e-10, stopping DMRG"
     ]
    },
    {
     "name": "stdout",
     "output_type": "stream",
     "text": [
      "\n",
      "After sweep 1 energy=-87.73360756799954  maxlinkdim=18 maxerr=4.55E-37 time=1.951\n"
     ]
    },
    {
     "name": "stdout",
     "output_type": "stream",
     "text": [
      "After sweep 2 energy=-88.25290831662903  maxlinkdim=128 maxerr=6.47E-12 time=12.353\n"
     ]
    },
    {
     "name": "stdout",
     "output_type": "stream",
     "text": [
      "After sweep 3 energy=-88.31644724731808  maxlinkdim=128 maxerr=3.59E-11 time=18.964\n"
     ]
    },
    {
     "name": "stdout",
     "output_type": "stream",
     "text": [
      "After sweep 4 energy=-88.35142397417452  maxlinkdim=128 maxerr=2.05E-11 time=17.660\n"
     ]
    },
    {
     "name": "stdout",
     "output_type": "stream",
     "text": [
      "After sweep 5 energy=-88.37541679630283  maxlinkdim=128 maxerr=2.39E-11 time=18.367\n"
     ]
    },
    {
     "name": "stdout",
     "output_type": "stream",
     "text": [
      "After sweep 6 energy=-88.39303163453572  maxlinkdim=128 maxerr=4.92E-11 time=19.982\n"
     ]
    },
    {
     "name": "stdout",
     "output_type": "stream",
     "text": [
      "After sweep 7 energy=-88.40593515112955  maxlinkdim=128 maxerr=2.73E-11 time=19.390\n"
     ]
    },
    {
     "name": "stdout",
     "output_type": "stream",
     "text": [
      "After sweep 8 energy=-88.41604437140757  maxlinkdim=128 maxerr=1.94E-11 time=20.109\n"
     ]
    },
    {
     "name": "stdout",
     "output_type": "stream",
     "text": [
      "After sweep 9 energy=-88.42439479393488  maxlinkdim=128 maxerr=1.11E-11 time=20.825\n"
     ]
    },
    {
     "name": "stdout",
     "output_type": "stream",
     "text": [
      "After sweep 10 energy=-88.43139156158954  maxlinkdim=128 maxerr=1.14E-11 time=21.507\n"
     ]
    },
    {
     "name": "stdout",
     "output_type": "stream",
     "text": [
      "After sweep 11 energy=-88.43736879644403  maxlinkdim=128 maxerr=9.32E-12 time=20.173\n"
     ]
    },
    {
     "name": "stdout",
     "output_type": "stream",
     "text": [
      "After sweep 12 energy=-88.44259504335386  maxlinkdim=128 maxerr=8.77E-12 time=21.514\n"
     ]
    },
    {
     "name": "stdout",
     "output_type": "stream",
     "text": [
      "After sweep 13 energy=-88.44711750433186  maxlinkdim=128 maxerr=8.66E-12 time=18.499\n"
     ]
    },
    {
     "name": "stdout",
     "output_type": "stream",
     "text": [
      "After sweep 14 energy=-88.45119742972727  maxlinkdim=128 maxerr=1.11E-11 time=18.244\n"
     ]
    },
    {
     "name": "stdout",
     "output_type": "stream",
     "text": [
      "After sweep 15 energy=-88.45494736556748  maxlinkdim=128 maxerr=1.40E-11 time=19.758\n"
     ]
    },
    {
     "name": "stdout",
     "output_type": "stream",
     "text": [
      "After sweep 16 energy=-88.45835808136424  maxlinkdim=128 maxerr=5.27E-11 time=19.893\n"
     ]
    },
    {
     "name": "stdout",
     "output_type": "stream",
     "text": [
      "After sweep 17 energy=-88.46166508296253  maxlinkdim=128 maxerr=1.21E-09 time=21.511\n"
     ]
    },
    {
     "name": "stdout",
     "output_type": "stream",
     "text": [
      "After sweep 18 energy=-88.46436131766563  maxlinkdim=128 maxerr=8.42E-10 time=21.084\n"
     ]
    },
    {
     "name": "stdout",
     "output_type": "stream",
     "text": [
      "After sweep 19 energy=-88.4665524009091  maxlinkdim=128 maxerr=1.02E-08 time=20.516\n"
     ]
    },
    {
     "name": "stdout",
     "output_type": "stream",
     "text": [
      "After sweep 20 energy=-88.46811804417013  maxlinkdim=128 maxerr=7.21E-10 time=21.341\n"
     ]
    },
    {
     "name": "stdout",
     "output_type": "stream",
     "text": [
      "After sweep 21 energy=-88.46906638932062  maxlinkdim=128 maxerr=5.77E-09 time=20.404\n"
     ]
    },
    {
     "name": "stdout",
     "output_type": "stream",
     "text": [
      "After sweep 22 energy=-88.46973557904992  maxlinkdim=128 maxerr=1.47E-09 time=19.912\n"
     ]
    },
    {
     "name": "stdout",
     "output_type": "stream",
     "text": [
      "After sweep 23 energy=-88.47023965162086  maxlinkdim=128 maxerr=1.58E-09 time=17.963\n"
     ]
    },
    {
     "name": "stdout",
     "output_type": "stream",
     "text": [
      "After sweep 24 energy=-88.4707065292306  maxlinkdim=128 maxerr=2.98E-09 time=18.024\n"
     ]
    },
    {
     "name": "stdout",
     "output_type": "stream",
     "text": [
      "After sweep 25 energy=-88.47115772477142  maxlinkdim=128 maxerr=1.50E-08 time=20.023\n"
     ]
    },
    {
     "name": "stdout",
     "output_type": "stream",
     "text": [
      "After sweep 26 energy=-88.47142067055741  maxlinkdim=128 maxerr=1.37E-08 time=19.261\n"
     ]
    },
    {
     "name": "stdout",
     "output_type": "stream",
     "text": [
      "After sweep 27 energy=-88.47161785791256  maxlinkdim=128 maxerr=9.93E-09 time=20.433\n"
     ]
    },
    {
     "name": "stdout",
     "output_type": "stream",
     "text": [
      "After sweep 28 energy=-88.47181128984434  maxlinkdim=128 maxerr=1.02E-08 time=20.457\n"
     ]
    },
    {
     "name": "stdout",
     "output_type": "stream",
     "text": [
      "After sweep 29 energy=-88.47194825833157  maxlinkdim=128 maxerr=7.09E-08 time=20.597\n"
     ]
    },
    {
     "name": "stdout",
     "output_type": "stream",
     "text": [
      "After sweep 30 energy=-88.47199515791223  maxlinkdim=128 maxerr=3.96E-08 time=20.532\n"
     ]
    },
    {
     "name": "stdout",
     "output_type": "stream",
     "text": [
      "After sweep 31 energy=-88.47200371520087  maxlinkdim=128 maxerr=3.83E-08 time=21.044\n"
     ]
    },
    {
     "name": "stdout",
     "output_type": "stream",
     "text": [
      "After sweep 32 energy=-88.47200437369553  maxlinkdim=128 maxerr=3.94E-08 time=21.755\n"
     ]
    },
    {
     "name": "stdout",
     "output_type": "stream",
     "text": [
      "After sweep 33 energy=-88.47200443155042  maxlinkdim=128 maxerr=4.13E-08 time=18.145\n"
     ]
    },
    {
     "name": "stdout",
     "output_type": "stream",
     "text": [
      "After sweep 34 energy=-88.47200443585673  maxlinkdim=128 maxerr=4.22E-08 time=18.594\n"
     ]
    },
    {
     "name": "stdout",
     "output_type": "stream",
     "text": [
      "After sweep 35 energy=-88.47200443476223  maxlinkdim=128 maxerr=4.26E-08 time=18.407\n"
     ]
    },
    {
     "name": "stdout",
     "output_type": "stream",
     "text": [
      "After sweep 36 energy=-88.47200443504074  maxlinkdim=128 maxerr=4.29E-08 time=18.941\n"
     ]
    },
    {
     "name": "stdout",
     "output_type": "stream",
     "text": [
      "After sweep 37 energy=-88.47200443356775  maxlinkdim=128 maxerr=4.31E-08 time=19.563\n"
     ]
    },
    {
     "name": "stdout",
     "output_type": "stream",
     "text": [
      "After sweep 38 energy=-88.47200443610355  maxlinkdim=128 maxerr=4.32E-08 time=19.700\n"
     ]
    },
    {
     "name": "stdout",
     "output_type": "stream",
     "text": [
      "After sweep 39 energy=-88.47200443600346  maxlinkdim=128 maxerr=4.32E-08 time=20.439\n"
     ]
    },
    {
     "name": "stdout",
     "output_type": "stream",
     "text": [
      "After sweep 40 energy=-88.47200443601207  maxlinkdim=128 maxerr=4.33E-08 time=21.665\n"
     ]
    },
    {
     "name": "stdout",
     "output_type": "stream",
     "text": [
      "Energy difference less than 1.0e-10, stopping DMRG\n"
     ]
    },
    {
     "data": {
      "text/plain": [
       "129-element Vector{Float64}:\n",
       " 0.637688842633198\n",
       " 0.9405222878980507\n",
       " 0.9859741378590835\n",
       " 0.9925435311038052\n",
       " 0.9936983376799333\n",
       " 0.9940162283607472\n",
       " 0.9941585250724582\n",
       " 0.9942421884426222\n",
       " 0.994297621304567\n",
       " 0.9943367173584982\n",
       " ⋮\n",
       " 0.9942976899397752\n",
       " 0.9942422568085468\n",
       " 0.9941585948136916\n",
       " 0.9940162980259971\n",
       " 0.9936984131169544\n",
       " 0.9925436056706939\n",
       " 0.985974211465431\n",
       " 0.9405223683830963\n",
       " 0.637688926769988"
      ]
     },
     "metadata": {},
     "output_type": "display_data"
    }
   ],
   "source": [
    "density_SF = density_function(0.5, 1., 0., 129, convergence=1e-10, impurity_values=[0.0], impurity_sites=[65], impurity=true)\n",
    "density_SF_2 = density_function(0.5, 1., 0., 129, convergence=1e-10, impurity_values=[0.5], impurity_sites=[65], impurity=true)\n",
    "density_SF_3 = density_function(0.5, 1., 0., 129, convergence=1e-10, impurity_values=[1.0], impurity_sites=[65], impurity=true)\n",
    "density_SF_4 = density_function(0.5, 1., 0., 129, convergence=1e-10, impurity_values=[1.5], impurity_sites=[65], impurity=true)"
   ]
  },
  {
   "cell_type": "code",
   "execution_count": 5,
   "metadata": {},
   "outputs": [
    {
     "data": {
      "image/png": "[encoded data removed]",
      "image/svg+xml": [
       "<?xml version=\"1.0\" encoding=\"utf-8\"?>\n",
       "<svg xmlns=\"http://www.w3.org/2000/svg\" xmlns:xlink=\"http://www.w3.org/1999/xlink\" width=\"600\" height=\"400\" viewBox=\"0 0 2400 1600\">\n",
       "<defs>\n",
       "  <clipPath id=\"clip870\">\n",
       "    <rect x=\"0\" y=\"0\" width=\"2400\" height=\"1600\"/>\n",
       "  </clipPath>\n",
       "</defs>\n",
       "<path clip-path=\"url(#clip870)\" d=\"M0 1600 L2400 1600 L2400 0 L0 0  Z\" fill=\"#ffffff\" fill-rule=\"evenodd\" fill-opacity=\"1\"/>\n",
       "<defs>\n",
       "  <clipPath id=\"clip871\">\n",
       "    <rect x=\"480\" y=\"0\" width=\"1681\" height=\"1600\"/>\n",
       "  </clipPath>\n",
       "</defs>\n",
       "<path clip-path=\"url(#clip870)\" d=\"M185.927 1486.45 L2352.76 1486.45 L2352.76 47.2441 L185.927 47.2441  Z\" fill=\"#ffffff\" fill-rule=\"evenodd\" fill-opacity=\"1\"/>\n",
       "<defs>\n",
       "  <clipPath id=\"clip872\">\n",
       "    <rect x=\"185\" y=\"47\" width=\"2168\" height=\"1440\"/>\n",
       "  </clipPath>\n",
       "</defs>\n",
       "<polyline clip-path=\"url(#clip872)\" style=\"stroke:#000000; stroke-linecap:round; stroke-linejoin:round; stroke-width:2; stroke-opacity:0.1; fill:none\" points=\"231.282,1486.45 231.282,47.2441 \"/>\n",
       "<polyline clip-path=\"url(#clip872)\" style=\"stroke:#000000; stroke-linecap:round; stroke-linejoin:round; stroke-width:2; stroke-opacity:0.1; fill:none\" points=\"550.685,1486.45 550.685,47.2441 \"/>\n",
       "<polyline clip-path=\"url(#clip872)\" style=\"stroke:#000000; stroke-linecap:round; stroke-linejoin:round; stroke-width:2; stroke-opacity:0.1; fill:none\" points=\"870.088,1486.45 870.088,47.2441 \"/>\n",
       "<polyline clip-path=\"url(#clip872)\" style=\"stroke:#000000; stroke-linecap:round; stroke-linejoin:round; stroke-width:2; stroke-opacity:0.1; fill:none\" points=\"1189.49,1486.45 1189.49,47.2441 \"/>\n",
       "<polyline clip-path=\"url(#clip872)\" style=\"stroke:#000000; stroke-linecap:round; stroke-linejoin:round; stroke-width:2; stroke-opacity:0.1; fill:none\" points=\"1508.89,1486.45 1508.89,47.2441 \"/>\n",
       "<polyline clip-path=\"url(#clip872)\" style=\"stroke:#000000; stroke-linecap:round; stroke-linejoin:round; stroke-width:2; stroke-opacity:0.1; fill:none\" points=\"1828.3,1486.45 1828.3,47.2441 \"/>\n",
       "<polyline clip-path=\"url(#clip872)\" style=\"stroke:#000000; stroke-linecap:round; stroke-linejoin:round; stroke-width:2; stroke-opacity:0.1; fill:none\" points=\"2147.7,1486.45 2147.7,47.2441 \"/>\n",
       "<polyline clip-path=\"url(#clip870)\" style=\"stroke:#000000; stroke-linecap:round; stroke-linejoin:round; stroke-width:4; stroke-opacity:1; fill:none\" points=\"185.927,1486.45 2352.76,1486.45 \"/>\n",
       "<polyline clip-path=\"url(#clip870)\" style=\"stroke:#000000; stroke-linecap:round; stroke-linejoin:round; stroke-width:4; stroke-opacity:1; fill:none\" points=\"231.282,1486.45 231.282,1467.55 \"/>\n",
       "<polyline clip-path=\"url(#clip870)\" style=\"stroke:#000000; stroke-linecap:round; stroke-linejoin:round; stroke-width:4; stroke-opacity:1; fill:none\" points=\"550.685,1486.45 550.685,1467.55 \"/>\n",
       "<polyline clip-path=\"url(#clip870)\" style=\"stroke:#000000; stroke-linecap:round; stroke-linejoin:round; stroke-width:4; stroke-opacity:1; fill:none\" points=\"870.088,1486.45 870.088,1467.55 \"/>\n",
       "<polyline clip-path=\"url(#clip870)\" style=\"stroke:#000000; stroke-linecap:round; stroke-linejoin:round; stroke-width:4; stroke-opacity:1; fill:none\" points=\"1189.49,1486.45 1189.49,1467.55 \"/>\n",
       "<polyline clip-path=\"url(#clip870)\" style=\"stroke:#000000; stroke-linecap:round; stroke-linejoin:round; stroke-width:4; stroke-opacity:1; fill:none\" points=\"1508.89,1486.45 1508.89,1467.55 \"/>\n",
       "<polyline clip-path=\"url(#clip870)\" style=\"stroke:#000000; stroke-linecap:round; stroke-linejoin:round; stroke-width:4; stroke-opacity:1; fill:none\" points=\"1828.3,1486.45 1828.3,1467.55 \"/>\n",
       "<polyline clip-path=\"url(#clip870)\" style=\"stroke:#000000; stroke-linecap:round; stroke-linejoin:round; stroke-width:4; stroke-opacity:1; fill:none\" points=\"2147.7,1486.45 2147.7,1467.55 \"/>\n",
       "<path clip-path=\"url(#clip870)\" d=\"M231.282 1517.37 Q227.671 1517.37 225.842 1520.93 Q224.037 1524.47 224.037 1531.6 Q224.037 1538.71 225.842 1542.27 Q227.671 1545.82 231.282 1545.82 Q234.916 1545.82 236.722 1542.27 Q238.55 1538.71 238.55 1531.6 Q238.55 1524.47 236.722 1520.93 Q234.916 1517.37 231.282 1517.37 M231.282 1513.66 Q237.092 1513.66 240.148 1518.27 Q243.226 1522.85 243.226 1531.6 Q243.226 1540.33 240.148 1544.94 Q237.092 1549.52 231.282 1549.52 Q225.472 1549.52 222.393 1544.94 Q219.338 1540.33 219.338 1531.6 Q219.338 1522.85 222.393 1518.27 Q225.472 1513.66 231.282 1513.66 Z\" fill=\"#000000\" fill-rule=\"nonzero\" fill-opacity=\"1\" /><path clip-path=\"url(#clip870)\" d=\"M529.458 1544.91 L545.777 1544.91 L545.777 1548.85 L523.833 1548.85 L523.833 1544.91 Q526.495 1542.16 531.078 1537.53 Q535.685 1532.88 536.865 1531.53 Q539.111 1529.01 539.99 1527.27 Q540.893 1525.51 540.893 1523.82 Q540.893 1521.07 538.949 1519.33 Q537.028 1517.6 533.926 1517.6 Q531.727 1517.6 529.273 1518.36 Q526.842 1519.13 524.065 1520.68 L524.065 1515.95 Q526.889 1514.82 529.342 1514.24 Q531.796 1513.66 533.833 1513.66 Q539.203 1513.66 542.398 1516.35 Q545.592 1519.03 545.592 1523.52 Q545.592 1525.65 544.782 1527.57 Q543.995 1529.47 541.889 1532.07 Q541.31 1532.74 538.208 1535.95 Q535.106 1539.15 529.458 1544.91 Z\" fill=\"#000000\" fill-rule=\"nonzero\" fill-opacity=\"1\" /><path clip-path=\"url(#clip870)\" d=\"M565.592 1517.37 Q561.981 1517.37 560.152 1520.93 Q558.347 1524.47 558.347 1531.6 Q558.347 1538.71 560.152 1542.27 Q561.981 1545.82 565.592 1545.82 Q569.226 1545.82 571.032 1542.27 Q572.861 1538.71 572.861 1531.6 Q572.861 1524.47 571.032 1520.93 Q569.226 1517.37 565.592 1517.37 M565.592 1513.66 Q571.402 1513.66 574.458 1518.27 Q577.537 1522.85 577.537 1531.6 Q577.537 1540.33 574.458 1544.94 Q571.402 1549.52 565.592 1549.52 Q559.782 1549.52 556.703 1544.94 Q553.648 1540.33 553.648 1531.6 Q553.648 1522.85 556.703 1518.27 Q559.782 1513.66 565.592 1513.66 Z\" fill=\"#000000\" fill-rule=\"nonzero\" fill-opacity=\"1\" /><path clip-path=\"url(#clip870)\" d=\"M858.259 1518.36 L846.454 1536.81 L858.259 1536.81 L858.259 1518.36 M857.032 1514.29 L862.912 1514.29 L862.912 1536.81 L867.842 1536.81 L867.842 1540.7 L862.912 1540.7 L862.912 1548.85 L858.259 1548.85 L858.259 1540.7 L842.657 1540.7 L842.657 1536.19 L857.032 1514.29 Z\" fill=\"#000000\" fill-rule=\"nonzero\" fill-opacity=\"1\" /><path clip-path=\"url(#clip870)\" d=\"M885.574 1517.37 Q881.963 1517.37 880.134 1520.93 Q878.328 1524.47 878.328 1531.6 Q878.328 1538.71 880.134 1542.27 Q881.963 1545.82 885.574 1545.82 Q889.208 1545.82 891.014 1542.27 Q892.842 1538.71 892.842 1531.6 Q892.842 1524.47 891.014 1520.93 Q889.208 1517.37 885.574 1517.37 M885.574 1513.66 Q891.384 1513.66 894.439 1518.27 Q897.518 1522.85 897.518 1531.6 Q897.518 1540.33 894.439 1544.94 Q891.384 1549.52 885.574 1549.52 Q879.764 1549.52 876.685 1544.94 Q873.629 1540.33 873.629 1531.6 Q873.629 1522.85 876.685 1518.27 Q879.764 1513.66 885.574 1513.66 Z\" fill=\"#000000\" fill-rule=\"nonzero\" fill-opacity=\"1\" /><path clip-path=\"url(#clip870)\" d=\"M1174.9 1529.7 Q1171.75 1529.7 1169.9 1531.86 Q1168.07 1534.01 1168.07 1537.76 Q1168.07 1541.49 1169.9 1543.66 Q1171.75 1545.82 1174.9 1545.82 Q1178.04 1545.82 1179.87 1543.66 Q1181.72 1541.49 1181.72 1537.76 Q1181.72 1534.01 1179.87 1531.86 Q1178.04 1529.7 1174.9 1529.7 M1184.18 1515.05 L1184.18 1519.31 Q1182.42 1518.48 1180.61 1518.04 Q1178.83 1517.6 1177.07 1517.6 Q1172.44 1517.6 1169.99 1520.72 Q1167.56 1523.85 1167.21 1530.17 Q1168.58 1528.15 1170.64 1527.09 Q1172.7 1526 1175.17 1526 Q1180.38 1526 1183.39 1529.17 Q1186.42 1532.32 1186.42 1537.76 Q1186.42 1543.08 1183.28 1546.3 Q1180.13 1549.52 1174.9 1549.52 Q1168.9 1549.52 1165.73 1544.94 Q1162.56 1540.33 1162.56 1531.6 Q1162.56 1523.41 1166.45 1518.55 Q1170.34 1513.66 1176.89 1513.66 Q1178.65 1513.66 1180.43 1514.01 Q1182.23 1514.36 1184.18 1515.05 Z\" fill=\"#000000\" fill-rule=\"nonzero\" fill-opacity=\"1\" /><path clip-path=\"url(#clip870)\" d=\"M1204.48 1517.37 Q1200.87 1517.37 1199.04 1520.93 Q1197.23 1524.47 1197.23 1531.6 Q1197.23 1538.71 1199.04 1542.27 Q1200.87 1545.82 1204.48 1545.82 Q1208.11 1545.82 1209.92 1542.27 Q1211.75 1538.71 1211.75 1531.6 Q1211.75 1524.47 1209.92 1520.93 Q1208.11 1517.37 1204.48 1517.37 M1204.48 1513.66 Q1210.29 1513.66 1213.34 1518.27 Q1216.42 1522.85 1216.42 1531.6 Q1216.42 1540.33 1213.34 1544.94 Q1210.29 1549.52 1204.48 1549.52 Q1198.67 1549.52 1195.59 1544.94 Q1192.53 1540.33 1192.53 1531.6 Q1192.53 1522.85 1195.59 1518.27 Q1198.67 1513.66 1204.48 1513.66 Z\" fill=\"#000000\" fill-rule=\"nonzero\" fill-opacity=\"1\" /><path clip-path=\"url(#clip870)\" d=\"M1493.77 1532.44 Q1490.43 1532.44 1488.51 1534.22 Q1486.61 1536 1486.61 1539.13 Q1486.61 1542.25 1488.51 1544.03 Q1490.43 1545.82 1493.77 1545.82 Q1497.1 1545.82 1499.02 1544.03 Q1500.94 1542.23 1500.94 1539.13 Q1500.94 1536 1499.02 1534.22 Q1497.12 1532.44 1493.77 1532.44 M1489.09 1530.45 Q1486.08 1529.7 1484.39 1527.64 Q1482.72 1525.58 1482.72 1522.62 Q1482.72 1518.48 1485.66 1516.07 Q1488.63 1513.66 1493.77 1513.66 Q1498.93 1513.66 1501.87 1516.07 Q1504.81 1518.48 1504.81 1522.62 Q1504.81 1525.58 1503.12 1527.64 Q1501.45 1529.7 1498.47 1530.45 Q1501.84 1531.23 1503.72 1533.52 Q1505.62 1535.82 1505.62 1539.13 Q1505.62 1544.15 1502.54 1546.83 Q1499.48 1549.52 1493.77 1549.52 Q1488.05 1549.52 1484.97 1546.83 Q1481.91 1544.15 1481.91 1539.13 Q1481.91 1535.82 1483.81 1533.52 Q1485.71 1531.23 1489.09 1530.45 M1487.38 1523.06 Q1487.38 1525.75 1489.04 1527.25 Q1490.73 1528.76 1493.77 1528.76 Q1496.78 1528.76 1498.47 1527.25 Q1500.18 1525.75 1500.18 1523.06 Q1500.18 1520.38 1498.47 1518.87 Q1496.78 1517.37 1493.77 1517.37 Q1490.73 1517.37 1489.04 1518.87 Q1487.38 1520.38 1487.38 1523.06 Z\" fill=\"#000000\" fill-rule=\"nonzero\" fill-opacity=\"1\" /><path clip-path=\"url(#clip870)\" d=\"M1523.93 1517.37 Q1520.32 1517.37 1518.49 1520.93 Q1516.68 1524.47 1516.68 1531.6 Q1516.68 1538.71 1518.49 1542.27 Q1520.32 1545.82 1523.93 1545.82 Q1527.56 1545.82 1529.37 1542.27 Q1531.2 1538.71 1531.2 1531.6 Q1531.2 1524.47 1529.37 1520.93 Q1527.56 1517.37 1523.93 1517.37 M1523.93 1513.66 Q1529.74 1513.66 1532.79 1518.27 Q1535.87 1522.85 1535.87 1531.6 Q1535.87 1540.33 1532.79 1544.94 Q1529.74 1549.52 1523.93 1549.52 Q1518.12 1549.52 1515.04 1544.94 Q1511.98 1540.33 1511.98 1531.6 Q1511.98 1522.85 1515.04 1518.27 Q1518.12 1513.66 1523.93 1513.66 Z\" fill=\"#000000\" fill-rule=\"nonzero\" fill-opacity=\"1\" /><path clip-path=\"url(#clip870)\" d=\"M1787.9 1544.91 L1795.54 1544.91 L1795.54 1518.55 L1787.23 1520.21 L1787.23 1515.95 L1795.5 1514.29 L1800.17 1514.29 L1800.17 1544.91 L1807.81 1544.91 L1807.81 1548.85 L1787.9 1548.85 L1787.9 1544.91 Z\" fill=\"#000000\" fill-rule=\"nonzero\" fill-opacity=\"1\" /><path clip-path=\"url(#clip870)\" d=\"M1827.25 1517.37 Q1823.64 1517.37 1821.81 1520.93 Q1820.01 1524.47 1820.01 1531.6 Q1820.01 1538.71 1821.81 1542.27 Q1823.64 1545.82 1827.25 1545.82 Q1830.89 1545.82 1832.69 1542.27 Q1834.52 1538.71 1834.52 1531.6 Q1834.52 1524.47 1832.69 1520.93 Q1830.89 1517.37 1827.25 1517.37 M1827.25 1513.66 Q1833.06 1513.66 1836.12 1518.27 Q1839.2 1522.85 1839.2 1531.6 Q1839.2 1540.33 1836.12 1544.94 Q1833.06 1549.52 1827.25 1549.52 Q1821.44 1549.52 1818.37 1544.94 Q1815.31 1540.33 1815.31 1531.6 Q1815.31 1522.85 1818.37 1518.27 Q1821.44 1513.66 1827.25 1513.66 Z\" fill=\"#000000\" fill-rule=\"nonzero\" fill-opacity=\"1\" /><path clip-path=\"url(#clip870)\" d=\"M1857.42 1517.37 Q1853.81 1517.37 1851.98 1520.93 Q1850.17 1524.47 1850.17 1531.6 Q1850.17 1538.71 1851.98 1542.27 Q1853.81 1545.82 1857.42 1545.82 Q1861.05 1545.82 1862.86 1542.27 Q1864.69 1538.71 1864.69 1531.6 Q1864.69 1524.47 1862.86 1520.93 Q1861.05 1517.37 1857.42 1517.37 M1857.42 1513.66 Q1863.23 1513.66 1866.28 1518.27 Q1869.36 1522.85 1869.36 1531.6 Q1869.36 1540.33 1866.28 1544.94 Q1863.23 1549.52 1857.42 1549.52 Q1851.61 1549.52 1848.53 1544.94 Q1845.47 1540.33 1845.47 1531.6 Q1845.47 1522.85 1848.53 1518.27 Q1851.61 1513.66 1857.42 1513.66 Z\" fill=\"#000000\" fill-rule=\"nonzero\" fill-opacity=\"1\" /><path clip-path=\"url(#clip870)\" d=\"M2107.31 1544.91 L2114.94 1544.91 L2114.94 1518.55 L2106.63 1520.21 L2106.63 1515.95 L2114.9 1514.29 L2119.57 1514.29 L2119.57 1544.91 L2127.21 1544.91 L2127.21 1548.85 L2107.31 1548.85 L2107.31 1544.91 Z\" fill=\"#000000\" fill-rule=\"nonzero\" fill-opacity=\"1\" /><path clip-path=\"url(#clip870)\" d=\"M2140.69 1544.91 L2157 1544.91 L2157 1548.85 L2135.06 1548.85 L2135.06 1544.91 Q2137.72 1542.16 2142.31 1537.53 Q2146.91 1532.88 2148.09 1531.53 Q2150.34 1529.01 2151.22 1527.27 Q2152.12 1525.51 2152.12 1523.82 Q2152.12 1521.07 2150.18 1519.33 Q2148.25 1517.6 2145.15 1517.6 Q2142.95 1517.6 2140.5 1518.36 Q2138.07 1519.13 2135.29 1520.68 L2135.29 1515.95 Q2138.12 1514.82 2140.57 1514.24 Q2143.02 1513.66 2145.06 1513.66 Q2150.43 1513.66 2153.63 1516.35 Q2156.82 1519.03 2156.82 1523.52 Q2156.82 1525.65 2156.01 1527.57 Q2155.22 1529.47 2153.12 1532.07 Q2152.54 1532.74 2149.44 1535.95 Q2146.33 1539.15 2140.69 1544.91 Z\" fill=\"#000000\" fill-rule=\"nonzero\" fill-opacity=\"1\" /><path clip-path=\"url(#clip870)\" d=\"M2176.82 1517.37 Q2173.21 1517.37 2171.38 1520.93 Q2169.57 1524.47 2169.57 1531.6 Q2169.57 1538.71 2171.38 1542.27 Q2173.21 1545.82 2176.82 1545.82 Q2180.45 1545.82 2182.26 1542.27 Q2184.09 1538.71 2184.09 1531.6 Q2184.09 1524.47 2182.26 1520.93 Q2180.45 1517.37 2176.82 1517.37 M2176.82 1513.66 Q2182.63 1513.66 2185.69 1518.27 Q2188.76 1522.85 2188.76 1531.6 Q2188.76 1540.33 2185.69 1544.94 Q2182.63 1549.52 2176.82 1549.52 Q2171.01 1549.52 2167.93 1544.94 Q2164.88 1540.33 2164.88 1531.6 Q2164.88 1522.85 2167.93 1518.27 Q2171.01 1513.66 2176.82 1513.66 Z\" fill=\"#000000\" fill-rule=\"nonzero\" fill-opacity=\"1\" /><polyline clip-path=\"url(#clip872)\" style=\"stroke:#000000; stroke-linecap:round; stroke-linejoin:round; stroke-width:2; stroke-opacity:0.1; fill:none\" points=\"185.927,1351.36 2352.76,1351.36 \"/>\n",
       "<polyline clip-path=\"url(#clip872)\" style=\"stroke:#000000; stroke-linecap:round; stroke-linejoin:round; stroke-width:2; stroke-opacity:0.1; fill:none\" points=\"185.927,1141.34 2352.76,1141.34 \"/>\n",
       "<polyline clip-path=\"url(#clip872)\" style=\"stroke:#000000; stroke-linecap:round; stroke-linejoin:round; stroke-width:2; stroke-opacity:0.1; fill:none\" points=\"185.927,931.321 2352.76,931.321 \"/>\n",
       "<polyline clip-path=\"url(#clip872)\" style=\"stroke:#000000; stroke-linecap:round; stroke-linejoin:round; stroke-width:2; stroke-opacity:0.1; fill:none\" points=\"185.927,721.299 2352.76,721.299 \"/>\n",
       "<polyline clip-path=\"url(#clip872)\" style=\"stroke:#000000; stroke-linecap:round; stroke-linejoin:round; stroke-width:2; stroke-opacity:0.1; fill:none\" points=\"185.927,511.277 2352.76,511.277 \"/>\n",
       "<polyline clip-path=\"url(#clip872)\" style=\"stroke:#000000; stroke-linecap:round; stroke-linejoin:round; stroke-width:2; stroke-opacity:0.1; fill:none\" points=\"185.927,301.256 2352.76,301.256 \"/>\n",
       "<polyline clip-path=\"url(#clip872)\" style=\"stroke:#000000; stroke-linecap:round; stroke-linejoin:round; stroke-width:2; stroke-opacity:0.1; fill:none\" points=\"185.927,91.2339 2352.76,91.2339 \"/>\n",
       "<polyline clip-path=\"url(#clip870)\" style=\"stroke:#000000; stroke-linecap:round; stroke-linejoin:round; stroke-width:4; stroke-opacity:1; fill:none\" points=\"185.927,1486.45 185.927,47.2441 \"/>\n",
       "<polyline clip-path=\"url(#clip870)\" style=\"stroke:#000000; stroke-linecap:round; stroke-linejoin:round; stroke-width:4; stroke-opacity:1; fill:none\" points=\"185.927,1351.36 204.824,1351.36 \"/>\n",
       "<polyline clip-path=\"url(#clip870)\" style=\"stroke:#000000; stroke-linecap:round; stroke-linejoin:round; stroke-width:4; stroke-opacity:1; fill:none\" points=\"185.927,1141.34 204.824,1141.34 \"/>\n",
       "<polyline clip-path=\"url(#clip870)\" style=\"stroke:#000000; stroke-linecap:round; stroke-linejoin:round; stroke-width:4; stroke-opacity:1; fill:none\" points=\"185.927,931.321 204.824,931.321 \"/>\n",
       "<polyline clip-path=\"url(#clip870)\" style=\"stroke:#000000; stroke-linecap:round; stroke-linejoin:round; stroke-width:4; stroke-opacity:1; fill:none\" points=\"185.927,721.299 204.824,721.299 \"/>\n",
       "<polyline clip-path=\"url(#clip870)\" style=\"stroke:#000000; stroke-linecap:round; stroke-linejoin:round; stroke-width:4; stroke-opacity:1; fill:none\" points=\"185.927,511.277 204.824,511.277 \"/>\n",
       "<polyline clip-path=\"url(#clip870)\" style=\"stroke:#000000; stroke-linecap:round; stroke-linejoin:round; stroke-width:4; stroke-opacity:1; fill:none\" points=\"185.927,301.256 204.824,301.256 \"/>\n",
       "<polyline clip-path=\"url(#clip870)\" style=\"stroke:#000000; stroke-linecap:round; stroke-linejoin:round; stroke-width:4; stroke-opacity:1; fill:none\" points=\"185.927,91.2339 204.824,91.2339 \"/>\n",
       "<path clip-path=\"url(#clip870)\" d=\"M63.5847 1337.16 Q59.9736 1337.16 58.1449 1340.73 Q56.3393 1344.27 56.3393 1351.4 Q56.3393 1358.51 58.1449 1362.07 Q59.9736 1365.61 63.5847 1365.61 Q67.2189 1365.61 69.0244 1362.07 Q70.8531 1358.51 70.8531 1351.4 Q70.8531 1344.27 69.0244 1340.73 Q67.2189 1337.16 63.5847 1337.16 M63.5847 1333.46 Q69.3948 1333.46 72.4503 1338.07 Q75.529 1342.65 75.529 1351.4 Q75.529 1360.13 72.4503 1364.73 Q69.3948 1369.32 63.5847 1369.32 Q57.7745 1369.32 54.6958 1364.73 Q51.6403 1360.13 51.6403 1351.4 Q51.6403 1342.65 54.6958 1338.07 Q57.7745 1333.46 63.5847 1333.46 Z\" fill=\"#000000\" fill-rule=\"nonzero\" fill-opacity=\"1\" /><path clip-path=\"url(#clip870)\" d=\"M83.7466 1362.76 L88.6308 1362.76 L88.6308 1368.64 L83.7466 1368.64 L83.7466 1362.76 Z\" fill=\"#000000\" fill-rule=\"nonzero\" fill-opacity=\"1\" /><path clip-path=\"url(#clip870)\" d=\"M97.6354 1334.08 L119.857 1334.08 L119.857 1336.08 L107.311 1368.64 L102.427 1368.64 L114.233 1338.02 L97.6354 1338.02 L97.6354 1334.08 Z\" fill=\"#000000\" fill-rule=\"nonzero\" fill-opacity=\"1\" /><path clip-path=\"url(#clip870)\" d=\"M129.024 1334.08 L147.38 1334.08 L147.38 1338.02 L133.306 1338.02 L133.306 1346.49 Q134.325 1346.14 135.344 1345.98 Q136.362 1345.8 137.381 1345.8 Q143.168 1345.8 146.547 1348.97 Q149.927 1352.14 149.927 1357.56 Q149.927 1363.14 146.455 1366.24 Q142.982 1369.32 136.663 1369.32 Q134.487 1369.32 132.219 1368.95 Q129.973 1368.58 127.566 1367.83 L127.566 1363.14 Q129.649 1364.27 131.871 1364.83 Q134.094 1365.38 136.57 1365.38 Q140.575 1365.38 142.913 1363.27 Q145.251 1361.17 145.251 1357.56 Q145.251 1353.95 142.913 1351.84 Q140.575 1349.73 136.57 1349.73 Q134.695 1349.73 132.82 1350.15 Q130.969 1350.57 129.024 1351.45 L129.024 1334.08 Z\" fill=\"#000000\" fill-rule=\"nonzero\" fill-opacity=\"1\" /><path clip-path=\"url(#clip870)\" d=\"M53.3995 1154.69 L61.0384 1154.69 L61.0384 1128.32 L52.7282 1129.99 L52.7282 1125.73 L60.9921 1124.06 L65.668 1124.06 L65.668 1154.69 L73.3068 1154.69 L73.3068 1158.62 L53.3995 1158.62 L53.3995 1154.69 Z\" fill=\"#000000\" fill-rule=\"nonzero\" fill-opacity=\"1\" /><path clip-path=\"url(#clip870)\" d=\"M82.7512 1152.74 L87.6354 1152.74 L87.6354 1158.62 L82.7512 1158.62 L82.7512 1152.74 Z\" fill=\"#000000\" fill-rule=\"nonzero\" fill-opacity=\"1\" /><path clip-path=\"url(#clip870)\" d=\"M107.821 1127.14 Q104.209 1127.14 102.381 1130.71 Q100.575 1134.25 100.575 1141.38 Q100.575 1148.48 102.381 1152.05 Q104.209 1155.59 107.821 1155.59 Q111.455 1155.59 113.26 1152.05 Q115.089 1148.48 115.089 1141.38 Q115.089 1134.25 113.26 1130.71 Q111.455 1127.14 107.821 1127.14 M107.821 1123.44 Q113.631 1123.44 116.686 1128.04 Q119.765 1132.63 119.765 1141.38 Q119.765 1150.1 116.686 1154.71 Q113.631 1159.29 107.821 1159.29 Q102.01 1159.29 98.9317 1154.71 Q95.8761 1150.1 95.8761 1141.38 Q95.8761 1132.63 98.9317 1128.04 Q102.01 1123.44 107.821 1123.44 Z\" fill=\"#000000\" fill-rule=\"nonzero\" fill-opacity=\"1\" /><path clip-path=\"url(#clip870)\" d=\"M137.982 1127.14 Q134.371 1127.14 132.543 1130.71 Q130.737 1134.25 130.737 1141.38 Q130.737 1148.48 132.543 1152.05 Q134.371 1155.59 137.982 1155.59 Q141.617 1155.59 143.422 1152.05 Q145.251 1148.48 145.251 1141.38 Q145.251 1134.25 143.422 1130.71 Q141.617 1127.14 137.982 1127.14 M137.982 1123.44 Q143.793 1123.44 146.848 1128.04 Q149.927 1132.63 149.927 1141.38 Q149.927 1150.1 146.848 1154.71 Q143.793 1159.29 137.982 1159.29 Q132.172 1159.29 129.094 1154.71 Q126.038 1150.1 126.038 1141.38 Q126.038 1132.63 129.094 1128.04 Q132.172 1123.44 137.982 1123.44 Z\" fill=\"#000000\" fill-rule=\"nonzero\" fill-opacity=\"1\" /><path clip-path=\"url(#clip870)\" d=\"M54.3949 944.666 L62.0337 944.666 L62.0337 918.3 L53.7236 919.967 L53.7236 915.708 L61.9874 914.041 L66.6633 914.041 L66.6633 944.666 L74.3022 944.666 L74.3022 948.601 L54.3949 948.601 L54.3949 944.666 Z\" fill=\"#000000\" fill-rule=\"nonzero\" fill-opacity=\"1\" /><path clip-path=\"url(#clip870)\" d=\"M83.7466 942.721 L88.6308 942.721 L88.6308 948.601 L83.7466 948.601 L83.7466 942.721 Z\" fill=\"#000000\" fill-rule=\"nonzero\" fill-opacity=\"1\" /><path clip-path=\"url(#clip870)\" d=\"M102.844 944.666 L119.163 944.666 L119.163 948.601 L97.2187 948.601 L97.2187 944.666 Q99.8808 941.911 104.464 937.282 Q109.071 932.629 110.251 931.286 Q112.496 928.763 113.376 927.027 Q114.279 925.268 114.279 923.578 Q114.279 920.823 112.334 919.087 Q110.413 917.351 107.311 917.351 Q105.112 917.351 102.659 918.115 Q100.228 918.879 97.4502 920.43 L97.4502 915.708 Q100.274 914.573 102.728 913.995 Q105.182 913.416 107.219 913.416 Q112.589 913.416 115.783 916.101 Q118.978 918.786 118.978 923.277 Q118.978 925.407 118.168 927.328 Q117.381 929.226 115.274 931.819 Q114.695 932.49 111.594 935.708 Q108.492 938.902 102.844 944.666 Z\" fill=\"#000000\" fill-rule=\"nonzero\" fill-opacity=\"1\" /><path clip-path=\"url(#clip870)\" d=\"M129.024 914.041 L147.38 914.041 L147.38 917.976 L133.306 917.976 L133.306 926.448 Q134.325 926.101 135.344 925.939 Q136.362 925.754 137.381 925.754 Q143.168 925.754 146.547 928.925 Q149.927 932.096 149.927 937.513 Q149.927 943.092 146.455 946.194 Q142.982 949.272 136.663 949.272 Q134.487 949.272 132.219 948.902 Q129.973 948.532 127.566 947.791 L127.566 943.092 Q129.649 944.226 131.871 944.782 Q134.094 945.337 136.57 945.337 Q140.575 945.337 142.913 943.231 Q145.251 941.124 145.251 937.513 Q145.251 933.902 142.913 931.796 Q140.575 929.689 136.57 929.689 Q134.695 929.689 132.82 930.106 Q130.969 930.522 129.024 931.402 L129.024 914.041 Z\" fill=\"#000000\" fill-rule=\"nonzero\" fill-opacity=\"1\" /><path clip-path=\"url(#clip870)\" d=\"M53.3995 734.644 L61.0384 734.644 L61.0384 708.278 L52.7282 709.945 L52.7282 705.686 L60.9921 704.019 L65.668 704.019 L65.668 734.644 L73.3068 734.644 L73.3068 738.579 L53.3995 738.579 L53.3995 734.644 Z\" fill=\"#000000\" fill-rule=\"nonzero\" fill-opacity=\"1\" /><path clip-path=\"url(#clip870)\" d=\"M82.7512 732.7 L87.6354 732.7 L87.6354 738.579 L82.7512 738.579 L82.7512 732.7 Z\" fill=\"#000000\" fill-rule=\"nonzero\" fill-opacity=\"1\" /><path clip-path=\"url(#clip870)\" d=\"M97.8669 704.019 L116.223 704.019 L116.223 707.954 L102.149 707.954 L102.149 716.427 Q103.168 716.079 104.186 715.917 Q105.205 715.732 106.223 715.732 Q112.01 715.732 115.39 718.903 Q118.77 722.075 118.77 727.491 Q118.77 733.07 115.297 736.172 Q111.825 739.251 105.506 739.251 Q103.33 739.251 101.061 738.88 Q98.8159 738.51 96.4085 737.769 L96.4085 733.07 Q98.4919 734.204 100.714 734.76 Q102.936 735.315 105.413 735.315 Q109.418 735.315 111.756 733.209 Q114.094 731.102 114.094 727.491 Q114.094 723.88 111.756 721.774 Q109.418 719.667 105.413 719.667 Q103.538 719.667 101.663 720.084 Q99.8113 720.501 97.8669 721.38 L97.8669 704.019 Z\" fill=\"#000000\" fill-rule=\"nonzero\" fill-opacity=\"1\" /><path clip-path=\"url(#clip870)\" d=\"M137.982 707.098 Q134.371 707.098 132.543 710.663 Q130.737 714.204 130.737 721.334 Q130.737 728.44 132.543 732.005 Q134.371 735.547 137.982 735.547 Q141.617 735.547 143.422 732.005 Q145.251 728.44 145.251 721.334 Q145.251 714.204 143.422 710.663 Q141.617 707.098 137.982 707.098 M137.982 703.394 Q143.793 703.394 146.848 708.001 Q149.927 712.584 149.927 721.334 Q149.927 730.061 146.848 734.667 Q143.793 739.251 137.982 739.251 Q132.172 739.251 129.094 734.667 Q126.038 730.061 126.038 721.334 Q126.038 712.584 129.094 708.001 Q132.172 703.394 137.982 703.394 Z\" fill=\"#000000\" fill-rule=\"nonzero\" fill-opacity=\"1\" /><path clip-path=\"url(#clip870)\" d=\"M54.3949 524.622 L62.0337 524.622 L62.0337 498.257 L53.7236 499.923 L53.7236 495.664 L61.9874 493.997 L66.6633 493.997 L66.6633 524.622 L74.3022 524.622 L74.3022 528.557 L54.3949 528.557 L54.3949 524.622 Z\" fill=\"#000000\" fill-rule=\"nonzero\" fill-opacity=\"1\" /><path clip-path=\"url(#clip870)\" d=\"M83.7466 522.678 L88.6308 522.678 L88.6308 528.557 L83.7466 528.557 L83.7466 522.678 Z\" fill=\"#000000\" fill-rule=\"nonzero\" fill-opacity=\"1\" /><path clip-path=\"url(#clip870)\" d=\"M97.6354 493.997 L119.857 493.997 L119.857 495.988 L107.311 528.557 L102.427 528.557 L114.233 497.933 L97.6354 497.933 L97.6354 493.997 Z\" fill=\"#000000\" fill-rule=\"nonzero\" fill-opacity=\"1\" /><path clip-path=\"url(#clip870)\" d=\"M129.024 493.997 L147.38 493.997 L147.38 497.933 L133.306 497.933 L133.306 506.405 Q134.325 506.058 135.344 505.896 Q136.362 505.71 137.381 505.71 Q143.168 505.71 146.547 508.882 Q149.927 512.053 149.927 517.47 Q149.927 523.048 146.455 526.15 Q142.982 529.229 136.663 529.229 Q134.487 529.229 132.219 528.858 Q129.973 528.488 127.566 527.747 L127.566 523.048 Q129.649 524.182 131.871 524.738 Q134.094 525.294 136.57 525.294 Q140.575 525.294 142.913 523.187 Q145.251 521.081 145.251 517.47 Q145.251 513.858 142.913 511.752 Q140.575 509.645 136.57 509.645 Q134.695 509.645 132.82 510.062 Q130.969 510.479 129.024 511.358 L129.024 493.997 Z\" fill=\"#000000\" fill-rule=\"nonzero\" fill-opacity=\"1\" /><path clip-path=\"url(#clip870)\" d=\"M56.6171 314.6 L72.9365 314.6 L72.9365 318.536 L50.9921 318.536 L50.9921 314.6 Q53.6541 311.846 58.2375 307.216 Q62.8439 302.564 64.0245 301.221 Q66.2698 298.698 67.1494 296.962 Q68.0522 295.202 68.0522 293.513 Q68.0522 290.758 66.1078 289.022 Q64.1865 287.286 61.0847 287.286 Q58.8856 287.286 56.4319 288.05 Q54.0014 288.814 51.2236 290.365 L51.2236 285.642 Q54.0477 284.508 56.5014 283.929 Q58.955 283.351 60.9921 283.351 Q66.3624 283.351 69.5568 286.036 Q72.7513 288.721 72.7513 293.212 Q72.7513 295.341 71.9411 297.263 Q71.1541 299.161 69.0476 301.753 Q68.4689 302.425 65.367 305.642 Q62.2652 308.837 56.6171 314.6 Z\" fill=\"#000000\" fill-rule=\"nonzero\" fill-opacity=\"1\" /><path clip-path=\"url(#clip870)\" d=\"M82.7512 312.656 L87.6354 312.656 L87.6354 318.536 L82.7512 318.536 L82.7512 312.656 Z\" fill=\"#000000\" fill-rule=\"nonzero\" fill-opacity=\"1\" /><path clip-path=\"url(#clip870)\" d=\"M107.821 287.054 Q104.209 287.054 102.381 290.619 Q100.575 294.161 100.575 301.29 Q100.575 308.397 102.381 311.962 Q104.209 315.503 107.821 315.503 Q111.455 315.503 113.26 311.962 Q115.089 308.397 115.089 301.29 Q115.089 294.161 113.26 290.619 Q111.455 287.054 107.821 287.054 M107.821 283.351 Q113.631 283.351 116.686 287.957 Q119.765 292.54 119.765 301.29 Q119.765 310.017 116.686 314.624 Q113.631 319.207 107.821 319.207 Q102.01 319.207 98.9317 314.624 Q95.8761 310.017 95.8761 301.29 Q95.8761 292.54 98.9317 287.957 Q102.01 283.351 107.821 283.351 Z\" fill=\"#000000\" fill-rule=\"nonzero\" fill-opacity=\"1\" /><path clip-path=\"url(#clip870)\" d=\"M137.982 287.054 Q134.371 287.054 132.543 290.619 Q130.737 294.161 130.737 301.29 Q130.737 308.397 132.543 311.962 Q134.371 315.503 137.982 315.503 Q141.617 315.503 143.422 311.962 Q145.251 308.397 145.251 301.29 Q145.251 294.161 143.422 290.619 Q141.617 287.054 137.982 287.054 M137.982 283.351 Q143.793 283.351 146.848 287.957 Q149.927 292.54 149.927 301.29 Q149.927 310.017 146.848 314.624 Q143.793 319.207 137.982 319.207 Q132.172 319.207 129.094 314.624 Q126.038 310.017 126.038 301.29 Q126.038 292.54 129.094 287.957 Q132.172 283.351 137.982 283.351 Z\" fill=\"#000000\" fill-rule=\"nonzero\" fill-opacity=\"1\" /><path clip-path=\"url(#clip870)\" d=\"M57.6125 104.579 L73.9318 104.579 L73.9318 108.514 L51.9875 108.514 L51.9875 104.579 Q54.6495 101.824 59.2328 97.1945 Q63.8393 92.5417 65.0198 91.1992 Q67.2652 88.676 68.1448 86.9399 Q69.0476 85.1807 69.0476 83.4909 Q69.0476 80.7363 67.1032 79.0002 Q65.1819 77.264 62.08 77.264 Q59.881 77.264 57.4273 78.0279 Q54.9967 78.7918 52.219 80.3427 L52.219 75.6205 Q55.043 74.4863 57.4967 73.9076 Q59.9504 73.3289 61.9874 73.3289 Q67.3578 73.3289 70.5522 76.0141 Q73.7466 78.6992 73.7466 83.1899 Q73.7466 85.3196 72.9365 87.2408 Q72.1494 89.139 70.0429 91.7316 Q69.4642 92.4029 66.3624 95.6204 Q63.2606 98.8149 57.6125 104.579 Z\" fill=\"#000000\" fill-rule=\"nonzero\" fill-opacity=\"1\" /><path clip-path=\"url(#clip870)\" d=\"M83.7466 102.634 L88.6308 102.634 L88.6308 108.514 L83.7466 108.514 L83.7466 102.634 Z\" fill=\"#000000\" fill-rule=\"nonzero\" fill-opacity=\"1\" /><path clip-path=\"url(#clip870)\" d=\"M102.844 104.579 L119.163 104.579 L119.163 108.514 L97.2187 108.514 L97.2187 104.579 Q99.8808 101.824 104.464 97.1945 Q109.071 92.5417 110.251 91.1992 Q112.496 88.676 113.376 86.9399 Q114.279 85.1807 114.279 83.4909 Q114.279 80.7363 112.334 79.0002 Q110.413 77.264 107.311 77.264 Q105.112 77.264 102.659 78.0279 Q100.228 78.7918 97.4502 80.3427 L97.4502 75.6205 Q100.274 74.4863 102.728 73.9076 Q105.182 73.3289 107.219 73.3289 Q112.589 73.3289 115.783 76.0141 Q118.978 78.6992 118.978 83.1899 Q118.978 85.3196 118.168 87.2408 Q117.381 89.139 115.274 91.7316 Q114.695 92.4029 111.594 95.6204 Q108.492 98.8149 102.844 104.579 Z\" fill=\"#000000\" fill-rule=\"nonzero\" fill-opacity=\"1\" /><path clip-path=\"url(#clip870)\" d=\"M129.024 73.9539 L147.38 73.9539 L147.38 77.889 L133.306 77.889 L133.306 86.3612 Q134.325 86.014 135.344 85.852 Q136.362 85.6668 137.381 85.6668 Q143.168 85.6668 146.547 88.8381 Q149.927 92.0093 149.927 97.426 Q149.927 103.005 146.455 106.106 Q142.982 109.185 136.663 109.185 Q134.487 109.185 132.219 108.815 Q129.973 108.444 127.566 107.704 L127.566 103.005 Q129.649 104.139 131.871 104.694 Q134.094 105.25 136.57 105.25 Q140.575 105.25 142.913 103.144 Q145.251 101.037 145.251 97.426 Q145.251 93.8149 142.913 91.7084 Q140.575 89.6019 136.57 89.6019 Q134.695 89.6019 132.82 90.0186 Q130.969 90.4353 129.024 91.3149 L129.024 73.9539 Z\" fill=\"#000000\" fill-rule=\"nonzero\" fill-opacity=\"1\" /><polyline clip-path=\"url(#clip872)\" style=\"stroke:#009af9; stroke-linecap:round; stroke-linejoin:round; stroke-width:4; stroke-opacity:1; fill:none\" points=\"247.252,1434.44 263.222,1180.46 279.192,1142.74 295.163,1137.36 311.133,1136.44 327.103,1136.19 343.073,1136.09 359.043,1136.02 375.013,1135.99 390.983,1135.96 406.954,1135.94 422.924,1135.92 438.894,1135.91 454.864,1135.91 470.834,1135.9 486.804,1135.89 502.774,1135.89 518.745,1135.88 534.715,1135.88 550.685,1135.88 566.655,1135.88 582.625,1135.87 598.595,1135.87 614.565,1135.87 630.536,1135.87 646.506,1135.87 662.476,1135.87 678.446,1135.87 694.416,1135.87 710.386,1135.87 726.356,1135.87 742.327,1135.86 758.297,1135.86 774.267,1135.86 790.237,1135.86 806.207,1135.86 822.177,1135.86 838.147,1135.86 854.118,1135.86 870.088,1135.86 886.058,1135.86 902.028,1135.86 917.998,1135.86 933.968,1135.86 949.938,1135.86 965.909,1135.86 981.879,1135.86 997.849,1135.86 1013.82,1135.86 1029.79,1135.86 1045.76,1135.86 1061.73,1135.86 1077.7,1135.86 1093.67,1135.86 1109.64,1135.86 1125.61,1135.86 1141.58,1135.86 1157.55,1135.86 1173.52,1135.86 1189.49,1135.86 1205.46,1135.86 1221.43,1135.86 1237.4,1135.86 1253.37,1135.86 1269.34,1135.86 1285.31,1135.86 1301.28,1135.86 1317.25,1135.86 1333.22,1135.86 1349.19,1135.86 1365.16,1135.86 1381.13,1135.86 1397.1,1135.86 1413.07,1135.86 1429.04,1135.86 1445.01,1135.86 1460.98,1135.86 1476.95,1135.86 1492.92,1135.86 1508.89,1135.86 1524.86,1135.86 1540.83,1135.86 1556.8,1135.86 1572.77,1135.86 1588.74,1135.86 1604.71,1135.86 1620.68,1135.86 1636.65,1135.86 1652.62,1135.86 1668.59,1135.86 1684.57,1135.86 1700.54,1135.86 1716.51,1135.86 1732.48,1135.86 1748.45,1135.86 1764.42,1135.86 1780.39,1135.86 1796.36,1135.86 1812.33,1135.87 1828.3,1135.87 1844.27,1135.87 1860.24,1135.87 1876.21,1135.87 1892.18,1135.87 1908.15,1135.87 1924.12,1135.87 1940.09,1135.87 1956.06,1135.87 1972.03,1135.88 1988,1135.88 2003.97,1135.88 2019.94,1135.88 2035.91,1135.89 2051.88,1135.89 2067.85,1135.9 2083.82,1135.91 2099.79,1135.91 2115.76,1135.92 2131.73,1135.94 2147.7,1135.96 2163.67,1135.99 2179.64,1136.02 2195.61,1136.09 2211.58,1136.19 2227.55,1136.44 2243.52,1137.36 2259.49,1142.74 2275.46,1180.46 2291.43,1434.44 \"/>\n",
       "<polyline clip-path=\"url(#clip872)\" style=\"stroke:#e26f46; stroke-linecap:round; stroke-linejoin:round; stroke-width:4; stroke-opacity:1; fill:none\" points=\"247.252,1438.37 263.222,1184.25 279.192,1146.36 295.163,1140.94 311.133,1140 327.103,1139.75 343.073,1139.64 359.043,1139.57 375.013,1139.53 390.983,1139.5 406.954,1139.48 422.924,1139.47 438.894,1139.45 454.864,1139.45 470.834,1139.44 486.804,1139.43 502.774,1139.43 518.745,1139.42 534.715,1139.42 550.685,1139.42 566.655,1139.41 582.625,1139.41 598.595,1139.41 614.565,1139.41 630.536,1139.41 646.506,1139.41 662.476,1139.4 678.446,1139.4 694.416,1139.4 710.386,1139.4 726.356,1139.4 742.327,1139.4 758.297,1139.4 774.267,1139.4 790.237,1139.4 806.207,1139.4 822.177,1139.4 838.147,1139.4 854.118,1139.4 870.088,1139.4 886.058,1139.4 902.028,1139.4 917.998,1139.4 933.968,1139.4 949.938,1139.4 965.909,1139.4 981.879,1139.4 997.849,1139.4 1013.82,1139.4 1029.79,1139.4 1045.76,1139.4 1061.73,1139.39 1077.7,1139.39 1093.67,1139.39 1109.64,1139.39 1125.61,1139.39 1141.58,1139.39 1157.55,1139.39 1173.52,1139.38 1189.49,1139.36 1205.46,1139.26 1221.43,1138.56 1237.4,1133.39 1253.37,1093.79 1269.34,786.797 1285.31,1093.79 1301.28,1133.39 1317.25,1138.56 1333.22,1139.26 1349.19,1139.36 1365.16,1139.38 1381.13,1139.39 1397.1,1139.39 1413.07,1139.39 1429.04,1139.39 1445.01,1139.39 1460.98,1139.39 1476.95,1139.39 1492.92,1139.4 1508.89,1139.4 1524.86,1139.4 1540.83,1139.4 1556.8,1139.4 1572.77,1139.4 1588.74,1139.4 1604.71,1139.4 1620.68,1139.4 1636.65,1139.4 1652.62,1139.4 1668.59,1139.4 1684.57,1139.4 1700.54,1139.4 1716.51,1139.4 1732.48,1139.4 1748.45,1139.4 1764.42,1139.4 1780.39,1139.4 1796.36,1139.4 1812.33,1139.4 1828.3,1139.4 1844.27,1139.4 1860.24,1139.4 1876.21,1139.4 1892.18,1139.41 1908.15,1139.41 1924.12,1139.41 1940.09,1139.41 1956.06,1139.41 1972.03,1139.41 1988,1139.42 2003.97,1139.42 2019.94,1139.42 2035.91,1139.43 2051.88,1139.43 2067.85,1139.44 2083.82,1139.45 2099.79,1139.45 2115.76,1139.47 2131.73,1139.48 2147.7,1139.5 2163.67,1139.53 2179.64,1139.57 2195.61,1139.64 2211.58,1139.75 2227.55,1140 2243.52,1140.94 2259.49,1146.36 2275.46,1184.25 2291.43,1438.37 \"/>\n",
       "<polyline clip-path=\"url(#clip872)\" style=\"stroke:#3da44d; stroke-linecap:round; stroke-linejoin:round; stroke-width:4; stroke-opacity:1; fill:none\" points=\"247.252,1442.24 263.222,1187.97 279.192,1149.93 295.163,1144.46 311.133,1143.5 327.103,1143.24 343.073,1143.13 359.043,1143.06 375.013,1143.02 390.983,1142.99 406.954,1142.96 422.924,1142.95 438.894,1142.93 454.864,1142.92 470.834,1142.91 486.804,1142.91 502.774,1142.9 518.745,1142.9 534.715,1142.89 550.685,1142.89 566.655,1142.89 582.625,1142.88 598.595,1142.88 614.565,1142.88 630.536,1142.88 646.506,1142.88 662.476,1142.88 678.446,1142.87 694.416,1142.87 710.386,1142.87 726.356,1142.87 742.327,1142.87 758.297,1142.87 774.267,1142.87 790.237,1142.87 806.207,1142.87 822.177,1142.87 838.147,1142.87 854.118,1142.87 870.088,1142.87 886.058,1142.87 902.028,1142.87 917.998,1142.87 933.968,1142.86 949.938,1142.86 965.909,1142.86 981.879,1142.86 997.849,1142.86 1013.82,1142.86 1029.79,1142.86 1045.76,1142.86 1061.73,1142.86 1077.7,1142.86 1093.67,1142.86 1109.64,1142.86 1125.61,1142.86 1141.58,1142.86 1157.55,1142.85 1173.52,1142.84 1189.49,1142.81 1205.46,1142.64 1221.43,1141.41 1237.4,1132.13 1253.37,1059.23 1269.34,427.725 1285.31,1059.23 1301.28,1132.13 1317.25,1141.41 1333.22,1142.64 1349.19,1142.81 1365.16,1142.84 1381.13,1142.85 1397.1,1142.86 1413.07,1142.86 1429.04,1142.86 1445.01,1142.86 1460.98,1142.86 1476.95,1142.86 1492.92,1142.86 1508.89,1142.86 1524.86,1142.86 1540.83,1142.86 1556.8,1142.86 1572.77,1142.86 1588.74,1142.86 1604.71,1142.86 1620.68,1142.86 1636.65,1142.87 1652.62,1142.87 1668.59,1142.87 1684.57,1142.87 1700.54,1142.87 1716.51,1142.87 1732.48,1142.87 1748.45,1142.87 1764.42,1142.87 1780.39,1142.87 1796.36,1142.87 1812.33,1142.87 1828.3,1142.87 1844.27,1142.87 1860.24,1142.87 1876.21,1142.88 1892.18,1142.88 1908.15,1142.88 1924.12,1142.88 1940.09,1142.88 1956.06,1142.88 1972.03,1142.89 1988,1142.89 2003.97,1142.89 2019.94,1142.9 2035.91,1142.9 2051.88,1142.91 2067.85,1142.91 2083.82,1142.92 2099.79,1142.93 2115.76,1142.95 2131.73,1142.96 2147.7,1142.99 2163.67,1143.02 2179.64,1143.06 2195.61,1143.13 2211.58,1143.24 2227.55,1143.5 2243.52,1144.46 2259.49,1149.93 2275.46,1187.97 2291.43,1442.24 \"/>\n",
       "<polyline clip-path=\"url(#clip872)\" style=\"stroke:#c271d2; stroke-linecap:round; stroke-linejoin:round; stroke-width:4; stroke-opacity:1; fill:none\" points=\"247.252,1445.72 263.222,1191.31 279.192,1153.13 295.163,1147.61 311.133,1146.64 327.103,1146.37 343.073,1146.25 359.043,1146.18 375.013,1146.13 390.983,1146.1 406.954,1146.08 422.924,1146.06 438.894,1146.04 454.864,1146.03 470.834,1146.02 486.804,1146.02 502.774,1146.01 518.745,1146 534.715,1146 550.685,1146 566.655,1145.99 582.625,1145.99 598.595,1145.99 614.565,1145.98 630.536,1145.98 646.506,1145.98 662.476,1145.98 678.446,1145.98 694.416,1145.98 710.386,1145.98 726.356,1145.97 742.327,1145.97 758.297,1145.97 774.267,1145.97 790.237,1145.97 806.207,1145.97 822.177,1145.97 838.147,1145.97 854.118,1145.97 870.088,1145.97 886.058,1145.97 902.028,1145.97 917.998,1145.97 933.968,1145.97 949.938,1145.97 965.909,1145.96 981.879,1145.96 997.849,1145.96 1013.82,1145.96 1029.79,1145.96 1045.76,1145.96 1061.73,1145.96 1077.7,1145.96 1093.67,1145.96 1109.64,1145.96 1125.61,1145.96 1141.58,1145.96 1157.55,1145.95 1173.52,1145.95 1189.49,1145.91 1205.46,1145.7 1221.43,1144.19 1237.4,1132.37 1253.37,1035.96 1269.34,87.9763 1285.31,1035.96 1301.28,1132.37 1317.25,1144.19 1333.22,1145.7 1349.19,1145.91 1365.16,1145.95 1381.13,1145.95 1397.1,1145.96 1413.07,1145.96 1429.04,1145.96 1445.01,1145.96 1460.98,1145.96 1476.95,1145.96 1492.92,1145.96 1508.89,1145.96 1524.86,1145.96 1540.83,1145.96 1556.8,1145.96 1572.77,1145.96 1588.74,1145.97 1604.71,1145.97 1620.68,1145.97 1636.65,1145.97 1652.62,1145.97 1668.59,1145.97 1684.57,1145.97 1700.54,1145.97 1716.51,1145.97 1732.48,1145.97 1748.45,1145.97 1764.42,1145.97 1780.39,1145.97 1796.36,1145.97 1812.33,1145.97 1828.3,1145.98 1844.27,1145.98 1860.24,1145.98 1876.21,1145.98 1892.18,1145.98 1908.15,1145.98 1924.12,1145.98 1940.09,1145.99 1956.06,1145.99 1972.03,1145.99 1988,1146 2003.97,1146 2019.94,1146 2035.91,1146.01 2051.88,1146.02 2067.85,1146.02 2083.82,1146.03 2099.79,1146.04 2115.76,1146.06 2131.73,1146.08 2147.7,1146.1 2163.67,1146.13 2179.64,1146.18 2195.61,1146.25 2211.58,1146.37 2227.55,1146.64 2243.52,1147.61 2259.49,1153.13 2275.46,1191.31 2291.43,1445.72 \"/>\n",
       "<path clip-path=\"url(#clip870)\" d=\"M2009.7 354.418 L2280.53 354.418 L2280.53 95.2176 L2009.7 95.2176  Z\" fill=\"#ffffff\" fill-rule=\"evenodd\" fill-opacity=\"1\"/>\n",
       "<polyline clip-path=\"url(#clip870)\" style=\"stroke:#000000; stroke-linecap:round; stroke-linejoin:round; stroke-width:4; stroke-opacity:1; fill:none\" points=\"2009.7,354.418 2280.53,354.418 2280.53,95.2176 2009.7,95.2176 2009.7,354.418 \"/>\n",
       "<polyline clip-path=\"url(#clip870)\" style=\"stroke:#009af9; stroke-linecap:round; stroke-linejoin:round; stroke-width:4; stroke-opacity:1; fill:none\" points=\"2033.78,147.058 2178.23,147.058 \"/>\n",
       "<path clip-path=\"url(#clip870)\" d=\"M2216.15 166.745 Q2214.35 171.375 2212.63 172.787 Q2210.92 174.199 2208.05 174.199 L2204.65 174.199 L2204.65 170.634 L2207.15 170.634 Q2208.91 170.634 2209.88 169.8 Q2210.85 168.967 2212.03 165.865 L2212.8 163.921 L2202.31 138.412 L2206.82 138.412 L2214.92 158.689 L2223.03 138.412 L2227.54 138.412 L2216.15 166.745 Z\" fill=\"#000000\" fill-rule=\"nonzero\" fill-opacity=\"1\" /><path clip-path=\"url(#clip870)\" d=\"M2234.83 160.402 L2242.47 160.402 L2242.47 134.037 L2234.16 135.703 L2234.16 131.444 L2242.42 129.778 L2247.1 129.778 L2247.1 160.402 L2254.74 160.402 L2254.74 164.338 L2234.83 164.338 L2234.83 160.402 Z\" fill=\"#000000\" fill-rule=\"nonzero\" fill-opacity=\"1\" /><polyline clip-path=\"url(#clip870)\" style=\"stroke:#e26f46; stroke-linecap:round; stroke-linejoin:round; stroke-width:4; stroke-opacity:1; fill:none\" points=\"2033.78,198.898 2178.23,198.898 \"/>\n",
       "<path clip-path=\"url(#clip870)\" d=\"M2216.15 218.585 Q2214.35 223.215 2212.63 224.627 Q2210.92 226.039 2208.05 226.039 L2204.65 226.039 L2204.65 222.474 L2207.15 222.474 Q2208.91 222.474 2209.88 221.64 Q2210.85 220.807 2212.03 217.705 L2212.8 215.761 L2202.31 190.252 L2206.82 190.252 L2214.92 210.529 L2223.03 190.252 L2227.54 190.252 L2216.15 218.585 Z\" fill=\"#000000\" fill-rule=\"nonzero\" fill-opacity=\"1\" /><path clip-path=\"url(#clip870)\" d=\"M2238.05 212.242 L2254.37 212.242 L2254.37 216.178 L2232.42 216.178 L2232.42 212.242 Q2235.09 209.488 2239.67 204.858 Q2244.28 200.205 2245.46 198.863 Q2247.7 196.34 2248.58 194.604 Q2249.48 192.844 2249.48 191.155 Q2249.48 188.4 2247.54 186.664 Q2245.62 184.928 2242.52 184.928 Q2240.32 184.928 2237.86 185.692 Q2235.43 186.455 2232.66 188.006 L2232.66 183.284 Q2235.48 182.15 2237.93 181.571 Q2240.39 180.993 2242.42 180.993 Q2247.8 180.993 2250.99 183.678 Q2254.18 186.363 2254.18 190.854 Q2254.18 192.983 2253.37 194.905 Q2252.59 196.803 2250.48 199.395 Q2249.9 200.067 2246.8 203.284 Q2243.7 206.479 2238.05 212.242 Z\" fill=\"#000000\" fill-rule=\"nonzero\" fill-opacity=\"1\" /><polyline clip-path=\"url(#clip870)\" style=\"stroke:#3da44d; stroke-linecap:round; stroke-linejoin:round; stroke-width:4; stroke-opacity:1; fill:none\" points=\"2033.78,250.738 2178.23,250.738 \"/>\n",
       "<path clip-path=\"url(#clip870)\" d=\"M2216.15 270.425 Q2214.35 275.055 2212.63 276.467 Q2210.92 277.879 2208.05 277.879 L2204.65 277.879 L2204.65 274.314 L2207.15 274.314 Q2208.91 274.314 2209.88 273.48 Q2210.85 272.647 2212.03 269.545 L2212.8 267.601 L2202.31 242.092 L2206.82 242.092 L2214.92 262.369 L2223.03 242.092 L2227.54 242.092 L2216.15 270.425 Z\" fill=\"#000000\" fill-rule=\"nonzero\" fill-opacity=\"1\" /><path clip-path=\"url(#clip870)\" d=\"M2248.19 249.383 Q2251.55 250.101 2253.42 252.369 Q2255.32 254.638 2255.32 257.971 Q2255.32 263.087 2251.8 265.888 Q2248.28 268.689 2241.8 268.689 Q2239.62 268.689 2237.31 268.249 Q2235.02 267.832 2232.56 266.976 L2232.56 262.462 Q2234.51 263.596 2236.82 264.175 Q2239.14 264.754 2241.66 264.754 Q2246.06 264.754 2248.35 263.018 Q2250.67 261.281 2250.67 257.971 Q2250.67 254.916 2248.51 253.203 Q2246.38 251.467 2242.56 251.467 L2238.54 251.467 L2238.54 247.624 L2242.75 247.624 Q2246.2 247.624 2248.03 246.258 Q2249.86 244.87 2249.86 242.277 Q2249.86 239.615 2247.96 238.203 Q2246.08 236.768 2242.56 236.768 Q2240.64 236.768 2238.44 237.184 Q2236.24 237.601 2233.61 238.481 L2233.61 234.314 Q2236.27 233.573 2238.58 233.203 Q2240.92 232.833 2242.98 232.833 Q2248.3 232.833 2251.41 235.263 Q2254.51 237.67 2254.51 241.791 Q2254.51 244.661 2252.86 246.652 Q2251.22 248.62 2248.19 249.383 Z\" fill=\"#000000\" fill-rule=\"nonzero\" fill-opacity=\"1\" /><polyline clip-path=\"url(#clip870)\" style=\"stroke:#c271d2; stroke-linecap:round; stroke-linejoin:round; stroke-width:4; stroke-opacity:1; fill:none\" points=\"2033.78,302.578 2178.23,302.578 \"/>\n",
       "<path clip-path=\"url(#clip870)\" d=\"M2216.15 322.265 Q2214.35 326.895 2212.63 328.307 Q2210.92 329.719 2208.05 329.719 L2204.65 329.719 L2204.65 326.154 L2207.15 326.154 Q2208.91 326.154 2209.88 325.32 Q2210.85 324.487 2212.03 321.385 L2212.8 319.441 L2202.31 293.932 L2206.82 293.932 L2214.92 314.209 L2223.03 293.932 L2227.54 293.932 L2216.15 322.265 Z\" fill=\"#000000\" fill-rule=\"nonzero\" fill-opacity=\"1\" /><path clip-path=\"url(#clip870)\" d=\"M2246.87 289.372 L2235.06 307.821 L2246.87 307.821 L2246.87 289.372 M2245.64 285.298 L2251.52 285.298 L2251.52 307.821 L2256.45 307.821 L2256.45 311.709 L2251.52 311.709 L2251.52 319.858 L2246.87 319.858 L2246.87 311.709 L2231.27 311.709 L2231.27 307.196 L2245.64 285.298 Z\" fill=\"#000000\" fill-rule=\"nonzero\" fill-opacity=\"1\" /></svg>\n"
      ],
      "text/html": [
       "<?xml version=\"1.0\" encoding=\"utf-8\"?>\n",
       "<svg xmlns=\"http://www.w3.org/2000/svg\" xmlns:xlink=\"http://www.w3.org/1999/xlink\" width=\"600\" height=\"400\" viewBox=\"0 0 2400 1600\">\n",
       "<defs>\n",
       "  <clipPath id=\"clip920\">\n",
       "    <rect x=\"0\" y=\"0\" width=\"2400\" height=\"1600\"/>\n",
       "  </clipPath>\n",
       "</defs>\n",
       "<path clip-path=\"url(#clip920)\" d=\"M0 1600 L2400 1600 L2400 0 L0 0  Z\" fill=\"#ffffff\" fill-rule=\"evenodd\" fill-opacity=\"1\"/>\n",
       "<defs>\n",
       "  <clipPath id=\"clip921\">\n",
       "    <rect x=\"480\" y=\"0\" width=\"1681\" height=\"1600\"/>\n",
       "  </clipPath>\n",
       "</defs>\n",
       "<path clip-path=\"url(#clip920)\" d=\"M185.927 1486.45 L2352.76 1486.45 L2352.76 47.2441 L185.927 47.2441  Z\" fill=\"#ffffff\" fill-rule=\"evenodd\" fill-opacity=\"1\"/>\n",
       "<defs>\n",
       "  <clipPath id=\"clip922\">\n",
       "    <rect x=\"185\" y=\"47\" width=\"2168\" height=\"1440\"/>\n",
       "  </clipPath>\n",
       "</defs>\n",
       "<polyline clip-path=\"url(#clip922)\" style=\"stroke:#000000; stroke-linecap:round; stroke-linejoin:round; stroke-width:2; stroke-opacity:0.1; fill:none\" points=\"231.282,1486.45 231.282,47.2441 \"/>\n",
       "<polyline clip-path=\"url(#clip922)\" style=\"stroke:#000000; stroke-linecap:round; stroke-linejoin:round; stroke-width:2; stroke-opacity:0.1; fill:none\" points=\"550.685,1486.45 550.685,47.2441 \"/>\n",
       "<polyline clip-path=\"url(#clip922)\" style=\"stroke:#000000; stroke-linecap:round; stroke-linejoin:round; stroke-width:2; stroke-opacity:0.1; fill:none\" points=\"870.088,1486.45 870.088,47.2441 \"/>\n",
       "<polyline clip-path=\"url(#clip922)\" style=\"stroke:#000000; stroke-linecap:round; stroke-linejoin:round; stroke-width:2; stroke-opacity:0.1; fill:none\" points=\"1189.49,1486.45 1189.49,47.2441 \"/>\n",
       "<polyline clip-path=\"url(#clip922)\" style=\"stroke:#000000; stroke-linecap:round; stroke-linejoin:round; stroke-width:2; stroke-opacity:0.1; fill:none\" points=\"1508.89,1486.45 1508.89,47.2441 \"/>\n",
       "<polyline clip-path=\"url(#clip922)\" style=\"stroke:#000000; stroke-linecap:round; stroke-linejoin:round; stroke-width:2; stroke-opacity:0.1; fill:none\" points=\"1828.3,1486.45 1828.3,47.2441 \"/>\n",
       "<polyline clip-path=\"url(#clip922)\" style=\"stroke:#000000; stroke-linecap:round; stroke-linejoin:round; stroke-width:2; stroke-opacity:0.1; fill:none\" points=\"2147.7,1486.45 2147.7,47.2441 \"/>\n",
       "<polyline clip-path=\"url(#clip920)\" style=\"stroke:#000000; stroke-linecap:round; stroke-linejoin:round; stroke-width:4; stroke-opacity:1; fill:none\" points=\"185.927,1486.45 2352.76,1486.45 \"/>\n",
       "<polyline clip-path=\"url(#clip920)\" style=\"stroke:#000000; stroke-linecap:round; stroke-linejoin:round; stroke-width:4; stroke-opacity:1; fill:none\" points=\"231.282,1486.45 231.282,1467.55 \"/>\n",
       "<polyline clip-path=\"url(#clip920)\" style=\"stroke:#000000; stroke-linecap:round; stroke-linejoin:round; stroke-width:4; stroke-opacity:1; fill:none\" points=\"550.685,1486.45 550.685,1467.55 \"/>\n",
       "<polyline clip-path=\"url(#clip920)\" style=\"stroke:#000000; stroke-linecap:round; stroke-linejoin:round; stroke-width:4; stroke-opacity:1; fill:none\" points=\"870.088,1486.45 870.088,1467.55 \"/>\n",
       "<polyline clip-path=\"url(#clip920)\" style=\"stroke:#000000; stroke-linecap:round; stroke-linejoin:round; stroke-width:4; stroke-opacity:1; fill:none\" points=\"1189.49,1486.45 1189.49,1467.55 \"/>\n",
       "<polyline clip-path=\"url(#clip920)\" style=\"stroke:#000000; stroke-linecap:round; stroke-linejoin:round; stroke-width:4; stroke-opacity:1; fill:none\" points=\"1508.89,1486.45 1508.89,1467.55 \"/>\n",
       "<polyline clip-path=\"url(#clip920)\" style=\"stroke:#000000; stroke-linecap:round; stroke-linejoin:round; stroke-width:4; stroke-opacity:1; fill:none\" points=\"1828.3,1486.45 1828.3,1467.55 \"/>\n",
       "<polyline clip-path=\"url(#clip920)\" style=\"stroke:#000000; stroke-linecap:round; stroke-linejoin:round; stroke-width:4; stroke-opacity:1; fill:none\" points=\"2147.7,1486.45 2147.7,1467.55 \"/>\n",
       "<path clip-path=\"url(#clip920)\" d=\"M231.282 1517.37 Q227.671 1517.37 225.842 1520.93 Q224.037 1524.47 224.037 1531.6 Q224.037 1538.71 225.842 1542.27 Q227.671 1545.82 231.282 1545.82 Q234.916 1545.82 236.722 1542.27 Q238.55 1538.71 238.55 1531.6 Q238.55 1524.47 236.722 1520.93 Q234.916 1517.37 231.282 1517.37 M231.282 1513.66 Q237.092 1513.66 240.148 1518.27 Q243.226 1522.85 243.226 1531.6 Q243.226 1540.33 240.148 1544.94 Q237.092 1549.52 231.282 1549.52 Q225.472 1549.52 222.393 1544.94 Q219.338 1540.33 219.338 1531.6 Q219.338 1522.85 222.393 1518.27 Q225.472 1513.66 231.282 1513.66 Z\" fill=\"#000000\" fill-rule=\"nonzero\" fill-opacity=\"1\" /><path clip-path=\"url(#clip920)\" d=\"M529.458 1544.91 L545.777 1544.91 L545.777 1548.85 L523.833 1548.85 L523.833 1544.91 Q526.495 1542.16 531.078 1537.53 Q535.685 1532.88 536.865 1531.53 Q539.111 1529.01 539.99 1527.27 Q540.893 1525.51 540.893 1523.82 Q540.893 1521.07 538.949 1519.33 Q537.028 1517.6 533.926 1517.6 Q531.727 1517.6 529.273 1518.36 Q526.842 1519.13 524.065 1520.68 L524.065 1515.95 Q526.889 1514.82 529.342 1514.24 Q531.796 1513.66 533.833 1513.66 Q539.203 1513.66 542.398 1516.35 Q545.592 1519.03 545.592 1523.52 Q545.592 1525.65 544.782 1527.57 Q543.995 1529.47 541.889 1532.07 Q541.31 1532.74 538.208 1535.95 Q535.106 1539.15 529.458 1544.91 Z\" fill=\"#000000\" fill-rule=\"nonzero\" fill-opacity=\"1\" /><path clip-path=\"url(#clip920)\" d=\"M565.592 1517.37 Q561.981 1517.37 560.152 1520.93 Q558.347 1524.47 558.347 1531.6 Q558.347 1538.71 560.152 1542.27 Q561.981 1545.82 565.592 1545.82 Q569.226 1545.82 571.032 1542.27 Q572.861 1538.71 572.861 1531.6 Q572.861 1524.47 571.032 1520.93 Q569.226 1517.37 565.592 1517.37 M565.592 1513.66 Q571.402 1513.66 574.458 1518.27 Q577.537 1522.85 577.537 1531.6 Q577.537 1540.33 574.458 1544.94 Q571.402 1549.52 565.592 1549.52 Q559.782 1549.52 556.703 1544.94 Q553.648 1540.33 553.648 1531.6 Q553.648 1522.85 556.703 1518.27 Q559.782 1513.66 565.592 1513.66 Z\" fill=\"#000000\" fill-rule=\"nonzero\" fill-opacity=\"1\" /><path clip-path=\"url(#clip920)\" d=\"M858.259 1518.36 L846.454 1536.81 L858.259 1536.81 L858.259 1518.36 M857.032 1514.29 L862.912 1514.29 L862.912 1536.81 L867.842 1536.81 L867.842 1540.7 L862.912 1540.7 L862.912 1548.85 L858.259 1548.85 L858.259 1540.7 L842.657 1540.7 L842.657 1536.19 L857.032 1514.29 Z\" fill=\"#000000\" fill-rule=\"nonzero\" fill-opacity=\"1\" /><path clip-path=\"url(#clip920)\" d=\"M885.574 1517.37 Q881.963 1517.37 880.134 1520.93 Q878.328 1524.47 878.328 1531.6 Q878.328 1538.71 880.134 1542.27 Q881.963 1545.82 885.574 1545.82 Q889.208 1545.82 891.014 1542.27 Q892.842 1538.71 892.842 1531.6 Q892.842 1524.47 891.014 1520.93 Q889.208 1517.37 885.574 1517.37 M885.574 1513.66 Q891.384 1513.66 894.439 1518.27 Q897.518 1522.85 897.518 1531.6 Q897.518 1540.33 894.439 1544.94 Q891.384 1549.52 885.574 1549.52 Q879.764 1549.52 876.685 1544.94 Q873.629 1540.33 873.629 1531.6 Q873.629 1522.85 876.685 1518.27 Q879.764 1513.66 885.574 1513.66 Z\" fill=\"#000000\" fill-rule=\"nonzero\" fill-opacity=\"1\" /><path clip-path=\"url(#clip920)\" d=\"M1174.9 1529.7 Q1171.75 1529.7 1169.9 1531.86 Q1168.07 1534.01 1168.07 1537.76 Q1168.07 1541.49 1169.9 1543.66 Q1171.75 1545.82 1174.9 1545.82 Q1178.04 1545.82 1179.87 1543.66 Q1181.72 1541.49 1181.72 1537.76 Q1181.72 1534.01 1179.87 1531.86 Q1178.04 1529.7 1174.9 1529.7 M1184.18 1515.05 L1184.18 1519.31 Q1182.42 1518.48 1180.61 1518.04 Q1178.83 1517.6 1177.07 1517.6 Q1172.44 1517.6 1169.99 1520.72 Q1167.56 1523.85 1167.21 1530.17 Q1168.58 1528.15 1170.64 1527.09 Q1172.7 1526 1175.17 1526 Q1180.38 1526 1183.39 1529.17 Q1186.42 1532.32 1186.42 1537.76 Q1186.42 1543.08 1183.28 1546.3 Q1180.13 1549.52 1174.9 1549.52 Q1168.9 1549.52 1165.73 1544.94 Q1162.56 1540.33 1162.56 1531.6 Q1162.56 1523.41 1166.45 1518.55 Q1170.34 1513.66 1176.89 1513.66 Q1178.65 1513.66 1180.43 1514.01 Q1182.23 1514.36 1184.18 1515.05 Z\" fill=\"#000000\" fill-rule=\"nonzero\" fill-opacity=\"1\" /><path clip-path=\"url(#clip920)\" d=\"M1204.48 1517.37 Q1200.87 1517.37 1199.04 1520.93 Q1197.23 1524.47 1197.23 1531.6 Q1197.23 1538.71 1199.04 1542.27 Q1200.87 1545.82 1204.48 1545.82 Q1208.11 1545.82 1209.92 1542.27 Q1211.75 1538.71 1211.75 1531.6 Q1211.75 1524.47 1209.92 1520.93 Q1208.11 1517.37 1204.48 1517.37 M1204.48 1513.66 Q1210.29 1513.66 1213.34 1518.27 Q1216.42 1522.85 1216.42 1531.6 Q1216.42 1540.33 1213.34 1544.94 Q1210.29 1549.52 1204.48 1549.52 Q1198.67 1549.52 1195.59 1544.94 Q1192.53 1540.33 1192.53 1531.6 Q1192.53 1522.85 1195.59 1518.27 Q1198.67 1513.66 1204.48 1513.66 Z\" fill=\"#000000\" fill-rule=\"nonzero\" fill-opacity=\"1\" /><path clip-path=\"url(#clip920)\" d=\"M1493.77 1532.44 Q1490.43 1532.44 1488.51 1534.22 Q1486.61 1536 1486.61 1539.13 Q1486.61 1542.25 1488.51 1544.03 Q1490.43 1545.82 1493.77 1545.82 Q1497.1 1545.82 1499.02 1544.03 Q1500.94 1542.23 1500.94 1539.13 Q1500.94 1536 1499.02 1534.22 Q1497.12 1532.44 1493.77 1532.44 M1489.09 1530.45 Q1486.08 1529.7 1484.39 1527.64 Q1482.72 1525.58 1482.72 1522.62 Q1482.72 1518.48 1485.66 1516.07 Q1488.63 1513.66 1493.77 1513.66 Q1498.93 1513.66 1501.87 1516.07 Q1504.81 1518.48 1504.81 1522.62 Q1504.81 1525.58 1503.12 1527.64 Q1501.45 1529.7 1498.47 1530.45 Q1501.84 1531.23 1503.72 1533.52 Q1505.62 1535.82 1505.62 1539.13 Q1505.62 1544.15 1502.54 1546.83 Q1499.48 1549.52 1493.77 1549.52 Q1488.05 1549.52 1484.97 1546.83 Q1481.91 1544.15 1481.91 1539.13 Q1481.91 1535.82 1483.81 1533.52 Q1485.71 1531.23 1489.09 1530.45 M1487.38 1523.06 Q1487.38 1525.75 1489.04 1527.25 Q1490.73 1528.76 1493.77 1528.76 Q1496.78 1528.76 1498.47 1527.25 Q1500.18 1525.75 1500.18 1523.06 Q1500.18 1520.38 1498.47 1518.87 Q1496.78 1517.37 1493.77 1517.37 Q1490.73 1517.37 1489.04 1518.87 Q1487.38 1520.38 1487.38 1523.06 Z\" fill=\"#000000\" fill-rule=\"nonzero\" fill-opacity=\"1\" /><path clip-path=\"url(#clip920)\" d=\"M1523.93 1517.37 Q1520.32 1517.37 1518.49 1520.93 Q1516.68 1524.47 1516.68 1531.6 Q1516.68 1538.71 1518.49 1542.27 Q1520.32 1545.82 1523.93 1545.82 Q1527.56 1545.82 1529.37 1542.27 Q1531.2 1538.71 1531.2 1531.6 Q1531.2 1524.47 1529.37 1520.93 Q1527.56 1517.37 1523.93 1517.37 M1523.93 1513.66 Q1529.74 1513.66 1532.79 1518.27 Q1535.87 1522.85 1535.87 1531.6 Q1535.87 1540.33 1532.79 1544.94 Q1529.74 1549.52 1523.93 1549.52 Q1518.12 1549.52 1515.04 1544.94 Q1511.98 1540.33 1511.98 1531.6 Q1511.98 1522.85 1515.04 1518.27 Q1518.12 1513.66 1523.93 1513.66 Z\" fill=\"#000000\" fill-rule=\"nonzero\" fill-opacity=\"1\" /><path clip-path=\"url(#clip920)\" d=\"M1787.9 1544.91 L1795.54 1544.91 L1795.54 1518.55 L1787.23 1520.21 L1787.23 1515.95 L1795.5 1514.29 L1800.17 1514.29 L1800.17 1544.91 L1807.81 1544.91 L1807.81 1548.85 L1787.9 1548.85 L1787.9 1544.91 Z\" fill=\"#000000\" fill-rule=\"nonzero\" fill-opacity=\"1\" /><path clip-path=\"url(#clip920)\" d=\"M1827.25 1517.37 Q1823.64 1517.37 1821.81 1520.93 Q1820.01 1524.47 1820.01 1531.6 Q1820.01 1538.71 1821.81 1542.27 Q1823.64 1545.82 1827.25 1545.82 Q1830.89 1545.82 1832.69 1542.27 Q1834.52 1538.71 1834.52 1531.6 Q1834.52 1524.47 1832.69 1520.93 Q1830.89 1517.37 1827.25 1517.37 M1827.25 1513.66 Q1833.06 1513.66 1836.12 1518.27 Q1839.2 1522.85 1839.2 1531.6 Q1839.2 1540.33 1836.12 1544.94 Q1833.06 1549.52 1827.25 1549.52 Q1821.44 1549.52 1818.37 1544.94 Q1815.31 1540.33 1815.31 1531.6 Q1815.31 1522.85 1818.37 1518.27 Q1821.44 1513.66 1827.25 1513.66 Z\" fill=\"#000000\" fill-rule=\"nonzero\" fill-opacity=\"1\" /><path clip-path=\"url(#clip920)\" d=\"M1857.42 1517.37 Q1853.81 1517.37 1851.98 1520.93 Q1850.17 1524.47 1850.17 1531.6 Q1850.17 1538.71 1851.98 1542.27 Q1853.81 1545.82 1857.42 1545.82 Q1861.05 1545.82 1862.86 1542.27 Q1864.69 1538.71 1864.69 1531.6 Q1864.69 1524.47 1862.86 1520.93 Q1861.05 1517.37 1857.42 1517.37 M1857.42 1513.66 Q1863.23 1513.66 1866.28 1518.27 Q1869.36 1522.85 1869.36 1531.6 Q1869.36 1540.33 1866.28 1544.94 Q1863.23 1549.52 1857.42 1549.52 Q1851.61 1549.52 1848.53 1544.94 Q1845.47 1540.33 1845.47 1531.6 Q1845.47 1522.85 1848.53 1518.27 Q1851.61 1513.66 1857.42 1513.66 Z\" fill=\"#000000\" fill-rule=\"nonzero\" fill-opacity=\"1\" /><path clip-path=\"url(#clip920)\" d=\"M2107.31 1544.91 L2114.94 1544.91 L2114.94 1518.55 L2106.63 1520.21 L2106.63 1515.95 L2114.9 1514.29 L2119.57 1514.29 L2119.57 1544.91 L2127.21 1544.91 L2127.21 1548.85 L2107.31 1548.85 L2107.31 1544.91 Z\" fill=\"#000000\" fill-rule=\"nonzero\" fill-opacity=\"1\" /><path clip-path=\"url(#clip920)\" d=\"M2140.69 1544.91 L2157 1544.91 L2157 1548.85 L2135.06 1548.85 L2135.06 1544.91 Q2137.72 1542.16 2142.31 1537.53 Q2146.91 1532.88 2148.09 1531.53 Q2150.34 1529.01 2151.22 1527.27 Q2152.12 1525.51 2152.12 1523.82 Q2152.12 1521.07 2150.18 1519.33 Q2148.25 1517.6 2145.15 1517.6 Q2142.95 1517.6 2140.5 1518.36 Q2138.07 1519.13 2135.29 1520.68 L2135.29 1515.95 Q2138.12 1514.82 2140.57 1514.24 Q2143.02 1513.66 2145.06 1513.66 Q2150.43 1513.66 2153.63 1516.35 Q2156.82 1519.03 2156.82 1523.52 Q2156.82 1525.65 2156.01 1527.57 Q2155.22 1529.47 2153.12 1532.07 Q2152.54 1532.74 2149.44 1535.95 Q2146.33 1539.15 2140.69 1544.91 Z\" fill=\"#000000\" fill-rule=\"nonzero\" fill-opacity=\"1\" /><path clip-path=\"url(#clip920)\" d=\"M2176.82 1517.37 Q2173.21 1517.37 2171.38 1520.93 Q2169.57 1524.47 2169.57 1531.6 Q2169.57 1538.71 2171.38 1542.27 Q2173.21 1545.82 2176.82 1545.82 Q2180.45 1545.82 2182.26 1542.27 Q2184.09 1538.71 2184.09 1531.6 Q2184.09 1524.47 2182.26 1520.93 Q2180.45 1517.37 2176.82 1517.37 M2176.82 1513.66 Q2182.63 1513.66 2185.69 1518.27 Q2188.76 1522.85 2188.76 1531.6 Q2188.76 1540.33 2185.69 1544.94 Q2182.63 1549.52 2176.82 1549.52 Q2171.01 1549.52 2167.93 1544.94 Q2164.88 1540.33 2164.88 1531.6 Q2164.88 1522.85 2167.93 1518.27 Q2171.01 1513.66 2176.82 1513.66 Z\" fill=\"#000000\" fill-rule=\"nonzero\" fill-opacity=\"1\" /><polyline clip-path=\"url(#clip922)\" style=\"stroke:#000000; stroke-linecap:round; stroke-linejoin:round; stroke-width:2; stroke-opacity:0.1; fill:none\" points=\"185.927,1351.36 2352.76,1351.36 \"/>\n",
       "<polyline clip-path=\"url(#clip922)\" style=\"stroke:#000000; stroke-linecap:round; stroke-linejoin:round; stroke-width:2; stroke-opacity:0.1; fill:none\" points=\"185.927,1141.34 2352.76,1141.34 \"/>\n",
       "<polyline clip-path=\"url(#clip922)\" style=\"stroke:#000000; stroke-linecap:round; stroke-linejoin:round; stroke-width:2; stroke-opacity:0.1; fill:none\" points=\"185.927,931.321 2352.76,931.321 \"/>\n",
       "<polyline clip-path=\"url(#clip922)\" style=\"stroke:#000000; stroke-linecap:round; stroke-linejoin:round; stroke-width:2; stroke-opacity:0.1; fill:none\" points=\"185.927,721.299 2352.76,721.299 \"/>\n",
       "<polyline clip-path=\"url(#clip922)\" style=\"stroke:#000000; stroke-linecap:round; stroke-linejoin:round; stroke-width:2; stroke-opacity:0.1; fill:none\" points=\"185.927,511.277 2352.76,511.277 \"/>\n",
       "<polyline clip-path=\"url(#clip922)\" style=\"stroke:#000000; stroke-linecap:round; stroke-linejoin:round; stroke-width:2; stroke-opacity:0.1; fill:none\" points=\"185.927,301.256 2352.76,301.256 \"/>\n",
       "<polyline clip-path=\"url(#clip922)\" style=\"stroke:#000000; stroke-linecap:round; stroke-linejoin:round; stroke-width:2; stroke-opacity:0.1; fill:none\" points=\"185.927,91.2339 2352.76,91.2339 \"/>\n",
       "<polyline clip-path=\"url(#clip920)\" style=\"stroke:#000000; stroke-linecap:round; stroke-linejoin:round; stroke-width:4; stroke-opacity:1; fill:none\" points=\"185.927,1486.45 185.927,47.2441 \"/>\n",
       "<polyline clip-path=\"url(#clip920)\" style=\"stroke:#000000; stroke-linecap:round; stroke-linejoin:round; stroke-width:4; stroke-opacity:1; fill:none\" points=\"185.927,1351.36 204.824,1351.36 \"/>\n",
       "<polyline clip-path=\"url(#clip920)\" style=\"stroke:#000000; stroke-linecap:round; stroke-linejoin:round; stroke-width:4; stroke-opacity:1; fill:none\" points=\"185.927,1141.34 204.824,1141.34 \"/>\n",
       "<polyline clip-path=\"url(#clip920)\" style=\"stroke:#000000; stroke-linecap:round; stroke-linejoin:round; stroke-width:4; stroke-opacity:1; fill:none\" points=\"185.927,931.321 204.824,931.321 \"/>\n",
       "<polyline clip-path=\"url(#clip920)\" style=\"stroke:#000000; stroke-linecap:round; stroke-linejoin:round; stroke-width:4; stroke-opacity:1; fill:none\" points=\"185.927,721.299 204.824,721.299 \"/>\n",
       "<polyline clip-path=\"url(#clip920)\" style=\"stroke:#000000; stroke-linecap:round; stroke-linejoin:round; stroke-width:4; stroke-opacity:1; fill:none\" points=\"185.927,511.277 204.824,511.277 \"/>\n",
       "<polyline clip-path=\"url(#clip920)\" style=\"stroke:#000000; stroke-linecap:round; stroke-linejoin:round; stroke-width:4; stroke-opacity:1; fill:none\" points=\"185.927,301.256 204.824,301.256 \"/>\n",
       "<polyline clip-path=\"url(#clip920)\" style=\"stroke:#000000; stroke-linecap:round; stroke-linejoin:round; stroke-width:4; stroke-opacity:1; fill:none\" points=\"185.927,91.2339 204.824,91.2339 \"/>\n",
       "<path clip-path=\"url(#clip920)\" d=\"M63.5847 1337.16 Q59.9736 1337.16 58.1449 1340.73 Q56.3393 1344.27 56.3393 1351.4 Q56.3393 1358.51 58.1449 1362.07 Q59.9736 1365.61 63.5847 1365.61 Q67.2189 1365.61 69.0244 1362.07 Q70.8531 1358.51 70.8531 1351.4 Q70.8531 1344.27 69.0244 1340.73 Q67.2189 1337.16 63.5847 1337.16 M63.5847 1333.46 Q69.3948 1333.46 72.4503 1338.07 Q75.529 1342.65 75.529 1351.4 Q75.529 1360.13 72.4503 1364.73 Q69.3948 1369.32 63.5847 1369.32 Q57.7745 1369.32 54.6958 1364.73 Q51.6403 1360.13 51.6403 1351.4 Q51.6403 1342.65 54.6958 1338.07 Q57.7745 1333.46 63.5847 1333.46 Z\" fill=\"#000000\" fill-rule=\"nonzero\" fill-opacity=\"1\" /><path clip-path=\"url(#clip920)\" d=\"M83.7466 1362.76 L88.6308 1362.76 L88.6308 1368.64 L83.7466 1368.64 L83.7466 1362.76 Z\" fill=\"#000000\" fill-rule=\"nonzero\" fill-opacity=\"1\" /><path clip-path=\"url(#clip920)\" d=\"M97.6354 1334.08 L119.857 1334.08 L119.857 1336.08 L107.311 1368.64 L102.427 1368.64 L114.233 1338.02 L97.6354 1338.02 L97.6354 1334.08 Z\" fill=\"#000000\" fill-rule=\"nonzero\" fill-opacity=\"1\" /><path clip-path=\"url(#clip920)\" d=\"M129.024 1334.08 L147.38 1334.08 L147.38 1338.02 L133.306 1338.02 L133.306 1346.49 Q134.325 1346.14 135.344 1345.98 Q136.362 1345.8 137.381 1345.8 Q143.168 1345.8 146.547 1348.97 Q149.927 1352.14 149.927 1357.56 Q149.927 1363.14 146.455 1366.24 Q142.982 1369.32 136.663 1369.32 Q134.487 1369.32 132.219 1368.95 Q129.973 1368.58 127.566 1367.83 L127.566 1363.14 Q129.649 1364.27 131.871 1364.83 Q134.094 1365.38 136.57 1365.38 Q140.575 1365.38 142.913 1363.27 Q145.251 1361.17 145.251 1357.56 Q145.251 1353.95 142.913 1351.84 Q140.575 1349.73 136.57 1349.73 Q134.695 1349.73 132.82 1350.15 Q130.969 1350.57 129.024 1351.45 L129.024 1334.08 Z\" fill=\"#000000\" fill-rule=\"nonzero\" fill-opacity=\"1\" /><path clip-path=\"url(#clip920)\" d=\"M53.3995 1154.69 L61.0384 1154.69 L61.0384 1128.32 L52.7282 1129.99 L52.7282 1125.73 L60.9921 1124.06 L65.668 1124.06 L65.668 1154.69 L73.3068 1154.69 L73.3068 1158.62 L53.3995 1158.62 L53.3995 1154.69 Z\" fill=\"#000000\" fill-rule=\"nonzero\" fill-opacity=\"1\" /><path clip-path=\"url(#clip920)\" d=\"M82.7512 1152.74 L87.6354 1152.74 L87.6354 1158.62 L82.7512 1158.62 L82.7512 1152.74 Z\" fill=\"#000000\" fill-rule=\"nonzero\" fill-opacity=\"1\" /><path clip-path=\"url(#clip920)\" d=\"M107.821 1127.14 Q104.209 1127.14 102.381 1130.71 Q100.575 1134.25 100.575 1141.38 Q100.575 1148.48 102.381 1152.05 Q104.209 1155.59 107.821 1155.59 Q111.455 1155.59 113.26 1152.05 Q115.089 1148.48 115.089 1141.38 Q115.089 1134.25 113.26 1130.71 Q111.455 1127.14 107.821 1127.14 M107.821 1123.44 Q113.631 1123.44 116.686 1128.04 Q119.765 1132.63 119.765 1141.38 Q119.765 1150.1 116.686 1154.71 Q113.631 1159.29 107.821 1159.29 Q102.01 1159.29 98.9317 1154.71 Q95.8761 1150.1 95.8761 1141.38 Q95.8761 1132.63 98.9317 1128.04 Q102.01 1123.44 107.821 1123.44 Z\" fill=\"#000000\" fill-rule=\"nonzero\" fill-opacity=\"1\" /><path clip-path=\"url(#clip920)\" d=\"M137.982 1127.14 Q134.371 1127.14 132.543 1130.71 Q130.737 1134.25 130.737 1141.38 Q130.737 1148.48 132.543 1152.05 Q134.371 1155.59 137.982 1155.59 Q141.617 1155.59 143.422 1152.05 Q145.251 1148.48 145.251 1141.38 Q145.251 1134.25 143.422 1130.71 Q141.617 1127.14 137.982 1127.14 M137.982 1123.44 Q143.793 1123.44 146.848 1128.04 Q149.927 1132.63 149.927 1141.38 Q149.927 1150.1 146.848 1154.71 Q143.793 1159.29 137.982 1159.29 Q132.172 1159.29 129.094 1154.71 Q126.038 1150.1 126.038 1141.38 Q126.038 1132.63 129.094 1128.04 Q132.172 1123.44 137.982 1123.44 Z\" fill=\"#000000\" fill-rule=\"nonzero\" fill-opacity=\"1\" /><path clip-path=\"url(#clip920)\" d=\"M54.3949 944.666 L62.0337 944.666 L62.0337 918.3 L53.7236 919.967 L53.7236 915.708 L61.9874 914.041 L66.6633 914.041 L66.6633 944.666 L74.3022 944.666 L74.3022 948.601 L54.3949 948.601 L54.3949 944.666 Z\" fill=\"#000000\" fill-rule=\"nonzero\" fill-opacity=\"1\" /><path clip-path=\"url(#clip920)\" d=\"M83.7466 942.721 L88.6308 942.721 L88.6308 948.601 L83.7466 948.601 L83.7466 942.721 Z\" fill=\"#000000\" fill-rule=\"nonzero\" fill-opacity=\"1\" /><path clip-path=\"url(#clip920)\" d=\"M102.844 944.666 L119.163 944.666 L119.163 948.601 L97.2187 948.601 L97.2187 944.666 Q99.8808 941.911 104.464 937.282 Q109.071 932.629 110.251 931.286 Q112.496 928.763 113.376 927.027 Q114.279 925.268 114.279 923.578 Q114.279 920.823 112.334 919.087 Q110.413 917.351 107.311 917.351 Q105.112 917.351 102.659 918.115 Q100.228 918.879 97.4502 920.43 L97.4502 915.708 Q100.274 914.573 102.728 913.995 Q105.182 913.416 107.219 913.416 Q112.589 913.416 115.783 916.101 Q118.978 918.786 118.978 923.277 Q118.978 925.407 118.168 927.328 Q117.381 929.226 115.274 931.819 Q114.695 932.49 111.594 935.708 Q108.492 938.902 102.844 944.666 Z\" fill=\"#000000\" fill-rule=\"nonzero\" fill-opacity=\"1\" /><path clip-path=\"url(#clip920)\" d=\"M129.024 914.041 L147.38 914.041 L147.38 917.976 L133.306 917.976 L133.306 926.448 Q134.325 926.101 135.344 925.939 Q136.362 925.754 137.381 925.754 Q143.168 925.754 146.547 928.925 Q149.927 932.096 149.927 937.513 Q149.927 943.092 146.455 946.194 Q142.982 949.272 136.663 949.272 Q134.487 949.272 132.219 948.902 Q129.973 948.532 127.566 947.791 L127.566 943.092 Q129.649 944.226 131.871 944.782 Q134.094 945.337 136.57 945.337 Q140.575 945.337 142.913 943.231 Q145.251 941.124 145.251 937.513 Q145.251 933.902 142.913 931.796 Q140.575 929.689 136.57 929.689 Q134.695 929.689 132.82 930.106 Q130.969 930.522 129.024 931.402 L129.024 914.041 Z\" fill=\"#000000\" fill-rule=\"nonzero\" fill-opacity=\"1\" /><path clip-path=\"url(#clip920)\" d=\"M53.3995 734.644 L61.0384 734.644 L61.0384 708.278 L52.7282 709.945 L52.7282 705.686 L60.9921 704.019 L65.668 704.019 L65.668 734.644 L73.3068 734.644 L73.3068 738.579 L53.3995 738.579 L53.3995 734.644 Z\" fill=\"#000000\" fill-rule=\"nonzero\" fill-opacity=\"1\" /><path clip-path=\"url(#clip920)\" d=\"M82.7512 732.7 L87.6354 732.7 L87.6354 738.579 L82.7512 738.579 L82.7512 732.7 Z\" fill=\"#000000\" fill-rule=\"nonzero\" fill-opacity=\"1\" /><path clip-path=\"url(#clip920)\" d=\"M97.8669 704.019 L116.223 704.019 L116.223 707.954 L102.149 707.954 L102.149 716.427 Q103.168 716.079 104.186 715.917 Q105.205 715.732 106.223 715.732 Q112.01 715.732 115.39 718.903 Q118.77 722.075 118.77 727.491 Q118.77 733.07 115.297 736.172 Q111.825 739.251 105.506 739.251 Q103.33 739.251 101.061 738.88 Q98.8159 738.51 96.4085 737.769 L96.4085 733.07 Q98.4919 734.204 100.714 734.76 Q102.936 735.315 105.413 735.315 Q109.418 735.315 111.756 733.209 Q114.094 731.102 114.094 727.491 Q114.094 723.88 111.756 721.774 Q109.418 719.667 105.413 719.667 Q103.538 719.667 101.663 720.084 Q99.8113 720.501 97.8669 721.38 L97.8669 704.019 Z\" fill=\"#000000\" fill-rule=\"nonzero\" fill-opacity=\"1\" /><path clip-path=\"url(#clip920)\" d=\"M137.982 707.098 Q134.371 707.098 132.543 710.663 Q130.737 714.204 130.737 721.334 Q130.737 728.44 132.543 732.005 Q134.371 735.547 137.982 735.547 Q141.617 735.547 143.422 732.005 Q145.251 728.44 145.251 721.334 Q145.251 714.204 143.422 710.663 Q141.617 707.098 137.982 707.098 M137.982 703.394 Q143.793 703.394 146.848 708.001 Q149.927 712.584 149.927 721.334 Q149.927 730.061 146.848 734.667 Q143.793 739.251 137.982 739.251 Q132.172 739.251 129.094 734.667 Q126.038 730.061 126.038 721.334 Q126.038 712.584 129.094 708.001 Q132.172 703.394 137.982 703.394 Z\" fill=\"#000000\" fill-rule=\"nonzero\" fill-opacity=\"1\" /><path clip-path=\"url(#clip920)\" d=\"M54.3949 524.622 L62.0337 524.622 L62.0337 498.257 L53.7236 499.923 L53.7236 495.664 L61.9874 493.997 L66.6633 493.997 L66.6633 524.622 L74.3022 524.622 L74.3022 528.557 L54.3949 528.557 L54.3949 524.622 Z\" fill=\"#000000\" fill-rule=\"nonzero\" fill-opacity=\"1\" /><path clip-path=\"url(#clip920)\" d=\"M83.7466 522.678 L88.6308 522.678 L88.6308 528.557 L83.7466 528.557 L83.7466 522.678 Z\" fill=\"#000000\" fill-rule=\"nonzero\" fill-opacity=\"1\" /><path clip-path=\"url(#clip920)\" d=\"M97.6354 493.997 L119.857 493.997 L119.857 495.988 L107.311 528.557 L102.427 528.557 L114.233 497.933 L97.6354 497.933 L97.6354 493.997 Z\" fill=\"#000000\" fill-rule=\"nonzero\" fill-opacity=\"1\" /><path clip-path=\"url(#clip920)\" d=\"M129.024 493.997 L147.38 493.997 L147.38 497.933 L133.306 497.933 L133.306 506.405 Q134.325 506.058 135.344 505.896 Q136.362 505.71 137.381 505.71 Q143.168 505.71 146.547 508.882 Q149.927 512.053 149.927 517.47 Q149.927 523.048 146.455 526.15 Q142.982 529.229 136.663 529.229 Q134.487 529.229 132.219 528.858 Q129.973 528.488 127.566 527.747 L127.566 523.048 Q129.649 524.182 131.871 524.738 Q134.094 525.294 136.57 525.294 Q140.575 525.294 142.913 523.187 Q145.251 521.081 145.251 517.47 Q145.251 513.858 142.913 511.752 Q140.575 509.645 136.57 509.645 Q134.695 509.645 132.82 510.062 Q130.969 510.479 129.024 511.358 L129.024 493.997 Z\" fill=\"#000000\" fill-rule=\"nonzero\" fill-opacity=\"1\" /><path clip-path=\"url(#clip920)\" d=\"M56.6171 314.6 L72.9365 314.6 L72.9365 318.536 L50.9921 318.536 L50.9921 314.6 Q53.6541 311.846 58.2375 307.216 Q62.8439 302.564 64.0245 301.221 Q66.2698 298.698 67.1494 296.962 Q68.0522 295.202 68.0522 293.513 Q68.0522 290.758 66.1078 289.022 Q64.1865 287.286 61.0847 287.286 Q58.8856 287.286 56.4319 288.05 Q54.0014 288.814 51.2236 290.365 L51.2236 285.642 Q54.0477 284.508 56.5014 283.929 Q58.955 283.351 60.9921 283.351 Q66.3624 283.351 69.5568 286.036 Q72.7513 288.721 72.7513 293.212 Q72.7513 295.341 71.9411 297.263 Q71.1541 299.161 69.0476 301.753 Q68.4689 302.425 65.367 305.642 Q62.2652 308.837 56.6171 314.6 Z\" fill=\"#000000\" fill-rule=\"nonzero\" fill-opacity=\"1\" /><path clip-path=\"url(#clip920)\" d=\"M82.7512 312.656 L87.6354 312.656 L87.6354 318.536 L82.7512 318.536 L82.7512 312.656 Z\" fill=\"#000000\" fill-rule=\"nonzero\" fill-opacity=\"1\" /><path clip-path=\"url(#clip920)\" d=\"M107.821 287.054 Q104.209 287.054 102.381 290.619 Q100.575 294.161 100.575 301.29 Q100.575 308.397 102.381 311.962 Q104.209 315.503 107.821 315.503 Q111.455 315.503 113.26 311.962 Q115.089 308.397 115.089 301.29 Q115.089 294.161 113.26 290.619 Q111.455 287.054 107.821 287.054 M107.821 283.351 Q113.631 283.351 116.686 287.957 Q119.765 292.54 119.765 301.29 Q119.765 310.017 116.686 314.624 Q113.631 319.207 107.821 319.207 Q102.01 319.207 98.9317 314.624 Q95.8761 310.017 95.8761 301.29 Q95.8761 292.54 98.9317 287.957 Q102.01 283.351 107.821 283.351 Z\" fill=\"#000000\" fill-rule=\"nonzero\" fill-opacity=\"1\" /><path clip-path=\"url(#clip920)\" d=\"M137.982 287.054 Q134.371 287.054 132.543 290.619 Q130.737 294.161 130.737 301.29 Q130.737 308.397 132.543 311.962 Q134.371 315.503 137.982 315.503 Q141.617 315.503 143.422 311.962 Q145.251 308.397 145.251 301.29 Q145.251 294.161 143.422 290.619 Q141.617 287.054 137.982 287.054 M137.982 283.351 Q143.793 283.351 146.848 287.957 Q149.927 292.54 149.927 301.29 Q149.927 310.017 146.848 314.624 Q143.793 319.207 137.982 319.207 Q132.172 319.207 129.094 314.624 Q126.038 310.017 126.038 301.29 Q126.038 292.54 129.094 287.957 Q132.172 283.351 137.982 283.351 Z\" fill=\"#000000\" fill-rule=\"nonzero\" fill-opacity=\"1\" /><path clip-path=\"url(#clip920)\" d=\"M57.6125 104.579 L73.9318 104.579 L73.9318 108.514 L51.9875 108.514 L51.9875 104.579 Q54.6495 101.824 59.2328 97.1945 Q63.8393 92.5417 65.0198 91.1992 Q67.2652 88.676 68.1448 86.9399 Q69.0476 85.1807 69.0476 83.4909 Q69.0476 80.7363 67.1032 79.0002 Q65.1819 77.264 62.08 77.264 Q59.881 77.264 57.4273 78.0279 Q54.9967 78.7918 52.219 80.3427 L52.219 75.6205 Q55.043 74.4863 57.4967 73.9076 Q59.9504 73.3289 61.9874 73.3289 Q67.3578 73.3289 70.5522 76.0141 Q73.7466 78.6992 73.7466 83.1899 Q73.7466 85.3196 72.9365 87.2408 Q72.1494 89.139 70.0429 91.7316 Q69.4642 92.4029 66.3624 95.6204 Q63.2606 98.8149 57.6125 104.579 Z\" fill=\"#000000\" fill-rule=\"nonzero\" fill-opacity=\"1\" /><path clip-path=\"url(#clip920)\" d=\"M83.7466 102.634 L88.6308 102.634 L88.6308 108.514 L83.7466 108.514 L83.7466 102.634 Z\" fill=\"#000000\" fill-rule=\"nonzero\" fill-opacity=\"1\" /><path clip-path=\"url(#clip920)\" d=\"M102.844 104.579 L119.163 104.579 L119.163 108.514 L97.2187 108.514 L97.2187 104.579 Q99.8808 101.824 104.464 97.1945 Q109.071 92.5417 110.251 91.1992 Q112.496 88.676 113.376 86.9399 Q114.279 85.1807 114.279 83.4909 Q114.279 80.7363 112.334 79.0002 Q110.413 77.264 107.311 77.264 Q105.112 77.264 102.659 78.0279 Q100.228 78.7918 97.4502 80.3427 L97.4502 75.6205 Q100.274 74.4863 102.728 73.9076 Q105.182 73.3289 107.219 73.3289 Q112.589 73.3289 115.783 76.0141 Q118.978 78.6992 118.978 83.1899 Q118.978 85.3196 118.168 87.2408 Q117.381 89.139 115.274 91.7316 Q114.695 92.4029 111.594 95.6204 Q108.492 98.8149 102.844 104.579 Z\" fill=\"#000000\" fill-rule=\"nonzero\" fill-opacity=\"1\" /><path clip-path=\"url(#clip920)\" d=\"M129.024 73.9539 L147.38 73.9539 L147.38 77.889 L133.306 77.889 L133.306 86.3612 Q134.325 86.014 135.344 85.852 Q136.362 85.6668 137.381 85.6668 Q143.168 85.6668 146.547 88.8381 Q149.927 92.0093 149.927 97.426 Q149.927 103.005 146.455 106.106 Q142.982 109.185 136.663 109.185 Q134.487 109.185 132.219 108.815 Q129.973 108.444 127.566 107.704 L127.566 103.005 Q129.649 104.139 131.871 104.694 Q134.094 105.25 136.57 105.25 Q140.575 105.25 142.913 103.144 Q145.251 101.037 145.251 97.426 Q145.251 93.8149 142.913 91.7084 Q140.575 89.6019 136.57 89.6019 Q134.695 89.6019 132.82 90.0186 Q130.969 90.4353 129.024 91.3149 L129.024 73.9539 Z\" fill=\"#000000\" fill-rule=\"nonzero\" fill-opacity=\"1\" /><polyline clip-path=\"url(#clip922)\" style=\"stroke:#009af9; stroke-linecap:round; stroke-linejoin:round; stroke-width:4; stroke-opacity:1; fill:none\" points=\"247.252,1434.44 263.222,1180.46 279.192,1142.74 295.163,1137.36 311.133,1136.44 327.103,1136.19 343.073,1136.09 359.043,1136.02 375.013,1135.99 390.983,1135.96 406.954,1135.94 422.924,1135.92 438.894,1135.91 454.864,1135.91 470.834,1135.9 486.804,1135.89 502.774,1135.89 518.745,1135.88 534.715,1135.88 550.685,1135.88 566.655,1135.88 582.625,1135.87 598.595,1135.87 614.565,1135.87 630.536,1135.87 646.506,1135.87 662.476,1135.87 678.446,1135.87 694.416,1135.87 710.386,1135.87 726.356,1135.87 742.327,1135.86 758.297,1135.86 774.267,1135.86 790.237,1135.86 806.207,1135.86 822.177,1135.86 838.147,1135.86 854.118,1135.86 870.088,1135.86 886.058,1135.86 902.028,1135.86 917.998,1135.86 933.968,1135.86 949.938,1135.86 965.909,1135.86 981.879,1135.86 997.849,1135.86 1013.82,1135.86 1029.79,1135.86 1045.76,1135.86 1061.73,1135.86 1077.7,1135.86 1093.67,1135.86 1109.64,1135.86 1125.61,1135.86 1141.58,1135.86 1157.55,1135.86 1173.52,1135.86 1189.49,1135.86 1205.46,1135.86 1221.43,1135.86 1237.4,1135.86 1253.37,1135.86 1269.34,1135.86 1285.31,1135.86 1301.28,1135.86 1317.25,1135.86 1333.22,1135.86 1349.19,1135.86 1365.16,1135.86 1381.13,1135.86 1397.1,1135.86 1413.07,1135.86 1429.04,1135.86 1445.01,1135.86 1460.98,1135.86 1476.95,1135.86 1492.92,1135.86 1508.89,1135.86 1524.86,1135.86 1540.83,1135.86 1556.8,1135.86 1572.77,1135.86 1588.74,1135.86 1604.71,1135.86 1620.68,1135.86 1636.65,1135.86 1652.62,1135.86 1668.59,1135.86 1684.57,1135.86 1700.54,1135.86 1716.51,1135.86 1732.48,1135.86 1748.45,1135.86 1764.42,1135.86 1780.39,1135.86 1796.36,1135.86 1812.33,1135.87 1828.3,1135.87 1844.27,1135.87 1860.24,1135.87 1876.21,1135.87 1892.18,1135.87 1908.15,1135.87 1924.12,1135.87 1940.09,1135.87 1956.06,1135.87 1972.03,1135.88 1988,1135.88 2003.97,1135.88 2019.94,1135.88 2035.91,1135.89 2051.88,1135.89 2067.85,1135.9 2083.82,1135.91 2099.79,1135.91 2115.76,1135.92 2131.73,1135.94 2147.7,1135.96 2163.67,1135.99 2179.64,1136.02 2195.61,1136.09 2211.58,1136.19 2227.55,1136.44 2243.52,1137.36 2259.49,1142.74 2275.46,1180.46 2291.43,1434.44 \"/>\n",
       "<polyline clip-path=\"url(#clip922)\" style=\"stroke:#e26f46; stroke-linecap:round; stroke-linejoin:round; stroke-width:4; stroke-opacity:1; fill:none\" points=\"247.252,1438.37 263.222,1184.25 279.192,1146.36 295.163,1140.94 311.133,1140 327.103,1139.75 343.073,1139.64 359.043,1139.57 375.013,1139.53 390.983,1139.5 406.954,1139.48 422.924,1139.47 438.894,1139.45 454.864,1139.45 470.834,1139.44 486.804,1139.43 502.774,1139.43 518.745,1139.42 534.715,1139.42 550.685,1139.42 566.655,1139.41 582.625,1139.41 598.595,1139.41 614.565,1139.41 630.536,1139.41 646.506,1139.41 662.476,1139.4 678.446,1139.4 694.416,1139.4 710.386,1139.4 726.356,1139.4 742.327,1139.4 758.297,1139.4 774.267,1139.4 790.237,1139.4 806.207,1139.4 822.177,1139.4 838.147,1139.4 854.118,1139.4 870.088,1139.4 886.058,1139.4 902.028,1139.4 917.998,1139.4 933.968,1139.4 949.938,1139.4 965.909,1139.4 981.879,1139.4 997.849,1139.4 1013.82,1139.4 1029.79,1139.4 1045.76,1139.4 1061.73,1139.39 1077.7,1139.39 1093.67,1139.39 1109.64,1139.39 1125.61,1139.39 1141.58,1139.39 1157.55,1139.39 1173.52,1139.38 1189.49,1139.36 1205.46,1139.26 1221.43,1138.56 1237.4,1133.39 1253.37,1093.79 1269.34,786.797 1285.31,1093.79 1301.28,1133.39 1317.25,1138.56 1333.22,1139.26 1349.19,1139.36 1365.16,1139.38 1381.13,1139.39 1397.1,1139.39 1413.07,1139.39 1429.04,1139.39 1445.01,1139.39 1460.98,1139.39 1476.95,1139.39 1492.92,1139.4 1508.89,1139.4 1524.86,1139.4 1540.83,1139.4 1556.8,1139.4 1572.77,1139.4 1588.74,1139.4 1604.71,1139.4 1620.68,1139.4 1636.65,1139.4 1652.62,1139.4 1668.59,1139.4 1684.57,1139.4 1700.54,1139.4 1716.51,1139.4 1732.48,1139.4 1748.45,1139.4 1764.42,1139.4 1780.39,1139.4 1796.36,1139.4 1812.33,1139.4 1828.3,1139.4 1844.27,1139.4 1860.24,1139.4 1876.21,1139.4 1892.18,1139.41 1908.15,1139.41 1924.12,1139.41 1940.09,1139.41 1956.06,1139.41 1972.03,1139.41 1988,1139.42 2003.97,1139.42 2019.94,1139.42 2035.91,1139.43 2051.88,1139.43 2067.85,1139.44 2083.82,1139.45 2099.79,1139.45 2115.76,1139.47 2131.73,1139.48 2147.7,1139.5 2163.67,1139.53 2179.64,1139.57 2195.61,1139.64 2211.58,1139.75 2227.55,1140 2243.52,1140.94 2259.49,1146.36 2275.46,1184.25 2291.43,1438.37 \"/>\n",
       "<polyline clip-path=\"url(#clip922)\" style=\"stroke:#3da44d; stroke-linecap:round; stroke-linejoin:round; stroke-width:4; stroke-opacity:1; fill:none\" points=\"247.252,1442.24 263.222,1187.97 279.192,1149.93 295.163,1144.46 311.133,1143.5 327.103,1143.24 343.073,1143.13 359.043,1143.06 375.013,1143.02 390.983,1142.99 406.954,1142.96 422.924,1142.95 438.894,1142.93 454.864,1142.92 470.834,1142.91 486.804,1142.91 502.774,1142.9 518.745,1142.9 534.715,1142.89 550.685,1142.89 566.655,1142.89 582.625,1142.88 598.595,1142.88 614.565,1142.88 630.536,1142.88 646.506,1142.88 662.476,1142.88 678.446,1142.87 694.416,1142.87 710.386,1142.87 726.356,1142.87 742.327,1142.87 758.297,1142.87 774.267,1142.87 790.237,1142.87 806.207,1142.87 822.177,1142.87 838.147,1142.87 854.118,1142.87 870.088,1142.87 886.058,1142.87 902.028,1142.87 917.998,1142.87 933.968,1142.86 949.938,1142.86 965.909,1142.86 981.879,1142.86 997.849,1142.86 1013.82,1142.86 1029.79,1142.86 1045.76,1142.86 1061.73,1142.86 1077.7,1142.86 1093.67,1142.86 1109.64,1142.86 1125.61,1142.86 1141.58,1142.86 1157.55,1142.85 1173.52,1142.84 1189.49,1142.81 1205.46,1142.64 1221.43,1141.41 1237.4,1132.13 1253.37,1059.23 1269.34,427.725 1285.31,1059.23 1301.28,1132.13 1317.25,1141.41 1333.22,1142.64 1349.19,1142.81 1365.16,1142.84 1381.13,1142.85 1397.1,1142.86 1413.07,1142.86 1429.04,1142.86 1445.01,1142.86 1460.98,1142.86 1476.95,1142.86 1492.92,1142.86 1508.89,1142.86 1524.86,1142.86 1540.83,1142.86 1556.8,1142.86 1572.77,1142.86 1588.74,1142.86 1604.71,1142.86 1620.68,1142.86 1636.65,1142.87 1652.62,1142.87 1668.59,1142.87 1684.57,1142.87 1700.54,1142.87 1716.51,1142.87 1732.48,1142.87 1748.45,1142.87 1764.42,1142.87 1780.39,1142.87 1796.36,1142.87 1812.33,1142.87 1828.3,1142.87 1844.27,1142.87 1860.24,1142.87 1876.21,1142.88 1892.18,1142.88 1908.15,1142.88 1924.12,1142.88 1940.09,1142.88 1956.06,1142.88 1972.03,1142.89 1988,1142.89 2003.97,1142.89 2019.94,1142.9 2035.91,1142.9 2051.88,1142.91 2067.85,1142.91 2083.82,1142.92 2099.79,1142.93 2115.76,1142.95 2131.73,1142.96 2147.7,1142.99 2163.67,1143.02 2179.64,1143.06 2195.61,1143.13 2211.58,1143.24 2227.55,1143.5 2243.52,1144.46 2259.49,1149.93 2275.46,1187.97 2291.43,1442.24 \"/>\n",
       "<polyline clip-path=\"url(#clip922)\" style=\"stroke:#c271d2; stroke-linecap:round; stroke-linejoin:round; stroke-width:4; stroke-opacity:1; fill:none\" points=\"247.252,1445.72 263.222,1191.31 279.192,1153.13 295.163,1147.61 311.133,1146.64 327.103,1146.37 343.073,1146.25 359.043,1146.18 375.013,1146.13 390.983,1146.1 406.954,1146.08 422.924,1146.06 438.894,1146.04 454.864,1146.03 470.834,1146.02 486.804,1146.02 502.774,1146.01 518.745,1146 534.715,1146 550.685,1146 566.655,1145.99 582.625,1145.99 598.595,1145.99 614.565,1145.98 630.536,1145.98 646.506,1145.98 662.476,1145.98 678.446,1145.98 694.416,1145.98 710.386,1145.98 726.356,1145.97 742.327,1145.97 758.297,1145.97 774.267,1145.97 790.237,1145.97 806.207,1145.97 822.177,1145.97 838.147,1145.97 854.118,1145.97 870.088,1145.97 886.058,1145.97 902.028,1145.97 917.998,1145.97 933.968,1145.97 949.938,1145.97 965.909,1145.96 981.879,1145.96 997.849,1145.96 1013.82,1145.96 1029.79,1145.96 1045.76,1145.96 1061.73,1145.96 1077.7,1145.96 1093.67,1145.96 1109.64,1145.96 1125.61,1145.96 1141.58,1145.96 1157.55,1145.95 1173.52,1145.95 1189.49,1145.91 1205.46,1145.7 1221.43,1144.19 1237.4,1132.37 1253.37,1035.96 1269.34,87.9763 1285.31,1035.96 1301.28,1132.37 1317.25,1144.19 1333.22,1145.7 1349.19,1145.91 1365.16,1145.95 1381.13,1145.95 1397.1,1145.96 1413.07,1145.96 1429.04,1145.96 1445.01,1145.96 1460.98,1145.96 1476.95,1145.96 1492.92,1145.96 1508.89,1145.96 1524.86,1145.96 1540.83,1145.96 1556.8,1145.96 1572.77,1145.96 1588.74,1145.97 1604.71,1145.97 1620.68,1145.97 1636.65,1145.97 1652.62,1145.97 1668.59,1145.97 1684.57,1145.97 1700.54,1145.97 1716.51,1145.97 1732.48,1145.97 1748.45,1145.97 1764.42,1145.97 1780.39,1145.97 1796.36,1145.97 1812.33,1145.97 1828.3,1145.98 1844.27,1145.98 1860.24,1145.98 1876.21,1145.98 1892.18,1145.98 1908.15,1145.98 1924.12,1145.98 1940.09,1145.99 1956.06,1145.99 1972.03,1145.99 1988,1146 2003.97,1146 2019.94,1146 2035.91,1146.01 2051.88,1146.02 2067.85,1146.02 2083.82,1146.03 2099.79,1146.04 2115.76,1146.06 2131.73,1146.08 2147.7,1146.1 2163.67,1146.13 2179.64,1146.18 2195.61,1146.25 2211.58,1146.37 2227.55,1146.64 2243.52,1147.61 2259.49,1153.13 2275.46,1191.31 2291.43,1445.72 \"/>\n",
       "<path clip-path=\"url(#clip920)\" d=\"M2009.7 354.418 L2280.53 354.418 L2280.53 95.2176 L2009.7 95.2176  Z\" fill=\"#ffffff\" fill-rule=\"evenodd\" fill-opacity=\"1\"/>\n",
       "<polyline clip-path=\"url(#clip920)\" style=\"stroke:#000000; stroke-linecap:round; stroke-linejoin:round; stroke-width:4; stroke-opacity:1; fill:none\" points=\"2009.7,354.418 2280.53,354.418 2280.53,95.2176 2009.7,95.2176 2009.7,354.418 \"/>\n",
       "<polyline clip-path=\"url(#clip920)\" style=\"stroke:#009af9; stroke-linecap:round; stroke-linejoin:round; stroke-width:4; stroke-opacity:1; fill:none\" points=\"2033.78,147.058 2178.23,147.058 \"/>\n",
       "<path clip-path=\"url(#clip920)\" d=\"M2216.15 166.745 Q2214.35 171.375 2212.63 172.787 Q2210.92 174.199 2208.05 174.199 L2204.65 174.199 L2204.65 170.634 L2207.15 170.634 Q2208.91 170.634 2209.88 169.8 Q2210.85 168.967 2212.03 165.865 L2212.8 163.921 L2202.31 138.412 L2206.82 138.412 L2214.92 158.689 L2223.03 138.412 L2227.54 138.412 L2216.15 166.745 Z\" fill=\"#000000\" fill-rule=\"nonzero\" fill-opacity=\"1\" /><path clip-path=\"url(#clip920)\" d=\"M2234.83 160.402 L2242.47 160.402 L2242.47 134.037 L2234.16 135.703 L2234.16 131.444 L2242.42 129.778 L2247.1 129.778 L2247.1 160.402 L2254.74 160.402 L2254.74 164.338 L2234.83 164.338 L2234.83 160.402 Z\" fill=\"#000000\" fill-rule=\"nonzero\" fill-opacity=\"1\" /><polyline clip-path=\"url(#clip920)\" style=\"stroke:#e26f46; stroke-linecap:round; stroke-linejoin:round; stroke-width:4; stroke-opacity:1; fill:none\" points=\"2033.78,198.898 2178.23,198.898 \"/>\n",
       "<path clip-path=\"url(#clip920)\" d=\"M2216.15 218.585 Q2214.35 223.215 2212.63 224.627 Q2210.92 226.039 2208.05 226.039 L2204.65 226.039 L2204.65 222.474 L2207.15 222.474 Q2208.91 222.474 2209.88 221.64 Q2210.85 220.807 2212.03 217.705 L2212.8 215.761 L2202.31 190.252 L2206.82 190.252 L2214.92 210.529 L2223.03 190.252 L2227.54 190.252 L2216.15 218.585 Z\" fill=\"#000000\" fill-rule=\"nonzero\" fill-opacity=\"1\" /><path clip-path=\"url(#clip920)\" d=\"M2238.05 212.242 L2254.37 212.242 L2254.37 216.178 L2232.42 216.178 L2232.42 212.242 Q2235.09 209.488 2239.67 204.858 Q2244.28 200.205 2245.46 198.863 Q2247.7 196.34 2248.58 194.604 Q2249.48 192.844 2249.48 191.155 Q2249.48 188.4 2247.54 186.664 Q2245.62 184.928 2242.52 184.928 Q2240.32 184.928 2237.86 185.692 Q2235.43 186.455 2232.66 188.006 L2232.66 183.284 Q2235.48 182.15 2237.93 181.571 Q2240.39 180.993 2242.42 180.993 Q2247.8 180.993 2250.99 183.678 Q2254.18 186.363 2254.18 190.854 Q2254.18 192.983 2253.37 194.905 Q2252.59 196.803 2250.48 199.395 Q2249.9 200.067 2246.8 203.284 Q2243.7 206.479 2238.05 212.242 Z\" fill=\"#000000\" fill-rule=\"nonzero\" fill-opacity=\"1\" /><polyline clip-path=\"url(#clip920)\" style=\"stroke:#3da44d; stroke-linecap:round; stroke-linejoin:round; stroke-width:4; stroke-opacity:1; fill:none\" points=\"2033.78,250.738 2178.23,250.738 \"/>\n",
       "<path clip-path=\"url(#clip920)\" d=\"M2216.15 270.425 Q2214.35 275.055 2212.63 276.467 Q2210.92 277.879 2208.05 277.879 L2204.65 277.879 L2204.65 274.314 L2207.15 274.314 Q2208.91 274.314 2209.88 273.48 Q2210.85 272.647 2212.03 269.545 L2212.8 267.601 L2202.31 242.092 L2206.82 242.092 L2214.92 262.369 L2223.03 242.092 L2227.54 242.092 L2216.15 270.425 Z\" fill=\"#000000\" fill-rule=\"nonzero\" fill-opacity=\"1\" /><path clip-path=\"url(#clip920)\" d=\"M2248.19 249.383 Q2251.55 250.101 2253.42 252.369 Q2255.32 254.638 2255.32 257.971 Q2255.32 263.087 2251.8 265.888 Q2248.28 268.689 2241.8 268.689 Q2239.62 268.689 2237.31 268.249 Q2235.02 267.832 2232.56 266.976 L2232.56 262.462 Q2234.51 263.596 2236.82 264.175 Q2239.14 264.754 2241.66 264.754 Q2246.06 264.754 2248.35 263.018 Q2250.67 261.281 2250.67 257.971 Q2250.67 254.916 2248.51 253.203 Q2246.38 251.467 2242.56 251.467 L2238.54 251.467 L2238.54 247.624 L2242.75 247.624 Q2246.2 247.624 2248.03 246.258 Q2249.86 244.87 2249.86 242.277 Q2249.86 239.615 2247.96 238.203 Q2246.08 236.768 2242.56 236.768 Q2240.64 236.768 2238.44 237.184 Q2236.24 237.601 2233.61 238.481 L2233.61 234.314 Q2236.27 233.573 2238.58 233.203 Q2240.92 232.833 2242.98 232.833 Q2248.3 232.833 2251.41 235.263 Q2254.51 237.67 2254.51 241.791 Q2254.51 244.661 2252.86 246.652 Q2251.22 248.62 2248.19 249.383 Z\" fill=\"#000000\" fill-rule=\"nonzero\" fill-opacity=\"1\" /><polyline clip-path=\"url(#clip920)\" style=\"stroke:#c271d2; stroke-linecap:round; stroke-linejoin:round; stroke-width:4; stroke-opacity:1; fill:none\" points=\"2033.78,302.578 2178.23,302.578 \"/>\n",
       "<path clip-path=\"url(#clip920)\" d=\"M2216.15 322.265 Q2214.35 326.895 2212.63 328.307 Q2210.92 329.719 2208.05 329.719 L2204.65 329.719 L2204.65 326.154 L2207.15 326.154 Q2208.91 326.154 2209.88 325.32 Q2210.85 324.487 2212.03 321.385 L2212.8 319.441 L2202.31 293.932 L2206.82 293.932 L2214.92 314.209 L2223.03 293.932 L2227.54 293.932 L2216.15 322.265 Z\" fill=\"#000000\" fill-rule=\"nonzero\" fill-opacity=\"1\" /><path clip-path=\"url(#clip920)\" d=\"M2246.87 289.372 L2235.06 307.821 L2246.87 307.821 L2246.87 289.372 M2245.64 285.298 L2251.52 285.298 L2251.52 307.821 L2256.45 307.821 L2256.45 311.709 L2251.52 311.709 L2251.52 319.858 L2246.87 319.858 L2246.87 311.709 L2231.27 311.709 L2231.27 307.196 L2245.64 285.298 Z\" fill=\"#000000\" fill-rule=\"nonzero\" fill-opacity=\"1\" /></svg>\n"
      ]
     },
     "metadata": {},
     "output_type": "display_data"
    }
   ],
   "source": [
    "plot([density_SF, density_SF_2, density_SF_3, density_SF_4])"
   ]
  },
  {
   "cell_type": "code",
   "execution_count": 44,
   "metadata": {},
   "outputs": [
    {
     "data": {
      "image/png": "[encoded data removed]",
      "image/svg+xml": [
       "<?xml version=\"1.0\" encoding=\"utf-8\"?>\n",
       "<svg xmlns=\"http://www.w3.org/2000/svg\" xmlns:xlink=\"http://www.w3.org/1999/xlink\" width=\"600\" height=\"400\" viewBox=\"0 0 2400 1600\">\n",
       "<defs>\n",
       "  <clipPath id=\"clip750\">\n",
       "    <rect x=\"0\" y=\"0\" width=\"2400\" height=\"1600\"/>\n",
       "  </clipPath>\n",
       "</defs>\n",
       "<path clip-path=\"url(#clip750)\" d=\"M0 1600 L2400 1600 L2400 0 L0 0  Z\" fill=\"#ffffff\" fill-rule=\"evenodd\" fill-opacity=\"1\"/>\n",
       "<defs>\n",
       "  <clipPath id=\"clip751\">\n",
       "    <rect x=\"480\" y=\"0\" width=\"1681\" height=\"1600\"/>\n",
       "  </clipPath>\n",
       "</defs>\n",
       "<path clip-path=\"url(#clip750)\" d=\"M154.515 1486.45 L2352.76 1486.45 L2352.76 47.2441 L154.515 47.2441  Z\" fill=\"#ffffff\" fill-rule=\"evenodd\" fill-opacity=\"1\"/>\n",
       "<defs>\n",
       "  <clipPath id=\"clip752\">\n",
       "    <rect x=\"154\" y=\"47\" width=\"2199\" height=\"1440\"/>\n",
       "  </clipPath>\n",
       "</defs>\n",
       "<polyline clip-path=\"url(#clip752)\" style=\"stroke:#000000; stroke-linecap:round; stroke-linejoin:round; stroke-width:2; stroke-opacity:0.1; fill:none\" points=\"631.492,1486.45 631.492,47.2441 \"/>\n",
       "<polyline clip-path=\"url(#clip752)\" style=\"stroke:#000000; stroke-linecap:round; stroke-linejoin:round; stroke-width:2; stroke-opacity:0.1; fill:none\" points=\"1149.94,1486.45 1149.94,47.2441 \"/>\n",
       "<polyline clip-path=\"url(#clip752)\" style=\"stroke:#000000; stroke-linecap:round; stroke-linejoin:round; stroke-width:2; stroke-opacity:0.1; fill:none\" points=\"1668.4,1486.45 1668.4,47.2441 \"/>\n",
       "<polyline clip-path=\"url(#clip752)\" style=\"stroke:#000000; stroke-linecap:round; stroke-linejoin:round; stroke-width:2; stroke-opacity:0.1; fill:none\" points=\"2186.85,1486.45 2186.85,47.2441 \"/>\n",
       "<polyline clip-path=\"url(#clip750)\" style=\"stroke:#000000; stroke-linecap:round; stroke-linejoin:round; stroke-width:4; stroke-opacity:1; fill:none\" points=\"154.515,1486.45 2352.76,1486.45 \"/>\n",
       "<polyline clip-path=\"url(#clip750)\" style=\"stroke:#000000; stroke-linecap:round; stroke-linejoin:round; stroke-width:4; stroke-opacity:1; fill:none\" points=\"631.492,1486.45 631.492,1467.55 \"/>\n",
       "<polyline clip-path=\"url(#clip750)\" style=\"stroke:#000000; stroke-linecap:round; stroke-linejoin:round; stroke-width:4; stroke-opacity:1; fill:none\" points=\"1149.94,1486.45 1149.94,1467.55 \"/>\n",
       "<polyline clip-path=\"url(#clip750)\" style=\"stroke:#000000; stroke-linecap:round; stroke-linejoin:round; stroke-width:4; stroke-opacity:1; fill:none\" points=\"1668.4,1486.45 1668.4,1467.55 \"/>\n",
       "<polyline clip-path=\"url(#clip750)\" style=\"stroke:#000000; stroke-linecap:round; stroke-linejoin:round; stroke-width:4; stroke-opacity:1; fill:none\" points=\"2186.85,1486.45 2186.85,1467.55 \"/>\n",
       "<path clip-path=\"url(#clip750)\" d=\"M621.77 1514.29 L640.126 1514.29 L640.126 1518.22 L626.052 1518.22 L626.052 1526.7 Q627.07 1526.35 628.089 1526.19 Q629.107 1526 630.126 1526 Q635.913 1526 639.293 1529.17 Q642.672 1532.34 642.672 1537.76 Q642.672 1543.34 639.2 1546.44 Q635.728 1549.52 629.408 1549.52 Q627.232 1549.52 624.964 1549.15 Q622.719 1548.78 620.311 1548.04 L620.311 1543.34 Q622.395 1544.47 624.617 1545.03 Q626.839 1545.58 629.316 1545.58 Q633.32 1545.58 635.658 1543.48 Q637.996 1541.37 637.996 1537.76 Q637.996 1534.15 635.658 1532.04 Q633.32 1529.94 629.316 1529.94 Q627.441 1529.94 625.566 1530.35 Q623.714 1530.77 621.77 1531.65 L621.77 1514.29 Z\" fill=\"#000000\" fill-rule=\"nonzero\" fill-opacity=\"1\" /><path clip-path=\"url(#clip750)\" d=\"M1124.63 1544.91 L1132.27 1544.91 L1132.27 1518.55 L1123.96 1520.21 L1123.96 1515.95 L1132.22 1514.29 L1136.9 1514.29 L1136.9 1544.91 L1144.54 1544.91 L1144.54 1548.85 L1124.63 1548.85 L1124.63 1544.91 Z\" fill=\"#000000\" fill-rule=\"nonzero\" fill-opacity=\"1\" /><path clip-path=\"url(#clip750)\" d=\"M1163.98 1517.37 Q1160.37 1517.37 1158.54 1520.93 Q1156.74 1524.47 1156.74 1531.6 Q1156.74 1538.71 1158.54 1542.27 Q1160.37 1545.82 1163.98 1545.82 Q1167.62 1545.82 1169.42 1542.27 Q1171.25 1538.71 1171.25 1531.6 Q1171.25 1524.47 1169.42 1520.93 Q1167.62 1517.37 1163.98 1517.37 M1163.98 1513.66 Q1169.79 1513.66 1172.85 1518.27 Q1175.93 1522.85 1175.93 1531.6 Q1175.93 1540.33 1172.85 1544.94 Q1169.79 1549.52 1163.98 1549.52 Q1158.17 1549.52 1155.1 1544.94 Q1152.04 1540.33 1152.04 1531.6 Q1152.04 1522.85 1155.1 1518.27 Q1158.17 1513.66 1163.98 1513.66 Z\" fill=\"#000000\" fill-rule=\"nonzero\" fill-opacity=\"1\" /><path clip-path=\"url(#clip750)\" d=\"M1643.58 1544.91 L1651.22 1544.91 L1651.22 1518.55 L1642.91 1520.21 L1642.91 1515.95 L1651.18 1514.29 L1655.85 1514.29 L1655.85 1544.91 L1663.49 1544.91 L1663.49 1548.85 L1643.58 1548.85 L1643.58 1544.91 Z\" fill=\"#000000\" fill-rule=\"nonzero\" fill-opacity=\"1\" /><path clip-path=\"url(#clip750)\" d=\"M1672.98 1514.29 L1691.34 1514.29 L1691.34 1518.22 L1677.26 1518.22 L1677.26 1526.7 Q1678.28 1526.35 1679.3 1526.19 Q1680.32 1526 1681.34 1526 Q1687.12 1526 1690.5 1529.17 Q1693.88 1532.34 1693.88 1537.76 Q1693.88 1543.34 1690.41 1546.44 Q1686.94 1549.52 1680.62 1549.52 Q1678.44 1549.52 1676.18 1549.15 Q1673.93 1548.78 1671.52 1548.04 L1671.52 1543.34 Q1673.61 1544.47 1675.83 1545.03 Q1678.05 1545.58 1680.53 1545.58 Q1684.53 1545.58 1686.87 1543.48 Q1689.21 1541.37 1689.21 1537.76 Q1689.21 1534.15 1686.87 1532.04 Q1684.53 1529.94 1680.53 1529.94 Q1678.65 1529.94 1676.78 1530.35 Q1674.93 1530.77 1672.98 1531.65 L1672.98 1514.29 Z\" fill=\"#000000\" fill-rule=\"nonzero\" fill-opacity=\"1\" /><path clip-path=\"url(#clip750)\" d=\"M2165.62 1544.91 L2181.94 1544.91 L2181.94 1548.85 L2160 1548.85 L2160 1544.91 Q2162.66 1542.16 2167.24 1537.53 Q2171.85 1532.88 2173.03 1531.53 Q2175.28 1529.01 2176.16 1527.27 Q2177.06 1525.51 2177.06 1523.82 Q2177.06 1521.07 2175.11 1519.33 Q2173.19 1517.6 2170.09 1517.6 Q2167.89 1517.6 2165.44 1518.36 Q2163.01 1519.13 2160.23 1520.68 L2160.23 1515.95 Q2163.05 1514.82 2165.51 1514.24 Q2167.96 1513.66 2170 1513.66 Q2175.37 1513.66 2178.56 1516.35 Q2181.76 1519.03 2181.76 1523.52 Q2181.76 1525.65 2180.95 1527.57 Q2180.16 1529.47 2178.05 1532.07 Q2177.48 1532.74 2174.37 1535.95 Q2171.27 1539.15 2165.62 1544.91 Z\" fill=\"#000000\" fill-rule=\"nonzero\" fill-opacity=\"1\" /><path clip-path=\"url(#clip750)\" d=\"M2201.76 1517.37 Q2198.15 1517.37 2196.32 1520.93 Q2194.51 1524.47 2194.51 1531.6 Q2194.51 1538.71 2196.32 1542.27 Q2198.15 1545.82 2201.76 1545.82 Q2205.39 1545.82 2207.2 1542.27 Q2209.03 1538.71 2209.03 1531.6 Q2209.03 1524.47 2207.2 1520.93 Q2205.39 1517.37 2201.76 1517.37 M2201.76 1513.66 Q2207.57 1513.66 2210.62 1518.27 Q2213.7 1522.85 2213.7 1531.6 Q2213.7 1540.33 2210.62 1544.94 Q2207.57 1549.52 2201.76 1549.52 Q2195.95 1549.52 2192.87 1544.94 Q2189.81 1540.33 2189.81 1531.6 Q2189.81 1522.85 2192.87 1518.27 Q2195.95 1513.66 2201.76 1513.66 Z\" fill=\"#000000\" fill-rule=\"nonzero\" fill-opacity=\"1\" /><polyline clip-path=\"url(#clip752)\" style=\"stroke:#000000; stroke-linecap:round; stroke-linejoin:round; stroke-width:2; stroke-opacity:0.1; fill:none\" points=\"154.515,1282.97 2352.76,1282.97 \"/>\n",
       "<polyline clip-path=\"url(#clip752)\" style=\"stroke:#000000; stroke-linecap:round; stroke-linejoin:round; stroke-width:2; stroke-opacity:0.1; fill:none\" points=\"154.515,996.138 2352.76,996.138 \"/>\n",
       "<polyline clip-path=\"url(#clip752)\" style=\"stroke:#000000; stroke-linecap:round; stroke-linejoin:round; stroke-width:2; stroke-opacity:0.1; fill:none\" points=\"154.515,709.309 2352.76,709.309 \"/>\n",
       "<polyline clip-path=\"url(#clip752)\" style=\"stroke:#000000; stroke-linecap:round; stroke-linejoin:round; stroke-width:2; stroke-opacity:0.1; fill:none\" points=\"154.515,422.479 2352.76,422.479 \"/>\n",
       "<polyline clip-path=\"url(#clip752)\" style=\"stroke:#000000; stroke-linecap:round; stroke-linejoin:round; stroke-width:2; stroke-opacity:0.1; fill:none\" points=\"154.515,135.649 2352.76,135.649 \"/>\n",
       "<polyline clip-path=\"url(#clip750)\" style=\"stroke:#000000; stroke-linecap:round; stroke-linejoin:round; stroke-width:4; stroke-opacity:1; fill:none\" points=\"154.515,1486.45 154.515,47.2441 \"/>\n",
       "<polyline clip-path=\"url(#clip750)\" style=\"stroke:#000000; stroke-linecap:round; stroke-linejoin:round; stroke-width:4; stroke-opacity:1; fill:none\" points=\"154.515,1282.97 173.413,1282.97 \"/>\n",
       "<polyline clip-path=\"url(#clip750)\" style=\"stroke:#000000; stroke-linecap:round; stroke-linejoin:round; stroke-width:4; stroke-opacity:1; fill:none\" points=\"154.515,996.138 173.413,996.138 \"/>\n",
       "<polyline clip-path=\"url(#clip750)\" style=\"stroke:#000000; stroke-linecap:round; stroke-linejoin:round; stroke-width:4; stroke-opacity:1; fill:none\" points=\"154.515,709.309 173.413,709.309 \"/>\n",
       "<polyline clip-path=\"url(#clip750)\" style=\"stroke:#000000; stroke-linecap:round; stroke-linejoin:round; stroke-width:4; stroke-opacity:1; fill:none\" points=\"154.515,422.479 173.413,422.479 \"/>\n",
       "<polyline clip-path=\"url(#clip750)\" style=\"stroke:#000000; stroke-linecap:round; stroke-linejoin:round; stroke-width:4; stroke-opacity:1; fill:none\" points=\"154.515,135.649 173.413,135.649 \"/>\n",
       "<path clip-path=\"url(#clip750)\" d=\"M52.1495 1296.31 L59.7884 1296.31 L59.7884 1269.95 L51.4782 1271.61 L51.4782 1267.35 L59.7421 1265.69 L64.418 1265.69 L64.418 1296.31 L72.0568 1296.31 L72.0568 1300.25 L52.1495 1300.25 L52.1495 1296.31 Z\" fill=\"#000000\" fill-rule=\"nonzero\" fill-opacity=\"1\" /><path clip-path=\"url(#clip750)\" d=\"M81.5012 1294.37 L86.3855 1294.37 L86.3855 1300.25 L81.5012 1300.25 L81.5012 1294.37 Z\" fill=\"#000000\" fill-rule=\"nonzero\" fill-opacity=\"1\" /><path clip-path=\"url(#clip750)\" d=\"M106.571 1268.77 Q102.959 1268.77 101.131 1272.33 Q99.3252 1275.87 99.3252 1283 Q99.3252 1290.11 101.131 1293.67 Q102.959 1297.22 106.571 1297.22 Q110.205 1297.22 112.01 1293.67 Q113.839 1290.11 113.839 1283 Q113.839 1275.87 112.01 1272.33 Q110.205 1268.77 106.571 1268.77 M106.571 1265.06 Q112.381 1265.06 115.436 1269.67 Q118.515 1274.25 118.515 1283 Q118.515 1291.73 115.436 1296.34 Q112.381 1300.92 106.571 1300.92 Q100.76 1300.92 97.6817 1296.34 Q94.6262 1291.73 94.6262 1283 Q94.6262 1274.25 97.6817 1269.67 Q100.76 1265.06 106.571 1265.06 Z\" fill=\"#000000\" fill-rule=\"nonzero\" fill-opacity=\"1\" /><path clip-path=\"url(#clip750)\" d=\"M53.7467 1009.48 L61.3856 1009.48 L61.3856 983.117 L53.0754 984.784 L53.0754 980.525 L61.3393 978.858 L66.0152 978.858 L66.0152 1009.48 L73.654 1009.48 L73.654 1013.42 L53.7467 1013.42 L53.7467 1009.48 Z\" fill=\"#000000\" fill-rule=\"nonzero\" fill-opacity=\"1\" /><path clip-path=\"url(#clip750)\" d=\"M83.0984 1007.54 L87.9827 1007.54 L87.9827 1013.42 L83.0984 1013.42 L83.0984 1007.54 Z\" fill=\"#000000\" fill-rule=\"nonzero\" fill-opacity=\"1\" /><path clip-path=\"url(#clip750)\" d=\"M102.196 1009.48 L118.515 1009.48 L118.515 1013.42 L96.5706 1013.42 L96.5706 1009.48 Q99.2326 1006.73 103.816 1002.1 Q108.422 997.446 109.603 996.104 Q111.848 993.58 112.728 991.844 Q113.631 990.085 113.631 988.395 Q113.631 985.641 111.686 983.905 Q109.765 982.168 106.663 982.168 Q104.464 982.168 102.01 982.932 Q99.5798 983.696 96.8021 985.247 L96.8021 980.525 Q99.6261 979.391 102.08 978.812 Q104.534 978.233 106.571 978.233 Q111.941 978.233 115.135 980.918 Q118.33 983.604 118.33 988.094 Q118.33 990.224 117.52 992.145 Q116.733 994.043 114.626 996.636 Q114.047 997.307 110.946 1000.52 Q107.844 1003.72 102.196 1009.48 Z\" fill=\"#000000\" fill-rule=\"nonzero\" fill-opacity=\"1\" /><path clip-path=\"url(#clip750)\" d=\"M51.6634 722.653 L59.3023 722.653 L59.3023 696.288 L50.9921 697.955 L50.9921 693.695 L59.256 692.029 L63.9319 692.029 L63.9319 722.653 L71.5707 722.653 L71.5707 726.589 L51.6634 726.589 L51.6634 722.653 Z\" fill=\"#000000\" fill-rule=\"nonzero\" fill-opacity=\"1\" /><path clip-path=\"url(#clip750)\" d=\"M81.0151 720.709 L85.8993 720.709 L85.8993 726.589 L81.0151 726.589 L81.0151 720.709 Z\" fill=\"#000000\" fill-rule=\"nonzero\" fill-opacity=\"1\" /><path clip-path=\"url(#clip750)\" d=\"M108.932 696.103 L97.1261 714.552 L108.932 714.552 L108.932 696.103 M107.705 692.029 L113.584 692.029 L113.584 714.552 L118.515 714.552 L118.515 718.441 L113.584 718.441 L113.584 726.589 L108.932 726.589 L108.932 718.441 L93.3299 718.441 L93.3299 713.927 L107.705 692.029 Z\" fill=\"#000000\" fill-rule=\"nonzero\" fill-opacity=\"1\" /><path clip-path=\"url(#clip750)\" d=\"M51.9875 435.824 L59.6263 435.824 L59.6263 409.458 L51.3162 411.125 L51.3162 406.866 L59.58 405.199 L64.2559 405.199 L64.2559 435.824 L71.8948 435.824 L71.8948 439.759 L51.9875 439.759 L51.9875 435.824 Z\" fill=\"#000000\" fill-rule=\"nonzero\" fill-opacity=\"1\" /><path clip-path=\"url(#clip750)\" d=\"M81.3392 433.879 L86.2234 433.879 L86.2234 439.759 L81.3392 439.759 L81.3392 433.879 Z\" fill=\"#000000\" fill-rule=\"nonzero\" fill-opacity=\"1\" /><path clip-path=\"url(#clip750)\" d=\"M106.987 420.616 Q103.839 420.616 101.987 422.768 Q100.159 424.921 100.159 428.671 Q100.159 432.398 101.987 434.574 Q103.839 436.727 106.987 436.727 Q110.135 436.727 111.964 434.574 Q113.816 432.398 113.816 428.671 Q113.816 424.921 111.964 422.768 Q110.135 420.616 106.987 420.616 M116.27 405.963 L116.27 410.222 Q114.51 409.389 112.705 408.949 Q110.922 408.509 109.163 408.509 Q104.534 408.509 102.08 411.634 Q99.6493 414.759 99.3021 421.079 Q100.668 419.065 102.728 418 Q104.788 416.912 107.265 416.912 Q112.473 416.912 115.483 420.083 Q118.515 423.231 118.515 428.671 Q118.515 433.995 115.367 437.213 Q112.219 440.43 106.987 440.43 Q100.992 440.43 97.8206 435.847 Q94.6493 431.241 94.6493 422.514 Q94.6493 414.319 98.5382 409.458 Q102.427 404.574 108.978 404.574 Q110.737 404.574 112.52 404.921 Q114.325 405.268 116.27 405.963 Z\" fill=\"#000000\" fill-rule=\"nonzero\" fill-opacity=\"1\" /><path clip-path=\"url(#clip750)\" d=\"M52.2421 148.994 L59.881 148.994 L59.881 122.629 L51.5708 124.295 L51.5708 120.036 L59.8347 118.369 L64.5106 118.369 L64.5106 148.994 L72.1494 148.994 L72.1494 152.929 L52.2421 152.929 L52.2421 148.994 Z\" fill=\"#000000\" fill-rule=\"nonzero\" fill-opacity=\"1\" /><path clip-path=\"url(#clip750)\" d=\"M81.5938 147.05 L86.478 147.05 L86.478 152.929 L81.5938 152.929 L81.5938 147.05 Z\" fill=\"#000000\" fill-rule=\"nonzero\" fill-opacity=\"1\" /><path clip-path=\"url(#clip750)\" d=\"M106.663 136.517 Q103.33 136.517 101.409 138.3 Q99.5104 140.082 99.5104 143.207 Q99.5104 146.332 101.409 148.115 Q103.33 149.897 106.663 149.897 Q109.996 149.897 111.918 148.115 Q113.839 146.309 113.839 143.207 Q113.839 140.082 111.918 138.3 Q110.02 136.517 106.663 136.517 M101.987 134.527 Q98.978 133.786 97.2882 131.726 Q95.6215 129.666 95.6215 126.703 Q95.6215 122.559 98.5613 120.152 Q101.524 117.744 106.663 117.744 Q111.825 117.744 114.765 120.152 Q117.705 122.559 117.705 126.703 Q117.705 129.666 116.015 131.726 Q114.348 133.786 111.362 134.527 Q114.742 135.314 116.617 137.605 Q118.515 139.897 118.515 143.207 Q118.515 148.23 115.436 150.915 Q112.381 153.601 106.663 153.601 Q100.946 153.601 97.8669 150.915 Q94.8113 148.23 94.8113 143.207 Q94.8113 139.897 96.7095 137.605 Q98.6076 135.314 101.987 134.527 M100.274 127.142 Q100.274 129.828 101.941 131.332 Q103.631 132.837 106.663 132.837 Q109.672 132.837 111.362 131.332 Q113.075 129.828 113.075 127.142 Q113.075 124.457 111.362 122.953 Q109.672 121.448 106.663 121.448 Q103.631 121.448 101.941 122.953 Q100.274 124.457 100.274 127.142 Z\" fill=\"#000000\" fill-rule=\"nonzero\" fill-opacity=\"1\" /><polyline clip-path=\"url(#clip752)\" style=\"stroke:#009af9; stroke-linecap:round; stroke-linejoin:round; stroke-width:4; stroke-opacity:1; fill:none\" points=\"216.729,1328.03 320.42,1346.4 424.111,1372.34 527.801,1409.18 631.492,1445.72 735.182,87.9763 838.873,1445.71 942.564,1409.18 1046.25,1372.33 1149.94,1346.39 1253.64,1328.03 1357.33,1314.99 1461.02,1305.72 1564.71,1299.14 1668.4,1294.46 1772.09,1291.14 1875.78,1288.77 1979.47,1287.09 2083.16,1285.9 2186.85,1285.05 2290.54,1284.45 \"/>\n",
       "<path clip-path=\"url(#clip750)\" d=\"M2007.23 198.898 L2279.48 198.898 L2279.48 95.2176 L2007.23 95.2176  Z\" fill=\"#ffffff\" fill-rule=\"evenodd\" fill-opacity=\"1\"/>\n",
       "<polyline clip-path=\"url(#clip750)\" style=\"stroke:#000000; stroke-linecap:round; stroke-linejoin:round; stroke-width:4; stroke-opacity:1; fill:none\" points=\"2007.23,198.898 2279.48,198.898 2279.48,95.2176 2007.23,95.2176 2007.23,198.898 \"/>\n",
       "<polyline clip-path=\"url(#clip750)\" style=\"stroke:#009af9; stroke-linecap:round; stroke-linejoin:round; stroke-width:4; stroke-opacity:1; fill:none\" points=\"2031.65,147.058 2178.2,147.058 \"/>\n",
       "<path clip-path=\"url(#clip750)\" d=\"M2216.47 166.745 Q2214.66 171.375 2212.95 172.787 Q2211.24 174.199 2208.37 174.199 L2204.96 174.199 L2204.96 170.634 L2207.46 170.634 Q2209.22 170.634 2210.2 169.8 Q2211.17 168.967 2212.35 165.865 L2213.11 163.921 L2202.63 138.412 L2207.14 138.412 L2215.24 158.689 L2223.34 138.412 L2227.86 138.412 L2216.47 166.745 Z\" fill=\"#000000\" fill-rule=\"nonzero\" fill-opacity=\"1\" /><path clip-path=\"url(#clip750)\" d=\"M2235.15 160.402 L2242.79 160.402 L2242.79 134.037 L2234.48 135.703 L2234.48 131.444 L2242.74 129.778 L2247.42 129.778 L2247.42 160.402 L2255.06 160.402 L2255.06 164.338 L2235.15 164.338 L2235.15 160.402 Z\" fill=\"#000000\" fill-rule=\"nonzero\" fill-opacity=\"1\" /></svg>\n"
      ],
      "text/html": [
       "<?xml version=\"1.0\" encoding=\"utf-8\"?>\n",
       "<svg xmlns=\"http://www.w3.org/2000/svg\" xmlns:xlink=\"http://www.w3.org/1999/xlink\" width=\"600\" height=\"400\" viewBox=\"0 0 2400 1600\">\n",
       "<defs>\n",
       "  <clipPath id=\"clip800\">\n",
       "    <rect x=\"0\" y=\"0\" width=\"2400\" height=\"1600\"/>\n",
       "  </clipPath>\n",
       "</defs>\n",
       "<path clip-path=\"url(#clip800)\" d=\"M0 1600 L2400 1600 L2400 0 L0 0  Z\" fill=\"#ffffff\" fill-rule=\"evenodd\" fill-opacity=\"1\"/>\n",
       "<defs>\n",
       "  <clipPath id=\"clip801\">\n",
       "    <rect x=\"480\" y=\"0\" width=\"1681\" height=\"1600\"/>\n",
       "  </clipPath>\n",
       "</defs>\n",
       "<path clip-path=\"url(#clip800)\" d=\"M154.515 1486.45 L2352.76 1486.45 L2352.76 47.2441 L154.515 47.2441  Z\" fill=\"#ffffff\" fill-rule=\"evenodd\" fill-opacity=\"1\"/>\n",
       "<defs>\n",
       "  <clipPath id=\"clip802\">\n",
       "    <rect x=\"154\" y=\"47\" width=\"2199\" height=\"1440\"/>\n",
       "  </clipPath>\n",
       "</defs>\n",
       "<polyline clip-path=\"url(#clip802)\" style=\"stroke:#000000; stroke-linecap:round; stroke-linejoin:round; stroke-width:2; stroke-opacity:0.1; fill:none\" points=\"631.492,1486.45 631.492,47.2441 \"/>\n",
       "<polyline clip-path=\"url(#clip802)\" style=\"stroke:#000000; stroke-linecap:round; stroke-linejoin:round; stroke-width:2; stroke-opacity:0.1; fill:none\" points=\"1149.94,1486.45 1149.94,47.2441 \"/>\n",
       "<polyline clip-path=\"url(#clip802)\" style=\"stroke:#000000; stroke-linecap:round; stroke-linejoin:round; stroke-width:2; stroke-opacity:0.1; fill:none\" points=\"1668.4,1486.45 1668.4,47.2441 \"/>\n",
       "<polyline clip-path=\"url(#clip802)\" style=\"stroke:#000000; stroke-linecap:round; stroke-linejoin:round; stroke-width:2; stroke-opacity:0.1; fill:none\" points=\"2186.85,1486.45 2186.85,47.2441 \"/>\n",
       "<polyline clip-path=\"url(#clip800)\" style=\"stroke:#000000; stroke-linecap:round; stroke-linejoin:round; stroke-width:4; stroke-opacity:1; fill:none\" points=\"154.515,1486.45 2352.76,1486.45 \"/>\n",
       "<polyline clip-path=\"url(#clip800)\" style=\"stroke:#000000; stroke-linecap:round; stroke-linejoin:round; stroke-width:4; stroke-opacity:1; fill:none\" points=\"631.492,1486.45 631.492,1467.55 \"/>\n",
       "<polyline clip-path=\"url(#clip800)\" style=\"stroke:#000000; stroke-linecap:round; stroke-linejoin:round; stroke-width:4; stroke-opacity:1; fill:none\" points=\"1149.94,1486.45 1149.94,1467.55 \"/>\n",
       "<polyline clip-path=\"url(#clip800)\" style=\"stroke:#000000; stroke-linecap:round; stroke-linejoin:round; stroke-width:4; stroke-opacity:1; fill:none\" points=\"1668.4,1486.45 1668.4,1467.55 \"/>\n",
       "<polyline clip-path=\"url(#clip800)\" style=\"stroke:#000000; stroke-linecap:round; stroke-linejoin:round; stroke-width:4; stroke-opacity:1; fill:none\" points=\"2186.85,1486.45 2186.85,1467.55 \"/>\n",
       "<path clip-path=\"url(#clip800)\" d=\"M621.77 1514.29 L640.126 1514.29 L640.126 1518.22 L626.052 1518.22 L626.052 1526.7 Q627.07 1526.35 628.089 1526.19 Q629.107 1526 630.126 1526 Q635.913 1526 639.293 1529.17 Q642.672 1532.34 642.672 1537.76 Q642.672 1543.34 639.2 1546.44 Q635.728 1549.52 629.408 1549.52 Q627.232 1549.52 624.964 1549.15 Q622.719 1548.78 620.311 1548.04 L620.311 1543.34 Q622.395 1544.47 624.617 1545.03 Q626.839 1545.58 629.316 1545.58 Q633.32 1545.58 635.658 1543.48 Q637.996 1541.37 637.996 1537.76 Q637.996 1534.15 635.658 1532.04 Q633.32 1529.94 629.316 1529.94 Q627.441 1529.94 625.566 1530.35 Q623.714 1530.77 621.77 1531.65 L621.77 1514.29 Z\" fill=\"#000000\" fill-rule=\"nonzero\" fill-opacity=\"1\" /><path clip-path=\"url(#clip800)\" d=\"M1124.63 1544.91 L1132.27 1544.91 L1132.27 1518.55 L1123.96 1520.21 L1123.96 1515.95 L1132.22 1514.29 L1136.9 1514.29 L1136.9 1544.91 L1144.54 1544.91 L1144.54 1548.85 L1124.63 1548.85 L1124.63 1544.91 Z\" fill=\"#000000\" fill-rule=\"nonzero\" fill-opacity=\"1\" /><path clip-path=\"url(#clip800)\" d=\"M1163.98 1517.37 Q1160.37 1517.37 1158.54 1520.93 Q1156.74 1524.47 1156.74 1531.6 Q1156.74 1538.71 1158.54 1542.27 Q1160.37 1545.82 1163.98 1545.82 Q1167.62 1545.82 1169.42 1542.27 Q1171.25 1538.71 1171.25 1531.6 Q1171.25 1524.47 1169.42 1520.93 Q1167.62 1517.37 1163.98 1517.37 M1163.98 1513.66 Q1169.79 1513.66 1172.85 1518.27 Q1175.93 1522.85 1175.93 1531.6 Q1175.93 1540.33 1172.85 1544.94 Q1169.79 1549.52 1163.98 1549.52 Q1158.17 1549.52 1155.1 1544.94 Q1152.04 1540.33 1152.04 1531.6 Q1152.04 1522.85 1155.1 1518.27 Q1158.17 1513.66 1163.98 1513.66 Z\" fill=\"#000000\" fill-rule=\"nonzero\" fill-opacity=\"1\" /><path clip-path=\"url(#clip800)\" d=\"M1643.58 1544.91 L1651.22 1544.91 L1651.22 1518.55 L1642.91 1520.21 L1642.91 1515.95 L1651.18 1514.29 L1655.85 1514.29 L1655.85 1544.91 L1663.49 1544.91 L1663.49 1548.85 L1643.58 1548.85 L1643.58 1544.91 Z\" fill=\"#000000\" fill-rule=\"nonzero\" fill-opacity=\"1\" /><path clip-path=\"url(#clip800)\" d=\"M1672.98 1514.29 L1691.34 1514.29 L1691.34 1518.22 L1677.26 1518.22 L1677.26 1526.7 Q1678.28 1526.35 1679.3 1526.19 Q1680.32 1526 1681.34 1526 Q1687.12 1526 1690.5 1529.17 Q1693.88 1532.34 1693.88 1537.76 Q1693.88 1543.34 1690.41 1546.44 Q1686.94 1549.52 1680.62 1549.52 Q1678.44 1549.52 1676.18 1549.15 Q1673.93 1548.78 1671.52 1548.04 L1671.52 1543.34 Q1673.61 1544.47 1675.83 1545.03 Q1678.05 1545.58 1680.53 1545.58 Q1684.53 1545.58 1686.87 1543.48 Q1689.21 1541.37 1689.21 1537.76 Q1689.21 1534.15 1686.87 1532.04 Q1684.53 1529.94 1680.53 1529.94 Q1678.65 1529.94 1676.78 1530.35 Q1674.93 1530.77 1672.98 1531.65 L1672.98 1514.29 Z\" fill=\"#000000\" fill-rule=\"nonzero\" fill-opacity=\"1\" /><path clip-path=\"url(#clip800)\" d=\"M2165.62 1544.91 L2181.94 1544.91 L2181.94 1548.85 L2160 1548.85 L2160 1544.91 Q2162.66 1542.16 2167.24 1537.53 Q2171.85 1532.88 2173.03 1531.53 Q2175.28 1529.01 2176.16 1527.27 Q2177.06 1525.51 2177.06 1523.82 Q2177.06 1521.07 2175.11 1519.33 Q2173.19 1517.6 2170.09 1517.6 Q2167.89 1517.6 2165.44 1518.36 Q2163.01 1519.13 2160.23 1520.68 L2160.23 1515.95 Q2163.05 1514.82 2165.51 1514.24 Q2167.96 1513.66 2170 1513.66 Q2175.37 1513.66 2178.56 1516.35 Q2181.76 1519.03 2181.76 1523.52 Q2181.76 1525.65 2180.95 1527.57 Q2180.16 1529.47 2178.05 1532.07 Q2177.48 1532.74 2174.37 1535.95 Q2171.27 1539.15 2165.62 1544.91 Z\" fill=\"#000000\" fill-rule=\"nonzero\" fill-opacity=\"1\" /><path clip-path=\"url(#clip800)\" d=\"M2201.76 1517.37 Q2198.15 1517.37 2196.32 1520.93 Q2194.51 1524.47 2194.51 1531.6 Q2194.51 1538.71 2196.32 1542.27 Q2198.15 1545.82 2201.76 1545.82 Q2205.39 1545.82 2207.2 1542.27 Q2209.03 1538.71 2209.03 1531.6 Q2209.03 1524.47 2207.2 1520.93 Q2205.39 1517.37 2201.76 1517.37 M2201.76 1513.66 Q2207.57 1513.66 2210.62 1518.27 Q2213.7 1522.85 2213.7 1531.6 Q2213.7 1540.33 2210.62 1544.94 Q2207.57 1549.52 2201.76 1549.52 Q2195.95 1549.52 2192.87 1544.94 Q2189.81 1540.33 2189.81 1531.6 Q2189.81 1522.85 2192.87 1518.27 Q2195.95 1513.66 2201.76 1513.66 Z\" fill=\"#000000\" fill-rule=\"nonzero\" fill-opacity=\"1\" /><polyline clip-path=\"url(#clip802)\" style=\"stroke:#000000; stroke-linecap:round; stroke-linejoin:round; stroke-width:2; stroke-opacity:0.1; fill:none\" points=\"154.515,1282.97 2352.76,1282.97 \"/>\n",
       "<polyline clip-path=\"url(#clip802)\" style=\"stroke:#000000; stroke-linecap:round; stroke-linejoin:round; stroke-width:2; stroke-opacity:0.1; fill:none\" points=\"154.515,996.138 2352.76,996.138 \"/>\n",
       "<polyline clip-path=\"url(#clip802)\" style=\"stroke:#000000; stroke-linecap:round; stroke-linejoin:round; stroke-width:2; stroke-opacity:0.1; fill:none\" points=\"154.515,709.309 2352.76,709.309 \"/>\n",
       "<polyline clip-path=\"url(#clip802)\" style=\"stroke:#000000; stroke-linecap:round; stroke-linejoin:round; stroke-width:2; stroke-opacity:0.1; fill:none\" points=\"154.515,422.479 2352.76,422.479 \"/>\n",
       "<polyline clip-path=\"url(#clip802)\" style=\"stroke:#000000; stroke-linecap:round; stroke-linejoin:round; stroke-width:2; stroke-opacity:0.1; fill:none\" points=\"154.515,135.649 2352.76,135.649 \"/>\n",
       "<polyline clip-path=\"url(#clip800)\" style=\"stroke:#000000; stroke-linecap:round; stroke-linejoin:round; stroke-width:4; stroke-opacity:1; fill:none\" points=\"154.515,1486.45 154.515,47.2441 \"/>\n",
       "<polyline clip-path=\"url(#clip800)\" style=\"stroke:#000000; stroke-linecap:round; stroke-linejoin:round; stroke-width:4; stroke-opacity:1; fill:none\" points=\"154.515,1282.97 173.413,1282.97 \"/>\n",
       "<polyline clip-path=\"url(#clip800)\" style=\"stroke:#000000; stroke-linecap:round; stroke-linejoin:round; stroke-width:4; stroke-opacity:1; fill:none\" points=\"154.515,996.138 173.413,996.138 \"/>\n",
       "<polyline clip-path=\"url(#clip800)\" style=\"stroke:#000000; stroke-linecap:round; stroke-linejoin:round; stroke-width:4; stroke-opacity:1; fill:none\" points=\"154.515,709.309 173.413,709.309 \"/>\n",
       "<polyline clip-path=\"url(#clip800)\" style=\"stroke:#000000; stroke-linecap:round; stroke-linejoin:round; stroke-width:4; stroke-opacity:1; fill:none\" points=\"154.515,422.479 173.413,422.479 \"/>\n",
       "<polyline clip-path=\"url(#clip800)\" style=\"stroke:#000000; stroke-linecap:round; stroke-linejoin:round; stroke-width:4; stroke-opacity:1; fill:none\" points=\"154.515,135.649 173.413,135.649 \"/>\n",
       "<path clip-path=\"url(#clip800)\" d=\"M52.1495 1296.31 L59.7884 1296.31 L59.7884 1269.95 L51.4782 1271.61 L51.4782 1267.35 L59.7421 1265.69 L64.418 1265.69 L64.418 1296.31 L72.0568 1296.31 L72.0568 1300.25 L52.1495 1300.25 L52.1495 1296.31 Z\" fill=\"#000000\" fill-rule=\"nonzero\" fill-opacity=\"1\" /><path clip-path=\"url(#clip800)\" d=\"M81.5012 1294.37 L86.3855 1294.37 L86.3855 1300.25 L81.5012 1300.25 L81.5012 1294.37 Z\" fill=\"#000000\" fill-rule=\"nonzero\" fill-opacity=\"1\" /><path clip-path=\"url(#clip800)\" d=\"M106.571 1268.77 Q102.959 1268.77 101.131 1272.33 Q99.3252 1275.87 99.3252 1283 Q99.3252 1290.11 101.131 1293.67 Q102.959 1297.22 106.571 1297.22 Q110.205 1297.22 112.01 1293.67 Q113.839 1290.11 113.839 1283 Q113.839 1275.87 112.01 1272.33 Q110.205 1268.77 106.571 1268.77 M106.571 1265.06 Q112.381 1265.06 115.436 1269.67 Q118.515 1274.25 118.515 1283 Q118.515 1291.73 115.436 1296.34 Q112.381 1300.92 106.571 1300.92 Q100.76 1300.92 97.6817 1296.34 Q94.6262 1291.73 94.6262 1283 Q94.6262 1274.25 97.6817 1269.67 Q100.76 1265.06 106.571 1265.06 Z\" fill=\"#000000\" fill-rule=\"nonzero\" fill-opacity=\"1\" /><path clip-path=\"url(#clip800)\" d=\"M53.7467 1009.48 L61.3856 1009.48 L61.3856 983.117 L53.0754 984.784 L53.0754 980.525 L61.3393 978.858 L66.0152 978.858 L66.0152 1009.48 L73.654 1009.48 L73.654 1013.42 L53.7467 1013.42 L53.7467 1009.48 Z\" fill=\"#000000\" fill-rule=\"nonzero\" fill-opacity=\"1\" /><path clip-path=\"url(#clip800)\" d=\"M83.0984 1007.54 L87.9827 1007.54 L87.9827 1013.42 L83.0984 1013.42 L83.0984 1007.54 Z\" fill=\"#000000\" fill-rule=\"nonzero\" fill-opacity=\"1\" /><path clip-path=\"url(#clip800)\" d=\"M102.196 1009.48 L118.515 1009.48 L118.515 1013.42 L96.5706 1013.42 L96.5706 1009.48 Q99.2326 1006.73 103.816 1002.1 Q108.422 997.446 109.603 996.104 Q111.848 993.58 112.728 991.844 Q113.631 990.085 113.631 988.395 Q113.631 985.641 111.686 983.905 Q109.765 982.168 106.663 982.168 Q104.464 982.168 102.01 982.932 Q99.5798 983.696 96.8021 985.247 L96.8021 980.525 Q99.6261 979.391 102.08 978.812 Q104.534 978.233 106.571 978.233 Q111.941 978.233 115.135 980.918 Q118.33 983.604 118.33 988.094 Q118.33 990.224 117.52 992.145 Q116.733 994.043 114.626 996.636 Q114.047 997.307 110.946 1000.52 Q107.844 1003.72 102.196 1009.48 Z\" fill=\"#000000\" fill-rule=\"nonzero\" fill-opacity=\"1\" /><path clip-path=\"url(#clip800)\" d=\"M51.6634 722.653 L59.3023 722.653 L59.3023 696.288 L50.9921 697.955 L50.9921 693.695 L59.256 692.029 L63.9319 692.029 L63.9319 722.653 L71.5707 722.653 L71.5707 726.589 L51.6634 726.589 L51.6634 722.653 Z\" fill=\"#000000\" fill-rule=\"nonzero\" fill-opacity=\"1\" /><path clip-path=\"url(#clip800)\" d=\"M81.0151 720.709 L85.8993 720.709 L85.8993 726.589 L81.0151 726.589 L81.0151 720.709 Z\" fill=\"#000000\" fill-rule=\"nonzero\" fill-opacity=\"1\" /><path clip-path=\"url(#clip800)\" d=\"M108.932 696.103 L97.1261 714.552 L108.932 714.552 L108.932 696.103 M107.705 692.029 L113.584 692.029 L113.584 714.552 L118.515 714.552 L118.515 718.441 L113.584 718.441 L113.584 726.589 L108.932 726.589 L108.932 718.441 L93.3299 718.441 L93.3299 713.927 L107.705 692.029 Z\" fill=\"#000000\" fill-rule=\"nonzero\" fill-opacity=\"1\" /><path clip-path=\"url(#clip800)\" d=\"M51.9875 435.824 L59.6263 435.824 L59.6263 409.458 L51.3162 411.125 L51.3162 406.866 L59.58 405.199 L64.2559 405.199 L64.2559 435.824 L71.8948 435.824 L71.8948 439.759 L51.9875 439.759 L51.9875 435.824 Z\" fill=\"#000000\" fill-rule=\"nonzero\" fill-opacity=\"1\" /><path clip-path=\"url(#clip800)\" d=\"M81.3392 433.879 L86.2234 433.879 L86.2234 439.759 L81.3392 439.759 L81.3392 433.879 Z\" fill=\"#000000\" fill-rule=\"nonzero\" fill-opacity=\"1\" /><path clip-path=\"url(#clip800)\" d=\"M106.987 420.616 Q103.839 420.616 101.987 422.768 Q100.159 424.921 100.159 428.671 Q100.159 432.398 101.987 434.574 Q103.839 436.727 106.987 436.727 Q110.135 436.727 111.964 434.574 Q113.816 432.398 113.816 428.671 Q113.816 424.921 111.964 422.768 Q110.135 420.616 106.987 420.616 M116.27 405.963 L116.27 410.222 Q114.51 409.389 112.705 408.949 Q110.922 408.509 109.163 408.509 Q104.534 408.509 102.08 411.634 Q99.6493 414.759 99.3021 421.079 Q100.668 419.065 102.728 418 Q104.788 416.912 107.265 416.912 Q112.473 416.912 115.483 420.083 Q118.515 423.231 118.515 428.671 Q118.515 433.995 115.367 437.213 Q112.219 440.43 106.987 440.43 Q100.992 440.43 97.8206 435.847 Q94.6493 431.241 94.6493 422.514 Q94.6493 414.319 98.5382 409.458 Q102.427 404.574 108.978 404.574 Q110.737 404.574 112.52 404.921 Q114.325 405.268 116.27 405.963 Z\" fill=\"#000000\" fill-rule=\"nonzero\" fill-opacity=\"1\" /><path clip-path=\"url(#clip800)\" d=\"M52.2421 148.994 L59.881 148.994 L59.881 122.629 L51.5708 124.295 L51.5708 120.036 L59.8347 118.369 L64.5106 118.369 L64.5106 148.994 L72.1494 148.994 L72.1494 152.929 L52.2421 152.929 L52.2421 148.994 Z\" fill=\"#000000\" fill-rule=\"nonzero\" fill-opacity=\"1\" /><path clip-path=\"url(#clip800)\" d=\"M81.5938 147.05 L86.478 147.05 L86.478 152.929 L81.5938 152.929 L81.5938 147.05 Z\" fill=\"#000000\" fill-rule=\"nonzero\" fill-opacity=\"1\" /><path clip-path=\"url(#clip800)\" d=\"M106.663 136.517 Q103.33 136.517 101.409 138.3 Q99.5104 140.082 99.5104 143.207 Q99.5104 146.332 101.409 148.115 Q103.33 149.897 106.663 149.897 Q109.996 149.897 111.918 148.115 Q113.839 146.309 113.839 143.207 Q113.839 140.082 111.918 138.3 Q110.02 136.517 106.663 136.517 M101.987 134.527 Q98.978 133.786 97.2882 131.726 Q95.6215 129.666 95.6215 126.703 Q95.6215 122.559 98.5613 120.152 Q101.524 117.744 106.663 117.744 Q111.825 117.744 114.765 120.152 Q117.705 122.559 117.705 126.703 Q117.705 129.666 116.015 131.726 Q114.348 133.786 111.362 134.527 Q114.742 135.314 116.617 137.605 Q118.515 139.897 118.515 143.207 Q118.515 148.23 115.436 150.915 Q112.381 153.601 106.663 153.601 Q100.946 153.601 97.8669 150.915 Q94.8113 148.23 94.8113 143.207 Q94.8113 139.897 96.7095 137.605 Q98.6076 135.314 101.987 134.527 M100.274 127.142 Q100.274 129.828 101.941 131.332 Q103.631 132.837 106.663 132.837 Q109.672 132.837 111.362 131.332 Q113.075 129.828 113.075 127.142 Q113.075 124.457 111.362 122.953 Q109.672 121.448 106.663 121.448 Q103.631 121.448 101.941 122.953 Q100.274 124.457 100.274 127.142 Z\" fill=\"#000000\" fill-rule=\"nonzero\" fill-opacity=\"1\" /><polyline clip-path=\"url(#clip802)\" style=\"stroke:#009af9; stroke-linecap:round; stroke-linejoin:round; stroke-width:4; stroke-opacity:1; fill:none\" points=\"216.729,1328.03 320.42,1346.4 424.111,1372.34 527.801,1409.18 631.492,1445.72 735.182,87.9763 838.873,1445.71 942.564,1409.18 1046.25,1372.33 1149.94,1346.39 1253.64,1328.03 1357.33,1314.99 1461.02,1305.72 1564.71,1299.14 1668.4,1294.46 1772.09,1291.14 1875.78,1288.77 1979.47,1287.09 2083.16,1285.9 2186.85,1285.05 2290.54,1284.45 \"/>\n",
       "<path clip-path=\"url(#clip800)\" d=\"M2007.23 198.898 L2279.48 198.898 L2279.48 95.2176 L2007.23 95.2176  Z\" fill=\"#ffffff\" fill-rule=\"evenodd\" fill-opacity=\"1\"/>\n",
       "<polyline clip-path=\"url(#clip800)\" style=\"stroke:#000000; stroke-linecap:round; stroke-linejoin:round; stroke-width:4; stroke-opacity:1; fill:none\" points=\"2007.23,198.898 2279.48,198.898 2279.48,95.2176 2007.23,95.2176 2007.23,198.898 \"/>\n",
       "<polyline clip-path=\"url(#clip800)\" style=\"stroke:#009af9; stroke-linecap:round; stroke-linejoin:round; stroke-width:4; stroke-opacity:1; fill:none\" points=\"2031.65,147.058 2178.2,147.058 \"/>\n",
       "<path clip-path=\"url(#clip800)\" d=\"M2216.47 166.745 Q2214.66 171.375 2212.95 172.787 Q2211.24 174.199 2208.37 174.199 L2204.96 174.199 L2204.96 170.634 L2207.46 170.634 Q2209.22 170.634 2210.2 169.8 Q2211.17 168.967 2212.35 165.865 L2213.11 163.921 L2202.63 138.412 L2207.14 138.412 L2215.24 158.689 L2223.34 138.412 L2227.86 138.412 L2216.47 166.745 Z\" fill=\"#000000\" fill-rule=\"nonzero\" fill-opacity=\"1\" /><path clip-path=\"url(#clip800)\" d=\"M2235.15 160.402 L2242.79 160.402 L2242.79 134.037 L2234.48 135.703 L2234.48 131.444 L2242.74 129.778 L2247.42 129.778 L2247.42 160.402 L2255.06 160.402 L2255.06 164.338 L2235.15 164.338 L2235.15 160.402 Z\" fill=\"#000000\" fill-rule=\"nonzero\" fill-opacity=\"1\" /></svg>\n"
      ]
     },
     "metadata": {},
     "output_type": "display_data"
    }
   ],
   "source": [
    "plot(density_MI_3[60:80])"
   ]
  },
  {
   "cell_type": "code",
   "execution_count": 37,
   "metadata": {},
   "outputs": [
    {
     "name": "stderr",
     "output_type": "stream",
     "text": [
      "┌ Warning: scale log is unsupported with Plots.GRBackend().\n",
      "│ Choose from: [:identity, :ln, :log10, :log2]\n",
      "└ @ Plots C:\\Users\\robbe\\.julia\\packages\\Plots\\p3KMq\\src\\args.jl:1580\n",
      "┌ Warning: scale log is unsupported with Plots.GRBackend().\n",
      "│ Choose from: [:identity, :ln, :log10, :log2]\n",
      "└ @ Plots C:\\Users\\robbe\\.julia\\packages\\Plots\\p3KMq\\src\\args.jl:1580\n"
     ]
    },
    {
     "data": {
      "image/png": "[encoded data removed]",
      "image/svg+xml": [
       "<?xml version=\"1.0\" encoding=\"utf-8\"?>\n",
       "<svg xmlns=\"http://www.w3.org/2000/svg\" xmlns:xlink=\"http://www.w3.org/1999/xlink\" width=\"600\" height=\"400\" viewBox=\"0 0 2400 1600\">\n",
       "<defs>\n",
       "  <clipPath id=\"clip390\">\n",
       "    <rect x=\"0\" y=\"0\" width=\"2400\" height=\"1600\"/>\n",
       "  </clipPath>\n",
       "</defs>\n",
       "<path clip-path=\"url(#clip390)\" d=\"M0 1600 L2400 1600 L2400 0 L0 0  Z\" fill=\"#ffffff\" fill-rule=\"evenodd\" fill-opacity=\"1\"/>\n",
       "<defs>\n",
       "  <clipPath id=\"clip391\">\n",
       "    <rect x=\"480\" y=\"0\" width=\"1681\" height=\"1600\"/>\n",
       "  </clipPath>\n",
       "</defs>\n",
       "<path clip-path=\"url(#clip390)\" d=\"M189.496 1486.45 L2352.76 1486.45 L2352.76 47.2441 L189.496 47.2441  Z\" fill=\"#ffffff\" fill-rule=\"evenodd\" fill-opacity=\"1\"/>\n",
       "<defs>\n",
       "  <clipPath id=\"clip392\">\n",
       "    <rect x=\"189\" y=\"47\" width=\"2164\" height=\"1440\"/>\n",
       "  </clipPath>\n",
       "</defs>\n",
       "<polyline clip-path=\"url(#clip392)\" style=\"stroke:#000000; stroke-linecap:round; stroke-linejoin:round; stroke-width:2; stroke-opacity:0.1; fill:none\" points=\"396.492,1486.45 396.492,47.2441 \"/>\n",
       "<polyline clip-path=\"url(#clip392)\" style=\"stroke:#000000; stroke-linecap:round; stroke-linejoin:round; stroke-width:2; stroke-opacity:0.1; fill:none\" points=\"688.037,1486.45 688.037,47.2441 \"/>\n",
       "<polyline clip-path=\"url(#clip392)\" style=\"stroke:#000000; stroke-linecap:round; stroke-linejoin:round; stroke-width:2; stroke-opacity:0.1; fill:none\" points=\"979.581,1486.45 979.581,47.2441 \"/>\n",
       "<polyline clip-path=\"url(#clip392)\" style=\"stroke:#000000; stroke-linecap:round; stroke-linejoin:round; stroke-width:2; stroke-opacity:0.1; fill:none\" points=\"1271.13,1486.45 1271.13,47.2441 \"/>\n",
       "<polyline clip-path=\"url(#clip392)\" style=\"stroke:#000000; stroke-linecap:round; stroke-linejoin:round; stroke-width:2; stroke-opacity:0.1; fill:none\" points=\"1562.67,1486.45 1562.67,47.2441 \"/>\n",
       "<polyline clip-path=\"url(#clip392)\" style=\"stroke:#000000; stroke-linecap:round; stroke-linejoin:round; stroke-width:2; stroke-opacity:0.1; fill:none\" points=\"1854.21,1486.45 1854.21,47.2441 \"/>\n",
       "<polyline clip-path=\"url(#clip392)\" style=\"stroke:#000000; stroke-linecap:round; stroke-linejoin:round; stroke-width:2; stroke-opacity:0.1; fill:none\" points=\"2145.76,1486.45 2145.76,47.2441 \"/>\n",
       "<polyline clip-path=\"url(#clip390)\" style=\"stroke:#000000; stroke-linecap:round; stroke-linejoin:round; stroke-width:4; stroke-opacity:1; fill:none\" points=\"189.496,1486.45 2352.76,1486.45 \"/>\n",
       "<polyline clip-path=\"url(#clip390)\" style=\"stroke:#000000; stroke-linecap:round; stroke-linejoin:round; stroke-width:4; stroke-opacity:1; fill:none\" points=\"396.492,1486.45 396.492,1467.55 \"/>\n",
       "<polyline clip-path=\"url(#clip390)\" style=\"stroke:#000000; stroke-linecap:round; stroke-linejoin:round; stroke-width:4; stroke-opacity:1; fill:none\" points=\"688.037,1486.45 688.037,1467.55 \"/>\n",
       "<polyline clip-path=\"url(#clip390)\" style=\"stroke:#000000; stroke-linecap:round; stroke-linejoin:round; stroke-width:4; stroke-opacity:1; fill:none\" points=\"979.581,1486.45 979.581,1467.55 \"/>\n",
       "<polyline clip-path=\"url(#clip390)\" style=\"stroke:#000000; stroke-linecap:round; stroke-linejoin:round; stroke-width:4; stroke-opacity:1; fill:none\" points=\"1271.13,1486.45 1271.13,1467.55 \"/>\n",
       "<polyline clip-path=\"url(#clip390)\" style=\"stroke:#000000; stroke-linecap:round; stroke-linejoin:round; stroke-width:4; stroke-opacity:1; fill:none\" points=\"1562.67,1486.45 1562.67,1467.55 \"/>\n",
       "<polyline clip-path=\"url(#clip390)\" style=\"stroke:#000000; stroke-linecap:round; stroke-linejoin:round; stroke-width:4; stroke-opacity:1; fill:none\" points=\"1854.21,1486.45 1854.21,1467.55 \"/>\n",
       "<polyline clip-path=\"url(#clip390)\" style=\"stroke:#000000; stroke-linecap:round; stroke-linejoin:round; stroke-width:4; stroke-opacity:1; fill:none\" points=\"2145.76,1486.45 2145.76,1467.55 \"/>\n",
       "<path clip-path=\"url(#clip390)\" d=\"M391.145 1544.91 L407.465 1544.91 L407.465 1548.85 L385.52 1548.85 L385.52 1544.91 Q388.182 1542.16 392.766 1537.53 Q397.372 1532.88 398.553 1531.53 Q400.798 1529.01 401.678 1527.27 Q402.58 1525.51 402.58 1523.82 Q402.58 1521.07 400.636 1519.33 Q398.715 1517.6 395.613 1517.6 Q393.414 1517.6 390.96 1518.36 Q388.53 1519.13 385.752 1520.68 L385.752 1515.95 Q388.576 1514.82 391.03 1514.24 Q393.483 1513.66 395.52 1513.66 Q400.891 1513.66 404.085 1516.35 Q407.279 1519.03 407.279 1523.52 Q407.279 1525.65 406.469 1527.57 Q405.682 1529.47 403.576 1532.07 Q402.997 1532.74 399.895 1535.95 Q396.793 1539.15 391.145 1544.91 Z\" fill=\"#000000\" fill-rule=\"nonzero\" fill-opacity=\"1\" /><path clip-path=\"url(#clip390)\" d=\"M691.046 1518.36 L679.241 1536.81 L691.046 1536.81 L691.046 1518.36 M689.819 1514.29 L695.699 1514.29 L695.699 1536.81 L700.629 1536.81 L700.629 1540.7 L695.699 1540.7 L695.699 1548.85 L691.046 1548.85 L691.046 1540.7 L675.444 1540.7 L675.444 1536.19 L689.819 1514.29 Z\" fill=\"#000000\" fill-rule=\"nonzero\" fill-opacity=\"1\" /><path clip-path=\"url(#clip390)\" d=\"M979.987 1529.7 Q976.838 1529.7 974.987 1531.86 Q973.158 1534.01 973.158 1537.76 Q973.158 1541.49 974.987 1543.66 Q976.838 1545.82 979.987 1545.82 Q983.135 1545.82 984.963 1543.66 Q986.815 1541.49 986.815 1537.76 Q986.815 1534.01 984.963 1531.86 Q983.135 1529.7 979.987 1529.7 M989.269 1515.05 L989.269 1519.31 Q987.51 1518.48 985.704 1518.04 Q983.922 1517.6 982.162 1517.6 Q977.533 1517.6 975.079 1520.72 Q972.649 1523.85 972.301 1530.17 Q973.667 1528.15 975.727 1527.09 Q977.787 1526 980.264 1526 Q985.473 1526 988.482 1529.17 Q991.514 1532.32 991.514 1537.76 Q991.514 1543.08 988.366 1546.3 Q985.218 1549.52 979.987 1549.52 Q973.991 1549.52 970.82 1544.94 Q967.649 1540.33 967.649 1531.6 Q967.649 1523.41 971.538 1518.55 Q975.426 1513.66 981.977 1513.66 Q983.737 1513.66 985.519 1514.01 Q987.324 1514.36 989.269 1515.05 Z\" fill=\"#000000\" fill-rule=\"nonzero\" fill-opacity=\"1\" /><path clip-path=\"url(#clip390)\" d=\"M1271.13 1532.44 Q1267.79 1532.44 1265.87 1534.22 Q1263.97 1536 1263.97 1539.13 Q1263.97 1542.25 1265.87 1544.03 Q1267.79 1545.82 1271.13 1545.82 Q1274.46 1545.82 1276.38 1544.03 Q1278.3 1542.23 1278.3 1539.13 Q1278.3 1536 1276.38 1534.22 Q1274.48 1532.44 1271.13 1532.44 M1266.45 1530.45 Q1263.44 1529.7 1261.75 1527.64 Q1260.08 1525.58 1260.08 1522.62 Q1260.08 1518.48 1263.02 1516.07 Q1265.99 1513.66 1271.13 1513.66 Q1276.29 1513.66 1279.23 1516.07 Q1282.17 1518.48 1282.17 1522.62 Q1282.17 1525.58 1280.48 1527.64 Q1278.81 1529.7 1275.82 1530.45 Q1279.2 1531.23 1281.08 1533.52 Q1282.98 1535.82 1282.98 1539.13 Q1282.98 1544.15 1279.9 1546.83 Q1276.84 1549.52 1271.13 1549.52 Q1265.41 1549.52 1262.33 1546.83 Q1259.27 1544.15 1259.27 1539.13 Q1259.27 1535.82 1261.17 1533.52 Q1263.07 1531.23 1266.45 1530.45 M1264.74 1523.06 Q1264.74 1525.75 1266.4 1527.25 Q1268.09 1528.76 1271.13 1528.76 Q1274.14 1528.76 1275.82 1527.25 Q1277.54 1525.75 1277.54 1523.06 Q1277.54 1520.38 1275.82 1518.87 Q1274.14 1517.37 1271.13 1517.37 Q1268.09 1517.37 1266.4 1518.87 Q1264.74 1520.38 1264.74 1523.06 Z\" fill=\"#000000\" fill-rule=\"nonzero\" fill-opacity=\"1\" /><path clip-path=\"url(#clip390)\" d=\"M1537.36 1544.91 L1545 1544.91 L1545 1518.55 L1536.69 1520.21 L1536.69 1515.95 L1544.95 1514.29 L1549.63 1514.29 L1549.63 1544.91 L1557.27 1544.91 L1557.27 1548.85 L1537.36 1548.85 L1537.36 1544.91 Z\" fill=\"#000000\" fill-rule=\"nonzero\" fill-opacity=\"1\" /><path clip-path=\"url(#clip390)\" d=\"M1576.71 1517.37 Q1573.1 1517.37 1571.27 1520.93 Q1569.46 1524.47 1569.46 1531.6 Q1569.46 1538.71 1571.27 1542.27 Q1573.1 1545.82 1576.71 1545.82 Q1580.34 1545.82 1582.15 1542.27 Q1583.98 1538.71 1583.98 1531.6 Q1583.98 1524.47 1582.15 1520.93 Q1580.34 1517.37 1576.71 1517.37 M1576.71 1513.66 Q1582.52 1513.66 1585.58 1518.27 Q1588.65 1522.85 1588.65 1531.6 Q1588.65 1540.33 1585.58 1544.94 Q1582.52 1549.52 1576.71 1549.52 Q1570.9 1549.52 1567.82 1544.94 Q1564.77 1540.33 1564.77 1531.6 Q1564.77 1522.85 1567.82 1518.27 Q1570.9 1513.66 1576.71 1513.66 Z\" fill=\"#000000\" fill-rule=\"nonzero\" fill-opacity=\"1\" /><path clip-path=\"url(#clip390)\" d=\"M1829.7 1544.91 L1837.34 1544.91 L1837.34 1518.55 L1829.03 1520.21 L1829.03 1515.95 L1837.29 1514.29 L1841.97 1514.29 L1841.97 1544.91 L1849.61 1544.91 L1849.61 1548.85 L1829.7 1548.85 L1829.7 1544.91 Z\" fill=\"#000000\" fill-rule=\"nonzero\" fill-opacity=\"1\" /><path clip-path=\"url(#clip390)\" d=\"M1863.08 1544.91 L1879.4 1544.91 L1879.4 1548.85 L1857.46 1548.85 L1857.46 1544.91 Q1860.12 1542.16 1864.7 1537.53 Q1869.31 1532.88 1870.49 1531.53 Q1872.73 1529.01 1873.61 1527.27 Q1874.52 1525.51 1874.52 1523.82 Q1874.52 1521.07 1872.57 1519.33 Q1870.65 1517.6 1867.55 1517.6 Q1865.35 1517.6 1862.9 1518.36 Q1860.46 1519.13 1857.69 1520.68 L1857.69 1515.95 Q1860.51 1514.82 1862.96 1514.24 Q1865.42 1513.66 1867.46 1513.66 Q1872.83 1513.66 1876.02 1516.35 Q1879.21 1519.03 1879.21 1523.52 Q1879.21 1525.65 1878.4 1527.57 Q1877.62 1529.47 1875.51 1532.07 Q1874.93 1532.74 1871.83 1535.95 Q1868.73 1539.15 1863.08 1544.91 Z\" fill=\"#000000\" fill-rule=\"nonzero\" fill-opacity=\"1\" /><path clip-path=\"url(#clip390)\" d=\"M2120.2 1544.91 L2127.84 1544.91 L2127.84 1518.55 L2119.53 1520.21 L2119.53 1515.95 L2127.8 1514.29 L2132.47 1514.29 L2132.47 1544.91 L2140.11 1544.91 L2140.11 1548.85 L2120.2 1548.85 L2120.2 1544.91 Z\" fill=\"#000000\" fill-rule=\"nonzero\" fill-opacity=\"1\" /><path clip-path=\"url(#clip390)\" d=\"M2162.4 1518.36 L2150.6 1536.81 L2162.4 1536.81 L2162.4 1518.36 M2161.18 1514.29 L2167.06 1514.29 L2167.06 1536.81 L2171.99 1536.81 L2171.99 1540.7 L2167.06 1540.7 L2167.06 1548.85 L2162.4 1548.85 L2162.4 1540.7 L2146.8 1540.7 L2146.8 1536.19 L2161.18 1514.29 Z\" fill=\"#000000\" fill-rule=\"nonzero\" fill-opacity=\"1\" /><polyline clip-path=\"url(#clip392)\" style=\"stroke:#000000; stroke-linecap:round; stroke-linejoin:round; stroke-width:2; stroke-opacity:0.1; fill:none\" points=\"189.496,1148.5 2352.76,1148.5 \"/>\n",
       "<polyline clip-path=\"url(#clip392)\" style=\"stroke:#000000; stroke-linecap:round; stroke-linejoin:round; stroke-width:2; stroke-opacity:0.1; fill:none\" points=\"189.496,454.194 2352.76,454.194 \"/>\n",
       "<polyline clip-path=\"url(#clip390)\" style=\"stroke:#000000; stroke-linecap:round; stroke-linejoin:round; stroke-width:4; stroke-opacity:1; fill:none\" points=\"189.496,1486.45 189.496,47.2441 \"/>\n",
       "<polyline clip-path=\"url(#clip390)\" style=\"stroke:#000000; stroke-linecap:round; stroke-linejoin:round; stroke-width:4; stroke-opacity:1; fill:none\" points=\"189.496,1148.5 208.394,1148.5 \"/>\n",
       "<polyline clip-path=\"url(#clip390)\" style=\"stroke:#000000; stroke-linecap:round; stroke-linejoin:round; stroke-width:4; stroke-opacity:1; fill:none\" points=\"189.496,454.194 208.394,454.194 \"/>\n",
       "<path clip-path=\"url(#clip390)\" d=\"M51.6634 1168.29 L59.3023 1168.29 L59.3023 1141.93 L50.9921 1143.59 L50.9921 1139.33 L59.256 1137.67 L63.9319 1137.67 L63.9319 1168.29 L71.5707 1168.29 L71.5707 1172.23 L51.6634 1172.23 L51.6634 1168.29 Z\" fill=\"#000000\" fill-rule=\"nonzero\" fill-opacity=\"1\" /><path clip-path=\"url(#clip390)\" d=\"M91.0151 1140.74 Q87.404 1140.74 85.5753 1144.31 Q83.7697 1147.85 83.7697 1154.98 Q83.7697 1162.09 85.5753 1165.65 Q87.404 1169.19 91.0151 1169.19 Q94.6493 1169.19 96.4548 1165.65 Q98.2835 1162.09 98.2835 1154.98 Q98.2835 1147.85 96.4548 1144.31 Q94.6493 1140.74 91.0151 1140.74 M91.0151 1137.04 Q96.8252 1137.04 99.8808 1141.65 Q102.959 1146.23 102.959 1154.98 Q102.959 1163.71 99.8808 1168.31 Q96.8252 1172.9 91.0151 1172.9 Q85.2049 1172.9 82.1262 1168.31 Q79.0707 1163.71 79.0707 1154.98 Q79.0707 1146.23 82.1262 1141.65 Q85.2049 1137.04 91.0151 1137.04 Z\" fill=\"#000000\" fill-rule=\"nonzero\" fill-opacity=\"1\" /><path clip-path=\"url(#clip390)\" d=\"M102.959 1131.14 L127.071 1131.14 L127.071 1134.34 L102.959 1134.34 L102.959 1131.14 Z\" fill=\"#000000\" fill-rule=\"nonzero\" fill-opacity=\"1\" /><path clip-path=\"url(#clip390)\" d=\"M145.71 1120.05 L136.118 1135.04 L145.71 1135.04 L145.71 1120.05 M144.713 1116.74 L149.49 1116.74 L149.49 1135.04 L153.496 1135.04 L153.496 1138.2 L149.49 1138.2 L149.49 1144.82 L145.71 1144.82 L145.71 1138.2 L133.033 1138.2 L133.033 1134.53 L144.713 1116.74 Z\" fill=\"#000000\" fill-rule=\"nonzero\" fill-opacity=\"1\" /><path clip-path=\"url(#clip390)\" d=\"M53.3561 473.986 L60.995 473.986 L60.995 447.621 L52.6848 449.287 L52.6848 445.028 L60.9487 443.361 L65.6246 443.361 L65.6246 473.986 L73.2634 473.986 L73.2634 477.921 L53.3561 477.921 L53.3561 473.986 Z\" fill=\"#000000\" fill-rule=\"nonzero\" fill-opacity=\"1\" /><path clip-path=\"url(#clip390)\" d=\"M92.7078 446.44 Q89.0967 446.44 87.268 450.005 Q85.4624 453.546 85.4624 460.676 Q85.4624 467.783 87.268 471.347 Q89.0967 474.889 92.7078 474.889 Q96.342 474.889 98.1475 471.347 Q99.9762 467.783 99.9762 460.676 Q99.9762 453.546 98.1475 450.005 Q96.342 446.44 92.7078 446.44 M92.7078 442.736 Q98.5179 442.736 101.573 447.343 Q104.652 451.926 104.652 460.676 Q104.652 469.403 101.573 474.009 Q98.5179 478.593 92.7078 478.593 Q86.8976 478.593 83.8189 474.009 Q80.7634 469.403 80.7634 460.676 Q80.7634 451.926 83.8189 447.343 Q86.8976 442.736 92.7078 442.736 Z\" fill=\"#000000\" fill-rule=\"nonzero\" fill-opacity=\"1\" /><path clip-path=\"url(#clip390)\" d=\"M104.652 436.838 L128.764 436.838 L128.764 440.035 L104.652 440.035 L104.652 436.838 Z\" fill=\"#000000\" fill-rule=\"nonzero\" fill-opacity=\"1\" /><path clip-path=\"url(#clip390)\" d=\"M140.236 447.314 L153.496 447.314 L153.496 450.511 L135.666 450.511 L135.666 447.314 Q137.829 445.076 141.553 441.314 Q145.296 437.534 146.255 436.443 Q148.079 434.393 148.794 432.982 Q149.527 431.553 149.527 430.18 Q149.527 427.942 147.948 426.531 Q146.387 425.12 143.866 425.12 Q142.08 425.12 140.086 425.741 Q138.111 426.362 135.854 427.622 L135.854 423.785 Q138.149 422.864 140.142 422.393 Q142.136 421.923 143.791 421.923 Q148.155 421.923 150.75 424.105 Q153.345 426.287 153.345 429.935 Q153.345 431.666 152.687 433.227 Q152.048 434.769 150.336 436.875 Q149.866 437.421 147.346 440.035 Q144.826 442.631 140.236 447.314 Z\" fill=\"#000000\" fill-rule=\"nonzero\" fill-opacity=\"1\" /><polyline clip-path=\"url(#clip392)\" style=\"stroke:#009af9; stroke-linecap:round; stroke-linejoin:round; stroke-width:4; stroke-opacity:1; fill:none\" points=\"250.72,87.9763 396.492,126.31 542.265,178.355 688.037,230.052 833.809,281.597 979.581,333.099 1125.35,384.591 1271.13,436.082 1416.9,487.575 1562.67,539.071 1708.44,590.572 1854.21,642.077 1999.99,693.588 2145.76,745.103 2291.53,796.622 \"/>\n",
       "<polyline clip-path=\"url(#clip392)\" style=\"stroke:#e26f46; stroke-linecap:round; stroke-linejoin:round; stroke-width:4; stroke-opacity:1; fill:none\" points=\"250.72,98.75 396.492,194.962 542.265,291.174 688.037,387.386 833.809,483.597 979.581,579.809 1125.35,676.021 1271.13,772.233 1416.9,868.445 1562.67,964.657 1708.44,1060.87 1854.21,1157.08 1999.99,1253.29 2145.76,1349.5 2291.53,1445.72 \"/>\n",
       "<path clip-path=\"url(#clip390)\" d=\"M2011.89 250.738 L2280.65 250.738 L2280.65 95.2176 L2011.89 95.2176  Z\" fill=\"#ffffff\" fill-rule=\"evenodd\" fill-opacity=\"1\"/>\n",
       "<polyline clip-path=\"url(#clip390)\" style=\"stroke:#000000; stroke-linecap:round; stroke-linejoin:round; stroke-width:4; stroke-opacity:1; fill:none\" points=\"2011.89,250.738 2280.65,250.738 2280.65,95.2176 2011.89,95.2176 2011.89,250.738 \"/>\n",
       "<polyline clip-path=\"url(#clip390)\" style=\"stroke:#009af9; stroke-linecap:round; stroke-linejoin:round; stroke-width:4; stroke-opacity:1; fill:none\" points=\"2035.93,147.058 2180.14,147.058 \"/>\n",
       "<path clip-path=\"url(#clip390)\" d=\"M2218.02 166.745 Q2216.22 171.375 2214.5 172.787 Q2212.79 174.199 2209.92 174.199 L2206.52 174.199 L2206.52 170.634 L2209.02 170.634 Q2210.78 170.634 2211.75 169.8 Q2212.72 168.967 2213.9 165.865 L2214.67 163.921 L2204.18 138.412 L2208.69 138.412 L2216.8 158.689 L2224.9 138.412 L2229.41 138.412 L2218.02 166.745 Z\" fill=\"#000000\" fill-rule=\"nonzero\" fill-opacity=\"1\" /><path clip-path=\"url(#clip390)\" d=\"M2236.7 160.402 L2244.34 160.402 L2244.34 134.037 L2236.03 135.703 L2236.03 131.444 L2244.3 129.778 L2248.97 129.778 L2248.97 160.402 L2256.61 160.402 L2256.61 164.338 L2236.7 164.338 L2236.7 160.402 Z\" fill=\"#000000\" fill-rule=\"nonzero\" fill-opacity=\"1\" /><polyline clip-path=\"url(#clip390)\" style=\"stroke:#e26f46; stroke-linecap:round; stroke-linejoin:round; stroke-width:4; stroke-opacity:1; fill:none\" points=\"2035.93,198.898 2180.14,198.898 \"/>\n",
       "<path clip-path=\"url(#clip390)\" d=\"M2218.02 218.585 Q2216.22 223.215 2214.5 224.627 Q2212.79 226.039 2209.92 226.039 L2206.52 226.039 L2206.52 222.474 L2209.02 222.474 Q2210.78 222.474 2211.75 221.64 Q2212.72 220.807 2213.9 217.705 L2214.67 215.761 L2204.18 190.252 L2208.69 190.252 L2216.8 210.529 L2224.9 190.252 L2229.41 190.252 L2218.02 218.585 Z\" fill=\"#000000\" fill-rule=\"nonzero\" fill-opacity=\"1\" /><path clip-path=\"url(#clip390)\" d=\"M2239.92 212.242 L2256.24 212.242 L2256.24 216.178 L2234.3 216.178 L2234.3 212.242 Q2236.96 209.488 2241.54 204.858 Q2246.15 200.205 2247.33 198.863 Q2249.57 196.34 2250.45 194.604 Q2251.36 192.844 2251.36 191.155 Q2251.36 188.4 2249.41 186.664 Q2247.49 184.928 2244.39 184.928 Q2242.19 184.928 2239.74 185.692 Q2237.31 186.455 2234.53 188.006 L2234.53 183.284 Q2237.35 182.15 2239.81 181.571 Q2242.26 180.993 2244.3 180.993 Q2249.67 180.993 2252.86 183.678 Q2256.06 186.363 2256.06 190.854 Q2256.06 192.983 2255.25 194.905 Q2254.46 196.803 2252.35 199.395 Q2251.77 200.067 2248.67 203.284 Q2245.57 206.479 2239.92 212.242 Z\" fill=\"#000000\" fill-rule=\"nonzero\" fill-opacity=\"1\" /></svg>\n"
      ],
      "text/html": [
       "<?xml version=\"1.0\" encoding=\"utf-8\"?>\n",
       "<svg xmlns=\"http://www.w3.org/2000/svg\" xmlns:xlink=\"http://www.w3.org/1999/xlink\" width=\"600\" height=\"400\" viewBox=\"0 0 2400 1600\">\n",
       "<defs>\n",
       "  <clipPath id=\"clip440\">\n",
       "    <rect x=\"0\" y=\"0\" width=\"2400\" height=\"1600\"/>\n",
       "  </clipPath>\n",
       "</defs>\n",
       "<path clip-path=\"url(#clip440)\" d=\"M0 1600 L2400 1600 L2400 0 L0 0  Z\" fill=\"#ffffff\" fill-rule=\"evenodd\" fill-opacity=\"1\"/>\n",
       "<defs>\n",
       "  <clipPath id=\"clip441\">\n",
       "    <rect x=\"480\" y=\"0\" width=\"1681\" height=\"1600\"/>\n",
       "  </clipPath>\n",
       "</defs>\n",
       "<path clip-path=\"url(#clip440)\" d=\"M189.496 1486.45 L2352.76 1486.45 L2352.76 47.2441 L189.496 47.2441  Z\" fill=\"#ffffff\" fill-rule=\"evenodd\" fill-opacity=\"1\"/>\n",
       "<defs>\n",
       "  <clipPath id=\"clip442\">\n",
       "    <rect x=\"189\" y=\"47\" width=\"2164\" height=\"1440\"/>\n",
       "  </clipPath>\n",
       "</defs>\n",
       "<polyline clip-path=\"url(#clip442)\" style=\"stroke:#000000; stroke-linecap:round; stroke-linejoin:round; stroke-width:2; stroke-opacity:0.1; fill:none\" points=\"396.492,1486.45 396.492,47.2441 \"/>\n",
       "<polyline clip-path=\"url(#clip442)\" style=\"stroke:#000000; stroke-linecap:round; stroke-linejoin:round; stroke-width:2; stroke-opacity:0.1; fill:none\" points=\"688.037,1486.45 688.037,47.2441 \"/>\n",
       "<polyline clip-path=\"url(#clip442)\" style=\"stroke:#000000; stroke-linecap:round; stroke-linejoin:round; stroke-width:2; stroke-opacity:0.1; fill:none\" points=\"979.581,1486.45 979.581,47.2441 \"/>\n",
       "<polyline clip-path=\"url(#clip442)\" style=\"stroke:#000000; stroke-linecap:round; stroke-linejoin:round; stroke-width:2; stroke-opacity:0.1; fill:none\" points=\"1271.13,1486.45 1271.13,47.2441 \"/>\n",
       "<polyline clip-path=\"url(#clip442)\" style=\"stroke:#000000; stroke-linecap:round; stroke-linejoin:round; stroke-width:2; stroke-opacity:0.1; fill:none\" points=\"1562.67,1486.45 1562.67,47.2441 \"/>\n",
       "<polyline clip-path=\"url(#clip442)\" style=\"stroke:#000000; stroke-linecap:round; stroke-linejoin:round; stroke-width:2; stroke-opacity:0.1; fill:none\" points=\"1854.21,1486.45 1854.21,47.2441 \"/>\n",
       "<polyline clip-path=\"url(#clip442)\" style=\"stroke:#000000; stroke-linecap:round; stroke-linejoin:round; stroke-width:2; stroke-opacity:0.1; fill:none\" points=\"2145.76,1486.45 2145.76,47.2441 \"/>\n",
       "<polyline clip-path=\"url(#clip440)\" style=\"stroke:#000000; stroke-linecap:round; stroke-linejoin:round; stroke-width:4; stroke-opacity:1; fill:none\" points=\"189.496,1486.45 2352.76,1486.45 \"/>\n",
       "<polyline clip-path=\"url(#clip440)\" style=\"stroke:#000000; stroke-linecap:round; stroke-linejoin:round; stroke-width:4; stroke-opacity:1; fill:none\" points=\"396.492,1486.45 396.492,1467.55 \"/>\n",
       "<polyline clip-path=\"url(#clip440)\" style=\"stroke:#000000; stroke-linecap:round; stroke-linejoin:round; stroke-width:4; stroke-opacity:1; fill:none\" points=\"688.037,1486.45 688.037,1467.55 \"/>\n",
       "<polyline clip-path=\"url(#clip440)\" style=\"stroke:#000000; stroke-linecap:round; stroke-linejoin:round; stroke-width:4; stroke-opacity:1; fill:none\" points=\"979.581,1486.45 979.581,1467.55 \"/>\n",
       "<polyline clip-path=\"url(#clip440)\" style=\"stroke:#000000; stroke-linecap:round; stroke-linejoin:round; stroke-width:4; stroke-opacity:1; fill:none\" points=\"1271.13,1486.45 1271.13,1467.55 \"/>\n",
       "<polyline clip-path=\"url(#clip440)\" style=\"stroke:#000000; stroke-linecap:round; stroke-linejoin:round; stroke-width:4; stroke-opacity:1; fill:none\" points=\"1562.67,1486.45 1562.67,1467.55 \"/>\n",
       "<polyline clip-path=\"url(#clip440)\" style=\"stroke:#000000; stroke-linecap:round; stroke-linejoin:round; stroke-width:4; stroke-opacity:1; fill:none\" points=\"1854.21,1486.45 1854.21,1467.55 \"/>\n",
       "<polyline clip-path=\"url(#clip440)\" style=\"stroke:#000000; stroke-linecap:round; stroke-linejoin:round; stroke-width:4; stroke-opacity:1; fill:none\" points=\"2145.76,1486.45 2145.76,1467.55 \"/>\n",
       "<path clip-path=\"url(#clip440)\" d=\"M391.145 1544.91 L407.465 1544.91 L407.465 1548.85 L385.52 1548.85 L385.52 1544.91 Q388.182 1542.16 392.766 1537.53 Q397.372 1532.88 398.553 1531.53 Q400.798 1529.01 401.678 1527.27 Q402.58 1525.51 402.58 1523.82 Q402.58 1521.07 400.636 1519.33 Q398.715 1517.6 395.613 1517.6 Q393.414 1517.6 390.96 1518.36 Q388.53 1519.13 385.752 1520.68 L385.752 1515.95 Q388.576 1514.82 391.03 1514.24 Q393.483 1513.66 395.52 1513.66 Q400.891 1513.66 404.085 1516.35 Q407.279 1519.03 407.279 1523.52 Q407.279 1525.65 406.469 1527.57 Q405.682 1529.47 403.576 1532.07 Q402.997 1532.74 399.895 1535.95 Q396.793 1539.15 391.145 1544.91 Z\" fill=\"#000000\" fill-rule=\"nonzero\" fill-opacity=\"1\" /><path clip-path=\"url(#clip440)\" d=\"M691.046 1518.36 L679.241 1536.81 L691.046 1536.81 L691.046 1518.36 M689.819 1514.29 L695.699 1514.29 L695.699 1536.81 L700.629 1536.81 L700.629 1540.7 L695.699 1540.7 L695.699 1548.85 L691.046 1548.85 L691.046 1540.7 L675.444 1540.7 L675.444 1536.19 L689.819 1514.29 Z\" fill=\"#000000\" fill-rule=\"nonzero\" fill-opacity=\"1\" /><path clip-path=\"url(#clip440)\" d=\"M979.987 1529.7 Q976.838 1529.7 974.987 1531.86 Q973.158 1534.01 973.158 1537.76 Q973.158 1541.49 974.987 1543.66 Q976.838 1545.82 979.987 1545.82 Q983.135 1545.82 984.963 1543.66 Q986.815 1541.49 986.815 1537.76 Q986.815 1534.01 984.963 1531.86 Q983.135 1529.7 979.987 1529.7 M989.269 1515.05 L989.269 1519.31 Q987.51 1518.48 985.704 1518.04 Q983.922 1517.6 982.162 1517.6 Q977.533 1517.6 975.079 1520.72 Q972.649 1523.85 972.301 1530.17 Q973.667 1528.15 975.727 1527.09 Q977.787 1526 980.264 1526 Q985.473 1526 988.482 1529.17 Q991.514 1532.32 991.514 1537.76 Q991.514 1543.08 988.366 1546.3 Q985.218 1549.52 979.987 1549.52 Q973.991 1549.52 970.82 1544.94 Q967.649 1540.33 967.649 1531.6 Q967.649 1523.41 971.538 1518.55 Q975.426 1513.66 981.977 1513.66 Q983.737 1513.66 985.519 1514.01 Q987.324 1514.36 989.269 1515.05 Z\" fill=\"#000000\" fill-rule=\"nonzero\" fill-opacity=\"1\" /><path clip-path=\"url(#clip440)\" d=\"M1271.13 1532.44 Q1267.79 1532.44 1265.87 1534.22 Q1263.97 1536 1263.97 1539.13 Q1263.97 1542.25 1265.87 1544.03 Q1267.79 1545.82 1271.13 1545.82 Q1274.46 1545.82 1276.38 1544.03 Q1278.3 1542.23 1278.3 1539.13 Q1278.3 1536 1276.38 1534.22 Q1274.48 1532.44 1271.13 1532.44 M1266.45 1530.45 Q1263.44 1529.7 1261.75 1527.64 Q1260.08 1525.58 1260.08 1522.62 Q1260.08 1518.48 1263.02 1516.07 Q1265.99 1513.66 1271.13 1513.66 Q1276.29 1513.66 1279.23 1516.07 Q1282.17 1518.48 1282.17 1522.62 Q1282.17 1525.58 1280.48 1527.64 Q1278.81 1529.7 1275.82 1530.45 Q1279.2 1531.23 1281.08 1533.52 Q1282.98 1535.82 1282.98 1539.13 Q1282.98 1544.15 1279.9 1546.83 Q1276.84 1549.52 1271.13 1549.52 Q1265.41 1549.52 1262.33 1546.83 Q1259.27 1544.15 1259.27 1539.13 Q1259.27 1535.82 1261.17 1533.52 Q1263.07 1531.23 1266.45 1530.45 M1264.74 1523.06 Q1264.74 1525.75 1266.4 1527.25 Q1268.09 1528.76 1271.13 1528.76 Q1274.14 1528.76 1275.82 1527.25 Q1277.54 1525.75 1277.54 1523.06 Q1277.54 1520.38 1275.82 1518.87 Q1274.14 1517.37 1271.13 1517.37 Q1268.09 1517.37 1266.4 1518.87 Q1264.74 1520.38 1264.74 1523.06 Z\" fill=\"#000000\" fill-rule=\"nonzero\" fill-opacity=\"1\" /><path clip-path=\"url(#clip440)\" d=\"M1537.36 1544.91 L1545 1544.91 L1545 1518.55 L1536.69 1520.21 L1536.69 1515.95 L1544.95 1514.29 L1549.63 1514.29 L1549.63 1544.91 L1557.27 1544.91 L1557.27 1548.85 L1537.36 1548.85 L1537.36 1544.91 Z\" fill=\"#000000\" fill-rule=\"nonzero\" fill-opacity=\"1\" /><path clip-path=\"url(#clip440)\" d=\"M1576.71 1517.37 Q1573.1 1517.37 1571.27 1520.93 Q1569.46 1524.47 1569.46 1531.6 Q1569.46 1538.71 1571.27 1542.27 Q1573.1 1545.82 1576.71 1545.82 Q1580.34 1545.82 1582.15 1542.27 Q1583.98 1538.71 1583.98 1531.6 Q1583.98 1524.47 1582.15 1520.93 Q1580.34 1517.37 1576.71 1517.37 M1576.71 1513.66 Q1582.52 1513.66 1585.58 1518.27 Q1588.65 1522.85 1588.65 1531.6 Q1588.65 1540.33 1585.58 1544.94 Q1582.52 1549.52 1576.71 1549.52 Q1570.9 1549.52 1567.82 1544.94 Q1564.77 1540.33 1564.77 1531.6 Q1564.77 1522.85 1567.82 1518.27 Q1570.9 1513.66 1576.71 1513.66 Z\" fill=\"#000000\" fill-rule=\"nonzero\" fill-opacity=\"1\" /><path clip-path=\"url(#clip440)\" d=\"M1829.7 1544.91 L1837.34 1544.91 L1837.34 1518.55 L1829.03 1520.21 L1829.03 1515.95 L1837.29 1514.29 L1841.97 1514.29 L1841.97 1544.91 L1849.61 1544.91 L1849.61 1548.85 L1829.7 1548.85 L1829.7 1544.91 Z\" fill=\"#000000\" fill-rule=\"nonzero\" fill-opacity=\"1\" /><path clip-path=\"url(#clip440)\" d=\"M1863.08 1544.91 L1879.4 1544.91 L1879.4 1548.85 L1857.46 1548.85 L1857.46 1544.91 Q1860.12 1542.16 1864.7 1537.53 Q1869.31 1532.88 1870.49 1531.53 Q1872.73 1529.01 1873.61 1527.27 Q1874.52 1525.51 1874.52 1523.82 Q1874.52 1521.07 1872.57 1519.33 Q1870.65 1517.6 1867.55 1517.6 Q1865.35 1517.6 1862.9 1518.36 Q1860.46 1519.13 1857.69 1520.68 L1857.69 1515.95 Q1860.51 1514.82 1862.96 1514.24 Q1865.42 1513.66 1867.46 1513.66 Q1872.83 1513.66 1876.02 1516.35 Q1879.21 1519.03 1879.21 1523.52 Q1879.21 1525.65 1878.4 1527.57 Q1877.62 1529.47 1875.51 1532.07 Q1874.93 1532.74 1871.83 1535.95 Q1868.73 1539.15 1863.08 1544.91 Z\" fill=\"#000000\" fill-rule=\"nonzero\" fill-opacity=\"1\" /><path clip-path=\"url(#clip440)\" d=\"M2120.2 1544.91 L2127.84 1544.91 L2127.84 1518.55 L2119.53 1520.21 L2119.53 1515.95 L2127.8 1514.29 L2132.47 1514.29 L2132.47 1544.91 L2140.11 1544.91 L2140.11 1548.85 L2120.2 1548.85 L2120.2 1544.91 Z\" fill=\"#000000\" fill-rule=\"nonzero\" fill-opacity=\"1\" /><path clip-path=\"url(#clip440)\" d=\"M2162.4 1518.36 L2150.6 1536.81 L2162.4 1536.81 L2162.4 1518.36 M2161.18 1514.29 L2167.06 1514.29 L2167.06 1536.81 L2171.99 1536.81 L2171.99 1540.7 L2167.06 1540.7 L2167.06 1548.85 L2162.4 1548.85 L2162.4 1540.7 L2146.8 1540.7 L2146.8 1536.19 L2161.18 1514.29 Z\" fill=\"#000000\" fill-rule=\"nonzero\" fill-opacity=\"1\" /><polyline clip-path=\"url(#clip442)\" style=\"stroke:#000000; stroke-linecap:round; stroke-linejoin:round; stroke-width:2; stroke-opacity:0.1; fill:none\" points=\"189.496,1148.5 2352.76,1148.5 \"/>\n",
       "<polyline clip-path=\"url(#clip442)\" style=\"stroke:#000000; stroke-linecap:round; stroke-linejoin:round; stroke-width:2; stroke-opacity:0.1; fill:none\" points=\"189.496,454.194 2352.76,454.194 \"/>\n",
       "<polyline clip-path=\"url(#clip440)\" style=\"stroke:#000000; stroke-linecap:round; stroke-linejoin:round; stroke-width:4; stroke-opacity:1; fill:none\" points=\"189.496,1486.45 189.496,47.2441 \"/>\n",
       "<polyline clip-path=\"url(#clip440)\" style=\"stroke:#000000; stroke-linecap:round; stroke-linejoin:round; stroke-width:4; stroke-opacity:1; fill:none\" points=\"189.496,1148.5 208.394,1148.5 \"/>\n",
       "<polyline clip-path=\"url(#clip440)\" style=\"stroke:#000000; stroke-linecap:round; stroke-linejoin:round; stroke-width:4; stroke-opacity:1; fill:none\" points=\"189.496,454.194 208.394,454.194 \"/>\n",
       "<path clip-path=\"url(#clip440)\" d=\"M51.6634 1168.29 L59.3023 1168.29 L59.3023 1141.93 L50.9921 1143.59 L50.9921 1139.33 L59.256 1137.67 L63.9319 1137.67 L63.9319 1168.29 L71.5707 1168.29 L71.5707 1172.23 L51.6634 1172.23 L51.6634 1168.29 Z\" fill=\"#000000\" fill-rule=\"nonzero\" fill-opacity=\"1\" /><path clip-path=\"url(#clip440)\" d=\"M91.0151 1140.74 Q87.404 1140.74 85.5753 1144.31 Q83.7697 1147.85 83.7697 1154.98 Q83.7697 1162.09 85.5753 1165.65 Q87.404 1169.19 91.0151 1169.19 Q94.6493 1169.19 96.4548 1165.65 Q98.2835 1162.09 98.2835 1154.98 Q98.2835 1147.85 96.4548 1144.31 Q94.6493 1140.74 91.0151 1140.74 M91.0151 1137.04 Q96.8252 1137.04 99.8808 1141.65 Q102.959 1146.23 102.959 1154.98 Q102.959 1163.71 99.8808 1168.31 Q96.8252 1172.9 91.0151 1172.9 Q85.2049 1172.9 82.1262 1168.31 Q79.0707 1163.71 79.0707 1154.98 Q79.0707 1146.23 82.1262 1141.65 Q85.2049 1137.04 91.0151 1137.04 Z\" fill=\"#000000\" fill-rule=\"nonzero\" fill-opacity=\"1\" /><path clip-path=\"url(#clip440)\" d=\"M102.959 1131.14 L127.071 1131.14 L127.071 1134.34 L102.959 1134.34 L102.959 1131.14 Z\" fill=\"#000000\" fill-rule=\"nonzero\" fill-opacity=\"1\" /><path clip-path=\"url(#clip440)\" d=\"M145.71 1120.05 L136.118 1135.04 L145.71 1135.04 L145.71 1120.05 M144.713 1116.74 L149.49 1116.74 L149.49 1135.04 L153.496 1135.04 L153.496 1138.2 L149.49 1138.2 L149.49 1144.82 L145.71 1144.82 L145.71 1138.2 L133.033 1138.2 L133.033 1134.53 L144.713 1116.74 Z\" fill=\"#000000\" fill-rule=\"nonzero\" fill-opacity=\"1\" /><path clip-path=\"url(#clip440)\" d=\"M53.3561 473.986 L60.995 473.986 L60.995 447.621 L52.6848 449.287 L52.6848 445.028 L60.9487 443.361 L65.6246 443.361 L65.6246 473.986 L73.2634 473.986 L73.2634 477.921 L53.3561 477.921 L53.3561 473.986 Z\" fill=\"#000000\" fill-rule=\"nonzero\" fill-opacity=\"1\" /><path clip-path=\"url(#clip440)\" d=\"M92.7078 446.44 Q89.0967 446.44 87.268 450.005 Q85.4624 453.546 85.4624 460.676 Q85.4624 467.783 87.268 471.347 Q89.0967 474.889 92.7078 474.889 Q96.342 474.889 98.1475 471.347 Q99.9762 467.783 99.9762 460.676 Q99.9762 453.546 98.1475 450.005 Q96.342 446.44 92.7078 446.44 M92.7078 442.736 Q98.5179 442.736 101.573 447.343 Q104.652 451.926 104.652 460.676 Q104.652 469.403 101.573 474.009 Q98.5179 478.593 92.7078 478.593 Q86.8976 478.593 83.8189 474.009 Q80.7634 469.403 80.7634 460.676 Q80.7634 451.926 83.8189 447.343 Q86.8976 442.736 92.7078 442.736 Z\" fill=\"#000000\" fill-rule=\"nonzero\" fill-opacity=\"1\" /><path clip-path=\"url(#clip440)\" d=\"M104.652 436.838 L128.764 436.838 L128.764 440.035 L104.652 440.035 L104.652 436.838 Z\" fill=\"#000000\" fill-rule=\"nonzero\" fill-opacity=\"1\" /><path clip-path=\"url(#clip440)\" d=\"M140.236 447.314 L153.496 447.314 L153.496 450.511 L135.666 450.511 L135.666 447.314 Q137.829 445.076 141.553 441.314 Q145.296 437.534 146.255 436.443 Q148.079 434.393 148.794 432.982 Q149.527 431.553 149.527 430.18 Q149.527 427.942 147.948 426.531 Q146.387 425.12 143.866 425.12 Q142.08 425.12 140.086 425.741 Q138.111 426.362 135.854 427.622 L135.854 423.785 Q138.149 422.864 140.142 422.393 Q142.136 421.923 143.791 421.923 Q148.155 421.923 150.75 424.105 Q153.345 426.287 153.345 429.935 Q153.345 431.666 152.687 433.227 Q152.048 434.769 150.336 436.875 Q149.866 437.421 147.346 440.035 Q144.826 442.631 140.236 447.314 Z\" fill=\"#000000\" fill-rule=\"nonzero\" fill-opacity=\"1\" /><polyline clip-path=\"url(#clip442)\" style=\"stroke:#009af9; stroke-linecap:round; stroke-linejoin:round; stroke-width:4; stroke-opacity:1; fill:none\" points=\"250.72,87.9763 396.492,126.31 542.265,178.355 688.037,230.052 833.809,281.597 979.581,333.099 1125.35,384.591 1271.13,436.082 1416.9,487.575 1562.67,539.071 1708.44,590.572 1854.21,642.077 1999.99,693.588 2145.76,745.103 2291.53,796.622 \"/>\n",
       "<polyline clip-path=\"url(#clip442)\" style=\"stroke:#e26f46; stroke-linecap:round; stroke-linejoin:round; stroke-width:4; stroke-opacity:1; fill:none\" points=\"250.72,98.75 396.492,194.962 542.265,291.174 688.037,387.386 833.809,483.597 979.581,579.809 1125.35,676.021 1271.13,772.233 1416.9,868.445 1562.67,964.657 1708.44,1060.87 1854.21,1157.08 1999.99,1253.29 2145.76,1349.5 2291.53,1445.72 \"/>\n",
       "<path clip-path=\"url(#clip440)\" d=\"M2011.89 250.738 L2280.65 250.738 L2280.65 95.2176 L2011.89 95.2176  Z\" fill=\"#ffffff\" fill-rule=\"evenodd\" fill-opacity=\"1\"/>\n",
       "<polyline clip-path=\"url(#clip440)\" style=\"stroke:#000000; stroke-linecap:round; stroke-linejoin:round; stroke-width:4; stroke-opacity:1; fill:none\" points=\"2011.89,250.738 2280.65,250.738 2280.65,95.2176 2011.89,95.2176 2011.89,250.738 \"/>\n",
       "<polyline clip-path=\"url(#clip440)\" style=\"stroke:#009af9; stroke-linecap:round; stroke-linejoin:round; stroke-width:4; stroke-opacity:1; fill:none\" points=\"2035.93,147.058 2180.14,147.058 \"/>\n",
       "<path clip-path=\"url(#clip440)\" d=\"M2218.02 166.745 Q2216.22 171.375 2214.5 172.787 Q2212.79 174.199 2209.92 174.199 L2206.52 174.199 L2206.52 170.634 L2209.02 170.634 Q2210.78 170.634 2211.75 169.8 Q2212.72 168.967 2213.9 165.865 L2214.67 163.921 L2204.18 138.412 L2208.69 138.412 L2216.8 158.689 L2224.9 138.412 L2229.41 138.412 L2218.02 166.745 Z\" fill=\"#000000\" fill-rule=\"nonzero\" fill-opacity=\"1\" /><path clip-path=\"url(#clip440)\" d=\"M2236.7 160.402 L2244.34 160.402 L2244.34 134.037 L2236.03 135.703 L2236.03 131.444 L2244.3 129.778 L2248.97 129.778 L2248.97 160.402 L2256.61 160.402 L2256.61 164.338 L2236.7 164.338 L2236.7 160.402 Z\" fill=\"#000000\" fill-rule=\"nonzero\" fill-opacity=\"1\" /><polyline clip-path=\"url(#clip440)\" style=\"stroke:#e26f46; stroke-linecap:round; stroke-linejoin:round; stroke-width:4; stroke-opacity:1; fill:none\" points=\"2035.93,198.898 2180.14,198.898 \"/>\n",
       "<path clip-path=\"url(#clip440)\" d=\"M2218.02 218.585 Q2216.22 223.215 2214.5 224.627 Q2212.79 226.039 2209.92 226.039 L2206.52 226.039 L2206.52 222.474 L2209.02 222.474 Q2210.78 222.474 2211.75 221.64 Q2212.72 220.807 2213.9 217.705 L2214.67 215.761 L2204.18 190.252 L2208.69 190.252 L2216.8 210.529 L2224.9 190.252 L2229.41 190.252 L2218.02 218.585 Z\" fill=\"#000000\" fill-rule=\"nonzero\" fill-opacity=\"1\" /><path clip-path=\"url(#clip440)\" d=\"M2239.92 212.242 L2256.24 212.242 L2256.24 216.178 L2234.3 216.178 L2234.3 212.242 Q2236.96 209.488 2241.54 204.858 Q2246.15 200.205 2247.33 198.863 Q2249.57 196.34 2250.45 194.604 Q2251.36 192.844 2251.36 191.155 Q2251.36 188.4 2249.41 186.664 Q2247.49 184.928 2244.39 184.928 Q2242.19 184.928 2239.74 185.692 Q2237.31 186.455 2234.53 188.006 L2234.53 183.284 Q2237.35 182.15 2239.81 181.571 Q2242.26 180.993 2244.3 180.993 Q2249.67 180.993 2252.86 183.678 Q2256.06 186.363 2256.06 190.854 Q2256.06 192.983 2255.25 194.905 Q2254.46 196.803 2252.35 199.395 Q2251.77 200.067 2248.67 203.284 Q2245.57 206.479 2239.92 212.242 Z\" fill=\"#000000\" fill-rule=\"nonzero\" fill-opacity=\"1\" /></svg>\n"
      ]
     },
     "metadata": {},
     "output_type": "display_data"
    }
   ],
   "source": [
    "plot([1 .- density_MI_3[66:80], 0.2 .* exp.((1:15) ./ (-1.5670248066293009))]; yscale=:log)"
   ]
  },
  {
   "cell_type": "code",
   "execution_count": 42,
   "metadata": {},
   "outputs": [
    {
     "data": {
      "text/plain": [
       "-2.9439566512621784"
      ]
     },
     "metadata": {},
     "output_type": "display_data"
    }
   ],
   "source": [
    "1 / exp_fit(1:15, 1 .- density_MI_3[66:80])[2]"
   ]
  },
  {
   "cell_type": "code",
   "execution_count": null,
   "metadata": {},
   "outputs": [],
   "source": []
  }
 ],
 "metadata": {
  "kernelspec": {
   "display_name": "Julia 1.8.5",
   "language": "julia",
   "name": "julia-1.8"
  },
  "language_info": {
   "file_extension": ".jl",
   "mimetype": "application/julia",
   "name": "julia",
   "version": "1.8.5"
  },
  "orig_nbformat": 4
 },
 "nbformat": 4,
 "nbformat_minor": 2
}
