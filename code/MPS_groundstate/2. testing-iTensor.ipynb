{
 "cells": [
  {
   "cell_type": "code",
   "execution_count": 1,
   "metadata": {},
   "outputs": [],
   "source": [
    "using ITensors, TensorKit, TensorOperations"
   ]
  },
  {
   "cell_type": "code",
   "execution_count": 2,
   "metadata": {},
   "outputs": [
    {
     "data": {
      "text/plain": [
       "1-element Vector{Float64}:\n",
       " 1.0e-12"
      ]
     },
     "metadata": {},
     "output_type": "display_data"
    }
   ],
   "source": [
    "L = 12\n",
    "sites = siteinds(\"Qudit\", L; dim=5, conserve_qns=true, conserve_number=true)\n",
    "nsweeps = 8\n",
    "maxdim = [40, 80, 400, 400, 800, 800, 1000, 1000]\n",
    "cutoff = [1e-12]"
   ]
  },
  {
   "cell_type": "code",
   "execution_count": 32,
   "metadata": {},
   "outputs": [
    {
     "data": {
      "text/plain": [
       "BoseHubbardHamiltonian (generic function with 1 method)"
      ]
     },
     "metadata": {},
     "output_type": "display_data"
    }
   ],
   "source": [
    "function BoseHubbardHamiltonian(t, U, μ, L)\n",
    "    H = OpSum()\n",
    "    for i in (1:L-1)\n",
    "        H += -μ - U/2, \"n\", i\n",
    "        H += U/2, \"n\", i, \"n\", i\n",
    "        H += -t, \"a\", i, \"adag\", i+1\n",
    "        H += -t, \"adag\", i, \"a\", i+1\n",
    "    end\n",
    "    H += -t, \"a\", 1, \"adag\", L\n",
    "    H += -t, \"adag\", 1, \"a\", L\n",
    "    return MPO(H, sites)\n",
    "    \n",
    "end"
   ]
  },
  {
   "cell_type": "code",
   "execution_count": 37,
   "metadata": {},
   "outputs": [
    {
     "data": {
      "text/plain": [
       "MPO\n",
       "[1] ((dim=4|id=491|\"Link,l=1\") <Out>\n",
       " 1: QN() => 1\n",
       " 2: QN(\"Number\",1) => 1\n",
       " 3: QN(\"Number\",-1) => 1\n",
       " 4: QN(\"Number\",0) => 1, (dim=5|id=131|\"Qudit,Site,n=1\")' <Out>\n",
       " 1: QN(\"Number\",0) => 1\n",
       " 2: QN(\"Number\",1) => 1\n",
       " 3: QN(\"Number\",2) => 1\n",
       " 4: QN(\"Number\",3) => 1\n",
       " 5: QN(\"Number\",4) => 1, (dim=5|id=131|\"Qudit,Site,n=1\") <In>\n",
       " 1: QN(\"Number\",0) => 1\n",
       " 2: QN(\"Number\",1) => 1\n",
       " 3: QN(\"Number\",2) => 1\n",
       " 4: QN(\"Number\",3) => 1\n",
       " 5: QN(\"Number\",4) => 1)\n",
       "[2] ((dim=4|id=491|\"Link,l=1\") <In>\n",
       " 1: QN() => 1\n",
       " 2: QN(\"Number\",1) => 1\n",
       " 3: QN(\"Number\",-1) => 1\n",
       " 4: QN(\"Number\",0) => 1, (dim=6|id=551|\"Link,l=2\") <Out>\n",
       " 1: QN() => 1\n",
       " 2: QN(\"Number\",1) => 2\n",
       " 3: QN(\"Number\",-1) => 2\n",
       " 4: QN(\"Number\",0) => 1, (dim=5|id=572|\"Qudit,Site,n=2\")' <Out>\n",
       " 1: QN(\"Number\",0) => 1\n",
       " 2: QN(\"Number\",1) => 1\n",
       " 3: QN(\"Number\",2) => 1\n",
       " 4: QN(\"Number\",3) => 1\n",
       " 5: QN(\"Number\",4) => 1, (dim=5|id=572|\"Qudit,Site,n=2\") <In>\n",
       " 1: QN(\"Number\",0) => 1\n",
       " 2: QN(\"Number\",1) => 1\n",
       " 3: QN(\"Number\",2) => 1\n",
       " 4: QN(\"Number\",3) => 1\n",
       " 5: QN(\"Number\",4) => 1)\n",
       "[3] ((dim=6|id=551|\"Link,l=2\") <In>\n",
       " 1: QN() => 1\n",
       " 2: QN(\"Number\",1) => 2\n",
       " 3: QN(\"Number\",-1) => 2\n",
       " 4: QN(\"Number\",0) => 1, (dim=6|id=255|\"Link,l=3\") <Out>\n",
       " 1: QN() => 1\n",
       " 2: QN(\"Number\",1) => 2\n",
       " 3: QN(\"Number\",-1) => 2\n",
       " 4: QN(\"Number\",0) => 1, (dim=5|id=696|\"Qudit,Site,n=3\")' <Out>\n",
       " 1: QN(\"Number\",0) => 1\n",
       " 2: QN(\"Number\",1) => 1\n",
       " 3: QN(\"Number\",2) => 1\n",
       " 4: QN(\"Number\",3) => 1\n",
       " 5: QN(\"Number\",4) => 1, (dim=5|id=696|\"Qudit,Site,n=3\") <In>\n",
       " 1: QN(\"Number\",0) => 1\n",
       " 2: QN(\"Number\",1) => 1\n",
       " 3: QN(\"Number\",2) => 1\n",
       " 4: QN(\"Number\",3) => 1\n",
       " 5: QN(\"Number\",4) => 1)\n",
       "[4] ((dim=6|id=255|\"Link,l=3\") <In>\n",
       " 1: QN() => 1\n",
       " 2: QN(\"Number\",1) => 2\n",
       " 3: QN(\"Number\",-1) => 2\n",
       " 4: QN(\"Number\",0) => 1, (dim=6|id=604|\"Link,l=4\") <Out>\n",
       " 1: QN() => 1\n",
       " 2: QN(\"Number\",1) => 2\n",
       " 3: QN(\"Number\",-1) => 2\n",
       " 4: QN(\"Number\",0) => 1, (dim=5|id=201|\"Qudit,Site,n=4\")' <Out>\n",
       " 1: QN(\"Number\",0) => 1\n",
       " 2: QN(\"Number\",1) => 1\n",
       " 3: QN(\"Number\",2) => 1\n",
       " 4: QN(\"Number\",3) => 1\n",
       " 5: QN(\"Number\",4) => 1, (dim=5|id=201|\"Qudit,Site,n=4\") <In>\n",
       " 1: QN(\"Number\",0) => 1\n",
       " 2: QN(\"Number\",1) => 1\n",
       " 3: QN(\"Number\",2) => 1\n",
       " 4: QN(\"Number\",3) => 1\n",
       " 5: QN(\"Number\",4) => 1)\n",
       "[5] ((dim=6|id=604|\"Link,l=4\") <In>\n",
       " 1: QN() => 1\n",
       " 2: QN(\"Number\",1) => 2\n",
       " 3: QN(\"Number\",-1) => 2\n",
       " 4: QN(\"Number\",0) => 1, (dim=6|id=872|\"Link,l=5\") <Out>\n",
       " 1: QN() => 1\n",
       " 2: QN(\"Number\",1) => 2\n",
       " 3: QN(\"Number\",-1) => 2\n",
       " 4: QN(\"Number\",0) => 1, (dim=5|id=670|\"Qudit,Site,n=5\")' <Out>\n",
       " 1: QN(\"Number\",0) => 1\n",
       " 2: QN(\"Number\",1) => 1\n",
       " 3: QN(\"Number\",2) => 1\n",
       " 4: QN(\"Number\",3) => 1\n",
       " 5: QN(\"Number\",4) => 1, (dim=5|id=670|\"Qudit,Site,n=5\") <In>\n",
       " 1: QN(\"Number\",0) => 1\n",
       " 2: QN(\"Number\",1) => 1\n",
       " 3: QN(\"Number\",2) => 1\n",
       " 4: QN(\"Number\",3) => 1\n",
       " 5: QN(\"Number\",4) => 1)\n",
       "[6] ((dim=6|id=872|\"Link,l=5\") <In>\n",
       " 1: QN() => 1\n",
       " 2: QN(\"Number\",1) => 2\n",
       " 3: QN(\"Number\",-1) => 2\n",
       " 4: QN(\"Number\",0) => 1, (dim=6|id=498|\"Link,l=6\") <Out>\n",
       " 1: QN() => 1\n",
       " 2: QN(\"Number\",1) => 2\n",
       " 3: QN(\"Number\",-1) => 2\n",
       " 4: QN(\"Number\",0) => 1, (dim=5|id=94|\"Qudit,Site,n=6\")' <Out>\n",
       " 1: QN(\"Number\",0) => 1\n",
       " 2: QN(\"Number\",1) => 1\n",
       " 3: QN(\"Number\",2) => 1\n",
       " 4: QN(\"Number\",3) => 1\n",
       " 5: QN(\"Number\",4) => 1, (dim=5|id=94|\"Qudit,Site,n=6\") <In>\n",
       " 1: QN(\"Number\",0) => 1\n",
       " 2: QN(\"Number\",1) => 1\n",
       " 3: QN(\"Number\",2) => 1\n",
       " 4: QN(\"Number\",3) => 1\n",
       " 5: QN(\"Number\",4) => 1)\n",
       "[7] ((dim=6|id=498|\"Link,l=6\") <In>\n",
       " 1: QN() => 1\n",
       " 2: QN(\"Number\",1) => 2\n",
       " 3: QN(\"Number\",-1) => 2\n",
       " 4: QN(\"Number\",0) => 1, (dim=6|id=159|\"Link,l=7\") <Out>\n",
       " 1: QN() => 1\n",
       " 2: QN(\"Number\",1) => 2\n",
       " 3: QN(\"Number\",-1) => 2\n",
       " 4: QN(\"Number\",0) => 1, (dim=5|id=256|\"Qudit,Site,n=7\")' <Out>\n",
       " 1: QN(\"Number\",0) => 1\n",
       " 2: QN(\"Number\",1) => 1\n",
       " 3: QN(\"Number\",2) => 1\n",
       " 4: QN(\"Number\",3) => 1\n",
       " 5: QN(\"Number\",4) => 1, (dim=5|id=256|\"Qudit,Site,n=7\") <In>\n",
       " 1: QN(\"Number\",0) => 1\n",
       " 2: QN(\"Number\",1) => 1\n",
       " 3: QN(\"Number\",2) => 1\n",
       " 4: QN(\"Number\",3) => 1\n",
       " 5: QN(\"Number\",4) => 1)\n",
       "[8] ((dim=6|id=159|\"Link,l=7\") <In>\n",
       " 1: QN() => 1\n",
       " 2: QN(\"Number\",1) => 2\n",
       " 3: QN(\"Number\",-1) => 2\n",
       " 4: QN(\"Number\",0) => 1, (dim=6|id=589|\"Link,l=8\") <Out>\n",
       " 1: QN() => 1\n",
       " 2: QN(\"Number\",1) => 2\n",
       " 3: QN(\"Number\",-1) => 2\n",
       " 4: QN(\"Number\",0) => 1, (dim=5|id=290|\"Qudit,Site,n=8\")' <Out>\n",
       " 1: QN(\"Number\",0) => 1\n",
       " 2: QN(\"Number\",1) => 1\n",
       " 3: QN(\"Number\",2) => 1\n",
       " 4: QN(\"Number\",3) => 1\n",
       " 5: QN(\"Number\",4) => 1, (dim=5|id=290|\"Qudit,Site,n=8\") <In>\n",
       " 1: QN(\"Number\",0) => 1\n",
       " 2: QN(\"Number\",1) => 1\n",
       " 3: QN(\"Number\",2) => 1\n",
       " 4: QN(\"Number\",3) => 1\n",
       " 5: QN(\"Number\",4) => 1)\n",
       "[9] ((dim=6|id=589|\"Link,l=8\") <In>\n",
       " 1: QN() => 1\n",
       " 2: QN(\"Number\",1) => 2\n",
       " 3: QN(\"Number\",-1) => 2\n",
       " 4: QN(\"Number\",0) => 1, (dim=6|id=700|\"Link,l=9\") <Out>\n",
       " 1: QN() => 1\n",
       " 2: QN(\"Number\",1) => 2\n",
       " 3: QN(\"Number\",-1) => 2\n",
       " 4: QN(\"Number\",0) => 1, (dim=5|id=48|\"Qudit,Site,n=9\")' <Out>\n",
       " 1: QN(\"Number\",0) => 1\n",
       " 2: QN(\"Number\",1) => 1\n",
       " 3: QN(\"Number\",2) => 1\n",
       " 4: QN(\"Number\",3) => 1\n",
       " 5: QN(\"Number\",4) => 1, (dim=5|id=48|\"Qudit,Site,n=9\") <In>\n",
       " 1: QN(\"Number\",0) => 1\n",
       " 2: QN(\"Number\",1) => 1\n",
       " 3: QN(\"Number\",2) => 1\n",
       " 4: QN(\"Number\",3) => 1\n",
       " 5: QN(\"Number\",4) => 1)\n",
       "[10] ((dim=6|id=700|\"Link,l=9\") <In>\n",
       " 1: QN() => 1\n",
       " 2: QN(\"Number\",1) => 2\n",
       " 3: QN(\"Number\",-1) => 2\n",
       " 4: QN(\"Number\",0) => 1, (dim=6|id=537|\"Link,l=10\") <Out>\n",
       " 1: QN() => 1\n",
       " 2: QN(\"Number\",1) => 2\n",
       " 3: QN(\"Number\",-1) => 2\n",
       " 4: QN(\"Number\",0) => 1, (dim=5|id=627|\"Qudit,Site,n=10\")' <Out>\n",
       " 1: QN(\"Number\",0) => 1\n",
       " 2: QN(\"Number\",1) => 1\n",
       " 3: QN(\"Number\",2) => 1\n",
       " 4: QN(\"Number\",3) => 1\n",
       " 5: QN(\"Number\",4) => 1, (dim=5|id=627|\"Qudit,Site,n=10\") <In>\n",
       " 1: QN(\"Number\",0) => 1\n",
       " 2: QN(\"Number\",1) => 1\n",
       " 3: QN(\"Number\",2) => 1\n",
       " 4: QN(\"Number\",3) => 1\n",
       " 5: QN(\"Number\",4) => 1)\n",
       "[11] ((dim=6|id=537|\"Link,l=10\") <In>\n",
       " 1: QN() => 1\n",
       " 2: QN(\"Number\",1) => 2\n",
       " 3: QN(\"Number\",-1) => 2\n",
       " 4: QN(\"Number\",0) => 1, (dim=4|id=794|\"Link,l=11\") <Out>\n",
       " 1: QN() => 1\n",
       " 2: QN(\"Number\",1) => 1\n",
       " 3: QN(\"Number\",-1) => 1\n",
       " 4: QN(\"Number\",0) => 1, (dim=5|id=837|\"Qudit,Site,n=11\")' <Out>\n",
       " 1: QN(\"Number\",0) => 1\n",
       " 2: QN(\"Number\",1) => 1\n",
       " 3: QN(\"Number\",2) => 1\n",
       " 4: QN(\"Number\",3) => 1\n",
       " 5: QN(\"Number\",4) => 1, (dim=5|id=837|\"Qudit,Site,n=11\") <In>\n",
       " 1: QN(\"Number\",0) => 1\n",
       " 2: QN(\"Number\",1) => 1\n",
       " 3: QN(\"Number\",2) => 1\n",
       " 4: QN(\"Number\",3) => 1\n",
       " 5: QN(\"Number\",4) => 1)\n",
       "[12] ((dim=4|id=794|\"Link,l=11\") <In>\n",
       " 1: QN() => 1\n",
       " 2: QN(\"Number\",1) => 1\n",
       " 3: QN(\"Number\",-1) => 1\n",
       " 4: QN(\"Number\",0) => 1, (dim=5|id=813|\"Qudit,Site,n=12\")' <Out>\n",
       " 1: QN(\"Number\",0) => 1\n",
       " 2: QN(\"Number\",1) => 1\n",
       " 3: QN(\"Number\",2) => 1\n",
       " 4: QN(\"Number\",3) => 1\n",
       " 5: QN(\"Number\",4) => 1, (dim=5|id=813|\"Qudit,Site,n=12\") <In>\n",
       " 1: QN(\"Number\",0) => 1\n",
       " 2: QN(\"Number\",1) => 1\n",
       " 3: QN(\"Number\",2) => 1\n",
       " 4: QN(\"Number\",3) => 1\n",
       " 5: QN(\"Number\",4) => 1)\n"
      ]
     },
     "metadata": {},
     "output_type": "display_data"
    }
   ],
   "source": [
    "Hamiltonian = BoseHubbardHamiltonian(0.01, 2, 0, 12)"
   ]
  },
  {
   "cell_type": "code",
   "execution_count": 35,
   "metadata": {},
   "outputs": [
    {
     "data": {
      "text/plain": [
       "12-element Vector{Int64}:\n",
       " 1\n",
       " 1\n",
       " 1\n",
       " 1\n",
       " 1\n",
       " 1\n",
       " 1\n",
       " 1\n",
       " 1\n",
       " 1\n",
       " 1\n",
       " 1"
      ]
     },
     "metadata": {},
     "output_type": "display_data"
    }
   ],
   "source": [
    "state = [isodd(n) ? 1 : 1 for n=1:L]"
   ]
  },
  {
   "cell_type": "code",
   "execution_count": 36,
   "metadata": {},
   "outputs": [
    {
     "data": {
      "text/plain": [
       "MPS\n",
       "[1] ((dim=5|id=131|\"Qudit,Site,n=1\") <Out>\n",
       " 1: QN(\"Number\",0) => 1\n",
       " 2: QN(\"Number\",1) => 1\n",
       " 3: QN(\"Number\",2) => 1\n",
       " 4: QN(\"Number\",3) => 1\n",
       " 5: QN(\"Number\",4) => 1, (dim=1|id=335|\"Link,l=1\") <In>\n",
       " 1: QN(\"Number\",0) => 1)\n",
       "[2] ((dim=1|id=335|\"Link,l=1\") <Out>\n",
       " 1: QN(\"Number\",0) => 1, (dim=5|id=572|\"Qudit,Site,n=2\") <Out>\n",
       " 1: QN(\"Number\",0) => 1\n",
       " 2: QN(\"Number\",1) => 1\n",
       " 3: QN(\"Number\",2) => 1\n",
       " 4: QN(\"Number\",3) => 1\n",
       " 5: QN(\"Number\",4) => 1, (dim=1|id=453|\"Link,l=2\") <In>\n",
       " 1: QN(\"Number\",0) => 1)\n",
       "[3] ((dim=1|id=453|\"Link,l=2\") <Out>\n",
       " 1: QN(\"Number\",0) => 1, (dim=5|id=696|\"Qudit,Site,n=3\") <Out>\n",
       " 1: QN(\"Number\",0) => 1\n",
       " 2: QN(\"Number\",1) => 1\n",
       " 3: QN(\"Number\",2) => 1\n",
       " 4: QN(\"Number\",3) => 1\n",
       " 5: QN(\"Number\",4) => 1, (dim=1|id=799|\"Link,l=3\") <In>\n",
       " 1: QN(\"Number\",0) => 1)\n",
       "[4] ((dim=1|id=799|\"Link,l=3\") <Out>\n",
       " 1: QN(\"Number\",0) => 1, (dim=5|id=201|\"Qudit,Site,n=4\") <Out>\n",
       " 1: QN(\"Number\",0) => 1\n",
       " 2: QN(\"Number\",1) => 1\n",
       " 3: QN(\"Number\",2) => 1\n",
       " 4: QN(\"Number\",3) => 1\n",
       " 5: QN(\"Number\",4) => 1, (dim=1|id=551|\"Link,l=4\") <In>\n",
       " 1: QN(\"Number\",0) => 1)\n",
       "[5] ((dim=1|id=551|\"Link,l=4\") <Out>\n",
       " 1: QN(\"Number\",0) => 1, (dim=5|id=670|\"Qudit,Site,n=5\") <Out>\n",
       " 1: QN(\"Number\",0) => 1\n",
       " 2: QN(\"Number\",1) => 1\n",
       " 3: QN(\"Number\",2) => 1\n",
       " 4: QN(\"Number\",3) => 1\n",
       " 5: QN(\"Number\",4) => 1, (dim=1|id=463|\"Link,l=5\") <In>\n",
       " 1: QN(\"Number\",0) => 1)\n",
       "[6] ((dim=1|id=463|\"Link,l=5\") <Out>\n",
       " 1: QN(\"Number\",0) => 1, (dim=5|id=94|\"Qudit,Site,n=6\") <Out>\n",
       " 1: QN(\"Number\",0) => 1\n",
       " 2: QN(\"Number\",1) => 1\n",
       " 3: QN(\"Number\",2) => 1\n",
       " 4: QN(\"Number\",3) => 1\n",
       " 5: QN(\"Number\",4) => 1, (dim=1|id=297|\"Link,l=6\") <In>\n",
       " 1: QN(\"Number\",0) => 1)\n",
       "[7] ((dim=1|id=297|\"Link,l=6\") <Out>\n",
       " 1: QN(\"Number\",0) => 1, (dim=5|id=256|\"Qudit,Site,n=7\") <Out>\n",
       " 1: QN(\"Number\",0) => 1\n",
       " 2: QN(\"Number\",1) => 1\n",
       " 3: QN(\"Number\",2) => 1\n",
       " 4: QN(\"Number\",3) => 1\n",
       " 5: QN(\"Number\",4) => 1, (dim=1|id=582|\"Link,l=7\") <In>\n",
       " 1: QN(\"Number\",0) => 1)\n",
       "[8] ((dim=1|id=582|\"Link,l=7\") <Out>\n",
       " 1: QN(\"Number\",0) => 1, (dim=5|id=290|\"Qudit,Site,n=8\") <Out>\n",
       " 1: QN(\"Number\",0) => 1\n",
       " 2: QN(\"Number\",1) => 1\n",
       " 3: QN(\"Number\",2) => 1\n",
       " 4: QN(\"Number\",3) => 1\n",
       " 5: QN(\"Number\",4) => 1, (dim=1|id=56|\"Link,l=8\") <In>\n",
       " 1: QN(\"Number\",0) => 1)\n",
       "[9] ((dim=1|id=56|\"Link,l=8\") <Out>\n",
       " 1: QN(\"Number\",0) => 1, (dim=5|id=48|\"Qudit,Site,n=9\") <Out>\n",
       " 1: QN(\"Number\",0) => 1\n",
       " 2: QN(\"Number\",1) => 1\n",
       " 3: QN(\"Number\",2) => 1\n",
       " 4: QN(\"Number\",3) => 1\n",
       " 5: QN(\"Number\",4) => 1, (dim=1|id=668|\"Link,l=9\") <In>\n",
       " 1: QN(\"Number\",0) => 1)\n",
       "[10] ((dim=1|id=668|\"Link,l=9\") <Out>\n",
       " 1: QN(\"Number\",0) => 1, (dim=5|id=627|\"Qudit,Site,n=10\") <Out>\n",
       " 1: QN(\"Number\",0) => 1\n",
       " 2: QN(\"Number\",1) => 1\n",
       " 3: QN(\"Number\",2) => 1\n",
       " 4: QN(\"Number\",3) => 1\n",
       " 5: QN(\"Number\",4) => 1, (dim=1|id=186|\"Link,l=10\") <In>\n",
       " 1: QN(\"Number\",0) => 1)\n",
       "[11] ((dim=1|id=186|\"Link,l=10\") <Out>\n",
       " 1: QN(\"Number\",0) => 1, (dim=5|id=837|\"Qudit,Site,n=11\") <Out>\n",
       " 1: QN(\"Number\",0) => 1\n",
       " 2: QN(\"Number\",1) => 1\n",
       " 3: QN(\"Number\",2) => 1\n",
       " 4: QN(\"Number\",3) => 1\n",
       " 5: QN(\"Number\",4) => 1, (dim=1|id=575|\"Link,l=11\") <In>\n",
       " 1: QN(\"Number\",0) => 1)\n",
       "[12] ((dim=1|id=575|\"Link,l=11\") <Out>\n",
       " 1: QN(\"Number\",0) => 1, (dim=5|id=813|\"Qudit,Site,n=12\") <Out>\n",
       " 1: QN(\"Number\",0) => 1\n",
       " 2: QN(\"Number\",1) => 1\n",
       " 3: QN(\"Number\",2) => 1\n",
       " 4: QN(\"Number\",3) => 1\n",
       " 5: QN(\"Number\",4) => 1)\n"
      ]
     },
     "metadata": {},
     "output_type": "display_data"
    }
   ],
   "source": [
    "psi0 = productMPS(sites,state)"
   ]
  },
  {
   "cell_type": "code",
   "execution_count": 39,
   "metadata": {},
   "outputs": [
    {
     "name": "stdout",
     "output_type": "stream",
     "text": [
      "After sweep 1 energy=0.0  maxlinkdim=1 maxerr=0.00E+00 time=26.714\n"
     ]
    },
    {
     "name": "stdout",
     "output_type": "stream",
     "text": [
      "After sweep 2 energy=0.0  maxlinkdim=1 maxerr=0.00E+00 time=0.012\n"
     ]
    },
    {
     "name": "stdout",
     "output_type": "stream",
     "text": [
      "After sweep 3 energy=0.0  maxlinkdim=1 maxerr=0.00E+00 time=0.045\n"
     ]
    },
    {
     "name": "stdout",
     "output_type": "stream",
     "text": [
      "After sweep 4 energy=0.0  maxlinkdim=1 maxerr=0.00E+00 time=0.011\n"
     ]
    },
    {
     "name": "stdout",
     "output_type": "stream",
     "text": [
      "After sweep 5 energy=0.0  maxlinkdim=1 maxerr=0.00E+00 time=0.015\n"
     ]
    },
    {
     "name": "stdout",
     "output_type": "stream",
     "text": [
      "After sweep 6 energy=0.0  maxlinkdim=1 maxerr=0.00E+00 time=0.021\n"
     ]
    },
    {
     "name": "stdout",
     "output_type": "stream",
     "text": [
      "After sweep 7 energy=0.0  maxlinkdim=1 maxerr=0.00E+00 time=0.021\n"
     ]
    },
    {
     "name": "stdout",
     "output_type": "stream",
     "text": [
      "After sweep 8 energy=0.0  maxlinkdim=1 maxerr=0.00E+00 time=0.027\n"
     ]
    },
    {
     "data": {
      "text/plain": [
       "(0.0, MPS\n",
       "[1] ((dim=5|id=131|\"Qudit,Site,n=1\") <Out>\n",
       " 1: QN(\"Number\",0) => 1\n",
       " 2: QN(\"Number\",1) => 1\n",
       " 3: QN(\"Number\",2) => 1\n",
       " 4: QN(\"Number\",3) => 1\n",
       " 5: QN(\"Number\",4) => 1, (dim=1|id=579|\"Link,l=1\") <Out>\n",
       " 1: QN(\"Number\",0) => 1)\n",
       "[2] ((dim=1|id=597|\"Link,l=2\") <Out>\n",
       " 1: QN(\"Number\",0) => 1, (dim=5|id=572|\"Qudit,Site,n=2\") <Out>\n",
       " 1: QN(\"Number\",0) => 1\n",
       " 2: QN(\"Number\",1) => 1\n",
       " 3: QN(\"Number\",2) => 1\n",
       " 4: QN(\"Number\",3) => 1\n",
       " 5: QN(\"Number\",4) => 1, (dim=1|id=579|\"Link,l=1\") <In>\n",
       " 1: QN(\"Number\",0) => 1)\n",
       "[3] ((dim=5|id=696|\"Qudit,Site,n=3\") <Out>\n",
       " 1: QN(\"Number\",0) => 1\n",
       " 2: QN(\"Number\",1) => 1\n",
       " 3: QN(\"Number\",2) => 1\n",
       " 4: QN(\"Number\",3) => 1\n",
       " 5: QN(\"Number\",4) => 1, (dim=1|id=410|\"Link,l=3\") <Out>\n",
       " 1: QN(\"Number\",0) => 1, (dim=1|id=597|\"Link,l=2\") <In>\n",
       " 1: QN(\"Number\",0) => 1)\n",
       "[4] ((dim=5|id=201|\"Qudit,Site,n=4\") <Out>\n",
       " 1: QN(\"Number\",0) => 1\n",
       " 2: QN(\"Number\",1) => 1\n",
       " 3: QN(\"Number\",2) => 1\n",
       " 4: QN(\"Number\",3) => 1\n",
       " 5: QN(\"Number\",4) => 1, (dim=1|id=689|\"Link,l=4\") <Out>\n",
       " 1: QN(\"Number\",0) => 1, (dim=1|id=410|\"Link,l=3\") <In>\n",
       " 1: QN(\"Number\",0) => 1)\n",
       "[5] ((dim=5|id=670|\"Qudit,Site,n=5\") <Out>\n",
       " 1: QN(\"Number\",0) => 1\n",
       " 2: QN(\"Number\",1) => 1\n",
       " 3: QN(\"Number\",2) => 1\n",
       " 4: QN(\"Number\",3) => 1\n",
       " 5: QN(\"Number\",4) => 1, (dim=1|id=177|\"Link,l=5\") <Out>\n",
       " 1: QN(\"Number\",0) => 1, (dim=1|id=689|\"Link,l=4\") <In>\n",
       " 1: QN(\"Number\",0) => 1)\n",
       "[6] ((dim=5|id=94|\"Qudit,Site,n=6\") <Out>\n",
       " 1: QN(\"Number\",0) => 1\n",
       " 2: QN(\"Number\",1) => 1\n",
       " 3: QN(\"Number\",2) => 1\n",
       " 4: QN(\"Number\",3) => 1\n",
       " 5: QN(\"Number\",4) => 1, (dim=1|id=56|\"Link,l=6\") <Out>\n",
       " 1: QN(\"Number\",0) => 1, (dim=1|id=177|\"Link,l=5\") <In>\n",
       " 1: QN(\"Number\",0) => 1)\n",
       "[7] ((dim=5|id=256|\"Qudit,Site,n=7\") <Out>\n",
       " 1: QN(\"Number\",0) => 1\n",
       " 2: QN(\"Number\",1) => 1\n",
       " 3: QN(\"Number\",2) => 1\n",
       " 4: QN(\"Number\",3) => 1\n",
       " 5: QN(\"Number\",4) => 1, (dim=1|id=78|\"Link,l=7\") <Out>\n",
       " 1: QN(\"Number\",0) => 1, (dim=1|id=56|\"Link,l=6\") <In>\n",
       " 1: QN(\"Number\",0) => 1)\n",
       "[8] ((dim=5|id=290|\"Qudit,Site,n=8\") <Out>\n",
       " 1: QN(\"Number\",0) => 1\n",
       " 2: QN(\"Number\",1) => 1\n",
       " 3: QN(\"Number\",2) => 1\n",
       " 4: QN(\"Number\",3) => 1\n",
       " 5: QN(\"Number\",4) => 1, (dim=1|id=272|\"Link,l=8\") <Out>\n",
       " 1: QN(\"Number\",0) => 1, (dim=1|id=78|\"Link,l=7\") <In>\n",
       " 1: QN(\"Number\",0) => 1)\n",
       "[9] ((dim=5|id=48|\"Qudit,Site,n=9\") <Out>\n",
       " 1: QN(\"Number\",0) => 1\n",
       " 2: QN(\"Number\",1) => 1\n",
       " 3: QN(\"Number\",2) => 1\n",
       " 4: QN(\"Number\",3) => 1\n",
       " 5: QN(\"Number\",4) => 1, (dim=1|id=487|\"Link,l=9\") <Out>\n",
       " 1: QN(\"Number\",0) => 1, (dim=1|id=272|\"Link,l=8\") <In>\n",
       " 1: QN(\"Number\",0) => 1)\n",
       "[10] ((dim=5|id=627|\"Qudit,Site,n=10\") <Out>\n",
       " 1: QN(\"Number\",0) => 1\n",
       " 2: QN(\"Number\",1) => 1\n",
       " 3: QN(\"Number\",2) => 1\n",
       " 4: QN(\"Number\",3) => 1\n",
       " 5: QN(\"Number\",4) => 1, (dim=1|id=446|\"Link,l=10\") <Out>\n",
       " 1: QN(\"Number\",0) => 1, (dim=1|id=487|\"Link,l=9\") <In>\n",
       " 1: QN(\"Number\",0) => 1)\n",
       "[11] ((dim=5|id=837|\"Qudit,Site,n=11\") <Out>\n",
       " 1: QN(\"Number\",0) => 1\n",
       " 2: QN(\"Number\",1) => 1\n",
       " 3: QN(\"Number\",2) => 1\n",
       " 4: QN(\"Number\",3) => 1\n",
       " 5: QN(\"Number\",4) => 1, (dim=1|id=192|\"Link,l=11\") <Out>\n",
       " 1: QN(\"Number\",0) => 1, (dim=1|id=446|\"Link,l=10\") <In>\n",
       " 1: QN(\"Number\",0) => 1)\n",
       "[12] ((dim=5|id=813|\"Qudit,Site,n=12\") <Out>\n",
       " 1: QN(\"Number\",0) => 1\n",
       " 2: QN(\"Number\",1) => 1\n",
       " 3: QN(\"Number\",2) => 1\n",
       " 4: QN(\"Number\",3) => 1\n",
       " 5: QN(\"Number\",4) => 1, (dim=1|id=192|\"Link,l=11\") <In>\n",
       " 1: QN(\"Number\",0) => 1)\n",
       ")"
      ]
     },
     "metadata": {},
     "output_type": "display_data"
    }
   ],
   "source": [
    "energy, psi = dmrg(Hamiltonian, psi0; nsweeps, maxdim, cutoff)"
   ]
  },
  {
   "cell_type": "code",
   "execution_count": 40,
   "metadata": {},
   "outputs": [
    {
     "data": {
      "text/plain": [
       "0.0"
      ]
     },
     "metadata": {},
     "output_type": "display_data"
    }
   ],
   "source": [
    "energy"
   ]
  },
  {
   "cell_type": "code",
   "execution_count": null,
   "metadata": {},
   "outputs": [],
   "source": []
  }
 ],
 "metadata": {
  "kernelspec": {
   "display_name": "Julia 1.8.5",
   "language": "julia",
   "name": "julia-1.8"
  },
  "language_info": {
   "file_extension": ".jl",
   "mimetype": "application/julia",
   "name": "julia",
   "version": "1.8.5"
  },
  "orig_nbformat": 4
 },
 "nbformat": 4,
 "nbformat_minor": 2
}
