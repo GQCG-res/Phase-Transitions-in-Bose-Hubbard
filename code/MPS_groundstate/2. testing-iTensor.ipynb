{
 "cells": [
  {
   "cell_type": "code",
   "execution_count": 1,
   "metadata": {},
   "outputs": [],
   "source": [
    "using ITensors, TensorKit, TensorOperations"
   ]
  },
  {
   "cell_type": "code",
   "execution_count": 58,
   "metadata": {},
   "outputs": [
    {
     "name": "stdout",
     "output_type": "stream",
     "text": [
      "sum(\n",
      "  -1.0 n(1,)\n",
      "  1.0 n(1,) n(1,)\n",
      "  -0.1 a(1,) adag(2,)\n",
      "  -0.1 adag(1,) a(2,)\n",
      "  -1.0 n(2,)\n",
      "  1.0 n(2,) n(2,)\n",
      "  -0.1 a(2,) adag(3,)\n",
      "  -0.1 adag(2,) a(3,)\n",
      "  -1.0 n(3,)\n",
      "  1.0 n(3,) n(3,)\n",
      "  -0.1 a(3,) adag(4,)\n",
      "  -0.1 adag(3,) a(4,)\n",
      "  -1.0 n(4,)\n",
      "  1.0 n(4,) n(4,)\n",
      "  -0.1 a(4,) adag(5,)\n",
      "  -0.1 adag(4,) a(5,)\n",
      "  -1.0 n(5,)\n",
      "  1.0 n(5,) n(5,)\n",
      "  -0.1 a(5,) adag(6,)\n",
      "  -0.1 adag(5,) a(6,)\n",
      "  -0.1 a(1,) adag(6,)\n",
      "  -0.1 adag(1,) a(6,)\n",
      ")After sweep 1 energy=-0.41506019333397914  maxlinkdim=18 maxerr=3.45E-18 time=0.083\n"
     ]
    },
    {
     "name": "stdout",
     "output_type": "stream",
     "text": [
      "After sweep 2 energy=-0.6082942519569269  maxlinkdim=29 maxerr=3.68E-13 time=0.149\n"
     ]
    },
    {
     "name": "stdout",
     "output_type": "stream",
     "text": [
      "After sweep 3 energy=-0.6729488323008808  maxlinkdim=30 maxerr=0.00E+00 time=0.155\n"
     ]
    },
    {
     "name": "stdout",
     "output_type": "stream",
     "text": [
      "After sweep 4 energy=-0.6875208071953002  maxlinkdim=29 maxerr=1.22E-13 time=0.157\n"
     ]
    },
    {
     "name": "stdout",
     "output_type": "stream",
     "text": [
      "After sweep 5 energy=-0.6916032619605623  maxlinkdim=29 maxerr=8.00E-14 time=0.150\n"
     ]
    },
    {
     "name": "stdout",
     "output_type": "stream",
     "text": [
      "After sweep 6 energy=-0.6925397955894645  maxlinkdim=29 maxerr=1.48E-13 time=0.139\n"
     ]
    },
    {
     "name": "stdout",
     "output_type": "stream",
     "text": [
      "After sweep 7 energy=-0.6926858821375497  maxlinkdim=27 maxerr=3.87E-13 time=0.157\n"
     ]
    },
    {
     "name": "stdout",
     "output_type": "stream",
     "text": [
      "After sweep 8 energy=-0.6927036856074449  maxlinkdim=27 maxerr=6.62E-13 time=0.144\n"
     ]
    },
    {
     "name": "stdout",
     "output_type": "stream",
     "text": [
      "After sweep 9 energy=-0.6927066286197037  maxlinkdim=25 maxerr=8.61E-13 time=0.139\n"
     ]
    },
    {
     "name": "stdout",
     "output_type": "stream",
     "text": [
      "After sweep 10 energy=-0.6927072397659445  maxlinkdim=25 maxerr=8.24E-13 time=0.166\n"
     ]
    },
    {
     "name": "stdout",
     "output_type": "stream",
     "text": [
      "[0.5355692214120122, 0.45582763457878683, 0.4806788206004547, 0.4557957630945251, 0.5355898475622978, 3.5365387127519257]\n",
      "6.000000000000002\n"
     ]
    }
   ],
   "source": [
    "let\n",
    "    L = 6\n",
    "    sites = siteinds(\"Qudit\",L; dim=6, conserve_qns=true, conserve_number=true)\n",
    "    # sites = siteinds(\"Qudit\",L; dim=5)\n",
    "    t = 0.1\n",
    "    U = 2\n",
    "    μ = 0\n",
    "\n",
    "    H = OpSum()\n",
    "    for i in (1:L-1)\n",
    "        H += -μ - U/2, \"n\", i\n",
    "        H += U/2, \"n\", i, \"n\", i\n",
    "        H += -t, \"a\", i, \"adag\", i+1\n",
    "        H += -t, \"adag\", i, \"a\", i+1\n",
    "    end\n",
    "    # periodic boundary conditions.\n",
    "    H += -t, \"a\", 1, \"adag\", L\n",
    "    H += -t, \"adag\", 1, \"a\", L\n",
    "    print(H)\n",
    "    Ham = MPO(H, sites)\n",
    "\n",
    "    state = [isodd(n) ? \"1\" : \"1\" for n=1:L]\n",
    "    psi0 = randomMPS(sites,state)\n",
    "  \n",
    "    nsweeps = 10\n",
    "    maxdim = [40, 80, 400, 400, 800, 800, 1000, 1000, 1000, 1000]\n",
    "    cutoff = [1e-12]\n",
    "  \n",
    "    energy, psi = dmrg(Ham,psi0; nsweeps, maxdim, cutoff)\n",
    "    N = expect(psi, \"n\")\n",
    "    println(N)\n",
    "    println(sum(N))\n",
    "    return\n",
    "end"
   ]
  },
  {
   "cell_type": "code",
   "execution_count": null,
   "metadata": {},
   "outputs": [],
   "source": []
  }
 ],
 "metadata": {
  "kernelspec": {
   "display_name": "Julia 1.8.5",
   "language": "julia",
   "name": "julia-1.8"
  },
  "language_info": {
   "file_extension": ".jl",
   "mimetype": "application/julia",
   "name": "julia",
   "version": "1.8.5"
  },
  "orig_nbformat": 4
 },
 "nbformat": 4,
 "nbformat_minor": 2
}
