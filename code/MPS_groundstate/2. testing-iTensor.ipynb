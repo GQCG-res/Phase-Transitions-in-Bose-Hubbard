{
 "cells": [
  {
   "cell_type": "code",
   "execution_count": null,
   "metadata": {},
   "outputs": [],
   "source": [
    "using ITensors, TensorKit, TensorOperations"
   ]
  },
  {
   "cell_type": "code",
   "execution_count": null,
   "metadata": {},
   "outputs": [],
   "source": [
    "function potential(t, U, μ, L, lobe)\n",
    "\n",
    "    sites = siteinds(\"Qudit\",L; dim=5,  conserve_qns=true, conserve_number=true)\n",
    "\n",
    "    H = OpSum()\n",
    "    for i in (1:L-1)\n",
    "        H += -μ - U/2, \"n\", i\n",
    "        H += U/2, \"n\", i, \"n\", i\n",
    "        H += -t, \"a\", i, \"adag\", i+1\n",
    "        H += -t, \"adag\", i, \"a\", i+1\n",
    "    end\n",
    "    # periodic boundary conditions.\n",
    "    H += -t, \"a\", 1, \"adag\", L\n",
    "    H += -t, \"adag\", 1, \"a\", L\n",
    "\n",
    "    Ham = MPO(H, sites)\n",
    "    \n",
    "    lb = string(lobe)\n",
    "\n",
    "    state = [isodd(n) ? lb : lb for n=1:L]\n",
    "    state_p = [isodd(n) ? lb : lb for n=1:L]\n",
    "    state_p[1] = string(lobe+1)\n",
    "\n",
    "    state_m = [isodd(n) ? lb : lb for n=1:L]\n",
    "    state_m[1] = string(lobe-1)\n",
    "\n",
    "    psi0 = randomMPS(sites,state)\n",
    "    psi0_p = randomMPS(sites,state_p)\n",
    "    psi0_m = randomMPS(sites,state_m)\n",
    "  \n",
    "    nsweeps = 10\n",
    "    maxdim = [40, 80, 400, 400, 800, 800, 1000, 1000, 1000, 1000]\n",
    "    cutoff = [1e-12]\n",
    "  \n",
    "    energy, psi = dmrg(Ham,psi0; nsweeps, maxdim, cutoff, outputlevel=0)\n",
    "    N = expect(psi, \"n\")\n",
    "    println(\"GS:\")\n",
    "    println(N)\n",
    "    println(sum(N))\n",
    "\n",
    "    energy_p, psi_p = dmrg(Ham,psi0_p; nsweeps, maxdim, cutoff, outputlevel=0)\n",
    "    N = expect(psi_p, \"n\")\n",
    "    println(\"+1:\")\n",
    "    println(N)\n",
    "    println(sum(N))\n",
    "\n",
    "    energy_m, psi_m = dmrg(Ham,psi0_m; nsweeps, maxdim, cutoff, outputlevel=0)\n",
    "    N = expect(psi_m, \"n\")\n",
    "    println(\"-1:\")\n",
    "    println(N)\n",
    "    println(sum(N))\n",
    "\n",
    "    return energy_p - energy, energy-energy_m\n",
    "end"
   ]
  },
  {
   "cell_type": "code",
   "execution_count": null,
   "metadata": {},
   "outputs": [],
   "source": [
    "potential(0.1, 2, 0, 12, 1)"
   ]
  },
  {
   "cell_type": "code",
   "execution_count": null,
   "metadata": {},
   "outputs": [],
   "source": [
    "potential(0.1, 2, 0, 12, 1)"
   ]
  },
  {
   "cell_type": "code",
   "execution_count": null,
   "metadata": {},
   "outputs": [],
   "source": [
    "U_val = 2\n",
    "μ_val = 0\n",
    "sites = 128\n",
    "lobe = 1\n",
    "\n",
    "upper = zeros(0)\n",
    "lower = zeros(0)"
   ]
  },
  {
   "cell_type": "code",
   "execution_count": 34,
   "metadata": {},
   "outputs": [],
   "source": [
    "for t in range(0.0, 2.0, step=0.1)\n",
    "    up, low = potential(t, U_val, μ_val, sites, lobe)\n",
    "    append!(upper, up)\n",
    "    append!(lower, low)\n",
    "end"
   ]
  },
  {
   "cell_type": "code",
   "execution_count": null,
   "metadata": {},
   "outputs": [],
   "source": [
    "println(upper)\n",
    "println(lower)"
   ]
  }
 ],
 "metadata": {
  "kernelspec": {
   "display_name": "Julia 1.8.5",
   "language": "julia",
   "name": "julia-1.8"
  },
  "language_info": {
   "file_extension": ".jl",
   "mimetype": "application/julia",
   "name": "julia",
   "version": "1.8.5"
  },
  "orig_nbformat": 4
 },
 "nbformat": 4,
 "nbformat_minor": 2
}
