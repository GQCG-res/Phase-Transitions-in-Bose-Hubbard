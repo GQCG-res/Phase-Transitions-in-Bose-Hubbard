{
 "cells": [
  {
   "cell_type": "code",
   "execution_count": 1,
   "metadata": {},
   "outputs": [],
   "source": [
    "using ITensors, TensorKit, TensorOperations"
   ]
  },
  {
   "cell_type": "code",
   "execution_count": 41,
   "metadata": {},
   "outputs": [
    {
     "data": {
      "text/plain": [
       "HubbardDMRG (generic function with 1 method)"
      ]
     },
     "metadata": {},
     "output_type": "display_data"
    }
   ],
   "source": [
    "function HubbardDMRG(t::Float64, U::Float64, μ::Float64, L::Int)\n",
    "\n",
    "    sites = siteinds(\"Qudit\",L; dim=L,  conserve_qns=true, conserve_number=true)\n",
    "\n",
    "    H = OpSum()\n",
    "    for i in (1:L-1)\n",
    "        H += -μ - U/2, \"n\", i\n",
    "        H += U/2, \"n\", i, \"n\", i\n",
    "        H += -t, \"a\", i, \"adag\", i+1\n",
    "        H += -t, \"adag\", i, \"a\", i+1\n",
    "    end\n",
    "    # Add the on-site terms that couldn't be added in the loop (due to i+1)\n",
    "    H += -μ - U/2, \"n\", L\n",
    "    H += U/2, \"n\", L, \"n\", L\n",
    "\n",
    "    # Add periodic boundary conditions.\n",
    "    H += -t, \"a\", 1, \"adag\", L\n",
    "    H += -t, \"adag\", 1, \"a\", L\n",
    "    \n",
    "    Ham = MPO(H, sites)\n",
    "\n",
    "    state = [isodd(n) ? \"1\" : \"1\" for n=1:L]\n",
    "    psi0 = randomMPS(sites,state)\n",
    "\n",
    "    nsweeps = 10\n",
    "    maxdim = [40, 80, 400, 400, 800, 800, 1000, 1000, 1000, 1000]\n",
    "    cutoff = [1e-12]\n",
    "  \n",
    "    energy, psi = dmrg(Ham,psi0; nsweeps, maxdim, cutoff)\n",
    "    N = expect(psi, \"n\")\n",
    "    @show flux(psi)\n",
    "\n",
    "    return energy, N\n",
    "end"
   ]
  },
  {
   "cell_type": "code",
   "execution_count": 42,
   "metadata": {},
   "outputs": [
    {
     "data": {
      "text/plain": [
       "4"
      ]
     },
     "metadata": {},
     "output_type": "display_data"
    }
   ],
   "source": [
    "t_val = 0.1\n",
    "U_val::Float64 = 2\n",
    "μ_val::Float64 = 0\n",
    "sites::Int = 4"
   ]
  },
  {
   "cell_type": "code",
   "execution_count": 43,
   "metadata": {},
   "outputs": [
    {
     "name": "stdout",
     "output_type": "stream",
     "text": [
      "After sweep 1 energy=-0.08182451152062864  maxlinkdim=9 maxerr=0.00E+00 time=0.015\n"
     ]
    },
    {
     "name": "stdout",
     "output_type": "stream",
     "text": [
      "After sweep 2 energy=-0.08183179428408494  maxlinkdim=9 maxerr=0.00E+00 time=0.048\n"
     ]
    },
    {
     "name": "stdout",
     "output_type": "stream",
     "text": [
      "After sweep 3 energy=-0.08183179428408671  maxlinkdim=9 maxerr=0.00E+00 time=0.020\n"
     ]
    },
    {
     "name": "stdout",
     "output_type": "stream",
     "text": [
      "After sweep 4 energy=-0.08183179428408756  maxlinkdim=9 maxerr=0.00E+00 time=0.020\n"
     ]
    },
    {
     "name": "stdout",
     "output_type": "stream",
     "text": [
      "After sweep 5 energy=-0.08183179428408756  maxlinkdim=9 maxerr=0.00E+00 time=0.011\n"
     ]
    },
    {
     "name": "stdout",
     "output_type": "stream",
     "text": [
      "After sweep 6 energy=-0.08183179428408756  maxlinkdim=9 maxerr=0.00E+00 time=0.011\n"
     ]
    },
    {
     "name": "stdout",
     "output_type": "stream",
     "text": [
      "After sweep 7 energy=-0.08183179428408756  maxlinkdim=9 maxerr=0.00E+00 time=0.012\n"
     ]
    },
    {
     "name": "stdout",
     "output_type": "stream",
     "text": [
      "After sweep 8 energy=-0.08183179428408756  maxlinkdim=9 maxerr=0.00E+00 time=0.034\n"
     ]
    },
    {
     "name": "stdout",
     "output_type": "stream",
     "text": [
      "After sweep 9 energy=-0.08183179428408756  maxlinkdim=9 maxerr=0.00E+00 time=0.011\n"
     ]
    },
    {
     "name": "stdout",
     "output_type": "stream",
     "text": [
      "After sweep 10 energy=-0.08183179428408754  maxlinkdim=9 maxerr=0.00E+00 time=0.011\n"
     ]
    },
    {
     "name": "stdout",
     "output_type": "stream",
     "text": [
      "flux(psi) = QN(\"Number\",4)\n"
     ]
    },
    {
     "data": {
      "text/plain": [
       "(-0.08183179428408754, [1.0000000000000002, 0.9999999999999999, 1.0000000000000002, 1.0000000000000002])"
      ]
     },
     "metadata": {},
     "output_type": "display_data"
    }
   ],
   "source": [
    "E, N = HubbardDMRG(t_val, U_val, μ_val, sites)"
   ]
  },
  {
   "cell_type": "code",
   "execution_count": 5,
   "metadata": {},
   "outputs": [],
   "source": []
  }
 ],
 "metadata": {
  "kernelspec": {
   "display_name": "Julia 1.8.5",
   "language": "julia",
   "name": "julia-1.8"
  },
  "language_info": {
   "file_extension": ".jl",
   "mimetype": "application/julia",
   "name": "julia",
   "version": "1.8.5"
  },
  "orig_nbformat": 4
 },
 "nbformat": 4,
 "nbformat_minor": 2
}
