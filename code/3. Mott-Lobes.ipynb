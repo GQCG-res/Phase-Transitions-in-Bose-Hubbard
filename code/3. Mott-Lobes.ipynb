{
 "cells": [
  {
   "cell_type": "code",
   "execution_count": 1,
   "metadata": {},
   "outputs": [],
   "source": [
    "import prototypes.BoseHubbardModel as bh\n",
    "import numpy as np\n",
    "import pandas as pd\n",
    "import scipy.optimize as opt\n",
    "import plotly\n",
    "import plotly.graph_objects as go\n",
    "import time"
   ]
  },
  {
   "attachments": {},
   "cell_type": "markdown",
   "metadata": {},
   "source": [
    "We define the chemical potential in this case as the energy required to add or remove a particle.\n",
    "\\begin{align}\n",
    "    \\mu^p(L) &= E_0(L, N+1) - E_0(L, N) \\\\\n",
    "    \\mu^h(L) &= E_0(L, N) - E_0(L, N-1)\n",
    "\\end{align}"
   ]
  },
  {
   "cell_type": "code",
   "execution_count": 30,
   "metadata": {},
   "outputs": [],
   "source": [
    "def chemicalPotential(sites, bosons, boson_limit, t, U, site_potentials, boundary_conditions):\n",
    "    H_n = bh.BoseHubbardHamiltonian(sites, bosons, t, U, [site_potentials]*sites, boundary_conditions)\n",
    "    basis_n = bh.ONVBasis(sites, bosons, boson_limit)\n",
    "    H_n_eval = basis_n.evaluateHamiltonian(H_n)\n",
    "\n",
    "    H_n_plus_1 = bh.BoseHubbardHamiltonian(sites, bosons+1, t, U, [site_potentials]*sites, boundary_conditions)\n",
    "    basis_n_plus_1 = bh.ONVBasis(sites, bosons+1, boson_limit)\n",
    "    H_n_plus_1_eval = basis_n_plus_1.evaluateHamiltonian(H_n_plus_1)\n",
    "\n",
    "    H_n_min_1 = bh.BoseHubbardHamiltonian(sites, bosons-1, t, U, [site_potentials]*sites, boundary_conditions)\n",
    "    basis_n_min_1 = bh.ONVBasis(sites, bosons-1, boson_limit)\n",
    "    H_n_min_1_eval = basis_n_min_1.evaluateHamiltonian(H_n_min_1)\n",
    "\n",
    "    E_n = bh.BoseHubbardSolver(H_n_eval).groundState().energy\n",
    "    E_n_plus_1 = bh.BoseHubbardSolver(H_n_plus_1_eval).groundState().energy\n",
    "    E_n_min_1 = bh.BoseHubbardSolver(H_n_min_1_eval).groundState().energy\n",
    "\n",
    "    return E_n_plus_1 - E_n, E_n - E_n_min_1\n",
    "\n",
    "def chemicalPotential_H_eval(H_n_eval, H_n_plus_1_eval, H_n_min_1_eval):\n",
    "\n",
    "    E_n = bh.BoseHubbardSolver(H_n_eval, True).groundState().energy\n",
    "    E_n_plus_1 = bh.BoseHubbardSolver(H_n_plus_1_eval, True).groundState().energy\n",
    "    E_n_min_1 = bh.BoseHubbardSolver(H_n_min_1_eval, True).groundState().energy\n",
    "\n",
    "    return E_n_plus_1 - E_n, E_n - E_n_min_1"
   ]
  },
  {
   "cell_type": "code",
   "execution_count": 20,
   "metadata": {},
   "outputs": [],
   "source": [
    "def generate_H(sites, bosons, boson_limit, U, site_potentials, boundary_conditions):\n",
    "    H_diag = bh.BoseHubbardHamiltonian(sites, bosons, 0, U, [site_potentials]*sites, boundary_conditions)\n",
    "    H_hop = bh.BoseHubbardHamiltonian(sites, bosons, 1, 0, [0]*sites, boundary_conditions)\n",
    "    basis = bh.ONVBasis(sites, bosons, boson_limit)\n",
    "    H_diag_eval = basis.evaluateHamiltonian(H_diag)\n",
    "    H_hop_eval = basis.evaluateHamiltonian(H_hop)\n",
    "\n",
    "    return H_diag_eval, H_hop_eval"
   ]
  },
  {
   "cell_type": "code",
   "execution_count": null,
   "metadata": {},
   "outputs": [],
   "source": [
    "sites, bosons = 12, 12\n",
    "H_n_eval_diag, H_n_eval_hop = generate_H(sites, bosons, None, 2, 0, True)\n",
    "H_n_plus_1_eval_diag, H_n_plus_1_eval_hop = generate_H(sites, bosons + 1, None, 2, 0, True)\n",
    "H_n_min_1_eval_diag, H_n_min_1_eval_hop = generate_H(sites, bosons - 1, None, 2, 0, True)\n",
    "\n",
    "chemical_potentials_upper = []\n",
    "chemical_potentials_lower = []\n",
    "t_U_values = []\n",
    "\n",
    "for t in np.arange(0.0, 2.0, 0.1):\n",
    "     H_n_eval = H_n_eval_diag + H_n_eval_hop * t\n",
    "     H_n_plus_1_eval = H_n_plus_1_eval_diag + H_n_plus_1_eval_hop * t\n",
    "     H_n_min_1_eval = H_n_min_1_eval_diag + H_n_min_1_eval_hop * t\n",
    "     mu_upper, mu_lower = chemicalPotential_H_eval(H_n_eval, H_n_plus_1_eval, H_n_min_1_eval)\n",
    "     chemical_potentials_upper.append(mu_upper/2) # divided by U\n",
    "     chemical_potentials_lower.append(mu_lower/2) # divided by U\n",
    "     t_U_values.append(t/2) # divide by U "
   ]
  },
  {
   "cell_type": "code",
   "execution_count": 23,
   "metadata": {},
   "outputs": [],
   "source": [
    "def plot(potentials_upper, potentials_lower, t_vals):\n",
    "\n",
    "    figure = go.Figure()\n",
    "    colors = plotly.colors.DEFAULT_PLOTLY_COLORS\n",
    "    \n",
    "    figure.add_trace(go.Scatter(\n",
    "        mode = 'markers+lines',\n",
    "        marker=dict(color=colors[0].replace(\")\", \"\").replace(\"rgb\", \"rgba\")+', 1)', size=5),\n",
    "        line=dict(color=colors[0].replace(\")\", \"\").replace(\"rgb\", \"rgba\")+', 0.3)', width=5),\n",
    "        x = t_vals,\n",
    "        y = potentials_upper))\n",
    "\n",
    "    figure.add_trace(go.Scatter(\n",
    "        mode = 'markers+lines',\n",
    "        marker=dict(color=colors[0].replace(\")\", \"\").replace(\"rgb\", \"rgba\")+', 1)', size=5),\n",
    "        line=dict(color=colors[0].replace(\")\", \"\").replace(\"rgb\", \"rgba\")+', 0.3)', width=5),\n",
    "        x = t_vals,\n",
    "        y = potentials_lower))\n",
    "    \n",
    "\n",
    "    figure.update_xaxes(title_text='t/U (a.u.)',\n",
    "                        ticks=\"inside\",\n",
    "                        nticks = 5, showgrid=True, zeroline=True, linecolor=\"black\", gridcolor=\"gray\", zerolinecolor=\"black\", tickfont=dict(size=24), tickformat=\".1f\" )\n",
    "    figure.update_yaxes(title_text='μ/U (a.u.)',\n",
    "                        ticks=\"inside\", showgrid=True, zeroline=True, linecolor=\"black\", gridcolor=\"gray\", zerolinecolor=\"black\", tickfont=dict(size=24), tickformat=\".2f\")\n",
    "    figure.update_layout(paper_bgcolor='rgba(0,0,0,0)', plot_bgcolor='rgba(0,0,0,0)')\n",
    "    figure.update_layout(font=dict(size=26))\n",
    "    figure.update_layout(height = 800, width = 1200)\n",
    "\n",
    "    figure.show()"
   ]
  },
  {
   "cell_type": "code",
   "execution_count": 28,
   "metadata": {},
   "outputs": [
    {
     "data": {
      "application/vnd.plotly.v1+json": {
       "config": {
        "plotlyServerURL": "https://plot.ly"
       },
       "data": [
        {
         "line": {
          "color": "rgba(31, 119, 180, 0.3)",
          "width": 5
         },
         "marker": {
          "color": "rgba(31, 119, 180, 1)",
          "size": 5
         },
         "mode": "markers+lines",
         "type": "scatter",
         "x": [
          0,
          0.05,
          0.1,
          0.15000000000000002,
          0.2,
          0.25,
          0.30000000000000004,
          0.35000000000000003,
          0.4,
          0.45,
          0.5,
          0.55,
          0.6000000000000001,
          0.65,
          0.7000000000000001,
          0.75,
          0.8,
          0.8500000000000001,
          0.9,
          0.9500000000000001
         ],
         "y": [
          1.0000000000000122,
          0.8032389028430498,
          0.616175391733,
          0.4479437146201526,
          0.3185614182824563,
          0.2219567868728043,
          0.13488596042732137,
          0.048543562679334684,
          -0.03893856573880239,
          -0.12778600471065893,
          -0.21787541418761158,
          -0.3090292409921034,
          -0.4010835220955187,
          -0.49390044899658214,
          -0.5873671632942603,
          -0.6813916447502191,
          -0.7758985896642638,
          -0.8708259562558958,
          -0.966122226800195,
          -1.0617442776893
         ]
        },
        {
         "line": {
          "color": "rgba(31, 119, 180, 0.3)",
          "width": 5
         },
         "marker": {
          "color": "rgba(31, 119, 180, 1)",
          "size": 5
         },
         "mode": "markers+lines",
         "type": "scatter",
         "x": [
          0,
          0.05,
          0.1,
          0.15000000000000002,
          0.2,
          0.25,
          0.30000000000000004,
          0.35000000000000003,
          0.4,
          0.45,
          0.5,
          0.55,
          0.6000000000000001,
          0.65,
          0.7000000000000001,
          0.75,
          0.8,
          0.8500000000000001,
          0.9,
          0.9500000000000001
         ],
         "y": [
          1.0552851084021642e-13,
          0.08987016044949457,
          0.15780326744777456,
          0.19543220959894136,
          0.1823622361221311,
          0.12560172631078537,
          0.050755925049028594,
          -0.03119871141667563,
          -0.11682253898794848,
          -0.20478786070946775,
          -0.29443286736005003,
          -0.38536240374117803,
          -0.4773128919929608,
          -0.5700961808307685,
          -0.6635719085555785,
          -0.7576320794226383,
          -0.8521916513574652,
          -0.9471824163104348,
          -1.0425488339682722,
          -1.138245095200098
         ]
        }
       ],
       "layout": {
        "font": {
         "size": 26
        },
        "height": 800,
        "paper_bgcolor": "rgba(0,0,0,0)",
        "plot_bgcolor": "rgba(0,0,0,0)",
        "template": {
         "data": {
          "bar": [
           {
            "error_x": {
             "color": "#2a3f5f"
            },
            "error_y": {
             "color": "#2a3f5f"
            },
            "marker": {
             "line": {
              "color": "#E5ECF6",
              "width": 0.5
             },
             "pattern": {
              "fillmode": "overlay",
              "size": 10,
              "solidity": 0.2
             }
            },
            "type": "bar"
           }
          ],
          "barpolar": [
           {
            "marker": {
             "line": {
              "color": "#E5ECF6",
              "width": 0.5
             },
             "pattern": {
              "fillmode": "overlay",
              "size": 10,
              "solidity": 0.2
             }
            },
            "type": "barpolar"
           }
          ],
          "carpet": [
           {
            "aaxis": {
             "endlinecolor": "#2a3f5f",
             "gridcolor": "white",
             "linecolor": "white",
             "minorgridcolor": "white",
             "startlinecolor": "#2a3f5f"
            },
            "baxis": {
             "endlinecolor": "#2a3f5f",
             "gridcolor": "white",
             "linecolor": "white",
             "minorgridcolor": "white",
             "startlinecolor": "#2a3f5f"
            },
            "type": "carpet"
           }
          ],
          "choropleth": [
           {
            "colorbar": {
             "outlinewidth": 0,
             "ticks": ""
            },
            "type": "choropleth"
           }
          ],
          "contour": [
           {
            "colorbar": {
             "outlinewidth": 0,
             "ticks": ""
            },
            "colorscale": [
             [
              0,
              "#0d0887"
             ],
             [
              0.1111111111111111,
              "#46039f"
             ],
             [
              0.2222222222222222,
              "#7201a8"
             ],
             [
              0.3333333333333333,
              "#9c179e"
             ],
             [
              0.4444444444444444,
              "#bd3786"
             ],
             [
              0.5555555555555556,
              "#d8576b"
             ],
             [
              0.6666666666666666,
              "#ed7953"
             ],
             [
              0.7777777777777778,
              "#fb9f3a"
             ],
             [
              0.8888888888888888,
              "#fdca26"
             ],
             [
              1,
              "#f0f921"
             ]
            ],
            "type": "contour"
           }
          ],
          "contourcarpet": [
           {
            "colorbar": {
             "outlinewidth": 0,
             "ticks": ""
            },
            "type": "contourcarpet"
           }
          ],
          "heatmap": [
           {
            "colorbar": {
             "outlinewidth": 0,
             "ticks": ""
            },
            "colorscale": [
             [
              0,
              "#0d0887"
             ],
             [
              0.1111111111111111,
              "#46039f"
             ],
             [
              0.2222222222222222,
              "#7201a8"
             ],
             [
              0.3333333333333333,
              "#9c179e"
             ],
             [
              0.4444444444444444,
              "#bd3786"
             ],
             [
              0.5555555555555556,
              "#d8576b"
             ],
             [
              0.6666666666666666,
              "#ed7953"
             ],
             [
              0.7777777777777778,
              "#fb9f3a"
             ],
             [
              0.8888888888888888,
              "#fdca26"
             ],
             [
              1,
              "#f0f921"
             ]
            ],
            "type": "heatmap"
           }
          ],
          "heatmapgl": [
           {
            "colorbar": {
             "outlinewidth": 0,
             "ticks": ""
            },
            "colorscale": [
             [
              0,
              "#0d0887"
             ],
             [
              0.1111111111111111,
              "#46039f"
             ],
             [
              0.2222222222222222,
              "#7201a8"
             ],
             [
              0.3333333333333333,
              "#9c179e"
             ],
             [
              0.4444444444444444,
              "#bd3786"
             ],
             [
              0.5555555555555556,
              "#d8576b"
             ],
             [
              0.6666666666666666,
              "#ed7953"
             ],
             [
              0.7777777777777778,
              "#fb9f3a"
             ],
             [
              0.8888888888888888,
              "#fdca26"
             ],
             [
              1,
              "#f0f921"
             ]
            ],
            "type": "heatmapgl"
           }
          ],
          "histogram": [
           {
            "marker": {
             "pattern": {
              "fillmode": "overlay",
              "size": 10,
              "solidity": 0.2
             }
            },
            "type": "histogram"
           }
          ],
          "histogram2d": [
           {
            "colorbar": {
             "outlinewidth": 0,
             "ticks": ""
            },
            "colorscale": [
             [
              0,
              "#0d0887"
             ],
             [
              0.1111111111111111,
              "#46039f"
             ],
             [
              0.2222222222222222,
              "#7201a8"
             ],
             [
              0.3333333333333333,
              "#9c179e"
             ],
             [
              0.4444444444444444,
              "#bd3786"
             ],
             [
              0.5555555555555556,
              "#d8576b"
             ],
             [
              0.6666666666666666,
              "#ed7953"
             ],
             [
              0.7777777777777778,
              "#fb9f3a"
             ],
             [
              0.8888888888888888,
              "#fdca26"
             ],
             [
              1,
              "#f0f921"
             ]
            ],
            "type": "histogram2d"
           }
          ],
          "histogram2dcontour": [
           {
            "colorbar": {
             "outlinewidth": 0,
             "ticks": ""
            },
            "colorscale": [
             [
              0,
              "#0d0887"
             ],
             [
              0.1111111111111111,
              "#46039f"
             ],
             [
              0.2222222222222222,
              "#7201a8"
             ],
             [
              0.3333333333333333,
              "#9c179e"
             ],
             [
              0.4444444444444444,
              "#bd3786"
             ],
             [
              0.5555555555555556,
              "#d8576b"
             ],
             [
              0.6666666666666666,
              "#ed7953"
             ],
             [
              0.7777777777777778,
              "#fb9f3a"
             ],
             [
              0.8888888888888888,
              "#fdca26"
             ],
             [
              1,
              "#f0f921"
             ]
            ],
            "type": "histogram2dcontour"
           }
          ],
          "mesh3d": [
           {
            "colorbar": {
             "outlinewidth": 0,
             "ticks": ""
            },
            "type": "mesh3d"
           }
          ],
          "parcoords": [
           {
            "line": {
             "colorbar": {
              "outlinewidth": 0,
              "ticks": ""
             }
            },
            "type": "parcoords"
           }
          ],
          "pie": [
           {
            "automargin": true,
            "type": "pie"
           }
          ],
          "scatter": [
           {
            "fillpattern": {
             "fillmode": "overlay",
             "size": 10,
             "solidity": 0.2
            },
            "type": "scatter"
           }
          ],
          "scatter3d": [
           {
            "line": {
             "colorbar": {
              "outlinewidth": 0,
              "ticks": ""
             }
            },
            "marker": {
             "colorbar": {
              "outlinewidth": 0,
              "ticks": ""
             }
            },
            "type": "scatter3d"
           }
          ],
          "scattercarpet": [
           {
            "marker": {
             "colorbar": {
              "outlinewidth": 0,
              "ticks": ""
             }
            },
            "type": "scattercarpet"
           }
          ],
          "scattergeo": [
           {
            "marker": {
             "colorbar": {
              "outlinewidth": 0,
              "ticks": ""
             }
            },
            "type": "scattergeo"
           }
          ],
          "scattergl": [
           {
            "marker": {
             "colorbar": {
              "outlinewidth": 0,
              "ticks": ""
             }
            },
            "type": "scattergl"
           }
          ],
          "scattermapbox": [
           {
            "marker": {
             "colorbar": {
              "outlinewidth": 0,
              "ticks": ""
             }
            },
            "type": "scattermapbox"
           }
          ],
          "scatterpolar": [
           {
            "marker": {
             "colorbar": {
              "outlinewidth": 0,
              "ticks": ""
             }
            },
            "type": "scatterpolar"
           }
          ],
          "scatterpolargl": [
           {
            "marker": {
             "colorbar": {
              "outlinewidth": 0,
              "ticks": ""
             }
            },
            "type": "scatterpolargl"
           }
          ],
          "scatterternary": [
           {
            "marker": {
             "colorbar": {
              "outlinewidth": 0,
              "ticks": ""
             }
            },
            "type": "scatterternary"
           }
          ],
          "surface": [
           {
            "colorbar": {
             "outlinewidth": 0,
             "ticks": ""
            },
            "colorscale": [
             [
              0,
              "#0d0887"
             ],
             [
              0.1111111111111111,
              "#46039f"
             ],
             [
              0.2222222222222222,
              "#7201a8"
             ],
             [
              0.3333333333333333,
              "#9c179e"
             ],
             [
              0.4444444444444444,
              "#bd3786"
             ],
             [
              0.5555555555555556,
              "#d8576b"
             ],
             [
              0.6666666666666666,
              "#ed7953"
             ],
             [
              0.7777777777777778,
              "#fb9f3a"
             ],
             [
              0.8888888888888888,
              "#fdca26"
             ],
             [
              1,
              "#f0f921"
             ]
            ],
            "type": "surface"
           }
          ],
          "table": [
           {
            "cells": {
             "fill": {
              "color": "#EBF0F8"
             },
             "line": {
              "color": "white"
             }
            },
            "header": {
             "fill": {
              "color": "#C8D4E3"
             },
             "line": {
              "color": "white"
             }
            },
            "type": "table"
           }
          ]
         },
         "layout": {
          "annotationdefaults": {
           "arrowcolor": "#2a3f5f",
           "arrowhead": 0,
           "arrowwidth": 1
          },
          "autotypenumbers": "strict",
          "coloraxis": {
           "colorbar": {
            "outlinewidth": 0,
            "ticks": ""
           }
          },
          "colorscale": {
           "diverging": [
            [
             0,
             "#8e0152"
            ],
            [
             0.1,
             "#c51b7d"
            ],
            [
             0.2,
             "#de77ae"
            ],
            [
             0.3,
             "#f1b6da"
            ],
            [
             0.4,
             "#fde0ef"
            ],
            [
             0.5,
             "#f7f7f7"
            ],
            [
             0.6,
             "#e6f5d0"
            ],
            [
             0.7,
             "#b8e186"
            ],
            [
             0.8,
             "#7fbc41"
            ],
            [
             0.9,
             "#4d9221"
            ],
            [
             1,
             "#276419"
            ]
           ],
           "sequential": [
            [
             0,
             "#0d0887"
            ],
            [
             0.1111111111111111,
             "#46039f"
            ],
            [
             0.2222222222222222,
             "#7201a8"
            ],
            [
             0.3333333333333333,
             "#9c179e"
            ],
            [
             0.4444444444444444,
             "#bd3786"
            ],
            [
             0.5555555555555556,
             "#d8576b"
            ],
            [
             0.6666666666666666,
             "#ed7953"
            ],
            [
             0.7777777777777778,
             "#fb9f3a"
            ],
            [
             0.8888888888888888,
             "#fdca26"
            ],
            [
             1,
             "#f0f921"
            ]
           ],
           "sequentialminus": [
            [
             0,
             "#0d0887"
            ],
            [
             0.1111111111111111,
             "#46039f"
            ],
            [
             0.2222222222222222,
             "#7201a8"
            ],
            [
             0.3333333333333333,
             "#9c179e"
            ],
            [
             0.4444444444444444,
             "#bd3786"
            ],
            [
             0.5555555555555556,
             "#d8576b"
            ],
            [
             0.6666666666666666,
             "#ed7953"
            ],
            [
             0.7777777777777778,
             "#fb9f3a"
            ],
            [
             0.8888888888888888,
             "#fdca26"
            ],
            [
             1,
             "#f0f921"
            ]
           ]
          },
          "colorway": [
           "#636efa",
           "#EF553B",
           "#00cc96",
           "#ab63fa",
           "#FFA15A",
           "#19d3f3",
           "#FF6692",
           "#B6E880",
           "#FF97FF",
           "#FECB52"
          ],
          "font": {
           "color": "#2a3f5f"
          },
          "geo": {
           "bgcolor": "white",
           "lakecolor": "white",
           "landcolor": "#E5ECF6",
           "showlakes": true,
           "showland": true,
           "subunitcolor": "white"
          },
          "hoverlabel": {
           "align": "left"
          },
          "hovermode": "closest",
          "mapbox": {
           "style": "light"
          },
          "paper_bgcolor": "white",
          "plot_bgcolor": "#E5ECF6",
          "polar": {
           "angularaxis": {
            "gridcolor": "white",
            "linecolor": "white",
            "ticks": ""
           },
           "bgcolor": "#E5ECF6",
           "radialaxis": {
            "gridcolor": "white",
            "linecolor": "white",
            "ticks": ""
           }
          },
          "scene": {
           "xaxis": {
            "backgroundcolor": "#E5ECF6",
            "gridcolor": "white",
            "gridwidth": 2,
            "linecolor": "white",
            "showbackground": true,
            "ticks": "",
            "zerolinecolor": "white"
           },
           "yaxis": {
            "backgroundcolor": "#E5ECF6",
            "gridcolor": "white",
            "gridwidth": 2,
            "linecolor": "white",
            "showbackground": true,
            "ticks": "",
            "zerolinecolor": "white"
           },
           "zaxis": {
            "backgroundcolor": "#E5ECF6",
            "gridcolor": "white",
            "gridwidth": 2,
            "linecolor": "white",
            "showbackground": true,
            "ticks": "",
            "zerolinecolor": "white"
           }
          },
          "shapedefaults": {
           "line": {
            "color": "#2a3f5f"
           }
          },
          "ternary": {
           "aaxis": {
            "gridcolor": "white",
            "linecolor": "white",
            "ticks": ""
           },
           "baxis": {
            "gridcolor": "white",
            "linecolor": "white",
            "ticks": ""
           },
           "bgcolor": "#E5ECF6",
           "caxis": {
            "gridcolor": "white",
            "linecolor": "white",
            "ticks": ""
           }
          },
          "title": {
           "x": 0.05
          },
          "xaxis": {
           "automargin": true,
           "gridcolor": "white",
           "linecolor": "white",
           "ticks": "",
           "title": {
            "standoff": 15
           },
           "zerolinecolor": "white",
           "zerolinewidth": 2
          },
          "yaxis": {
           "automargin": true,
           "gridcolor": "white",
           "linecolor": "white",
           "ticks": "",
           "title": {
            "standoff": 15
           },
           "zerolinecolor": "white",
           "zerolinewidth": 2
          }
         }
        },
        "width": 1200,
        "xaxis": {
         "gridcolor": "gray",
         "linecolor": "black",
         "nticks": 5,
         "showgrid": true,
         "tickfont": {
          "size": 24
         },
         "tickformat": ".1f",
         "ticks": "inside",
         "title": {
          "text": "t/U (a.u.)"
         },
         "zeroline": true,
         "zerolinecolor": "black"
        },
        "yaxis": {
         "gridcolor": "gray",
         "linecolor": "black",
         "showgrid": true,
         "tickfont": {
          "size": 24
         },
         "tickformat": ".2f",
         "ticks": "inside",
         "title": {
          "text": "μ/U (a.u.)"
         },
         "zeroline": true,
         "zerolinecolor": "black"
        }
       }
      }
     },
     "metadata": {},
     "output_type": "display_data"
    }
   ],
   "source": [
    "plot(chemical_potentials_upper, chemical_potentials_lower, t_U_values)"
   ]
  }
 ],
 "metadata": {
  "kernelspec": {
   "display_name": "base",
   "language": "python",
   "name": "python3"
  },
  "language_info": {
   "codemirror_mode": {
    "name": "ipython",
    "version": 3
   },
   "file_extension": ".py",
   "mimetype": "text/x-python",
   "name": "python",
   "nbconvert_exporter": "python",
   "pygments_lexer": "ipython3",
   "version": "3.8.12"
  },
  "orig_nbformat": 4,
  "vscode": {
   "interpreter": {
    "hash": "4654e147d6fe676f31a9f86e2485eea716359f8709963986145f7c2d0088ba8c"
   }
  }
 },
 "nbformat": 4,
 "nbformat_minor": 2
}
