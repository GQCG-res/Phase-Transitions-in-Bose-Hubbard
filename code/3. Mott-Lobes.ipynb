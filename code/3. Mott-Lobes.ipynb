{
 "cells": [
  {
   "cell_type": "code",
   "execution_count": 1,
   "metadata": {},
   "outputs": [],
   "source": [
    "import prototypes.BoseHubbardModel as bh\n",
    "import numpy as np\n",
    "import pandas as pd\n",
    "import scipy.optimize as opt\n",
    "import plotly\n",
    "import plotly.graph_objects as go\n",
    "import time"
   ]
  },
  {
   "attachments": {},
   "cell_type": "markdown",
   "metadata": {},
   "source": [
    "We define the chemical potential in this case as the energy required to add or remove a particle.\n",
    "\\begin{align}\n",
    "    \\mu^p(L) &= E_0(L, N+1) - E_0(L, N) \\\\\n",
    "    \\mu^h(L) &= E_0(L, N) - E_0(L, N-1)\n",
    "\\end{align}"
   ]
  },
  {
   "cell_type": "code",
   "execution_count": 2,
   "metadata": {},
   "outputs": [],
   "source": [
    "def chemicalPotential(sites, bosons, boson_limit, t, U, site_potentials, boundary_conditions):\n",
    "    H_n = bh.BoseHubbardHamiltonian(sites, bosons, t, U, [site_potentials]*sites, boundary_conditions)\n",
    "    basis_n = bh.ONVBasis(sites, bosons, boson_limit)\n",
    "    H_n_eval = basis_n.evaluateHamiltonian(H_n)\n",
    "\n",
    "    H_n_plus_1 = bh.BoseHubbardHamiltonian(sites, bosons+1, t, U, [site_potentials]*sites, boundary_conditions)\n",
    "    basis_n_plus_1 = bh.ONVBasis(sites, bosons+1, boson_limit)\n",
    "    H_n_plus_1_eval = basis_n_plus_1.evaluateHamiltonian(H_n_plus_1)\n",
    "\n",
    "    H_n_min_1 = bh.BoseHubbardHamiltonian(sites, bosons-1, t, U, [site_potentials]*sites, boundary_conditions)\n",
    "    basis_n_min_1 = bh.ONVBasis(sites, bosons-1, boson_limit)\n",
    "    H_n_min_1_eval = basis_n_min_1.evaluateHamiltonian(H_n_min_1)\n",
    "\n",
    "    E_n = bh.BoseHubbardSolver(H_n_eval).groundState().energy\n",
    "    E_n_plus_1 = bh.BoseHubbardSolver(H_n_plus_1_eval).groundState().energy\n",
    "    E_n_min_1 = bh.BoseHubbardSolver(H_n_min_1_eval).groundState().energy\n",
    "\n",
    "    return E_n_plus_1 - E_n, E_n - E_n_min_1\n",
    "\n",
    "def chemicalPotential_H_eval(H_n_eval, H_n_plus_1_eval, H_n_min_1_eval):\n",
    "\n",
    "    E_n = bh.BoseHubbardSolver(H_n_eval, True).groundState().energy\n",
    "    E_n_plus_1 = bh.BoseHubbardSolver(H_n_plus_1_eval, True).groundState().energy\n",
    "    E_n_min_1 = bh.BoseHubbardSolver(H_n_min_1_eval, True).groundState().energy\n",
    "\n",
    "    return E_n_plus_1 - E_n, E_n - E_n_min_1"
   ]
  },
  {
   "cell_type": "code",
   "execution_count": 3,
   "metadata": {},
   "outputs": [],
   "source": [
    "def generate_H(sites, bosons, boson_limit, U, site_potentials, boundary_conditions):\n",
    "    H_diag = bh.BoseHubbardHamiltonian(sites, bosons, 0, U, [site_potentials]*sites, boundary_conditions)\n",
    "    H_hop = bh.BoseHubbardHamiltonian(sites, bosons, 1, 0, [0]*sites, boundary_conditions)\n",
    "    basis = bh.ONVBasis(sites, bosons, boson_limit)\n",
    "    H_diag_eval = basis.evaluateHamiltonian(H_diag)\n",
    "    H_hop_eval = basis.evaluateHamiltonian(H_hop)\n",
    "\n",
    "    return H_diag_eval, H_hop_eval"
   ]
  },
  {
   "cell_type": "code",
   "execution_count": 23,
   "metadata": {},
   "outputs": [],
   "source": [
    "def mottLobe(sites, bosons):\n",
    "     H_n_eval_diag, H_n_eval_hop = generate_H(sites, bosons, None, 2, 0, True)\n",
    "     H_n_plus_1_eval_diag, H_n_plus_1_eval_hop = generate_H(sites, bosons + 1, None, 2, 0, True)\n",
    "     H_n_min_1_eval_diag, H_n_min_1_eval_hop = generate_H(sites, bosons - 1, None, 2, 0, True)\n",
    "\n",
    "     chemical_potentials_upper = []\n",
    "     chemical_potentials_lower = []\n",
    "     t_U_values = []\n",
    "\n",
    "     for t in np.arange(0.0, 0.8, 0.05):\n",
    "          H_n_eval = H_n_eval_diag + H_n_eval_hop * t\n",
    "          H_n_plus_1_eval = H_n_plus_1_eval_diag + H_n_plus_1_eval_hop * t\n",
    "          H_n_min_1_eval = H_n_min_1_eval_diag + H_n_min_1_eval_hop * t\n",
    "          mu_upper, mu_lower = chemicalPotential_H_eval(H_n_eval, H_n_plus_1_eval, H_n_min_1_eval)\n",
    "          chemical_potentials_upper.append(mu_upper/2) # divided by U\n",
    "          chemical_potentials_lower.append(mu_lower/2) # divided by U\n",
    "          t_U_values.append(t/2) # divide by U\n",
    "\n",
    "     return [chemical_potentials_upper, chemical_potentials_lower, t_U_values]"
   ]
  },
  {
   "cell_type": "code",
   "execution_count": 24,
   "metadata": {},
   "outputs": [],
   "source": [
    "ML1 = mottLobe(6, 6)"
   ]
  },
  {
   "cell_type": "code",
   "execution_count": 25,
   "metadata": {},
   "outputs": [],
   "source": [
    "ML2 = mottLobe(6, 12)"
   ]
  },
  {
   "cell_type": "code",
   "execution_count": 26,
   "metadata": {},
   "outputs": [],
   "source": [
    "ML3 = mottLobe(6, 18)"
   ]
  },
  {
   "cell_type": "code",
   "execution_count": 27,
   "metadata": {},
   "outputs": [],
   "source": [
    "def plot(*lobes):\n",
    "\n",
    "    figure = go.Figure()\n",
    "    colors = plotly.colors.DEFAULT_PLOTLY_COLORS\n",
    "    \n",
    "    for i, lobe in enumerate(lobes):\n",
    "        figure.add_trace(go.Scatter(\n",
    "            name= 'ρ<sub>site</sub>=' + str(i+1),\n",
    "            mode = 'markers+lines',\n",
    "            marker=dict(color=colors[i].replace(\")\", \"\").replace(\"rgb\", \"rgba\")+', 1)', size=5),\n",
    "            line=dict(color=colors[i].replace(\")\", \"\").replace(\"rgb\", \"rgba\")+', 0.3)', width=5),\n",
    "            x = lobe[2],\n",
    "            y = lobe[0]))\n",
    "\n",
    "        figure.add_trace(go.Scatter(\n",
    "            mode = 'markers+lines',\n",
    "            marker=dict(color=colors[i].replace(\")\", \"\").replace(\"rgb\", \"rgba\")+', 1)', size=5),\n",
    "            line=dict(color=colors[i].replace(\")\", \"\").replace(\"rgb\", \"rgba\")+', 0.3)', width=5),\n",
    "            fill=\"tonexty\",\n",
    "            fillcolor=colors[i].replace(\")\", \"\").replace(\"rgb\", \"rgba\")+', 0.3)',\n",
    "            x = lobe[2],\n",
    "            y = lobe[1],\n",
    "            showlegend=False))\n",
    "    \n",
    "\n",
    "    figure.update_xaxes(title_text='t/U (a.u.)',\n",
    "                        ticks=\"inside\",\n",
    "                        nticks = 5, showgrid=True, zeroline=True, linecolor=\"black\", gridcolor=\"gray\", zerolinecolor=\"black\", tickfont=dict(size=24), tickformat=\".1f\" )\n",
    "    figure.update_yaxes(title_text='μ/U (a.u.)',\n",
    "                        ticks=\"inside\", showgrid=True, zeroline=True, linecolor=\"black\", gridcolor=\"gray\", zerolinecolor=\"black\", tickfont=dict(size=24), tickformat=\".2f\")\n",
    "    figure.update_layout(paper_bgcolor='rgba(0,0,0,0)', plot_bgcolor='rgba(0,0,0,0)')\n",
    "    figure.update_layout(font=dict(size=26))\n",
    "    figure.update_layout(height = 800, width = 1200)\n",
    "\n",
    "    figure.show()\n",
    "\n",
    "    figure.write_image(\"./figures/Mott-Lobes-ED.pdf\")\n",
    "    time.sleep(5)\n",
    "    figure.write_image(\"./figures/Mott-Lobes-ED.pdf\")"
   ]
  },
  {
   "cell_type": "code",
   "execution_count": 28,
   "metadata": {},
   "outputs": [
    {
     "data": {
      "application/vnd.plotly.v1+json": {
       "config": {
        "plotlyServerURL": "https://plot.ly"
       },
       "data": [
        {
         "line": {
          "color": "rgba(31, 119, 180, 0.3)",
          "width": 5
         },
         "marker": {
          "color": "rgba(31, 119, 180, 1)",
          "size": 5
         },
         "mode": "markers+lines",
         "name": "ρ<sub>site</sub>=1",
         "type": "scatter",
         "x": [
          0,
          0.025,
          0.05,
          0.07500000000000001,
          0.1,
          0.125,
          0.15000000000000002,
          0.17500000000000002,
          0.2,
          0.225,
          0.25,
          0.275,
          0.30000000000000004,
          0.325,
          0.35000000000000003,
          0.375
         ],
         "y": [
          0.9999999999999961,
          0.9007187758941182,
          0.8033229912597608,
          0.7089950994335189,
          0.620057452865084,
          0.5395298295117187,
          0.4693151220967602,
          0.40880404764423434,
          0.3555645629418942,
          0.30694297702921824,
          0.26093459167664856,
          0.21626251967945698,
          0.17217790045439463,
          0.12826009825801776,
          0.0842801603066361,
          0.040118379156186545
         ]
        },
        {
         "fill": "tonexty",
         "fillcolor": "rgba(31, 119, 180, 0.3)",
         "line": {
          "color": "rgba(31, 119, 180, 0.3)",
          "width": 5
         },
         "marker": {
          "color": "rgba(31, 119, 180, 1)",
          "size": 5
         },
         "mode": "markers+lines",
         "showlegend": false,
         "type": "scatter",
         "x": [
          0,
          0.025,
          0.05,
          0.07500000000000001,
          0.1,
          0.125,
          0.15000000000000002,
          0.17500000000000002,
          0.2,
          0.225,
          0.25,
          0.275,
          0.30000000000000004,
          0.325,
          0.35000000000000003,
          0.375
         ],
         "y": [
          4.529627416128973e-15,
          0.04749040899353622,
          0.08977537202333288,
          0.12589122744260836,
          0.15352391992160322,
          0.16956043280599237,
          0.17205508434965977,
          0.1617112029015667,
          0.14118264734840635,
          0.11341659937168314,
          0.08072902851882047,
          0.04469224204183697,
          0.006319349903331162,
          -0.033739951365681975,
          -0.07506124461196251,
          -0.11735913563003919
         ]
        },
        {
         "line": {
          "color": "rgba(255, 127, 14, 0.3)",
          "width": 5
         },
         "marker": {
          "color": "rgba(255, 127, 14, 1)",
          "size": 5
         },
         "mode": "markers+lines",
         "name": "ρ<sub>site</sub>=2",
         "type": "scatter",
         "x": [
          0,
          0.025,
          0.05,
          0.07500000000000001,
          0.1,
          0.125,
          0.15000000000000002,
          0.17500000000000002,
          0.2,
          0.225,
          0.25,
          0.275,
          0.30000000000000004,
          0.325,
          0.35000000000000003,
          0.375
         ],
         "y": [
          2,
          1.8529159959412782,
          1.7149441124523017,
          1.597271353339388,
          1.5100058142468793,
          1.4470266293400664,
          1.3962567348211294,
          1.3503677704524026,
          1.306178466736899,
          1.262426527676812,
          1.2186245693589624,
          1.174593788713851,
          1.1302794394935516,
          1.0856764485203523,
          1.0407987112908517,
          0.9956662610501276
         ]
        },
        {
         "fill": "tonexty",
         "fillcolor": "rgba(255, 127, 14, 0.3)",
         "line": {
          "color": "rgba(255, 127, 14, 0.3)",
          "width": 5
         },
         "marker": {
          "color": "rgba(255, 127, 14, 1)",
          "size": 5
         },
         "mode": "markers+lines",
         "showlegend": false,
         "type": "scatter",
         "x": [
          0,
          0.025,
          0.05,
          0.07500000000000001,
          0.1,
          0.125,
          0.15000000000000002,
          0.17500000000000002,
          0.2,
          0.225,
          0.25,
          0.275,
          0.30000000000000004,
          0.325,
          0.35000000000000003,
          0.375
         ],
         "y": [
          1.0000000000000009,
          1.0941928306640083,
          1.1740446865270728,
          1.2284701000073284,
          1.247246797498354,
          1.2369377028178374,
          1.2104761940596882,
          1.1760649880743852,
          1.1375987340224403,
          1.0968740972261852,
          1.0547675136578816,
          1.0117400619034103,
          0.9680529837639922,
          0.9238645516105586,
          0.8792764913442492,
          0.8343576756965829
         ]
        },
        {
         "line": {
          "color": "rgba(44, 160, 44, 0.3)",
          "width": 5
         },
         "marker": {
          "color": "rgba(44, 160, 44, 1)",
          "size": 5
         },
         "mode": "markers+lines",
         "name": "ρ<sub>site</sub>=3",
         "type": "scatter",
         "x": [
          0,
          0.025,
          0.05,
          0.07500000000000001,
          0.1,
          0.125,
          0.15000000000000002,
          0.17500000000000002,
          0.2,
          0.225,
          0.25,
          0.275,
          0.30000000000000004,
          0.325,
          0.35000000000000003,
          0.375
         ],
         "y": [
          2.9999999999999254,
          2.806871423577686,
          2.641352804224468,
          2.5329084076618926,
          2.4682076725144597,
          2.419212553241577,
          2.3744551101508176,
          2.3306063940163195,
          2.286732188525395,
          2.242582583806586,
          2.1981104773717863,
          2.1533284795822425,
          2.1082643313240226,
          2.0629469469841624,
          2.0174024084860047,
          1.9716532184684397
         ]
        },
        {
         "fill": "tonexty",
         "fillcolor": "rgba(44, 160, 44, 0.3)",
         "line": {
          "color": "rgba(44, 160, 44, 0.3)",
          "width": 5
         },
         "marker": {
          "color": "rgba(44, 160, 44, 1)",
          "size": 5
         },
         "mode": "markers+lines",
         "showlegend": false,
         "type": "scatter",
         "x": [
          0,
          0.025,
          0.05,
          0.07500000000000001,
          0.1,
          0.125,
          0.15000000000000002,
          0.17500000000000002,
          0.2,
          0.225,
          0.25,
          0.275,
          0.30000000000000004,
          0.325,
          0.35000000000000003,
          0.375
         ],
         "y": [
          2.0000000000000018,
          2.1391831201444305,
          2.243561520166761,
          2.2836159931051476,
          2.273533739599726,
          2.2430741996564336,
          2.2051777415158114,
          2.164160661980567,
          2.121581839254585,
          2.0780879498768012,
          2.0339849190618207,
          1.9894350927515845,
          1.9445336500526516,
          1.8993414107617355,
          1.8539001983516714,
          1.8082405841607585
         ]
        }
       ],
       "layout": {
        "font": {
         "size": 26
        },
        "height": 800,
        "paper_bgcolor": "rgba(0,0,0,0)",
        "plot_bgcolor": "rgba(0,0,0,0)",
        "template": {
         "data": {
          "bar": [
           {
            "error_x": {
             "color": "#2a3f5f"
            },
            "error_y": {
             "color": "#2a3f5f"
            },
            "marker": {
             "line": {
              "color": "#E5ECF6",
              "width": 0.5
             },
             "pattern": {
              "fillmode": "overlay",
              "size": 10,
              "solidity": 0.2
             }
            },
            "type": "bar"
           }
          ],
          "barpolar": [
           {
            "marker": {
             "line": {
              "color": "#E5ECF6",
              "width": 0.5
             },
             "pattern": {
              "fillmode": "overlay",
              "size": 10,
              "solidity": 0.2
             }
            },
            "type": "barpolar"
           }
          ],
          "carpet": [
           {
            "aaxis": {
             "endlinecolor": "#2a3f5f",
             "gridcolor": "white",
             "linecolor": "white",
             "minorgridcolor": "white",
             "startlinecolor": "#2a3f5f"
            },
            "baxis": {
             "endlinecolor": "#2a3f5f",
             "gridcolor": "white",
             "linecolor": "white",
             "minorgridcolor": "white",
             "startlinecolor": "#2a3f5f"
            },
            "type": "carpet"
           }
          ],
          "choropleth": [
           {
            "colorbar": {
             "outlinewidth": 0,
             "ticks": ""
            },
            "type": "choropleth"
           }
          ],
          "contour": [
           {
            "colorbar": {
             "outlinewidth": 0,
             "ticks": ""
            },
            "colorscale": [
             [
              0,
              "#0d0887"
             ],
             [
              0.1111111111111111,
              "#46039f"
             ],
             [
              0.2222222222222222,
              "#7201a8"
             ],
             [
              0.3333333333333333,
              "#9c179e"
             ],
             [
              0.4444444444444444,
              "#bd3786"
             ],
             [
              0.5555555555555556,
              "#d8576b"
             ],
             [
              0.6666666666666666,
              "#ed7953"
             ],
             [
              0.7777777777777778,
              "#fb9f3a"
             ],
             [
              0.8888888888888888,
              "#fdca26"
             ],
             [
              1,
              "#f0f921"
             ]
            ],
            "type": "contour"
           }
          ],
          "contourcarpet": [
           {
            "colorbar": {
             "outlinewidth": 0,
             "ticks": ""
            },
            "type": "contourcarpet"
           }
          ],
          "heatmap": [
           {
            "colorbar": {
             "outlinewidth": 0,
             "ticks": ""
            },
            "colorscale": [
             [
              0,
              "#0d0887"
             ],
             [
              0.1111111111111111,
              "#46039f"
             ],
             [
              0.2222222222222222,
              "#7201a8"
             ],
             [
              0.3333333333333333,
              "#9c179e"
             ],
             [
              0.4444444444444444,
              "#bd3786"
             ],
             [
              0.5555555555555556,
              "#d8576b"
             ],
             [
              0.6666666666666666,
              "#ed7953"
             ],
             [
              0.7777777777777778,
              "#fb9f3a"
             ],
             [
              0.8888888888888888,
              "#fdca26"
             ],
             [
              1,
              "#f0f921"
             ]
            ],
            "type": "heatmap"
           }
          ],
          "heatmapgl": [
           {
            "colorbar": {
             "outlinewidth": 0,
             "ticks": ""
            },
            "colorscale": [
             [
              0,
              "#0d0887"
             ],
             [
              0.1111111111111111,
              "#46039f"
             ],
             [
              0.2222222222222222,
              "#7201a8"
             ],
             [
              0.3333333333333333,
              "#9c179e"
             ],
             [
              0.4444444444444444,
              "#bd3786"
             ],
             [
              0.5555555555555556,
              "#d8576b"
             ],
             [
              0.6666666666666666,
              "#ed7953"
             ],
             [
              0.7777777777777778,
              "#fb9f3a"
             ],
             [
              0.8888888888888888,
              "#fdca26"
             ],
             [
              1,
              "#f0f921"
             ]
            ],
            "type": "heatmapgl"
           }
          ],
          "histogram": [
           {
            "marker": {
             "pattern": {
              "fillmode": "overlay",
              "size": 10,
              "solidity": 0.2
             }
            },
            "type": "histogram"
           }
          ],
          "histogram2d": [
           {
            "colorbar": {
             "outlinewidth": 0,
             "ticks": ""
            },
            "colorscale": [
             [
              0,
              "#0d0887"
             ],
             [
              0.1111111111111111,
              "#46039f"
             ],
             [
              0.2222222222222222,
              "#7201a8"
             ],
             [
              0.3333333333333333,
              "#9c179e"
             ],
             [
              0.4444444444444444,
              "#bd3786"
             ],
             [
              0.5555555555555556,
              "#d8576b"
             ],
             [
              0.6666666666666666,
              "#ed7953"
             ],
             [
              0.7777777777777778,
              "#fb9f3a"
             ],
             [
              0.8888888888888888,
              "#fdca26"
             ],
             [
              1,
              "#f0f921"
             ]
            ],
            "type": "histogram2d"
           }
          ],
          "histogram2dcontour": [
           {
            "colorbar": {
             "outlinewidth": 0,
             "ticks": ""
            },
            "colorscale": [
             [
              0,
              "#0d0887"
             ],
             [
              0.1111111111111111,
              "#46039f"
             ],
             [
              0.2222222222222222,
              "#7201a8"
             ],
             [
              0.3333333333333333,
              "#9c179e"
             ],
             [
              0.4444444444444444,
              "#bd3786"
             ],
             [
              0.5555555555555556,
              "#d8576b"
             ],
             [
              0.6666666666666666,
              "#ed7953"
             ],
             [
              0.7777777777777778,
              "#fb9f3a"
             ],
             [
              0.8888888888888888,
              "#fdca26"
             ],
             [
              1,
              "#f0f921"
             ]
            ],
            "type": "histogram2dcontour"
           }
          ],
          "mesh3d": [
           {
            "colorbar": {
             "outlinewidth": 0,
             "ticks": ""
            },
            "type": "mesh3d"
           }
          ],
          "parcoords": [
           {
            "line": {
             "colorbar": {
              "outlinewidth": 0,
              "ticks": ""
             }
            },
            "type": "parcoords"
           }
          ],
          "pie": [
           {
            "automargin": true,
            "type": "pie"
           }
          ],
          "scatter": [
           {
            "fillpattern": {
             "fillmode": "overlay",
             "size": 10,
             "solidity": 0.2
            },
            "type": "scatter"
           }
          ],
          "scatter3d": [
           {
            "line": {
             "colorbar": {
              "outlinewidth": 0,
              "ticks": ""
             }
            },
            "marker": {
             "colorbar": {
              "outlinewidth": 0,
              "ticks": ""
             }
            },
            "type": "scatter3d"
           }
          ],
          "scattercarpet": [
           {
            "marker": {
             "colorbar": {
              "outlinewidth": 0,
              "ticks": ""
             }
            },
            "type": "scattercarpet"
           }
          ],
          "scattergeo": [
           {
            "marker": {
             "colorbar": {
              "outlinewidth": 0,
              "ticks": ""
             }
            },
            "type": "scattergeo"
           }
          ],
          "scattergl": [
           {
            "marker": {
             "colorbar": {
              "outlinewidth": 0,
              "ticks": ""
             }
            },
            "type": "scattergl"
           }
          ],
          "scattermapbox": [
           {
            "marker": {
             "colorbar": {
              "outlinewidth": 0,
              "ticks": ""
             }
            },
            "type": "scattermapbox"
           }
          ],
          "scatterpolar": [
           {
            "marker": {
             "colorbar": {
              "outlinewidth": 0,
              "ticks": ""
             }
            },
            "type": "scatterpolar"
           }
          ],
          "scatterpolargl": [
           {
            "marker": {
             "colorbar": {
              "outlinewidth": 0,
              "ticks": ""
             }
            },
            "type": "scatterpolargl"
           }
          ],
          "scatterternary": [
           {
            "marker": {
             "colorbar": {
              "outlinewidth": 0,
              "ticks": ""
             }
            },
            "type": "scatterternary"
           }
          ],
          "surface": [
           {
            "colorbar": {
             "outlinewidth": 0,
             "ticks": ""
            },
            "colorscale": [
             [
              0,
              "#0d0887"
             ],
             [
              0.1111111111111111,
              "#46039f"
             ],
             [
              0.2222222222222222,
              "#7201a8"
             ],
             [
              0.3333333333333333,
              "#9c179e"
             ],
             [
              0.4444444444444444,
              "#bd3786"
             ],
             [
              0.5555555555555556,
              "#d8576b"
             ],
             [
              0.6666666666666666,
              "#ed7953"
             ],
             [
              0.7777777777777778,
              "#fb9f3a"
             ],
             [
              0.8888888888888888,
              "#fdca26"
             ],
             [
              1,
              "#f0f921"
             ]
            ],
            "type": "surface"
           }
          ],
          "table": [
           {
            "cells": {
             "fill": {
              "color": "#EBF0F8"
             },
             "line": {
              "color": "white"
             }
            },
            "header": {
             "fill": {
              "color": "#C8D4E3"
             },
             "line": {
              "color": "white"
             }
            },
            "type": "table"
           }
          ]
         },
         "layout": {
          "annotationdefaults": {
           "arrowcolor": "#2a3f5f",
           "arrowhead": 0,
           "arrowwidth": 1
          },
          "autotypenumbers": "strict",
          "coloraxis": {
           "colorbar": {
            "outlinewidth": 0,
            "ticks": ""
           }
          },
          "colorscale": {
           "diverging": [
            [
             0,
             "#8e0152"
            ],
            [
             0.1,
             "#c51b7d"
            ],
            [
             0.2,
             "#de77ae"
            ],
            [
             0.3,
             "#f1b6da"
            ],
            [
             0.4,
             "#fde0ef"
            ],
            [
             0.5,
             "#f7f7f7"
            ],
            [
             0.6,
             "#e6f5d0"
            ],
            [
             0.7,
             "#b8e186"
            ],
            [
             0.8,
             "#7fbc41"
            ],
            [
             0.9,
             "#4d9221"
            ],
            [
             1,
             "#276419"
            ]
           ],
           "sequential": [
            [
             0,
             "#0d0887"
            ],
            [
             0.1111111111111111,
             "#46039f"
            ],
            [
             0.2222222222222222,
             "#7201a8"
            ],
            [
             0.3333333333333333,
             "#9c179e"
            ],
            [
             0.4444444444444444,
             "#bd3786"
            ],
            [
             0.5555555555555556,
             "#d8576b"
            ],
            [
             0.6666666666666666,
             "#ed7953"
            ],
            [
             0.7777777777777778,
             "#fb9f3a"
            ],
            [
             0.8888888888888888,
             "#fdca26"
            ],
            [
             1,
             "#f0f921"
            ]
           ],
           "sequentialminus": [
            [
             0,
             "#0d0887"
            ],
            [
             0.1111111111111111,
             "#46039f"
            ],
            [
             0.2222222222222222,
             "#7201a8"
            ],
            [
             0.3333333333333333,
             "#9c179e"
            ],
            [
             0.4444444444444444,
             "#bd3786"
            ],
            [
             0.5555555555555556,
             "#d8576b"
            ],
            [
             0.6666666666666666,
             "#ed7953"
            ],
            [
             0.7777777777777778,
             "#fb9f3a"
            ],
            [
             0.8888888888888888,
             "#fdca26"
            ],
            [
             1,
             "#f0f921"
            ]
           ]
          },
          "colorway": [
           "#636efa",
           "#EF553B",
           "#00cc96",
           "#ab63fa",
           "#FFA15A",
           "#19d3f3",
           "#FF6692",
           "#B6E880",
           "#FF97FF",
           "#FECB52"
          ],
          "font": {
           "color": "#2a3f5f"
          },
          "geo": {
           "bgcolor": "white",
           "lakecolor": "white",
           "landcolor": "#E5ECF6",
           "showlakes": true,
           "showland": true,
           "subunitcolor": "white"
          },
          "hoverlabel": {
           "align": "left"
          },
          "hovermode": "closest",
          "mapbox": {
           "style": "light"
          },
          "paper_bgcolor": "white",
          "plot_bgcolor": "#E5ECF6",
          "polar": {
           "angularaxis": {
            "gridcolor": "white",
            "linecolor": "white",
            "ticks": ""
           },
           "bgcolor": "#E5ECF6",
           "radialaxis": {
            "gridcolor": "white",
            "linecolor": "white",
            "ticks": ""
           }
          },
          "scene": {
           "xaxis": {
            "backgroundcolor": "#E5ECF6",
            "gridcolor": "white",
            "gridwidth": 2,
            "linecolor": "white",
            "showbackground": true,
            "ticks": "",
            "zerolinecolor": "white"
           },
           "yaxis": {
            "backgroundcolor": "#E5ECF6",
            "gridcolor": "white",
            "gridwidth": 2,
            "linecolor": "white",
            "showbackground": true,
            "ticks": "",
            "zerolinecolor": "white"
           },
           "zaxis": {
            "backgroundcolor": "#E5ECF6",
            "gridcolor": "white",
            "gridwidth": 2,
            "linecolor": "white",
            "showbackground": true,
            "ticks": "",
            "zerolinecolor": "white"
           }
          },
          "shapedefaults": {
           "line": {
            "color": "#2a3f5f"
           }
          },
          "ternary": {
           "aaxis": {
            "gridcolor": "white",
            "linecolor": "white",
            "ticks": ""
           },
           "baxis": {
            "gridcolor": "white",
            "linecolor": "white",
            "ticks": ""
           },
           "bgcolor": "#E5ECF6",
           "caxis": {
            "gridcolor": "white",
            "linecolor": "white",
            "ticks": ""
           }
          },
          "title": {
           "x": 0.05
          },
          "xaxis": {
           "automargin": true,
           "gridcolor": "white",
           "linecolor": "white",
           "ticks": "",
           "title": {
            "standoff": 15
           },
           "zerolinecolor": "white",
           "zerolinewidth": 2
          },
          "yaxis": {
           "automargin": true,
           "gridcolor": "white",
           "linecolor": "white",
           "ticks": "",
           "title": {
            "standoff": 15
           },
           "zerolinecolor": "white",
           "zerolinewidth": 2
          }
         }
        },
        "width": 1200,
        "xaxis": {
         "gridcolor": "gray",
         "linecolor": "black",
         "nticks": 5,
         "showgrid": true,
         "tickfont": {
          "size": 24
         },
         "tickformat": ".1f",
         "ticks": "inside",
         "title": {
          "text": "t/U (a.u.)"
         },
         "zeroline": true,
         "zerolinecolor": "black"
        },
        "yaxis": {
         "gridcolor": "gray",
         "linecolor": "black",
         "showgrid": true,
         "tickfont": {
          "size": 24
         },
         "tickformat": ".2f",
         "ticks": "inside",
         "title": {
          "text": "μ/U (a.u.)"
         },
         "zeroline": true,
         "zerolinecolor": "black"
        }
       }
      },
      "text/html": [
       "<div>                            <div id=\"e4782f59-42d3-4250-b7dc-027dd89de834\" class=\"plotly-graph-div\" style=\"height:800px; width:1200px;\"></div>            <script type=\"text/javascript\">                require([\"plotly\"], function(Plotly) {                    window.PLOTLYENV=window.PLOTLYENV || {};                                    if (document.getElementById(\"e4782f59-42d3-4250-b7dc-027dd89de834\")) {                    Plotly.newPlot(                        \"e4782f59-42d3-4250-b7dc-027dd89de834\",                        [{\"line\":{\"color\":\"rgba(31, 119, 180, 0.3)\",\"width\":5},\"marker\":{\"color\":\"rgba(31, 119, 180, 1)\",\"size\":5},\"mode\":\"markers+lines\",\"name\":\"\\u03c1<sub>site</sub>=1\",\"x\":[0.0,0.025,0.05,0.07500000000000001,0.1,0.125,0.15000000000000002,0.17500000000000002,0.2,0.225,0.25,0.275,0.30000000000000004,0.325,0.35000000000000003,0.375],\"y\":[0.9999999999999961,0.9007187758941182,0.8033229912597608,0.7089950994335189,0.620057452865084,0.5395298295117187,0.4693151220967602,0.40880404764423434,0.3555645629418942,0.30694297702921824,0.26093459167664856,0.21626251967945698,0.17217790045439463,0.12826009825801776,0.0842801603066361,0.040118379156186545],\"type\":\"scatter\"},{\"fill\":\"tonexty\",\"fillcolor\":\"rgba(31, 119, 180, 0.3)\",\"line\":{\"color\":\"rgba(31, 119, 180, 0.3)\",\"width\":5},\"marker\":{\"color\":\"rgba(31, 119, 180, 1)\",\"size\":5},\"mode\":\"markers+lines\",\"showlegend\":false,\"x\":[0.0,0.025,0.05,0.07500000000000001,0.1,0.125,0.15000000000000002,0.17500000000000002,0.2,0.225,0.25,0.275,0.30000000000000004,0.325,0.35000000000000003,0.375],\"y\":[4.529627416128973e-15,0.04749040899353622,0.08977537202333288,0.12589122744260836,0.15352391992160322,0.16956043280599237,0.17205508434965977,0.1617112029015667,0.14118264734840635,0.11341659937168314,0.08072902851882047,0.04469224204183697,0.006319349903331162,-0.033739951365681975,-0.07506124461196251,-0.11735913563003919],\"type\":\"scatter\"},{\"line\":{\"color\":\"rgba(255, 127, 14, 0.3)\",\"width\":5},\"marker\":{\"color\":\"rgba(255, 127, 14, 1)\",\"size\":5},\"mode\":\"markers+lines\",\"name\":\"\\u03c1<sub>site</sub>=2\",\"x\":[0.0,0.025,0.05,0.07500000000000001,0.1,0.125,0.15000000000000002,0.17500000000000002,0.2,0.225,0.25,0.275,0.30000000000000004,0.325,0.35000000000000003,0.375],\"y\":[2.0,1.8529159959412782,1.7149441124523017,1.597271353339388,1.5100058142468793,1.4470266293400664,1.3962567348211294,1.3503677704524026,1.306178466736899,1.262426527676812,1.2186245693589624,1.174593788713851,1.1302794394935516,1.0856764485203523,1.0407987112908517,0.9956662610501276],\"type\":\"scatter\"},{\"fill\":\"tonexty\",\"fillcolor\":\"rgba(255, 127, 14, 0.3)\",\"line\":{\"color\":\"rgba(255, 127, 14, 0.3)\",\"width\":5},\"marker\":{\"color\":\"rgba(255, 127, 14, 1)\",\"size\":5},\"mode\":\"markers+lines\",\"showlegend\":false,\"x\":[0.0,0.025,0.05,0.07500000000000001,0.1,0.125,0.15000000000000002,0.17500000000000002,0.2,0.225,0.25,0.275,0.30000000000000004,0.325,0.35000000000000003,0.375],\"y\":[1.0000000000000009,1.0941928306640083,1.1740446865270728,1.2284701000073284,1.247246797498354,1.2369377028178374,1.2104761940596882,1.1760649880743852,1.1375987340224403,1.0968740972261852,1.0547675136578816,1.0117400619034103,0.9680529837639922,0.9238645516105586,0.8792764913442492,0.8343576756965829],\"type\":\"scatter\"},{\"line\":{\"color\":\"rgba(44, 160, 44, 0.3)\",\"width\":5},\"marker\":{\"color\":\"rgba(44, 160, 44, 1)\",\"size\":5},\"mode\":\"markers+lines\",\"name\":\"\\u03c1<sub>site</sub>=3\",\"x\":[0.0,0.025,0.05,0.07500000000000001,0.1,0.125,0.15000000000000002,0.17500000000000002,0.2,0.225,0.25,0.275,0.30000000000000004,0.325,0.35000000000000003,0.375],\"y\":[2.9999999999999254,2.806871423577686,2.641352804224468,2.5329084076618926,2.4682076725144597,2.419212553241577,2.3744551101508176,2.3306063940163195,2.286732188525395,2.242582583806586,2.1981104773717863,2.1533284795822425,2.1082643313240226,2.0629469469841624,2.0174024084860047,1.9716532184684397],\"type\":\"scatter\"},{\"fill\":\"tonexty\",\"fillcolor\":\"rgba(44, 160, 44, 0.3)\",\"line\":{\"color\":\"rgba(44, 160, 44, 0.3)\",\"width\":5},\"marker\":{\"color\":\"rgba(44, 160, 44, 1)\",\"size\":5},\"mode\":\"markers+lines\",\"showlegend\":false,\"x\":[0.0,0.025,0.05,0.07500000000000001,0.1,0.125,0.15000000000000002,0.17500000000000002,0.2,0.225,0.25,0.275,0.30000000000000004,0.325,0.35000000000000003,0.375],\"y\":[2.0000000000000018,2.1391831201444305,2.243561520166761,2.2836159931051476,2.273533739599726,2.2430741996564336,2.2051777415158114,2.164160661980567,2.121581839254585,2.0780879498768012,2.0339849190618207,1.9894350927515845,1.9445336500526516,1.8993414107617355,1.8539001983516714,1.8082405841607585],\"type\":\"scatter\"}],                        {\"template\":{\"data\":{\"histogram2dcontour\":[{\"type\":\"histogram2dcontour\",\"colorbar\":{\"outlinewidth\":0,\"ticks\":\"\"},\"colorscale\":[[0.0,\"#0d0887\"],[0.1111111111111111,\"#46039f\"],[0.2222222222222222,\"#7201a8\"],[0.3333333333333333,\"#9c179e\"],[0.4444444444444444,\"#bd3786\"],[0.5555555555555556,\"#d8576b\"],[0.6666666666666666,\"#ed7953\"],[0.7777777777777778,\"#fb9f3a\"],[0.8888888888888888,\"#fdca26\"],[1.0,\"#f0f921\"]]}],\"choropleth\":[{\"type\":\"choropleth\",\"colorbar\":{\"outlinewidth\":0,\"ticks\":\"\"}}],\"histogram2d\":[{\"type\":\"histogram2d\",\"colorbar\":{\"outlinewidth\":0,\"ticks\":\"\"},\"colorscale\":[[0.0,\"#0d0887\"],[0.1111111111111111,\"#46039f\"],[0.2222222222222222,\"#7201a8\"],[0.3333333333333333,\"#9c179e\"],[0.4444444444444444,\"#bd3786\"],[0.5555555555555556,\"#d8576b\"],[0.6666666666666666,\"#ed7953\"],[0.7777777777777778,\"#fb9f3a\"],[0.8888888888888888,\"#fdca26\"],[1.0,\"#f0f921\"]]}],\"heatmap\":[{\"type\":\"heatmap\",\"colorbar\":{\"outlinewidth\":0,\"ticks\":\"\"},\"colorscale\":[[0.0,\"#0d0887\"],[0.1111111111111111,\"#46039f\"],[0.2222222222222222,\"#7201a8\"],[0.3333333333333333,\"#9c179e\"],[0.4444444444444444,\"#bd3786\"],[0.5555555555555556,\"#d8576b\"],[0.6666666666666666,\"#ed7953\"],[0.7777777777777778,\"#fb9f3a\"],[0.8888888888888888,\"#fdca26\"],[1.0,\"#f0f921\"]]}],\"heatmapgl\":[{\"type\":\"heatmapgl\",\"colorbar\":{\"outlinewidth\":0,\"ticks\":\"\"},\"colorscale\":[[0.0,\"#0d0887\"],[0.1111111111111111,\"#46039f\"],[0.2222222222222222,\"#7201a8\"],[0.3333333333333333,\"#9c179e\"],[0.4444444444444444,\"#bd3786\"],[0.5555555555555556,\"#d8576b\"],[0.6666666666666666,\"#ed7953\"],[0.7777777777777778,\"#fb9f3a\"],[0.8888888888888888,\"#fdca26\"],[1.0,\"#f0f921\"]]}],\"contourcarpet\":[{\"type\":\"contourcarpet\",\"colorbar\":{\"outlinewidth\":0,\"ticks\":\"\"}}],\"contour\":[{\"type\":\"contour\",\"colorbar\":{\"outlinewidth\":0,\"ticks\":\"\"},\"colorscale\":[[0.0,\"#0d0887\"],[0.1111111111111111,\"#46039f\"],[0.2222222222222222,\"#7201a8\"],[0.3333333333333333,\"#9c179e\"],[0.4444444444444444,\"#bd3786\"],[0.5555555555555556,\"#d8576b\"],[0.6666666666666666,\"#ed7953\"],[0.7777777777777778,\"#fb9f3a\"],[0.8888888888888888,\"#fdca26\"],[1.0,\"#f0f921\"]]}],\"surface\":[{\"type\":\"surface\",\"colorbar\":{\"outlinewidth\":0,\"ticks\":\"\"},\"colorscale\":[[0.0,\"#0d0887\"],[0.1111111111111111,\"#46039f\"],[0.2222222222222222,\"#7201a8\"],[0.3333333333333333,\"#9c179e\"],[0.4444444444444444,\"#bd3786\"],[0.5555555555555556,\"#d8576b\"],[0.6666666666666666,\"#ed7953\"],[0.7777777777777778,\"#fb9f3a\"],[0.8888888888888888,\"#fdca26\"],[1.0,\"#f0f921\"]]}],\"mesh3d\":[{\"type\":\"mesh3d\",\"colorbar\":{\"outlinewidth\":0,\"ticks\":\"\"}}],\"scatter\":[{\"fillpattern\":{\"fillmode\":\"overlay\",\"size\":10,\"solidity\":0.2},\"type\":\"scatter\"}],\"parcoords\":[{\"type\":\"parcoords\",\"line\":{\"colorbar\":{\"outlinewidth\":0,\"ticks\":\"\"}}}],\"scatterpolargl\":[{\"type\":\"scatterpolargl\",\"marker\":{\"colorbar\":{\"outlinewidth\":0,\"ticks\":\"\"}}}],\"bar\":[{\"error_x\":{\"color\":\"#2a3f5f\"},\"error_y\":{\"color\":\"#2a3f5f\"},\"marker\":{\"line\":{\"color\":\"#E5ECF6\",\"width\":0.5},\"pattern\":{\"fillmode\":\"overlay\",\"size\":10,\"solidity\":0.2}},\"type\":\"bar\"}],\"scattergeo\":[{\"type\":\"scattergeo\",\"marker\":{\"colorbar\":{\"outlinewidth\":0,\"ticks\":\"\"}}}],\"scatterpolar\":[{\"type\":\"scatterpolar\",\"marker\":{\"colorbar\":{\"outlinewidth\":0,\"ticks\":\"\"}}}],\"histogram\":[{\"marker\":{\"pattern\":{\"fillmode\":\"overlay\",\"size\":10,\"solidity\":0.2}},\"type\":\"histogram\"}],\"scattergl\":[{\"type\":\"scattergl\",\"marker\":{\"colorbar\":{\"outlinewidth\":0,\"ticks\":\"\"}}}],\"scatter3d\":[{\"type\":\"scatter3d\",\"line\":{\"colorbar\":{\"outlinewidth\":0,\"ticks\":\"\"}},\"marker\":{\"colorbar\":{\"outlinewidth\":0,\"ticks\":\"\"}}}],\"scattermapbox\":[{\"type\":\"scattermapbox\",\"marker\":{\"colorbar\":{\"outlinewidth\":0,\"ticks\":\"\"}}}],\"scatterternary\":[{\"type\":\"scatterternary\",\"marker\":{\"colorbar\":{\"outlinewidth\":0,\"ticks\":\"\"}}}],\"scattercarpet\":[{\"type\":\"scattercarpet\",\"marker\":{\"colorbar\":{\"outlinewidth\":0,\"ticks\":\"\"}}}],\"carpet\":[{\"aaxis\":{\"endlinecolor\":\"#2a3f5f\",\"gridcolor\":\"white\",\"linecolor\":\"white\",\"minorgridcolor\":\"white\",\"startlinecolor\":\"#2a3f5f\"},\"baxis\":{\"endlinecolor\":\"#2a3f5f\",\"gridcolor\":\"white\",\"linecolor\":\"white\",\"minorgridcolor\":\"white\",\"startlinecolor\":\"#2a3f5f\"},\"type\":\"carpet\"}],\"table\":[{\"cells\":{\"fill\":{\"color\":\"#EBF0F8\"},\"line\":{\"color\":\"white\"}},\"header\":{\"fill\":{\"color\":\"#C8D4E3\"},\"line\":{\"color\":\"white\"}},\"type\":\"table\"}],\"barpolar\":[{\"marker\":{\"line\":{\"color\":\"#E5ECF6\",\"width\":0.5},\"pattern\":{\"fillmode\":\"overlay\",\"size\":10,\"solidity\":0.2}},\"type\":\"barpolar\"}],\"pie\":[{\"automargin\":true,\"type\":\"pie\"}]},\"layout\":{\"autotypenumbers\":\"strict\",\"colorway\":[\"#636efa\",\"#EF553B\",\"#00cc96\",\"#ab63fa\",\"#FFA15A\",\"#19d3f3\",\"#FF6692\",\"#B6E880\",\"#FF97FF\",\"#FECB52\"],\"font\":{\"color\":\"#2a3f5f\"},\"hovermode\":\"closest\",\"hoverlabel\":{\"align\":\"left\"},\"paper_bgcolor\":\"white\",\"plot_bgcolor\":\"#E5ECF6\",\"polar\":{\"bgcolor\":\"#E5ECF6\",\"angularaxis\":{\"gridcolor\":\"white\",\"linecolor\":\"white\",\"ticks\":\"\"},\"radialaxis\":{\"gridcolor\":\"white\",\"linecolor\":\"white\",\"ticks\":\"\"}},\"ternary\":{\"bgcolor\":\"#E5ECF6\",\"aaxis\":{\"gridcolor\":\"white\",\"linecolor\":\"white\",\"ticks\":\"\"},\"baxis\":{\"gridcolor\":\"white\",\"linecolor\":\"white\",\"ticks\":\"\"},\"caxis\":{\"gridcolor\":\"white\",\"linecolor\":\"white\",\"ticks\":\"\"}},\"coloraxis\":{\"colorbar\":{\"outlinewidth\":0,\"ticks\":\"\"}},\"colorscale\":{\"sequential\":[[0.0,\"#0d0887\"],[0.1111111111111111,\"#46039f\"],[0.2222222222222222,\"#7201a8\"],[0.3333333333333333,\"#9c179e\"],[0.4444444444444444,\"#bd3786\"],[0.5555555555555556,\"#d8576b\"],[0.6666666666666666,\"#ed7953\"],[0.7777777777777778,\"#fb9f3a\"],[0.8888888888888888,\"#fdca26\"],[1.0,\"#f0f921\"]],\"sequentialminus\":[[0.0,\"#0d0887\"],[0.1111111111111111,\"#46039f\"],[0.2222222222222222,\"#7201a8\"],[0.3333333333333333,\"#9c179e\"],[0.4444444444444444,\"#bd3786\"],[0.5555555555555556,\"#d8576b\"],[0.6666666666666666,\"#ed7953\"],[0.7777777777777778,\"#fb9f3a\"],[0.8888888888888888,\"#fdca26\"],[1.0,\"#f0f921\"]],\"diverging\":[[0,\"#8e0152\"],[0.1,\"#c51b7d\"],[0.2,\"#de77ae\"],[0.3,\"#f1b6da\"],[0.4,\"#fde0ef\"],[0.5,\"#f7f7f7\"],[0.6,\"#e6f5d0\"],[0.7,\"#b8e186\"],[0.8,\"#7fbc41\"],[0.9,\"#4d9221\"],[1,\"#276419\"]]},\"xaxis\":{\"gridcolor\":\"white\",\"linecolor\":\"white\",\"ticks\":\"\",\"title\":{\"standoff\":15},\"zerolinecolor\":\"white\",\"automargin\":true,\"zerolinewidth\":2},\"yaxis\":{\"gridcolor\":\"white\",\"linecolor\":\"white\",\"ticks\":\"\",\"title\":{\"standoff\":15},\"zerolinecolor\":\"white\",\"automargin\":true,\"zerolinewidth\":2},\"scene\":{\"xaxis\":{\"backgroundcolor\":\"#E5ECF6\",\"gridcolor\":\"white\",\"linecolor\":\"white\",\"showbackground\":true,\"ticks\":\"\",\"zerolinecolor\":\"white\",\"gridwidth\":2},\"yaxis\":{\"backgroundcolor\":\"#E5ECF6\",\"gridcolor\":\"white\",\"linecolor\":\"white\",\"showbackground\":true,\"ticks\":\"\",\"zerolinecolor\":\"white\",\"gridwidth\":2},\"zaxis\":{\"backgroundcolor\":\"#E5ECF6\",\"gridcolor\":\"white\",\"linecolor\":\"white\",\"showbackground\":true,\"ticks\":\"\",\"zerolinecolor\":\"white\",\"gridwidth\":2}},\"shapedefaults\":{\"line\":{\"color\":\"#2a3f5f\"}},\"annotationdefaults\":{\"arrowcolor\":\"#2a3f5f\",\"arrowhead\":0,\"arrowwidth\":1},\"geo\":{\"bgcolor\":\"white\",\"landcolor\":\"#E5ECF6\",\"subunitcolor\":\"white\",\"showland\":true,\"showlakes\":true,\"lakecolor\":\"white\"},\"title\":{\"x\":0.05},\"mapbox\":{\"style\":\"light\"}}},\"xaxis\":{\"title\":{\"text\":\"t/U (a.u.)\"},\"tickfont\":{\"size\":24},\"ticks\":\"inside\",\"nticks\":5,\"showgrid\":true,\"zeroline\":true,\"linecolor\":\"black\",\"gridcolor\":\"gray\",\"zerolinecolor\":\"black\",\"tickformat\":\".1f\"},\"yaxis\":{\"title\":{\"text\":\"\\u03bc/U (a.u.)\"},\"tickfont\":{\"size\":24},\"ticks\":\"inside\",\"showgrid\":true,\"zeroline\":true,\"linecolor\":\"black\",\"gridcolor\":\"gray\",\"zerolinecolor\":\"black\",\"tickformat\":\".2f\"},\"paper_bgcolor\":\"rgba(0,0,0,0)\",\"plot_bgcolor\":\"rgba(0,0,0,0)\",\"font\":{\"size\":26},\"height\":800,\"width\":1200},                        {\"responsive\": true}                    ).then(function(){\n",
       "                            \n",
       "var gd = document.getElementById('e4782f59-42d3-4250-b7dc-027dd89de834');\n",
       "var x = new MutationObserver(function (mutations, observer) {{\n",
       "        var display = window.getComputedStyle(gd).display;\n",
       "        if (!display || display === 'none') {{\n",
       "            console.log([gd, 'removed!']);\n",
       "            Plotly.purge(gd);\n",
       "            observer.disconnect();\n",
       "        }}\n",
       "}});\n",
       "\n",
       "// Listen for the removal of the full notebook cells\n",
       "var notebookContainer = gd.closest('#notebook-container');\n",
       "if (notebookContainer) {{\n",
       "    x.observe(notebookContainer, {childList: true});\n",
       "}}\n",
       "\n",
       "// Listen for the clearing of the current output cell\n",
       "var outputEl = gd.closest('.output');\n",
       "if (outputEl) {{\n",
       "    x.observe(outputEl, {childList: true});\n",
       "}}\n",
       "\n",
       "                        })                };                });            </script>        </div>"
      ]
     },
     "metadata": {},
     "output_type": "display_data"
    }
   ],
   "source": [
    "plot(ML1, ML2, ML3)"
   ]
  },
  {
   "cell_type": "code",
   "execution_count": null,
   "metadata": {},
   "outputs": [],
   "source": []
  }
 ],
 "metadata": {
  "kernelspec": {
   "display_name": "base",
   "language": "python",
   "name": "python3"
  },
  "language_info": {
   "codemirror_mode": {
    "name": "ipython",
    "version": 3
   },
   "file_extension": ".py",
   "mimetype": "text/x-python",
   "name": "python",
   "nbconvert_exporter": "python",
   "pygments_lexer": "ipython3",
   "version": "3.8.10"
  },
  "orig_nbformat": 4,
  "vscode": {
   "interpreter": {
    "hash": "4654e147d6fe676f31a9f86e2485eea716359f8709963986145f7c2d0088ba8c"
   }
  }
 },
 "nbformat": 4,
 "nbformat_minor": 2
}
