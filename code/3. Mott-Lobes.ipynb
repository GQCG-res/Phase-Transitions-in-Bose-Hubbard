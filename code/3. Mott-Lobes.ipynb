{
 "cells": [
  {
   "cell_type": "code",
   "execution_count": 1,
   "metadata": {},
   "outputs": [],
   "source": [
    "import prototypes.BoseHubbardModel as bh\n",
    "import numpy as np\n",
    "import pandas as pd\n",
    "import scipy.optimize as opt\n",
    "import plotly\n",
    "import plotly.graph_objects as go\n",
    "import time"
   ]
  },
  {
   "attachments": {},
   "cell_type": "markdown",
   "metadata": {},
   "source": [
    "We define the chemical potential in this case as the energy required to add or remove a particle.\n",
    "\\begin{align}\n",
    "    \\mu^p(L) &= E_0(L, N+1) - E_0(L, N) \\\\\n",
    "    \\mu^h(L) &= E_0(L, N) - E_0(L, N-1)\n",
    "\\end{align}"
   ]
  },
  {
   "cell_type": "code",
   "execution_count": 2,
   "metadata": {},
   "outputs": [],
   "source": [
    "def chemicalPotential(sites, bosons, boson_limit, t, U, site_potentials, boundary_conditions):\n",
    "    H_n = bh.BoseHubbardHamiltonian(sites, bosons, t, U, [site_potentials]*sites, boundary_conditions)\n",
    "    basis_n = bh.ONVBasis(sites, bosons, boson_limit)\n",
    "    H_n_eval = basis_n.evaluateHamiltonian(H_n)\n",
    "\n",
    "    H_n_plus_1 = bh.BoseHubbardHamiltonian(sites, bosons+1, t, U, [site_potentials]*sites, boundary_conditions)\n",
    "    basis_n_plus_1 = bh.ONVBasis(sites, bosons+1, boson_limit)\n",
    "    H_n_plus_1_eval = basis_n_plus_1.evaluateHamiltonian(H_n_plus_1)\n",
    "\n",
    "    H_n_min_1 = bh.BoseHubbardHamiltonian(sites, bosons-1, t, U, [site_potentials]*sites, boundary_conditions)\n",
    "    basis_n_min_1 = bh.ONVBasis(sites, bosons-1, boson_limit)\n",
    "    H_n_min_1_eval = basis_n_min_1.evaluateHamiltonian(H_n_min_1)\n",
    "\n",
    "    E_n = bh.BoseHubbardSolver(H_n_eval).groundState().energy\n",
    "    E_n_plus_1 = bh.BoseHubbardSolver(H_n_plus_1_eval).groundState().energy\n",
    "    E_n_min_1 = bh.BoseHubbardSolver(H_n_min_1_eval).groundState().energy\n",
    "\n",
    "    return E_n_plus_1 - E_n, E_n - E_n_min_1\n",
    "\n",
    "def chemicalPotential_H_eval(H_n_eval, H_n_plus_1_eval, H_n_min_1_eval):\n",
    "\n",
    "    E_n = bh.BoseHubbardSolver(H_n_eval, True).groundState().energy\n",
    "    E_n_plus_1 = bh.BoseHubbardSolver(H_n_plus_1_eval, True).groundState().energy\n",
    "    E_n_min_1 = bh.BoseHubbardSolver(H_n_min_1_eval, True).groundState().energy\n",
    "\n",
    "    return E_n_plus_1 - E_n, E_n - E_n_min_1"
   ]
  },
  {
   "cell_type": "code",
   "execution_count": 3,
   "metadata": {},
   "outputs": [],
   "source": [
    "def generate_H(sites, bosons, boson_limit, U, site_potentials, boundary_conditions):\n",
    "    H_diag = bh.BoseHubbardHamiltonian(sites, bosons, 0, U, [site_potentials]*sites, boundary_conditions)\n",
    "    H_hop = bh.BoseHubbardHamiltonian(sites, bosons, 1, 0, [0]*sites, boundary_conditions)\n",
    "    basis = bh.ONVBasis(sites, bosons, boson_limit)\n",
    "    H_diag_eval = basis.evaluateHamiltonian(H_diag)\n",
    "    H_hop_eval = basis.evaluateHamiltonian(H_hop)\n",
    "\n",
    "    return H_diag_eval, H_hop_eval"
   ]
  },
  {
   "cell_type": "code",
   "execution_count": 33,
   "metadata": {},
   "outputs": [],
   "source": [
    "def mottLobe(sites, bosons):\n",
    "     H_n_eval_diag, H_n_eval_hop = generate_H(sites, bosons, None, 2, 0, True)\n",
    "     H_n_plus_1_eval_diag, H_n_plus_1_eval_hop = generate_H(sites, bosons + 1, None, 2, 0, True)\n",
    "     H_n_min_1_eval_diag, H_n_min_1_eval_hop = generate_H(sites, bosons - 1, None, 2, 0, True)\n",
    "\n",
    "     chemical_potentials_upper = []\n",
    "     chemical_potentials_lower = []\n",
    "     t_U_values = []\n",
    "\n",
    "     for t in np.arange(0.0, 0.801, 0.05):\n",
    "          H_n_eval = H_n_eval_diag + H_n_eval_hop * t\n",
    "          H_n_plus_1_eval = H_n_plus_1_eval_diag + H_n_plus_1_eval_hop * t\n",
    "          H_n_min_1_eval = H_n_min_1_eval_diag + H_n_min_1_eval_hop * t\n",
    "          mu_upper, mu_lower = chemicalPotential_H_eval(H_n_eval, H_n_plus_1_eval, H_n_min_1_eval)\n",
    "          chemical_potentials_upper.append(mu_upper/2) # divided by U\n",
    "          chemical_potentials_lower.append(mu_lower/2) # divided by U\n",
    "          t_U_values.append(t/2) # divide by U\n",
    "\n",
    "     return [chemical_potentials_upper, chemical_potentials_lower, t_U_values]"
   ]
  },
  {
   "cell_type": "code",
   "execution_count": 34,
   "metadata": {},
   "outputs": [],
   "source": [
    "ML1 = mottLobe(6, 6)"
   ]
  },
  {
   "cell_type": "code",
   "execution_count": 35,
   "metadata": {},
   "outputs": [],
   "source": [
    "ML2 = mottLobe(6, 12)"
   ]
  },
  {
   "cell_type": "code",
   "execution_count": 36,
   "metadata": {},
   "outputs": [],
   "source": [
    "ML3 = mottLobe(6, 18)"
   ]
  },
  {
   "cell_type": "code",
   "execution_count": 37,
   "metadata": {},
   "outputs": [],
   "source": [
    "def plot(*lobes):\n",
    "\n",
    "    figure = go.Figure()\n",
    "    colors = plotly.colors.DEFAULT_PLOTLY_COLORS\n",
    "    \n",
    "    for i, lobe in enumerate(lobes):\n",
    "        figure.add_trace(go.Scatter(\n",
    "            name= 'ρ<sub>site</sub>=' + str(i+1),\n",
    "            mode = 'markers+lines',\n",
    "            marker=dict(color=colors[i].replace(\")\", \"\").replace(\"rgb\", \"rgba\")+', 1)', size=5),\n",
    "            line=dict(color=colors[i].replace(\")\", \"\").replace(\"rgb\", \"rgba\")+', 0.3)', width=5),\n",
    "            x = lobe[2],\n",
    "            y = lobe[0]))\n",
    "\n",
    "        figure.add_trace(go.Scatter(\n",
    "            mode = 'markers+lines',\n",
    "            marker=dict(color=colors[i].replace(\")\", \"\").replace(\"rgb\", \"rgba\")+', 1)', size=5),\n",
    "            line=dict(color=colors[i].replace(\")\", \"\").replace(\"rgb\", \"rgba\")+', 0.3)', width=5),\n",
    "            fill=\"tonexty\",\n",
    "            fillcolor=colors[i].replace(\")\", \"\").replace(\"rgb\", \"rgba\")+', 0.3)',\n",
    "            x = lobe[2],\n",
    "            y = lobe[1],\n",
    "            showlegend=False))\n",
    "    \n",
    "\n",
    "    figure.update_xaxes(title_text='t/U (a.u.)',\n",
    "                        ticks=\"inside\",\n",
    "                        nticks = 5, showgrid=True, zeroline=True, linecolor=\"black\", gridcolor=\"gray\", zerolinecolor=\"black\", tickfont=dict(size=24), tickformat=\".1f\", range=[0, 0.4])\n",
    "    figure.update_yaxes(title_text='μ/U (a.u.)',\n",
    "                        ticks=\"inside\", showgrid=True, zeroline=True, linecolor=\"black\", gridcolor=\"gray\", zerolinecolor=\"black\", tickfont=dict(size=24), tickformat=\".2f\")\n",
    "    figure.update_layout(paper_bgcolor='rgba(0,0,0,0)', plot_bgcolor='rgba(0,0,0,0)')\n",
    "    figure.update_layout(font=dict(size=26))\n",
    "    figure.update_layout(height = 800, width = 1200)\n",
    "\n",
    "    figure.show()\n",
    "\n",
    "    figure.write_image(\"./figures/Mott-Lobes-ED.pdf\")\n",
    "    time.sleep(5)\n",
    "    figure.write_image(\"./figures/Mott-Lobes-ED.pdf\")"
   ]
  },
  {
   "cell_type": "code",
   "execution_count": 38,
   "metadata": {},
   "outputs": [
    {
     "data": {
      "application/vnd.plotly.v1+json": {
       "config": {
        "plotlyServerURL": "https://plot.ly"
       },
       "data": [
        {
         "line": {
          "color": "rgba(31, 119, 180, 0.3)",
          "width": 5
         },
         "marker": {
          "color": "rgba(31, 119, 180, 1)",
          "size": 5
         },
         "mode": "markers+lines",
         "name": "ρ<sub>site</sub>=1",
         "type": "scatter",
         "x": [
          0,
          0.025,
          0.05,
          0.07500000000000001,
          0.1,
          0.125,
          0.15000000000000002,
          0.17500000000000002,
          0.2,
          0.225,
          0.25,
          0.275,
          0.30000000000000004,
          0.325,
          0.35000000000000003,
          0.375,
          0.4
         ],
         "y": [
          1.0000000000000007,
          0.9007187758941173,
          0.803322991259761,
          0.7089950994335165,
          0.620057452865084,
          0.5395298295117175,
          0.4693151220967567,
          0.40880404764422956,
          0.3555645629418879,
          0.30694297702921947,
          0.260934591676659,
          0.21626251967945542,
          0.1721779004543953,
          0.128260098258016,
          0.0842801603066392,
          0.04011837915618388,
          -0.004283268687882202
         ]
        },
        {
         "fill": "tonexty",
         "fillcolor": "rgba(31, 119, 180, 0.3)",
         "line": {
          "color": "rgba(31, 119, 180, 0.3)",
          "width": 5
         },
         "marker": {
          "color": "rgba(31, 119, 180, 1)",
          "size": 5
         },
         "mode": "markers+lines",
         "showlegend": false,
         "type": "scatter",
         "x": [
          0,
          0.025,
          0.05,
          0.07500000000000001,
          0.1,
          0.125,
          0.15000000000000002,
          0.17500000000000002,
          0.2,
          0.225,
          0.25,
          0.275,
          0.30000000000000004,
          0.325,
          0.35000000000000003,
          0.375,
          0.4
         ],
         "y": [
          2.513396761691982e-15,
          0.047490408993536355,
          0.08977537202333569,
          0.1258912274426071,
          0.1535239199216026,
          0.16956043280599475,
          0.17205508434965922,
          0.16171120290156893,
          0.14118264734841002,
          0.1134165993716858,
          0.08072902851881225,
          0.04469224204183653,
          0.006319349903328941,
          -0.03373995136568464,
          -0.0750612446119665,
          -0.1173591356300423,
          -0.1604353565790646
         ]
        },
        {
         "line": {
          "color": "rgba(255, 127, 14, 0.3)",
          "width": 5
         },
         "marker": {
          "color": "rgba(255, 127, 14, 1)",
          "size": 5
         },
         "mode": "markers+lines",
         "name": "ρ<sub>site</sub>=2",
         "type": "scatter",
         "x": [
          0,
          0.025,
          0.05,
          0.07500000000000001,
          0.1,
          0.125,
          0.15000000000000002,
          0.17500000000000002,
          0.2,
          0.225,
          0.25,
          0.275,
          0.30000000000000004,
          0.325,
          0.35000000000000003,
          0.375,
          0.4
         ],
         "y": [
          1.9999999999999005,
          1.852915995941272,
          1.7149441124523142,
          1.597271353339342,
          1.5100058142468615,
          1.447026629340085,
          1.3962567348211303,
          1.3503677704524124,
          1.3061784667368972,
          1.2624265276768192,
          1.2186245693589526,
          1.1745937887138562,
          1.1302794394935711,
          1.0856764485203696,
          1.040798711290864,
          0.9956662610501295,
          0.9502999683164313
         ]
        },
        {
         "fill": "tonexty",
         "fillcolor": "rgba(255, 127, 14, 0.3)",
         "line": {
          "color": "rgba(255, 127, 14, 0.3)",
          "width": 5
         },
         "marker": {
          "color": "rgba(255, 127, 14, 1)",
          "size": 5
         },
         "mode": "markers+lines",
         "showlegend": false,
         "type": "scatter",
         "x": [
          0,
          0.025,
          0.05,
          0.07500000000000001,
          0.1,
          0.125,
          0.15000000000000002,
          0.17500000000000002,
          0.2,
          0.225,
          0.25,
          0.275,
          0.30000000000000004,
          0.325,
          0.35000000000000003,
          0.375,
          0.4
         ],
         "y": [
          1.0000000000000195,
          1.094192830664042,
          1.1740446865270924,
          1.2284701000073266,
          1.2472467974983523,
          1.2369377028178272,
          1.2104761940596798,
          1.1760649880743879,
          1.137598734022431,
          1.0968740972261894,
          1.0547675136578816,
          1.0117400619034171,
          0.9680529837639817,
          0.9238645516105485,
          0.8792764913442417,
          0.8343576756965767,
          0.7891569284882969
         ]
        },
        {
         "line": {
          "color": "rgba(44, 160, 44, 0.3)",
          "width": 5
         },
         "marker": {
          "color": "rgba(44, 160, 44, 1)",
          "size": 5
         },
         "mode": "markers+lines",
         "name": "ρ<sub>site</sub>=3",
         "type": "scatter",
         "x": [
          0,
          0.025,
          0.05,
          0.07500000000000001,
          0.1,
          0.125,
          0.15000000000000002,
          0.17500000000000002,
          0.2,
          0.225,
          0.25,
          0.275,
          0.30000000000000004,
          0.325,
          0.35000000000000003,
          0.375,
          0.4
         ],
         "y": [
          2.9999999999999396,
          2.806871423577764,
          2.6413528042243186,
          2.532908407661914,
          2.4682076725143567,
          2.4192125532415183,
          2.37445511015075,
          2.3306063940163995,
          2.2867321885254093,
          2.2425825838066675,
          2.198110477371811,
          2.1533284795822887,
          2.1082643313240066,
          2.0629469469841073,
          2.017402408485971,
          1.971653218468406,
          1.9257185609179004
         ]
        },
        {
         "fill": "tonexty",
         "fillcolor": "rgba(44, 160, 44, 0.3)",
         "line": {
          "color": "rgba(44, 160, 44, 0.3)",
          "width": 5
         },
         "marker": {
          "color": "rgba(44, 160, 44, 1)",
          "size": 5
         },
         "mode": "markers+lines",
         "showlegend": false,
         "type": "scatter",
         "x": [
          0,
          0.025,
          0.05,
          0.07500000000000001,
          0.1,
          0.125,
          0.15000000000000002,
          0.17500000000000002,
          0.2,
          0.225,
          0.25,
          0.275,
          0.30000000000000004,
          0.325,
          0.35000000000000003,
          0.375,
          0.4
         ],
         "y": [
          2.0000000000002167,
          2.139183120144475,
          2.2435615201668924,
          2.283615993105249,
          2.2735337395997828,
          2.2430741996564336,
          2.2051777415158806,
          2.1641606619805565,
          2.1215818392546115,
          2.078087949876762,
          2.0339849190618775,
          1.9894350927515383,
          1.9445336500526818,
          1.8993414107617461,
          1.8539001983517123,
          1.8082405841608047,
          1.7623860480948927
         ]
        }
       ],
       "layout": {
        "font": {
         "size": 26
        },
        "height": 800,
        "paper_bgcolor": "rgba(0,0,0,0)",
        "plot_bgcolor": "rgba(0,0,0,0)",
        "template": {
         "data": {
          "bar": [
           {
            "error_x": {
             "color": "#2a3f5f"
            },
            "error_y": {
             "color": "#2a3f5f"
            },
            "marker": {
             "line": {
              "color": "#E5ECF6",
              "width": 0.5
             },
             "pattern": {
              "fillmode": "overlay",
              "size": 10,
              "solidity": 0.2
             }
            },
            "type": "bar"
           }
          ],
          "barpolar": [
           {
            "marker": {
             "line": {
              "color": "#E5ECF6",
              "width": 0.5
             },
             "pattern": {
              "fillmode": "overlay",
              "size": 10,
              "solidity": 0.2
             }
            },
            "type": "barpolar"
           }
          ],
          "carpet": [
           {
            "aaxis": {
             "endlinecolor": "#2a3f5f",
             "gridcolor": "white",
             "linecolor": "white",
             "minorgridcolor": "white",
             "startlinecolor": "#2a3f5f"
            },
            "baxis": {
             "endlinecolor": "#2a3f5f",
             "gridcolor": "white",
             "linecolor": "white",
             "minorgridcolor": "white",
             "startlinecolor": "#2a3f5f"
            },
            "type": "carpet"
           }
          ],
          "choropleth": [
           {
            "colorbar": {
             "outlinewidth": 0,
             "ticks": ""
            },
            "type": "choropleth"
           }
          ],
          "contour": [
           {
            "colorbar": {
             "outlinewidth": 0,
             "ticks": ""
            },
            "colorscale": [
             [
              0,
              "#0d0887"
             ],
             [
              0.1111111111111111,
              "#46039f"
             ],
             [
              0.2222222222222222,
              "#7201a8"
             ],
             [
              0.3333333333333333,
              "#9c179e"
             ],
             [
              0.4444444444444444,
              "#bd3786"
             ],
             [
              0.5555555555555556,
              "#d8576b"
             ],
             [
              0.6666666666666666,
              "#ed7953"
             ],
             [
              0.7777777777777778,
              "#fb9f3a"
             ],
             [
              0.8888888888888888,
              "#fdca26"
             ],
             [
              1,
              "#f0f921"
             ]
            ],
            "type": "contour"
           }
          ],
          "contourcarpet": [
           {
            "colorbar": {
             "outlinewidth": 0,
             "ticks": ""
            },
            "type": "contourcarpet"
           }
          ],
          "heatmap": [
           {
            "colorbar": {
             "outlinewidth": 0,
             "ticks": ""
            },
            "colorscale": [
             [
              0,
              "#0d0887"
             ],
             [
              0.1111111111111111,
              "#46039f"
             ],
             [
              0.2222222222222222,
              "#7201a8"
             ],
             [
              0.3333333333333333,
              "#9c179e"
             ],
             [
              0.4444444444444444,
              "#bd3786"
             ],
             [
              0.5555555555555556,
              "#d8576b"
             ],
             [
              0.6666666666666666,
              "#ed7953"
             ],
             [
              0.7777777777777778,
              "#fb9f3a"
             ],
             [
              0.8888888888888888,
              "#fdca26"
             ],
             [
              1,
              "#f0f921"
             ]
            ],
            "type": "heatmap"
           }
          ],
          "heatmapgl": [
           {
            "colorbar": {
             "outlinewidth": 0,
             "ticks": ""
            },
            "colorscale": [
             [
              0,
              "#0d0887"
             ],
             [
              0.1111111111111111,
              "#46039f"
             ],
             [
              0.2222222222222222,
              "#7201a8"
             ],
             [
              0.3333333333333333,
              "#9c179e"
             ],
             [
              0.4444444444444444,
              "#bd3786"
             ],
             [
              0.5555555555555556,
              "#d8576b"
             ],
             [
              0.6666666666666666,
              "#ed7953"
             ],
             [
              0.7777777777777778,
              "#fb9f3a"
             ],
             [
              0.8888888888888888,
              "#fdca26"
             ],
             [
              1,
              "#f0f921"
             ]
            ],
            "type": "heatmapgl"
           }
          ],
          "histogram": [
           {
            "marker": {
             "pattern": {
              "fillmode": "overlay",
              "size": 10,
              "solidity": 0.2
             }
            },
            "type": "histogram"
           }
          ],
          "histogram2d": [
           {
            "colorbar": {
             "outlinewidth": 0,
             "ticks": ""
            },
            "colorscale": [
             [
              0,
              "#0d0887"
             ],
             [
              0.1111111111111111,
              "#46039f"
             ],
             [
              0.2222222222222222,
              "#7201a8"
             ],
             [
              0.3333333333333333,
              "#9c179e"
             ],
             [
              0.4444444444444444,
              "#bd3786"
             ],
             [
              0.5555555555555556,
              "#d8576b"
             ],
             [
              0.6666666666666666,
              "#ed7953"
             ],
             [
              0.7777777777777778,
              "#fb9f3a"
             ],
             [
              0.8888888888888888,
              "#fdca26"
             ],
             [
              1,
              "#f0f921"
             ]
            ],
            "type": "histogram2d"
           }
          ],
          "histogram2dcontour": [
           {
            "colorbar": {
             "outlinewidth": 0,
             "ticks": ""
            },
            "colorscale": [
             [
              0,
              "#0d0887"
             ],
             [
              0.1111111111111111,
              "#46039f"
             ],
             [
              0.2222222222222222,
              "#7201a8"
             ],
             [
              0.3333333333333333,
              "#9c179e"
             ],
             [
              0.4444444444444444,
              "#bd3786"
             ],
             [
              0.5555555555555556,
              "#d8576b"
             ],
             [
              0.6666666666666666,
              "#ed7953"
             ],
             [
              0.7777777777777778,
              "#fb9f3a"
             ],
             [
              0.8888888888888888,
              "#fdca26"
             ],
             [
              1,
              "#f0f921"
             ]
            ],
            "type": "histogram2dcontour"
           }
          ],
          "mesh3d": [
           {
            "colorbar": {
             "outlinewidth": 0,
             "ticks": ""
            },
            "type": "mesh3d"
           }
          ],
          "parcoords": [
           {
            "line": {
             "colorbar": {
              "outlinewidth": 0,
              "ticks": ""
             }
            },
            "type": "parcoords"
           }
          ],
          "pie": [
           {
            "automargin": true,
            "type": "pie"
           }
          ],
          "scatter": [
           {
            "fillpattern": {
             "fillmode": "overlay",
             "size": 10,
             "solidity": 0.2
            },
            "type": "scatter"
           }
          ],
          "scatter3d": [
           {
            "line": {
             "colorbar": {
              "outlinewidth": 0,
              "ticks": ""
             }
            },
            "marker": {
             "colorbar": {
              "outlinewidth": 0,
              "ticks": ""
             }
            },
            "type": "scatter3d"
           }
          ],
          "scattercarpet": [
           {
            "marker": {
             "colorbar": {
              "outlinewidth": 0,
              "ticks": ""
             }
            },
            "type": "scattercarpet"
           }
          ],
          "scattergeo": [
           {
            "marker": {
             "colorbar": {
              "outlinewidth": 0,
              "ticks": ""
             }
            },
            "type": "scattergeo"
           }
          ],
          "scattergl": [
           {
            "marker": {
             "colorbar": {
              "outlinewidth": 0,
              "ticks": ""
             }
            },
            "type": "scattergl"
           }
          ],
          "scattermapbox": [
           {
            "marker": {
             "colorbar": {
              "outlinewidth": 0,
              "ticks": ""
             }
            },
            "type": "scattermapbox"
           }
          ],
          "scatterpolar": [
           {
            "marker": {
             "colorbar": {
              "outlinewidth": 0,
              "ticks": ""
             }
            },
            "type": "scatterpolar"
           }
          ],
          "scatterpolargl": [
           {
            "marker": {
             "colorbar": {
              "outlinewidth": 0,
              "ticks": ""
             }
            },
            "type": "scatterpolargl"
           }
          ],
          "scatterternary": [
           {
            "marker": {
             "colorbar": {
              "outlinewidth": 0,
              "ticks": ""
             }
            },
            "type": "scatterternary"
           }
          ],
          "surface": [
           {
            "colorbar": {
             "outlinewidth": 0,
             "ticks": ""
            },
            "colorscale": [
             [
              0,
              "#0d0887"
             ],
             [
              0.1111111111111111,
              "#46039f"
             ],
             [
              0.2222222222222222,
              "#7201a8"
             ],
             [
              0.3333333333333333,
              "#9c179e"
             ],
             [
              0.4444444444444444,
              "#bd3786"
             ],
             [
              0.5555555555555556,
              "#d8576b"
             ],
             [
              0.6666666666666666,
              "#ed7953"
             ],
             [
              0.7777777777777778,
              "#fb9f3a"
             ],
             [
              0.8888888888888888,
              "#fdca26"
             ],
             [
              1,
              "#f0f921"
             ]
            ],
            "type": "surface"
           }
          ],
          "table": [
           {
            "cells": {
             "fill": {
              "color": "#EBF0F8"
             },
             "line": {
              "color": "white"
             }
            },
            "header": {
             "fill": {
              "color": "#C8D4E3"
             },
             "line": {
              "color": "white"
             }
            },
            "type": "table"
           }
          ]
         },
         "layout": {
          "annotationdefaults": {
           "arrowcolor": "#2a3f5f",
           "arrowhead": 0,
           "arrowwidth": 1
          },
          "autotypenumbers": "strict",
          "coloraxis": {
           "colorbar": {
            "outlinewidth": 0,
            "ticks": ""
           }
          },
          "colorscale": {
           "diverging": [
            [
             0,
             "#8e0152"
            ],
            [
             0.1,
             "#c51b7d"
            ],
            [
             0.2,
             "#de77ae"
            ],
            [
             0.3,
             "#f1b6da"
            ],
            [
             0.4,
             "#fde0ef"
            ],
            [
             0.5,
             "#f7f7f7"
            ],
            [
             0.6,
             "#e6f5d0"
            ],
            [
             0.7,
             "#b8e186"
            ],
            [
             0.8,
             "#7fbc41"
            ],
            [
             0.9,
             "#4d9221"
            ],
            [
             1,
             "#276419"
            ]
           ],
           "sequential": [
            [
             0,
             "#0d0887"
            ],
            [
             0.1111111111111111,
             "#46039f"
            ],
            [
             0.2222222222222222,
             "#7201a8"
            ],
            [
             0.3333333333333333,
             "#9c179e"
            ],
            [
             0.4444444444444444,
             "#bd3786"
            ],
            [
             0.5555555555555556,
             "#d8576b"
            ],
            [
             0.6666666666666666,
             "#ed7953"
            ],
            [
             0.7777777777777778,
             "#fb9f3a"
            ],
            [
             0.8888888888888888,
             "#fdca26"
            ],
            [
             1,
             "#f0f921"
            ]
           ],
           "sequentialminus": [
            [
             0,
             "#0d0887"
            ],
            [
             0.1111111111111111,
             "#46039f"
            ],
            [
             0.2222222222222222,
             "#7201a8"
            ],
            [
             0.3333333333333333,
             "#9c179e"
            ],
            [
             0.4444444444444444,
             "#bd3786"
            ],
            [
             0.5555555555555556,
             "#d8576b"
            ],
            [
             0.6666666666666666,
             "#ed7953"
            ],
            [
             0.7777777777777778,
             "#fb9f3a"
            ],
            [
             0.8888888888888888,
             "#fdca26"
            ],
            [
             1,
             "#f0f921"
            ]
           ]
          },
          "colorway": [
           "#636efa",
           "#EF553B",
           "#00cc96",
           "#ab63fa",
           "#FFA15A",
           "#19d3f3",
           "#FF6692",
           "#B6E880",
           "#FF97FF",
           "#FECB52"
          ],
          "font": {
           "color": "#2a3f5f"
          },
          "geo": {
           "bgcolor": "white",
           "lakecolor": "white",
           "landcolor": "#E5ECF6",
           "showlakes": true,
           "showland": true,
           "subunitcolor": "white"
          },
          "hoverlabel": {
           "align": "left"
          },
          "hovermode": "closest",
          "mapbox": {
           "style": "light"
          },
          "paper_bgcolor": "white",
          "plot_bgcolor": "#E5ECF6",
          "polar": {
           "angularaxis": {
            "gridcolor": "white",
            "linecolor": "white",
            "ticks": ""
           },
           "bgcolor": "#E5ECF6",
           "radialaxis": {
            "gridcolor": "white",
            "linecolor": "white",
            "ticks": ""
           }
          },
          "scene": {
           "xaxis": {
            "backgroundcolor": "#E5ECF6",
            "gridcolor": "white",
            "gridwidth": 2,
            "linecolor": "white",
            "showbackground": true,
            "ticks": "",
            "zerolinecolor": "white"
           },
           "yaxis": {
            "backgroundcolor": "#E5ECF6",
            "gridcolor": "white",
            "gridwidth": 2,
            "linecolor": "white",
            "showbackground": true,
            "ticks": "",
            "zerolinecolor": "white"
           },
           "zaxis": {
            "backgroundcolor": "#E5ECF6",
            "gridcolor": "white",
            "gridwidth": 2,
            "linecolor": "white",
            "showbackground": true,
            "ticks": "",
            "zerolinecolor": "white"
           }
          },
          "shapedefaults": {
           "line": {
            "color": "#2a3f5f"
           }
          },
          "ternary": {
           "aaxis": {
            "gridcolor": "white",
            "linecolor": "white",
            "ticks": ""
           },
           "baxis": {
            "gridcolor": "white",
            "linecolor": "white",
            "ticks": ""
           },
           "bgcolor": "#E5ECF6",
           "caxis": {
            "gridcolor": "white",
            "linecolor": "white",
            "ticks": ""
           }
          },
          "title": {
           "x": 0.05
          },
          "xaxis": {
           "automargin": true,
           "gridcolor": "white",
           "linecolor": "white",
           "ticks": "",
           "title": {
            "standoff": 15
           },
           "zerolinecolor": "white",
           "zerolinewidth": 2
          },
          "yaxis": {
           "automargin": true,
           "gridcolor": "white",
           "linecolor": "white",
           "ticks": "",
           "title": {
            "standoff": 15
           },
           "zerolinecolor": "white",
           "zerolinewidth": 2
          }
         }
        },
        "width": 1200,
        "xaxis": {
         "gridcolor": "gray",
         "linecolor": "black",
         "nticks": 5,
         "range": [
          0,
          0.4
         ],
         "showgrid": true,
         "tickfont": {
          "size": 24
         },
         "tickformat": ".1f",
         "ticks": "inside",
         "title": {
          "text": "t/U (a.u.)"
         },
         "zeroline": true,
         "zerolinecolor": "black"
        },
        "yaxis": {
         "gridcolor": "gray",
         "linecolor": "black",
         "showgrid": true,
         "tickfont": {
          "size": 24
         },
         "tickformat": ".2f",
         "ticks": "inside",
         "title": {
          "text": "μ/U (a.u.)"
         },
         "zeroline": true,
         "zerolinecolor": "black"
        }
       }
      },
      "text/html": [
       "<div>                            <div id=\"bb0cf084-5218-4cec-8919-a9da7ae1a472\" class=\"plotly-graph-div\" style=\"height:800px; width:1200px;\"></div>            <script type=\"text/javascript\">                require([\"plotly\"], function(Plotly) {                    window.PLOTLYENV=window.PLOTLYENV || {};                                    if (document.getElementById(\"bb0cf084-5218-4cec-8919-a9da7ae1a472\")) {                    Plotly.newPlot(                        \"bb0cf084-5218-4cec-8919-a9da7ae1a472\",                        [{\"line\":{\"color\":\"rgba(31, 119, 180, 0.3)\",\"width\":5},\"marker\":{\"color\":\"rgba(31, 119, 180, 1)\",\"size\":5},\"mode\":\"markers+lines\",\"name\":\"\\u03c1<sub>site</sub>=1\",\"x\":[0.0,0.025,0.05,0.07500000000000001,0.1,0.125,0.15000000000000002,0.17500000000000002,0.2,0.225,0.25,0.275,0.30000000000000004,0.325,0.35000000000000003,0.375,0.4],\"y\":[1.0000000000000007,0.9007187758941173,0.803322991259761,0.7089950994335165,0.620057452865084,0.5395298295117175,0.4693151220967567,0.40880404764422956,0.3555645629418879,0.30694297702921947,0.260934591676659,0.21626251967945542,0.1721779004543953,0.128260098258016,0.0842801603066392,0.04011837915618388,-0.004283268687882202],\"type\":\"scatter\"},{\"fill\":\"tonexty\",\"fillcolor\":\"rgba(31, 119, 180, 0.3)\",\"line\":{\"color\":\"rgba(31, 119, 180, 0.3)\",\"width\":5},\"marker\":{\"color\":\"rgba(31, 119, 180, 1)\",\"size\":5},\"mode\":\"markers+lines\",\"showlegend\":false,\"x\":[0.0,0.025,0.05,0.07500000000000001,0.1,0.125,0.15000000000000002,0.17500000000000002,0.2,0.225,0.25,0.275,0.30000000000000004,0.325,0.35000000000000003,0.375,0.4],\"y\":[2.513396761691982e-15,0.047490408993536355,0.08977537202333569,0.1258912274426071,0.1535239199216026,0.16956043280599475,0.17205508434965922,0.16171120290156893,0.14118264734841002,0.1134165993716858,0.08072902851881225,0.04469224204183653,0.006319349903328941,-0.03373995136568464,-0.0750612446119665,-0.1173591356300423,-0.1604353565790646],\"type\":\"scatter\"},{\"line\":{\"color\":\"rgba(255, 127, 14, 0.3)\",\"width\":5},\"marker\":{\"color\":\"rgba(255, 127, 14, 1)\",\"size\":5},\"mode\":\"markers+lines\",\"name\":\"\\u03c1<sub>site</sub>=2\",\"x\":[0.0,0.025,0.05,0.07500000000000001,0.1,0.125,0.15000000000000002,0.17500000000000002,0.2,0.225,0.25,0.275,0.30000000000000004,0.325,0.35000000000000003,0.375,0.4],\"y\":[1.9999999999999005,1.852915995941272,1.7149441124523142,1.597271353339342,1.5100058142468615,1.447026629340085,1.3962567348211303,1.3503677704524124,1.3061784667368972,1.2624265276768192,1.2186245693589526,1.1745937887138562,1.1302794394935711,1.0856764485203696,1.040798711290864,0.9956662610501295,0.9502999683164313],\"type\":\"scatter\"},{\"fill\":\"tonexty\",\"fillcolor\":\"rgba(255, 127, 14, 0.3)\",\"line\":{\"color\":\"rgba(255, 127, 14, 0.3)\",\"width\":5},\"marker\":{\"color\":\"rgba(255, 127, 14, 1)\",\"size\":5},\"mode\":\"markers+lines\",\"showlegend\":false,\"x\":[0.0,0.025,0.05,0.07500000000000001,0.1,0.125,0.15000000000000002,0.17500000000000002,0.2,0.225,0.25,0.275,0.30000000000000004,0.325,0.35000000000000003,0.375,0.4],\"y\":[1.0000000000000195,1.094192830664042,1.1740446865270924,1.2284701000073266,1.2472467974983523,1.2369377028178272,1.2104761940596798,1.1760649880743879,1.137598734022431,1.0968740972261894,1.0547675136578816,1.0117400619034171,0.9680529837639817,0.9238645516105485,0.8792764913442417,0.8343576756965767,0.7891569284882969],\"type\":\"scatter\"},{\"line\":{\"color\":\"rgba(44, 160, 44, 0.3)\",\"width\":5},\"marker\":{\"color\":\"rgba(44, 160, 44, 1)\",\"size\":5},\"mode\":\"markers+lines\",\"name\":\"\\u03c1<sub>site</sub>=3\",\"x\":[0.0,0.025,0.05,0.07500000000000001,0.1,0.125,0.15000000000000002,0.17500000000000002,0.2,0.225,0.25,0.275,0.30000000000000004,0.325,0.35000000000000003,0.375,0.4],\"y\":[2.9999999999999396,2.806871423577764,2.6413528042243186,2.532908407661914,2.4682076725143567,2.4192125532415183,2.37445511015075,2.3306063940163995,2.2867321885254093,2.2425825838066675,2.198110477371811,2.1533284795822887,2.1082643313240066,2.0629469469841073,2.017402408485971,1.971653218468406,1.9257185609179004],\"type\":\"scatter\"},{\"fill\":\"tonexty\",\"fillcolor\":\"rgba(44, 160, 44, 0.3)\",\"line\":{\"color\":\"rgba(44, 160, 44, 0.3)\",\"width\":5},\"marker\":{\"color\":\"rgba(44, 160, 44, 1)\",\"size\":5},\"mode\":\"markers+lines\",\"showlegend\":false,\"x\":[0.0,0.025,0.05,0.07500000000000001,0.1,0.125,0.15000000000000002,0.17500000000000002,0.2,0.225,0.25,0.275,0.30000000000000004,0.325,0.35000000000000003,0.375,0.4],\"y\":[2.0000000000002167,2.139183120144475,2.2435615201668924,2.283615993105249,2.2735337395997828,2.2430741996564336,2.2051777415158806,2.1641606619805565,2.1215818392546115,2.078087949876762,2.0339849190618775,1.9894350927515383,1.9445336500526818,1.8993414107617461,1.8539001983517123,1.8082405841608047,1.7623860480948927],\"type\":\"scatter\"}],                        {\"template\":{\"data\":{\"histogram2dcontour\":[{\"type\":\"histogram2dcontour\",\"colorbar\":{\"outlinewidth\":0,\"ticks\":\"\"},\"colorscale\":[[0.0,\"#0d0887\"],[0.1111111111111111,\"#46039f\"],[0.2222222222222222,\"#7201a8\"],[0.3333333333333333,\"#9c179e\"],[0.4444444444444444,\"#bd3786\"],[0.5555555555555556,\"#d8576b\"],[0.6666666666666666,\"#ed7953\"],[0.7777777777777778,\"#fb9f3a\"],[0.8888888888888888,\"#fdca26\"],[1.0,\"#f0f921\"]]}],\"choropleth\":[{\"type\":\"choropleth\",\"colorbar\":{\"outlinewidth\":0,\"ticks\":\"\"}}],\"histogram2d\":[{\"type\":\"histogram2d\",\"colorbar\":{\"outlinewidth\":0,\"ticks\":\"\"},\"colorscale\":[[0.0,\"#0d0887\"],[0.1111111111111111,\"#46039f\"],[0.2222222222222222,\"#7201a8\"],[0.3333333333333333,\"#9c179e\"],[0.4444444444444444,\"#bd3786\"],[0.5555555555555556,\"#d8576b\"],[0.6666666666666666,\"#ed7953\"],[0.7777777777777778,\"#fb9f3a\"],[0.8888888888888888,\"#fdca26\"],[1.0,\"#f0f921\"]]}],\"heatmap\":[{\"type\":\"heatmap\",\"colorbar\":{\"outlinewidth\":0,\"ticks\":\"\"},\"colorscale\":[[0.0,\"#0d0887\"],[0.1111111111111111,\"#46039f\"],[0.2222222222222222,\"#7201a8\"],[0.3333333333333333,\"#9c179e\"],[0.4444444444444444,\"#bd3786\"],[0.5555555555555556,\"#d8576b\"],[0.6666666666666666,\"#ed7953\"],[0.7777777777777778,\"#fb9f3a\"],[0.8888888888888888,\"#fdca26\"],[1.0,\"#f0f921\"]]}],\"heatmapgl\":[{\"type\":\"heatmapgl\",\"colorbar\":{\"outlinewidth\":0,\"ticks\":\"\"},\"colorscale\":[[0.0,\"#0d0887\"],[0.1111111111111111,\"#46039f\"],[0.2222222222222222,\"#7201a8\"],[0.3333333333333333,\"#9c179e\"],[0.4444444444444444,\"#bd3786\"],[0.5555555555555556,\"#d8576b\"],[0.6666666666666666,\"#ed7953\"],[0.7777777777777778,\"#fb9f3a\"],[0.8888888888888888,\"#fdca26\"],[1.0,\"#f0f921\"]]}],\"contourcarpet\":[{\"type\":\"contourcarpet\",\"colorbar\":{\"outlinewidth\":0,\"ticks\":\"\"}}],\"contour\":[{\"type\":\"contour\",\"colorbar\":{\"outlinewidth\":0,\"ticks\":\"\"},\"colorscale\":[[0.0,\"#0d0887\"],[0.1111111111111111,\"#46039f\"],[0.2222222222222222,\"#7201a8\"],[0.3333333333333333,\"#9c179e\"],[0.4444444444444444,\"#bd3786\"],[0.5555555555555556,\"#d8576b\"],[0.6666666666666666,\"#ed7953\"],[0.7777777777777778,\"#fb9f3a\"],[0.8888888888888888,\"#fdca26\"],[1.0,\"#f0f921\"]]}],\"surface\":[{\"type\":\"surface\",\"colorbar\":{\"outlinewidth\":0,\"ticks\":\"\"},\"colorscale\":[[0.0,\"#0d0887\"],[0.1111111111111111,\"#46039f\"],[0.2222222222222222,\"#7201a8\"],[0.3333333333333333,\"#9c179e\"],[0.4444444444444444,\"#bd3786\"],[0.5555555555555556,\"#d8576b\"],[0.6666666666666666,\"#ed7953\"],[0.7777777777777778,\"#fb9f3a\"],[0.8888888888888888,\"#fdca26\"],[1.0,\"#f0f921\"]]}],\"mesh3d\":[{\"type\":\"mesh3d\",\"colorbar\":{\"outlinewidth\":0,\"ticks\":\"\"}}],\"scatter\":[{\"fillpattern\":{\"fillmode\":\"overlay\",\"size\":10,\"solidity\":0.2},\"type\":\"scatter\"}],\"parcoords\":[{\"type\":\"parcoords\",\"line\":{\"colorbar\":{\"outlinewidth\":0,\"ticks\":\"\"}}}],\"scatterpolargl\":[{\"type\":\"scatterpolargl\",\"marker\":{\"colorbar\":{\"outlinewidth\":0,\"ticks\":\"\"}}}],\"bar\":[{\"error_x\":{\"color\":\"#2a3f5f\"},\"error_y\":{\"color\":\"#2a3f5f\"},\"marker\":{\"line\":{\"color\":\"#E5ECF6\",\"width\":0.5},\"pattern\":{\"fillmode\":\"overlay\",\"size\":10,\"solidity\":0.2}},\"type\":\"bar\"}],\"scattergeo\":[{\"type\":\"scattergeo\",\"marker\":{\"colorbar\":{\"outlinewidth\":0,\"ticks\":\"\"}}}],\"scatterpolar\":[{\"type\":\"scatterpolar\",\"marker\":{\"colorbar\":{\"outlinewidth\":0,\"ticks\":\"\"}}}],\"histogram\":[{\"marker\":{\"pattern\":{\"fillmode\":\"overlay\",\"size\":10,\"solidity\":0.2}},\"type\":\"histogram\"}],\"scattergl\":[{\"type\":\"scattergl\",\"marker\":{\"colorbar\":{\"outlinewidth\":0,\"ticks\":\"\"}}}],\"scatter3d\":[{\"type\":\"scatter3d\",\"line\":{\"colorbar\":{\"outlinewidth\":0,\"ticks\":\"\"}},\"marker\":{\"colorbar\":{\"outlinewidth\":0,\"ticks\":\"\"}}}],\"scattermapbox\":[{\"type\":\"scattermapbox\",\"marker\":{\"colorbar\":{\"outlinewidth\":0,\"ticks\":\"\"}}}],\"scatterternary\":[{\"type\":\"scatterternary\",\"marker\":{\"colorbar\":{\"outlinewidth\":0,\"ticks\":\"\"}}}],\"scattercarpet\":[{\"type\":\"scattercarpet\",\"marker\":{\"colorbar\":{\"outlinewidth\":0,\"ticks\":\"\"}}}],\"carpet\":[{\"aaxis\":{\"endlinecolor\":\"#2a3f5f\",\"gridcolor\":\"white\",\"linecolor\":\"white\",\"minorgridcolor\":\"white\",\"startlinecolor\":\"#2a3f5f\"},\"baxis\":{\"endlinecolor\":\"#2a3f5f\",\"gridcolor\":\"white\",\"linecolor\":\"white\",\"minorgridcolor\":\"white\",\"startlinecolor\":\"#2a3f5f\"},\"type\":\"carpet\"}],\"table\":[{\"cells\":{\"fill\":{\"color\":\"#EBF0F8\"},\"line\":{\"color\":\"white\"}},\"header\":{\"fill\":{\"color\":\"#C8D4E3\"},\"line\":{\"color\":\"white\"}},\"type\":\"table\"}],\"barpolar\":[{\"marker\":{\"line\":{\"color\":\"#E5ECF6\",\"width\":0.5},\"pattern\":{\"fillmode\":\"overlay\",\"size\":10,\"solidity\":0.2}},\"type\":\"barpolar\"}],\"pie\":[{\"automargin\":true,\"type\":\"pie\"}]},\"layout\":{\"autotypenumbers\":\"strict\",\"colorway\":[\"#636efa\",\"#EF553B\",\"#00cc96\",\"#ab63fa\",\"#FFA15A\",\"#19d3f3\",\"#FF6692\",\"#B6E880\",\"#FF97FF\",\"#FECB52\"],\"font\":{\"color\":\"#2a3f5f\"},\"hovermode\":\"closest\",\"hoverlabel\":{\"align\":\"left\"},\"paper_bgcolor\":\"white\",\"plot_bgcolor\":\"#E5ECF6\",\"polar\":{\"bgcolor\":\"#E5ECF6\",\"angularaxis\":{\"gridcolor\":\"white\",\"linecolor\":\"white\",\"ticks\":\"\"},\"radialaxis\":{\"gridcolor\":\"white\",\"linecolor\":\"white\",\"ticks\":\"\"}},\"ternary\":{\"bgcolor\":\"#E5ECF6\",\"aaxis\":{\"gridcolor\":\"white\",\"linecolor\":\"white\",\"ticks\":\"\"},\"baxis\":{\"gridcolor\":\"white\",\"linecolor\":\"white\",\"ticks\":\"\"},\"caxis\":{\"gridcolor\":\"white\",\"linecolor\":\"white\",\"ticks\":\"\"}},\"coloraxis\":{\"colorbar\":{\"outlinewidth\":0,\"ticks\":\"\"}},\"colorscale\":{\"sequential\":[[0.0,\"#0d0887\"],[0.1111111111111111,\"#46039f\"],[0.2222222222222222,\"#7201a8\"],[0.3333333333333333,\"#9c179e\"],[0.4444444444444444,\"#bd3786\"],[0.5555555555555556,\"#d8576b\"],[0.6666666666666666,\"#ed7953\"],[0.7777777777777778,\"#fb9f3a\"],[0.8888888888888888,\"#fdca26\"],[1.0,\"#f0f921\"]],\"sequentialminus\":[[0.0,\"#0d0887\"],[0.1111111111111111,\"#46039f\"],[0.2222222222222222,\"#7201a8\"],[0.3333333333333333,\"#9c179e\"],[0.4444444444444444,\"#bd3786\"],[0.5555555555555556,\"#d8576b\"],[0.6666666666666666,\"#ed7953\"],[0.7777777777777778,\"#fb9f3a\"],[0.8888888888888888,\"#fdca26\"],[1.0,\"#f0f921\"]],\"diverging\":[[0,\"#8e0152\"],[0.1,\"#c51b7d\"],[0.2,\"#de77ae\"],[0.3,\"#f1b6da\"],[0.4,\"#fde0ef\"],[0.5,\"#f7f7f7\"],[0.6,\"#e6f5d0\"],[0.7,\"#b8e186\"],[0.8,\"#7fbc41\"],[0.9,\"#4d9221\"],[1,\"#276419\"]]},\"xaxis\":{\"gridcolor\":\"white\",\"linecolor\":\"white\",\"ticks\":\"\",\"title\":{\"standoff\":15},\"zerolinecolor\":\"white\",\"automargin\":true,\"zerolinewidth\":2},\"yaxis\":{\"gridcolor\":\"white\",\"linecolor\":\"white\",\"ticks\":\"\",\"title\":{\"standoff\":15},\"zerolinecolor\":\"white\",\"automargin\":true,\"zerolinewidth\":2},\"scene\":{\"xaxis\":{\"backgroundcolor\":\"#E5ECF6\",\"gridcolor\":\"white\",\"linecolor\":\"white\",\"showbackground\":true,\"ticks\":\"\",\"zerolinecolor\":\"white\",\"gridwidth\":2},\"yaxis\":{\"backgroundcolor\":\"#E5ECF6\",\"gridcolor\":\"white\",\"linecolor\":\"white\",\"showbackground\":true,\"ticks\":\"\",\"zerolinecolor\":\"white\",\"gridwidth\":2},\"zaxis\":{\"backgroundcolor\":\"#E5ECF6\",\"gridcolor\":\"white\",\"linecolor\":\"white\",\"showbackground\":true,\"ticks\":\"\",\"zerolinecolor\":\"white\",\"gridwidth\":2}},\"shapedefaults\":{\"line\":{\"color\":\"#2a3f5f\"}},\"annotationdefaults\":{\"arrowcolor\":\"#2a3f5f\",\"arrowhead\":0,\"arrowwidth\":1},\"geo\":{\"bgcolor\":\"white\",\"landcolor\":\"#E5ECF6\",\"subunitcolor\":\"white\",\"showland\":true,\"showlakes\":true,\"lakecolor\":\"white\"},\"title\":{\"x\":0.05},\"mapbox\":{\"style\":\"light\"}}},\"xaxis\":{\"title\":{\"text\":\"t/U (a.u.)\"},\"tickfont\":{\"size\":24},\"ticks\":\"inside\",\"nticks\":5,\"showgrid\":true,\"zeroline\":true,\"linecolor\":\"black\",\"gridcolor\":\"gray\",\"zerolinecolor\":\"black\",\"tickformat\":\".1f\",\"range\":[0,0.4]},\"yaxis\":{\"title\":{\"text\":\"\\u03bc/U (a.u.)\"},\"tickfont\":{\"size\":24},\"ticks\":\"inside\",\"showgrid\":true,\"zeroline\":true,\"linecolor\":\"black\",\"gridcolor\":\"gray\",\"zerolinecolor\":\"black\",\"tickformat\":\".2f\"},\"paper_bgcolor\":\"rgba(0,0,0,0)\",\"plot_bgcolor\":\"rgba(0,0,0,0)\",\"font\":{\"size\":26},\"height\":800,\"width\":1200},                        {\"responsive\": true}                    ).then(function(){\n",
       "                            \n",
       "var gd = document.getElementById('bb0cf084-5218-4cec-8919-a9da7ae1a472');\n",
       "var x = new MutationObserver(function (mutations, observer) {{\n",
       "        var display = window.getComputedStyle(gd).display;\n",
       "        if (!display || display === 'none') {{\n",
       "            console.log([gd, 'removed!']);\n",
       "            Plotly.purge(gd);\n",
       "            observer.disconnect();\n",
       "        }}\n",
       "}});\n",
       "\n",
       "// Listen for the removal of the full notebook cells\n",
       "var notebookContainer = gd.closest('#notebook-container');\n",
       "if (notebookContainer) {{\n",
       "    x.observe(notebookContainer, {childList: true});\n",
       "}}\n",
       "\n",
       "// Listen for the clearing of the current output cell\n",
       "var outputEl = gd.closest('.output');\n",
       "if (outputEl) {{\n",
       "    x.observe(outputEl, {childList: true});\n",
       "}}\n",
       "\n",
       "                        })                };                });            </script>        </div>"
      ]
     },
     "metadata": {},
     "output_type": "display_data"
    }
   ],
   "source": [
    "plot(ML1, ML2, ML3)"
   ]
  },
  {
   "cell_type": "code",
   "execution_count": null,
   "metadata": {},
   "outputs": [],
   "source": []
  }
 ],
 "metadata": {
  "kernelspec": {
   "display_name": "base",
   "language": "python",
   "name": "python3"
  },
  "language_info": {
   "codemirror_mode": {
    "name": "ipython",
    "version": 3
   },
   "file_extension": ".py",
   "mimetype": "text/x-python",
   "name": "python",
   "nbconvert_exporter": "python",
   "pygments_lexer": "ipython3",
   "version": "3.8.10"
  },
  "orig_nbformat": 4,
  "vscode": {
   "interpreter": {
    "hash": "4654e147d6fe676f31a9f86e2485eea716359f8709963986145f7c2d0088ba8c"
   }
  }
 },
 "nbformat": 4,
 "nbformat_minor": 2
}
