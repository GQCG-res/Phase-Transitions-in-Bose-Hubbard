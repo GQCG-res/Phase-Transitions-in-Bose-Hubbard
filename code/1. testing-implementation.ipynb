{
 "cells": [
  {
   "cell_type": "code",
   "execution_count": 1,
   "metadata": {},
   "outputs": [],
   "source": [
    "import prototypes.BoseHubbardModel as bh\n",
    "import numpy as np"
   ]
  },
  {
   "attachments": {},
   "cell_type": "markdown",
   "metadata": {},
   "source": [
    "## Testing basic functionalities of the code."
   ]
  },
  {
   "cell_type": "code",
   "execution_count": 2,
   "metadata": {},
   "outputs": [
    {
     "data": {
      "text/plain": [
       "array([[0., 1., 0., 0., 0., 1.],\n",
       "       [1., 0., 1., 0., 0., 0.],\n",
       "       [0., 1., 0., 1., 0., 0.],\n",
       "       [0., 0., 1., 0., 1., 0.],\n",
       "       [0., 0., 0., 1., 0., 1.],\n",
       "       [1., 0., 0., 0., 1., 0.]])"
      ]
     },
     "execution_count": 2,
     "metadata": {},
     "output_type": "execute_result"
    }
   ],
   "source": [
    "bh.AdjacencyMatrix(6).withPeriodicBoundaryConditions()"
   ]
  },
  {
   "cell_type": "code",
   "execution_count": 3,
   "metadata": {},
   "outputs": [
    {
     "data": {
      "text/plain": [
       "array([[0., 1., 0., 0., 0., 0.],\n",
       "       [1., 0., 1., 0., 0., 0.],\n",
       "       [0., 1., 0., 1., 0., 0.],\n",
       "       [0., 0., 1., 0., 1., 0.],\n",
       "       [0., 0., 0., 1., 0., 1.],\n",
       "       [0., 0., 0., 0., 1., 0.]])"
      ]
     },
     "execution_count": 3,
     "metadata": {},
     "output_type": "execute_result"
    }
   ],
   "source": [
    "bh.AdjacencyMatrix(6).withoutPeriodicBoundaryConditions()"
   ]
  },
  {
   "cell_type": "code",
   "execution_count": 4,
   "metadata": {},
   "outputs": [],
   "source": [
    "basis = bh.ONVBasis(3,3)"
   ]
  },
  {
   "cell_type": "code",
   "execution_count": 5,
   "metadata": {},
   "outputs": [
    {
     "data": {
      "text/plain": [
       "array([[3, 0, 0],\n",
       "       [2, 1, 0],\n",
       "       [2, 0, 1],\n",
       "       [1, 2, 0],\n",
       "       [1, 1, 1],\n",
       "       [1, 0, 2],\n",
       "       [0, 3, 0],\n",
       "       [0, 2, 1],\n",
       "       [0, 1, 2],\n",
       "       [0, 0, 3]])"
      ]
     },
     "execution_count": 5,
     "metadata": {},
     "output_type": "execute_result"
    }
   ],
   "source": [
    "basis.ONVs"
   ]
  },
  {
   "cell_type": "code",
   "execution_count": 6,
   "metadata": {},
   "outputs": [],
   "source": [
    "# 3 sites, 3 bosons\n",
    "# t=0.1, U=2\n",
    "# w_ii = 0\n",
    "# Periodic boundary conditions\n",
    "\n",
    "H = bh.BoseHubbardHamiltonian(3, 3, 0.1, 2, [0]*3, True)"
   ]
  },
  {
   "cell_type": "code",
   "execution_count": 7,
   "metadata": {},
   "outputs": [
    {
     "name": "stdout",
     "output_type": "stream",
     "text": [
      "  (0, 0)\t6.0\n",
      "  (0, 1)\t0.17320508075688773\n",
      "  (0, 2)\t0.17320508075688773\n",
      "  (1, 0)\t0.17320508075688773\n",
      "  (1, 1)\t2.0\n",
      "  (1, 2)\t0.1\n",
      "  (1, 3)\t0.2\n",
      "  (1, 4)\t0.14142135623730953\n",
      "  (2, 0)\t0.17320508075688773\n",
      "  (2, 1)\t0.1\n",
      "  (2, 2)\t2.0\n",
      "  (2, 4)\t0.14142135623730953\n",
      "  (2, 5)\t0.2\n",
      "  (3, 1)\t0.2\n",
      "  (3, 3)\t2.0\n",
      "  (3, 4)\t0.14142135623730953\n",
      "  (3, 6)\t0.17320508075688773\n",
      "  (3, 7)\t0.1\n",
      "  (4, 1)\t0.14142135623730953\n",
      "  (4, 2)\t0.14142135623730953\n",
      "  (4, 3)\t0.14142135623730953\n",
      "  (4, 5)\t0.14142135623730953\n",
      "  (4, 7)\t0.14142135623730953\n",
      "  (4, 8)\t0.14142135623730953\n",
      "  (5, 2)\t0.2\n",
      "  (5, 4)\t0.14142135623730953\n",
      "  (5, 5)\t2.0\n",
      "  (5, 8)\t0.1\n",
      "  (5, 9)\t0.17320508075688773\n",
      "  (6, 3)\t0.17320508075688773\n",
      "  (6, 6)\t6.0\n",
      "  (6, 7)\t0.17320508075688773\n",
      "  (7, 3)\t0.1\n",
      "  (7, 4)\t0.14142135623730953\n",
      "  (7, 6)\t0.17320508075688773\n",
      "  (7, 7)\t2.0\n",
      "  (7, 8)\t0.2\n",
      "  (8, 4)\t0.14142135623730953\n",
      "  (8, 5)\t0.1\n",
      "  (8, 7)\t0.2\n",
      "  (8, 8)\t2.0\n",
      "  (8, 9)\t0.17320508075688773\n",
      "  (9, 5)\t0.17320508075688773\n",
      "  (9, 8)\t0.17320508075688773\n",
      "  (9, 9)\t6.0\n"
     ]
    }
   ],
   "source": [
    "print(basis.evaluateHamiltonian(H))"
   ]
  },
  {
   "attachments": {},
   "cell_type": "markdown",
   "metadata": {},
   "source": [
    "## Solving the problem."
   ]
  },
  {
   "cell_type": "code",
   "execution_count": 8,
   "metadata": {},
   "outputs": [],
   "source": [
    "H_eval = basis.evaluateHamiltonian(H)\n",
    "GSParameters = bh.BoseHubbardSolver(H_eval).groundState()"
   ]
  },
  {
   "cell_type": "code",
   "execution_count": 9,
   "metadata": {},
   "outputs": [
    {
     "data": {
      "text/plain": [
       "-0.05125275715716526"
      ]
     },
     "execution_count": 9,
     "metadata": {},
     "output_type": "execute_result"
    }
   ],
   "source": [
    "GSParameters.energy.real"
   ]
  },
  {
   "cell_type": "code",
   "execution_count": 10,
   "metadata": {},
   "outputs": [
    {
     "data": {
      "text/plain": [
       "array([ 0.00342048, -0.05975045, -0.05975045, -0.05975045,  0.98921393,\n",
       "       -0.05975045,  0.00342048, -0.05975045, -0.05975045,  0.00342048])"
      ]
     },
     "execution_count": 10,
     "metadata": {},
     "output_type": "execute_result"
    }
   ],
   "source": [
    "GSParameters.C.real"
   ]
  },
  {
   "cell_type": "code",
   "execution_count": 11,
   "metadata": {},
   "outputs": [
    {
     "data": {
      "text/plain": [
       "array([[ 0.   , -0.   , -0.   , -0.   ,  0.003, -0.   ,  0.   , -0.   ,\n",
       "        -0.   ,  0.   ],\n",
       "       [-0.   ,  0.004,  0.004,  0.004, -0.059,  0.004, -0.   ,  0.004,\n",
       "         0.004, -0.   ],\n",
       "       [-0.   ,  0.004,  0.004,  0.004, -0.059,  0.004, -0.   ,  0.004,\n",
       "         0.004, -0.   ],\n",
       "       [-0.   ,  0.004,  0.004,  0.004, -0.059,  0.004, -0.   ,  0.004,\n",
       "         0.004, -0.   ],\n",
       "       [ 0.003, -0.059, -0.059, -0.059,  0.979, -0.059,  0.003, -0.059,\n",
       "        -0.059,  0.003],\n",
       "       [-0.   ,  0.004,  0.004,  0.004, -0.059,  0.004, -0.   ,  0.004,\n",
       "         0.004, -0.   ],\n",
       "       [ 0.   , -0.   , -0.   , -0.   ,  0.003, -0.   ,  0.   , -0.   ,\n",
       "        -0.   ,  0.   ],\n",
       "       [-0.   ,  0.004,  0.004,  0.004, -0.059,  0.004, -0.   ,  0.004,\n",
       "         0.004, -0.   ],\n",
       "       [-0.   ,  0.004,  0.004,  0.004, -0.059,  0.004, -0.   ,  0.004,\n",
       "         0.004, -0.   ],\n",
       "       [ 0.   , -0.   , -0.   , -0.   ,  0.003, -0.   ,  0.   , -0.   ,\n",
       "        -0.   ,  0.   ]])"
      ]
     },
     "execution_count": 11,
     "metadata": {},
     "output_type": "execute_result"
    }
   ],
   "source": [
    "np.set_printoptions(3, suppress=True)\n",
    "GSParameters.singleParticleDensityMatrix().real"
   ]
  },
  {
   "attachments": {},
   "cell_type": "markdown",
   "metadata": {},
   "source": [
    "## Check whether we can calculate the filling on a certain site."
   ]
  },
  {
   "cell_type": "code",
   "execution_count": 12,
   "metadata": {},
   "outputs": [],
   "source": [
    "# The dimension will be three by three since we have three sites.\n",
    "diagonal_op = np.zeros((3,3))\n",
    "diagonal_op[0,0] = 1\n",
    "op_eval = basis.evaluateDiagonalOperator(diagonal_op, sparse_rep=False)"
   ]
  },
  {
   "cell_type": "code",
   "execution_count": 13,
   "metadata": {},
   "outputs": [
    {
     "name": "stdout",
     "output_type": "stream",
     "text": [
      "[[3. 0. 0. 0. 0. 0. 0. 0. 0. 0.]\n",
      " [0. 2. 0. 0. 0. 0. 0. 0. 0. 0.]\n",
      " [0. 0. 2. 0. 0. 0. 0. 0. 0. 0.]\n",
      " [0. 0. 0. 1. 0. 0. 0. 0. 0. 0.]\n",
      " [0. 0. 0. 0. 1. 0. 0. 0. 0. 0.]\n",
      " [0. 0. 0. 0. 0. 1. 0. 0. 0. 0.]\n",
      " [0. 0. 0. 0. 0. 0. 0. 0. 0. 0.]\n",
      " [0. 0. 0. 0. 0. 0. 0. 0. 0. 0.]\n",
      " [0. 0. 0. 0. 0. 0. 0. 0. 0. 0.]\n",
      " [0. 0. 0. 0. 0. 0. 0. 0. 0. 0.]]\n"
     ]
    }
   ],
   "source": [
    "print(op_eval)"
   ]
  },
  {
   "cell_type": "code",
   "execution_count": 14,
   "metadata": {},
   "outputs": [
    {
     "data": {
      "text/plain": [
       "0.9999999999999998"
      ]
     },
     "execution_count": 14,
     "metadata": {},
     "output_type": "execute_result"
    }
   ],
   "source": [
    "GSParameters.calculateExpectationValue(op_eval).real"
   ]
  },
  {
   "attachments": {},
   "cell_type": "markdown",
   "metadata": {},
   "source": [
    "The sum of the occupations should equal the total number of bosons in the system. We can check this."
   ]
  },
  {
   "cell_type": "code",
   "execution_count": 15,
   "metadata": {},
   "outputs": [],
   "source": [
    "sum_of_n = 0\n",
    "for i in range(3):\n",
    "    diagonal_op_2 = np.zeros((3,3))\n",
    "    diagonal_op_2[i, i] = 1\n",
    "    op_eval_2 = basis.evaluateDiagonalOperator(diagonal_op_2, sparse_rep=False)\n",
    "    sum_of_n += GSParameters.calculateExpectationValue(op_eval_2).real"
   ]
  },
  {
   "cell_type": "code",
   "execution_count": 16,
   "metadata": {},
   "outputs": [
    {
     "data": {
      "text/plain": [
       "2.999999999999999"
      ]
     },
     "execution_count": 16,
     "metadata": {},
     "output_type": "execute_result"
    }
   ],
   "source": [
    "sum_of_n"
   ]
  }
 ],
 "metadata": {
  "kernelspec": {
   "display_name": "base",
   "language": "python",
   "name": "python3"
  },
  "language_info": {
   "codemirror_mode": {
    "name": "ipython",
    "version": 3
   },
   "file_extension": ".py",
   "mimetype": "text/x-python",
   "name": "python",
   "nbconvert_exporter": "python",
   "pygments_lexer": "ipython3",
   "version": "3.8.10"
  },
  "orig_nbformat": 4,
  "vscode": {
   "interpreter": {
    "hash": "4654e147d6fe676f31a9f86e2485eea716359f8709963986145f7c2d0088ba8c"
   }
  }
 },
 "nbformat": 4,
 "nbformat_minor": 2
}
