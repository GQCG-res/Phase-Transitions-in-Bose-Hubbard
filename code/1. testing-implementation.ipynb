{
 "cells": [
  {
   "cell_type": "code",
   "execution_count": 1,
   "metadata": {},
   "outputs": [],
   "source": [
    "import BoseHubbardModel as bh\n",
    "import numpy as np"
   ]
  },
  {
   "attachments": {},
   "cell_type": "markdown",
   "metadata": {},
   "source": [
    "## Testing basic functionalities of the code."
   ]
  },
  {
   "cell_type": "code",
   "execution_count": 2,
   "metadata": {},
   "outputs": [
    {
     "data": {
      "text/plain": [
       "array([[0., 1., 0., 0., 0., 1.],\n",
       "       [1., 0., 1., 0., 0., 0.],\n",
       "       [0., 1., 0., 1., 0., 0.],\n",
       "       [0., 0., 1., 0., 1., 0.],\n",
       "       [0., 0., 0., 1., 0., 1.],\n",
       "       [1., 0., 0., 0., 1., 0.]])"
      ]
     },
     "execution_count": 2,
     "metadata": {},
     "output_type": "execute_result"
    }
   ],
   "source": [
    "bh.AdjacencyMatrix(6).withPeriodicBoundaryConditions()"
   ]
  },
  {
   "cell_type": "code",
   "execution_count": 3,
   "metadata": {},
   "outputs": [
    {
     "data": {
      "text/plain": [
       "array([[0., 1., 0., 0., 0., 0.],\n",
       "       [1., 0., 1., 0., 0., 0.],\n",
       "       [0., 1., 0., 1., 0., 0.],\n",
       "       [0., 0., 1., 0., 1., 0.],\n",
       "       [0., 0., 0., 1., 0., 1.],\n",
       "       [0., 0., 0., 0., 1., 0.]])"
      ]
     },
     "execution_count": 3,
     "metadata": {},
     "output_type": "execute_result"
    }
   ],
   "source": [
    "bh.AdjacencyMatrix(6).withoutPeriodicBoundaryConditions()"
   ]
  },
  {
   "cell_type": "code",
   "execution_count": 4,
   "metadata": {},
   "outputs": [],
   "source": [
    "basis = bh.ONVBasis(3,3)"
   ]
  },
  {
   "cell_type": "code",
   "execution_count": 5,
   "metadata": {},
   "outputs": [
    {
     "data": {
      "text/plain": [
       "array([[3, 0, 0],\n",
       "       [2, 1, 0],\n",
       "       [2, 0, 1],\n",
       "       [1, 2, 0],\n",
       "       [1, 1, 1],\n",
       "       [1, 0, 2],\n",
       "       [0, 3, 0],\n",
       "       [0, 2, 1],\n",
       "       [0, 1, 2],\n",
       "       [0, 0, 3]])"
      ]
     },
     "execution_count": 5,
     "metadata": {},
     "output_type": "execute_result"
    }
   ],
   "source": [
    "basis.ONVs"
   ]
  },
  {
   "cell_type": "code",
   "execution_count": 6,
   "metadata": {},
   "outputs": [],
   "source": [
    "# 3 sites, 3 bosons\n",
    "# t=0.1, U=2\n",
    "# w_ii = 0\n",
    "# Periodic boundary conditions\n",
    "\n",
    "H = bh.BoseHubbardHamiltonian(3, 3, 0.1, 2, [0]*3, True)"
   ]
  },
  {
   "cell_type": "code",
   "execution_count": 7,
   "metadata": {},
   "outputs": [
    {
     "name": "stdout",
     "output_type": "stream",
     "text": [
      "  (0, 0)\t6.0\n",
      "  (0, 1)\t0.17320508075688773\n",
      "  (0, 2)\t0.17320508075688773\n",
      "  (1, 0)\t0.17320508075688773\n",
      "  (1, 1)\t2.0\n",
      "  (1, 2)\t0.1\n",
      "  (1, 3)\t0.2\n",
      "  (1, 4)\t0.14142135623730953\n",
      "  (2, 0)\t0.17320508075688773\n",
      "  (2, 1)\t0.1\n",
      "  (2, 2)\t2.0\n",
      "  (2, 4)\t0.14142135623730953\n",
      "  (2, 5)\t0.2\n",
      "  (3, 1)\t0.2\n",
      "  (3, 3)\t2.0\n",
      "  (3, 4)\t0.14142135623730953\n",
      "  (3, 6)\t0.17320508075688773\n",
      "  (3, 7)\t0.1\n",
      "  (4, 1)\t0.14142135623730953\n",
      "  (4, 2)\t0.14142135623730953\n",
      "  (4, 3)\t0.14142135623730953\n",
      "  (4, 5)\t0.14142135623730953\n",
      "  (4, 7)\t0.14142135623730953\n",
      "  (4, 8)\t0.14142135623730953\n",
      "  (5, 2)\t0.2\n",
      "  (5, 4)\t0.14142135623730953\n",
      "  (5, 5)\t2.0\n",
      "  (5, 8)\t0.1\n",
      "  (5, 9)\t0.17320508075688773\n",
      "  (6, 3)\t0.17320508075688773\n",
      "  (6, 6)\t6.0\n",
      "  (6, 7)\t0.17320508075688773\n",
      "  (7, 3)\t0.1\n",
      "  (7, 4)\t0.14142135623730953\n",
      "  (7, 6)\t0.17320508075688773\n",
      "  (7, 7)\t2.0\n",
      "  (7, 8)\t0.2\n",
      "  (8, 4)\t0.14142135623730953\n",
      "  (8, 5)\t0.1\n",
      "  (8, 7)\t0.2\n",
      "  (8, 8)\t2.0\n",
      "  (8, 9)\t0.17320508075688773\n",
      "  (9, 5)\t0.17320508075688773\n",
      "  (9, 8)\t0.17320508075688773\n",
      "  (9, 9)\t6.0\n"
     ]
    }
   ],
   "source": [
    "print(basis.evaluateHamiltonian(H))"
   ]
  },
  {
   "attachments": {},
   "cell_type": "markdown",
   "metadata": {},
   "source": [
    "## Solving the problem."
   ]
  },
  {
   "cell_type": "code",
   "execution_count": 8,
   "metadata": {},
   "outputs": [],
   "source": [
    "H_eval = basis.evaluateHamiltonian(H)\n",
    "GSParameters = bh.BoseHubbardSolver(H_eval).groundState()"
   ]
  },
  {
   "cell_type": "code",
   "execution_count": 9,
   "metadata": {},
   "outputs": [
    {
     "data": {
      "text/plain": [
       "2.1655578712636623"
      ]
     },
     "execution_count": 9,
     "metadata": {},
     "output_type": "execute_result"
    }
   ],
   "source": [
    "GSParameters.energy.real"
   ]
  },
  {
   "cell_type": "code",
   "execution_count": 10,
   "metadata": {},
   "outputs": [
    {
     "data": {
      "text/plain": [
       "array([-5.86742750e-02, -4.05149936e-03, -1.02033236e-03, -3.00097021e-02,\n",
       "        2.30935931e-14,  3.23561335e-02, -6.74618480e-01, -2.83046341e-02,\n",
       "        3.10300345e-02,  7.33292755e-01])"
      ]
     },
     "execution_count": 10,
     "metadata": {},
     "output_type": "execute_result"
    }
   ],
   "source": [
    "GSParameters.C.real"
   ]
  },
  {
   "cell_type": "code",
   "execution_count": 11,
   "metadata": {},
   "outputs": [
    {
     "data": {
      "text/plain": [
       "array([[ 0.003,  0.   ,  0.   ,  0.002, -0.   , -0.002,  0.04 ,  0.002,\n",
       "        -0.002, -0.043],\n",
       "       [ 0.   ,  0.   ,  0.   ,  0.   , -0.   , -0.   ,  0.003,  0.   ,\n",
       "        -0.   , -0.003],\n",
       "       [ 0.   ,  0.   ,  0.   ,  0.   , -0.   , -0.   ,  0.001,  0.   ,\n",
       "        -0.   , -0.001],\n",
       "       [ 0.002,  0.   ,  0.   ,  0.001, -0.   , -0.001,  0.02 ,  0.001,\n",
       "        -0.001, -0.022],\n",
       "       [-0.   , -0.   , -0.   , -0.   ,  0.   ,  0.   , -0.   , -0.   ,\n",
       "         0.   ,  0.   ],\n",
       "       [-0.002, -0.   , -0.   , -0.001,  0.   ,  0.001, -0.022, -0.001,\n",
       "         0.001,  0.024],\n",
       "       [ 0.04 ,  0.003,  0.001,  0.02 , -0.   , -0.022,  0.455,  0.019,\n",
       "        -0.021, -0.495],\n",
       "       [ 0.002,  0.   ,  0.   ,  0.001, -0.   , -0.001,  0.019,  0.001,\n",
       "        -0.001, -0.021],\n",
       "       [-0.002, -0.   , -0.   , -0.001,  0.   ,  0.001, -0.021, -0.001,\n",
       "         0.001,  0.023],\n",
       "       [-0.043, -0.003, -0.001, -0.022,  0.   ,  0.024, -0.495, -0.021,\n",
       "         0.023,  0.538]])"
      ]
     },
     "execution_count": 11,
     "metadata": {},
     "output_type": "execute_result"
    }
   ],
   "source": [
    "np.set_printoptions(3, suppress=True)\n",
    "GSParameters.singleParticleDensityMatrix().real"
   ]
  },
  {
   "attachments": {},
   "cell_type": "markdown",
   "metadata": {},
   "source": [
    "## Check whether we can calculate the filling on a certain site."
   ]
  },
  {
   "cell_type": "code",
   "execution_count": 15,
   "metadata": {},
   "outputs": [],
   "source": [
    "# The dimension will be three by three since we have three sites.\n",
    "diagonal_op = np.zeros((3,3))\n",
    "diagonal_op[0,0] = 1\n",
    "op_eval = basis.evaluateDiagonalOperator(diagonal_op, sparse_representation=False)"
   ]
  },
  {
   "cell_type": "code",
   "execution_count": 16,
   "metadata": {},
   "outputs": [
    {
     "name": "stdout",
     "output_type": "stream",
     "text": [
      "[[3. 0. 0. 0. 0. 0. 0. 0. 0. 0.]\n",
      " [0. 2. 0. 0. 0. 0. 0. 0. 0. 0.]\n",
      " [0. 0. 2. 0. 0. 0. 0. 0. 0. 0.]\n",
      " [0. 0. 0. 1. 0. 0. 0. 0. 0. 0.]\n",
      " [0. 0. 0. 0. 1. 0. 0. 0. 0. 0.]\n",
      " [0. 0. 0. 0. 0. 1. 0. 0. 0. 0.]\n",
      " [0. 0. 0. 0. 0. 0. 0. 0. 0. 0.]\n",
      " [0. 0. 0. 0. 0. 0. 0. 0. 0. 0.]\n",
      " [0. 0. 0. 0. 0. 0. 0. 0. 0. 0.]\n",
      " [0. 0. 0. 0. 0. 0. 0. 0. 0. 0.]]\n"
     ]
    }
   ],
   "source": [
    "print(op_eval)"
   ]
  },
  {
   "cell_type": "code",
   "execution_count": 18,
   "metadata": {},
   "outputs": [
    {
     "data": {
      "text/plain": [
       "0.012310424693417843"
      ]
     },
     "execution_count": 18,
     "metadata": {},
     "output_type": "execute_result"
    }
   ],
   "source": [
    "GSParameters.calculateExpectationValue(op_eval).real"
   ]
  },
  {
   "attachments": {},
   "cell_type": "markdown",
   "metadata": {},
   "source": [
    "The sum of the occupations should equal the total number of bosons in the system. We can check this."
   ]
  },
  {
   "cell_type": "code",
   "execution_count": 19,
   "metadata": {},
   "outputs": [],
   "source": [
    "sum_of_n = 0\n",
    "for i in range(3):\n",
    "    diagonal_op_2 = np.zeros((3,3))\n",
    "    diagonal_op_2[i, i] = 1\n",
    "    op_eval_2 = basis.evaluateDiagonalOperator(diagonal_op_2, sparse_representation=False)\n",
    "    sum_of_n += GSParameters.calculateExpectationValue(op_eval_2).real"
   ]
  },
  {
   "cell_type": "code",
   "execution_count": 20,
   "metadata": {},
   "outputs": [
    {
     "data": {
      "text/plain": [
       "3.000000000000001"
      ]
     },
     "execution_count": 20,
     "metadata": {},
     "output_type": "execute_result"
    }
   ],
   "source": [
    "sum_of_n"
   ]
  }
 ],
 "metadata": {
  "kernelspec": {
   "display_name": "base",
   "language": "python",
   "name": "python3"
  },
  "language_info": {
   "codemirror_mode": {
    "name": "ipython",
    "version": 3
   },
   "file_extension": ".py",
   "mimetype": "text/x-python",
   "name": "python",
   "nbconvert_exporter": "python",
   "pygments_lexer": "ipython3",
   "version": "3.8.10"
  },
  "orig_nbformat": 4
 },
 "nbformat": 4,
 "nbformat_minor": 2
}
